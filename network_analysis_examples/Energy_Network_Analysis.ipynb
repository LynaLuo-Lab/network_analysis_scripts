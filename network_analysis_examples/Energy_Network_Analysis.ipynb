{
 "cells": [
  {
   "cell_type": "code",
   "execution_count": 1,
   "metadata": {},
   "outputs": [
    {
     "data": {
      "text/html": [
       "\n",
       "    <div class=\"bk-root\">\n",
       "        <a href=\"https://bokeh.pydata.org\" target=\"_blank\" class=\"bk-logo bk-logo-small bk-logo-notebook\"></a>\n",
       "        <span id=\"1001\">Loading BokehJS ...</span>\n",
       "    </div>"
      ]
     },
     "metadata": {},
     "output_type": "display_data"
    },
    {
     "data": {
      "application/javascript": [
       "\n",
       "(function(root) {\n",
       "  function now() {\n",
       "    return new Date();\n",
       "  }\n",
       "\n",
       "  var force = true;\n",
       "\n",
       "  if (typeof root._bokeh_onload_callbacks === \"undefined\" || force === true) {\n",
       "    root._bokeh_onload_callbacks = [];\n",
       "    root._bokeh_is_loading = undefined;\n",
       "  }\n",
       "\n",
       "  var JS_MIME_TYPE = 'application/javascript';\n",
       "  var HTML_MIME_TYPE = 'text/html';\n",
       "  var EXEC_MIME_TYPE = 'application/vnd.bokehjs_exec.v0+json';\n",
       "  var CLASS_NAME = 'output_bokeh rendered_html';\n",
       "\n",
       "  /**\n",
       "   * Render data to the DOM node\n",
       "   */\n",
       "  function render(props, node) {\n",
       "    var script = document.createElement(\"script\");\n",
       "    node.appendChild(script);\n",
       "  }\n",
       "\n",
       "  /**\n",
       "   * Handle when an output is cleared or removed\n",
       "   */\n",
       "  function handleClearOutput(event, handle) {\n",
       "    var cell = handle.cell;\n",
       "\n",
       "    var id = cell.output_area._bokeh_element_id;\n",
       "    var server_id = cell.output_area._bokeh_server_id;\n",
       "    // Clean up Bokeh references\n",
       "    if (id != null && id in Bokeh.index) {\n",
       "      Bokeh.index[id].model.document.clear();\n",
       "      delete Bokeh.index[id];\n",
       "    }\n",
       "\n",
       "    if (server_id !== undefined) {\n",
       "      // Clean up Bokeh references\n",
       "      var cmd = \"from bokeh.io.state import curstate; print(curstate().uuid_to_server['\" + server_id + \"'].get_sessions()[0].document.roots[0]._id)\";\n",
       "      cell.notebook.kernel.execute(cmd, {\n",
       "        iopub: {\n",
       "          output: function(msg) {\n",
       "            var id = msg.content.text.trim();\n",
       "            if (id in Bokeh.index) {\n",
       "              Bokeh.index[id].model.document.clear();\n",
       "              delete Bokeh.index[id];\n",
       "            }\n",
       "          }\n",
       "        }\n",
       "      });\n",
       "      // Destroy server and session\n",
       "      var cmd = \"import bokeh.io.notebook as ion; ion.destroy_server('\" + server_id + \"')\";\n",
       "      cell.notebook.kernel.execute(cmd);\n",
       "    }\n",
       "  }\n",
       "\n",
       "  /**\n",
       "   * Handle when a new output is added\n",
       "   */\n",
       "  function handleAddOutput(event, handle) {\n",
       "    var output_area = handle.output_area;\n",
       "    var output = handle.output;\n",
       "\n",
       "    // limit handleAddOutput to display_data with EXEC_MIME_TYPE content only\n",
       "    if ((output.output_type != \"display_data\") || (!output.data.hasOwnProperty(EXEC_MIME_TYPE))) {\n",
       "      return\n",
       "    }\n",
       "\n",
       "    var toinsert = output_area.element.find(\".\" + CLASS_NAME.split(' ')[0]);\n",
       "\n",
       "    if (output.metadata[EXEC_MIME_TYPE][\"id\"] !== undefined) {\n",
       "      toinsert[toinsert.length - 1].firstChild.textContent = output.data[JS_MIME_TYPE];\n",
       "      // store reference to embed id on output_area\n",
       "      output_area._bokeh_element_id = output.metadata[EXEC_MIME_TYPE][\"id\"];\n",
       "    }\n",
       "    if (output.metadata[EXEC_MIME_TYPE][\"server_id\"] !== undefined) {\n",
       "      var bk_div = document.createElement(\"div\");\n",
       "      bk_div.innerHTML = output.data[HTML_MIME_TYPE];\n",
       "      var script_attrs = bk_div.children[0].attributes;\n",
       "      for (var i = 0; i < script_attrs.length; i++) {\n",
       "        toinsert[toinsert.length - 1].firstChild.setAttribute(script_attrs[i].name, script_attrs[i].value);\n",
       "      }\n",
       "      // store reference to server id on output_area\n",
       "      output_area._bokeh_server_id = output.metadata[EXEC_MIME_TYPE][\"server_id\"];\n",
       "    }\n",
       "  }\n",
       "\n",
       "  function register_renderer(events, OutputArea) {\n",
       "\n",
       "    function append_mime(data, metadata, element) {\n",
       "      // create a DOM node to render to\n",
       "      var toinsert = this.create_output_subarea(\n",
       "        metadata,\n",
       "        CLASS_NAME,\n",
       "        EXEC_MIME_TYPE\n",
       "      );\n",
       "      this.keyboard_manager.register_events(toinsert);\n",
       "      // Render to node\n",
       "      var props = {data: data, metadata: metadata[EXEC_MIME_TYPE]};\n",
       "      render(props, toinsert[toinsert.length - 1]);\n",
       "      element.append(toinsert);\n",
       "      return toinsert\n",
       "    }\n",
       "\n",
       "    /* Handle when an output is cleared or removed */\n",
       "    events.on('clear_output.CodeCell', handleClearOutput);\n",
       "    events.on('delete.Cell', handleClearOutput);\n",
       "\n",
       "    /* Handle when a new output is added */\n",
       "    events.on('output_added.OutputArea', handleAddOutput);\n",
       "\n",
       "    /**\n",
       "     * Register the mime type and append_mime function with output_area\n",
       "     */\n",
       "    OutputArea.prototype.register_mime_type(EXEC_MIME_TYPE, append_mime, {\n",
       "      /* Is output safe? */\n",
       "      safe: true,\n",
       "      /* Index of renderer in `output_area.display_order` */\n",
       "      index: 0\n",
       "    });\n",
       "  }\n",
       "\n",
       "  // register the mime type if in Jupyter Notebook environment and previously unregistered\n",
       "  if (root.Jupyter !== undefined) {\n",
       "    var events = require('base/js/events');\n",
       "    var OutputArea = require('notebook/js/outputarea').OutputArea;\n",
       "\n",
       "    if (OutputArea.prototype.mime_types().indexOf(EXEC_MIME_TYPE) == -1) {\n",
       "      register_renderer(events, OutputArea);\n",
       "    }\n",
       "  }\n",
       "\n",
       "  \n",
       "  if (typeof (root._bokeh_timeout) === \"undefined\" || force === true) {\n",
       "    root._bokeh_timeout = Date.now() + 5000;\n",
       "    root._bokeh_failed_load = false;\n",
       "  }\n",
       "\n",
       "  var NB_LOAD_WARNING = {'data': {'text/html':\n",
       "     \"<div style='background-color: #fdd'>\\n\"+\n",
       "     \"<p>\\n\"+\n",
       "     \"BokehJS does not appear to have successfully loaded. If loading BokehJS from CDN, this \\n\"+\n",
       "     \"may be due to a slow or bad network connection. Possible fixes:\\n\"+\n",
       "     \"</p>\\n\"+\n",
       "     \"<ul>\\n\"+\n",
       "     \"<li>re-rerun `output_notebook()` to attempt to load from CDN again, or</li>\\n\"+\n",
       "     \"<li>use INLINE resources instead, as so:</li>\\n\"+\n",
       "     \"</ul>\\n\"+\n",
       "     \"<code>\\n\"+\n",
       "     \"from bokeh.resources import INLINE\\n\"+\n",
       "     \"output_notebook(resources=INLINE)\\n\"+\n",
       "     \"</code>\\n\"+\n",
       "     \"</div>\"}};\n",
       "\n",
       "  function display_loaded() {\n",
       "    var el = document.getElementById(\"1001\");\n",
       "    if (el != null) {\n",
       "      el.textContent = \"BokehJS is loading...\";\n",
       "    }\n",
       "    if (root.Bokeh !== undefined) {\n",
       "      if (el != null) {\n",
       "        el.textContent = \"BokehJS \" + root.Bokeh.version + \" successfully loaded.\";\n",
       "      }\n",
       "    } else if (Date.now() < root._bokeh_timeout) {\n",
       "      setTimeout(display_loaded, 100)\n",
       "    }\n",
       "  }\n",
       "\n",
       "\n",
       "  function run_callbacks() {\n",
       "    try {\n",
       "      root._bokeh_onload_callbacks.forEach(function(callback) {\n",
       "        if (callback != null)\n",
       "          callback();\n",
       "      });\n",
       "    } finally {\n",
       "      delete root._bokeh_onload_callbacks\n",
       "    }\n",
       "    console.debug(\"Bokeh: all callbacks have finished\");\n",
       "  }\n",
       "\n",
       "  function load_libs(css_urls, js_urls, callback) {\n",
       "    if (css_urls == null) css_urls = [];\n",
       "    if (js_urls == null) js_urls = [];\n",
       "\n",
       "    root._bokeh_onload_callbacks.push(callback);\n",
       "    if (root._bokeh_is_loading > 0) {\n",
       "      console.debug(\"Bokeh: BokehJS is being loaded, scheduling callback at\", now());\n",
       "      return null;\n",
       "    }\n",
       "    if (js_urls == null || js_urls.length === 0) {\n",
       "      run_callbacks();\n",
       "      return null;\n",
       "    }\n",
       "    console.debug(\"Bokeh: BokehJS not loaded, scheduling load and callback at\", now());\n",
       "    root._bokeh_is_loading = css_urls.length + js_urls.length;\n",
       "\n",
       "    function on_load() {\n",
       "      root._bokeh_is_loading--;\n",
       "      if (root._bokeh_is_loading === 0) {\n",
       "        console.debug(\"Bokeh: all BokehJS libraries/stylesheets loaded\");\n",
       "        run_callbacks()\n",
       "      }\n",
       "    }\n",
       "\n",
       "    function on_error() {\n",
       "      console.error(\"failed to load \" + url);\n",
       "    }\n",
       "\n",
       "    for (var i = 0; i < css_urls.length; i++) {\n",
       "      var url = css_urls[i];\n",
       "      const element = document.createElement(\"link\");\n",
       "      element.onload = on_load;\n",
       "      element.onerror = on_error;\n",
       "      element.rel = \"stylesheet\";\n",
       "      element.type = \"text/css\";\n",
       "      element.href = url;\n",
       "      console.debug(\"Bokeh: injecting link tag for BokehJS stylesheet: \", url);\n",
       "      document.body.appendChild(element);\n",
       "    }\n",
       "\n",
       "    for (var i = 0; i < js_urls.length; i++) {\n",
       "      var url = js_urls[i];\n",
       "      var element = document.createElement('script');\n",
       "      element.onload = on_load;\n",
       "      element.onerror = on_error;\n",
       "      element.async = false;\n",
       "      element.src = url;\n",
       "      console.debug(\"Bokeh: injecting script tag for BokehJS library: \", url);\n",
       "      document.head.appendChild(element);\n",
       "    }\n",
       "  };var element = document.getElementById(\"1001\");\n",
       "  if (element == null) {\n",
       "    console.error(\"Bokeh: ERROR: autoload.js configured with elementid '1001' but no matching script tag was found. \")\n",
       "    return false;\n",
       "  }\n",
       "\n",
       "  function inject_raw_css(css) {\n",
       "    const element = document.createElement(\"style\");\n",
       "    element.appendChild(document.createTextNode(css));\n",
       "    document.body.appendChild(element);\n",
       "  }\n",
       "\n",
       "  var js_urls = [\"https://cdn.pydata.org/bokeh/release/bokeh-1.2.0.min.js\", \"https://cdn.pydata.org/bokeh/release/bokeh-widgets-1.2.0.min.js\", \"https://cdn.pydata.org/bokeh/release/bokeh-tables-1.2.0.min.js\", \"https://cdn.pydata.org/bokeh/release/bokeh-gl-1.2.0.min.js\"];\n",
       "  var css_urls = [\"https://cdn.pydata.org/bokeh/release/bokeh-1.2.0.min.css\", \"https://cdn.pydata.org/bokeh/release/bokeh-widgets-1.2.0.min.css\", \"https://cdn.pydata.org/bokeh/release/bokeh-tables-1.2.0.min.css\"];\n",
       "\n",
       "  var inline_js = [\n",
       "    function(Bokeh) {\n",
       "      Bokeh.set_log_level(\"info\");\n",
       "    },\n",
       "    \n",
       "    function(Bokeh) {\n",
       "      \n",
       "    },\n",
       "    function(Bokeh) {} // ensure no trailing comma for IE\n",
       "  ];\n",
       "\n",
       "  function run_inline_js() {\n",
       "    \n",
       "    if ((root.Bokeh !== undefined) || (force === true)) {\n",
       "      for (var i = 0; i < inline_js.length; i++) {\n",
       "        inline_js[i].call(root, root.Bokeh);\n",
       "      }if (force === true) {\n",
       "        display_loaded();\n",
       "      }} else if (Date.now() < root._bokeh_timeout) {\n",
       "      setTimeout(run_inline_js, 100);\n",
       "    } else if (!root._bokeh_failed_load) {\n",
       "      console.log(\"Bokeh: BokehJS failed to load within specified timeout.\");\n",
       "      root._bokeh_failed_load = true;\n",
       "    } else if (force !== true) {\n",
       "      var cell = $(document.getElementById(\"1001\")).parents('.cell').data().cell;\n",
       "      cell.output_area.append_execute_result(NB_LOAD_WARNING)\n",
       "    }\n",
       "\n",
       "  }\n",
       "\n",
       "  if (root._bokeh_is_loading === 0) {\n",
       "    console.debug(\"Bokeh: BokehJS loaded, going straight to plotting\");\n",
       "    run_inline_js();\n",
       "  } else {\n",
       "    load_libs(css_urls, js_urls, function() {\n",
       "      console.debug(\"Bokeh: BokehJS plotting callback run at\", now());\n",
       "      run_inline_js();\n",
       "    });\n",
       "  }\n",
       "}(window));"
      ],
      "application/vnd.bokehjs_load.v0+json": "\n(function(root) {\n  function now() {\n    return new Date();\n  }\n\n  var force = true;\n\n  if (typeof root._bokeh_onload_callbacks === \"undefined\" || force === true) {\n    root._bokeh_onload_callbacks = [];\n    root._bokeh_is_loading = undefined;\n  }\n\n  \n\n  \n  if (typeof (root._bokeh_timeout) === \"undefined\" || force === true) {\n    root._bokeh_timeout = Date.now() + 5000;\n    root._bokeh_failed_load = false;\n  }\n\n  var NB_LOAD_WARNING = {'data': {'text/html':\n     \"<div style='background-color: #fdd'>\\n\"+\n     \"<p>\\n\"+\n     \"BokehJS does not appear to have successfully loaded. If loading BokehJS from CDN, this \\n\"+\n     \"may be due to a slow or bad network connection. Possible fixes:\\n\"+\n     \"</p>\\n\"+\n     \"<ul>\\n\"+\n     \"<li>re-rerun `output_notebook()` to attempt to load from CDN again, or</li>\\n\"+\n     \"<li>use INLINE resources instead, as so:</li>\\n\"+\n     \"</ul>\\n\"+\n     \"<code>\\n\"+\n     \"from bokeh.resources import INLINE\\n\"+\n     \"output_notebook(resources=INLINE)\\n\"+\n     \"</code>\\n\"+\n     \"</div>\"}};\n\n  function display_loaded() {\n    var el = document.getElementById(\"1001\");\n    if (el != null) {\n      el.textContent = \"BokehJS is loading...\";\n    }\n    if (root.Bokeh !== undefined) {\n      if (el != null) {\n        el.textContent = \"BokehJS \" + root.Bokeh.version + \" successfully loaded.\";\n      }\n    } else if (Date.now() < root._bokeh_timeout) {\n      setTimeout(display_loaded, 100)\n    }\n  }\n\n\n  function run_callbacks() {\n    try {\n      root._bokeh_onload_callbacks.forEach(function(callback) {\n        if (callback != null)\n          callback();\n      });\n    } finally {\n      delete root._bokeh_onload_callbacks\n    }\n    console.debug(\"Bokeh: all callbacks have finished\");\n  }\n\n  function load_libs(css_urls, js_urls, callback) {\n    if (css_urls == null) css_urls = [];\n    if (js_urls == null) js_urls = [];\n\n    root._bokeh_onload_callbacks.push(callback);\n    if (root._bokeh_is_loading > 0) {\n      console.debug(\"Bokeh: BokehJS is being loaded, scheduling callback at\", now());\n      return null;\n    }\n    if (js_urls == null || js_urls.length === 0) {\n      run_callbacks();\n      return null;\n    }\n    console.debug(\"Bokeh: BokehJS not loaded, scheduling load and callback at\", now());\n    root._bokeh_is_loading = css_urls.length + js_urls.length;\n\n    function on_load() {\n      root._bokeh_is_loading--;\n      if (root._bokeh_is_loading === 0) {\n        console.debug(\"Bokeh: all BokehJS libraries/stylesheets loaded\");\n        run_callbacks()\n      }\n    }\n\n    function on_error() {\n      console.error(\"failed to load \" + url);\n    }\n\n    for (var i = 0; i < css_urls.length; i++) {\n      var url = css_urls[i];\n      const element = document.createElement(\"link\");\n      element.onload = on_load;\n      element.onerror = on_error;\n      element.rel = \"stylesheet\";\n      element.type = \"text/css\";\n      element.href = url;\n      console.debug(\"Bokeh: injecting link tag for BokehJS stylesheet: \", url);\n      document.body.appendChild(element);\n    }\n\n    for (var i = 0; i < js_urls.length; i++) {\n      var url = js_urls[i];\n      var element = document.createElement('script');\n      element.onload = on_load;\n      element.onerror = on_error;\n      element.async = false;\n      element.src = url;\n      console.debug(\"Bokeh: injecting script tag for BokehJS library: \", url);\n      document.head.appendChild(element);\n    }\n  };var element = document.getElementById(\"1001\");\n  if (element == null) {\n    console.error(\"Bokeh: ERROR: autoload.js configured with elementid '1001' but no matching script tag was found. \")\n    return false;\n  }\n\n  function inject_raw_css(css) {\n    const element = document.createElement(\"style\");\n    element.appendChild(document.createTextNode(css));\n    document.body.appendChild(element);\n  }\n\n  var js_urls = [\"https://cdn.pydata.org/bokeh/release/bokeh-1.2.0.min.js\", \"https://cdn.pydata.org/bokeh/release/bokeh-widgets-1.2.0.min.js\", \"https://cdn.pydata.org/bokeh/release/bokeh-tables-1.2.0.min.js\", \"https://cdn.pydata.org/bokeh/release/bokeh-gl-1.2.0.min.js\"];\n  var css_urls = [\"https://cdn.pydata.org/bokeh/release/bokeh-1.2.0.min.css\", \"https://cdn.pydata.org/bokeh/release/bokeh-widgets-1.2.0.min.css\", \"https://cdn.pydata.org/bokeh/release/bokeh-tables-1.2.0.min.css\"];\n\n  var inline_js = [\n    function(Bokeh) {\n      Bokeh.set_log_level(\"info\");\n    },\n    \n    function(Bokeh) {\n      \n    },\n    function(Bokeh) {} // ensure no trailing comma for IE\n  ];\n\n  function run_inline_js() {\n    \n    if ((root.Bokeh !== undefined) || (force === true)) {\n      for (var i = 0; i < inline_js.length; i++) {\n        inline_js[i].call(root, root.Bokeh);\n      }if (force === true) {\n        display_loaded();\n      }} else if (Date.now() < root._bokeh_timeout) {\n      setTimeout(run_inline_js, 100);\n    } else if (!root._bokeh_failed_load) {\n      console.log(\"Bokeh: BokehJS failed to load within specified timeout.\");\n      root._bokeh_failed_load = true;\n    } else if (force !== true) {\n      var cell = $(document.getElementById(\"1001\")).parents('.cell').data().cell;\n      cell.output_area.append_execute_result(NB_LOAD_WARNING)\n    }\n\n  }\n\n  if (root._bokeh_is_loading === 0) {\n    console.debug(\"Bokeh: BokehJS loaded, going straight to plotting\");\n    run_inline_js();\n  } else {\n    load_libs(css_urls, js_urls, function() {\n      console.debug(\"Bokeh: BokehJS plotting callback run at\", now());\n      run_inline_js();\n    });\n  }\n}(window));"
     },
     "metadata": {},
     "output_type": "display_data"
    }
   ],
   "source": [
    "import numpy as np\n",
    "import scipy as sp\n",
    "import pandas as pd\n",
    "import sklearn as skl\n",
    "import matplotlib\n",
    "from matplotlib import pyplot as plt\n",
    "import seaborn as sns\n",
    "import ipywidgets as widgets\n",
    "from ipywidgets import interact, interact_manual\n",
    "import gc\n",
    "import sys\n",
    "import os\n",
    "import tqdm\n",
    "import collections\n",
    "import re\n",
    "import correlation_data_utilities\n",
    "import networkx as nx\n",
    "from itertools import islice\n",
    "import copy"
   ]
  },
  {
   "cell_type": "code",
   "execution_count": 2,
   "metadata": {},
   "outputs": [],
   "source": [
    "energyDataDir='energy_topology'\n",
    "systems=['igps']\n",
    "variants=['apo','holo']\n",
    "\n",
    "summaryDataSuffix='decomp_summary.csv'\n",
    "seriesDataSuffix='energy_series.csv'\n",
    "\n",
    "nSkip_Summary=6\n",
    "headerRows_Summary=[0,1]\n",
    "\n",
    "subDirStr='{system}.{variant}'\n",
    "\n",
    "dataPrefixStr='{system}.prot_lig_{variant}.mmpbsa.pairwise_decomp'"
   ]
  },
  {
   "cell_type": "code",
   "execution_count": 3,
   "metadata": {},
   "outputs": [],
   "source": [
    "#lets have a look at the header of one energy summary file"
   ]
  },
  {
   "cell_type": "code",
   "execution_count": 4,
   "metadata": {},
   "outputs": [
    {
     "name": "stdout",
     "output_type": "stream",
     "text": [
      "| Run on Mon Dec 16 10:19:27 2019\r",
      "\r\n",
      "| GB non-polar solvation energies calculated with gbsa=2\r",
      "\r\n",
      "idecomp = 3: Pairwise decomp adding 1-4 interactions to Internal.\r",
      "\r\n",
      "Energy Decomposition Analysis (All units kcal/mol): Generalized Born Solvent\r",
      "\r\n",
      "\r",
      "\r\n",
      "Total Energy Decomposition:\r",
      "\r\n",
      "Resid 1,Resid 2,Internal,,,van der Waals,,,Electrostatic,,,Polar Solvation,,,Non-Polar Solv.,,,TOTAL,,\r",
      "\r\n",
      ",,Avg.,Std. Dev.,Std. Err. of Mean,Avg.,Std. Dev.,Std. Err. of Mean,Avg.,Std. Dev.,Std. Err. of Mean,Avg.,Std. Dev.,Std. Err. of Mean,Avg.,Std. Dev.,Std. Err. of Mean,Avg.,Std. Dev.,Std. Err. of Mean\r",
      "\r\n",
      "MET   1,MET   1,0.0,0.0,0.0,-1.2933701400000002,0.9251342763120824,0.13083374405767653,-32.44012333999999,2.6682536155287417,0.37734804509317926,-5.2319797999999995,0.8123447031090008,0.11488288964586942,6.139393759872,0.33484129272512325,0.04735370974144089,-32.826079520128,2.577042075047322,0.36444878533380265\r",
      "\r\n",
      "MET   1,LEU   2,0.0,0.0,0.0,-1.0325687999999997,0.28216406413057,0.03990402463077638,-24.83167977999999,0.6037675558939426,0.08538562660660694,-0.10418019999999999,0.2596658150315516,0.036722291730228375,-1.3184525891519998,0.2261814665491989,0.03198688975513136,-27.286881369152002,0.6239287709720915,0.08823685298635085\r",
      "\r\n"
     ]
    }
   ],
   "source": [
    "!head 'energy_topology/igps.apo/igps.prot_lig_apo.mmpbsa.pairwise_decomp.decomp_summary.csv'"
   ]
  },
  {
   "cell_type": "code",
   "execution_count": 5,
   "metadata": {},
   "outputs": [],
   "source": [
    "#The header for the energy summary is rather messy and needs to\n",
    "#be reformatted to work properly.\n",
    "def parse_summary_header(headerColumns):\n",
    "    summaryHead=[]\n",
    "\n",
    "    head1=''\n",
    "    for headEntry in headerColumns: #summaryData.columns:\n",
    "        if not ('Unnamed' in headEntry[0]):\n",
    "            head1=headEntry[0].replace(' ','_').replace('-','_').replace('.','')\n",
    "        if 'Unnamed' in headEntry[1]:\n",
    "            head2=''\n",
    "        else:\n",
    "            head2=headEntry[1].replace(' ','_').replace('-','_').replace('.','')\n",
    "        if head2=='':\n",
    "            summaryHead.append(head1)\n",
    "        else:\n",
    "            summaryHead.append('.'.join([head1,head2]))\n",
    "    summaryHead=np.array(summaryHead)\n",
    "    return summaryHead"
   ]
  },
  {
   "cell_type": "code",
   "execution_count": 6,
   "metadata": {},
   "outputs": [
    {
     "data": {
      "text/plain": [
       "array(['Resid_1', 'Resid_2', 'Internal.Avg', ..., 'TOTAL.Avg',\n",
       "       'TOTAL.Std_Dev', 'TOTAL.Std_Err_of_Mean'], dtype='<U31')"
      ]
     },
     "execution_count": 6,
     "metadata": {},
     "output_type": "execute_result"
    }
   ],
   "source": [
    "#lets test it and see if it worked.\n",
    "#this will also give us a list of columns so we can figure out which ones we need\n",
    "parse_summary_header(\n",
    "pd.read_csv(\n",
    "    'energy_topology/igps.apo/igps.prot_lig_apo.mmpbsa.pairwise_decomp.decomp_summary.csv',\n",
    "    skiprows=nSkip_Summary,\n",
    "    header=headerRows_Summary).columns\n",
    ")"
   ]
  },
  {
   "cell_type": "code",
   "execution_count": 7,
   "metadata": {},
   "outputs": [
    {
     "name": "stdout",
     "output_type": "stream",
     "text": [
      "--- --- ---\n",
      "- Loading, fileName: igps.prot_lig_apo.mmpbsa.pairwise_decomp.decomp_summary.csv\n",
      "filePath: energy_topology/igps.apo/igps.prot_lig_apo.mmpbsa.pairwise_decomp.decomp_summary.csv\n",
      "parsing column names, extracting interaction terms, formatting residue data columns -\n",
      "--- --- ---\n",
      "- Loading, fileName: igps.prot_lig_holo.mmpbsa.pairwise_decomp.decomp_summary.csv\n",
      "filePath: energy_topology/igps.holo/igps.prot_lig_holo.mmpbsa.pairwise_decomp.decomp_summary.csv\n",
      "parsing column names, extracting interaction terms, formatting residue data columns -\n",
      "--- --- ---\n",
      "Done\n"
     ]
    },
    {
     "data": {
      "text/html": [
       "<div>\n",
       "<style scoped>\n",
       "    .dataframe tbody tr th:only-of-type {\n",
       "        vertical-align: middle;\n",
       "    }\n",
       "\n",
       "    .dataframe tbody tr th {\n",
       "        vertical-align: top;\n",
       "    }\n",
       "\n",
       "    .dataframe thead th {\n",
       "        text-align: right;\n",
       "    }\n",
       "</style>\n",
       "<table border=\"1\" class=\"dataframe\">\n",
       "  <thead>\n",
       "    <tr style=\"text-align: right;\">\n",
       "      <th></th>\n",
       "      <th>System</th>\n",
       "      <th>Variant</th>\n",
       "      <th>ResNum_1</th>\n",
       "      <th>ResNum_2</th>\n",
       "      <th>ResName_1</th>\n",
       "      <th>ResName_2</th>\n",
       "      <th>E_Interact.Mean</th>\n",
       "      <th>E_Interact.Std_Err</th>\n",
       "    </tr>\n",
       "  </thead>\n",
       "  <tbody>\n",
       "    <tr>\n",
       "      <th>0</th>\n",
       "      <td>igps</td>\n",
       "      <td>apo</td>\n",
       "      <td>1</td>\n",
       "      <td>1</td>\n",
       "      <td>MET</td>\n",
       "      <td>MET</td>\n",
       "      <td>-32.826080</td>\n",
       "      <td>0.364449</td>\n",
       "    </tr>\n",
       "    <tr>\n",
       "      <th>1</th>\n",
       "      <td>igps</td>\n",
       "      <td>apo</td>\n",
       "      <td>1</td>\n",
       "      <td>2</td>\n",
       "      <td>MET</td>\n",
       "      <td>LEU</td>\n",
       "      <td>-27.286881</td>\n",
       "      <td>0.088237</td>\n",
       "    </tr>\n",
       "    <tr>\n",
       "      <th>2</th>\n",
       "      <td>igps</td>\n",
       "      <td>apo</td>\n",
       "      <td>1</td>\n",
       "      <td>3</td>\n",
       "      <td>MET</td>\n",
       "      <td>ALA</td>\n",
       "      <td>-0.529824</td>\n",
       "      <td>0.032005</td>\n",
       "    </tr>\n",
       "    <tr>\n",
       "      <th>3</th>\n",
       "      <td>igps</td>\n",
       "      <td>apo</td>\n",
       "      <td>1</td>\n",
       "      <td>4</td>\n",
       "      <td>MET</td>\n",
       "      <td>LYS</td>\n",
       "      <td>-0.196490</td>\n",
       "      <td>0.055238</td>\n",
       "    </tr>\n",
       "    <tr>\n",
       "      <th>4</th>\n",
       "      <td>igps</td>\n",
       "      <td>apo</td>\n",
       "      <td>1</td>\n",
       "      <td>5</td>\n",
       "      <td>MET</td>\n",
       "      <td>ARG</td>\n",
       "      <td>-0.019429</td>\n",
       "      <td>0.001980</td>\n",
       "    </tr>\n",
       "  </tbody>\n",
       "</table>\n",
       "</div>"
      ],
      "text/plain": [
       "  System Variant ResNum_1 ResNum_2 ResName_1 ResName_2  E_Interact.Mean  \\\n",
       "0   igps     apo        1        1       MET       MET       -32.826080   \n",
       "1   igps     apo        1        2       MET       LEU       -27.286881   \n",
       "2   igps     apo        1        3       MET       ALA        -0.529824   \n",
       "3   igps     apo        1        4       MET       LYS        -0.196490   \n",
       "4   igps     apo        1        5       MET       ARG        -0.019429   \n",
       "\n",
       "   E_Interact.Std_Err  \n",
       "0            0.364449  \n",
       "1            0.088237  \n",
       "2            0.032005  \n",
       "3            0.055238  \n",
       "4            0.001980  "
      ]
     },
     "execution_count": 7,
     "metadata": {},
     "output_type": "execute_result"
    }
   ],
   "source": [
    "outputFileName='joint_interaction_energy_summary.TOTAL.csv'\n",
    "outputFilePath='/'.join([energyDataDir,outputFileName])\n",
    "\n",
    "system=systems[0]\n",
    "variant=variants[0]\n",
    "summaryTables=[]\n",
    "for system in systems:\n",
    "    for variant in variants:\n",
    "        print('--- --- ---')\n",
    "        print('- Loading',end=', ')\n",
    "        strDict={\n",
    "            \"system\":system,\n",
    "            \"variant\":variant,}\n",
    "        inputPrefix=dataPrefixStr.format(**strDict)\n",
    "        summaryFileName='.'.join([inputPrefix,summaryDataSuffix])\n",
    "        print('fileName:',summaryFileName)\n",
    "        subDir=subDirStr.format(**strDict)\n",
    "        fileDir='/'.join([energyDataDir,subDir])\n",
    "        summaryFilePath='/'.join([fileDir,summaryFileName])\n",
    "        print('filePath:',summaryFilePath)\n",
    "        summaryData=pd.read_csv(summaryFilePath,skiprows=nSkip_Summary,header=headerRows_Summary)\n",
    "        print('parsing column names',end=', ')\n",
    "        summaryData.columns=parse_summary_header(summaryData.columns)\n",
    "        print('extracting interaction terms',end=', ')\n",
    "        summaryData['System']=system\n",
    "        summaryData['Variant']=variant\n",
    "        summaryData['E_Interact.Mean']=summaryData['TOTAL.Avg'] #(summaryData['van_der_Waals.Avg']+\\\n",
    "                                        # summaryData['Electrostatic.Avg'])\n",
    "        summaryData['E_Interact.Std_Err']=summaryData['TOTAL.Std_Err_of_Mean'] #(summaryData['van_der_Waals.Std_Err_of_Mean']+\\\n",
    "                                          # summaryData['Electrostatic.Std_Err_of_Mean']).abs()\n",
    "        summaryData=summaryData[np.concatenate([\n",
    "            ['System','Variant','Resid_1','Resid_2'],\n",
    "            [colName for colName in summaryData.columns if 'E_Interact' in colName]\n",
    "        ])]\n",
    "        print('formatting residue data columns',end=' -\\n')\n",
    "        summaryData['ResNum_1']=summaryData['Resid_1'].map(\n",
    "            lambda x: re.sub('[A-Za-z ]','',x))\n",
    "        summaryData['ResNum_2']=summaryData['Resid_2'].map(\n",
    "            lambda x: re.sub('[A-Za-z ]','',x))\n",
    "        summaryData['ResName_1']=summaryData['Resid_1'].map(\n",
    "            lambda x: re.sub('[0-9 ]','',x))\n",
    "        summaryData['ResName_2']=summaryData['Resid_2'].map(\n",
    "            lambda x: re.sub('[0-9 ]','',x))\n",
    "        summaryData=summaryData.drop(columns=['Resid_1','Resid_2'])\n",
    "        summaryData=summaryData[np.concatenate([\n",
    "            ['System','Variant'],\n",
    "            [colName for colName in summaryData.columns if 'Res' in colName],\n",
    "            [colName for colName in summaryData.columns if 'Interact' in colName]\n",
    "        ])]\n",
    "        summaryTables.append(summaryData.copy())\n",
    "print('--- --- ---')\n",
    "print('Done')\n",
    "summaryData=pd.concat(summaryTables)\n",
    "del(summaryTables)\n",
    "summaryData.to_csv(outputFilePath,index=False)\n",
    "summaryData.head()"
   ]
  },
  {
   "cell_type": "code",
   "execution_count": 3,
   "metadata": {},
   "outputs": [
    {
     "data": {
      "text/html": [
       "<div>\n",
       "<style scoped>\n",
       "    .dataframe tbody tr th:only-of-type {\n",
       "        vertical-align: middle;\n",
       "    }\n",
       "\n",
       "    .dataframe tbody tr th {\n",
       "        vertical-align: top;\n",
       "    }\n",
       "\n",
       "    .dataframe thead th {\n",
       "        text-align: right;\n",
       "    }\n",
       "</style>\n",
       "<table border=\"1\" class=\"dataframe\">\n",
       "  <thead>\n",
       "    <tr style=\"text-align: right;\">\n",
       "      <th></th>\n",
       "      <th>System</th>\n",
       "      <th>Variant</th>\n",
       "      <th>ResNum_1</th>\n",
       "      <th>ResNum_2</th>\n",
       "      <th>ResName_1</th>\n",
       "      <th>ResName_2</th>\n",
       "      <th>E_Interact.Mean</th>\n",
       "      <th>E_Interact.Std_Err</th>\n",
       "    </tr>\n",
       "  </thead>\n",
       "  <tbody>\n",
       "    <tr>\n",
       "      <th>0</th>\n",
       "      <td>igps</td>\n",
       "      <td>apo</td>\n",
       "      <td>1</td>\n",
       "      <td>1</td>\n",
       "      <td>MET</td>\n",
       "      <td>MET</td>\n",
       "      <td>-32.826080</td>\n",
       "      <td>0.364449</td>\n",
       "    </tr>\n",
       "    <tr>\n",
       "      <th>1</th>\n",
       "      <td>igps</td>\n",
       "      <td>apo</td>\n",
       "      <td>1</td>\n",
       "      <td>2</td>\n",
       "      <td>MET</td>\n",
       "      <td>LEU</td>\n",
       "      <td>-27.286881</td>\n",
       "      <td>0.088237</td>\n",
       "    </tr>\n",
       "    <tr>\n",
       "      <th>2</th>\n",
       "      <td>igps</td>\n",
       "      <td>apo</td>\n",
       "      <td>1</td>\n",
       "      <td>3</td>\n",
       "      <td>MET</td>\n",
       "      <td>ALA</td>\n",
       "      <td>-0.529824</td>\n",
       "      <td>0.032005</td>\n",
       "    </tr>\n",
       "    <tr>\n",
       "      <th>3</th>\n",
       "      <td>igps</td>\n",
       "      <td>apo</td>\n",
       "      <td>1</td>\n",
       "      <td>4</td>\n",
       "      <td>MET</td>\n",
       "      <td>LYS</td>\n",
       "      <td>-0.196490</td>\n",
       "      <td>0.055238</td>\n",
       "    </tr>\n",
       "    <tr>\n",
       "      <th>4</th>\n",
       "      <td>igps</td>\n",
       "      <td>apo</td>\n",
       "      <td>1</td>\n",
       "      <td>5</td>\n",
       "      <td>MET</td>\n",
       "      <td>ARG</td>\n",
       "      <td>-0.019429</td>\n",
       "      <td>0.001980</td>\n",
       "    </tr>\n",
       "  </tbody>\n",
       "</table>\n",
       "</div>"
      ],
      "text/plain": [
       "  System Variant  ResNum_1  ResNum_2 ResName_1 ResName_2  E_Interact.Mean  \\\n",
       "0   igps     apo         1         1       MET       MET       -32.826080   \n",
       "1   igps     apo         1         2       MET       LEU       -27.286881   \n",
       "2   igps     apo         1         3       MET       ALA        -0.529824   \n",
       "3   igps     apo         1         4       MET       LYS        -0.196490   \n",
       "4   igps     apo         1         5       MET       ARG        -0.019429   \n",
       "\n",
       "   E_Interact.Std_Err  \n",
       "0            0.364449  \n",
       "1            0.088237  \n",
       "2            0.032005  \n",
       "3            0.055238  \n",
       "4            0.001980  "
      ]
     },
     "execution_count": 3,
     "metadata": {},
     "output_type": "execute_result"
    }
   ],
   "source": [
    "energyDataDir='energy_topology'\n",
    "summaryFileName='joint_interaction_energy_summary.TOTAL.csv'\n",
    "summaryFilePath='/'.join([energyDataDir,summaryFileName])\n",
    "summaryData=pd.read_csv(summaryFilePath)\n",
    "summaryData.head()"
   ]
  },
  {
   "cell_type": "code",
   "execution_count": 9,
   "metadata": {},
   "outputs": [
    {
     "name": "stderr",
     "output_type": "stream",
     "text": [
      "  4%|▎         | 14654/412232 [00:00<00:05, 71570.15it/s]"
     ]
    },
    {
     "name": "stdout",
     "output_type": "stream",
     "text": [
      "Generating Grouping Column\n"
     ]
    },
    {
     "name": "stderr",
     "output_type": "stream",
     "text": [
      "100%|██████████| 412232/412232 [00:05<00:00, 79027.03it/s]\n"
     ]
    },
    {
     "name": "stdout",
     "output_type": "stream",
     "text": [
      "Computing Filter Values\n",
      "Significant Pairs: ['1_1' '1_2' '1_3' ... '454_424' '454_449' '454_450']\n"
     ]
    },
    {
     "data": {
      "text/html": [
       "<div>\n",
       "<style scoped>\n",
       "    .dataframe tbody tr th:only-of-type {\n",
       "        vertical-align: middle;\n",
       "    }\n",
       "\n",
       "    .dataframe tbody tr th {\n",
       "        vertical-align: top;\n",
       "    }\n",
       "\n",
       "    .dataframe thead th {\n",
       "        text-align: right;\n",
       "    }\n",
       "</style>\n",
       "<table border=\"1\" class=\"dataframe\">\n",
       "  <thead>\n",
       "    <tr style=\"text-align: right;\">\n",
       "      <th></th>\n",
       "      <th>System</th>\n",
       "      <th>Variant</th>\n",
       "      <th>ResNum_1</th>\n",
       "      <th>ResNum_2</th>\n",
       "      <th>ResName_1</th>\n",
       "      <th>ResName_2</th>\n",
       "      <th>E_Interact.Mean</th>\n",
       "      <th>E_Interact.Std_Err</th>\n",
       "    </tr>\n",
       "  </thead>\n",
       "  <tbody>\n",
       "    <tr>\n",
       "      <th>0</th>\n",
       "      <td>igps</td>\n",
       "      <td>apo</td>\n",
       "      <td>1</td>\n",
       "      <td>1</td>\n",
       "      <td>MET</td>\n",
       "      <td>MET</td>\n",
       "      <td>-32.826080</td>\n",
       "      <td>0.364449</td>\n",
       "    </tr>\n",
       "    <tr>\n",
       "      <th>1</th>\n",
       "      <td>igps</td>\n",
       "      <td>apo</td>\n",
       "      <td>1</td>\n",
       "      <td>2</td>\n",
       "      <td>MET</td>\n",
       "      <td>LEU</td>\n",
       "      <td>-27.286881</td>\n",
       "      <td>0.088237</td>\n",
       "    </tr>\n",
       "    <tr>\n",
       "      <th>2</th>\n",
       "      <td>igps</td>\n",
       "      <td>apo</td>\n",
       "      <td>1</td>\n",
       "      <td>3</td>\n",
       "      <td>MET</td>\n",
       "      <td>ALA</td>\n",
       "      <td>-0.529824</td>\n",
       "      <td>0.032005</td>\n",
       "    </tr>\n",
       "    <tr>\n",
       "      <th>3</th>\n",
       "      <td>igps</td>\n",
       "      <td>apo</td>\n",
       "      <td>1</td>\n",
       "      <td>4</td>\n",
       "      <td>MET</td>\n",
       "      <td>LYS</td>\n",
       "      <td>-0.196490</td>\n",
       "      <td>0.055238</td>\n",
       "    </tr>\n",
       "    <tr>\n",
       "      <th>246</th>\n",
       "      <td>igps</td>\n",
       "      <td>apo</td>\n",
       "      <td>1</td>\n",
       "      <td>247</td>\n",
       "      <td>MET</td>\n",
       "      <td>ASN</td>\n",
       "      <td>-1.124520</td>\n",
       "      <td>0.114242</td>\n",
       "    </tr>\n",
       "  </tbody>\n",
       "</table>\n",
       "</div>"
      ],
      "text/plain": [
       "    System Variant  ResNum_1  ResNum_2 ResName_1 ResName_2  E_Interact.Mean  \\\n",
       "0     igps     apo         1         1       MET       MET       -32.826080   \n",
       "1     igps     apo         1         2       MET       LEU       -27.286881   \n",
       "2     igps     apo         1         3       MET       ALA        -0.529824   \n",
       "3     igps     apo         1         4       MET       LYS        -0.196490   \n",
       "246   igps     apo         1       247       MET       ASN        -1.124520   \n",
       "\n",
       "     E_Interact.Std_Err  \n",
       "0              0.364449  \n",
       "1              0.088237  \n",
       "2              0.032005  \n",
       "3              0.055238  \n",
       "246            0.114242  "
      ]
     },
     "execution_count": 9,
     "metadata": {},
     "output_type": "execute_result"
    }
   ],
   "source": [
    "#Use a cutoff of .5 kb*T energy (note, energies from mmpbsa.py are in kcal/mol)\n",
    "#This is a somewhat arbitrary choice\n",
    "T_sim=300.15 #room temperature in Kelvins\n",
    "kb=.0019872041 #Boltzmann's constant in kcal/(mol*K)\n",
    "\n",
    "thermalEnergy=kb*T_sim\n",
    "cutoffEnergy=.5*thermalEnergy\n",
    "\n",
    "#now we want to group by residue pair and filter out any pairs for which\n",
    "#the absolute value of the interaction mean is not at least 1 standard error\n",
    "#above the cutoff in any of the systems.\n",
    "#Conversely if this holds for either system we will keep the pair for ALL systems\n",
    "#This will allow us to see how much the energy shifted in cases where one system\n",
    "#has an interaction and the other normally would not.\n",
    "\n",
    "tqdm.tqdm.pandas(tqdm.tqdm_notebook) #progress bar\n",
    "#compute a filter value column to speed filtering\n",
    "print(\"Generating Grouping Column\")\n",
    "summaryData['ResNumPair']=summaryData[\n",
    "        ['ResNum_1','ResNum_2']\n",
    "    ].progress_apply(lambda x: '_'.join(map(str,x)),axis=1)\n",
    "print(\"Computing Filter Values\")\n",
    "sig_pairs=summaryData['ResNumPair'][\n",
    "        (summaryData['E_Interact.Mean'].abs() - \\\n",
    "         summaryData['E_Interact.Std_Err']) > cutoffEnergy\n",
    "    ].unique()\n",
    "print('Significant Pairs:',sig_pairs)\n",
    "sigData=summaryData[summaryData['ResNumPair'].isin(sig_pairs)].drop(columns=['ResNumPair'])\n",
    "sigData.head()"
   ]
  },
  {
   "cell_type": "code",
   "execution_count": 10,
   "metadata": {},
   "outputs": [
    {
     "data": {
      "text/html": [
       "<div>\n",
       "<style scoped>\n",
       "    .dataframe tbody tr th:only-of-type {\n",
       "        vertical-align: middle;\n",
       "    }\n",
       "\n",
       "    .dataframe tbody tr th {\n",
       "        vertical-align: top;\n",
       "    }\n",
       "\n",
       "    .dataframe thead th {\n",
       "        text-align: right;\n",
       "    }\n",
       "</style>\n",
       "<table border=\"1\" class=\"dataframe\">\n",
       "  <thead>\n",
       "    <tr style=\"text-align: right;\">\n",
       "      <th></th>\n",
       "      <th>ResNum_1</th>\n",
       "      <th>ResNum_2</th>\n",
       "      <th>E_Interact.Mean</th>\n",
       "      <th>E_Interact.Std_Err</th>\n",
       "    </tr>\n",
       "  </thead>\n",
       "  <tbody>\n",
       "    <tr>\n",
       "      <th>count</th>\n",
       "      <td>11020.000000</td>\n",
       "      <td>11020.000000</td>\n",
       "      <td>11020.000000</td>\n",
       "      <td>11020.000000</td>\n",
       "    </tr>\n",
       "    <tr>\n",
       "      <th>mean</th>\n",
       "      <td>229.004719</td>\n",
       "      <td>229.080581</td>\n",
       "      <td>-6.451256</td>\n",
       "      <td>0.100097</td>\n",
       "    </tr>\n",
       "    <tr>\n",
       "      <th>std</th>\n",
       "      <td>132.931016</td>\n",
       "      <td>132.934968</td>\n",
       "      <td>19.861023</td>\n",
       "      <td>0.147566</td>\n",
       "    </tr>\n",
       "    <tr>\n",
       "      <th>min</th>\n",
       "      <td>1.000000</td>\n",
       "      <td>1.000000</td>\n",
       "      <td>-132.750401</td>\n",
       "      <td>0.000349</td>\n",
       "    </tr>\n",
       "    <tr>\n",
       "      <th>25%</th>\n",
       "      <td>113.000000</td>\n",
       "      <td>113.000000</td>\n",
       "      <td>-3.949984</td>\n",
       "      <td>0.031126</td>\n",
       "    </tr>\n",
       "    <tr>\n",
       "      <th>50%</th>\n",
       "      <td>228.000000</td>\n",
       "      <td>228.000000</td>\n",
       "      <td>-1.527002</td>\n",
       "      <td>0.055080</td>\n",
       "    </tr>\n",
       "    <tr>\n",
       "      <th>75%</th>\n",
       "      <td>344.000000</td>\n",
       "      <td>344.000000</td>\n",
       "      <td>-0.728070</td>\n",
       "      <td>0.093913</td>\n",
       "    </tr>\n",
       "    <tr>\n",
       "      <th>max</th>\n",
       "      <td>454.000000</td>\n",
       "      <td>454.000000</td>\n",
       "      <td>177.104258</td>\n",
       "      <td>1.808657</td>\n",
       "    </tr>\n",
       "  </tbody>\n",
       "</table>\n",
       "</div>"
      ],
      "text/plain": [
       "           ResNum_1      ResNum_2  E_Interact.Mean  E_Interact.Std_Err\n",
       "count  11020.000000  11020.000000     11020.000000        11020.000000\n",
       "mean     229.004719    229.080581        -6.451256            0.100097\n",
       "std      132.931016    132.934968        19.861023            0.147566\n",
       "min        1.000000      1.000000      -132.750401            0.000349\n",
       "25%      113.000000    113.000000        -3.949984            0.031126\n",
       "50%      228.000000    228.000000        -1.527002            0.055080\n",
       "75%      344.000000    344.000000        -0.728070            0.093913\n",
       "max      454.000000    454.000000       177.104258            1.808657"
      ]
     },
     "execution_count": 10,
     "metadata": {},
     "output_type": "execute_result"
    }
   ],
   "source": [
    "sigData.describe()"
   ]
  },
  {
   "cell_type": "code",
   "execution_count": 11,
   "metadata": {},
   "outputs": [],
   "source": [
    "outSigPairName='significant_pairs.TOTAL.txt'\n",
    "outSigPairPath='/'.join([energyDataDir,outSigPairName])\n",
    "np.savetxt(fname=outSigPairPath,X=sig_pairs,fmt='%s')\n",
    "outSigDataName='significant_interactions_summary.TOTAL.csv'\n",
    "outSigDataPath='/'.join([energyDataDir,outSigDataName])\n",
    "sigData.to_csv(outSigDataPath,index=False)"
   ]
  },
  {
   "cell_type": "code",
   "execution_count": 12,
   "metadata": {},
   "outputs": [
    {
     "name": "stdout",
     "output_type": "stream",
     "text": [
      "saving igps.apo.energy_topology_matrix.TOTAL.txt to disk\n",
      "saving igps.apo.energy_value_matrix.TOTAL.txt to disk\n",
      "saving igps.holo.energy_topology_matrix.TOTAL.txt to disk\n",
      "saving igps.holo.energy_value_matrix.TOTAL.txt to disk\n",
      "done\n"
     ]
    }
   ],
   "source": [
    "nRes=454\n",
    "outTopMatNameStr='{system}.{variant}.energy_topology_matrix.TOTAL.txt'\n",
    "outValMatNameStr='{system}.{variant}.energy_value_matrix.TOTAL.txt'\n",
    "headerComment='# cutoff energy = %.4e kcal/mol'%cutoffEnergy\n",
    "for groupName,groupData in sigData.groupby(['System','Variant']):\n",
    "    outMatName=outTopMatNameStr.format(\n",
    "        system=groupName[0],variant=groupName[1])\n",
    "    print('saving {matName} to disk'.format(matName=outMatName))\n",
    "    outMatPath='/'.join([energyDataDir,outMatName])\n",
    "    outMat=np.savetxt(\n",
    "        fname=outMatPath,\n",
    "        X=sp.sparse.coo_matrix(\n",
    "            (np.array(groupData['E_Interact.Mean'].abs()>0,dtype=float),\n",
    "             (np.array(groupData['ResNum_1'],dtype=int)-1,\n",
    "              np.array(groupData['ResNum_2'],dtype=int)-1)),\n",
    "            shape=(nRes,nRes)).todense())\n",
    "    \n",
    "    outMatName=outValMatNameStr.format(\n",
    "        system=groupName[0],variant=groupName[1])\n",
    "    print('saving {matName} to disk'.format(matName=outMatName))\n",
    "    outMatPath='/'.join([energyDataDir,outMatName])\n",
    "    outMat=np.savetxt(\n",
    "        fname=outMatPath,\n",
    "        X=sp.sparse.coo_matrix(\n",
    "            (np.array(groupData['E_Interact.Mean'].abs()>0,dtype=float),\n",
    "             (np.array(groupData['ResNum_1'],dtype=int)-1,\n",
    "              np.array(groupData['ResNum_2'],dtype=int)-1)),\n",
    "            shape=(nRes,nRes)).todense())\n",
    "print('done')"
   ]
  },
  {
   "cell_type": "markdown",
   "metadata": {},
   "source": [
    "# Visualize results\n",
    "\n",
    "Warning! This next section makes use of NGLVIEW which is not yet supported on Google Colab.\n",
    "\n",
    "Running cells that use NGLVIEW on google colab will cause the session to crash."
   ]
  },
  {
   "cell_type": "code",
   "execution_count": 4,
   "metadata": {},
   "outputs": [
    {
     "name": "stdout",
     "output_type": "stream",
     "text": [
      "loading topology matrices: igps.holo.energy_topology_matrix.TOTAL.txt, igps.apo.energy_topology_matrix.TOTAL.txt, \n",
      "loading value matrices: igps.holo.energy_value_matrix.TOTAL.txt, igps.apo.energy_value_matrix.TOTAL.txt, \n"
     ]
    }
   ],
   "source": [
    "matNameSearchStr='energy_topology_matrix.TOTAL'\n",
    "\n",
    "matDir='energy_topology'\n",
    "\n",
    "matFiles=[fileName for fileName in \\\n",
    "          os.listdir(matDir) if \\\n",
    "          matNameSearchStr in fileName]\n",
    "\n",
    "topologyMatrixDict={}\n",
    "\n",
    "print('loading topology matrices:',end=' ')\n",
    "for matFileName in matFiles:\n",
    "    print(matFileName,end=', ')\n",
    "    entryKey='.'.join(list(np.array(matFileName.split('.'))[:2]))\n",
    "    matFilePath='/'.join([matDir,matFileName])\n",
    "    topologyMatrixDict[entryKey]=np.loadtxt(matFilePath)\n",
    "print('')\n",
    "\n",
    "matNameSearchStr='energy_value_matrix.TOTAL'\n",
    "matFiles=[fileName for fileName in \\\n",
    "          os.listdir(matDir) if \\\n",
    "          matNameSearchStr in fileName]\n",
    "valueMatrixDict={}\n",
    "print('loading value matrices:',end=' ')\n",
    "for matFileName in matFiles:\n",
    "    print(matFileName,end=', ')\n",
    "    entryKey='.'.join(list(np.array(matFileName.split('.'))[:2]))\n",
    "    matFilePath='/'.join([matDir,matFileName])\n",
    "    valueMatrixDict[entryKey]=np.loadtxt(matFilePath)\n",
    "print('')"
   ]
  },
  {
   "cell_type": "code",
   "execution_count": 5,
   "metadata": {},
   "outputs": [
    {
     "name": "stdout",
     "output_type": "stream",
     "text": [
      "sig. pairs: [    11     12     13 ... 454424 454449 454450]\n",
      "Sig. Data:\n"
     ]
    },
    {
     "data": {
      "text/html": [
       "<div>\n",
       "<style scoped>\n",
       "    .dataframe tbody tr th:only-of-type {\n",
       "        vertical-align: middle;\n",
       "    }\n",
       "\n",
       "    .dataframe tbody tr th {\n",
       "        vertical-align: top;\n",
       "    }\n",
       "\n",
       "    .dataframe thead th {\n",
       "        text-align: right;\n",
       "    }\n",
       "</style>\n",
       "<table border=\"1\" class=\"dataframe\">\n",
       "  <thead>\n",
       "    <tr style=\"text-align: right;\">\n",
       "      <th></th>\n",
       "      <th>System</th>\n",
       "      <th>Variant</th>\n",
       "      <th>ResNum_1</th>\n",
       "      <th>ResNum_2</th>\n",
       "      <th>ResName_1</th>\n",
       "      <th>ResName_2</th>\n",
       "      <th>E_Interact.Mean</th>\n",
       "      <th>E_Interact.Std_Err</th>\n",
       "    </tr>\n",
       "  </thead>\n",
       "  <tbody>\n",
       "    <tr>\n",
       "      <th>0</th>\n",
       "      <td>igps</td>\n",
       "      <td>apo</td>\n",
       "      <td>1</td>\n",
       "      <td>1</td>\n",
       "      <td>MET</td>\n",
       "      <td>MET</td>\n",
       "      <td>-32.826080</td>\n",
       "      <td>0.364449</td>\n",
       "    </tr>\n",
       "    <tr>\n",
       "      <th>1</th>\n",
       "      <td>igps</td>\n",
       "      <td>apo</td>\n",
       "      <td>1</td>\n",
       "      <td>2</td>\n",
       "      <td>MET</td>\n",
       "      <td>LEU</td>\n",
       "      <td>-27.286881</td>\n",
       "      <td>0.088237</td>\n",
       "    </tr>\n",
       "    <tr>\n",
       "      <th>2</th>\n",
       "      <td>igps</td>\n",
       "      <td>apo</td>\n",
       "      <td>1</td>\n",
       "      <td>3</td>\n",
       "      <td>MET</td>\n",
       "      <td>ALA</td>\n",
       "      <td>-0.529824</td>\n",
       "      <td>0.032005</td>\n",
       "    </tr>\n",
       "    <tr>\n",
       "      <th>3</th>\n",
       "      <td>igps</td>\n",
       "      <td>apo</td>\n",
       "      <td>1</td>\n",
       "      <td>4</td>\n",
       "      <td>MET</td>\n",
       "      <td>LYS</td>\n",
       "      <td>-0.196490</td>\n",
       "      <td>0.055238</td>\n",
       "    </tr>\n",
       "    <tr>\n",
       "      <th>4</th>\n",
       "      <td>igps</td>\n",
       "      <td>apo</td>\n",
       "      <td>1</td>\n",
       "      <td>247</td>\n",
       "      <td>MET</td>\n",
       "      <td>ASN</td>\n",
       "      <td>-1.124520</td>\n",
       "      <td>0.114242</td>\n",
       "    </tr>\n",
       "  </tbody>\n",
       "</table>\n",
       "</div>"
      ],
      "text/plain": [
       "  System Variant  ResNum_1  ResNum_2 ResName_1 ResName_2  E_Interact.Mean  \\\n",
       "0   igps     apo         1         1       MET       MET       -32.826080   \n",
       "1   igps     apo         1         2       MET       LEU       -27.286881   \n",
       "2   igps     apo         1         3       MET       ALA        -0.529824   \n",
       "3   igps     apo         1         4       MET       LYS        -0.196490   \n",
       "4   igps     apo         1       247       MET       ASN        -1.124520   \n",
       "\n",
       "   E_Interact.Std_Err  \n",
       "0            0.364449  \n",
       "1            0.088237  \n",
       "2            0.032005  \n",
       "3            0.055238  \n",
       "4            0.114242  "
      ]
     },
     "execution_count": 5,
     "metadata": {},
     "output_type": "execute_result"
    }
   ],
   "source": [
    "\n",
    "sigPairName='significant_pairs.TOTAL.txt'\n",
    "sigPairPath='/'.join([energyDataDir,sigPairName])\n",
    "sigDataName='significant_interactions_summary.TOTAL.csv'\n",
    "sigDataPath='/'.join([energyDataDir,sigDataName])\n",
    "\n",
    "\n",
    "sig_pairs=np.loadtxt(sigPairPath,dtype=int)\n",
    "sigData=pd.read_csv(sigDataPath)\n",
    "\n",
    "print('sig. pairs:',sig_pairs)\n",
    "print('Sig. Data:')\n",
    "sigData.head()"
   ]
  },
  {
   "cell_type": "code",
   "execution_count": 6,
   "metadata": {},
   "outputs": [
    {
     "name": "stdout",
     "output_type": "stream",
     "text": [
      "igps.holo : (5510,) entries\n",
      "igps.apo : (5510,) entries\n"
     ]
    }
   ],
   "source": [
    "for matKey in valueMatrixDict:\n",
    "    print(matKey,\":\",\n",
    "          np.nonzero(valueMatrixDict[matKey])[0].shape,'entries')"
   ]
  },
  {
   "cell_type": "code",
   "execution_count": 15,
   "metadata": {},
   "outputs": [
    {
     "name": "stdout",
     "output_type": "stream",
     "text": [
      "Plotting igps.holo\n",
      "Plotting igps.apo\n"
     ]
    },
    {
     "data": {
      "image/png": "[encoded data removed]",
      "text/plain": [
       "<Figure size 864x792 with 8 Axes>"
      ]
     },
     "metadata": {
      "needs_background": "light"
     },
     "output_type": "display_data"
    }
   ],
   "source": [
    "nMats=len(topologyMatrixDict)\n",
    "fig,axs=plt.subplots(nMats,nMats)\n",
    "\n",
    "fig.set_figwidth(12)\n",
    "fig.set_figheight(11)\n",
    "\n",
    "for iMat,matName in enumerate(topologyMatrixDict.keys()):\n",
    "    print('Plotting {matName}'.format(matName=matName))\n",
    "    ax=axs[iMat,0]\n",
    "    sns.heatmap(topologyMatrixDict[matName],ax=ax)\n",
    "    ax.set_title(matName)\n",
    "    \n",
    "    ax=axs[iMat,1]\n",
    "    sns.heatmap(valueMatrixDict[matName],ax=ax)\n",
    "    ax.set_title(matName)\n",
    "    \n",
    "plt.tight_layout()"
   ]
  },
  {
   "cell_type": "code",
   "execution_count": 9,
   "metadata": {},
   "outputs": [],
   "source": [
    "import bokeh as bk\n",
    "import bokeh.plotting\n",
    "import bokeh.io\n",
    "from bokeh.io import show, output_notebook\n",
    "from bokeh.models import ColumnDataSource, Title, BasicTicker, ColorBar\n",
    "from bokeh.models.tools import HoverTool\n",
    "from bokeh.transform import linear_cmap, factor_cmap, LinearColorMapper\n",
    "import bokeh.palettes\n",
    "from bokeh.palettes import Spectral11"
   ]
  },
  {
   "cell_type": "code",
   "execution_count": 17,
   "metadata": {},
   "outputs": [
    {
     "name": "stdout",
     "output_type": "stream",
     "text": [
      "('igps', 'apo') (5510, 8)\n",
      "('igps', 'holo') (5510, 8)\n"
     ]
    },
    {
     "data": {
      "text/html": [
       "<div>\n",
       "<style scoped>\n",
       "    .dataframe tbody tr th:only-of-type {\n",
       "        vertical-align: middle;\n",
       "    }\n",
       "\n",
       "    .dataframe tbody tr th {\n",
       "        vertical-align: top;\n",
       "    }\n",
       "\n",
       "    .dataframe thead th {\n",
       "        text-align: right;\n",
       "    }\n",
       "</style>\n",
       "<table border=\"1\" class=\"dataframe\">\n",
       "  <thead>\n",
       "    <tr style=\"text-align: right;\">\n",
       "      <th></th>\n",
       "      <th>System</th>\n",
       "      <th>Variant</th>\n",
       "      <th>ResNum_1</th>\n",
       "      <th>ResNum_2</th>\n",
       "      <th>ResName_1</th>\n",
       "      <th>ResName_2</th>\n",
       "      <th>E_Interact.Mean</th>\n",
       "      <th>E_Interact.Std_Err</th>\n",
       "    </tr>\n",
       "  </thead>\n",
       "  <tbody>\n",
       "    <tr>\n",
       "      <th>0</th>\n",
       "      <td>igps</td>\n",
       "      <td>apo</td>\n",
       "      <td>1</td>\n",
       "      <td>1</td>\n",
       "      <td>MET</td>\n",
       "      <td>MET</td>\n",
       "      <td>-32.826080</td>\n",
       "      <td>0.364449</td>\n",
       "    </tr>\n",
       "    <tr>\n",
       "      <th>1</th>\n",
       "      <td>igps</td>\n",
       "      <td>apo</td>\n",
       "      <td>1</td>\n",
       "      <td>2</td>\n",
       "      <td>MET</td>\n",
       "      <td>LEU</td>\n",
       "      <td>-27.286881</td>\n",
       "      <td>0.088237</td>\n",
       "    </tr>\n",
       "    <tr>\n",
       "      <th>2</th>\n",
       "      <td>igps</td>\n",
       "      <td>apo</td>\n",
       "      <td>1</td>\n",
       "      <td>3</td>\n",
       "      <td>MET</td>\n",
       "      <td>ALA</td>\n",
       "      <td>-0.529824</td>\n",
       "      <td>0.032005</td>\n",
       "    </tr>\n",
       "    <tr>\n",
       "      <th>3</th>\n",
       "      <td>igps</td>\n",
       "      <td>apo</td>\n",
       "      <td>1</td>\n",
       "      <td>4</td>\n",
       "      <td>MET</td>\n",
       "      <td>LYS</td>\n",
       "      <td>-0.196490</td>\n",
       "      <td>0.055238</td>\n",
       "    </tr>\n",
       "    <tr>\n",
       "      <th>4</th>\n",
       "      <td>igps</td>\n",
       "      <td>apo</td>\n",
       "      <td>1</td>\n",
       "      <td>247</td>\n",
       "      <td>MET</td>\n",
       "      <td>ASN</td>\n",
       "      <td>-1.124520</td>\n",
       "      <td>0.114242</td>\n",
       "    </tr>\n",
       "  </tbody>\n",
       "</table>\n",
       "</div>"
      ],
      "text/plain": [
       "  System Variant  ResNum_1  ResNum_2 ResName_1 ResName_2  E_Interact.Mean  \\\n",
       "0   igps     apo         1         1       MET       MET       -32.826080   \n",
       "1   igps     apo         1         2       MET       LEU       -27.286881   \n",
       "2   igps     apo         1         3       MET       ALA        -0.529824   \n",
       "3   igps     apo         1         4       MET       LYS        -0.196490   \n",
       "4   igps     apo         1       247       MET       ASN        -1.124520   \n",
       "\n",
       "   E_Interact.Std_Err  \n",
       "0            0.364449  \n",
       "1            0.088237  \n",
       "2            0.032005  \n",
       "3            0.055238  \n",
       "4            0.114242  "
      ]
     },
     "execution_count": 17,
     "metadata": {},
     "output_type": "execute_result"
    }
   ],
   "source": [
    "nRes=454\n",
    "for matGroup in sigData.groupby(['System','Variant']):\n",
    "    print(matGroup[0],matGroup[1].shape)\n",
    "    \n",
    "sigData.head()"
   ]
  },
  {
   "cell_type": "code",
   "execution_count": 24,
   "metadata": {},
   "outputs": [
    {
     "data": {
      "application/vnd.jupyter.widget-view+json": {
       "model_id": "040e27877a2949d0b2c500b3274cc877",
       "version_major": 2,
       "version_minor": 0
      },
      "text/plain": [
       "interactive(children=(Dropdown(description='system', options=('igps',), value='igps'), Dropdown(description='v…"
      ]
     },
     "metadata": {},
     "output_type": "display_data"
    }
   ],
   "source": [
    "@interact_manual\n",
    "def plot_mat(\n",
    "    system=sigData.System.unique(),\n",
    "    variant=sigData.Variant.unique(),\n",
    "    magCut=widgets.FloatSlider(min=.01,max=100.,step=.01,value=2.0,\n",
    "                               description='Energy_Cut')):\n",
    "    \n",
    "    colorMap=np.flip(sns.color_palette(\"plasma\", n_colors=256).as_hex())\n",
    "    \n",
    "    plotData=sigData[\n",
    "        (sigData.System==system) & \\\n",
    "        (sigData.Variant==variant) & \\\n",
    "        ((sigData.ResNum_1 - sigData.ResNum_2).abs() > 0) &\n",
    "        ((sigData['E_Interact.Mean'].abs()-sigData['E_Interact.Std_Err'])>magCut)]\n",
    "    \n",
    "    eMin=plotData['E_Interact.Mean'].min()\n",
    "    eMax=plotData['E_Interact.Mean'].max()\n",
    "    cNorm=matplotlib.colors.Normalize(eMin,eMax,clip=True)\n",
    "    \n",
    "    plotData['ColorWeight']=plotData['E_Interact.Mean'] #.map(lambda x: cNorm(x)) #.map(np.log10)\n",
    "    \n",
    "    #tempCmat=sp.sparse.coo_matrix((\n",
    "    #    plotData['ColorWeight'],\n",
    "    #    (plotData.ResNum_1,plotData.ResNum_2)),shape=454,454)\n",
    "    #tempCmap=matplotlib.cm.get_cmap('Spectral',11)\n",
    "    \n",
    "    #drawEdgeColorBar(tempCmat,maskInds=nzInds,\n",
    "    #             cmap=tempCmap,label='E_Interaction.Mean (kcal/mol)',\n",
    "    #             cNorm=cNorm,\n",
    "    #             orientation='horizontal')\n",
    "    \n",
    "    p=bk.plotting.figure(\n",
    "        plot_width=640,plot_height=640,\n",
    "        #text_font_size='14pt',\n",
    "        title=\"{matName} Interaction Energy Heat Map\".format(\n",
    "            matName='.'.join([\n",
    "                system,variant])))\n",
    "    \n",
    "    p.add_layout(Title(text=\"minimum energy magnitude:{cutVal:.2f} (kcal/mol)\".format(\n",
    "        cutVal=magCut)),'above')\n",
    "    \n",
    "    p.xaxis.major_label_text_font_size=\"14pt\"\n",
    "    p.yaxis.major_label_text_font_size=\"14pt\"\n",
    "    \n",
    "    print(\"Nedges=\",len(plotData))\n",
    "    src=ColumnDataSource(plotData)\n",
    "    print (src.data.keys())\n",
    "    print ('min energy: ',plotData['ColorWeight'].min())\n",
    "    print ('max energy: ',plotData['ColorWeight'].max())\n",
    "    mapper=linear_cmap(field_name='ColorWeight',\n",
    "                       palette=colorMap,\n",
    "                       low=plotData['ColorWeight'].min(),\n",
    "                       high=plotData['ColorWeight'].max(),\n",
    "                      )\n",
    "    \n",
    "    cbMapper=LinearColorMapper(palette=colorMap,\n",
    "                               low=plotData['ColorWeight'].min(),\n",
    "                               high=plotData['ColorWeight'].max(),)\n",
    "    color_bar = ColorBar(color_mapper=cbMapper, ticker= BasicTicker(),\n",
    "                     location=(0,0))\n",
    "\n",
    "    p.add_layout(color_bar, 'right')\n",
    "\n",
    "    p.rect(source=src,width=1,height=1, x='ResNum_1',y='ResNum_2',\n",
    "             fill_color=mapper,color=mapper)\n",
    "\n",
    "    \n",
    "    \n",
    "    hover=HoverTool()\n",
    "    hover.tooltips=[\n",
    "        (colName,\"@{\"+\"{colName}\".format(colName=colName)+\"}\")\n",
    "        for colName in src.data.keys()\n",
    "    ]\n",
    "    print(hover.tooltips)\n",
    "    p.add_tools(hover)\n",
    "\n",
    "    output_notebook()\n",
    "    show(p)"
   ]
  },
  {
   "cell_type": "code",
   "execution_count": 25,
   "metadata": {},
   "outputs": [
    {
     "data": {
      "application/vnd.jupyter.widget-view+json": {
       "model_id": "b8ce6e7f295e4eccae1db3fd6d2fe232",
       "version_major": 2,
       "version_minor": 0
      },
      "text/plain": [
       "interactive(children=(IntSlider(value=1, description='deltaResNum', max=10), FloatSlider(value=1.0, descriptio…"
      ]
     },
     "metadata": {},
     "output_type": "display_data"
    }
   ],
   "source": [
    "@interact_manual\n",
    "def plot_mat(\n",
    "    #system=sigData.System.unique(),\n",
    "    #variant=sigData.Variant.unique(),\n",
    "    deltaResNum=widgets.IntSlider(min=0,max=10,step=1,value=1),\n",
    "    binWidth=widgets.FloatSlider(min=.1,max=10,step=.1,value=1),\n",
    "    density=[True,False],\n",
    "    useEbound=[True,False],eBound=widgets.FloatSlider(min=10,max=100,step=1.0,value=50)):\n",
    "    \n",
    "    p=bk.plotting.figure(\n",
    "        plot_width=480,plot_height=480,\n",
    "        #text_font_size='14pt',\n",
    "        title=\"Interaction Energy Histogram\")\n",
    "    \n",
    "    p.add_layout(Title(text=\"bin width = {bw:.1f} kT's\".format(\n",
    "        bw=binWidth)),'above')\n",
    "    \n",
    "    p.xaxis.major_label_text_font_size=\"14pt\"\n",
    "    p.yaxis.major_label_text_font_size=\"14pt\"\n",
    "    \n",
    "    plotFrames=[]\n",
    "    \n",
    "    for system in sigData['System'].unique():\n",
    "        for variant in sigData['Variant'].unique():\n",
    "            entryKey='.'.join([system,variant])\n",
    "            print('binning {Name}'.format(Name=entryKey))\n",
    "            tempData=sigData[\n",
    "                (sigData.System==system) & \\\n",
    "                (sigData.Variant==variant) & \\\n",
    "                ((sigData.ResNum_1-sigData.ResNum_2).abs()>=deltaResNum)]['E_Interact.Mean']\n",
    "            print(\"Nedges=\",len(tempData))\n",
    "            if useEbound:\n",
    "                binSet=np.concatenate([[-np.inf],\n",
    "                                       np.arange(-eBound,eBound,binWidth),\n",
    "                                       [np.inf]])\n",
    "            else:\n",
    "                binSet=np.arange(tempData.min(),tempData.max(),binWidth)\n",
    "            hist,edges=np.histogram(tempData,\n",
    "                                    bins=binSet,\n",
    "                                    density=density)\n",
    "\n",
    "            if useEbound:\n",
    "                edges=np.concatenate([\n",
    "                    [edges[1]-binWidth],\n",
    "                    edges[1:-1],\n",
    "                    [edges[-2]+binWidth]])\n",
    "\n",
    "            plotFrames.append(\n",
    "                pd.DataFrame({\n",
    "                    'leftEdge':edges[:-1],\n",
    "                    'rightEdge':edges[1:],\n",
    "                    'HistVal':hist,\n",
    "                    'Name':entryKey\n",
    "                }))\n",
    "            \n",
    "    \n",
    "    plotData=pd.concat(plotFrames)\n",
    "    \n",
    "    src=ColumnDataSource(plotData)\n",
    "\n",
    "    Names=plotData.Name.unique()\n",
    "    \n",
    "    p.quad(source=src,top='HistVal',bottom=0,left='leftEdge',right='rightEdge',\n",
    "           fill_color=factor_cmap('Name',palette=bk.palettes.Spectral11,factors=Names),\n",
    "           color=factor_cmap('Name',palette=bk.palettes.Spectral11,factors=Names),\n",
    "           alpha=.33)\n",
    "\n",
    "    hover=HoverTool()\n",
    "    toolTips=[\n",
    "        (colName,\"@{\"+\"{colName}\".format(colName=colName)+\"}\")\n",
    "        for colName in src.data.keys()\n",
    "    ]\n",
    "    toolTips.append(('(x,y)','($x,$y)'))\n",
    "    hover.tooltips=toolTips\n",
    "    print(hover.tooltips)\n",
    "    p.add_tools(hover)\n",
    "\n",
    "    output_notebook()\n",
    "    show(p)"
   ]
  },
  {
   "cell_type": "code",
   "execution_count": 36,
   "metadata": {},
   "outputs": [],
   "source": [
    "import nglview as nv\n",
    "import pytraj as pt\n",
    "\n",
    "def drawProtNetEdge(protStruc,resID1,resID2,ngViewOb,\n",
    "                    frame=0,edgeColor=[.5,.5,.5],radius=1,\n",
    "                    *shapeArgs,**shapeKwargs):\n",
    "    crd1=pt.center_of_mass(protStruc,':%g@CA'%resID1)[frame]\n",
    "    crd2=pt.center_of_mass(protStruc,':%g@CA'%resID2)[frame]\n",
    "    \n",
    "    \n",
    "    resname1=protStruc.topology.residue(resID1-1).name\n",
    "    resid1=protStruc.topology.residue(resID1-1).original_resid\n",
    "    \n",
    "    resname2=protStruc.topology.residue(resID2-1).name\n",
    "    resid2=protStruc.topology.residue(resID2-1).original_resid\n",
    "    edgeLabel='%s.%g-%s.%g (%g-%g)'%(\n",
    "        resname1,resid1,resname2,resid2,\n",
    "        resID1-1,resID2-2)\n",
    "    \n",
    "    return ngViewOb.shape.add_cylinder(\n",
    "        list(crd1),list(crd2),edgeColor,radius,\n",
    "        edgeLabel,\n",
    "        *shapeArgs,**shapeKwargs)\n",
    "\n",
    "def getCorrNetEdgeColors(valMat,maskInds=None,\n",
    "                         cmap=matplotlib.cm.get_cmap('viridis',1024),\n",
    "                         cNorm=None,\n",
    "                         baseColor=[0.,0.,0.]):\n",
    "    if maskInds is None:\n",
    "        nzInds=np.nonzero(np.isfinite(valMat))\n",
    "    else:\n",
    "        nzInds=maskInds\n",
    "    \n",
    "    if cNorm is None:\n",
    "        vMin=np.min(valMat[nzInds])\n",
    "        vMax=np.max(valMat[nzInds])\n",
    "        norm=matplotlib.colors.Normalize(vmin=vMin,vmax=vMax)\n",
    "    else:\n",
    "        norm=cNorm\n",
    "    \n",
    "    tempCarray=tempCmap(norm(valMat[nzInds]).data)\n",
    "    edgeColors=np.zeros((valMat.shape[0],valMat.shape[1],3))\n",
    "    for ii in np.arange(3):\n",
    "        edgeColors[:,:,ii]=baseColor[ii]\n",
    "        edgeColors[:,:,ii][nzInds]=tempCarray[:,ii]\n",
    "    return(edgeColors)\n",
    "\n",
    "def drawEdgeColorBar(valMat,maskInds=None,\n",
    "                     cmap=matplotlib.cm.get_cmap('viridis',1024),\n",
    "                     cNorm=None,\n",
    "                     ax=None,\n",
    "                     label='Edge Color Scale',\n",
    "                     orientation='horizontal',\n",
    "                     verbose=False):\n",
    "    if maskInds is None:\n",
    "        nzInds=np.nonzero(np.isfinite(valMat))\n",
    "    else:\n",
    "        nzInds=maskInds\n",
    "    \n",
    "    tempCarray=tempCmap(valMat[nzInds])\n",
    "    if verbose:\n",
    "        print('vMin:',vMin,'vMax:',vMax)\n",
    "    \n",
    "    if cNorm is None:\n",
    "        vMin=np.min(valMat[nzInds])\n",
    "        vMax=np.max(valMat[nzInds])\n",
    "        norm=matplotlib.colors.Normalize(vmin=vMin,vmax=vMax)\n",
    "    else:\n",
    "        norm=cNorm\n",
    "    \n",
    "    if ax is None:\n",
    "        if orientation=='horizontal':\n",
    "            fig = plt.figure(figsize=(16, 4))\n",
    "            ax1 = fig.add_axes([0.3, 0.80, 0.4, 0.15])\n",
    "        else:\n",
    "            fig = plt.figure(figsize=(4, 16))\n",
    "            ax1 = fig.add_axes([0.3, 0.10, 0.15, 0.4])\n",
    "    else:\n",
    "        ax1=ax\n",
    "    cb1 = matplotlib.colorbar.ColorbarBase(ax1, cmap=tempCmap,\n",
    "                                    norm=norm,\n",
    "                                    orientation=orientation)\n",
    "    cb1.set_label(label)\n",
    "    plt.show()\n",
    "\n",
    "def getCorrNetEdgeRadii(valMat,maskInds=None,\n",
    "                        eMin=.0625,eMax=.75):\n",
    "    if maskInds is None:\n",
    "        nzInds=np.isfinite(valMat)\n",
    "    else:\n",
    "        nzInds=maskInds\n",
    "        \n",
    "    radiiMat=np.zeros(plotMat.shape)\n",
    "    radiiMat[nzInds]=np.log(np.abs(np.array(plotMat)[nzInds]))\n",
    "    rMin=np.min(radiiMat[nzInds])\n",
    "    rMax=np.max(radiiMat[nzInds])\n",
    "    rLinFun=lambda x: (x-rMin)/(rMax-rMin)\n",
    "    rMap=lambda x:(eMax-eMin)*rLinFun(x)+eMin\n",
    "    radiiMat[nzInds]=rMap(np.array(radiiMat[nzInds]))\n",
    "    return(radiiMat)\n",
    "\n",
    "def drawProtCorrMat(protStruc,corrMat,ngViewOb,\n",
    "                    frame=0,colorsArray=None,radiiMat=None,\n",
    "                    undirected=True):\n",
    "    nzInds=np.nonzero(corrMat)\n",
    "    edgeList=[]\n",
    "    if not (radiiMat is None):\n",
    "        radMat=radiiMat\n",
    "    else:\n",
    "        radMat=(np.abs(corrMat)>0)*.25\n",
    "    if undirected:\n",
    "        indArray=np.array([[ind[0],ind[1]] \\\n",
    "                            for ind in np.array([nzInds[0],nzInds[1]]).T \\\n",
    "                            if ind[0]<ind[1]])\n",
    "    else:\n",
    "        indArray=np.array([nzInds[0],nzInds[1]]).T\n",
    "    for nzInd in indArray:\n",
    "        if not (colorsArray is None):\n",
    "            colorParm={'edgeColor':list(colorsArray[nzInd[0],nzInd[1],:])}\n",
    "        else:\n",
    "            colorParm={}\n",
    "        edgeList.append(drawProtNetEdge(\n",
    "            protStruc,nzInd[0]+1,nzInd[1]+1,\n",
    "            ngViewOb,frame,radius=radMat[nzInd[0],nzInd[1]],\n",
    "            **colorParm))\n",
    "    return edgeList"
   ]
  },
  {
   "cell_type": "code",
   "execution_count": 39,
   "metadata": {},
   "outputs": [
    {
     "name": "stdout",
     "output_type": "stream",
     "text": [
      "loading igps.apo\n",
      "loading igps.holo\n",
      "{'igps.apo': pytraj.Trajectory, 1 frames: \n",
      "Size: 0.000161 (GB)\n",
      "<Topology: 7225 atoms, 456 residues, 4 mols, PBC with box type = ortho>\n",
      "           , 'igps.holo': pytraj.Trajectory, 1 frames: \n",
      "Size: 0.000163 (GB)\n",
      "<Topology: 7281 atoms, 455 residues, 3 mols, PBC with box type = ortho>\n",
      "           }\n"
     ]
    }
   ],
   "source": [
    "import pytraj as pt\n",
    "strucDataDir='energy_topology'\n",
    "systems=['igps']\n",
    "variants=['apo','holo']\n",
    "\n",
    "strucFileNameStr=\"{system}.prot_lig_{variant}.pdb\"\n",
    "\n",
    "subDirStr='{system}.{variant}'\n",
    "\n",
    "strucDict={}\n",
    "for system in systems:\n",
    "    for variant in variants:\n",
    "        subDir=subDirStr.format(system=system,variant=variant)\n",
    "        strucFileName=strucFileNameStr.format(system=system,variant=variant)\n",
    "        strucFilePath='/'.join([strucDataDir,subDir,strucFileName])\n",
    "        strucKey=subDir\n",
    "        print(\"loading\",strucKey)\n",
    "        strucDict[strucKey]=pt.load(strucFilePath)\n",
    "print(strucDict)"
   ]
  },
  {
   "cell_type": "code",
   "execution_count": 37,
   "metadata": {},
   "outputs": [
    {
     "name": "stdout",
     "output_type": "stream",
     "text": [
      "Nedges= 1994\n"
     ]
    }
   ],
   "source": [
    "system='igps'\n",
    "variant='apo'\n",
    "nRes=454\n",
    "Tsim=310.15\n",
    "kb=0.0019872041\n",
    "magCut=kb*Tsim*1.0\n",
    "seqDelta=0\n",
    "#filter out desired interaction energy edges based\n",
    "#for the given system based upon energy and\n",
    "#sequence delta cutoffs\n",
    "matData=sigData[\n",
    "    (sigData['System']==system) & \\\n",
    "    (sigData['Variant']==variant) & \\\n",
    "    ((sigData['ResNum_1']-sigData['ResNum_2'])<seqDelta) &\n",
    "    ((sigData['E_Interact.Mean'].abs() - sigData['E_Interact.Std_Err']) > magCut)]\n",
    "tempMat=sp.sparse.coo_matrix(\n",
    "    (matData['E_Interact.Mean'],\n",
    "     (matData['ResNum_1']-1,matData['ResNum_2']-1)))\n",
    "plotMat=np.abs(tempMat.todense())\n",
    "\n",
    "print(\"Nedges=\",len(np.nonzero(tempMat)[0]))\n",
    "\n",
    "nzInds=np.nonzero(plotMat)\n",
    "\n",
    "#Create a color map for edges based on log(abs(E_Interact.Mean))\n",
    "tempCmap=matplotlib.cm.get_cmap('Spectral',2048)\n",
    "tempCmat=np.array((tempMat.todense()))\n",
    "vMin=np.min(tempCmat)\n",
    "vCenter=0\n",
    "vMax=np.max(tempCmat)\n",
    "cNorm=matplotlib.colors.DivergingNorm(vmin=vMin,vcenter=vCenter,vmax=vMax)\n",
    "#tempCmat[nzInds]=np.log(tempCmat[nzInds])\n",
    "edgeColors=getCorrNetEdgeColors(tempCmat,maskInds=nzInds,cmap=tempCmap,\n",
    "                                cNorm=cNorm)\n",
    "\n",
    "#Compute widths for edges based on lob(abs(E_Interact.Mean))\n",
    "#rMin and rMax set minimum and maximum edgewidths\n",
    "#edgwidth will then interpolate linearly between those two\n",
    "#bounds.\n",
    "eMin=.125\n",
    "eMax=0.625\n",
    "radiiMat=getCorrNetEdgeRadii(plotMat,maskInds=nzInds,eMin=eMin,eMax=eMax)"
   ]
  },
  {
   "cell_type": "code",
   "execution_count": 38,
   "metadata": {},
   "outputs": [
    {
     "data": {
      "image/png": "[encoded data removed]",
      "text/plain": [
       "<Figure size 432x288 with 1 Axes>"
      ]
     },
     "metadata": {
      "needs_background": "light"
     },
     "output_type": "display_data"
    },
    {
     "data": {
      "image/png": "[encoded data removed]",
      "text/plain": [
       "<Figure size 432x288 with 1 Axes>"
      ]
     },
     "metadata": {
      "needs_background": "light"
     },
     "output_type": "display_data"
    },
    {
     "data": {
      "image/png": "[encoded data removed]",
      "text/plain": [
       "<Figure size 432x288 with 1 Axes>"
      ]
     },
     "metadata": {
      "needs_background": "light"
     },
     "output_type": "display_data"
    },
    {
     "data": {
      "image/png": "[encoded data removed]",
      "text/plain": [
       "<Figure size 432x288 with 1 Axes>"
      ]
     },
     "metadata": {
      "needs_background": "light"
     },
     "output_type": "display_data"
    }
   ],
   "source": [
    "#Plot distribution histograms for edge widths and edge color rgb values\n",
    "sns.distplot(radiiMat[np.nonzero(radiiMat)].flatten(),\n",
    "             kde=False)\n",
    "plt.title('Edge Width distribution')\n",
    "plt.show()\n",
    "\n",
    "clist=['red','green','blue']\n",
    "for ii in np.arange(3):\n",
    "    sns.distplot(edgeColors[:,:,ii][np.nonzero(edgeColors[:,:,ii])].flatten(),\n",
    "                 kde=False,color=clist[ii])\n",
    "plt.title('Edge rgb color value distribution')\n",
    "plt.show()\n",
    "\n",
    "sortArr=np.argsort(tempCmat[np.nonzero(tempCmat)])\n",
    "sortedInds=np.array(list(zip(nzInds[0],nzInds[1])))[sortArr]\n",
    "sortedNzInds=(sortedInds[:,0],sortedInds[:,1])\n",
    "\n",
    "clist=['red','green','blue']\n",
    "for ii in np.arange(3):\n",
    "    plt.plot(edgeColors[:,:,ii][sortedNzInds],c=clist[ii])\n",
    "plt.title('Value Sorted Edge rgb color values')\n",
    "plt.show()\n",
    "\n",
    "plt.plot(tempCmat[sortedNzInds])\n",
    "plt.title('Sorted Interaction_Energy.Mean')\n",
    "plt.show()"
   ]
  },
  {
   "cell_type": "code",
   "execution_count": 39,
   "metadata": {
    "scrolled": false
   },
   "outputs": [
    {
     "data": {
      "image/png": "[encoded data removed]",
      "text/plain": [
       "<Figure size 1152x288 with 1 Axes>"
      ]
     },
     "metadata": {
      "needs_background": "light"
     },
     "output_type": "display_data"
    },
    {
     "data": {
      "application/vnd.jupyter.widget-view+json": {
       "model_id": "3e01cf9d2f694536ba0ea77953f487d6",
       "version_major": 2,
       "version_minor": 0
      },
      "text/plain": [
       "NGLWidget()"
      ]
     },
     "metadata": {},
     "output_type": "display_data"
    }
   ],
   "source": [
    "from IPython.display import display, HTML\n",
    "\n",
    "CSS = \"\"\"\n",
    ".output {\n",
    "    display: flex;\n",
    "    align-items: center;\n",
    "    text-align: center;\n",
    "}\n",
    "\"\"\"\n",
    "\n",
    "HTML('<style>{}</style>'.format(CSS))\n",
    "\n",
    "#Draw a color bar for the edge coloring,\n",
    "#(nglview does not seem to support this yet)\n",
    "drawEdgeColorBar(tempCmat,maskInds=nzInds,\n",
    "                 cmap=tempCmap,label='E_Interaction.Mean (kcal/mol)',\n",
    "                 cNorm=cNorm,\n",
    "                 orientation='horizontal')\n",
    "\n",
    "#Render the filtered interaction network using nglview with\n",
    "#the edge width and colormaps generated above\n",
    "struc=strucDict[list(strucDict.keys())[0]]\n",
    "view=nv.show_pytraj(struc)\n",
    "view.clear_representations()\n",
    "view.add_representation('cartoon',alpha=.5)\n",
    "drawProtCorrMat(protStruc=struc,corrMat=plotMat,ngViewOb=view,\n",
    "                    frame=0,colorsArray=edgeColors,radiiMat=radiiMat,\n",
    "                    undirected=True)\n",
    "view"
   ]
  },
  {
   "cell_type": "code",
   "execution_count": 26,
   "metadata": {},
   "outputs": [
    {
     "name": "stdout",
     "output_type": "stream",
     "text": [
      "<LEU49, 19 atoms>\n",
      "<GLU432, 15 atoms>\n"
     ]
    }
   ],
   "source": [
    "#In order to apply current flow betweenness methods, we need one or more source\n",
    "#and target residues.\n",
    "#For IGPS, two well known interaction residues are LEU50 (Allosteric Ligand biniding pocket)\n",
    "#and GLU 180 (active site residue)\n",
    "#Our structure here has 2 chains, the first is the allosteric region and the\n",
    "#second contains the active site.\n",
    "#The allosteric region is 253 residues long... and numbering in python starts at 0\n",
    "#so our two residues of interest are 50-1 = 49\n",
    "#and 253+180-1=432\n",
    "#So residues 49 and 432 will serve as the source and target residues repsectively\n",
    "struc=strucDict[list(strucDict.keys())[0]]\n",
    "print (struc.topology.residue(50-1))\n",
    "print (struc.topology.residue(253+180-1))\n",
    "sourceSet=[49]\n",
    "targetSet=[432]"
   ]
  },
  {
   "cell_type": "code",
   "execution_count": 104,
   "metadata": {},
   "outputs": [],
   "source": [
    "def converge_subopt_paths_betweenness(inputNetwork,source,target,weight='weight',\n",
    "                                      maxPaths=100,tolerance=1e-6,\n",
    "                                      giveAlphas=False,verbose=False):\n",
    "    '''Take additional paths between a source / target pair until the betweenness\n",
    "       centrality of nodes within those paths computed over the attained suboptimal paths\n",
    "       converges to a given tolerance.\n",
    "       the convergence critera 'alpha' is computed as:\n",
    "       alpha = (sum(current path node usage counts) / (number of paths + sum(all path node usage counts))\n",
    "       the function will return a list of all generated paths. If the \"giveAlphas\" option is\n",
    "       turned on, it will also return a list of the alpha after each iteration (path generated)\n",
    "       this is useful for comparing convergence over different weighting schemes.\n",
    "       if the \"verbose\" option is turned on, the alpha after each iteration will be printed\n",
    "       to standard out as calculation proceeds.'''\n",
    "    nNodes=len(inputNetwork.nodes())\n",
    "    pathGenerator=nx.shortest_simple_paths(inputNetwork, source, target, weight=weight)\n",
    "    nodeCounts=np.zeros(nNodes)\n",
    "    pathList=[]\n",
    "    alphas=[]\n",
    "    newPath=next(pathGenerator)\n",
    "    pathList.append(copy.deepcopy(newPath))\n",
    "    pathCounts=np.unique(newPath,return_counts=True)\n",
    "    tempCounts=np.zeros(nNodes)\n",
    "    tempCounts[pathCounts[0]]=pathCounts[1]\n",
    "    nPaths=1\n",
    "    alpha=np.sum(tempCounts)/np.sum(nodeCounts+tempCounts)/nPaths*1.\n",
    "    alphas.append(alpha)\n",
    "    if verbose:\n",
    "            print(\"%.3e\"%alpha,end=\", \")\n",
    "    while (alpha>tolerance) & (nPaths<maxPaths):\n",
    "        nodeCounts+=tempCounts\n",
    "        \n",
    "        newPath=next(pathGenerator)\n",
    "        pathList.append(copy.deepcopy(newPath))\n",
    "        pathCounts=np.unique(newPath,return_counts=True)\n",
    "        tempCounts=np.zeros(nNodes)\n",
    "        tempCounts[pathCounts[0]]=pathCounts[1]\n",
    "        nPaths+=1\n",
    "        alpha=np.sum(tempCounts)/np.sum(nodeCounts+tempCounts)/nPaths*1.0\n",
    "        alphas.append(alpha)\n",
    "        if verbose:\n",
    "            print(\"%.3e\"%alpha,end=\", \")\n",
    "    if alpha>tolerance:\n",
    "        print(\"Maximum number of paths reached before converging betweenness score\")\n",
    "        print(\"Last relative count delta: %.3e\"%alpha)\n",
    "    if giveAlphas:\n",
    "        return((pathList,alphas))\n",
    "    else:\n",
    "        return(pathList)\n",
    "\n",
    "def calculatePathLength(pathGraph,path,weight='weight'):\n",
    "    return(np.sum([pathGraph.edges()[(edge[0],edge[1])][weight] \\\n",
    "                   for edge in zip(path[:-1],path[1:])]))"
   ]
  },
  {
   "cell_type": "code",
   "execution_count": 93,
   "metadata": {},
   "outputs": [],
   "source": [
    "system='igps'\n",
    "variant='apo'\n",
    "nRes=454\n",
    "Tsim=310.15\n",
    "kb=0.0019872041\n",
    "magCut=kb*Tsim*1.0\n",
    "seqDelta=0\n",
    "#filter out desired interaction energy edges based\n",
    "#for the given system based upon energy and\n",
    "#sequence delta cutoffs\n",
    "matData=sigData[\n",
    "    (sigData['System']==system) & \\\n",
    "    (sigData['Variant']==variant) & \\\n",
    "    ((sigData['ResNum_1']-sigData['ResNum_2'])<seqDelta) &\n",
    "    ((sigData['E_Interact.Mean'].abs() - sigData['E_Interact.Std_Err']) > magCut)]\n",
    "tempMat=sp.sparse.coo_matrix(\n",
    "    (matData['E_Interact.Mean'],\n",
    "     (matData['ResNum_1']-1,matData['ResNum_2']-1)),\n",
    "    shape=(454,454))\n",
    "wMat=tempMat.todense()\n",
    "nzInds=np.nonzero(tempMat)\n",
    "wMat[nzInds]=1./(np.abs(wMat[nzInds]))\n",
    "wMat=np.array(wMat)\n",
    "wMatGraph=nx.from_numpy_array(wMat)"
   ]
  },
  {
   "cell_type": "code",
   "execution_count": 105,
   "metadata": {},
   "outputs": [
    {
     "name": "stdout",
     "output_type": "stream",
     "text": [
      "1.000e+00, 2.750e-01, 1.111e-01, 6.250e-02, 4.615e-02, 3.333e-02, 2.068e-02, 1.190e-02, 1.587e-02, 1.091e-02, 1.091e-02, 5.013e-03, 4.364e-03, 3.835e-03, 7.186e-03, 3.862e-03, 2.226e-03, 2.025e-03, 3.338e-03, 2.982e-03, 2.680e-03, 2.422e-03, 1.380e-03, 1.894e-03, 1.877e-03, 1.080e-03, 1.496e-03, 1.276e-03, 1.189e-03, 1.305e-03, 1.125e-03, 9.683e-04, 1.070e-03, 1.004e-03, 9.427e-04, 6.876e-04, 9.676e-04, 7.327e-04, 9.178e-04, 7.592e-04, 5.684e-04, 7.806e-04, 5.127e-04, 6.632e-04, 5.070e-04, 4.453e-04, 6.529e-04, 5.848e-04, 3.519e-04, 4.054e-04, 3.896e-04, 3.746e-04, 3.900e-04, 2.898e-04, 4.170e-04, 4.004e-04, 3.344e-04, 3.952e-04, 2.158e-04, 2.782e-04, 2.470e-04, 2.822e-04, 1.900e-04, 2.454e-04, 1.988e-04, 2.123e-04, 2.615e-04, 3.591e-04, 2.607e-04, 2.524e-04, 2.445e-04, 1.274e-04, 3.221e-04, 1.348e-04, 1.172e-04, 2.134e-04, 1.800e-04, 1.753e-04, 1.317e-04, 1.668e-04, 1.749e-04, 1.101e-04, 1.668e-04, 1.396e-04, 9.129e-05, 1.006e-04, 1.419e-04, 1.175e-04, 2.073e-04, 2.309e-04, 8.862e-05, 1.061e-04, 2.242e-04, 1.098e-04, 1.164e-04, 1.052e-04, 7.751e-05, 1.013e-04, 6.640e-05, 1.137e-04, 9.558e-05, 1.246e-04, 1.068e-04, 6.750e-05, 8.102e-05, 1.295e-04, 9.875e-05, 7.624e-05, 7.492e-05, 8.027e-05, 5.927e-05, 5.191e-05, 8.283e-05, 8.753e-05, 1.041e-04, 7.224e-05, 8.275e-05, 5.242e-05, 9.705e-05, 8.961e-05, 4.419e-05, 8.137e-05, 7.464e-05, 9.924e-05, 8.205e-05, 9.053e-05, 1.034e-04, 8.219e-05, 5.714e-05, 3.762e-05, 6.018e-05, 3.658e-05, 7.191e-05, 7.507e-05, 6.947e-05, 5.561e-05, 5.060e-05, 5.402e-05, 4.916e-05, 3.642e-05, 3.996e-05, 3.160e-05, 4.675e-05, 4.612e-05, 4.926e-05, 6.339e-05, 4.415e-05, 4.717e-05, 4.298e-05, 3.186e-05, 6.271e-05, 3.100e-05, 5.430e-05, 5.350e-05, 2.976e-05, 3.594e-05, 3.551e-05, 4.459e-05, 6.887e-05, 3.403e-05, 3.364e-05, 3.325e-05, 4.474e-05, 6.742e-05, 3.476e-05, 3.436e-05, 3.958e-05, 3.353e-05, 1.938e-05, 3.285e-05, 6.459e-05, 2.928e-05, 2.897e-05, 3.384e-05, 2.320e-05, 3.565e-05, 2.772e-05, 1.998e-05, 2.226e-05, 2.205e-05, 3.149e-05, 4.776e-05, 2.129e-05, 1.876e-05, 3.935e-05, 1.607e-05, 3.854e-05, 2.469e-05, 2.444e-05, 1.762e-05, 3.050e-05, 2.588e-05, 3.833e-05, 2.530e-05, 3.334e-05, 2.270e-05, 3.264e-05, 2.223e-05, 2.601e-05, 1.785e-05, 2.748e-05, 1.945e-05, 1.928e-05, 2.292e-05, 2.834e-05, 2.804e-05, 3.142e-05, 2.379e-05, 2.536e-05, 2.689e-05, 2.132e-05, 2.987e-05, 1.916e-05, 2.586e-05, 1.880e-05, 1.695e-05, 2.349e-05, 2.822e-05, 2.629e-05, 1.954e-05, 1.615e-05, 2.240e-05, 1.587e-05, 1.732e-05, 1.873e-05, 2.472e-05, 2.599e-05, 1.819e-05, 1.953e-05, 1.788e-05, 2.507e-05, 1.755e-05, 2.462e-05, 2.152e-05, 1.566e-05, 1.975e-05, 2.096e-05, 1.663e-05, 3.151e-05, 1.766e-05, 2.688e-05, 1.600e-05, 1.324e-05, 1.576e-05, 1.563e-05, 2.707e-05, 1.407e-05, 1.776e-05, 1.510e-05, 1.499e-05, 2.472e-05, 1.472e-05, 1.218e-05, 2.052e-05, 1.199e-05, 2.019e-05, 2.118e-05, 2.446e-05, 2.306e-05, 1.145e-05, 1.251e-05, 1.916e-05, 2.011e-05, 1.662e-05, 1.648e-05, 1.526e-05, 1.515e-05, 1.717e-05, 1.384e-05, 1.585e-05, 1.049e-05, 1.147e-05, 1.139e-05, 1.438e-05, 1.833e-05, 1.214e-05, 1.705e-05, 1.394e-05, 1.973e-05, 1.469e-05, 1.940e-05, 1.827e-05, 8.604e-06, 1.234e-05, 1.601e-05, 1.216e-05, 1.115e-05, 1.933e-05, 1.006e-05, 1.090e-05, 1.173e-05, 1.165e-05, 1.157e-05, 7.966e-06, 9.675e-06, 1.049e-05, 1.388e-05, 1.206e-05, 1.453e-05, 1.526e-05, 1.347e-05, 1.420e-05, 7.476e-06, 1.155e-05, 1.066e-05, 1.383e-05, 1.212e-05, 1.123e-05, 1.116e-05, 1.109e-05, 1.258e-05, 7.037e-06, 1.474e-05, 1.002e-05, 1.072e-05, 1.065e-05, 1.359e-05, 1.573e-05, 7.450e-06, 7.409e-06, 1.031e-05, 1.388e-05, 8.715e-06, 9.383e-06, 1.504e-05, 6.411e-06, 1.554e-05, 8.430e-06, 9.077e-06, 9.023e-06, 8.969e-06, 1.028e-05, 6.819e-06, 9.488e-06, 7.414e-06, 9.378e-06, 8.657e-06, 8.606e-06, 8.556e-06, 1.046e-05, 1.104e-05, 1.097e-05, 1.026e-05, 1.273e-05, 6.963e-06, 8.182e-06, 6.887e-06, 1.429e-05, 1.172e-05, 1.042e-05, 1.156e-05, 1.329e-05, 7.809e-06, 8.956e-06, 1.422e-05, 1.118e-05, 9.357e-06, 1.335e-05, 6.352e-06, 8.038e-06, 6.854e-06, 6.251e-06, 6.784e-06, 1.179e-05, 1.171e-05, 6.101e-06, 7.722e-06, 7.679e-06, 9.811e-06, 5.425e-06, 1.024e-05, 5.900e-06, 7.468e-06, 1.165e-05, 6.324e-06, 6.815e-06, 9.378e-06, 6.738e-06, 9.272e-06, 9.726e-06, 7.128e-06, 4.056e-06, 6.558e-06, 7.025e-06, 8.977e-06, 7.935e-06, 1.084e-05, 6.860e-06, 4.878e-06, 4.371e-06, 7.247e-06, 1.008e-05, 6.685e-06, 6.650e-06, 6.616e-06, 7.520e-06, 5.613e-06, 7.907e-06, 1.063e-05, 5.976e-06, 3.663e-06, 8.195e-06, 6.342e-06, 3.159e-06, 3.147e-06, 8.937e-06, 6.225e-06, 4.427e-06, 5.288e-06, 7.451e-06, 8.279e-06, 6.503e-06, 4.317e-06, 1.114e-05, 8.947e-06, 8.892e-06, 6.740e-06, 7.123e-06, 7.500e-06, 4.978e-06, 4.543e-06, 6.574e-06, 4.909e-06, 7.323e-06, 5.669e-06, 4.435e-06, 4.817e-06, 5.593e-06, 1.071e-05, 7.890e-06, 3.537e-06, 7.036e-06, 6.611e-06, 6.577e-06, 4.622e-06, 7.661e-06, 5.338e-06, 6.827e-06, 7.919e-06, 4.880e-06, 5.977e-06, 5.948e-06, 5.181e-06, 3.318e-06, 6.236e-06, 5.841e-06, 4.725e-06, 5.066e-06, 5.761e-06, 7.876e-06, 4.634e-06, 7.798e-06, 3.883e-06, 6.673e-06, 4.197e-06, 3.484e-06, 6.931e-06, 4.831e-06, 4.809e-06, 8.196e-06, 4.760e-06, 4.064e-06, 4.384e-06, 6.040e-06, 2.007e-06, 4.330e-06, 5.305e-06, 4.293e-06, 3.947e-06, 4.585e-06, 6.840e-06, 4.541e-06, 3.232e-06, 4.184e-06, 6.085e-06, 5.737e-06, 7.921e-06, 6.304e-06, 5.647e-06, 6.553e-06, 3.730e-06, 6.802e-06, 2.773e-06, 3.377e-06, 4.890e-06, 3.958e-06, 3.942e-06, 3.323e-06, 5.112e-06, 5.089e-06, 3.579e-06, 3.565e-06, 3.552e-06, 4.127e-06, 5.282e-06, 5.257e-06, 4.943e-06, 5.210e-06, 3.460e-06, 3.447e-06, 3.149e-06, 3.707e-06, 3.693e-06, 3.961e-06, 5.350e-06, 4.486e-06, 3.910e-06, 3.061e-06, 4.434e-06, 4.691e-06, 4.945e-06, 3.558e-06, 3.000e-06, 4.345e-06, 3.787e-06, 4.041e-06, 3.757e-06, 5.342e-06, 4.256e-06, 2.651e-06, 3.434e-06, 3.421e-06, 4.455e-06, 3.394e-06, 3.382e-06, 7.500e-06, 2.578e-06, 3.595e-06, 3.071e-06, 4.332e-06, 5.073e-06, 4.294e-06, 3.774e-06, 3.259e-06, 2.998e-06, 4.726e-06, 5.200e-06, 2.468e-06, 3.688e-06, 3.429e-06, 7.306e-06, 3.881e-06, 2.901e-06, 2.410e-06, 3.122e-06, 3.588e-06, 3.337e-06, 2.851e-06, 3.077e-06, 2.595e-06, 3.291e-06, 2.344e-06, 2.570e-06, 5.811e-06, 4.397e-06, 2.998e-06, 2.299e-06, 4.579e-06, 2.738e-06, 4.544e-06, 3.169e-06, 4.283e-06, 3.145e-06, 5.588e-06, 3.785e-06, 3.328e-06, 3.757e-06, 2.643e-06, 5.698e-06, 2.840e-06, 4.350e-06, 3.251e-06, 2.376e-06, 2.369e-06, 4.503e-06, 4.271e-06, 4.253e-06, 3.390e-06, 4.430e-06, 3.782e-06, 3.350e-06, 3.546e-06, 2.495e-06, 3.108e-06, 3.715e-06, 2.879e-06, 2.460e-06, 2.657e-06, 3.258e-06, 2.841e-06, 2.226e-06, 2.420e-06, 3.416e-06, 3.004e-06, 3.591e-06, 2.585e-06, 3.170e-06, 2.568e-06, 3.542e-06, 2.941e-06, 3.321e-06, 4.086e-06, 3.295e-06, 1.740e-06, 2.505e-06, 2.306e-06, 1.916e-06, 2.864e-06, 3.614e-06, 2.465e-06, 3.400e-06, 2.636e-06, 4.125e-06, 1.683e-06, 2.610e-06, 2.230e-06, 2.963e-06, 2.953e-06, 2.759e-06, 2.750e-06, 3.288e-06, 2.186e-06, 1.816e-06, 2.354e-06, 3.968e-06, 3.414e-06, 3.580e-06, 2.676e-06, 2.490e-06, 3.013e-06, 3.355e-06, 2.991e-06, 2.105e-06, 2.798e-06, 2.962e-06, 2.085e-06, 1.906e-06, 2.246e-06, 2.067e-06, 2.575e-06, 2.567e-06, 1.877e-06, 2.891e-06, 2.374e-06, 3.884e-06, 2.525e-06, 2.182e-06, 1.674e-06, 2.003e-06, 2.662e-06, 2.488e-06, 2.645e-06, 1.484e-06, 2.137e-06, 2.786e-06, 1.471e-06, 3.420e-06, 2.759e-06, 2.911e-06, 2.258e-06, 2.090e-06, 2.724e-06, 2.556e-06, 2.707e-06, 2.381e-06, 2.689e-06, 2.208e-06, 2.045e-06, 2.352e-06, 2.501e-06, 1.715e-06, 2.021e-06, 2.789e-06, 2.779e-06, 1.540e-06, 2.610e-06, 2.296e-06, 2.746e-06, 1.977e-06, 1.669e-06, 2.118e-06, 3.466e-06, 2.554e-06, 1.349e-06, 2.688e-06, 1.936e-06, 3.117e-06, 3.548e-06, 1.769e-06, 1.911e-06, 2.199e-06, 2.338e-06, 1.749e-06, 1.454e-06, 2.753e-06, 2.023e-06, 2.305e-06, 3.015e-06, 1.575e-06, 2.142e-06, 9.973e-07, [[49, 48, 47, 46, 45, 98, 97, 433, 432], [49, 48, 47, 46, 45, 4, 166, 98, 97, 433, 432], [49, 48, 47, 46, 45, 4, 98, 97, 433, 432], [49, 48, 47, 46, 45, 166, 98, 97, 433, 432], [49, 48, 47, 46, 45, 44, 4, 166, 98, 97, 433, 432], [49, 48, 47, 46, 45, 44, 5, 4, 166, 98, 97, 433, 432], [49, 48, 47, 46, 45, 44, 4, 98, 97, 433, 432], [49, 48, 46, 45, 98, 97, 433, 432], [49, 50, 57, 58, 90, 91, 92, 93, 94, 95, 96, 97, 433, 432], [49, 48, 47, 46, 45, 44, 5, 4, 98, 97, 433, 432], [49, 50, 57, 58, 59, 63, 64, 65, 66, 94, 95, 96, 97, 433, 432], [49, 48, 47, 77, 98, 97, 433, 432], [49, 48, 47, 77, 76, 97, 433, 432], [49, 48, 47, 46, 76, 97, 433, 432], [49, 50, 57, 58, 59, 60, 61, 62, 63, 64, 65, 66, 94, 95, 96, 97, 433, 432], [49, 48, 47, 46, 45, 98, 77, 76, 97, 433, 432], [49, 48, 77, 98, 97, 433, 432], [49, 48, 77, 76, 97, 433, 432], [49, 10, 9, 8, 7, 6, 5, 4, 166, 98, 97, 433, 432], [49, 48, 9, 8, 7, 6, 5, 4, 166, 98, 97, 433, 432], [49, 10, 9, 8, 7, 6, 5, 4, 45, 98, 97, 433, 432], [49, 48, 9, 8, 7, 6, 5, 4, 45, 98, 97, 433, 432], [49, 48, 78, 77, 98, 97, 433, 432], [49, 48, 47, 77, 76, 75, 74, 73, 435, 434, 433, 432], [49, 48, 47, 77, 76, 75, 74, 73, 436, 435, 434, 433, 432], [49, 48, 78, 77, 76, 97, 433, 432], [49, 48, 47, 46, 76, 75, 74, 73, 435, 434, 433, 432], [49, 48, 47, 46, 45, 166, 4, 98, 97, 433, 432], [49, 50, 57, 80, 79, 78, 77, 98, 97, 433, 432], [49, 48, 47, 46, 76, 75, 74, 73, 436, 435, 434, 433, 432], [49, 48, 47, 46, 45, 75, 74, 73, 435, 434, 433, 432], [49, 50, 57, 80, 79, 78, 77, 76, 97, 433, 432], [49, 48, 47, 8, 7, 6, 5, 4, 166, 98, 97, 433, 432], [49, 48, 47, 46, 45, 75, 74, 73, 436, 435, 434, 433, 432], [49, 48, 47, 8, 7, 6, 5, 4, 45, 98, 97, 433, 432], [49, 48, 47, 46, 76, 77, 98, 97, 433, 432], [49, 48, 47, 46, 45, 98, 77, 76, 75, 74, 73, 435, 434, 433, 432], [49, 50, 57, 58, 59, 63, 94, 95, 96, 97, 433, 432], [49, 48, 47, 46, 45, 98, 77, 76, 75, 74, 73, 436, 435, 434, 433, 432], [49, 50, 57, 58, 59, 60, 61, 62, 94, 95, 96, 97, 433, 432], [49, 48, 77, 76, 75, 74, 73, 435, 434, 433, 432], [49, 48, 47, 46, 45, 44, 43, 42, 41, 40, 39, 73, 435, 434, 433, 432], [49, 48, 47, 46, 45, 98, 97, 433, 430, 431, 432], [49, 48, 47, 46, 45, 98, 97, 76, 75, 74, 73, 435, 434, 433, 432], [49, 48, 77, 76, 75, 74, 73, 436, 435, 434, 433, 432], [49, 48, 47, 46, 45, 98, 97, 433, 434, 431, 432], [49, 48, 47, 46, 45, 44, 43, 42, 41, 40, 39, 73, 436, 435, 434, 433, 432], [49, 48, 47, 46, 45, 98, 97, 76, 75, 74, 73, 436, 435, 434, 433, 432], [49, 48, 46, 45, 4, 166, 98, 97, 433, 432], [49, 48, 78, 77, 76, 75, 74, 73, 435, 434, 433, 432], [49, 10, 9, 8, 7, 6, 5, 4, 98, 97, 433, 432], [49, 48, 9, 8, 7, 6, 5, 4, 98, 97, 433, 432], [49, 48, 78, 77, 76, 75, 74, 73, 436, 435, 434, 433, 432], [49, 48, 47, 46, 45, 98, 97, 433, 430, 432], [49, 50, 57, 80, 79, 78, 77, 76, 75, 74, 73, 435, 434, 433, 432], [49, 50, 57, 58, 59, 60, 61, 62, 63, 94, 95, 96, 97, 433, 432], [49, 48, 47, 46, 45, 6, 5, 4, 166, 98, 97, 433, 432], [49, 50, 57, 80, 79, 78, 77, 76, 75, 74, 73, 436, 435, 434, 433, 432], [49, 48, 47, 46, 77, 98, 97, 433, 432], [49, 48, 47, 46, 45, 98, 97, 433, 434, 430, 431, 432], [49, 50, 57, 58, 90, 94, 95, 96, 97, 433, 432], [49, 50, 57, 58, 59, 63, 62, 94, 95, 96, 97, 433, 432], [49, 48, 47, 46, 77, 76, 97, 433, 432], [49, 48, 47, 8, 7, 6, 5, 4, 98, 97, 433, 432], [49, 48, 47, 46, 45, 75, 76, 97, 433, 432], [49, 48, 47, 46, 45, 98, 97, 433, 434, 430, 432], [49, 48, 47, 46, 45, 98, 97, 75, 74, 73, 435, 434, 433, 432], [49, 50, 57, 58, 59, 63, 64, 65, 66, 67, 68, 69, 70, 71, 72, 73, 435, 434, 433, 432], [49, 48, 47, 46, 45, 98, 97, 75, 74, 73, 436, 435, 434, 433, 432], [49, 50, 57, 61, 62, 63, 64, 65, 66, 94, 95, 96, 97, 433, 432], [49, 48, 47, 46, 45, 44, 248, 247, 3, 4, 166, 98, 97, 433, 432], [49, 79, 78, 77, 98, 97, 433, 432], [49, 50, 57, 58, 59, 63, 64, 65, 66, 67, 68, 69, 70, 71, 72, 73, 436, 435, 434, 433, 432], [49, 48, 46, 45, 4, 98, 97, 433, 432], [49, 79, 78, 77, 76, 97, 433, 432], [49, 50, 57, 56, 59, 63, 64, 65, 66, 94, 95, 96, 97, 433, 432], [49, 48, 47, 46, 77, 76, 75, 74, 73, 435, 434, 433, 432], [49, 10, 9, 8, 7, 6, 5, 44, 45, 98, 97, 433, 432], [49, 50, 57, 58, 90, 91, 96, 97, 433, 432], [49, 48, 9, 8, 7, 6, 5, 44, 45, 98, 97, 433, 432], [49, 48, 47, 46, 45, 44, 43, 5, 4, 166, 98, 97, 433, 432], [49, 48, 47, 77, 76, 75, 97, 433, 432], [49, 48, 47, 46, 77, 76, 75, 74, 73, 436, 435, 434, 433, 432], [49, 48, 47, 46, 45, 6, 5, 4, 98, 97, 433, 432], [49, 48, 78, 99, 98, 97, 433, 432], [49, 48, 47, 46, 76, 75, 97, 433, 432], [49, 48, 47, 46, 45, 4, 166, 98, 77, 76, 97, 433, 432], [49, 10, 9, 48, 47, 46, 45, 98, 97, 433, 432], [49, 50, 51, 52, 53, 54, 55, 56, 57, 58, 90, 91, 92, 93, 94, 95, 96, 97, 433, 432], [49, 50, 57, 58, 59, 60, 61, 62, 63, 64, 65, 66, 67, 68, 69, 70, 71, 72, 73, 435, 434, 433, 432], [49, 48, 47, 46, 45, 75, 97, 433, 432], [49, 50, 57, 80, 79, 78, 99, 98, 97, 433, 432], [49, 50, 57, 58, 59, 60, 61, 62, 63, 64, 65, 66, 67, 68, 69, 70, 71, 72, 73, 436, 435, 434, 433, 432], [49, 48, 47, 46, 45, 75, 76, 77, 98, 97, 433, 432], [49, 48, 47, 8, 7, 6, 5, 44, 45, 98, 97, 433, 432], [49, 48, 47, 7, 6, 5, 4, 166, 98, 97, 433, 432], [49, 48, 47, 77, 76, 75, 74, 433, 432], [49, 48, 47, 7, 6, 5, 4, 45, 98, 97, 433, 432], [49, 47, 46, 45, 98, 97, 433, 432], [49, 50, 57, 58, 59, 63, 67, 66, 94, 95, 96, 97, 433, 432], [49, 48, 47, 46, 45, 98, 77, 76, 75, 97, 433, 432], [49, 50, 57, 56, 59, 58, 90, 91, 92, 93, 94, 95, 96, 97, 433, 432], [49, 10, 9, 8, 7, 6, 5, 4, 44, 45, 98, 97, 433, 432], [49, 48, 47, 46, 76, 75, 74, 433, 432], [49, 10, 9, 8, 47, 46, 45, 98, 97, 433, 432], [49, 50, 57, 56, 59, 60, 61, 62, 63, 64, 65, 66, 94, 95, 96, 97, 433, 432], [49, 48, 9, 8, 7, 6, 5, 4, 44, 45, 98, 97, 433, 432], [49, 48, 9, 8, 47, 46, 45, 98, 97, 433, 432], [49, 50, 57, 61, 62, 94, 95, 96, 97, 433, 432], [49, 79, 78, 77, 76, 75, 74, 73, 435, 434, 433, 432], [49, 48, 47, 46, 45, 75, 74, 433, 432], [49, 48, 77, 76, 75, 97, 433, 432], [49, 79, 78, 77, 76, 75, 74, 73, 436, 435, 434, 433, 432], [49, 48, 47, 46, 45, 44, 248, 247, 3, 4, 98, 97, 433, 432], [49, 50, 57, 56, 60, 61, 62, 63, 64, 65, 66, 94, 95, 96, 97, 433, 432], [49, 48, 47, 46, 45, 98, 77, 76, 75, 74, 433, 432], [49, 48, 47, 8, 7, 6, 5, 4, 44, 45, 98, 97, 433, 432], [49, 48, 78, 77, 76, 75, 97, 433, 432], [49, 48, 47, 46, 45, 4, 166, 98, 77, 76, 75, 74, 73, 435, 434, 433, 432], [49, 48, 47, 46, 45, 44, 237, 42, 41, 40, 39, 73, 435, 434, 433, 432], [49, 48, 47, 77, 76, 75, 433, 432], [49, 50, 57, 58, 62, 63, 64, 65, 66, 94, 95, 96, 97, 433, 432], [49, 48, 47, 46, 45, 44, 248, 3, 4, 166, 98, 97, 433, 432], [49, 50, 52, 53, 54, 55, 56, 57, 58, 90, 91, 92, 93, 94, 95, 96, 97, 433, 432], [49, 50, 51, 11, 10, 9, 8, 7, 6, 5, 4, 166, 98, 97, 433, 432], [49, 48, 47, 46, 45, 4, 166, 98, 77, 76, 75, 74, 73, 436, 435, 434, 433, 432], [49, 50, 51, 52, 53, 54, 55, 56, 57, 58, 59, 63, 64, 65, 66, 94, 95, 96, 97, 433, 432], [49, 48, 47, 46, 45, 44, 237, 42, 41, 40, 39, 73, 436, 435, 434, 433, 432], [49, 48, 47, 46, 45, 98, 97, 433, 434, 431, 430, 432], [49, 48, 77, 76, 75, 74, 433, 432], [49, 48, 47, 46, 7, 6, 5, 4, 166, 98, 97, 433, 432], [49, 48, 47, 46, 76, 75, 433, 432], [49, 48, 47, 46, 45, 44, 248, 247, 246, 3, 4, 166, 98, 97, 433, 432], [49, 50, 57, 58, 59, 60, 61, 62, 63, 67, 66, 94, 95, 96, 97, 433, 432], [49, 50, 51, 11, 10, 9, 8, 7, 6, 5, 4, 45, 98, 97, 433, 432], [49, 48, 47, 46, 45, 44, 43, 5, 4, 98, 97, 433, 432], [49, 50, 57, 80, 79, 78, 77, 76, 75, 97, 433, 432], [49, 48, 47, 46, 7, 6, 5, 4, 45, 98, 97, 433, 432], [49, 48, 47, 46, 45, 98, 97, 76, 75, 74, 433, 432], [49, 48, 47, 77, 76, 96, 97, 433, 432], [49, 48, 47, 77, 78, 99, 98, 97, 433, 432], [49, 48, 47, 46, 45, 75, 433, 432], [49, 50, 57, 61, 62, 63, 94, 95, 96, 97, 433, 432], [49, 9, 8, 7, 6, 5, 4, 166, 98, 97, 433, 432], [49, 48, 47, 46, 45, 4, 166, 98, 97, 433, 430, 431, 432], [49, 48, 47, 46, 45, 4, 166, 98, 97, 76, 75, 74, 73, 435, 434, 433, 432], [49, 48, 47, 46, 45, 4, 98, 77, 76, 97, 433, 432], [49, 48, 47, 46, 45, 4, 166, 98, 97, 433, 434, 431, 432], [49, 9, 8, 7, 6, 5, 4, 45, 98, 97, 433, 432], [49, 48, 47, 46, 76, 96, 97, 433, 432], [49, 48, 47, 46, 45, 4, 166, 98, 97, 76, 75, 74, 73, 436, 435, 434, 433, 432], [49, 48, 46, 45, 166, 98, 97, 433, 432], [49, 50, 51, 52, 57, 58, 90, 91, 92, 93, 94, 95, 96, 97, 433, 432], [49, 50, 57, 56, 60, 59, 63, 64, 65, 66, 94, 95, 96, 97, 433, 432], [49, 48, 78, 77, 76, 75, 74, 433, 432], [49, 50, 57, 58, 90, 91, 92, 96, 97, 433, 432], [49, 48, 46, 45, 44, 4, 166, 98, 97, 433, 432], [49, 48, 47, 46, 45, 44, 43, 38, 39, 73, 435, 434, 433, 432], [49, 48, 47, 46, 45, 98, 97, 96, 95, 94, 66, 67, 68, 69, 70, 71, 72, 73, 435, 434, 433, 432], [49, 48, 47, 46, 45, 98, 77, 76, 75, 433, 432], [49, 48, 47, 77, 76, 46, 45, 98, 97, 433, 432], [49, 48, 47, 7, 6, 5, 4, 98, 97, 433, 432], [49, 48, 47, 46, 45, 44, 43, 38, 39, 73, 436, 435, 434, 433, 432], [49, 48, 47, 46, 45, 98, 97, 96, 95, 94, 66, 67, 68, 69, 70, 71, 72, 73, 436, 435, 434, 433, 432], [49, 50, 57, 80, 79, 78, 77, 76, 75, 74, 433, 432], [49, 50, 57, 56, 59, 63, 94, 95, 96, 97, 433, 432], [49, 50, 57, 56, 59, 60, 61, 62, 94, 95, 96, 97, 433, 432], [49, 48, 47, 46, 45, 4, 166, 98, 97, 433, 430, 432], [49, 48, 77, 76, 75, 433, 432], [49, 48, 47, 46, 45, 98, 77, 76, 96, 97, 433, 432], [49, 50, 51, 52, 53, 54, 55, 56, 57, 58, 59, 60, 61, 62, 63, 64, 65, 66, 94, 95, 96, 97, 433, 432], [49, 48, 47, 46, 45, 98, 97, 76, 75, 433, 432], [49, 10, 9, 8, 7, 6, 45, 98, 97, 433, 432], [49, 48, 47, 46, 45, 98, 99, 78, 77, 76, 97, 433, 432], [49, 50, 79, 78, 77, 98, 97, 433, 432], [49, 48, 47, 46, 45, 4, 166, 98, 97, 433, 434, 430, 431, 432], [49, 48, 9, 8, 7, 6, 45, 98, 97, 433, 432], [49, 48, 77, 76, 96, 97, 433, 432], [49, 48, 77, 78, 99, 98, 97, 433, 432], [49, 48, 78, 100, 99, 98, 97, 433, 432], [49, 50, 57, 56, 60, 61, 62, 94, 95, 96, 97, 433, 432], [49, 50, 52, 53, 54, 55, 56, 57, 58, 59, 63, 64, 65, 66, 94, 95, 96, 97, 433, 432], [49, 50, 79, 78, 77, 76, 97, 433, 432], [49, 48, 78, 77, 76, 75, 433, 432], [49, 50, 57, 56, 60, 59, 58, 90, 91, 92, 93, 94, 95, 96, 97, 433, 432], [49, 48, 78, 98, 97, 433, 432], [49, 50, 57, 58, 59, 63, 67, 68, 69, 70, 71, 72, 73, 435, 434, 433, 432], [49, 48, 47, 77, 76, 75, 45, 98, 97, 433, 432], [49, 50, 57, 58, 62, 94, 95, 96, 97, 433, 432], [49, 79, 78, 99, 98, 97, 433, 432], [49, 48, 47, 46, 45, 44, 5, 6, 4, 166, 98, 97, 433, 432], [49, 50, 57, 80, 79, 78, 100, 99, 98, 97, 433, 432], [49, 50, 57, 58, 59, 63, 67, 68, 69, 70, 71, 72, 73, 436, 435, 434, 433, 432], [49, 50, 57, 58, 90, 93, 94, 95, 96, 97, 433, 432], [49, 50, 57, 61, 60, 59, 63, 64, 65, 66, 94, 95, 96, 97, 433, 432], [49, 48, 47, 46, 76, 75, 45, 98, 97, 433, 432], [49, 48, 47, 46, 45, 4, 98, 77, 76, 75, 74, 73, 435, 434, 433, 432], [49, 50, 57, 80, 79, 78, 77, 76, 75, 433, 432], [49, 48, 47, 46, 45, 44, 248, 3, 4, 98, 97, 433, 432], [49, 48, 78, 77, 76, 96, 97, 433, 432], [49, 48, 47, 46, 45, 98, 97, 433, 434, 389, 390, 430, 431, 432], [49, 50, 57, 80, 79, 78, 98, 97, 433, 432], [49, 48, 77, 76, 46, 45, 98, 97, 433, 432], [49, 50, 57, 58, 90, 91, 94, 95, 96, 97, 433, 432], [49, 50, 51, 11, 10, 9, 8, 7, 6, 5, 4, 98, 97, 433, 432], [49, 50, 52, 57, 58, 90, 91, 92, 93, 94, 95, 96, 97, 433, 432], [49, 48, 47, 46, 45, 4, 98, 77, 76, 75, 74, 73, 436, 435, 434, 433, 432], [49, 48, 47, 46, 45, 4, 166, 98, 97, 433, 434, 430, 432], [49, 11, 10, 9, 8, 7, 6, 5, 4, 166, 98, 97, 433, 432], [49, 50, 57, 56, 59, 60, 61, 62, 63, 94, 95, 96, 97, 433, 432], [49, 48, 47, 46, 7, 6, 5, 4, 98, 97, 433, 432], [49, 50, 51, 52, 57, 58, 59, 63, 64, 65, 66, 94, 95, 96, 97, 433, 432], [49, 48, 47, 8, 7, 6, 45, 98, 97, 433, 432], [49, 48, 47, 46, 45, 44, 248, 247, 246, 3, 4, 98, 97, 433, 432], [49, 48, 47, 46, 45, 98, 97, 75, 74, 433, 432], [49, 48, 47, 46, 77, 76, 75, 97, 433, 432], [49, 11, 10, 9, 8, 7, 6, 5, 4, 45, 98, 97, 433, 432], [49, 50, 51, 52, 53, 54, 55, 56, 57, 80, 79, 78, 77, 98, 97, 433, 432], [49, 48, 47, 46, 45, 4, 166, 98, 97, 75, 74, 73, 435, 434, 433, 432], [49, 50, 57, 80, 79, 78, 77, 76, 96, 97, 433, 432], [49, 48, 77, 47, 46, 45, 98, 97, 433, 432], [49, 48, 47, 46, 45, 44, 237, 5, 4, 166, 98, 97, 433, 432], [49, 48, 47, 77, 46, 45, 98, 97, 433, 432], [49, 9, 8, 7, 6, 5, 4, 98, 97, 433, 432], [49, 48, 47, 46, 45, 4, 98, 97, 433, 430, 431, 432], [49, 48, 47, 46, 45, 4, 98, 97, 76, 75, 74, 73, 435, 434, 433, 432], [49, 48, 47, 46, 45, 4, 166, 98, 97, 75, 74, 73, 436, 435, 434, 433, 432], [49, 48, 47, 46, 45, 4, 98, 97, 433, 434, 431, 432], [49, 50, 57, 56, 59, 63, 62, 94, 95, 96, 97, 433, 432], [49, 48, 46, 45, 44, 5, 4, 166, 98, 97, 433, 432], [49, 50, 51, 52, 53, 54, 55, 56, 57, 80, 79, 78, 77, 76, 97, 433, 432], [49, 48, 47, 46, 45, 44, 248, 375, 390, 430, 431, 432], [49, 48, 47, 46, 45, 4, 98, 97, 76, 75, 74, 73, 436, 435, 434, 433, 432], [49, 48, 47, 46, 45, 44, 43, 42, 41, 40, 39, 73, 74, 433, 432], [49, 48, 78, 77, 76, 46, 45, 98, 97, 433, 432], [49, 50, 57, 56, 60, 61, 62, 63, 94, 95, 96, 97, 433, 432], [49, 48, 47, 46, 45, 98, 97, 433, 434, 435, 436, 437, 438, 431, 432], [49, 10, 9, 8, 7, 6, 4, 166, 98, 97, 433, 432], [49, 50, 52, 53, 54, 55, 56, 57, 58, 59, 60, 61, 62, 63, 64, 65, 66, 94, 95, 96, 97, 433, 432], [49, 48, 47, 46, 45, 98, 97, 433, 434, 389, 390, 430, 432], [49, 50, 57, 61, 62, 63, 64, 65, 66, 67, 68, 69, 70, 71, 72, 73, 435, 434, 433, 432], [49, 48, 9, 8, 7, 6, 4, 166, 98, 97, 433, 432], [49, 48, 46, 45, 44, 4, 98, 97, 433, 432], [49, 10, 9, 8, 7, 6, 4, 45, 98, 97, 433, 432], [49, 48, 47, 46, 76, 77, 78, 99, 98, 97, 433, 432], [49, 50, 57, 61, 62, 63, 64, 65, 66, 67, 68, 69, 70, 71, 72, 73, 436, 435, 434, 433, 432], [49, 48, 78, 77, 47, 46, 45, 98, 97, 433, 432], [49, 50, 57, 80, 79, 78, 77, 76, 46, 45, 98, 97, 433, 432], [49, 48, 9, 8, 7, 6, 4, 45, 98, 97, 433, 432], [49, 48, 47, 46, 45, 44, 248, 388, 389, 434, 433, 432], [49, 50, 57, 58, 59, 60, 61, 62, 63, 67, 68, 69, 70, 71, 72, 73, 435, 434, 433, 432], [49, 50, 57, 58, 62, 63, 94, 95, 96, 97, 433, 432], [49, 48, 47, 46, 77, 76, 75, 74, 433, 432], [49, 48, 47, 46, 45, 98, 99, 78, 77, 76, 75, 74, 73, 435, 434, 433, 432], [49, 48, 77, 76, 75, 45, 98, 97, 433, 432], [49, 50, 57, 61, 60, 59, 58, 90, 91, 92, 93, 94, 95, 96, 97, 433, 432], [49, 50, 51, 52, 53, 54, 55, 56, 57, 58, 59, 63, 94, 95, 96, 97, 433, 432], [49, 50, 57, 58, 59, 60, 61, 62, 63, 67, 68, 69, 70, 71, 72, 73, 436, 435, 434, 433, 432], [49, 50, 51, 52, 53, 54, 55, 56, 57, 58, 59, 60, 61, 62, 94, 95, 96, 97, 433, 432], [49, 48, 47, 46, 74, 73, 435, 434, 433, 432], [49, 48, 47, 46, 45, 4, 98, 97, 433, 430, 432], [49, 48, 47, 46, 45, 4, 44, 43, 42, 41, 40, 39, 73, 435, 434, 433, 432], [49, 48, 47, 46, 45, 98, 99, 78, 77, 76, 75, 74, 73, 436, 435, 434, 433, 432], [49, 10, 9, 8, 7, 6, 5, 44, 45, 4, 166, 98, 97, 433, 432], [49, 50, 57, 58, 59, 60, 61, 65, 66, 94, 95, 96, 97, 433, 432], [49, 10, 9, 8, 7, 6, 5, 4, 166, 45, 98, 97, 433, 432], [49, 50, 57, 80, 79, 78, 77, 47, 46, 45, 98, 97, 433, 432], [49, 48, 47, 46, 45, 98, 97, 96, 76, 75, 74, 73, 435, 434, 433, 432], [49, 50, 79, 78, 77, 76, 75, 74, 73, 435, 434, 433, 432], [49, 48, 9, 8, 7, 6, 5, 44, 45, 4, 166, 98, 97, 433, 432], [49, 48, 47, 46, 45, 98, 97, 75, 433, 432], [49, 48, 47, 46, 45, 44, 248, 375, 390, 430, 432], [49, 48, 47, 46, 74, 73, 436, 435, 434, 433, 432], [49, 48, 9, 8, 7, 6, 5, 4, 166, 45, 98, 97, 433, 432], [49, 48, 47, 46, 45, 4, 44, 43, 42, 41, 40, 39, 73, 436, 435, 434, 433, 432], [49, 48, 47, 7, 6, 5, 44, 45, 98, 97, 433, 432], [49, 48, 47, 46, 45, 98, 97, 96, 76, 75, 74, 73, 436, 435, 434, 433, 432], [49, 50, 79, 78, 77, 76, 75, 74, 73, 436, 435, 434, 433, 432], [49, 50, 51, 52, 57, 58, 59, 60, 61, 62, 63, 64, 65, 66, 94, 95, 96, 97, 433, 432], [49, 48, 47, 46, 45, 44, 43, 42, 41, 40, 436, 435, 434, 433, 432], [49, 50, 57, 56, 59, 63, 64, 65, 66, 67, 68, 69, 70, 71, 72, 73, 435, 434, 433, 432], [49, 50, 51, 52, 53, 54, 55, 56, 59, 63, 64, 65, 66, 94, 95, 96, 97, 433, 432], [49, 79, 78, 77, 76, 75, 97, 433, 432], [49, 48, 47, 46, 45, 4, 98, 97, 433, 434, 430, 431, 432], [49, 50, 57, 58, 87, 88, 89, 90, 91, 92, 93, 94, 95, 96, 97, 433, 432], [49, 10, 9, 48, 47, 46, 45, 4, 166, 98, 97, 433, 432], [49, 48, 47, 46, 45, 166, 98, 77, 76, 97, 433, 432], [49, 50, 57, 56, 59, 63, 64, 65, 66, 67, 68, 69, 70, 71, 72, 73, 436, 435, 434, 433, 432], [49, 48, 78, 77, 76, 75, 45, 98, 97, 433, 432], [49, 48, 47, 8, 7, 6, 4, 166, 98, 97, 433, 432], [49, 48, 47, 46, 45, 44, 248, 388, 389, 390, 430, 431, 432], [49, 50, 57, 58, 90, 89, 93, 94, 95, 96, 97, 433, 432], [49, 50, 57, 56, 60, 59, 63, 94, 95, 96, 97, 433, 432], [49, 48, 77, 46, 45, 98, 97, 433, 432], [49, 48, 47, 77, 78, 100, 99, 98, 97, 433, 432], [49, 48, 47, 8, 7, 6, 4, 45, 98, 97, 433, 432], [49, 50, 52, 57, 58, 59, 63, 64, 65, 66, 94, 95, 96, 97, 433, 432], [49, 48, 47, 46, 45, 44, 4, 166, 98, 77, 76, 97, 433, 432], [49, 50, 52, 51, 11, 10, 9, 8, 7, 6, 5, 4, 166, 98, 97, 433, 432], [49, 48, 47, 46, 45, 44, 43, 42, 41, 40, 39, 73, 74, 75, 76, 97, 433, 432], [49, 50, 52, 53, 54, 55, 56, 57, 80, 79, 78, 77, 98, 97, 433, 432], [49, 50, 52, 51, 11, 10, 9, 8, 7, 6, 5, 4, 45, 98, 97, 433, 432], [49, 48, 47, 77, 78, 98, 97, 433, 432], [49, 50, 57, 80, 79, 78, 77, 76, 75, 45, 98, 97, 433, 432], [49, 48, 47, 46, 45, 44, 5, 6, 4, 98, 97, 433, 432], [49, 48, 47, 46, 45, 44, 43, 42, 41, 37, 38, 39, 73, 435, 434, 433, 432], [49, 48, 47, 8, 7, 6, 5, 44, 45, 4, 166, 98, 97, 433, 432], [49, 48, 47, 9, 8, 7, 6, 5, 4, 166, 98, 97, 433, 432], [49, 48, 47, 8, 7, 6, 5, 4, 166, 45, 98, 97, 433, 432], [49, 10, 9, 8, 7, 6, 5, 4, 45, 166, 98, 97, 433, 432], [49, 50, 52, 53, 54, 55, 56, 57, 80, 79, 78, 77, 76, 97, 433, 432], [49, 48, 47, 46, 77, 76, 75, 433, 432], [49, 50, 51, 52, 13, 12, 11, 10, 9, 8, 7, 6, 5, 4, 166, 98, 97, 433, 432], [49, 48, 47, 46, 45, 98, 97, 433, 434, 390, 430, 431, 432], [49, 48, 9, 8, 7, 6, 5, 4, 45, 166, 98, 97, 433, 432], [49, 48, 47, 9, 8, 7, 6, 5, 4, 45, 98, 97, 433, 432], [49, 48, 47, 46, 45, 44, 43, 42, 41, 37, 38, 39, 73, 436, 435, 434, 433, 432], [49, 50, 51, 52, 53, 54, 55, 56, 57, 80, 79, 78, 77, 76, 75, 74, 73, 435, 434, 433, 432], [49, 47, 46, 45, 4, 166, 98, 97, 433, 432], [49, 48, 78, 77, 46, 45, 98, 97, 433, 432], [49, 48, 47, 46, 45, 4, 166, 98, 77, 76, 75, 97, 433, 432], [49, 50, 51, 52, 13, 12, 11, 10, 9, 8, 7, 6, 5, 4, 45, 98, 97, 433, 432], [49, 48, 47, 46, 45, 4, 98, 97, 433, 434, 430, 432], [49, 11, 10, 9, 8, 7, 6, 5, 4, 98, 97, 433, 432], [49, 50, 51, 52, 53, 54, 55, 56, 57, 58, 59, 60, 61, 62, 63, 94, 95, 96, 97, 433, 432], [49, 79, 78, 77, 76, 75, 74, 433, 432], [49, 50, 51, 52, 53, 54, 55, 56, 57, 80, 79, 78, 77, 76, 75, 74, 73, 436, 435, 434, 433, 432], [49, 48, 47, 46, 45, 44, 248, 388, 389, 390, 430, 432], [49, 10, 9, 8, 47, 46, 45, 4, 166, 98, 97, 433, 432], [49, 48, 47, 7, 6, 5, 4, 44, 45, 98, 97, 433, 432], [49, 48, 9, 8, 47, 46, 45, 4, 166, 98, 97, 433, 432], [49, 48, 47, 46, 45, 4, 98, 97, 75, 74, 73, 435, 434, 433, 432], [49, 48, 47, 46, 77, 76, 96, 97, 433, 432], [49, 50, 57, 61, 62, 63, 67, 66, 94, 95, 96, 97, 433, 432], [49, 48, 47, 46, 77, 78, 99, 98, 97, 433, 432], [49, 50, 57, 80, 79, 78, 48, 47, 46, 45, 98, 97, 433, 432], [49, 50, 51, 52, 57, 80, 79, 78, 77, 98, 97, 433, 432], [49, 48, 47, 46, 45, 44, 237, 5, 4, 98, 97, 433, 432], [49, 50, 57, 80, 79, 78, 77, 46, 45, 98, 97, 433, 432], [49, 50, 51, 11, 10, 9, 8, 7, 6, 5, 44, 45, 98, 97, 433, 432], [49, 50, 51, 52, 53, 54, 55, 56, 57, 58, 90, 94, 95, 96, 97, 433, 432], [49, 48, 47, 46, 45, 44, 248, 247, 246, 2, 3, 4, 166, 98, 97, 433, 432], [49, 48, 47, 46, 45, 4, 98, 97, 75, 74, 73, 436, 435, 434, 433, 432], [49, 50, 51, 52, 53, 54, 55, 56, 59, 58, 90, 91, 92, 93, 94, 95, 96, 97, 433, 432], [49, 48, 47, 46, 45, 75, 76, 96, 97, 433, 432], [49, 48, 47, 46, 7, 6, 5, 44, 45, 98, 97, 433, 432], [49, 48, 46, 45, 44, 5, 4, 98, 97, 433, 432], [49, 50, 57, 56, 59, 60, 61, 62, 63, 64, 65, 66, 67, 68, 69, 70, 71, 72, 73, 435, 434, 433, 432], [49, 50, 51, 52, 53, 54, 55, 56, 57, 58, 59, 63, 62, 94, 95, 96, 97, 433, 432], [49, 50, 52, 53, 54, 55, 56, 57, 58, 59, 63, 94, 95, 96, 97, 433, 432], [49, 50, 52, 53, 54, 55, 56, 57, 58, 59, 60, 61, 62, 94, 95, 96, 97, 433, 432], [49, 50, 51, 52, 53, 54, 55, 56, 59, 60, 61, 62, 63, 64, 65, 66, 94, 95, 96, 97, 433, 432], [49, 50, 51, 52, 57, 80, 79, 78, 77, 76, 97, 433, 432], [49, 50, 57, 58, 59, 60, 64, 65, 66, 94, 95, 96, 97, 433, 432], [49, 50, 57, 56, 59, 60, 61, 62, 63, 64, 65, 66, 67, 68, 69, 70, 71, 72, 73, 436, 435, 434, 433, 432], [49, 50, 57, 58, 59, 63, 64, 65, 66, 67, 68, 69, 70, 71, 72, 73, 74, 433, 432], [49, 50, 57, 58, 59, 60, 61, 64, 65, 66, 94, 95, 96, 97, 433, 432], [49, 50, 57, 80, 81, 82, 83, 84, 85, 86, 87, 88, 89, 90, 91, 92, 93, 94, 95, 96, 97, 433, 432], [49, 10, 9, 8, 7, 46, 45, 98, 97, 433, 432], [49, 48, 47, 46, 45, 98, 99, 100, 78, 77, 76, 97, 433, 432], [49, 48, 47, 46, 45, 98, 97, 433, 434, 390, 430, 432], [49, 10, 9, 8, 7, 6, 4, 98, 97, 433, 432], [49, 9, 8, 7, 6, 5, 44, 45, 98, 97, 433, 432], [49, 50, 57, 58, 90, 91, 92, 93, 94, 66, 67, 68, 69, 70, 71, 72, 73, 435, 434, 433, 432], [49, 50, 57, 80, 81, 82, 83, 84, 87, 88, 89, 90, 91, 92, 93, 94, 95, 96, 97, 433, 432], [49, 48, 9, 8, 7, 46, 45, 98, 97, 433, 432], [49, 48, 47, 8, 7, 6, 5, 4, 45, 166, 98, 97, 433, 432], [49, 50, 51, 11, 10, 9, 48, 47, 46, 45, 98, 97, 433, 432], [49, 48, 47, 46, 45, 4, 5, 44, 43, 42, 41, 40, 39, 73, 435, 434, 433, 432], [49, 48, 77, 78, 100, 99, 98, 97, 433, 432], [49, 50, 52, 57, 58, 59, 60, 61, 62, 63, 64, 65, 66, 94, 95, 96, 97, 433, 432], [49, 48, 9, 8, 7, 6, 4, 98, 97, 433, 432], [49, 48, 47, 46, 45, 4, 166, 98, 77, 76, 75, 74, 433, 432], [49, 50, 57, 58, 90, 91, 92, 93, 94, 66, 67, 68, 69, 70, 71, 72, 73, 436, 435, 434, 433, 432], [49, 48, 47, 46, 45, 98, 78, 77, 76, 97, 433, 432], [49, 50, 57, 61, 60, 59, 63, 94, 95, 96, 97, 433, 432], [49, 50, 52, 53, 54, 55, 56, 59, 63, 64, 65, 66, 94, 95, 96, 97, 433, 432], [49, 48, 47, 46, 45, 44, 248, 375, 390, 389, 434, 433, 432], [49, 50, 51, 52, 12, 11, 10, 9, 8, 7, 6, 5, 4, 166, 98, 97, 433, 432], [49, 48, 47, 46, 45, 4, 5, 44, 43, 42, 41, 40, 39, 73, 436, 435, 434, 433, 432], [49, 50, 57, 56, 59, 63, 67, 66, 94, 95, 96, 97, 433, 432], [49, 48, 77, 78, 98, 97, 433, 432], [49, 50, 57, 56, 59, 58, 90, 94, 95, 96, 97, 433, 432], [49, 48, 47, 46, 45, 44, 248, 249, 250, 436, 435, 434, 433, 432], [49, 50, 51, 52, 12, 11, 10, 9, 8, 7, 6, 5, 4, 45, 98, 97, 433, 432], [49, 48, 47, 46, 45, 166, 98, 77, 76, 75, 74, 73, 435, 434, 433, 432], [49, 50, 57, 56, 60, 61, 62, 63, 64, 65, 66, 67, 68, 69, 70, 71, 72, 73, 435, 434, 433, 432], [49, 50, 57, 56, 60, 59, 63, 62, 94, 95, 96, 97, 433, 432], [49, 9, 48, 47, 46, 45, 98, 97, 433, 432], [49, 79, 78, 100, 99, 98, 97, 433, 432], [49, 50, 57, 58, 59, 63, 64, 67, 66, 94, 95, 96, 97, 433, 432], [49, 50, 51, 52, 53, 54, 55, 56, 60, 61, 62, 63, 64, 65, 66, 94, 95, 96, 97, 433, 432], [49, 50, 51, 52, 57, 58, 59, 63, 94, 95, 96, 97, 433, 432], [49, 48, 47, 46, 45, 4, 166, 98, 97, 433, 434, 431, 430, 432], [49, 10, 9, 8, 7, 6, 5, 44, 45, 4, 98, 97, 433, 432], [49, 50, 51, 52, 57, 58, 59, 60, 61, 62, 94, 95, 96, 97, 433, 432], [49, 48, 47, 46, 45, 6, 4, 166, 98, 97, 433, 432], [49, 48, 47, 46, 45, 166, 98, 77, 76, 75, 74, 73, 436, 435, 434, 433, 432], [49, 50, 57, 56, 60, 61, 62, 63, 64, 65, 66, 67, 68, 69, 70, 71, 72, 73, 436, 435, 434, 433, 432], [49, 48, 47, 46, 45, 44, 248, 249, 388, 389, 434, 433, 432], [49, 79, 78, 77, 76, 75, 433, 432], [49, 48, 47, 46, 45, 44, 4, 166, 98, 77, 76, 75, 74, 73, 435, 434, 433, 432], [49, 48, 9, 8, 7, 6, 5, 44, 45, 4, 98, 97, 433, 432], [49, 79, 78, 98, 97, 433, 432], [49, 48, 46, 76, 97, 433, 432], [49, 50, 57, 58, 62, 63, 64, 65, 66, 67, 68, 69, 70, 71, 72, 73, 435, 434, 433, 432], [49, 48, 47, 46, 45, 4, 166, 98, 97, 76, 75, 74, 433, 432], [49, 10, 9, 47, 46, 45, 98, 97, 433, 432], [49, 48, 47, 46, 45, 44, 248, 375, 389, 434, 433, 432], [49, 50, 57, 58, 59, 63, 64, 65, 66, 67, 68, 72, 73, 435, 434, 433, 432], [49, 48, 47, 46, 45, 44, 4, 166, 98, 77, 76, 75, 74, 73, 436, 435, 434, 433, 432], [49, 48, 47, 46, 45, 44, 5, 4, 166, 98, 77, 76, 97, 433, 432], [49, 48, 9, 47, 46, 45, 98, 97, 433, 432], [49, 50, 51, 52, 53, 54, 55, 56, 57, 58, 59, 63, 64, 65, 66, 67, 68, 69, 70, 71, 72, 73, 435, 434, 433, 432], [49, 50, 57, 58, 62, 63, 64, 65, 66, 67, 68, 69, 70, 71, 72, 73, 436, 435, 434, 433, 432], [49, 50, 51, 52, 53, 54, 55, 56, 57, 61, 62, 63, 64, 65, 66, 94, 95, 96, 97, 433, 432], [49, 50, 57, 58, 59, 63, 64, 68, 67, 66, 94, 95, 96, 97, 433, 432], [49, 50, 51, 11, 10, 9, 8, 7, 6, 5, 4, 44, 45, 98, 97, 433, 432], [49, 50, 57, 58, 59, 63, 64, 65, 66, 67, 68, 72, 73, 436, 435, 434, 433, 432], [49, 48, 47, 46, 45, 166, 98, 97, 433, 430, 431, 432], [49, 48, 47, 8, 7, 46, 45, 98, 97, 433, 432], [49, 48, 47, 46, 45, 166, 98, 97, 76, 75, 74, 73, 435, 434, 433, 432], [49, 10, 9, 48, 47, 46, 45, 4, 98, 97, 433, 432], [49, 50, 52, 13, 12, 11, 10, 9, 8, 7, 6, 5, 4, 166, 98, 97, 433, 432], [49, 50, 51, 11, 10, 9, 8, 47, 46, 45, 98, 97, 433, 432], [49, 48, 47, 8, 7, 6, 4, 98, 97, 433, 432], [49, 48, 47, 46, 45, 166, 98, 97, 433, 434, 431, 432], [49, 48, 47, 46, 7, 6, 5, 4, 44, 45, 98, 97, 433, 432], [49, 50, 51, 52, 53, 54, 55, 56, 57, 58, 59, 63, 64, 65, 66, 67, 68, 69, 70, 71, 72, 73, 436, 435, 434, 433, 432], [49, 50, 52, 53, 54, 55, 56, 57, 80, 79, 78, 77, 76, 75, 74, 73, 435, 434, 433, 432], [49, 79, 78, 77, 76, 96, 97, 433, 432], [49, 50, 52, 13, 12, 11, 10, 9, 8, 7, 6, 5, 4, 45, 98, 97, 433, 432], [49, 48, 47, 46, 45, 166, 98, 97, 76, 75, 74, 73, 436, 435, 434, 433, 432], [49, 48, 47, 46, 45, 44, 43, 42, 41, 40, 39, 73, 74, 75, 97, 433, 432], [49, 48, 47, 46, 45, 44, 74, 73, 435, 434, 433, 432], [49, 50, 52, 53, 54, 55, 56, 57, 58, 59, 60, 61, 62, 63, 94, 95, 96, 97, 433, 432], [49, 48, 47, 46, 45, 44, 4, 166, 98, 97, 433, 430, 431, 432], [49, 48, 47, 46, 45, 44, 4, 166, 98, 97, 76, 75, 74, 73, 435, 434, 433, 432], [49, 50, 52, 53, 54, 55, 56, 57, 80, 79, 78, 77, 76, 75, 74, 73, 436, 435, 434, 433, 432], [49, 48, 47, 46, 45, 44, 4, 98, 77, 76, 97, 433, 432], [49, 50, 57, 58, 59, 62, 63, 64, 65, 66, 94, 95, 96, 97, 433, 432], [49, 50, 52, 51, 11, 10, 9, 8, 7, 6, 5, 4, 98, 97, 433, 432], [49, 48, 47, 46, 45, 44, 4, 166, 98, 97, 433, 434, 431, 432], [49, 50, 79, 78, 99, 98, 97, 433, 432], [49, 50, 57, 58, 59, 63, 64, 68, 69, 70, 71, 72, 73, 435, 434, 433, 432], [49, 50, 57, 58, 61, 62, 63, 64, 65, 66, 94, 95, 96, 97, 433, 432], [49, 9, 8, 7, 6, 5, 4, 44, 45, 98, 97, 433, 432], [49, 10, 9, 8, 7, 6, 5, 44, 4, 166, 98, 97, 433, 432], [49, 48, 47, 46, 45, 44, 237, 42, 43, 5, 4, 166, 98, 97, 433, 432], [49, 50, 57, 58, 59, 63, 64, 65, 66, 67, 68, 69, 70, 71, 72, 73, 74, 75, 76, 97, 433, 432], [49, 48, 47, 46, 45, 44, 74, 73, 436, 435, 434, 433, 432], [49, 50, 57, 58, 59, 60, 61, 62, 63, 64, 65, 66, 67, 68, 69, 70, 71, 72, 73, 74, 433, 432], [49, 48, 47, 46, 45, 74, 73, 435, 434, 433, 432], [49, 48, 47, 46, 45, 44, 4, 166, 98, 97, 76, 75, 74, 73, 436, 435, 434, 433, 432], [49, 48, 47, 46, 77, 76, 75, 45, 98, 97, 433, 432], [49, 9, 8, 47, 46, 45, 98, 97, 433, 432], [49, 48, 47, 46, 45, 44, 43, 42, 41, 40, 39, 73, 74, 75, 76, 77, 98, 97, 433, 432], [49, 48, 47, 46, 45, 44, 248, 249, 388, 389, 390, 430, 431, 432], [49, 48, 9, 8, 7, 6, 5, 44, 4, 166, 98, 97, 433, 432], [49, 48, 47, 46, 45, 4, 166, 98, 97, 96, 95, 94, 66, 67, 68, 69, 70, 71, 72, 73, 435, 434, 433, 432], [49, 10, 9, 8, 7, 6, 5, 44, 4, 45, 98, 97, 433, 432], [49, 50, 52, 57, 80, 79, 78, 77, 98, 97, 433, 432], [49, 48, 47, 46, 45, 4, 166, 98, 77, 76, 75, 433, 432], [49, 50, 57, 58, 59, 63, 64, 68, 69, 70, 71, 72, 73, 436, 435, 434, 433, 432], [49, 48, 76, 97, 433, 432], [49, 48, 47, 77, 76, 46, 45, 4, 166, 98, 97, 433, 432], [49, 50, 52, 53, 54, 55, 56, 57, 58, 90, 94, 95, 96, 97, 433, 432], [49, 48, 47, 46, 45, 44, 248, 375, 389, 390, 430, 431, 432], [49, 48, 47, 46, 45, 74, 73, 436, 435, 434, 433, 432], [49, 48, 47, 8, 7, 6, 5, 44, 45, 4, 98, 97, 433, 432], [49, 50, 57, 56, 60, 59, 63, 64, 65, 66, 67, 68, 69, 70, 71, 72, 73, 435, 434, 433, 432], [49, 48, 9, 8, 7, 6, 5, 44, 4, 45, 98, 97, 433, 432], [49, 48, 46, 45, 98, 77, 76, 97, 433, 432], [49, 48, 47, 9, 8, 7, 6, 5, 4, 98, 97, 433, 432], [49, 50, 52, 53, 54, 55, 56, 59, 58, 90, 91, 92, 93, 94, 95, 96, 97, 433, 432], [49, 50, 52, 53, 54, 55, 56, 57, 58, 59, 63, 62, 94, 95, 96, 97, 433, 432], [49, 48, 47, 46, 45, 4, 166, 98, 97, 96, 95, 94, 66, 67, 68, 69, 70, 71, 72, 73, 436, 435, 434, 433, 432], [49, 50, 51, 52, 53, 54, 55, 56, 60, 59, 63, 64, 65, 66, 94, 95, 96, 97, 433, 432], [49, 50, 51, 52, 13, 12, 11, 10, 9, 8, 7, 6, 5, 4, 98, 97, 433, 432], [49, 50, 52, 53, 54, 55, 56, 59, 60, 61, 62, 63, 64, 65, 66, 94, 95, 96, 97, 433, 432], [49, 50, 52, 57, 80, 79, 78, 77, 76, 97, 433, 432], [49, 50, 57, 56, 60, 59, 63, 64, 65, 66, 67, 68, 69, 70, 71, 72, 73, 436, 435, 434, 433, 432], [49, 47, 46, 45, 4, 98, 97, 433, 432], [49, 79, 78, 77, 76, 46, 45, 98, 97, 433, 432], [49, 50, 51, 52, 53, 54, 55, 56, 57, 58, 90, 91, 96, 97, 433, 432], [49, 48, 47, 46, 76, 77, 78, 100, 99, 98, 97, 433, 432], [49, 48, 47, 46, 45, 4, 98, 77, 76, 75, 97, 433, 432], [49, 48, 47, 46, 45, 166, 98, 97, 433, 430, 432], [49, 50, 57, 56, 59, 60, 61, 62, 63, 67, 66, 94, 95, 96, 97, 433, 432], [49, 50, 51, 52, 57, 80, 79, 78, 77, 76, 75, 74, 73, 435, 434, 433, 432], [49, 48, 47, 46, 45, 98, 97, 433, 390, 430, 431, 432], [49, 10, 9, 8, 7, 47, 46, 45, 98, 97, 433, 432], [49, 10, 9, 8, 47, 46, 45, 4, 98, 97, 433, 432], [49, 48, 47, 46, 45, 4, 166, 98, 77, 76, 96, 97, 433, 432], [49, 48, 47, 46, 45, 98, 99, 100, 78, 77, 76, 75, 74, 73, 435, 434, 433, 432], [49, 50, 57, 58, 59, 60, 61, 62, 63, 64, 67, 66, 94, 95, 96, 97, 433, 432], [49, 50, 51, 52, 57, 58, 59, 60, 61, 62, 63, 94, 95, 96, 97, 433, 432], [49, 50, 51, 52, 57, 80, 79, 78, 77, 76, 75, 74, 73, 436, 435, 434, 433, 432], [49, 48, 9, 8, 7, 47, 46, 45, 98, 97, 433, 432], [49, 48, 9, 8, 47, 46, 45, 4, 98, 97, 433, 432], [49, 48, 47, 46, 76, 77, 78, 98, 97, 433, 432], [49, 48, 47, 46, 45, 4, 166, 98, 97, 76, 75, 433, 432], [49, 48, 47, 46, 45, 44, 4, 166, 98, 97, 433, 430, 432], [49, 50, 57, 61, 60, 59, 63, 62, 94, 95, 96, 97, 433, 432], [49, 48, 47, 46, 45, 98, 99, 100, 78, 77, 76, 75, 74, 73, 436, 435, 434, 433, 432], [49, 50, 51, 52, 53, 54, 55, 56, 59, 63, 94, 95, 96, 97, 433, 432], [49, 10, 9, 8, 7, 6, 5, 43, 44, 45, 98, 97, 433, 432], [49, 79, 78, 77, 47, 46, 45, 98, 97, 433, 432], [49, 48, 47, 46, 45, 44, 248, 375, 2, 3, 4, 166, 98, 97, 433, 432], [49, 50, 52, 12, 11, 10, 9, 8, 7, 6, 5, 4, 166, 98, 97, 433, 432], [49, 50, 51, 52, 53, 54, 55, 56, 59, 60, 61, 62, 94, 95, 96, 97, 433, 432], [49, 10, 9, 8, 7, 6, 45, 4, 166, 98, 97, 433, 432], [49, 48, 47, 46, 75, 74, 73, 435, 434, 433, 432], [49, 48, 47, 46, 45, 98, 78, 77, 76, 75, 74, 73, 435, 434, 433, 432], [49, 48, 9, 8, 7, 6, 5, 43, 44, 45, 98, 97, 433, 432], [49, 48, 47, 46, 45, 4, 166, 98, 99, 78, 77, 76, 97, 433, 432], [49, 11, 10, 9, 8, 7, 6, 5, 44, 45, 98, 97, 433, 432], [49, 50, 57, 58, 59, 60, 61, 62, 63, 64, 65, 66, 67, 68, 72, 73, 435, 434, 433, 432], [49, 48, 47, 46, 45, 44, 248, 247, 246, 2, 3, 4, 98, 97, 433, 432], [49, 48, 47, 77, 76, 75, 74, 73, 433, 432], [49, 48, 47, 46, 45, 44, 248, 249, 388, 389, 390, 430, 432], [49, 48, 9, 8, 7, 6, 45, 4, 166, 98, 97, 433, 432], [49, 50, 52, 12, 11, 10, 9, 8, 7, 6, 5, 4, 45, 98, 97, 433, 432], [49, 48, 47, 46, 45, 166, 98, 97, 433, 434, 430, 431, 432], [49, 50, 51, 52, 57, 58, 90, 94, 95, 96, 97, 433, 432], [49, 50, 51, 52, 53, 54, 55, 56, 57, 58, 59, 60, 61, 62, 63, 64, 65, 66, 67, 68, 69, 70, 71, 72, 73, 435, 434, 433, 432], [49, 48, 47, 7, 6, 45, 98, 97, 433, 432], [49, 48, 47, 8, 7, 6, 5, 44, 4, 166, 98, 97, 433, 432], [49, 48, 47, 46, 75, 74, 73, 436, 435, 434, 433, 432], [49, 48, 47, 46, 45, 98, 78, 77, 76, 75, 74, 73, 436, 435, 434, 433, 432], [49, 50, 52, 53, 54, 55, 56, 60, 61, 62, 63, 64, 65, 66, 94, 95, 96, 97, 433, 432], [49, 50, 51, 52, 53, 54, 55, 56, 57, 80, 79, 78, 99, 98, 97, 433, 432], [49, 50, 51, 52, 57, 58, 59, 63, 62, 94, 95, 96, 97, 433, 432], [49, 50, 52, 57, 58, 59, 63, 94, 95, 96, 97, 433, 432], [49, 48, 47, 46, 45, 44, 248, 375, 389, 390, 430, 432], [49, 50, 57, 58, 59, 60, 61, 62, 63, 64, 68, 67, 66, 94, 95, 96, 97, 433, 432], [49, 50, 57, 58, 59, 60, 61, 62, 63, 64, 65, 66, 67, 68, 72, 73, 436, 435, 434, 433, 432], [49, 48, 47, 46, 45, 98, 390, 430, 431, 432], [49, 50, 52, 57, 58, 59, 60, 61, 62, 94, 95, 96, 97, 433, 432], [49, 48, 47, 8, 7, 6, 5, 44, 4, 45, 98, 97, 433, 432], [49, 50, 51, 52, 53, 54, 55, 56, 57, 58, 59, 60, 61, 62, 63, 64, 65, 66, 67, 68, 69, 70, 71, 72, 73, 436, 435, 434, 433, 432], [49, 50, 57, 56, 60, 61, 62, 63, 67, 66, 94, 95, 96, 97, 433, 432], [49, 50, 57, 56, 59, 58, 90, 91, 96, 97, 433, 432], [49, 48, 47, 46, 76, 75, 74, 73, 433, 432], [49, 48, 47, 46, 45, 44, 237, 4, 166, 98, 97, 433, 432], [49, 48, 47, 46, 45, 44, 4, 166, 98, 97, 433, 434, 430, 431, 432], [49, 50, 57, 58, 90, 89, 92, 93, 94, 95, 96, 97, 433, 432], [49, 11, 10, 9, 48, 47, 46, 45, 98, 97, 433, 432], [49, 48, 47, 77, 76, 75, 45, 4, 166, 98, 97, 433, 432], [49, 48, 46, 76, 75, 74, 73, 435, 434, 433, 432], [49, 48, 47, 46, 45, 75, 76, 77, 78, 99, 98, 97, 433, 432], [49, 48, 46, 45, 166, 4, 98, 97, 433, 432], [49, 48, 47, 46, 45, 98, 97, 433, 390, 430, 432], [49, 50, 52, 53, 54, 55, 56, 57, 58, 59, 63, 64, 65, 66, 67, 68, 69, 70, 71, 72, 73, 435, 434, 433, 432], [49, 48, 47, 46, 45, 98, 166, 4, 44, 43, 42, 41, 40, 39, 73, 435, 434, 433, 432], [49, 48, 47, 46, 45, 4, 98, 77, 76, 75, 74, 433, 432], [49, 48, 47, 46, 45, 75, 74, 73, 433, 432], [49, 50, 57, 58, 59, 60, 61, 62, 63, 64, 68, 69, 70, 71, 72, 73, 435, 434, 433, 432], [49, 48, 47, 46, 45, 44, 248, 375, 390, 434, 433, 432], [49, 50, 52, 53, 54, 55, 56, 57, 61, 62, 63, 64, 65, 66, 94, 95, 96, 97, 433, 432], [49, 48, 47, 46, 45, 44, 248, 375, 374, 391, 390, 430, 431, 432], [49, 48, 47, 46, 45, 44, 5, 4, 166, 98, 77, 76, 75, 74, 73, 435, 434, 433, 432], [49, 50, 57, 58, 62, 63, 67, 66, 94, 95, 96, 97, 433, 432], [49, 50, 57, 58, 59, 60, 61, 62, 63, 64, 65, 66, 67, 68, 69, 70, 71, 72, 73, 74, 75, 76, 97, 433, 432], [49, 50, 51, 52, 53, 54, 55, 56, 60, 61, 62, 94, 95, 96, 97, 433, 432], [49, 50, 57, 58, 59, 60, 61, 62, 66, 94, 95, 96, 97, 433, 432], [49, 50, 51, 52, 12, 11, 10, 9, 8, 7, 6, 5, 4, 98, 97, 433, 432], [49, 48, 46, 76, 75, 74, 73, 436, 435, 434, 433, 432], [49, 50, 52, 53, 54, 55, 56, 57, 58, 59, 63, 64, 65, 66, 67, 68, 69, 70, 71, 72, 73, 436, 435, 434, 433, 432], [49, 48, 47, 46, 76, 75, 45, 4, 166, 98, 97, 433, 432], [49, 48, 47, 46, 45, 98, 166, 4, 44, 43, 42, 41, 40, 39, 73, 436, 435, 434, 433, 432], [49, 50, 11, 10, 9, 8, 7, 6, 5, 4, 166, 98, 97, 433, 432], [49, 79, 78, 77, 76, 75, 45, 98, 97, 433, 432], [49, 48, 46, 45, 75, 74, 73, 435, 434, 433, 432], [49, 50, 57, 58, 59, 60, 61, 62, 63, 64, 68, 69, 70, 71, 72, 73, 436, 435, 434, 433, 432], [49, 50, 51, 52, 53, 54, 55, 56, 57, 58, 59, 63, 67, 66, 94, 95, 96, 97, 433, 432], [49, 48, 47, 46, 45, 44, 5, 4, 166, 98, 77, 76, 75, 74, 73, 436, 435, 434, 433, 432], [49, 48, 47, 46, 45, 44, 43, 42, 41, 38, 39, 73, 435, 434, 433, 432], [49, 50, 51, 52, 53, 54, 55, 56, 60, 59, 58, 90, 91, 92, 93, 94, 95, 96, 97, 433, 432], [49, 50, 57, 61, 62, 63, 59, 58, 90, 91, 92, 93, 94, 95, 96, 97, 433, 432], [49, 48, 47, 46, 45, 4, 166, 98, 97, 433, 434, 389, 390, 430, 431, 432], [49, 50, 57, 61, 62, 63, 67, 68, 69, 70, 71, 72, 73, 435, 434, 433, 432], [49, 48, 77, 76, 46, 45, 4, 166, 98, 97, 433, 432], [49, 50, 11, 10, 9, 8, 7, 6, 5, 4, 45, 98, 97, 433, 432], [49, 50, 57, 58, 62, 61, 60, 59, 63, 64, 65, 66, 94, 95, 96, 97, 433, 432], [49, 48, 47, 46, 45, 98, 99, 78, 77, 76, 75, 97, 433, 432], [49, 48, 46, 45, 75, 74, 73, 436, 435, 434, 433, 432], [49, 48, 47, 46, 45, 4, 98, 97, 433, 434, 431, 430, 432], [49, 48, 47, 46, 45, 98, 97, 433, 434, 435, 73, 436, 437, 438, 431, 432], [49, 48, 47, 8, 7, 6, 5, 43, 44, 45, 98, 97, 433, 432], [49, 48, 47, 46, 45, 6, 4, 98, 97, 433, 432], [49, 48, 47, 46, 45, 166, 98, 97, 433, 434, 430, 432], [49, 48, 47, 46, 45, 44, 43, 42, 41, 38, 39, 73, 436, 435, 434, 433, 432], [49, 48, 47, 46, 45, 44, 237, 42, 41, 40, 39, 73, 74, 433, 432], [49, 50, 57, 58, 59, 63, 64, 65, 66, 67, 68, 69, 70, 270, 269, 268, 267, 432], [49, 48, 47, 8, 7, 6, 45, 4, 166, 98, 97, 433, 432], [49, 50, 57, 58, 59, 63, 62, 61, 65, 66, 94, 95, 96, 97, 433, 432], [49, 48, 47, 46, 45, 4, 166, 98, 97, 75, 74, 433, 432], [49, 50, 57, 61, 62, 63, 67, 68, 69, 70, 71, 72, 73, 436, 435, 434, 433, 432], [49, 50, 57, 58, 90, 89, 88, 92, 93, 94, 95, 96, 97, 433, 432], [49, 48, 47, 46, 45, 44, 4, 98, 77, 76, 75, 74, 73, 435, 434, 433, 432], [49, 50, 57, 61, 60, 59, 63, 64, 65, 66, 67, 68, 69, 70, 71, 72, 73, 435, 434, 433, 432], [49, 50, 51, 52, 53, 54, 55, 56, 57, 61, 62, 94, 95, 96, 97, 433, 432], [49, 48, 47, 46, 45, 98, 390, 430, 432], [49, 48, 47, 46, 45, 4, 98, 97, 76, 75, 74, 433, 432], [49, 50, 57, 61, 65, 66, 94, 95, 96, 97, 433, 432], [49, 50, 79, 78, 77, 76, 75, 97, 433, 432], [49, 48, 47, 46, 45, 44, 5, 4, 166, 98, 97, 433, 430, 431, 432], [49, 48, 47, 46, 45, 44, 5, 4, 166, 98, 97, 76, 75, 74, 73, 435, 434, 433, 432], [49, 48, 47, 46, 45, 98, 77, 76, 75, 74, 73, 433, 432], [49, 48, 47, 46, 45, 44, 4, 98, 77, 76, 75, 74, 73, 436, 435, 434, 433, 432], [49, 48, 47, 46, 45, 44, 4, 166, 98, 97, 433, 434, 430, 432], [49, 50, 57, 61, 60, 59, 63, 64, 65, 66, 67, 68, 69, 70, 71, 72, 73, 436, 435, 434, 433, 432], [49, 48, 46, 76, 77, 98, 97, 433, 432], [49, 48, 47, 46, 45, 44, 5, 4, 98, 77, 76, 97, 433, 432], [49, 48, 77, 47, 46, 45, 4, 166, 98, 97, 433, 432], [49, 48, 47, 46, 45, 44, 43, 42, 41, 40, 39, 73, 74, 75, 433, 432], [49, 48, 47, 46, 45, 98, 97, 433, 434, 435, 436, 437, 438, 431, 430, 432], [49, 48, 47, 46, 45, 166, 98, 97, 75, 74, 73, 435, 434, 433, 432], [49, 48, 47, 46, 45, 44, 5, 4, 166, 98, 97, 433, 434, 431, 432], [49, 48, 47, 46, 45, 44, 248, 375, 374, 373, 372, 393, 392, 391, 390, 430, 431, 432], [49, 48, 47, 77, 46, 45, 4, 166, 98, 97, 433, 432], [49, 48, 76, 75, 74, 73, 435, 434, 433, 432], [49, 48, 47, 46, 45, 44, 248, 375, 376, 389, 434, 433, 432], [49, 50, 51, 52, 57, 58, 59, 63, 64, 65, 66, 67, 68, 69, 70, 71, 72, 73, 435, 434, 433, 432], [49, 50, 52, 53, 54, 55, 56, 60, 59, 63, 64, 65, 66, 94, 95, 96, 97, 433, 432], [49, 48, 47, 46, 45, 44, 5, 4, 166, 98, 97, 76, 75, 74, 73, 436, 435, 434, 433, 432], [49, 11, 10, 9, 8, 7, 6, 5, 4, 44, 45, 98, 97, 433, 432], [49, 48, 46, 45, 98, 77, 76, 75, 74, 73, 435, 434, 433, 432], [49, 50, 51, 52, 57, 61, 62, 63, 64, 65, 66, 94, 95, 96, 97, 433, 432], [49, 50, 51, 52, 53, 54, 55, 56, 59, 60, 61, 62, 63, 94, 95, 96, 97, 433, 432], [49, 50, 52, 13, 12, 11, 10, 9, 8, 7, 6, 5, 4, 98, 97, 433, 432], [49, 50, 57, 58, 59, 62, 94, 95, 96, 97, 433, 432], [49, 48, 47, 46, 45, 166, 98, 97, 75, 74, 73, 436, 435, 434, 433, 432], [49, 50, 57, 58, 59, 63, 64, 65, 66, 94, 93, 92, 91, 96, 97, 433, 432], [49, 11, 10, 9, 8, 47, 46, 45, 98, 97, 433, 432], [49, 48, 76, 75, 74, 73, 436, 435, 434, 433, 432], [49, 48, 47, 46, 45, 44, 248, 375, 374, 391, 390, 430, 432], [49, 50, 57, 58, 61, 62, 94, 95, 96, 97, 433, 432], [49, 50, 52, 53, 54, 55, 56, 57, 58, 90, 91, 96, 97, 433, 432], [49, 50, 57, 56, 60, 59, 63, 67, 66, 94, 95, 96, 97, 433, 432], [49, 79, 78, 48, 47, 46, 45, 98, 97, 433, 432], [49, 48, 47, 46, 45, 44, 4, 166, 98, 97, 75, 74, 73, 435, 434, 433, 432], [49, 50, 57, 56, 60, 59, 58, 90, 94, 95, 96, 97, 433, 432], [49, 50, 51, 52, 57, 58, 59, 63, 64, 65, 66, 67, 68, 69, 70, 71, 72, 73, 436, 435, 434, 433, 432], [49, 50, 57, 80, 79, 78, 77, 48, 47, 46, 45, 98, 97, 433, 432], [49, 48, 78, 77, 76, 46, 45, 4, 166, 98, 97, 433, 432], [49, 79, 78, 77, 46, 45, 98, 97, 433, 432], [49, 48, 47, 46, 77, 78, 100, 99, 98, 97, 433, 432], [49, 50, 52, 57, 80, 79, 78, 77, 76, 75, 74, 73, 435, 434, 433, 432], [49, 48, 46, 45, 98, 77, 76, 75, 74, 73, 436, 435, 434, 433, 432], [49, 50, 57, 58, 59, 63, 64, 65, 66, 94, 93, 92, 96, 97, 433, 432], [49, 48, 46, 47, 77, 98, 97, 433, 432], [49, 48, 47, 46, 45, 44, 4, 98, 97, 433, 430, 431, 432], [49, 48, 47, 46, 45, 44, 4, 98, 97, 76, 75, 74, 73, 435, 434, 433, 432], [49, 48, 77, 76, 75, 74, 73, 433, 432], [49, 50, 57, 58, 59, 63, 64, 65, 66, 67, 68, 69, 70, 71, 72, 73, 74, 75, 97, 433, 432], [49, 50, 57, 56, 59, 63, 67, 68, 69, 70, 71, 72, 73, 435, 434, 433, 432], [49, 48, 47, 46, 45, 44, 4, 166, 98, 97, 75, 74, 73, 436, 435, 434, 433, 432], [49, 50, 51, 11, 10, 9, 8, 7, 6, 45, 98, 97, 433, 432], [49, 48, 47, 46, 45, 44, 4, 98, 97, 433, 434, 431, 432], [49, 48, 47, 46, 45, 4, 166, 98, 97, 433, 434, 435, 436, 437, 438, 431, 432], [49, 50, 52, 57, 58, 59, 60, 61, 62, 63, 94, 95, 96, 97, 433, 432], [49, 48, 47, 46, 45, 4, 44, 237, 42, 41, 40, 39, 73, 435, 434, 433, 432], [49, 48, 47, 46, 45, 4, 166, 98, 97, 433, 434, 389, 390, 430, 432], [49, 50, 52, 57, 80, 79, 78, 77, 76, 75, 74, 73, 436, 435, 434, 433, 432], [49, 48, 47, 46, 45, 44, 43, 42, 41, 40, 39, 73, 433, 432], [49, 10, 9, 8, 7, 6, 5, 44, 4, 98, 97, 433, 432], [49, 48, 47, 46, 45, 44, 237, 42, 43, 5, 4, 98, 97, 433, 432], [49, 48, 47, 46, 45, 44, 43, 42, 41, 40, 436, 73, 435, 434, 433, 432], [49, 48, 47, 46, 7, 6, 45, 98, 97, 433, 432], [49, 48, 47, 46, 45, 98, 97, 76, 75, 74, 73, 433, 432], [49, 50, 57, 58, 59, 63, 64, 67, 68, 69, 70, 71, 72, 73, 435, 434, 433, 432], [49, 48, 47, 46, 45, 44, 4, 98, 97, 76, 75, 74, 73, 436, 435, 434, 433, 432], [49, 48, 47, 46, 77, 78, 98, 97, 433, 432], [49, 50, 51, 52, 53, 54, 55, 56, 59, 63, 62, 94, 95, 96, 97, 433, 432], [49, 50, 52, 53, 54, 55, 56, 59, 63, 94, 95, 96, 97, 433, 432], [49, 50, 57, 56, 59, 63, 67, 68, 69, 70, 71, 72, 73, 436, 435, 434, 433, 432], [49, 48, 9, 8, 7, 6, 5, 44, 4, 98, 97, 433, 432], [49, 48, 47, 7, 6, 4, 166, 98, 97, 433, 432], [49, 48, 47, 46, 45, 98, 99, 78, 77, 76, 75, 74, 433, 432], [49, 48, 47, 46, 45, 4, 98, 97, 96, 95, 94, 66, 67, 68, 69, 70, 71, 72, 73, 435, 434, 433, 432], [49, 50, 52, 53, 54, 55, 56, 59, 60, 61, 62, 94, 95, 96, 97, 433, 432], [49, 48, 46, 47, 77, 76, 97, 433, 432], [49, 48, 47, 46, 45, 4, 44, 237, 42, 41, 40, 39, 73, 436, 435, 434, 433, 432], [49, 48, 47, 46, 45, 44, 248, 388, 389, 390, 434, 433, 432], [49, 48, 47, 77, 76, 75, 74, 73, 72, 71, 70, 69, 68, 67, 66, 94, 95, 96, 97, 433, 432], [49, 50, 57, 58, 59, 63, 64, 65, 66, 67, 68, 69, 70, 71, 72, 73, 74, 75, 76, 77, 98, 97, 433, 432], [49, 48, 47, 46, 45, 4, 98, 77, 76, 75, 433, 432], [49, 48, 78, 77, 47, 46, 45, 4, 166, 98, 97, 433, 432], [49, 48, 46, 45, 44, 43, 42, 41, 40, 39, 73, 435, 434, 433, 432], [49, 50, 57, 80, 79, 78, 77, 76, 46, 45, 4, 166, 98, 97, 433, 432], [49, 48, 47, 77, 76, 46, 45, 4, 98, 97, 433, 432], [49, 48, 46, 45, 98, 97, 433, 430, 431, 432], [49, 50, 57, 58, 59, 63, 64, 67, 68, 69, 70, 71, 72, 73, 436, 435, 434, 433, 432], [49, 48, 46, 45, 98, 97, 76, 75, 74, 73, 435, 434, 433, 432], [49, 50, 57, 58, 59, 60, 61, 91, 92, 93, 94, 95, 96, 97, 433, 432], [49, 50, 51, 52, 53, 54, 55, 56, 57, 58, 62, 63, 64, 65, 66, 94, 95, 96, 97, 433, 432], [49, 48, 47, 7, 6, 4, 45, 98, 97, 433, 432], [49, 48, 47, 46, 45, 44, 237, 42, 41, 40, 436, 435, 434, 433, 432], [49, 48, 47, 46, 74, 433, 432]]\n",
      "[0.33518512681562507, 0.4720164806408469, 0.5269147662488527, 0.6099228756677556, 0.6151422553798875, 0.6612180219918214, 0.6700405409878933, 0.6772993048539883, 0.6792102525157141, 0.7161163075998273, 0.7212880462904181, 0.7265527281430896, 0.7321696081161757, 0.7373009361537436, 0.7524296051975792, 0.7558362958302811, 0.7591535843571939, 0.7647704643302801, 0.7660466360893112, 0.7681624906926965, 0.7690421221080116, 0.7711579767113969, 0.7731647372348265, 0.7743084923515813, 0.7779570527089273, 0.7787816172079125, 0.7794398203891492, 0.7797293352122918, 0.7814488233961703, 0.7830883807464953, 0.7847206021587732, 0.7870657033692563, 0.7876089522142881, 0.7883691625161193, 0.7906044382329884, 0.7946263823416603, 0.7979751800656867, 0.8012680148486627, 0.8016237404230327, 0.8021308429057157, 0.8069093485656856, 0.80892484528549, 0.8097839188540903, 0.8099460606490998, 0.8105579089230317, 0.8113477622462288, 0.8125734056428362, 0.8135946210064459, 0.81413065867921, 0.8209205014433181, 0.8209449216973171, 0.8230607763007024, 0.8245690618006641, 0.8281385329268264, 0.8292045876046621, 0.8324095737558237, 0.8326143615891166, 0.8328531479620082, 0.8358955750869805, 0.8382181966077569, 0.8394909776475901, 0.841313638166972, 0.8415124550600668, 0.842507237822294, 0.8453575401916732, 0.856572810680493, 0.862283443845772, 0.8653484363185145, 0.8659320042031182, 0.8661543572951497, 0.8675412047571462, 0.8687663235199768, 0.8689969966758607, 0.8690289442872158, 0.874383203493063, 0.883140481058254, 0.8836513392954723, 0.884145030880869, 0.8847939015384118, 0.8862608854842543, 0.8864918423539258, 0.8872828135811536, 0.8872998996528184, 0.8875126471971225, 0.8897924146808425, 0.8924141416187215, 0.8926676496555029, 0.8933304861258646, 0.8963802244183361, 0.8964899952256755, 0.8976949233883456, 0.8980765008421863, 0.9001385555830217, 0.9026829863795899, 0.9057073470058459, 0.9061620401416558, 0.9074217387433694, 0.9091575261603562, 0.9096484983488304, 0.9099247547233545, 0.9109495012952589, 0.9119867676312264, 0.9121678968470522, 0.9125530667809372, 0.9134788621580756, 0.914282039965415, 0.9142837514504375, 0.9155947167614609, 0.9158555950032863, 0.9165220877284685, 0.9178338485505613, 0.9198836697952579, 0.9201706480858146, 0.922439490365152, 0.9286733780787472, 0.9310884264574747, 0.9337302129720291, 0.9338948226728904, 0.9348065338909085, 0.93513365085289, 0.9352367706803462, 0.9354671004000684, 0.9354706336791238, 0.9365392233561463, 0.9382900028396248, 0.9384550942482546, 0.9384580181930401, 0.9387822112102363, 0.9388359284649729, 0.9400225949574738, 0.9400344443910382, 0.940368098717914, 0.9404598305032467, 0.9410663136305157, 0.9412854888583252, 0.9413901279619316, 0.9421789088342343, 0.9430299304097386, 0.9430593070408878, 0.9448519189551515, 0.9454639483763231, 0.9456488804875381, 0.9461343258533943, 0.9464406804544231, 0.9466152726793121, 0.9467774144743215, 0.9475659352635086, 0.9481791160714507, 0.9494361664731235, 0.9499832469927194, 0.9504259748316677, 0.9520370537061187, 0.9531709317046477, 0.9534927553593978, 0.9540337478351062, 0.9548494916794135, 0.9572564334182506, 0.9576588640707488, 0.9583013882341183, 0.9589034583944515, 0.9596709904730383, 0.9610603257496617, 0.9613074244280949, 0.9619499485914644, 0.9623178339964501, 0.9631204496164987, 0.9639832776735516, 0.9649698867520482, 0.9678376268944505, 0.9685186066692568, 0.969599577100201, 0.9708743389778646, 0.9737935932050863, 0.9747475160635147, 0.9749678950026024, 0.9750495504329786, 0.9759094478084716, 0.9774527751692559, 0.9780648045904277, 0.9782569518610333, 0.9783746157868836, 0.9786170171308504, 0.9805847749756886, 0.9818487797720831, 0.9823390419323705, 0.9835897366474524, 0.9837672370403966, 0.9844203224345931, 0.985168338108205, 0.9853940009659929, 0.9865172278527389, 0.9865410380223771, 0.9874157973977427, 0.9877421237934545, 0.9888361852977664, 0.9895516504721611, 0.9897048194989142, 0.9901328659334269, 0.9903689192871296, 0.9914639280468883, 0.9915230483360179, 0.9918738228087962, 0.9922718466871426, 0.9924154786362223, 0.9931882884476306, 0.993329930642458, 0.9933533798562605, 0.9934041645057147, 0.9936957139874246, 0.9942620085236595, 0.9949327299990441, 0.9952487254793518, 0.9953559093300631, 0.9953581161112525, 0.9953966902375601, 0.9966256605250445, 0.996691200006125, 0.9986187952987922, 0.999114797670994, 0.9997480142082321, 0.9999990854515909, 1.0006191132119853, 1.0009401832183584, 1.001338966062429, 1.001513558287318, 1.0016757000823273, 1.0027633580283402, 1.0030774016794566, 1.003166072934808, 1.0033322000301848, 1.0042356752718784, 1.0048684728552857, 1.0053242604396735, 1.005590343484073, 1.006282999564775, 1.0086533466369916, 1.0094150933356314, 1.0095980646771507, 1.0097585760380114, 1.009877662408754, 1.0102147473232461, 1.011713919280536, 1.0121547190262565, 1.012593550695851, 1.013537602574894, 1.0138633076805923, 1.0140102383292233, 1.014567085726119, 1.0147094052992363, 1.0147852421147834, 1.0149087959475578, 1.015447068958313, 1.0167645856872605, 1.0168864002989202, 1.0170211786486976, 1.0176824718707391, 1.0184379867512847, 1.0185573563049037, 1.0193008148083376, 1.0196256123191587, 1.019868172360054, 1.0203419819248394, 1.0205349606562664, 1.0209763847060909, 1.0215408364708867, 1.0218566910714508, 1.0222943244905671, 1.0226283714880755, 1.0227236592110942, 1.0230922393094761, 1.023211722174537, 1.0232230869280217, 1.0232741726765047, 1.023972545674836, 1.0239905422821856, 1.0242604349332136, 1.0262769318454217, 1.0263722195684404, 1.026390284386513, 1.0265230775007395, 1.0272008710863505, 1.0290623353255657, 1.0294964089580407, 1.0299478360409844, 1.0299985415595678, 1.0301618399510866, 1.0305740446824116, 1.0308494314436967, 1.03103233152633, 1.0311603808021277, 1.0316706008339922, 1.0317012541887591, 1.0334727239176424, 1.033541039432463, 1.033928485556514, 1.034155866820828, 1.035407724417162, 1.0357934243945437, 1.0361539624495106, 1.0365899707111619, 1.0387777942366025, 1.039149448468211, 1.0392612703429331, 1.039316417687674, 1.0414155134607448, 1.0425102695354562, 1.0425387008310678, 1.0430565594148735, 1.0434190071964276, 1.043779870960142, 1.0443946742096888, 1.0445796176242372, 1.0451355029834402, 1.0454934915685463, 1.0458957255635273, 1.046052045433574, 1.0461588298928024, 1.0463745595072842, 1.0464798521740524, 1.0475521923100954, 1.0477808551204808, 1.0481309890021404, 1.0483024501137204, 1.0485939995954305, 1.0495795456584456, 1.0496353341202567, 1.0500231198646302, 1.0500252149067282, 1.0503102159832973, 1.0522833008993968, 1.0524260705866828, 1.054013083279, 1.0541947658990427, 1.0547910657280861, 1.0548067953202143, 1.054822695845812, 1.055409502585104, 1.055517398819991, 1.0558362784714392, 1.0563883976311825, 1.056660949550212, 1.0571573888375505, 1.057661643636346, 1.0579086218985383, 1.058039851030649, 1.0581328391825962, 1.0582304856381903, 1.0583424299935116, 1.058483610069594, 1.0585969856890949, 1.059459813746148, 1.0602038942327268, 1.06102638255819, 1.0616584750246845, 1.0619909903508578, 1.0620139345170974, 1.0624777070148546, 1.062585713643662, 1.0630391181140588, 1.0632120532437055, 1.0638481056412823, 1.0644963502851565, 1.064539075245981, 1.064840742468952, 1.065006854682732, 1.065154972717444, 1.065342187085119, 1.0655738528761785, 1.0664177485367732, 1.0665293417706183, 1.0665492833243233, 1.0666122048885418, 1.0679197802826967, 1.0684893028262983, 1.0685448380301246, 1.068816153856011, 1.069221334263376, 1.0694386656490502, 1.069680687266973, 1.0700663088941194, 1.0717771894911905, 1.0718621265570376, 1.0722674927631024, 1.0726760067592338, 1.0726761732856733, 1.0727129289178172, 1.0727337681068434, 1.073518347235952, 1.0737245304909766, 1.0738585381461836, 1.0744805817907843, 1.0745952323460588, 1.0752286940375964, 1.0756672822901947, 1.0758746703140967, 1.0760915220946492, 1.0761657901769563, 1.0763614892751634, 1.0763823284641896, 1.0774282170095517, 1.0774503660572337, 1.0779323086299493, 1.077990524917482, 1.079191322932603, 1.0794151141921067, 1.0795274904281649, 1.0798906608661096, 1.0800246497973165, 1.0801835532918724, 1.0808717280166897, 1.0815808689872952, 1.0818691910064775, 1.0821405044007018, 1.0825184082211365, 1.083176050785511, 1.0833243291977717, 1.084360174750631, 1.0844112635973657, 1.0845202883740361, 1.0845216677062208, 1.0846014342390358, 1.0846838095012303, 1.0850601255590924, 1.0852945019212505, 1.0857222289083892, 1.0860586664101335, 1.0860855110983594, 1.0861557051487791, 1.0861669685784827, 1.0865335584450941, 1.0870655143320387, 1.0882899879399508, 1.0883323698585765, 1.0889273539078344, 1.0894739407129905, 1.089738544596256, 1.0897410474183529, 1.0899031892133624, 1.0901821188024403, 1.0906917100025495, 1.0908927190909639, 1.0910522480575164, 1.0913048908104912, 1.0915955724486184, 1.0921846380107234, 1.0923459296064828, 1.092561941212164, 1.0925666815015178, 1.0925735559693017, 1.0930135617441865, 1.0931225010703367, 1.0931554934242584, 1.0935266436756272, 1.0935517495707083, 1.0937631693784842, 1.0938729065231876, 1.0939154168990786, 1.0943135757287605, 1.094682536104903, 1.0951327420593402, 1.0955621675202183, 1.0955685015229142, 1.0957348122196735, 1.0958331983680694, 1.09612772486592, 1.09650234429826, 1.0968199484880221, 1.0970689120110813, 1.0971752040329732, 1.0974369864390734, 1.0975531453874943, 1.0976780221236035, 1.0979504738686443, 1.0979548450228793, 1.0980676208363482, 1.0986426090074044, 1.0987813024166864, 1.0994146096267097, 1.100033788591446, 1.1003628931705371, 1.1011853814960002, 1.1012017057448404, 1.1013781377820582, 1.1018845858499255, 1.1019638734410337, 1.1020021397550848, 1.1026791407284866, 1.1028762817789568, 1.1029187483983516, 1.1031652667935958, 1.103879020789664, 1.1049676068276952, 1.1052085015913031, 1.1053499604944788, 1.1053509374791113, 1.1056221406979456, 1.1063702529447572, 1.1068138271509418, 1.1070834614310805, 1.1073243561946886, 1.1073349245415038, 1.1077056928030866, 1.1080956614910888, 1.1088617771743203, 1.1089994978364572, 1.1090423038838102, 1.109418851242973, 1.1096118246143736, 1.1096321662498099, 1.1098396862047832, 1.1099051319408635, 1.110624947030308, 1.1106716481105714, 1.1106837222655301, 1.1115347058463583, 1.1115788698887366, 1.1117941087789822, 1.1120132869238508, 1.1120556744455563, 1.1124917258508535, 1.1126681898014965, 1.1127408016336933, 1.1128351722234835, 1.1129559454598874, 1.1134516568365236, 1.1136599671282974, 1.113908997257431, 1.1141289976264948, 1.1143202084679174, 1.1143322826228763, 1.114754231283869, 1.1152464727448081, 1.1152743173559057, 1.1153876929754067, 1.1154235260838172, 1.1155017336577921, 1.115661847281197, 1.116181969086623, 1.1162505210324596, 1.117124483645195, 1.1173085274856436, 1.1173100865116836, 1.1175704166539242, 1.1176230538884213, 1.1179474131217912, 1.1181753251720192, 1.120688899886267, 1.120979564023978, 1.1212516762598148, 1.1215539984275125, 1.1215942066128235, 1.121843513250655, 1.1222336348624, 1.1226774071589467, 1.1227505196752476, 1.1228180658907023, 1.1229038356580454, 1.1233261969178843, 1.1234091088815785, 1.1234833281355818, 1.1235832762488402, 1.1240080752418833, 1.1241038088330049, 1.1241551206513476, 1.1242964700541953, 1.1244534043756294, 1.1245789728749789, 1.1252025587848584, 1.1263259675162929, 1.1263830042973828, 1.1263990800325936, 1.1265387781152982, 1.1266339178114804, 1.1268347801971363, 1.1269747572752304, 1.1270947266259765, 1.127656635599229, 1.1278841713123322, 1.128260896199682, 1.1283351832759565, 1.1283544021612397, 1.1286335480451282, 1.1291032005123645, 1.1295342641339985, 1.1296188445466462, 1.1298607215284926, 1.1304833405544825, 1.1305655678982005, 1.130571284778523, 1.1309811673679497, 1.131064075784962, 1.1313105595326234, 1.1315327316696782, 1.131799149051473, 1.1318724919001475, 1.132187263155285, 1.1321935478761038, 1.132228044062782, 1.1322821084024743, 1.1324705441367835, 1.132830594237955, 1.1328965753258629, 1.1330255669059082, 1.1345365831593592, 1.1347889464741154, 1.1352655885684573, 1.1356979804406664, 1.1358168140302867, 1.1359789558252964, 1.1361584135649587, 1.1364791545953012, 1.1365299392447552, 1.136545135683209, 1.1367405603800234, 1.1367674766144833, 1.1368304392768127, 1.136881311007027, 1.1369032595543753, 1.1370211926979028, 1.1373806574224252, 1.1374198963135085, 1.1377715370435801, 1.1382666091013258, 1.1382826987222474, 1.1393091155074482, 1.1395736085645198, 1.1396275161826421, 1.1398169747451654, 1.1400893581040499, 1.1401150364840833, 1.1401838627909713, 1.1401927875292561, 1.1405939567991006, 1.140669753055249, 1.1407218441138314, 1.141127940056189, 1.141915169458672, 1.1419378903215762, 1.1420471673146195, 1.142122872378844, 1.1421294637923345, 1.1421401959696185, 1.1422405724100346, 1.1426197670642462, 1.1429576758647944, 1.1430950857553968, 1.1431143533899968, 1.143153778595246, 1.143271332500405, 1.1433242657314058, 1.143737918461396, 1.1443822530445815, 1.1444677991444716, 1.1446393330263587, 1.144801474821368, 1.1450925820649578, 1.1453509449408588, 1.1456196718082325, 1.1458891327673808, 1.1460369599553997, 1.146203176418497, 1.1462464471608533, 1.1465292518825676, 1.1465507874922394, 1.1467090162339757, 1.146972826088752, 1.147108078784762, 1.1474649671095236, 1.1474718415773075, 1.147679268943631, 1.1477814015068133, 1.1481292941483718, 1.1483230641078266, 1.1484500351787141, 1.1486041172868244, 1.1490879272021195, 1.1492013028216204, 1.1492682321655787, 1.1495808217129089, 1.1497134687294952, 1.1499996466907085, 1.150031027667346, 1.1500641308786737, 1.1500846791175576, 1.1501993478495856, 1.1502112368602853, 1.1503289453622718, 1.1503390079321032, 1.1506330978276793, 1.150841592154445, 1.151039023323853, 1.1513984395513408, 1.1514006299062658, 1.1518980968924535, 1.1519716244651725, 1.1520602386874628, 1.1523608066735567, 1.1526370723026904, 1.1527089547481955, 1.1527318830681397, 1.1527388587109466]\n"
     ]
    }
   ],
   "source": [
    "pathList,alphas=converge_subopt_paths_betweenness(wMatGraph,source=49,target=432,maxPaths=10000,\n",
    "                                                  verbose=True,giveAlphas=True)\n",
    "print(pathList)\n",
    "pathLengths=[calculatePathLength(wMatGraph,path) for path in pathList]\n",
    "print(pathLengths)"
   ]
  },
  {
   "cell_type": "code",
   "execution_count": 96,
   "metadata": {},
   "outputs": [
    {
     "data": {
      "text/plain": [
       "701"
      ]
     },
     "execution_count": 96,
     "metadata": {},
     "output_type": "execute_result"
    }
   ],
   "source": [
    "len(pathList)"
   ]
  },
  {
   "cell_type": "code",
   "execution_count": 109,
   "metadata": {},
   "outputs": [
    {
     "data": {
      "image/png": "[encoded data removed]",
      "text/plain": [
       "<Figure size 432x288 with 1 Axes>"
      ]
     },
     "metadata": {
      "needs_background": "light"
     },
     "output_type": "display_data"
    },
    {
     "data": {
      "image/png": "[encoded data removed]",
      "text/plain": [
       "<Figure size 432x288 with 1 Axes>"
      ]
     },
     "metadata": {
      "needs_background": "light"
     },
     "output_type": "display_data"
    }
   ],
   "source": [
    "plt.plot(alphas)\n",
    "plt.loglog()\n",
    "plt.show()\n",
    "plt.plot(pathLengths)\n",
    "plt.show()"
   ]
  },
  {
   "cell_type": "code",
   "execution_count": 130,
   "metadata": {},
   "outputs": [
    {
     "data": {
      "text/plain": [
       "array([[0.00000000e+00, 7.97155396e-02, 0.00000000e+00, ...,\n",
       "        0.00000000e+00, 0.00000000e+00, 0.00000000e+00],\n",
       "       [0.00000000e+00, 0.00000000e+00, 8.15182756e-02, ...,\n",
       "        0.00000000e+00, 0.00000000e+00, 0.00000000e+00],\n",
       "       [0.00000000e+00, 0.00000000e+00, 0.00000000e+00, ...,\n",
       "        0.00000000e+00, 0.00000000e+00, 0.00000000e+00],\n",
       "       ...,\n",
       "       [0.00000000e+00, 0.00000000e+00, 0.00000000e+00, ...,\n",
       "        0.00000000e+00, 7.18408751e-17, 6.88952454e-18],\n",
       "       [0.00000000e+00, 0.00000000e+00, 0.00000000e+00, ...,\n",
       "        0.00000000e+00, 0.00000000e+00, 9.09865871e-18],\n",
       "       [0.00000000e+00, 0.00000000e+00, 0.00000000e+00, ...,\n",
       "        0.00000000e+00, 0.00000000e+00, 0.00000000e+00]])"
      ]
     },
     "execution_count": 130,
     "metadata": {},
     "output_type": "execute_result"
    }
   ],
   "source": [
    "system='igps'\n",
    "variant='apo'\n",
    "nRes=454\n",
    "Tsim=310.15\n",
    "kb=0.0019872041\n",
    "magCut=kb*Tsim*1.0\n",
    "seqDelta=0\n",
    "#filter out desired interaction energy edges based\n",
    "#for the given system based upon energy and\n",
    "#sequence delta cutoffs\n",
    "matData=sigData[\n",
    "    (sigData['System']==system) & \\\n",
    "    (sigData['Variant']==variant) & \\\n",
    "    ((sigData['ResNum_1']-sigData['ResNum_2'])<seqDelta) &\n",
    "    ((sigData['E_Interact.Mean'].abs() - sigData['E_Interact.Std_Err']) > magCut)]\n",
    "tempMat=sp.sparse.coo_matrix(\n",
    "    (matData['E_Interact.Mean'],\n",
    "     (matData['ResNum_1']-1,matData['ResNum_2']-1)),\n",
    "    shape=(454,454))\n",
    "datMat=np.abs(tempMat.todense())\n",
    "nzInds=np.nonzero(datMat)\n",
    "\n",
    "btwMat=np.array(correlation_data_utilities.getBtwMat(\n",
    "    datMat,sources=sourceSet,targets=targetSet,verbose=False,verboseLevel=0,\n",
    "    useProgressBar=True,pbarFun=tqdm.tqdm_notebook))\n",
    "btwMat"
   ]
  },
  {
   "cell_type": "code",
   "execution_count": 131,
   "metadata": {},
   "outputs": [],
   "source": [
    "btwWeightMat=copy.deepcopy(btwMat+btwMat.T)\n",
    "btwWeightMat=np.array(btwWeightMat)\n",
    "nzInds=np.nonzero(btwWeightMat)\n",
    "btwWeightMat[nzInds]=-np.log(btwWeightMat[nzInds])\n",
    "btwWeightGraph=nx.from_numpy_array(btwWeightMat)"
   ]
  },
  {
   "cell_type": "code",
   "execution_count": 134,
   "metadata": {},
   "outputs": [
    {
     "data": {
      "image/png": "[encoded data removed]",
      "text/plain": [
       "<Figure size 432x288 with 1 Axes>"
      ]
     },
     "metadata": {
      "needs_background": "light"
     },
     "output_type": "display_data"
    },
    {
     "name": "stdout",
     "output_type": "stream",
     "text": [
      "0.1811791377471204 9.474298649677799 42.87043160619085\n"
     ]
    }
   ],
   "source": [
    "btwWeights=[btwWeightGraph.edges()[edge]['weight'] for edge in btwWeightGraph.edges()]\n",
    "sns.distplot(btwWeights)\n",
    "plt.show()\n",
    "print(np.min(btwWeights),np.mean(btwWeights),np.max(btwWeights))"
   ]
  },
  {
   "cell_type": "code",
   "execution_count": 135,
   "metadata": {},
   "outputs": [
    {
     "name": "stdout",
     "output_type": "stream",
     "text": [
      "1.000e+00, 2.500e-01, 1.111e-01, 6.250e-02, 4.516e-02, 2.703e-02, 1.993e-02, 1.531e-02, 1.389e-02, 9.677e-03, 8.021e-03, 7.778e-03, 6.567e-03, 4.870e-03, 4.912e-03, 3.713e-03, 3.813e-03, 3.382e-03, 3.020e-03, 2.713e-03, 2.451e-03, 2.225e-03, 2.303e-03, 1.846e-03, 1.463e-03, 1.574e-03, 1.457e-03, 1.351e-03, 1.257e-03, 1.010e-03, 1.253e-03, 1.168e-03, 9.598e-04, 9.030e-04, 8.511e-04, 8.035e-04, 8.649e-04, 7.168e-04, 6.799e-04, 6.458e-04, 6.141e-04, 5.848e-04, 5.575e-04, 5.321e-04, 4.372e-04, 4.877e-04, 4.014e-04, 4.487e-04, 4.303e-04, 4.706e-04, 3.955e-04, 3.803e-04, 4.170e-04, 4.004e-04, 4.318e-04, 3.238e-04, 3.125e-04, 3.860e-04, 2.901e-04, 2.804e-04, 2.331e-04, 3.001e-04, 2.543e-04, 2.809e-04, 2.383e-04, 2.635e-04, 2.237e-04, 2.172e-04, 2.109e-04, 2.337e-04, 2.267e-04, 1.929e-04, 2.403e-04, 1.819e-04, 2.020e-04, 1.722e-04, 2.149e-04, 1.629e-04, 1.588e-04, 1.767e-04, 1.721e-04, 1.883e-04, 1.429e-04, 1.396e-04, 1.363e-04, 1.332e-04, 1.302e-04, 1.452e-04, 1.418e-04, 1.385e-04, 1.352e-04, 1.647e-04, 1.288e-04, 1.103e-04, 1.233e-04, 1.206e-04, 1.034e-04, 1.013e-04, 9.931e-05, 1.248e-04, 9.520e-05, 1.066e-04, 1.044e-04, 8.962e-05, 8.795e-05, 1.107e-04, 8.452e-05, 9.472e-05, 1.158e-04, 9.091e-05, 8.920e-05, 7.669e-05, 8.602e-05, 7.398e-05, 8.301e-05, 7.141e-05, 8.016e-05, 6.898e-05, 6.785e-05, 7.619e-05, 6.559e-05, 9.189e-05, 6.330e-05, 7.113e-05, 6.995e-05, 6.879e-05, 6.766e-05, 6.656e-05, 5.736e-05, 6.451e-05, 7.134e-05, 6.242e-05, 6.144e-05, 6.798e-05, 5.950e-05, 5.859e-05, 5.770e-05, 5.683e-05, 6.292e-05, 5.510e-05, 5.429e-05, 5.350e-05, 5.273e-05, 5.197e-05, 5.123e-05, 5.050e-05, 4.361e-05, 5.523e-05, 5.442e-05, 4.770e-05, 4.121e-05, 4.068e-05, 4.587e-05, 4.525e-05, 4.465e-05, 4.406e-05, 3.808e-05, 4.295e-05, 4.765e-05, 3.661e-05, 4.130e-05, 4.078e-05, 4.026e-05, 3.481e-05, 3.929e-05, 3.880e-05, 3.832e-05, 3.785e-05, 3.739e-05, 3.235e-05, 3.198e-05, 3.611e-05, 3.125e-05, 3.967e-05, 3.484e-05, 3.015e-05, 3.829e-05, 3.364e-05, 3.325e-05, 3.695e-05, 2.439e-05, 3.615e-05, 3.572e-05, 3.139e-05, 3.490e-05, 3.449e-05, 3.032e-05, 2.999e-05, 2.597e-05, 2.571e-05, 2.907e-05, 2.876e-05, 2.845e-05, 2.815e-05, 2.439e-05, 2.758e-05, 2.390e-05, 3.038e-05, 3.337e-05, 1.984e-05, 2.618e-05, 3.236e-05, 2.244e-05, 2.538e-05, 2.200e-05, 2.489e-05, 2.465e-05, 2.744e-05, 2.415e-05, 2.391e-05, 2.368e-05, 2.345e-05, 2.323e-05, 2.301e-05, 1.995e-05, 2.258e-05, 1.959e-05, 2.217e-05, 2.197e-05, 1.905e-05, 2.425e-05, 2.136e-05, 2.380e-05, 2.096e-05, 2.335e-05, 2.057e-05, 1.785e-05, 2.524e-05, 1.752e-05, 2.231e-05, 2.210e-05, 1.705e-05, 1.931e-05, 1.676e-05, 1.899e-05, 2.116e-05, 1.865e-05, 1.849e-05, 1.833e-05, 1.818e-05, 1.802e-05, 1.787e-05, 1.551e-05, 2.195e-05, 1.741e-05, 1.727e-05, 1.499e-05, 1.700e-05, 1.686e-05, 1.464e-05, 1.453e-05, 1.442e-05, 1.431e-05, 1.622e-05, 1.408e-05, 1.398e-05, 1.782e-05, 1.572e-05, 1.559e-05, 1.547e-05, 1.535e-05, 1.712e-05, 1.698e-05, 1.498e-05, 1.671e-05, 1.841e-05, 1.462e-05, 1.450e-05, 1.798e-05, 1.427e-05, 1.417e-05, 1.406e-05, 1.395e-05, 1.385e-05, 1.204e-05, 1.195e-05, 1.525e-05, 1.178e-05, 1.502e-05, 1.161e-05, 1.317e-05, 1.470e-05, 1.136e-05, 1.289e-05, 1.120e-05, 1.271e-05, 1.105e-05, 1.254e-05, 1.554e-05, 1.389e-05, 1.226e-05, 1.217e-05, 1.209e-05, 1.051e-05, 1.489e-05, 1.036e-05, 1.176e-05, 1.022e-05, 1.016e-05, 1.153e-05, 1.002e-05, 1.138e-05, 1.130e-05, 1.123e-05, 1.115e-05, 1.108e-05, 1.100e-05, 1.093e-05, 1.221e-05, 1.213e-05, 1.071e-05, 1.064e-05, 1.320e-05, 1.180e-05, 1.042e-05, 1.035e-05, 1.029e-05, 8.948e-06, 1.016e-05, 1.010e-05, 1.128e-05, 9.966e-06, 9.903e-06, 8.614e-06, 9.784e-06, 1.093e-05, 9.658e-06, 1.079e-05, 1.072e-05, 1.065e-05, 9.412e-06, 1.168e-05, 1.160e-05, 1.038e-05, 1.031e-05, 9.108e-06, 9.054e-06, 7.878e-06, 8.949e-06, 1.111e-05, 1.104e-05, 8.777e-06, 9.813e-06, 8.671e-06, 7.546e-06, 9.641e-06, 8.520e-06, 8.470e-06, 8.421e-06, 7.329e-06, 9.365e-06, 7.245e-06, 8.232e-06, 8.185e-06, 9.152e-06, 9.097e-06, 8.041e-06, 7.995e-06, 8.941e-06, 9.871e-06, 9.809e-06, 7.803e-06, 6.792e-06, 7.720e-06, 8.634e-06, 6.680e-06, 7.593e-06, 6.609e-06, 6.575e-06, 6.542e-06, 7.436e-06, 7.395e-06, 7.355e-06, 9.138e-06, 7.271e-06, 7.232e-06, 6.296e-06, 7.157e-06, 6.231e-06, 7.084e-06, 7.046e-06, 6.135e-06, 6.104e-06, 6.940e-06, 6.903e-06, 6.011e-06, 8.536e-06, 6.794e-06, 7.601e-06, 7.559e-06, 6.684e-06, 7.479e-06, 7.438e-06, 7.397e-06, 7.357e-06, 6.506e-06, 6.473e-06, 6.440e-06, 5.609e-06, 7.172e-06, 7.134e-06, 6.310e-06, 7.061e-06, 5.466e-06, 6.216e-06, 6.956e-06, 6.152e-06, 6.122e-06, 6.092e-06, 5.306e-06, 6.786e-06, 6.751e-06, 6.715e-06, 5.940e-06, 5.911e-06, 5.149e-06, 5.856e-06, 5.828e-06, 5.800e-06, 5.052e-06, 6.462e-06, 6.430e-06, 4.978e-06, 5.663e-06, 5.636e-06, 4.909e-06, 6.280e-06, 6.249e-06, 6.218e-06, 5.501e-06, 5.475e-06, 6.808e-06, 4.745e-06, 6.071e-06, 6.041e-06, 6.677e-06, 5.317e-06, 5.293e-06, 4.611e-06, 5.246e-06, 6.524e-06, 5.195e-06, 5.171e-06, 5.148e-06, 5.125e-06, 5.102e-06, 5.079e-06, 4.425e-06, 5.035e-06, 5.012e-06, 4.990e-06, 4.967e-06, 4.945e-06, 5.537e-06, 4.289e-06, 4.880e-06, 4.859e-06, 5.440e-06, 4.815e-06, 5.391e-06, 4.771e-06, 4.158e-06, 5.321e-06, 5.884e-06, 4.687e-06, 5.248e-06, 4.065e-06, 5.203e-06, 5.179e-06, 4.012e-06, 4.566e-06, 5.680e-06, 4.525e-06, 4.506e-06, 4.486e-06, 4.467e-06, 4.449e-06, 4.430e-06, 6.061e-06, 4.389e-06, 3.826e-06, 4.354e-06, 4.336e-06, 4.318e-06, 4.836e-06, 4.281e-06, 4.795e-06, 4.774e-06, 4.753e-06, 4.208e-06, 4.191e-06, 4.694e-06, 4.674e-06, 5.169e-06, 4.119e-06, 4.102e-06, 4.085e-06, 3.561e-06, 4.054e-06, 4.541e-06, 4.020e-06, 4.004e-06, 3.988e-06, 5.458e-06, 3.953e-06, 3.938e-06, 3.922e-06, 3.907e-06, 3.891e-06, 4.843e-06, 3.859e-06, 4.323e-06, 3.828e-06, 3.337e-06, 3.799e-06, 3.784e-06, 4.240e-06, 3.754e-06, 4.672e-06, 4.188e-06, 4.171e-06, 3.693e-06, 3.220e-06, 4.123e-06, 3.195e-06, 4.091e-06, 4.075e-06, 3.608e-06, 3.146e-06, 3.582e-06, 4.903e-06, 4.881e-06, 3.978e-06, 3.083e-06, 3.510e-06, 3.933e-06, 3.048e-06, 3.471e-06, 3.889e-06, 3.015e-06, 3.861e-06, 3.846e-06, 3.831e-06, 2.969e-06, 2.959e-06, 3.789e-06, 3.775e-06, 3.760e-06, 3.330e-06, 3.732e-06, 3.717e-06, 3.292e-06, 3.690e-06, 2.860e-06, 3.257e-06, 2.840e-06, 3.638e-06, 3.222e-06, 3.611e-06, 3.996e-06, 3.185e-06, 3.570e-06, 2.767e-06, 3.545e-06, 2.748e-06, 3.519e-06, 3.117e-06, 3.106e-06, 3.095e-06, 3.085e-06, 3.457e-06, 3.062e-06, 3.052e-06, 3.420e-06, 2.652e-06, 3.773e-06, 3.008e-06, 3.372e-06, 2.987e-06, 2.977e-06, 2.596e-06, 3.326e-06, 2.578e-06, 2.936e-06, 2.926e-06, 2.916e-06, 3.269e-06, 3.257e-06, 2.886e-06, 3.593e-06, 2.865e-06, 2.855e-06, 3.201e-06, 2.481e-06, 2.826e-06, 3.520e-06, 3.156e-06, 2.796e-06, 3.482e-06, 2.777e-06, 2.767e-06, 2.758e-06, 3.092e-06, 2.397e-06, 3.412e-06, 2.721e-06, 2.712e-06, 3.714e-06, 2.356e-06, 3.019e-06, 3.342e-06, 2.998e-06, 2.987e-06, 2.977e-06, 2.967e-06, 2.628e-06, 3.274e-06, 2.610e-06, 2.602e-06, 2.594e-06, 2.908e-06, 2.576e-06, 2.568e-06, 2.879e-06, 2.551e-06, 2.543e-06, 2.535e-06, 3.158e-06, 2.204e-06, 2.511e-06, 2.815e-06, 2.494e-06, 2.486e-06, 2.788e-06, 2.779e-06, 2.462e-06, 3.067e-06, 2.751e-06, 2.742e-06, 2.126e-06, 2.120e-06, 2.717e-06, 2.708e-06, 2.400e-06, 2.691e-06, 3.276e-06, 2.968e-06, 2.663e-06, 3.243e-06, 2.351e-06, 2.636e-06, 2.045e-06, 2.620e-06, 2.612e-06, 2.315e-06, 2.307e-06, 2.301e-06, 2.007e-06, 2.287e-06, 2.565e-06, 2.840e-06, 2.830e-06, 2.539e-06, 2.531e-06, 2.523e-06, 1.957e-06, 2.230e-06, 2.501e-06, 2.769e-06, 1.933e-06, 2.203e-06, 2.744e-06, 2.735e-06, 2.454e-06, 2.446e-06, 2.438e-06, 1.891e-06, 2.424e-06, 2.148e-06, 2.142e-06, 2.136e-06, 1.864e-06, 2.124e-06, 2.646e-06, 2.374e-06, 2.104e-06, 2.360e-06, 2.353e-06, 2.085e-06, 2.079e-06, 2.332e-06, 2.067e-06, 2.061e-06, 2.055e-06, 2.049e-06, 1.788e-06, 2.038e-06, 2.032e-06, 2.785e-06, 2.272e-06, 2.265e-06, 2.007e-06, 2.002e-06, 2.245e-06, 2.238e-06, 1.984e-06, 1.979e-06, 1.973e-06, 2.213e-06, 2.206e-06, 1.956e-06, 1.950e-06, 2.188e-06, 1.939e-06, 2.175e-06, 1.928e-06, 2.163e-06, 1.917e-06, 2.150e-06, 1.906e-06, 2.138e-06, 1.895e-06, 1.890e-06, 1.885e-06, 1.880e-06, 2.109e-06, 2.103e-06, 1.864e-06, 2.091e-06, 2.085e-06, 1.848e-06, 2.073e-06, 2.296e-06, 1.603e-06, 1.827e-06, 2.277e-06, 2.044e-06, 1.812e-06, 2.258e-06, 1.577e-06, 2.021e-06, 2.239e-06, 1.786e-06, 1.559e-06, 1.777e-06, 1.773e-06, 1.768e-06, 1.983e-06, 1.978e-06, "
     ]
    },
    {
     "name": "stdout",
     "output_type": "stream",
     "text": [
      "2.191e-06, 2.184e-06, 1.743e-06, 1.738e-06, 1.950e-06, 1.729e-06, 1.940e-06, 1.934e-06, 1.929e-06, 1.923e-06, 2.131e-06, 1.488e-06, 1.908e-06, 1.903e-06, 1.897e-06, 1.892e-06, 1.887e-06, 1.464e-06, 1.669e-06, 1.872e-06, 1.660e-06, 2.069e-06, 1.857e-06, 1.646e-06, 1.847e-06, 1.842e-06, 1.837e-06, 2.035e-06, 1.624e-06, 1.620e-06, 1.414e-06, 1.813e-06, 1.608e-06, 2.004e-06, 1.998e-06, 1.993e-06, 1.590e-06, 1.586e-06, 1.582e-06, 1.578e-06, 1.967e-06, 1.766e-06, 1.566e-06, 1.757e-06, 1.558e-06, 1.554e-06, 1.937e-06, 1.352e-06, 1.927e-06, 1.921e-06, 1.533e-06, 1.529e-06, 1.716e-06, 1.522e-06, 1.518e-06, 1.703e-06, 1.322e-06, 1.695e-06, 1.690e-06, 1.499e-06, 1.495e-06, 1.678e-06, 1.302e-06, 1.484e-06, 1.296e-06, 1.477e-06, 1.658e-06, 1.654e-06, 1.649e-06, 1.645e-06, 1.641e-06, 1.455e-06, 1.814e-06, 1.628e-06, 1.444e-06, 1.620e-06, 1.437e-06, 1.612e-06, 1.608e-06, 1.604e-06, 1.600e-06, 1.773e-06, 1.415e-06, 1.764e-06, 1.584e-06, 1.404e-06, 1.751e-06, 1.572e-06, 1.568e-06, 1.217e-06, 1.214e-06, 1.384e-06, 1.381e-06, 1.378e-06, 1.375e-06, 1.542e-06, 1.368e-06, 1.365e-06, 1.192e-06, 1.359e-06, 1.525e-06, 1.352e-06, 1.854e-06, 1.513e-06, 1.342e-06, 1.339e-06, 1.336e-06, 1.499e-06, 1.495e-06, 1.492e-06, 1.488e-06, 1.155e-06, 1.317e-06, 1.150e-06, 1.311e-06, 1.634e-06, 1.305e-06, 1.464e-06, 1.298e-06, 1.457e-06, 1.292e-06, 1.772e-06, 1.447e-06, 1.603e-06, 1.120e-06, 1.117e-06, 1.274e-06, 1.430e-06, 1.585e-06, 1.423e-06, 1.420e-06, 1.259e-06, 1.413e-06, 1.253e-06, 1.250e-06, 1.248e-06, 1.245e-06, 1.397e-06, 1.239e-06, 1.236e-06, 1.388e-06, 1.384e-06, 1.381e-06, 1.225e-06, 1.375e-06, 1.372e-06, 1.520e-06, 1.214e-06, 1.513e-06, 1.208e-06, 1.205e-06, 1.203e-06, 1.050e-06, 1.347e-06, 1.344e-06, 1.341e-06, 1.189e-06, 1.187e-06, 1.184e-06, 1.329e-06, 1.179e-06, 1.323e-06, 1.174e-06, 1.463e-06, 1.168e-06, 1.166e-06, 1.163e-06, 1.161e-06, 1.158e-06, 1.300e-06, 1.297e-06, 1.294e-06, 1.291e-06, 1.288e-06, 1.285e-06, 1.425e-06, 1.279e-06, 1.135e-06, 1.132e-06, 1.271e-06, 1.127e-06, 1.265e-06, 1.262e-06, 1.260e-06, 1.257e-06, 1.254e-06, 9.734e-07, [[49, 48, 46, 74, 73, 432], [49, 48, 76, 433, 430, 432], [49, 48, 76, 433, 431, 432], [49, 47, 46, 74, 73, 432], [49, 48, 47, 46, 74, 73, 432], [49, 48, 68, 69, 267, 432], [49, 48, 46, 72, 267, 432], [49, 48, 46, 72, 73, 432], [49, 48, 77, 46, 74, 73, 432], [49, 47, 46, 72, 267, 432], [49, 48, 68, 72, 267, 432], [49, 48, 47, 46, 72, 267, 432], [49, 48, 46, 45, 74, 73, 432], [49, 47, 46, 72, 73, 432], [49, 48, 76, 46, 74, 73, 432], [49, 48, 68, 72, 73, 432], [49, 48, 47, 46, 72, 73, 432], [49, 48, 76, 433, 430, 431, 432], [49, 48, 76, 97, 433, 430, 432], [49, 50, 48, 46, 74, 73, 432], [49, 47, 46, 45, 74, 73, 432], [49, 50, 48, 76, 433, 430, 432], [49, 48, 47, 46, 45, 74, 73, 432], [49, 48, 76, 97, 433, 431, 432], [49, 48, 76, 69, 267, 432], [49, 48, 46, 74, 433, 430, 432], [49, 48, 76, 75, 433, 430, 432], [49, 50, 48, 76, 433, 431, 432], [49, 48, 46, 75, 433, 430, 432], [49, 48, 76, 433, 73, 432], [49, 48, 77, 47, 46, 74, 73, 432], [49, 48, 46, 45, 98, 390, 430, 432], [49, 48, 77, 46, 72, 267, 432], [49, 9, 47, 46, 74, 73, 432], [49, 48, 46, 76, 433, 430, 432], [49, 48, 76, 75, 390, 430, 432], [49, 50, 48, 47, 46, 74, 73, 432], [49, 48, 46, 74, 433, 431, 432], [49, 48, 76, 75, 433, 431, 432], [49, 48, 46, 75, 390, 430, 432], [49, 48, 46, 75, 433, 431, 432], [49, 8, 47, 46, 74, 73, 432], [49, 47, 46, 74, 433, 430, 432], [49, 48, 77, 46, 72, 73, 432], [49, 48, 76, 74, 73, 432], [49, 48, 77, 76, 433, 430, 432], [49, 48, 76, 72, 267, 432], [49, 48, 46, 76, 433, 431, 432], [49, 47, 46, 75, 433, 430, 432], [49, 48, 47, 46, 74, 433, 430, 432], [49, 48, 76, 46, 72, 267, 432], [49, 50, 48, 68, 69, 267, 432], [49, 47, 46, 45, 98, 390, 430, 432], [49, 48, 47, 46, 75, 433, 430, 432], [49, 48, 46, 45, 98, 97, 433, 430, 432], [49, 47, 46, 76, 433, 430, 432], [49, 47, 46, 74, 433, 431, 432], [49, 48, 47, 46, 45, 98, 390, 430, 432], [49, 48, 77, 76, 433, 431, 432], [49, 47, 46, 75, 390, 430, 432], [49, 48, 76, 72, 73, 432], [49, 48, 47, 46, 76, 433, 430, 432], [49, 47, 46, 75, 433, 431, 432], [49, 48, 47, 46, 74, 433, 431, 432], [49, 48, 76, 46, 72, 73, 432], [49, 48, 77, 46, 45, 74, 73, 432], [49, 48, 76, 433, 390, 430, 432], [49, 50, 48, 46, 72, 267, 432], [49, 47, 77, 46, 74, 73, 432], [49, 48, 47, 46, 75, 390, 430, 432], [49, 48, 47, 46, 75, 433, 431, 432], [49, 48, 77, 98, 390, 430, 432], [49, 48, 46, 45, 98, 97, 433, 431, 432], [49, 47, 46, 76, 433, 431, 432], [49, 48, 47, 77, 46, 74, 73, 432], [49, 79, 48, 46, 74, 73, 432], [49, 48, 46, 45, 98, 390, 434, 431, 432], [49, 48, 76, 75, 74, 73, 432], [49, 9, 48, 46, 74, 73, 432], [49, 48, 47, 46, 76, 433, 431, 432], [49, 48, 76, 75, 390, 434, 431, 432], [49, 47, 46, 45, 98, 97, 433, 430, 432], [49, 79, 48, 76, 433, 430, 432], [49, 48, 76, 433, 431, 430, 432], [49, 50, 48, 46, 72, 73, 432], [49, 48, 46, 75, 74, 73, 432], [49, 9, 48, 76, 433, 430, 432], [49, 48, 9, 47, 46, 74, 73, 432], [49, 48, 46, 75, 390, 434, 431, 432], [49, 48, 76, 46, 45, 74, 73, 432], [49, 50, 48, 77, 46, 74, 73, 432], [49, 48, 47, 46, 45, 98, 97, 433, 430, 432], [49, 48, 46, 45, 75, 433, 430, 432], [49, 50, 48, 68, 72, 267, 432], [49, 48, 76, 433, 430, 434, 431, 432], [49, 48, 77, 47, 46, 72, 267, 432], [49, 48, 78, 98, 390, 430, 432], [49, 48, 68, 69, 267, 268, 432], [49, 9, 47, 46, 72, 267, 432], [49, 47, 46, 45, 98, 97, 433, 431, 432], [49, 79, 48, 76, 433, 431, 432], [49, 50, 48, 47, 46, 72, 267, 432], [49, 48, 77, 98, 97, 433, 430, 432], [49, 9, 48, 76, 433, 431, 432], [49, 11, 48, 46, 74, 73, 432], [49, 47, 46, 45, 98, 390, 434, 431, 432], [49, 47, 48, 46, 74, 73, 432], [49, 48, 77, 46, 74, 433, 430, 432], [49, 48, 47, 46, 45, 98, 97, 433, 431, 432], [49, 50, 48, 46, 45, 74, 73, 432], [49, 48, 46, 45, 75, 390, 430, 432], [49, 11, 48, 76, 433, 430, 432], [49, 48, 46, 45, 75, 433, 431, 432], [49, 8, 47, 46, 72, 267, 432], [49, 48, 46, 45, 44, 74, 73, 432], [49, 48, 46, 72, 267, 268, 432], [49, 50, 48, 76, 46, 74, 73, 432], [49, 47, 48, 76, 433, 430, 432], [49, 50, 48, 68, 72, 73, 432], [49, 79, 48, 47, 46, 74, 73, 432], [49, 47, 46, 75, 74, 73, 432], [49, 48, 47, 46, 45, 98, 390, 434, 431, 432], [49, 48, 76, 433, 74, 73, 432], [49, 48, 77, 47, 46, 72, 73, 432], [49, 48, 77, 46, 75, 433, 430, 432], [49, 10, 9, 47, 46, 74, 73, 432], [49, 9, 48, 47, 46, 74, 73, 432], [49, 48, 76, 97, 433, 430, 431, 432], [49, 9, 47, 46, 72, 73, 432], [49, 47, 46, 75, 390, 434, 431, 432], [49, 48, 46, 45, 98, 390, 434, 430, 432], [49, 50, 48, 47, 46, 72, 73, 432], [49, 48, 76, 433, 390, 434, 431, 432], [49, 48, 77, 46, 45, 98, 390, 430, 432], [49, 48, 77, 98, 97, 433, 431, 432], [49, 48, 47, 46, 75, 74, 73, 432], [49, 47, 46, 45, 75, 433, 430, 432], [49, 48, 76, 75, 390, 434, 430, 432], [49, 48, 47, 46, 75, 390, 434, 431, 432], [49, 48, 77, 46, 76, 433, 430, 432], [49, 48, 77, 46, 74, 433, 431, 432], [49, 48, 46, 45, 74, 433, 430, 432], [49, 48, 77, 98, 390, 434, 431, 432], [49, 50, 48, 76, 433, 430, 431, 432], [49, 48, 78, 98, 97, 433, 430, 432], [49, 50, 48, 76, 97, 433, 430, 432], [49, 11, 48, 76, 433, 431, 432], [49, 48, 46, 45, 98, 390, 433, 430, 432], [49, 48, 47, 46, 45, 75, 433, 430, 432], [49, 48, 46, 75, 390, 434, 430, 432], [49, 8, 47, 46, 72, 73, 432], [49, 47, 48, 76, 433, 431, 432], [49, 48, 76, 46, 74, 433, 430, 432], [49, 48, 77, 46, 75, 390, 430, 432], [49, 48, 77, 46, 75, 433, 431, 432], [49, 48, 76, 75, 390, 433, 430, 432], [49, 79, 48, 68, 69, 267, 432], [49, 47, 46, 45, 75, 390, 430, 432], [49, 48, 77, 47, 46, 45, 74, 73, 432], [49, 48, 46, 74, 435, 73, 432], [49, 48, 76, 46, 75, 433, 430, 432], [49, 47, 46, 45, 75, 433, 431, 432], [49, 48, 46, 74, 433, 430, 431, 432], [49, 9, 48, 68, 69, 267, 432], [49, 48, 46, 75, 390, 433, 430, 432], [49, 48, 76, 75, 433, 430, 431, 432], [49, 47, 46, 45, 44, 74, 73, 432], [49, 11, 48, 47, 46, 74, 73, 432], [49, 9, 47, 46, 45, 74, 73, 432], [49, 47, 46, 72, 267, 268, 432], [49, 48, 68, 72, 267, 268, 432], [49, 48, 77, 46, 76, 433, 431, 432], [49, 47, 77, 46, 72, 267, 432], [49, 50, 48, 47, 46, 45, 74, 73, 432], [49, 48, 46, 45, 74, 433, 431, 432], [49, 48, 68, 71, 70, 267, 432], [49, 48, 76, 46, 45, 98, 390, 430, 432], [49, 48, 78, 98, 97, 433, 431, 432], [49, 50, 48, 76, 97, 433, 431, 432], [49, 48, 47, 46, 45, 75, 390, 430, 432], [49, 9, 38, 39, 73, 432], [49, 48, 46, 45, 98, 390, 433, 431, 432], [49, 47, 46, 45, 98, 390, 434, 430, 432], [49, 48, 46, 75, 433, 430, 431, 432], [49, 48, 47, 46, 45, 75, 433, 431, 432], [49, 48, 47, 46, 45, 44, 74, 73, 432], [49, 48, 47, 46, 72, 267, 268, 432], [49, 48, 76, 46, 74, 433, 431, 432], [49, 50, 48, 76, 69, 267, 432], [49, 48, 76, 97, 433, 73, 432], [49, 50, 48, 46, 74, 433, 430, 432], [49, 48, 76, 75, 390, 433, 431, 432], [49, 48, 47, 77, 46, 72, 267, 432], [49, 48, 78, 98, 390, 434, 431, 432], [49, 48, 76, 98, 390, 430, 432], [49, 50, 48, 76, 75, 433, 430, 432], [49, 79, 48, 46, 72, 267, 432], [49, 48, 46, 45, 98, 390, 430, 431, 432], [49, 48, 77, 46, 45, 98, 97, 433, 430, 432], [49, 48, 68, 70, 267, 432], [49, 8, 47, 46, 45, 74, 73, 432], [49, 48, 47, 46, 45, 98, 390, 434, 430, 432], [49, 9, 48, 46, 72, 267, 432], [49, 47, 46, 45, 74, 433, 430, 432], [49, 48, 68, 76, 433, 430, 432], [49, 48, 76, 46, 75, 390, 430, 432], [49, 48, 46, 76, 433, 430, 431, 432], [49, 47, 46, 45, 98, 390, 433, 430, 432], [49, 48, 76, 46, 75, 433, 431, 432], [49, 48, 76, 75, 390, 430, 431, 432], [49, 48, 46, 75, 390, 433, 431, 432], [49, 47, 46, 75, 390, 434, 430, 432], [49, 50, 48, 46, 75, 433, 430, 432], [49, 48, 46, 76, 97, 433, 430, 432], [49, 9, 38, 46, 74, 73, 432], [49, 48, 77, 76, 46, 74, 73, 432], [49, 50, 48, 76, 433, 73, 432], [49, 48, 76, 433, 390, 434, 430, 432], [49, 48, 46, 45, 75, 74, 73, 432], [49, 47, 77, 46, 72, 73, 432], [49, 48, 47, 46, 45, 74, 433, 430, 432], [49, 48, 9, 47, 46, 72, 267, 432], [49, 50, 48, 77, 47, 46, 74, 73, 432], [49, 48, 46, 75, 390, 430, 431, 432], [49, 50, 48, 46, 45, 98, 390, 430, 432], [49, 50, 48, 77, 46, 72, 267, 432], [49, 47, 77, 76, 433, 430, 432], [49, 48, 47, 46, 45, 98, 390, 433, 430, 432], [49, 11, 48, 68, 69, 267, 432], [49, 48, 46, 45, 75, 390, 434, 431, 432], [49, 48, 47, 46, 75, 390, 434, 430, 432], [49, 47, 46, 74, 435, 73, 432], [49, 48, 77, 98, 390, 434, 430, 432], [49, 47, 48, 68, 69, 267, 432], [49, 47, 46, 74, 433, 430, 431, 432], [49, 48, 46, 45, 44, 375, 434, 431, 432], [49, 50, 48, 46, 76, 433, 430, 432], [49, 47, 46, 75, 390, 433, 430, 432], [49, 50, 48, 76, 75, 390, 430, 432], [49, 50, 48, 46, 74, 433, 431, 432], [49, 50, 48, 76, 75, 433, 431, 432], [49, 48, 47, 77, 46, 72, 73, 432], [49, 79, 48, 46, 72, 73, 432], [49, 48, 77, 46, 45, 98, 97, 433, 431, 432], [49, 10, 9, 48, 46, 74, 73, 432], [49, 48, 47, 77, 76, 433, 430, 432], [49, 48, 46, 43, 74, 73, 432], [49, 48, 46, 74, 375, 434, 431, 432], [49, 47, 46, 45, 74, 433, 431, 432], [49, 48, 46, 72, 74, 73, 432], [49, 48, 46, 74, 433, 73, 432], [49, 9, 48, 46, 72, 73, 432], [49, 48, 68, 76, 433, 431, 432], [49, 48, 77, 76, 433, 430, 431, 432], [49, 48, 76, 75, 433, 73, 432], [49, 47, 7, 46, 74, 73, 432], [49, 47, 46, 45, 98, 390, 433, 431, 432], [49, 48, 47, 46, 74, 435, 73, 432], [49, 48, 77, 76, 97, 433, 430, 432], [49, 50, 48, 46, 75, 390, 430, 432], [49, 47, 46, 75, 433, 430, 431, 432], [49, 48, 47, 46, 74, 433, 430, 431, 432], [49, 48, 46, 45, 4, 375, 434, 431, 432], [49, 79, 48, 77, 46, 74, 73, 432], [49, 48, 47, 46, 75, 390, 433, 430, 432], [49, 48, 77, 46, 45, 98, 390, 434, 431, 432], [49, 50, 48, 46, 75, 433, 431, 432], [49, 48, 46, 76, 97, 433, 431, 432], [49, 48, 76, 46, 45, 98, 97, 433, 430, 432], [49, 10, 9, 48, 76, 433, 430, 432], [49, 48, 77, 98, 390, 433, 430, 432], [49, 9, 48, 77, 46, 74, 73, 432], [49, 48, 76, 75, 375, 434, 431, 432], [49, 48, 76, 75, 97, 433, 430, 432], [49, 11, 48, 46, 72, 267, 432], [49, 48, 46, 76, 69, 267, 432], [49, 48, 47, 46, 45, 74, 433, 431, 432], [49, 48, 46, 75, 433, 73, 432], [49, 47, 46, 45, 98, 390, 430, 431, 432], [49, 48, 76, 433, 431, 268, 432], [49, 48, 9, 47, 46, 72, 73, 432], [49, 48, 77, 47, 46, 74, 433, 430, 432], [49, 79, 48, 68, 72, 267, 432], [49, 48, 46, 76, 75, 433, 430, 432], [49, 47, 77, 76, 433, 431, 432], [49, 48, 47, 7, 46, 74, 73, 432], [49, 47, 48, 46, 72, 267, 432], [49, 50, 48, 77, 46, 72, 73, 432], [49, 48, 47, 46, 45, 98, 390, 433, 431, 432], [49, 48, 47, 46, 75, 433, 430, 431, 432], [49, 48, 76, 98, 97, 433, 430, 432], [49, 9, 47, 46, 74, 433, 430, 432], [49, 48, 77, 46, 75, 74, 73, 432], [49, 9, 48, 68, 72, 267, 432], [49, 48, 46, 45, 98, 97, 433, 430, 431, 432], [49, 50, 48, 76, 74, 73, 432], [49, 50, 48, 77, 76, 433, 430, 432], [49, 48, 68, 69, 70, 267, 432], [49, 48, 76, 96, 433, 430, 432], [49, 47, 46, 76, 433, 430, 431, 432], [49, 50, 48, 76, 72, 267, 432], [49, 48, 46, 74, 73, 434, 431, 432], [49, 48, 46, 75, 375, 434, 431, 432], [49, 48, 46, 75, 97, 433, 430, 432], [49, 50, 48, 46, 76, 433, 431, 432], [49, 47, 46, 75, 390, 433, 431, 432], [49, 47, 77, 46, 45, 74, 73, 432], [49, 47, 46, 76, 97, 433, 430, 432], [49, 50, 48, 47, 46, 74, 433, 430, 432], [49, 48, 77, 46, 75, 390, 434, 431, 432], [49, 50, 48, 76, 46, 72, 267, 432], [49, 79, 48, 47, 46, 72, 267, 432], [49, 48, 47, 46, 45, 98, 390, 430, 431, 432], [49, 48, 77, 47, 46, 75, 433, 430, 432], [49, 48, 47, 77, 76, 433, 431, 432], [49, 47, 46, 45, 75, 74, 73, 432], [49, 10, 9, 47, 46, 72, 267, 432], [49, 48, 46, 76, 433, 73, 432], [49, 9, 48, 47, 46, 72, 267, 432], [49, 9, 47, 46, 75, 433, 430, 432], [49, 48, 77, 46, 45, 75, 433, 430, 432], [49, 47, 46, 75, 390, 430, 431, 432], [49, 48, 78, 98, 390, 434, 430, 432], [49, 47, 77, 98, 390, 430, 432], [49, 48, 77, 76, 97, 433, 431, 432], [49, 48, 47, 46, 76, 433, 430, 431, 432], [49, 48, 46, 74, 73, 433, 430, 432], [49, 47, 46, 45, 75, 390, 434, 431, 432], [49, 48, 47, 46, 75, 390, 433, 431, 432], [49, 48, 47, 77, 46, 45, 74, 73, 432], [49, 48, 76, 433, 431, 434, 430, 432], [49, 48, 76, 46, 45, 98, 97, 433, 431, 432], [49, 48, 77, 47, 46, 45, 98, 390, 430, 432], [49, 50, 48, 47, 46, 75, 433, 430, 432], [49, 48, 47, 46, 76, 97, 433, 430, 432], [49, 79, 48, 46, 45, 74, 73, 432], [49, 10, 9, 48, 76, 433, 431, 432], [49, 48, 78, 96, 433, 430, 432], [49, 48, 77, 98, 390, 433, 431, 432], [49, 50, 48, 46, 45, 98, 97, 433, 430, 432], [49, 48, 46, 45, 98, 390, 389, 434, 431, 432], [49, 48, 76, 433, 390, 430, 431, 432], [49, 47, 46, 45, 44, 375, 434, 431, 432], [49, 8, 47, 46, 74, 433, 430, 432], [49, 48, 77, 76, 69, 267, 432], [49, 9, 47, 46, 45, 98, 390, 430, 432], [49, 9, 48, 46, 45, 74, 73, 432], [49, 48, 76, 75, 97, 433, 431, 432], [49, 48, 76, 97, 433, 390, 430, 432], [49, 48, 76, 69, 267, 268, 432], [49, 48, 47, 46, 45, 75, 74, 73, 432], [49, 11, 48, 46, 72, 73, 432], [49, 48, 77, 76, 75, 433, 430, 432], [49, 48, 46, 76, 75, 390, 430, 432], [49, 48, 77, 47, 46, 76, 433, 430, 432], [49, 48, 77, 47, 46, 74, 433, 431, 432], [49, 48, 46, 76, 75, 433, 431, 432], [49, 79, 48, 76, 46, 74, 73, 432], [49, 48, 47, 46, 75, 390, 430, 431, 432], [49, 48, 76, 46, 45, 98, 390, 434, 431, 432], [49, 50, 48, 47, 46, 45, 98, 390, 430, 432], [49, 48, 47, 77, 98, 390, 430, 432], [49, 79, 48, 68, 72, 73, 432], [49, 48, 77, 98, 45, 74, 73, 432], [49, 48, 76, 75, 390, 389, 434, 431, 432], [49, 47, 46, 43, 74, 73, 432], [49, 47, 46, 74, 375, 434, 431, 432], [49, 47, 48, 46, 72, 73, 432], [49, 47, 46, 72, 74, 73, 432], [49, 47, 46, 74, 433, 73, 432], [49, 48, 76, 98, 97, 433, 431, 432], [49, 48, 77, 98, 390, 430, 431, 432], [49, 9, 47, 46, 76, 433, 430, 432], [49, 48, 47, 46, 45, 75, 390, 434, 431, 432], [49, 9, 47, 46, 74, 433, 431, 432], [49, 9, 48, 76, 46, 74, 73, 432], [49, 48, 68, 72, 74, 73, 432], [49, 48, 76, 77, 46, 74, 73, 432], [49, 9, 48, 68, 72, 73, 432], [49, 48, 78, 98, 390, 433, 430, 432], [49, 50, 48, 77, 76, 433, 431, 432], [49, 48, 76, 74, 433, 430, 432], [49, 48, 76, 96, 433, 431, 432], [49, 11, 48, 77, 46, 74, 73, 432], [49, 48, 46, 75, 97, 433, 431, 432], [49, 50, 48, 76, 72, 73, 432], [49, 48, 47, 46, 45, 44, 375, 434, 431, 432], [49, 8, 47, 46, 75, 433, 430, 432], [49, 47, 46, 45, 4, 375, 434, 431, 432], [49, 50, 48, 47, 46, 76, 433, 430, 432], [49, 47, 46, 76, 97, 433, 431, 432], [49, 50, 48, 47, 46, 74, 433, 431, 432], [49, 48, 9, 47, 46, 45, 74, 73, 432], [49, 48, 77, 47, 46, 75, 390, 430, 432], [49, 48, 46, 45, 75, 390, 434, 430, 432], [49, 47, 48, 77, 46, 74, 73, 432], [49, 50, 48, 76, 46, 72, 73, 432], [49, 79, 48, 47, 46, 72, 73, 432], [49, 48, 46, 74, 72, 267, 432], [49, 50, 48, 77, 46, 45, 74, 73, 432], [49, 48, 77, 47, 46, 75, 433, 431, 432], [49, 48, 76, 98, 390, 434, 431, 432], [49, 48, 46, 75, 390, 389, 434, 431, 432], [49, 48, 77, 76, 433, 73, 432], [49, 50, 48, 76, 433, 390, 430, 432], [49, 10, 9, 48, 47, 46, 74, 73, 432], [49, 48, 76, 46, 75, 74, 73, 432], [49, 9, 47, 46, 75, 390, 430, 432], [49, 48, 47, 46, 43, 74, 73, 432], [49, 47, 46, 76, 69, 267, 432], [49, 48, 46, 45, 44, 375, 434, 430, 432], [49, 48, 47, 46, 74, 375, 434, 431, 432], [49, 48, 77, 46, 45, 75, 390, 430, 432], [49, 10, 9, 47, 46, 72, 73, 432], [49, 48, 47, 46, 72, 74, 73, 432], [49, 47, 46, 75, 433, 73, 432], [49, 48, 47, 46, 74, 433, 73, 432], [49, 9, 48, 47, 46, 72, 73, 432], [49, 9, 47, 46, 75, 433, 431, 432], [49, 11, 48, 68, 72, 267, 432], [49, 8, 47, 46, 45, 98, 390, 430, 432], [49, 48, 77, 46, 45, 75, 433, 431, 432], [49, 8, 7, 46, 74, 73, 432], [49, 48, 76, 75, 46, 74, 73, 432], [49, 47, 46, 76, 75, 433, 430, 432], [49, 48, 9, 38, 39, 73, 432], [49, 48, 77, 46, 45, 44, 74, 73, 432], [49, 48, 76, 46, 75, 390, 434, 431, 432], [49, 50, 48, 47, 46, 75, 390, 430, 432], [49, 48, 46, 74, 73, 433, 431, 432], [49, 48, 77, 46, 72, 267, 268, 432], [49, 48, 47, 46, 45, 4, 375, 434, 431, 432], [49, 47, 48, 68, 72, 267, 432], [49, 50, 48, 47, 46, 75, 433, 431, 432], [49, 48, 47, 46, 76, 97, 433, 431, 432], [49, 47, 46, 45, 98, 97, 433, 430, 431, 432], [49, 50, 48, 77, 98, 390, 430, 432], [49, 48, 46, 74, 375, 434, 430, 432], [49, 48, 78, 96, 433, 431, 432], [49, 79, 48, 76, 433, 430, 431, 432], [49, 50, 48, 46, 45, 98, 97, 433, 431, 432], [49, 8, 47, 46, 76, 433, 430, 432], [49, 47, 46, 74, 73, 434, 431, 432], [49, 10, 11, 48, 46, 74, 73, 432], [49, 8, 47, 46, 74, 433, 431, 432], [49, 47, 46, 75, 375, 434, 431, 432], [49, 47, 46, 75, 97, 433, 430, 432], [49, 48, 46, 76, 74, 73, 432], [49, 79, 48, 76, 97, 433, 430, 432], [49, 9, 47, 77, 46, 74, 73, 432], [49, 48, 76, 97, 433, 431, 430, 432], [49, 48, 77, 76, 75, 390, 430, 432], [49, 9, 48, 76, 433, 430, 431, 432], [49, 48, 76, 46, 45, 75, 433, 430, 432], [49, 48, 46, 76, 72, 267, 432], [49, 11, 48, 47, 46, 72, 267, 432], [49, 48, 47, 46, 76, 69, 267, 432], [49, 48, 46, 45, 75, 390, 433, 430, 432], [49, 48, 77, 76, 75, 433, 431, 432], [49, 48, 46, 45, 4, 375, 434, 430, 432], [49, 48, 47, 46, 75, 433, 73, 432], [49, 48, 68, 71, 72, 267, 432], [49, 48, 77, 47, 46, 76, 433, 431, 432], [49, 48, 77, 46, 45, 98, 390, 434, 430, 432], [49, 9, 48, 76, 97, 433, 430, 432], [49, 48, 46, 45, 98, 97, 433, 73, 432], [49, 48, 76, 68, 69, 267, 432], [49, 48, 47, 46, 76, 75, 433, 430, 432], [49, 50, 48, 47, 77, 46, 74, 73, 432], [49, 47, 46, 76, 433, 73, 432], [49, 48, 78, 77, 46, 74, 73, 432], [49, 50, 48, 46, 45, 98, 390, 434, 431, 432], [49, 50, 11, 48, 46, 74, 73, 432], [49, 9, 47, 46, 76, 433, 431, 432], [49, 48, 46, 74, 433, 390, 430, 432], [49, 10, 11, 48, 76, 433, 430, 432], [49, 48, 76, 75, 375, 434, 430, 432], [49, 50, 48, 76, 75, 74, 73, 432], [49, 48, 47, 46, 45, 98, 97, 433, 430, 431, 432], [49, 48, 78, 98, 390, 433, 431, 432], [49, 48, 76, 74, 433, 431, 432], [49, 48, 76, 75, 433, 390, 430, 432], [49, 8, 47, 46, 75, 390, 430, 432], [49, 47, 46, 74, 73, 433, 430, 432], [49, 48, 47, 46, 74, 73, 434, 431, 432], [49, 8, 47, 46, 75, 433, 431, 432], [49, 48, 47, 46, 75, 375, 434, 431, 432], [49, 48, 47, 46, 75, 97, 433, 430, 432], [49, 50, 48, 47, 46, 76, 433, 431, 432], [49, 11, 48, 46, 45, 74, 73, 432], [49, 48, 9, 38, 46, 74, 73, 432], [49, 48, 46, 45, 75, 433, 430, 431, 432], [49, 50, 48, 76, 75, 390, 434, 431, 432], [49, 47, 46, 45, 98, 390, 389, 434, 431, 432], [49, 47, 77, 98, 97, 433, 430, 432], [49, 48, 76, 97, 98, 390, 430, 432], [49, 50, 11, 48, 76, 433, 430, 432], [49, 48, 46, 74, 72, 73, 432], [49, 47, 48, 46, 45, 74, 73, 432], [49, 48, 77, 46, 45, 74, 433, 430, 432], [49, 48, 78, 98, 45, 74, 73, 432], [49, 50, 48, 76, 433, 431, 430, 432], [49, 48, 46, 74, 73, 434, 430, 432], [49, 48, 77, 47, 46, 45, 98, 97, 433, 430, 432], [49, 48, 78, 98, 390, 430, 431, 432], [49, 48, 47, 46, 76, 433, 73, 432], [49, 48, 46, 75, 375, 434, 430, 432], [49, 50, 48, 46, 75, 74, 73, 432], [49, 47, 46, 76, 75, 390, 430, 432], [49, 48, 77, 46, 45, 98, 390, 433, 430, 432], [49, 48, 46, 75, 433, 390, 430, 432], [49, 48, 76, 97, 433, 430, 434, 431, 432], [49, 11, 48, 76, 46, 74, 73, 432], [49, 11, 48, 68, 72, 73, 432], [49, 8, 47, 77, 46, 74, 73, 432], [49, 47, 46, 76, 75, 433, 431, 432], [49, 48, 77, 46, 75, 390, 434, 430, 432], [49, 47, 77, 46, 74, 433, 430, 432], [49, 9, 47, 46, 45, 98, 97, 433, 430, 432], [49, 50, 48, 9, 47, 46, 74, 73, 432], [49, 48, 47, 46, 74, 73, 433, 430, 432], [49, 47, 48, 76, 46, 74, 73, 432], [49, 47, 48, 68, 72, 73, 432], [49, 50, 48, 46, 75, 390, 434, 431, 432], [49, 48, 46, 72, 69, 267, 432], [49, 50, 48, 76, 46, 45, 74, 73, 432], [49, 79, 48, 47, 46, 45, 74, 73, 432], [49, 10, 9, 48, 68, 69, 267, 432], [49, 48, 77, 76, 74, 73, 432], [49, 8, 47, 46, 76, 433, 431, 432], [49, 50, 48, 47, 46, 45, 98, 97, 433, 430, 432], [49, 48, 47, 46, 45, 98, 390, 389, 434, 431, 432], [49, 48, 47, 77, 98, 97, 433, 430, 432], [49, 48, 68, 69, 72, 267, 432], [49, 47, 46, 75, 97, 433, 431, 432], [49, 48, 76, 46, 45, 75, 390, 430, 432], [49, 48, 77, 76, 72, 267, 432], [49, 79, 48, 76, 97, 433, 431, 432], [49, 10, 9, 47, 46, 45, 74, 73, 432], [49, 48, 76, 72, 267, 268, 432], [49, 9, 48, 47, 46, 45, 74, 73, 432], [49, 48, 77, 98, 97, 433, 430, 431, 432], [49, 48, 76, 46, 45, 75, 433, 431, 432], [49, 9, 38, 46, 72, 267, 432], [49, 48, 46, 76, 72, 73, 432], [49, 48, 46, 45, 75, 390, 433, 431, 432], [49, 47, 46, 45, 75, 390, 434, 430, 432], [49, 48, 77, 98, 45, 46, 74, 73, 432], [49, 11, 48, 47, 46, 72, 73, 432], [49, 50, 48, 46, 45, 75, 433, 430, 432], [49, 48, 47, 46, 76, 75, 390, 430, 432], [49, 48, 77, 76, 46, 72, 267, 432], [49, 48, 76, 46, 45, 44, 74, 73, 432], [49, 47, 46, 74, 72, 267, 432], [49, 9, 48, 76, 97, 433, 431, 432], [49, 48, 68, 71, 72, 73, 432], [49, 47, 46, 75, 390, 389, 434, 431, 432], [49, 48, 76, 46, 72, 267, 268, 432], [49, 48, 47, 46, 76, 75, 433, 431, 432], [49, 48, 46, 45, 98, 390, 389, 434, 430, 432], [49, 47, 77, 46, 75, 433, 430, 432], [49, 48, 47, 77, 46, 74, 433, 430, 432], [49, 79, 48, 76, 69, 267, 432], [49, 47, 46, 45, 44, 375, 434, 430, 432], [49, 48, 78, 76, 433, 430, 432], [49, 50, 48, 76, 433, 430, 434, 431, 432], [49, 48, 46, 76, 433, 390, 430, 432], [49, 79, 48, 46, 74, 433, 430, 432], [49, 48, 77, 46, 74, 435, 73, 432], [49, 10, 11, 48, 76, 433, 431, 432], [49, 50, 48, 77, 47, 46, 72, 267, 432], [49, 48, 46, 74, 433, 431, 430, 432], [49, 50, 48, 78, 98, 390, 430, 432], [49, 48, 77, 46, 74, 433, 430, 431, 432], [49, 10, 9, 38, 39, 73, 432], [49, 48, 46, 45, 44, 248, 375, 434, 431, 432], [49, 79, 48, 76, 75, 433, 430, 432], [49, 48, 77, 46, 75, 390, 433, 430, 432], [49, 48, 76, 75, 74, 433, 430, 432], [49, 48, 76, 75, 433, 431, 430, 432], [49, 9, 48, 76, 69, 267, 432], [49, 48, 76, 433, 390, 389, 434, 431, 432], [49, 48, 46, 38, 39, 73, 432], [49, 50, 48, 68, 69, 267, 268, 432], [49, 47, 46, 74, 73, 433, 431, 432], [49, 9, 48, 46, 74, 433, 430, 432], [49, 48, 47, 46, 75, 97, 433, 431, 432], [49, 48, 46, 45, 75, 390, 430, 431, 432], [49, 48, 68, 69, 267, 268, 431, 432], [49, 48, 76, 46, 45, 98, 390, 434, 430, 432], [49, 9, 48, 76, 75, 433, 430, 432], [49, 11, 48, 76, 433, 430, 431, 432], [49, 48, 76, 75, 390, 389, 434, 430, 432], [49, 48, 31, 32, 72, 267, 432], [49, 47, 46, 74, 375, 434, 430, 432], [49, 8, 47, 46, 45, 98, 97, 433, 430, 432], [49, 47, 77, 46, 45, 98, 390, 430, 432], [49, 47, 77, 98, 97, 433, 431, 432], [49, 48, 47, 46, 45, 75, 390, 434, 430, 432], [49, 11, 48, 76, 97, 433, 430, 432], [49, 50, 11, 48, 76, 433, 431, 432], [49, 48, 47, 46, 74, 72, 267, 432], [49, 48, 77, 46, 45, 74, 433, 431, 432], [49, 47, 46, 76, 74, 73, 432], [49, 48, 47, 46, 75, 390, 389, 434, 431, 432], [49, 47, 48, 76, 433, 430, 431, 432], [49, 47, 77, 48, 46, 74, 73, 432], [49, 48, 77, 47, 46, 45, 98, 97, 433, 431, 432], [49, 47, 46, 76, 72, 267, 432], [49, 48, 47, 77, 46, 75, 433, 430, 432], [49, 48, 47, 46, 45, 44, 375, 434, 430, 432], [49, 50, 48, 77, 98, 97, 433, 430, 432], [49, 48, 77, 98, 390, 389, 434, 431, 432], [49, 47, 46, 45, 75, 390, 433, 430, 432], [49, 47, 46, 45, 4, 375, 434, 430, 432], [49, 79, 48, 46, 75, 433, 430, 432], [49, 48, 77, 46, 45, 98, 390, 433, 431, 432], [49, 47, 48, 76, 97, 433, 430, 432], [49, 48, 46, 75, 74, 433, 430, 432], [49, 48, 46, 75, 433, 431, 430, 432], [49, 48, 77, 46, 75, 433, 430, 431, 432], [49, 10, 8, 47, 46, 74, 73, 432], [49, 48, 76, 97, 433, 74, 73, 432], [49, 47, 46, 45, 98, 97, 433, 73, 432], [49, 10, 9, 48, 46, 72, 267, 432], [49, 47, 77, 46, 76, 433, 430, 432], [49, 47, 77, 46, 74, 433, 431, 432], [49, 9, 47, 46, 45, 98, 97, 433, 431, 432], [49, 79, 48, 76, 433, 73, 432], [49, 9, 48, 46, 75, 433, 430, 432], [49, 48, 47, 46, 74, 73, 433, 431, 432], [49, 47, 77, 98, 390, 434, 431, 432], [49, 48, 76, 98, 390, 434, 430, 432], [49, 48, 46, 75, 390, 389, 434, 430, 432], [49, 48, 9, 47, 46, 74, 433, 430, 432], [49, 47, 46, 74, 433, 390, 430, 432], [49, 48, 46, 45, 98, 390, 434, 430, 431, 432], [49, 48, 46, 45, 98, 390, 429, 430, 432], [49, 48, 76, 46, 45, 74, 433, 430, 432], [49, 47, 7, 46, 72, 267, 432], [49, 9, 48, 76, 433, 73, 432], [49, 48, 47, 46, 74, 375, 434, 430, 432], [49, 50, 48, 77, 46, 74, 433, 430, 432], [49, 47, 77, 48, 76, 433, 430, 432], [49, 79, 48, 77, 47, 46, 74, 73, 432], [49, 50, 48, 47, 46, 45, 98, 97, 433, 431, 432], [49, 48, 47, 77, 46, 45, 98, 390, 430, 432], [49, 48, 47, 77, 98, 97, 433, 431, 432], [49, 48, 77, 47, 46, 45, 98, 390, 434, 431, 432], [49, 48, 46, 74, 75, 433, 430, 432], [49, 48, 46, 74, 433, 430, 434, 431, 432], [49, 48, 68, 69, 72, 73, 432], [49, 10, 11, 48, 47, 46, 74, 73, 432], [49, 79, 48, 46, 45, 98, 390, 430, 432], [49, 48, 46, 76, 75, 74, 73, 432], [49, 10, 9, 38, 46, 74, 73, 432], [49, 79, 48, 77, 46, 72, 267, 432], [49, 48, 77, 76, 72, 73, 432], [49, 48, 47, 46, 76, 74, 73, 432], [49, 48, 76, 75, 433, 430, 434, 431, 432], [49, 48, 76, 46, 45, 98, 390, 433, 430, 432], [49, 48, 77, 46, 45, 98, 390, 430, 431, 432], [49, 50, 48, 46, 45, 75, 390, 430, 432], [49, 47, 46, 45, 75, 433, 430, 431, 432], [49, 48, 76, 46, 75, 390, 434, 430, 432], [49, 48, 64, 68, 69, 267, 432], [49, 48, 47, 46, 76, 72, 267, 432], [49, 9, 48, 77, 47, 46, 74, 73, 432], [49, 9, 47, 46, 45, 98, 390, 434, 431, 432], [49, 9, 38, 46, 72, 73, 432], [49, 48, 76, 75, 45, 74, 73, 432], [49, 48, 47, 46, 45, 75, 390, 433, 430, 432], [49, 48, 47, 46, 45, 4, 375, 434, 430, 432], [49, 48, 76, 97, 433, 390, 434, 431, 432], [49, 50, 48, 46, 45, 75, 433, 431, 432], [49, 9, 48, 46, 45, 98, 390, 430, 432], [49, 48, 46, 35, 72, 267, 432], [49, 48, 76, 75, 390, 434, 430, 431, 432], [49, 47, 77, 46, 75, 390, 430, 432], [49, 9, 48, 77, 46, 72, 267, 432], [49, 48, 77, 76, 46, 72, 73, 432], [49, 47, 46, 74, 72, 73, 432], [49, 48, 76, 75, 390, 429, 430, 432], [49, 48, 47, 46, 45, 98, 97, 433, 73, 432], [49, 48, 46, 76, 75, 390, 434, 431, 432], [49, 48, 77, 76, 433, 390, 430, 432], [49, 48, 47, 77, 46, 76, 433, 430, 432], [49, 50, 48, 46, 45, 44, 74, 73, 432], [49, 9, 47, 48, 46, 74, 73, 432], [49, 47, 77, 46, 75, 433, 431, 432], [49, 48, 47, 77, 46, 74, 433, 431, 432], [49, 47, 46, 74, 73, 434, 430, 432], [49, 50, 48, 46, 72, 267, 268, 432], [49, 79, 48, 46, 76, 433, 430, 432], [49, 47, 46, 75, 375, 434, 430, 432], [49, 48, 78, 76, 433, 431, 432], [49, 79, 48, 76, 75, 390, 430, 432], [49, 79, 48, 46, 74, 433, 431, 432], [49, 50, 48, 47, 46, 45, 98, 390, 434, 431, 432], [49, 50, 11, 48, 47, 46, 74, 73, 432], [49, 48, 47, 77, 98, 390, 434, 431, 432], [49, 48, 46, 76, 433, 431, 430, 432], [49, 48, 46, 72, 267, 268, 431, 432], [49, 48, 77, 46, 76, 433, 430, 431, 432], [49, 48, 9, 47, 46, 75, 433, 430, 432], [49, 47, 46, 75, 433, 390, 430, 432], [49, 50, 48, 76, 433, 74, 73, 432], [49, 11, 9, 47, 46, 74, 73, 432], [49, 48, 46, 45, 4, 98, 390, 430, 432], [49, 48, 47, 46, 74, 433, 390, 430, 432], [49, 48, 46, 45, 74, 435, 73, 432], [49, 79, 48, 76, 75, 433, 431, 432], [49, 50, 48, 77, 47, 46, 72, 73, 432], [49, 48, 46, 74, 73, 72, 267, 432], [49, 48, 77, 46, 75, 390, 433, 431, 432], [49, 48, 76, 75, 74, 433, 431, 432], [49, 48, 46, 45, 74, 433, 430, 431, 432], [49, 48, 46, 45, 75, 433, 73, 432], [49, 50, 48, 77, 46, 75, 433, 430, 432], [49, 48, 47, 7, 46, 72, 267, 432], [49, 48, 77, 46, 76, 97, 433, 430, 432], [49, 9, 48, 46, 76, 433, 430, 432], [49, 48, 46, 77, 76, 433, 430, 432], [49, 9, 48, 76, 75, 390, 430, 432], [49, 9, 48, 46, 74, 433, 431, 432], [49, 48, 46, 75, 433, 430, 434, 431, 432], [49, 48, 77, 47, 46, 75, 74, 73, 432], [49, 48, 76, 98, 390, 433, 430, 432], [49, 48, 78, 98, 97, 433, 430, 431, 432], [49, 50, 48, 76, 97, 433, 430, 431, 432], [49, 9, 48, 76, 75, 433, 431, 432], [49, 11, 48, 47, 46, 45, 74, 73, 432], [49, 48, 46, 45, 98, 390, 433, 430, 431, 432], [49, 47, 46, 72, 69, 267, 432], [49, 48, 46, 75, 45, 74, 73, 432], [49, 8, 47, 46, 45, 98, 97, 433, 431, 432], [49, 48, 78, 98, 45, 46, 74, 73, 432], [49, 9, 8, 47, 46, 74, 73, 432], [49, 48, 47, 46, 45, 75, 433, 430, 431, 432], [49, 48, 31, 32, 72, 73, 432], [49, 48, 46, 75, 390, 434, 430, 431, 432], [49, 50, 48, 46, 45, 98, 390, 434, 430, 432], [49, 9, 47, 48, 76, 433, 430, 432], [49, 48, 68, 72, 69, 267, 432], [49, 9, 47, 46, 75, 74, 73, 432], [49, 48, 46, 75, 390, 429, 430, 432], [49, 11, 48, 76, 97, 433, 431, 432], [49, 48, 77, 46, 45, 75, 74, 73, 432], [49, 48, 47, 77, 46, 75, 390, 430, 432], [49, 48, 9, 47, 46, 45, 98, 390, 430, 432], [49, 48, 77, 47, 46, 75, 390, 434, 431, 432], [49, 48, 47, 46, 74, 72, 73, 432], [49, 48, 76, 46, 74, 435, 73, 432], [49, 48, 76, 46, 74, 433, 430, 431, 432], [49, 79, 48, 46, 75, 390, 430, 432], [49, 48, 47, 77, 46, 75, 433, 431, 432], [49, 48, 76, 46, 75, 390, 433, 430, 432], [49, 48, 77, 46, 75, 390, 430, 431, 432], [49, 50, 48, 76, 433, 390, 434, 431, 432], [49, 50, 48, 77, 46, 45, 98, 390, 430, 432], [49, 47, 46, 76, 72, 73, 432], [49, 48, 47, 46, 74, 73, 434, 430, 432], [49, 50, 48, 77, 98, 97, 433, 431, 432], [49, 48, 46, 45, 75, 375, 434, 431, 432], [49, 48, 46, 45, 75, 97, 433, 430, 432], [49, 47, 46, 45, 75, 390, 433, 431, 432], [49, 48, 76, 68, 72, 267, 432], [49, 79, 48, 46, 75, 433, 431, 432], [49, 48, 47, 46, 75, 375, 434, 430, 432], [49, 47, 48, 76, 97, 433, 431, 432], [49, 48, 46, 45, 98, 390, 430, 434, 431, 432], [49, 50, 48, 47, 46, 75, 74, 73, 432], [49, 48, 46, 75, 74, 433, 431, 432], [49, 48, 76, 75, 390, 433, 430, 431, 432], [49, 48, 47, 46, 75, 433, 390, 430, 432], [49, 9, 47, 46, 75, 390, 434, 431, 432], [49, 48, 77, 46, 45, 75, 390, 434, 431, 432], [49, 47, 77, 46, 76, 433, 431, 432], [49, 9, 48, 46, 75, 390, 430, 432], [49, 11, 48, 76, 69, 267, 432], [49, 50, 48, 76, 75, 390, 434, 430, 432], [49, 10, 9, 48, 46, 72, 73, 432], [49, 47, 46, 45, 98, 390, 389, 434, 430, 432], [49, 48, 46, 45, 98, 97, 433, 390, 430, 432], [49, 8, 47, 46, 45, 98, 390, 434, 431, 432], [49, 11, 48, 46, 74, 433, 430, 432], [49, 48, 46, 75, 76, 433, 430, 432], [49, 9, 48, 46, 75, 433, 431, 432], [49, 48, 76, 433, 430, 429, 431, 432], [49, 48, 77, 47, 46, 45, 75, 433, 430, 432], [49, 48, 9, 47, 46, 76, 433, 430, 432], [49, 47, 46, 76, 433, 390, 430, 432], [49, 48, 9, 47, 46, 74, 433, 431, 432], [49, 11, 48, 76, 75, 433, 430, 432], [49, 47, 46, 74, 433, 431, 430, 432], [49, 47, 46, 45, 44, 248, 375, 434, 431, 432], [49, 48, 46, 74, 39, 73, 432], [49, 48, 77, 46, 45, 44, 375, 434, 431, 432], [49, 50, 48, 47, 46, 75, 390, 434, 431, 432], [49, 48, 47, 46, 72, 69, 267, 432], [49, 48, 46, 74, 75, 390, 430, 432], [49, 48, 76, 46, 45, 74, 433, 431, 432], [49, 8, 47, 48, 46, 74, 73, 432], [49, 48, 77, 98, 97, 433, 73, 432], [49, 50, 48, 77, 46, 76, 433, 430, 432], [49, 47, 48, 76, 69, 267, 432], [49, 11, 10, 9, 47, 46, 74, 73, 432], [49, 50, 48, 77, 46, 74, 433, 431, 432], [49, 48, 77, 76, 75, 74, 73, 432], [49, 47, 77, 48, 76, 433, 431, 432], [49, 48, 46, 76, 433, 430, 434, 431, 432], [49, 47, 7, 46, 72, 73, 432], [49, 48, 46, 74, 75, 433, 431, 432], [49, 47, 46, 38, 39, 73, 432], [49, 47, 48, 46, 74, 433, 430, 432], [49, 48, 76, 75, 390, 430, 434, 431, 432], [49, 9, 47, 46, 45, 75, 433, 430, 432], [49, 50, 48, 46, 45, 74, 433, 430, 432], [49, 50, 48, 77, 98, 390, 434, 431, 432], [49, 47, 46, 45, 75, 390, 430, 431, 432], [49, 47, 48, 76, 75, 433, 430, 432], [49, 48, 76, 46, 45, 98, 390, 433, 431, 432], [49, 48, 46, 45, 98, 390, 391, 430, 432], [49, 79, 48, 77, 46, 72, 73, 432], [49, 48, 76, 46, 75, 433, 430, 431, 432], [49, 48, 76, 75, 433, 74, 73, 432], [49, 50, 48, 78, 98, 97, 433, 430, 432], [49, 48, 78, 98, 390, 389, 434, 431, 432], [49, 10, 9, 48, 77, 46, 74, 73, 432], [49, 48, 46, 75, 390, 433, 430, 431, 432], [49, 50, 48, 46, 45, 98, 390, 433, 430, 432], [49, 48, 47, 46, 76, 72, 73, 432], [49, 48, 47, 46, 45, 75, 390, 433, 431, 432], [49, 48, 77, 76, 75, 390, 434, 431, 432], [49, 48, 77, 46, 43, 74, 73, 432], [49, 50, 48, 47, 46, 45, 75, 433, 430, 432], [49, 50, 48, 46, 75, 390, 434, 430, 432], [49, 48, 77, 46, 74, 375, 434, 431, 432], [49, 79, 48, 76, 74, 73, 432], [49, 48, 46, 35, 72, 73, 432], [49, 48, 77, 46, 72, 74, 73, 432], [49, 48, 77, 46, 74, 433, 73, 432], [49, 9, 48, 77, 46, 72, 73, 432], [49, 79, 48, 77, 76, 433, 430, 432], [49, 48, 47, 77, 46, 76, 433, 431, 432], [49, 48, 77, 76, 433, 431, 430, 432], [49, 47, 46, 48, 76, 433, 430, 432], [49, 79, 48, 76, 72, 267, 432], [49, 48, 68, 76, 46, 74, 73, 432], [49, 48, 9, 47, 46, 75, 390, 430, 432], [49, 8, 47, 48, 76, 433, 430, 432], [49, 48, 47, 46, 45, 98, 390, 389, 434, 430, 432], [49, 48, 46, 45, 44, 74, 433, 430, 432], [49, 79, 48, 46, 76, 433, 431, 432], [49, 11, 48, 46, 75, 433, 430, 432], [49, 8, 47, 46, 75, 74, 73, 432], [49, 50, 48, 76, 46, 74, 433, 430, 432], [49, 48, 9, 47, 46, 75, 433, 431, 432], [49, 48, 47, 46, 76, 433, 390, 430, 432], [49, 79, 48, 47, 46, 74, 433, 430, 432], [49, 9, 48, 76, 74, 73, 432], [49, 47, 46, 75, 74, 433, 430, 432], [49, 9, 38, 39, 74, 73, 432], [49, 48, 76, 75, 390, 391, 430, 432], [49, 47, 77, 46, 45, 98, 97, 433, 430, 432], [49, 47, 46, 75, 433, 431, 430, 432], [49, 50, 48, 77, 46, 75, 390, 430, 432], [49, 9, 48, 77, 76, 433, 430, 432], [49, 48, 47, 46, 74, 433, 431, 430, 432], [49, 10, 11, 48, 68, 69, 267, 432], [49, 48, 47, 46, 45, 44, 248, 375, 434, 431, 432], [49, 48, 46, 75, 390, 430, 434, 431, 432], [49, 48, 77, 46, 45, 4, 375, 434, 431, 432], [49, 11, 48, 76, 433, 73, 432], [49, 9, 48, 76, 72, 267, 432], [49, 79, 48, 76, 46, 72, 267, 432], [49, 50, 48, 77, 46, 75, 433, 431, 432], [49, 48, 76, 46, 45, 98, 390, 430, 431, 432], [49, 48, 77, 46, 76, 97, 433, 431, 432], [49, 50, 48, 76, 75, 390, 433, 430, 432], [49, 9, 48, 46, 76, 433, 431, 432], [49, 48, 46, 74, 433, 390, 434, 431, 432], [49, 48, 46, 77, 76, 433, 431, 432], [49, 47, 48, 46, 75, 433, 430, 432], [49, 48, 47, 7, 46, 72, 73, 432], [49, 48, 47, 46, 38, 39, 73, 432], [49, 10, 9, 47, 46, 74, 433, 430, 432], [49, 10, 9, 48, 68, 72, 267, 432], [49, 48, 76, 98, 390, 433, 431, 432], [49, 9, 48, 47, 46, 74, 433, 430, 432], [49, 48, 76, 77, 47, 46, 74, 73, 432], [49, 47, 46, 75, 390, 389, 434, 430, 432], [49, 48, 46, 75, 433, 74, 73, 432], [49, 48, 76, 75, 433, 390, 434, 431, 432], [49, 8, 47, 46, 75, 390, 434, 431, 432], [49, 48, 47, 46, 45, 75, 390, 430, 431, 432], [49, 9, 38, 46, 45, 74, 73, 432], [49, 47, 46, 45, 98, 390, 434, 430, 431, 432], [49, 8, 7, 47, 46, 74, 73, 432], [49, 9, 48, 76, 46, 72, 267, 432], [49, 48, 76, 77, 46, 72, 267, 432], [49, 47, 48, 76, 433, 73, 432], [49, 47, 46, 45, 98, 390, 429, 430, 432], [49, 11, 48, 77, 47, 46, 74, 73, 432], [49, 48, 77, 76, 46, 45, 74, 73, 432], [49, 8, 221, 47, 46, 74, 73, 432], [49, 9, 47, 48, 76, 433, 431, 432], [49, 48, 68, 71, 70, 270, 267, 432], [49, 11, 48, 46, 45, 98, 390, 430, 432], [49, 47, 46, 74, 75, 433, 430, 432], [49, 47, 46, 74, 433, 430, 434, 431, 432], [49, 11, 48, 77, 46, 72, 267, 432], [49, 48, 46, 45, 44, 248, 375, 434, 430, 432], [49, 47, 46, 76, 75, 74, 73, 432], [49, 48, 77, 46, 76, 69, 267, 432], [49, 48, 46, 72, 73, 434, 431, 432], [49, 50, 11, 48, 68, 69, 267, 432], [49, 48, 77, 46, 75, 433, 73, 432], [49, 48, 9, 47, 77, 46, 74, 73, 432], [49, 48, 46, 45, 98, 390, 429, 431, 432], [49, 48, 76, 433, 390, 389, 434, 430, 432], [49, 48, 76, 97, 98, 390, 434, 431, 432], [49, 48, 76, 46, 75, 390, 433, 431, 432], [49, 48, 46, 45, 44, 375, 390, 430, 432], [49, 50, 48, 77, 47, 46, 45, 74, 73, 432], [49, 48, 46, 45, 75, 97, 433, 431, 432], [49, 48, 46, 75, 390, 391, 430, 432], [49, 50, 48, 46, 74, 435, 73, 432], [49, 48, 77, 46, 76, 75, 433, 430, 432], [49, 48, 76, 98, 45, 74, 73, 432], [49, 8, 47, 46, 45, 75, 433, 430, 432], [49, 47, 48, 46, 45, 98, 390, 430, 432], [49, 50, 48, 76, 46, 75, 433, 430, 432], [49, 48, 46, 45, 44, 375, 74, 73, 432], [49, 50, 48, 46, 74, 433, 430, 431, 432], [49, 48, 76, 68, 72, 73, 432]]\n"
     ]
    },
    {
     "name": "stdout",
     "output_type": "stream",
     "text": [
      "[15.274645166456583, 15.389992835290709, 15.751035702656036, 15.84897649927365, 16.00765233833954, 16.486297459050725, 16.791914034909997, 17.16339219181134, 17.275070786323504, 17.366245367727064, 17.39231446626448, 17.52492120679295, 17.653878712053793, 17.737723524628407, 17.757788306719373, 17.76379262316582, 17.896399363694293, 18.03067072093452, 18.062607624594705, 18.1467542411148, 18.22821004487086, 18.262101909948928, 18.386885883936746, 18.423650491960036, 18.504283233370728, 18.519086214169846, 18.538584326684003, 18.623144777314256, 18.673403965806482, 18.71078323998443, 18.768068353519432, 18.78430558232356, 18.792339654776917, 18.819734727015806, 18.87449557457263, 18.879690170888804, 18.879761412997755, 18.880129081535177, 18.899627194049334, 19.014509810011283, 19.03444683317181, 19.074829847987978, 19.093417546986913, 19.163817811678257, 19.204648660677947, 19.21384959412468, 19.226792690132854, 19.23553844193796, 19.24773529862355, 19.252093386052803, 19.275057175172783, 19.358406533708944, 19.35863691514063, 19.406411137689435, 19.430836676108513, 19.448826907389698, 19.454460414352244, 19.517312754206515, 19.574892461490013, 19.58884114282835, 19.598270847034193, 19.607502746455587, 19.608778165988877, 19.61313625341813, 19.64653533207413, 19.654304331920713, 19.662668388082157, 19.664023109568213, 19.72893988406156, 19.747516981894236, 19.767454005054763, 19.778406038057337, 19.79187954347384, 19.809869774755025, 19.887615723127446, 19.903056434692687, 19.906027965144837, 19.929733187928626, 19.951280183651626, 19.96854561382092, 20.001412553710082, 20.00516800892558, 20.018404103526816, 20.02894395580139, 20.035501266469552, 20.064552827051102, 20.06662785248575, 20.119073684810452, 20.136232192832562, 20.137021852316586, 20.147179860981723, 20.16384384799147, 20.224328200505646, 20.2644235409227, 20.273759470600393, 20.285337221972846, 20.28646594513193, 20.32244446916755, 20.337003595469213, 20.366210876290907, 20.379446970892143, 20.397030281451165, 20.42493713184229, 20.427670719851083, 20.46547253039448, 20.480359297961904, 20.517862625233285, 20.51951183403677, 20.524886715356796, 20.525987786712008, 20.565434044710447, 20.580820199228604, 20.585371067870977, 20.59209871644139, 20.615884019276344, 20.628061045026826, 20.629897381377596, 20.633210294067414, 20.63590169782404, 20.636063606575647, 20.63888415986817, 20.639035137027793, 20.64895104118017, 20.656815378874185, 20.673829585673403, 20.677625646551213, 20.68428735553458, 20.703285510238516, 20.70848175237056, 20.71056352564963, 20.72938355095923, 20.768508438352512, 20.784390770903435, 20.784731202190486, 20.78597999920762, 20.797559998934055, 20.798659533322713, 20.824768139524476, 20.869239364715515, 20.874921194439555, 20.880554701402097, 20.898319759767055, 20.900128420878616, 20.90277979559274, 20.93299703891688, 20.934716699252927, 20.941863066593935, 20.94212545580757, 20.9573353723886, 20.959587778646956, 20.96357687334273, 20.99425316143274, 21.002229354432636, 21.014935429878204, 21.034872453038734, 21.037510044372812, 21.114708727286832, 21.139765377527514, 21.14730189911664, 21.148080542487726, 21.156547106069272, 21.159702400688044, 21.159764099813657, 21.162932476245764, 21.172329683495292, 21.179262212327814, 21.19021535209341, 21.19847970227743, 21.198968272613016, 21.202392377843893, 21.228461476381305, 21.235964061804882, 21.246208752514974, 21.258994958594965, 21.259362627132386, 21.262015632285944, 21.26744872258635, 21.29403990628221, 21.295759566618255, 21.298441216593403, 21.302371982192525, 21.303168323172898, 21.303714883776298, 21.314081851450293, 21.318378239753926, 21.348891191159296, 21.36106821690978, 21.363272221797967, 21.376392308028947, 21.383398029288422, 21.39119528882806, 21.39855291173814, 21.40488459158086, 21.40818832795321, 21.409717370026275, 21.410693401342222, 21.4203253031461, 21.424983467967365, 21.431262295975433, 21.448986446564284, 21.454063393585187, 21.462390722842184, 21.468549052105033, 21.472651092584123, 21.487811911441373, 21.497652950274073, 21.51517346021644, 21.516456788624637, 21.5175899734346, 21.520368056532615, 21.533372550860623, 21.533919111464023, 21.545513040464698, 21.54711036387663, 21.56254844643911, 21.581645065553346, 21.58289231464265, 21.60774635671783, 21.61547706175027, 21.617686909416314, 21.63132693165001, 21.63634255326386, 21.64017742817765, 21.655187695655094, 21.65641465698178, 21.664448729435136, 21.667718691862735, 21.675132627690527, 21.677124822988617, 21.687156427531725, 21.69259495052991, 21.722411875304793, 21.72348400669301, 21.72951491782743, 21.734095432630724, 21.740189807673957, 21.74660464923085, 21.74666101631236, 21.751799245547023, 21.75223815619339, 21.771736268707553, 21.7763627484822, 21.79180346004744, 21.792305163340764, 21.809171103187033, 21.826394530928624, 21.82891978968555, 21.831810664107383, 21.833693959949454, 21.834721652834943, 21.839876618863563, 21.84002720900638, 21.8488547788067, 21.854527479768493, 21.85937473137772, 21.870129505985645, 21.877499655989965, 21.88108771437068, 21.886464383428677, 21.8866188846695, 21.88841318426736, 21.892771271696606, 21.90036416132901, 21.90348205455961, 21.905336855378245, 21.90645358501176, 21.90655590783003, 21.908153231241958, 21.913979816371302, 21.924518772021163, 21.936225911541346, 21.951705803518543, 21.972369267638687, 21.972768464068082, 21.982741398847885, 21.98878597265265, 21.992369799015336, 21.994194370500196, 21.999314800784433, 22.005870513956253, 22.007820710165205, 22.0125094012327, 22.02072573450058, 22.023087065965925, 22.028761559228062, 22.02880534505153, 22.0351314936867, 22.035926886336476, 22.036175495055854, 22.047089023333243, 22.056248463811226, 22.06417577472907, 22.064978446918026, 22.06894948345952, 22.07151456175232, 22.076757735336166, 22.085958668782897, 22.088416099257714, 22.089146332719075, 22.08950479303351, 22.098901764791073, 22.100892638378085, 22.107188906761163, 22.10758810319056, 22.107647516596177, 22.10770388367769, 22.10817342965877, 22.121441696693697, 22.124202460711018, 22.136657812699482, 22.147166249831002, 22.153332475029053, 22.157990639850325, 22.16682715286933, 22.187437398293955, 22.189808394567336, 22.194894515004627, 22.19528597926635, 22.201556223987986, 22.2184935263657, 22.22475382037257, 22.22951902847216, 22.231543913767602, 22.232275135795394, 22.247507250794005, 22.248180632099395, 22.259262486873666, 22.261487760348793, 22.266379722743576, 22.266849268724656, 22.272032705467268, 22.275022683736633, 22.27772876938641, 22.278520212347654, 22.280117535759583, 22.282289980289896, 22.28556163938649, 22.295755525644623, 22.297268778906673, 22.30294575076673, 22.302978002339103, 22.303346273725968, 22.314521140491024, 22.31927089570124, 22.328139992204704, 22.329395142882785, 22.330513729248835, 22.333811331433413, 22.335283177386156, 22.340430243487557, 22.348484233633222, 22.354219555749232, 22.362441085517975, 22.364192910170726, 22.36791876163548, 22.373552268598026, 22.384129933331256, 22.386199574955477, 22.388194867538047, 22.38917110540763, 22.389421828864734, 22.39095097486128, 22.392203891401927, 22.392699406803423, 22.39836259090435, 22.403251122502617, 22.40614199692445, 22.406609650588038, 22.40905298565201, 22.41420795168063, 22.417291331176553, 22.419083923701148, 22.419585135131854, 22.420163599414682, 22.425218642094396, 22.434423323914416, 22.435122084189423, 22.43637583249467, 22.44042764036086, 22.44428581861594, 22.447001536148225, 22.44908970839121, 22.450189200084406, 22.465898150261403, 22.46863097055589, 22.470379921692412, 22.473196979556914, 22.473588647337873, 22.474695494146076, 22.479611821113807, 22.482484564059025, 22.48524532807635, 22.498307230407658, 22.507932997074136, 22.51051201334612, 22.51828824510021, 22.51864440673235, 22.5248106319304, 22.525486410089208, 22.526413406578932, 22.52787002023466, 22.531439752847554, 22.533182230026824, 22.5346399988184, 22.534777462740376, 22.542178275069986, 22.547695967313892, 22.559599370570503, 22.561926961568503, 22.563117305469717, 22.563545393488347, 22.564817835990333, 22.565859664577374, 22.566372671905967, 22.567728824717896, 22.568525703317263, 22.572883790746516, 22.573034380889332, 22.57953639373103, 22.583141830202372, 22.584490263854956, 22.585796687737897, 22.586989745936712, 22.59342530931334, 22.59741839878299, 22.60171093998717, 22.616309639143267, 22.61937533309535, 22.61962605655246, 22.620305354238997, 22.628486664893746, 22.633371333211965, 22.635531925041178, 22.639563079712982, 22.64116040312491, 22.645845894569387, 22.650515112715556, 22.655166249921777, 22.656798393009954, 22.659081989170627, 22.663988618132063, 22.674680256104025, 22.67522397119515, 22.679418535333554, 22.680313763066568, 22.68152023957823, 22.68191943600763, 22.68915139995987, 22.69101889283081, 22.699698111803713, 22.70155874510539, 22.703546929722776, 22.707305738129563, 22.707471340768436, 22.711295429414776, 22.715748570730845, 22.72179314453561, 22.72325391819446, 22.723483952883303, 22.723719747143402, 22.727201542383156, 22.72894609610872, 22.72896162900081, 22.729809170826154, 22.739242641789748, 22.75162708080223, 22.755491053812257, 22.756094237848878, 22.759724797785665, 22.76961731208342, 22.77711944928616, 22.77813703980306, 22.77856144322554, 22.780628002497185, 22.791761766961294, 22.79476620416768, 22.79572485345308, 22.801842262586845, 22.80452173363528, 22.80532868598127, 22.810132575756537, 22.81125987947545, 22.814694491542678, 22.833593819690734, 22.833899810261038, 22.8346315147032, 22.840196078644116, 22.840595275073515, 22.840654688479134, 22.844706075991688, 22.861887404233755, 22.865006086149453, 22.8735216283683, 22.87730933515617, 22.878806229580345, 22.88688352466742, 22.893909112059667, 22.896964566990547, 22.897096170830494, 22.89874537963398, 22.900759313878012, 22.90105303045961, 22.92424822419248, 22.92425986317136, 22.92714383077574, 22.928293151149305, 22.930544492575557, 22.93666190170932, 22.938524242987793, 22.94255107567449, 22.94607951859793, 22.94637425990439, 22.94861567065727, 22.95461998710372, 22.95479323277589, 22.958461266148323, 22.960013398513876, 22.973380931774823, 22.975926236667735, 22.99118275946867, 22.99226965875662, 23.001005765496075, 23.007010081942525, 23.008341267490778, 23.00860746368373, 23.009130926974798, 23.01529715217285, 23.02082339578117, 23.028505419511923, 23.035723123469356, 23.035952922649688, 23.03598517422206, 23.037482068646234, 23.039512473962, 23.042962303372956, 23.04857718497324, 23.050649448966823, 23.052061760196143, 23.056859192148423, 23.062939700249682, 23.063520901131785, 23.065615017486095, 23.068514208133763, 23.079817314892516, 23.082773586316115, 23.084296785559786, 23.084843346163186, 23.08510635154161, 23.087226727632185, 23.096437275163865, 23.097200082053682, 23.098913934006752, 23.099027159539133, 23.099817742906275, 23.100285509155075, 23.10042425301006, 23.10751356284389, 23.111204185289612, 23.11713710521421, 23.126333588153496, 23.127698683411456, 23.132056770840713, 23.132694501606835, 23.137876726305414, 23.143927392018842, 23.14586854525861, 23.14717112736408, 23.14749748240595, 23.14850616235465, 23.15580907153301, 23.157446296631065, 23.158037334680532, 23.158575019790145, 23.160189719680574, 23.160262901727933, 23.163386254044656, 23.166995594920106, 23.172755303362216, 23.174174235641885, 23.17753544719469, 23.180918250565774, 23.1813408080977, 23.187965040967917, 23.19455354382577, 23.194636687056065, 23.195721231364885, 23.201638142438846, 23.206111930354258, 23.209158867002017, 23.21252669122202, 23.215219343879046, 23.221498084872415, 23.22171817671874, 23.22867413225473, 23.229497582738844, 23.231021357639907, 23.23860029992854, 23.239849096945672, 23.243519185229072, 23.2534349885326, 23.254951979424998, 23.25849358197216, 23.259788246999307, 23.263482732776936, 23.26618940190978, 23.273888179711225, 23.278278640413184, 23.28530273053669, 23.285626762231843, 23.286374522477345, 23.296552565371304, 23.29704620650051, 23.297078458072882, 23.297585251011526, 23.29805107996047, 23.301815234042586, 23.303593943039818, 23.30582508337141, 23.30899387476436, 23.312355086317165, 23.31450747131721, 23.31642253887299, 23.321565830484168, 23.325958413619297, 23.326439971640447, 23.328790292177608, 23.33442379914015, 23.336969104033063, 23.339194508220537, 23.35003898300152, 23.35331252612195, 23.353997518616673, 23.354795338661948, 23.35653781584122, 23.36351473252371, 23.36609309977836, 23.37006143660304, 23.38020720440072, 23.381462900029845, 23.38739837443906, 23.38741825717947, 23.38817342180473, 23.39162090869499, 23.39362630924731, 23.39647962175554, 23.396995790015016, 23.397276138994425, 23.39852493601156, 23.39945115220769, 23.400867384113468, 23.40285284947953, 23.410990630863346, 23.412425707216507, 23.41271685055967, 23.414235927210548, 23.420439365974516, 23.420750923013024, 23.422127605868162, 23.42215857184283, 23.422350961993686, 23.42526859607036, 23.425409087834293, 23.43754311936867, 23.43933741896652, 23.442730918909746, 23.44393837800125, 23.44430260129773, 23.44470337071447, 23.45111752570406, 23.451295471793863, 23.451942599274318, 23.456261090077415, 23.456726919026355, 23.457005560207435, 23.457480142529192, 23.4609405995186, 23.46330996906032, 23.465446025168283, 23.46880452761626, 23.468974671971957, 23.4703920909081, 23.471295899807615, 23.475591792965968, 23.484634252685183, 23.485915292992004, 23.48652514691613, 23.487466131243494, 23.487993093934563, 23.488620852975444, 23.488741550776783, 23.49309963820604, 23.498579557009545, 23.50017011968504, 23.502906842808738, 23.504875825392624, 23.50497025938417, 23.50810143912491, 23.508540349771277, 23.511144211686013, 23.511568615108494, 23.51267335768256, 23.513446695083314, 23.514775442861293, 23.515599080083362, 23.517832484160348, 23.520410851414997, 23.521060115838388, 23.521371231283048, 23.524263398212916, 23.524768938844247, 23.527314088084935, 23.528038462285433, 23.528924453532408, 23.532501022965164, 23.533798170727543, 23.535217103007216, 23.538997645410863, 23.545118605199363, 23.545938660331622, 23.546074213504944, 23.54753598374355, 23.55113059176767, 23.553083100347923, 23.556325188083846, 23.556764098730216, 23.557170601116162, 23.55797601411395, 23.567537243510284, 23.573674924560688, 23.575394584896735, 23.576262211244373, 23.57771324787464, 23.582803341451378, 23.582938796500798, 23.586762238396794, 23.592064225005235, 23.593166258616204, 23.596728968884157, 23.598013258032413, 23.60015228915607, 23.600265664290763, 23.60149262561745, 23.60396852180957, 23.60900789503821, 23.60964238761032, 23.610411432088448, 23.614477855897928, 23.615902681617186, 23.62748036668215, 23.628734100677427, 23.629655379895414, 23.6299717388735, 23.631223682750516, 23.642907240076443, 23.642921078247387, 23.647417389842673, 23.655472823758082, 23.655613315522015, 23.656499845561655, 23.6568402768487, 23.657104919133182, 23.657255396075428, 23.65808907386584, 23.658113141460326, 23.658512337889725, 23.658628118376853, 23.661508061026005, 23.662858101407917, 23.66355166445851, 23.66686795073674, 23.668072217633245, 23.669669073592274, 23.670036742129692, 23.678187930016623, 23.679086690480887, 23.68132175339178, 23.68758204739865, 23.68983315954294, 23.691144827206323, 23.695110597308627, 23.696877214182695, 23.697918128541787, 23.700664920970564, 23.703512228899964, 23.70621264667623, 23.70991357810774, 23.7101325771666, 23.71108185036685, 23.712548554928116, 23.717751387568498, 23.7189240929265, 23.721502460181146, 23.724557599889042, 23.729411690621898, 23.7323686674976, 23.737717586861724, 23.739519357571673, 23.740615427540877, 23.741348439373734, 23.741614635566684, 23.74197322831827, 23.742505767395173, 23.743715973947616, 23.74572753653601, 23.74703026909777, 23.747500692147433, 23.74761594513918, 23.752663776060317, 23.753589946762595, 23.75466917661264, 23.758262209882314, 23.7588765313404, 23.7619102514788, 23.762296373784984, 23.762303672946548, 23.76345680619849, 23.76941776106487, 23.770428834425275, 23.772237495536835, 23.780443263171325, 23.781801785460704, 23.786311463435688, 23.78966446111218, 23.792229079914364, 23.79722499171308, 23.797542532573466, 23.8051061135751, 23.80513836514747, 23.809596723053957, 23.813007569139103, 23.81423453046579, 23.815780758199068, 23.817303957442743, 23.82526931254405, 23.829345409552474, 23.82944444704682, 23.83169685330517, 23.832236283974304, 23.833059928914054, 23.834788125961666, 23.83514727270186, 23.840302238730487, 23.840452828873296, 23.842260862360785, 23.848508998608825, 23.852800714635368, 23.852896430682645, 23.855203958368953, 23.855607382870033, 23.858938328365152, 23.85906364278174, 23.859340760036453, 23.860325066989603, 23.863949710174065, 23.864231329744374, 23.864737508582493, 23.874338429090855, 23.878875351525675, 23.880178299247035, 23.880504654288906, 23.881283677872993, 23.88332520758143, 23.88353912588223, 23.885049049677427, 23.88513139371349, 23.886686419134232, 23.887044504536426, 23.89048461131972, 23.89104450656348, 23.89107082792769, 23.896393425927613, 23.898276445320967, 23.90078978119593, 23.90161060392232, 23.903427707327893, 23.90346844340889, 23.90698152769695, 23.90812660823016, 23.908578851108878, 23.909619119031035, 23.912173459132998, 23.913484149782573, 23.91412596771325, 23.916621424583184, 23.917552370406284, 23.92097221285087, 23.92206669426448, 23.926840402994927, 23.92858011087561, 23.92872840324784, 23.929373399690594, 23.93086914865829, 23.932362171695942, 23.93298226229673, 23.936416874363957, 23.939119102237214, 23.94178199203632, 23.94439276942011, 23.950004109646038, 23.951692192367823, 23.953644700948075, 23.954000698761135, 23.954538537217786, 23.95889571745733, 23.960878611150548, 23.961872693371838, 23.9650113891749, 23.9664347486303, 23.975132946261457, 23.975198716930535, 23.977184182296597, 23.98316701871481, 23.986741839859047, 23.988567260027615, 23.989211592519574, 23.989639663732838, 23.99021373581968, 23.99461999036712, 23.99903706959836, 23.999885181700837, 24.004696393912095, 24.0086059074887, 24.01651569112341, 24.018503262263955, 24.01941097377486, 24.019555205255052, 24.019868688799907, 24.020189617145945, 24.02351268583285, 24.02401073877236, 24.02451288203704, 24.027523041100263, 24.028656180727488, 24.031134050202766, 24.031873174471873, 24.032986217927352]\n"
     ]
    }
   ],
   "source": [
    "btwPathList,btwAlphas=converge_subopt_paths_betweenness(btwWeightGraph,source=49,target=432,maxPaths=10000,\n",
    "                                                  verbose=True,giveAlphas=True)\n",
    "print(btwPathList)\n",
    "btwPathLengths=[calculatePathLength(btwWeightGraph,path) for path in btwPathList]\n",
    "print(btwPathLengths)"
   ]
  },
  {
   "cell_type": "code",
   "execution_count": 254,
   "metadata": {
    "scrolled": false
   },
   "outputs": [
    {
     "data": {
      "image/png": "[encoded data removed]",
      "text/plain": [
       "<Figure size 460.8x345.6 with 1 Axes>"
      ]
     },
     "metadata": {
      "needs_background": "light"
     },
     "output_type": "display_data"
    },
    {
     "data": {
      "image/png": "[encoded data removed]",
      "text/plain": [
       "<Figure size 460.8x345.6 with 1 Axes>"
      ]
     },
     "metadata": {
      "needs_background": "light"
     },
     "output_type": "display_data"
    }
   ],
   "source": [
    "plt.figure(figsize=(6.4,4.8))\n",
    "plt.plot(alphas,label='weight=1/abs(E)')\n",
    "plt.plot(btwAlphas,label='weight=CurrentFlow(1/abs(E))')\n",
    "plt.axvline(100,color='teal',label='top 100 paths')\n",
    "plt.axhline(alphas[99],color='teal')\n",
    "plt.axhline(btwAlphas[99],color='teal')\n",
    "plt.loglog()\n",
    "plt.legend(loc=\"lower left\")\n",
    "plt.xlabel('Number of Paths')\n",
    "plt.ylabel('Suboptimal Path Betweennes Convergence')\n",
    "plt.title(\"Converge of Suboptimal Path Usage\")\n",
    "plt.grid()\n",
    "plt.show()\n",
    "\n",
    "plt.figure(figsize=(6.4,4.8))\n",
    "plt.plot(np.arange(len(pathLengths))+1,\n",
    "         pathLengths/np.min(pathLengths),\n",
    "         label='weight=1/abs(E)')\n",
    "plt.plot(np.arange(len(btwPathLengths))+1,\n",
    "         btwPathLengths/np.min(btwPathLengths),\n",
    "         label='weight=CurrentFlow(1/abs(E))')\n",
    "plt.axvline(100,color='teal',label='top 100 paths')\n",
    "plt.axhline(pathLengths[99]/pathLengths[0],color='teal')\n",
    "plt.axhline(btwPathLengths[99]/btwPathLengths[0],color='teal')\n",
    "plt.loglog()\n",
    "plt.legend(loc=\"upper left\")\n",
    "plt.xlabel('Number of Paths')\n",
    "plt.ylabel('Relative Path Length')\n",
    "plt.title(\"Scaling of Relative Path Length\")\n",
    "plt.grid()\n",
    "plt.show()"
   ]
  },
  {
   "cell_type": "code",
   "execution_count": 29,
   "metadata": {},
   "outputs": [
    {
     "ename": "NameError",
     "evalue": "name 'btwPathList' is not defined",
     "output_type": "error",
     "traceback": [
      "\u001b[0;31m---------------------------------------------------------------------------\u001b[0m",
      "\u001b[0;31mNameError\u001b[0m                                 Traceback (most recent call last)",
      "\u001b[0;32m<ipython-input-29-2c74144a283f>\u001b[0m in \u001b[0;36m<module>\u001b[0;34m\u001b[0m\n\u001b[0;32m----> 1\u001b[0;31m \u001b[0mpath\u001b[0m\u001b[0;34m=\u001b[0m\u001b[0mbtwPathList\u001b[0m\u001b[0;34m[\u001b[0m\u001b[0;36m0\u001b[0m\u001b[0;34m]\u001b[0m\u001b[0;34m\u001b[0m\u001b[0;34m\u001b[0m\u001b[0m\n\u001b[0m\u001b[1;32m      2\u001b[0m \u001b[0mpathNz\u001b[0m\u001b[0;34m=\u001b[0m\u001b[0;34m(\u001b[0m\u001b[0mpath\u001b[0m\u001b[0;34m[\u001b[0m\u001b[0;36m1\u001b[0m\u001b[0;34m:\u001b[0m\u001b[0;34m]\u001b[0m\u001b[0;34m,\u001b[0m\u001b[0mpath\u001b[0m\u001b[0;34m[\u001b[0m\u001b[0;34m:\u001b[0m\u001b[0;34m-\u001b[0m\u001b[0;36m1\u001b[0m\u001b[0;34m]\u001b[0m\u001b[0;34m)\u001b[0m\u001b[0;34m\u001b[0m\u001b[0;34m\u001b[0m\u001b[0m\n\u001b[1;32m      3\u001b[0m \u001b[0;34m\u001b[0m\u001b[0m\n\u001b[1;32m      4\u001b[0m \u001b[0mresNumMap\u001b[0m\u001b[0;34m=\u001b[0m\u001b[0;32mlambda\u001b[0m \u001b[0mx\u001b[0m\u001b[0;34m:\u001b[0m \u001b[0mx\u001b[0m\u001b[0;34m-\u001b[0m\u001b[0;36m253\u001b[0m\u001b[0;34m*\u001b[0m\u001b[0;34m(\u001b[0m\u001b[0mx\u001b[0m\u001b[0;34m>=\u001b[0m\u001b[0;36m253\u001b[0m\u001b[0;34m)\u001b[0m\u001b[0;34m+\u001b[0m\u001b[0;36m1\u001b[0m\u001b[0;34m\u001b[0m\u001b[0;34m\u001b[0m\u001b[0m\n\u001b[1;32m      5\u001b[0m \u001b[0mresChainMap\u001b[0m\u001b[0;34m=\u001b[0m\u001b[0;32mlambda\u001b[0m \u001b[0mx\u001b[0m\u001b[0;34m:\u001b[0m \u001b[0;34m[\u001b[0m\u001b[0;34m'A'\u001b[0m\u001b[0;34m,\u001b[0m\u001b[0;34m'B'\u001b[0m\u001b[0;34m]\u001b[0m\u001b[0;34m[\u001b[0m\u001b[0mint\u001b[0m\u001b[0;34m(\u001b[0m\u001b[0mx\u001b[0m\u001b[0;34m>=\u001b[0m\u001b[0;36m253\u001b[0m\u001b[0;34m)\u001b[0m\u001b[0;34m]\u001b[0m\u001b[0;34m\u001b[0m\u001b[0;34m\u001b[0m\u001b[0m\n",
      "\u001b[0;31mNameError\u001b[0m: name 'btwPathList' is not defined"
     ]
    }
   ],
   "source": [
    "path=btwPathList[0]\n",
    "pathNz=(path[1:],path[:-1])\n",
    "\n",
    "resNumMap=lambda x: x-253*(x>=253)+1\n",
    "resChainMap=lambda x: ['A','B'][int(x>=253)]\n",
    "print(\"Shortest path length (LEU_50 - GLU180):\",btwPathLengths[0])\n",
    "print('Path (edge list):',[tuple(np.flip(edge)) for edge in zip(*pathNz)])\n",
    "print('Path (Node Sequence Residue Names):',\n",
    "      [struc.topology.residue(iRes).name + \"_\" + \\\n",
    "       resChainMap(struc.topology.residue(iRes).index) + \"_\" + \\\n",
    "       str(resNumMap(struc.topology.residue(iRes).index)) \\\n",
    "       for iRes in np.flip(np.array(path))])"
   ]
  },
  {
   "cell_type": "code",
   "execution_count": 187,
   "metadata": {},
   "outputs": [
    {
     "name": "stdout",
     "output_type": "stream",
     "text": [
      "Nedges= 5\n"
     ]
    }
   ],
   "source": [
    "plotMat=np.zeros(btwMat.shape)\n",
    "plotMat[pathNz]=(btwMat+btwMat.T)[pathNz]\n",
    "\n",
    "print(\"Nedges=\",len(np.nonzero(plotMat)[0]))\n",
    "\n",
    "nzInds=np.nonzero(plotMat)\n",
    "\n",
    "#Create a color map for edges based on log(abs(E_Interact.Mean))\n",
    "tempCmap=matplotlib.cm.get_cmap('Spectral',2048)\n",
    "tempCmat=np.array(plotMat)\n",
    "vMin=np.min(tempCmat)\n",
    "vMax=np.max(tempCmat)\n",
    "cNorm=matplotlib.colors.Normalize(vMin,vMax,clip=True)\n",
    "#tempCmat[nzInds]=np.log(tempCmat[nzInds])\n",
    "edgeColors=getCorrNetEdgeColors(tempCmat,maskInds=nzInds,cmap=tempCmap,\n",
    "                                cNorm=cNorm)\n",
    "\n",
    "#Compute widths for edges based on lob(abs(E_Interact.Mean))\n",
    "#rMin and rMax set minimum and maximum edgewidths\n",
    "#edgwidth will then interpolate linearly between those two\n",
    "#bounds.\n",
    "eMin=.0625\n",
    "eMax=0.625\n",
    "radiiMat=getCorrNetEdgeRadii(plotMat,maskInds=nzInds,eMin=eMin,eMax=eMax)"
   ]
  },
  {
   "cell_type": "code",
   "execution_count": 188,
   "metadata": {},
   "outputs": [
    {
     "name": "stdout",
     "output_type": "stream",
     "text": [
      "[0.27612673 0.01936504 0.0248331  0.05847406 0.02993539]\n",
      "[[0.36862745 0.30980392 0.63529412]\n",
      " [0.77028267 0.17103365 0.29443758]\n",
      " [0.81348315 0.2189469  0.3046486 ]\n",
      " [0.96093183 0.4568388  0.27630871]\n",
      " [0.84556836 0.25871433 0.3058268 ]]\n",
      "[0.625      0.0625     0.11514504 0.2964237  0.15469923]\n"
     ]
    }
   ],
   "source": [
    "for mat in [plotMat,edgeColors,radiiMat]:\n",
    "    print(mat[pathNz])"
   ]
  },
  {
   "cell_type": "code",
   "execution_count": 191,
   "metadata": {},
   "outputs": [
    {
     "data": {
      "image/png": "[encoded data removed]",
      "text/plain": [
       "<Figure size 1152x288 with 1 Axes>"
      ]
     },
     "metadata": {
      "needs_background": "light"
     },
     "output_type": "display_data"
    },
    {
     "data": {
      "application/vnd.jupyter.widget-view+json": {
       "model_id": "23c0100992c34ac29f9f512030edd392",
       "version_major": 2,
       "version_minor": 0
      },
      "text/plain": [
       "NGLWidget()"
      ]
     },
     "metadata": {},
     "output_type": "display_data"
    }
   ],
   "source": [
    "from IPython.display import display, HTML\n",
    "\n",
    "CSS = \"\"\"\n",
    ".output {\n",
    "    display: flex;\n",
    "    align-items: center;\n",
    "    text-align: center;\n",
    "}\n",
    "\"\"\"\n",
    "\n",
    "HTML('<style>{}</style>'.format(CSS))\n",
    "\n",
    "#Draw a color bar for the edge coloring,\n",
    "#(nglview does not seem to support this yet)\n",
    "drawEdgeColorBar(tempCmat,maskInds=nzInds,\n",
    "                 cmap=tempCmap,label='Betweenness',\n",
    "                 cNorm=cNorm,\n",
    "                 orientation='horizontal')\n",
    "\n",
    "#Render the filtered interaction network using nglview with\n",
    "#the edge width and colormaps generated above\n",
    "struc=strucDict[list(strucDict.keys())[0]]\n",
    "view=nv.show_pytraj(struc)\n",
    "view.clear_representations()\n",
    "#for res in sourceSet:\n",
    "#    view.add_representation('spacefill',selection=str(res+1)+' and .CA')\n",
    "#for res in targetSet:\n",
    "#    view.add_representation('spacefill',selection=str(res+1)+' and .CA')\n",
    "#view.add_representation('line',selection='backbone',alpha=.5)\n",
    "drawProtCorrMat(protStruc=struc,corrMat=plotMat,ngViewOb=view,\n",
    "                    frame=0,colorsArray=edgeColors,radiiMat=radiiMat,\n",
    "                    undirected=True)\n",
    "view"
   ]
  },
  {
   "cell_type": "code",
   "execution_count": 203,
   "metadata": {},
   "outputs": [
    {
     "name": "stdout",
     "output_type": "stream",
     "text": [
      "Btw Cut Val: 7.124e-03; Shortest Path Distance: 15.275\n"
     ]
    }
   ],
   "source": [
    "testMat=np.array(copy.copy(btwMat+btwMat.T))\n",
    "btwCut=np.exp(-(np.max(np.array(wMat.todense())[pathNz])+1))\n",
    "testMat=testMat*(testMat>(btwCut))\n",
    "testNz=np.nonzero(testMat)\n",
    "testMat[testNz]=-np.log(testMat[testNz])\n",
    "print(\"Btw Cut Val: {:.3e}; Shortest Path Distance: {:.3f}\".format(\n",
    "          btwCut,sp.sparse.csgraph.shortest_path(testMat)[49,432]))"
   ]
  },
  {
   "cell_type": "code",
   "execution_count": 281,
   "metadata": {},
   "outputs": [
    {
     "name": "stdout",
     "output_type": "stream",
     "text": [
      "Nedges= 3988\n"
     ]
    }
   ],
   "source": [
    "plotMat=np.array(np.abs(btwMat+btwMat.T))\n",
    "#plotMat=plotMat*((plotMat)>btwCut)\n",
    "\n",
    "print(\"Nedges=\",len(np.nonzero(plotMat)[0]))\n",
    "\n",
    "nzInds=np.nonzero(plotMat)\n",
    "\n",
    "#Create a color map for edges based on log(abs(E_Interact.Mean))\n",
    "tempCmap=matplotlib.cm.get_cmap('plasma',2048)\n",
    "tempCmat=np.array(plotMat)\n",
    "vMin=np.min(tempCmat)\n",
    "vCenter=np.median(tempCmat[nzInds])\n",
    "vMax=np.max(tempCmat)\n",
    "cNorm=matplotlib.colors.DivergingNorm(vmin=vMin,vcenter=vCenter,vmax=vMax)\n",
    "#tempCmat[nzInds]=np.log(tempCmat[nzInds])\n",
    "edgeColors=getCorrNetEdgeColors(tempCmat,maskInds=nzInds,cmap=tempCmap,\n",
    "                                cNorm=cNorm)\n",
    "\n",
    "#Compute widths for edges based on lob(abs(E_Interact.Mean))\n",
    "#rMin and rMax set minimum and maximum edgewidths\n",
    "#edgwidth will then interpolate linearly between those two\n",
    "#bounds.\n",
    "eMin=.0625\n",
    "eMax=0.375\n",
    "radiiMat=getCorrNetEdgeRadii(plotMat,maskInds=nzInds,eMin=eMin,eMax=eMax)"
   ]
  },
  {
   "cell_type": "code",
   "execution_count": 282,
   "metadata": {},
   "outputs": [
    {
     "data": {
      "image/png": "[encoded data removed]",
      "text/plain": [
       "<Figure size 432x288 with 1 Axes>"
      ]
     },
     "metadata": {
      "needs_background": "light"
     },
     "output_type": "display_data"
    },
    {
     "data": {
      "image/png": "[encoded data removed]",
      "text/plain": [
       "<Figure size 432x288 with 1 Axes>"
      ]
     },
     "metadata": {
      "needs_background": "light"
     },
     "output_type": "display_data"
    },
    {
     "data": {
      "image/png": "[encoded data removed]",
      "text/plain": [
       "<Figure size 432x288 with 1 Axes>"
      ]
     },
     "metadata": {
      "needs_background": "light"
     },
     "output_type": "display_data"
    },
    {
     "data": {
      "image/png": "[encoded data removed]",
      "text/plain": [
       "<Figure size 432x288 with 1 Axes>"
      ]
     },
     "metadata": {
      "needs_background": "light"
     },
     "output_type": "display_data"
    }
   ],
   "source": [
    "#Plot distribution histograms for edge widths and edge color rgb values\n",
    "sns.distplot(radiiMat[np.nonzero(radiiMat)].flatten(),\n",
    "             kde=False)\n",
    "plt.title('Edge Width distribution')\n",
    "plt.show()\n",
    "\n",
    "clist=['red','green','blue']\n",
    "for ii in np.arange(3):\n",
    "    sns.distplot(edgeColors[:,:,ii][np.nonzero(edgeColors[:,:,ii])].flatten(),\n",
    "                 kde=False,color=clist[ii])\n",
    "plt.title('Edge rgb color value distribution')\n",
    "plt.show()\n",
    "\n",
    "sortArr=np.argsort(tempCmat[np.nonzero(tempCmat)])\n",
    "sortedInds=np.array(list(zip(nzInds[0],nzInds[1])))[sortArr]\n",
    "sortedNzInds=(sortedInds[:,0],sortedInds[:,1])\n",
    "\n",
    "clist=['red','green','blue']\n",
    "for ii in np.arange(3):\n",
    "    plt.plot(edgeColors[:,:,ii][sortedNzInds],c=clist[ii])\n",
    "plt.title('Value Sorted Edge rgb color values')\n",
    "plt.show()\n",
    "\n",
    "plt.plot(tempCmat[sortedNzInds])\n",
    "plt.title('Sorted Interaction_Energy.Mean')\n",
    "plt.show()"
   ]
  },
  {
   "cell_type": "code",
   "execution_count": 283,
   "metadata": {},
   "outputs": [
    {
     "data": {
      "image/png": "[encoded data removed]",
      "text/plain": [
       "<Figure size 1152x288 with 1 Axes>"
      ]
     },
     "metadata": {
      "needs_background": "light"
     },
     "output_type": "display_data"
    },
    {
     "data": {
      "application/vnd.jupyter.widget-view+json": {
       "model_id": "dec63c8a9aff438a9179774a226d2ada",
       "version_major": 2,
       "version_minor": 0
      },
      "text/plain": [
       "NGLWidget()"
      ]
     },
     "metadata": {},
     "output_type": "display_data"
    }
   ],
   "source": [
    "from IPython.display import display, HTML\n",
    "\n",
    "CSS = \"\"\"\n",
    ".output {\n",
    "    display: flex;\n",
    "    align-items: center;\n",
    "    text-align: center;\n",
    "}\n",
    "\"\"\"\n",
    "\n",
    "HTML('<style>{}</style>'.format(CSS))\n",
    "\n",
    "#Draw a color bar for the edge coloring,\n",
    "#(nglview does not seem to support this yet)\n",
    "drawEdgeColorBar(tempCmat,maskInds=nzInds,\n",
    "                 cmap=tempCmap,label='Betweenness',\n",
    "                 cNorm=cNorm,\n",
    "                 orientation='horizontal')\n",
    "\n",
    "#Render the filtered interaction network using nglview with\n",
    "#the edge width and colormaps generated above\n",
    "struc=strucDict[list(strucDict.keys())[0]]\n",
    "view=nv.show_pytraj(struc)\n",
    "view.clear_representations()\n",
    "for res in sourceSet:\n",
    "    view.add_representation('spacefill',selection=str(res+1)+' and .CA')\n",
    "for res in targetSet:\n",
    "    view.add_representation('spacefill',selection=str(res+1)+' and .CA')\n",
    "view.add_representation('cartoon',selection='backbone',alpha=.5)\n",
    "drawProtCorrMat(protStruc=struc,corrMat=plotMat,ngViewOb=view,\n",
    "                    frame=0,colorsArray=edgeColors,radiiMat=radiiMat,\n",
    "                    undirected=True)\n",
    "view"
   ]
  },
  {
   "cell_type": "code",
   "execution_count": 215,
   "metadata": {},
   "outputs": [
    {
     "name": "stdout",
     "output_type": "stream",
     "text": [
      "top 100 energy weighted paths convergence: 1.137e-04\n",
      "top 100 energy betweenness paths convergence: 1.248e-04\n"
     ]
    }
   ],
   "source": [
    "print(\"top 100 energy weighted paths convergence: %.3e\"%alphas[99])\n",
    "print(\"top 100 energy betweenness paths convergence: %.3e\"%btwAlphas[99])"
   ]
  },
  {
   "cell_type": "code",
   "execution_count": 155,
   "metadata": {},
   "outputs": [],
   "source": [
    "def pathList_to_edgeSetInds(pathList,undirected=True,sep='_'):\n",
    "    edgeList=[]\n",
    "    for path in pathList:\n",
    "        edgeList=np.unique(np.concatenate([\n",
    "            edgeList,\n",
    "            [sep.join(list(map(str,edgeInds))) \\\n",
    "             for edgeInds in zip(path[:-1],path[1:])]\n",
    "        ]))\n",
    "        if undirected:\n",
    "            edgeList=np.unique(np.concatenate([\n",
    "            edgeList,\n",
    "            [sep.join(list(map(str,edgeInds))) \\\n",
    "             for edgeInds in zip(path[1:],path[:-1])]\n",
    "        ]))\n",
    "    eInds=np.array(list(map(lambda x: x.split(sep),edgeList)),dtype=int)\n",
    "    return((eInds[:,0],eInds[:,1]))"
   ]
  },
  {
   "cell_type": "code",
   "execution_count": 27,
   "metadata": {},
   "outputs": [
    {
     "ename": "NameError",
     "evalue": "name 'pathList' is not defined",
     "output_type": "error",
     "traceback": [
      "\u001b[0;31m---------------------------------------------------------------------------\u001b[0m",
      "\u001b[0;31mNameError\u001b[0m                                 Traceback (most recent call last)",
      "\u001b[0;32m<ipython-input-27-7195c708e0de>\u001b[0m in \u001b[0;36m<module>\u001b[0;34m\u001b[0m\n\u001b[0;32m----> 1\u001b[0;31m \u001b[0mtopPaths\u001b[0m\u001b[0;34m=\u001b[0m\u001b[0mpathList\u001b[0m\u001b[0;34m[\u001b[0m\u001b[0;34m:\u001b[0m\u001b[0;36m100\u001b[0m\u001b[0;34m]\u001b[0m\u001b[0;34m\u001b[0m\u001b[0;34m\u001b[0m\u001b[0m\n\u001b[0m\u001b[1;32m      2\u001b[0m \u001b[0mtopPathEdges\u001b[0m\u001b[0;34m=\u001b[0m\u001b[0mpathList_to_edgeSetInds\u001b[0m\u001b[0;34m(\u001b[0m\u001b[0mtopPaths\u001b[0m\u001b[0;34m)\u001b[0m\u001b[0;34m\u001b[0m\u001b[0;34m\u001b[0m\u001b[0m\n\u001b[1;32m      3\u001b[0m \u001b[0;34m\u001b[0m\u001b[0m\n\u001b[1;32m      4\u001b[0m \u001b[0msystem\u001b[0m\u001b[0;34m=\u001b[0m\u001b[0;34m'igps'\u001b[0m\u001b[0;34m\u001b[0m\u001b[0;34m\u001b[0m\u001b[0m\n\u001b[1;32m      5\u001b[0m \u001b[0mvariant\u001b[0m\u001b[0;34m=\u001b[0m\u001b[0;34m'apo'\u001b[0m\u001b[0;34m\u001b[0m\u001b[0;34m\u001b[0m\u001b[0m\n",
      "\u001b[0;31mNameError\u001b[0m: name 'pathList' is not defined"
     ]
    }
   ],
   "source": [
    "topPaths=pathList[:100]\n",
    "topPathEdges=pathList_to_edgeSetInds(topPaths)\n",
    "\n",
    "system='igps'\n",
    "variant='apo'\n",
    "nRes=454\n",
    "Tsim=310.15\n",
    "kb=0.0019872041\n",
    "magCut=kb*Tsim*1.0\n",
    "seqDelta=0\n",
    "#filter out desired interaction energy edges based\n",
    "#for the given system based upon energy and\n",
    "#sequence delta cutoffs\n",
    "matData=sigData[\n",
    "    (sigData['System']==system) & \\\n",
    "    (sigData['Variant']==variant) & \\\n",
    "    #((sigData['ResNum_1']-sigData['ResNum_2'])<seqDelta) &\n",
    "    ((sigData['E_Interact.Mean'].abs() - sigData['E_Interact.Std_Err']) > magCut)]\n",
    "tempMat=sp.sparse.coo_matrix(\n",
    "    (matData['E_Interact.Mean'],\n",
    "     (matData['ResNum_1']-1,matData['ResNum_2']-1)))\n",
    "\n",
    "plotMat=np.zeros(tempMat.shape)\n",
    "plotMat[topPathEdges]=tempMat.todense()[topPathEdges]\n",
    "\n",
    "nzInds=np.nonzero(plotMat)\n",
    "\n",
    "#Create a color map for edges based on log(abs(E_Interact.Mean))\n",
    "tempCmap=matplotlib.cm.get_cmap('Spectral',2048)\n",
    "tempCmat=np.array(plotMat)\n",
    "vMin=np.min(tempCmat)\n",
    "vCenter=0\n",
    "vMax=np.max(tempCmat)\n",
    "cNorm=matplotlib.colors.DivergingNorm(vmin=vMin,vcenter=vCenter,vmax=vMax)\n",
    "#tempCmat[nzInds]=np.log(tempCmat[nzInds])\n",
    "edgeColors=getCorrNetEdgeColors(tempCmat,maskInds=nzInds,cmap=tempCmap,\n",
    "                                cNorm=cNorm)\n",
    "\n",
    "#Compute widths for edges based on lob(abs(E_Interact.Mean))\n",
    "#rMin and rMax set minimum and maximum edgewidths\n",
    "#edgwidth will then interpolate linearly between those two\n",
    "#bounds.\n",
    "eMin=.0625\n",
    "eMax=0.5\n",
    "radiiMat=getCorrNetEdgeRadii(plotMat,maskInds=nzInds,eMin=eMin,eMax=eMax)"
   ]
  },
  {
   "cell_type": "code",
   "execution_count": 28,
   "metadata": {},
   "outputs": [
    {
     "ename": "NameError",
     "evalue": "name 'radiiMat' is not defined",
     "output_type": "error",
     "traceback": [
      "\u001b[0;31m---------------------------------------------------------------------------\u001b[0m",
      "\u001b[0;31mNameError\u001b[0m                                 Traceback (most recent call last)",
      "\u001b[0;32m<ipython-input-28-dc8bf877420f>\u001b[0m in \u001b[0;36m<module>\u001b[0;34m\u001b[0m\n\u001b[1;32m      1\u001b[0m \u001b[0;31m#Plot distribution histograms for edge widths and edge color rgb values\u001b[0m\u001b[0;34m\u001b[0m\u001b[0;34m\u001b[0m\u001b[0;34m\u001b[0m\u001b[0m\n\u001b[0;32m----> 2\u001b[0;31m sns.distplot(radiiMat[np.nonzero(radiiMat)].flatten(),\n\u001b[0m\u001b[1;32m      3\u001b[0m              kde=False)\n\u001b[1;32m      4\u001b[0m \u001b[0mplt\u001b[0m\u001b[0;34m.\u001b[0m\u001b[0mtitle\u001b[0m\u001b[0;34m(\u001b[0m\u001b[0;34m'Edge Width distribution'\u001b[0m\u001b[0;34m)\u001b[0m\u001b[0;34m\u001b[0m\u001b[0;34m\u001b[0m\u001b[0m\n\u001b[1;32m      5\u001b[0m \u001b[0mplt\u001b[0m\u001b[0;34m.\u001b[0m\u001b[0mshow\u001b[0m\u001b[0;34m(\u001b[0m\u001b[0;34m)\u001b[0m\u001b[0;34m\u001b[0m\u001b[0;34m\u001b[0m\u001b[0m\n",
      "\u001b[0;31mNameError\u001b[0m: name 'radiiMat' is not defined"
     ]
    }
   ],
   "source": [
    "#Plot distribution histograms for edge widths and edge color rgb values\n",
    "sns.distplot(radiiMat[np.nonzero(radiiMat)].flatten(),\n",
    "             kde=False)\n",
    "plt.title('Edge Width distribution')\n",
    "plt.show()\n",
    "\n",
    "clist=['red','green','blue']\n",
    "for ii in np.arange(3):\n",
    "    sns.distplot(edgeColors[:,:,ii][np.nonzero(edgeColors[:,:,ii])].flatten(),\n",
    "                 kde=False,color=clist[ii])\n",
    "plt.title('Edge rgb color value distribution')\n",
    "plt.show()\n",
    "\n",
    "sortArr=np.argsort(tempCmat[np.nonzero(tempCmat)])\n",
    "sortedInds=np.array(list(zip(nzInds[0],nzInds[1])))[sortArr]\n",
    "sortedNzInds=(sortedInds[:,0],sortedInds[:,1])\n",
    "\n",
    "clist=['red','green','blue']\n",
    "for ii in np.arange(3):\n",
    "    plt.plot(edgeColors[:,:,ii][sortedNzInds],c=clist[ii])\n",
    "plt.title('Value Sorted Edge rgb color values')\n",
    "plt.show()\n",
    "\n",
    "plt.plot(tempCmat[sortedNzInds])\n",
    "plt.title('Sorted Edge Values')\n",
    "plt.show()"
   ]
  },
  {
   "cell_type": "code",
   "execution_count": 269,
   "metadata": {},
   "outputs": [
    {
     "name": "stdout",
     "output_type": "stream",
     "text": [
      "sources:  [49]\n",
      "targets:  [432]\n"
     ]
    },
    {
     "data": {
      "image/png": "[encoded data removed]",
      "text/plain": [
       "<Figure size 1152x288 with 1 Axes>"
      ]
     },
     "metadata": {
      "needs_background": "light"
     },
     "output_type": "display_data"
    },
    {
     "data": {
      "application/vnd.jupyter.widget-view+json": {
       "model_id": "3c3b64ff815942479f066e64b7358d7a",
       "version_major": 2,
       "version_minor": 0
      },
      "text/plain": [
       "NGLWidget()"
      ]
     },
     "metadata": {},
     "output_type": "display_data"
    }
   ],
   "source": [
    "from IPython.display import display, HTML\n",
    "\n",
    "CSS = \"\"\"\n",
    ".output {\n",
    "    display: flex;\n",
    "    align-items: center;\n",
    "    text-align: center;\n",
    "}\n",
    "\"\"\"\n",
    "\n",
    "HTML('<style>{}</style>'.format(CSS))\n",
    "\n",
    "print(\"sources: \",sourceSet)\n",
    "print(\"targets: \",targetSet)\n",
    "#Draw a color bar for the edge coloring,\n",
    "#(nglview does not seem to support this yet)\n",
    "drawEdgeColorBar(tempCmat,maskInds=nzInds,\n",
    "                 cmap=tempCmap,label='E_Interaction',\n",
    "                 cNorm=cNorm,\n",
    "                 orientation='horizontal')\n",
    "\n",
    "#Render the filtered interaction network using nglview with\n",
    "#the edge width and colormaps generated above\n",
    "struc=strucDict[list(strucDict.keys())[0]]\n",
    "view=nv.show_pytraj(struc)\n",
    "view.clear_representations()\n",
    "for res in sourceSet:\n",
    "    view.add_representation('spacefill',selection=str(res+1)+\" and .CA\")\n",
    "for res in targetSet:\n",
    "    view.add_representation('spacefill',selection=str(res+1)+\" and .CA\")\n",
    "view.add_representation('line',selection=\"backbone\",alpha=.5)\n",
    "drawProtCorrMat(protStruc=struc,corrMat=plotMat,ngViewOb=view,\n",
    "                    frame=0,colorsArray=edgeColors,radiiMat=radiiMat,\n",
    "                    undirected=True)\n",
    "view"
   ]
  },
  {
   "cell_type": "code",
   "execution_count": 275,
   "metadata": {},
   "outputs": [],
   "source": [
    "topPaths=btwPathList[:100]\n",
    "topPathEdges=pathList_to_edgeSetInds(topPaths)\n",
    "tempMat=copy.copy(btwMat)\n",
    "tempMat=tempMat+tempMat.T\n",
    "plotMat=np.zeros(tempMat.shape)\n",
    "plotMat[topPathEdges]=tempMat[topPathEdges]\n",
    "\n",
    "nzInds=np.nonzero(plotMat)\n",
    "\n",
    "#Create a color map for edges based on log(abs(E_Interact.Mean))\n",
    "tempCmap=matplotlib.cm.get_cmap('plasma',2048)\n",
    "tempCmat=np.array(tempMat) #plotMat)\n",
    "vMin=np.min(tempCmat[nzInds])\n",
    "vCenter=np.median(tempCmat[nzInds])\n",
    "vMax=np.max(tempCmat[nzInds])\n",
    "cNorm=matplotlib.colors.DivergingNorm(vmin=vMin,vcenter=vCenter,vmax=vMax)\n",
    "#tempCmat[nzInds]=np.log(tempCmat[nzInds])\n",
    "edgeColors=getCorrNetEdgeColors(tempCmat,maskInds=nzInds,cmap=tempCmap,\n",
    "                                cNorm=cNorm)\n",
    "\n",
    "#Compute widths for edges based on lob(abs(E_Interact.Mean))\n",
    "#rMin and rMax set minimum and maximum edgewidths\n",
    "#edgwidth will then interpolate linearly between those two\n",
    "#bounds.\n",
    "eMin=.0625\n",
    "eMax=0.5\n",
    "radiiMat=getCorrNetEdgeRadii(plotMat,maskInds=nzInds,eMin=eMin,eMax=eMax)"
   ]
  },
  {
   "cell_type": "code",
   "execution_count": 276,
   "metadata": {},
   "outputs": [
    {
     "data": {
      "image/png": "[encoded data removed]",
      "text/plain": [
       "<Figure size 432x288 with 1 Axes>"
      ]
     },
     "metadata": {
      "needs_background": "light"
     },
     "output_type": "display_data"
    },
    {
     "data": {
      "image/png": "[encoded data removed]",
      "text/plain": [
       "<Figure size 432x288 with 1 Axes>"
      ]
     },
     "metadata": {
      "needs_background": "light"
     },
     "output_type": "display_data"
    },
    {
     "ename": "IndexError",
     "evalue": "index 3668 is out of bounds for axis 0 with size 130",
     "output_type": "error",
     "traceback": [
      "\u001b[0;31m---------------------------------------------------------------------------\u001b[0m",
      "\u001b[0;31mIndexError\u001b[0m                                Traceback (most recent call last)",
      "\u001b[0;32m<ipython-input-276-dc8bf877420f>\u001b[0m in \u001b[0;36m<module>\u001b[0;34m\u001b[0m\n\u001b[1;32m     13\u001b[0m \u001b[0;34m\u001b[0m\u001b[0m\n\u001b[1;32m     14\u001b[0m \u001b[0msortArr\u001b[0m\u001b[0;34m=\u001b[0m\u001b[0mnp\u001b[0m\u001b[0;34m.\u001b[0m\u001b[0margsort\u001b[0m\u001b[0;34m(\u001b[0m\u001b[0mtempCmat\u001b[0m\u001b[0;34m[\u001b[0m\u001b[0mnp\u001b[0m\u001b[0;34m.\u001b[0m\u001b[0mnonzero\u001b[0m\u001b[0;34m(\u001b[0m\u001b[0mtempCmat\u001b[0m\u001b[0;34m)\u001b[0m\u001b[0;34m]\u001b[0m\u001b[0;34m)\u001b[0m\u001b[0;34m\u001b[0m\u001b[0;34m\u001b[0m\u001b[0m\n\u001b[0;32m---> 15\u001b[0;31m \u001b[0msortedInds\u001b[0m\u001b[0;34m=\u001b[0m\u001b[0mnp\u001b[0m\u001b[0;34m.\u001b[0m\u001b[0marray\u001b[0m\u001b[0;34m(\u001b[0m\u001b[0mlist\u001b[0m\u001b[0;34m(\u001b[0m\u001b[0mzip\u001b[0m\u001b[0;34m(\u001b[0m\u001b[0mnzInds\u001b[0m\u001b[0;34m[\u001b[0m\u001b[0;36m0\u001b[0m\u001b[0;34m]\u001b[0m\u001b[0;34m,\u001b[0m\u001b[0mnzInds\u001b[0m\u001b[0;34m[\u001b[0m\u001b[0;36m1\u001b[0m\u001b[0;34m]\u001b[0m\u001b[0;34m)\u001b[0m\u001b[0;34m)\u001b[0m\u001b[0;34m)\u001b[0m\u001b[0;34m[\u001b[0m\u001b[0msortArr\u001b[0m\u001b[0;34m]\u001b[0m\u001b[0;34m\u001b[0m\u001b[0;34m\u001b[0m\u001b[0m\n\u001b[0m\u001b[1;32m     16\u001b[0m \u001b[0msortedNzInds\u001b[0m\u001b[0;34m=\u001b[0m\u001b[0;34m(\u001b[0m\u001b[0msortedInds\u001b[0m\u001b[0;34m[\u001b[0m\u001b[0;34m:\u001b[0m\u001b[0;34m,\u001b[0m\u001b[0;36m0\u001b[0m\u001b[0;34m]\u001b[0m\u001b[0;34m,\u001b[0m\u001b[0msortedInds\u001b[0m\u001b[0;34m[\u001b[0m\u001b[0;34m:\u001b[0m\u001b[0;34m,\u001b[0m\u001b[0;36m1\u001b[0m\u001b[0;34m]\u001b[0m\u001b[0;34m)\u001b[0m\u001b[0;34m\u001b[0m\u001b[0;34m\u001b[0m\u001b[0m\n\u001b[1;32m     17\u001b[0m \u001b[0;34m\u001b[0m\u001b[0m\n",
      "\u001b[0;31mIndexError\u001b[0m: index 3668 is out of bounds for axis 0 with size 130"
     ]
    }
   ],
   "source": [
    "#Plot distribution histograms for edge widths and edge color rgb values\n",
    "sns.distplot(radiiMat[np.nonzero(radiiMat)].flatten(),\n",
    "             kde=False)\n",
    "plt.title('Edge Width distribution')\n",
    "plt.show()\n",
    "\n",
    "clist=['red','green','blue']\n",
    "for ii in np.arange(3):\n",
    "    sns.distplot(edgeColors[:,:,ii][np.nonzero(edgeColors[:,:,ii])].flatten(),\n",
    "                 kde=False,color=clist[ii])\n",
    "plt.title('Edge rgb color value distribution')\n",
    "plt.show()\n",
    "\n",
    "sortArr=np.argsort(tempCmat[np.nonzero(tempCmat)])\n",
    "sortedInds=np.array(list(zip(nzInds[0],nzInds[1])))[sortArr]\n",
    "sortedNzInds=(sortedInds[:,0],sortedInds[:,1])\n",
    "\n",
    "clist=['red','green','blue']\n",
    "for ii in np.arange(3):\n",
    "    plt.plot(edgeColors[:,:,ii][sortedNzInds],c=clist[ii])\n",
    "plt.title('Value Sorted Edge rgb color values')\n",
    "plt.show()\n",
    "\n",
    "plt.plot(tempCmat[sortedNzInds])\n",
    "plt.title('Sorted Edge Values')\n",
    "plt.show()"
   ]
  },
  {
   "cell_type": "code",
   "execution_count": 280,
   "metadata": {},
   "outputs": [
    {
     "data": {
      "image/png": "[encoded data removed]",
      "text/plain": [
       "<Figure size 1152x288 with 1 Axes>"
      ]
     },
     "metadata": {
      "needs_background": "light"
     },
     "output_type": "display_data"
    },
    {
     "data": {
      "application/vnd.jupyter.widget-view+json": {
       "model_id": "d60c9eeeec144316ba394356257e3782",
       "version_major": 2,
       "version_minor": 0
      },
      "text/plain": [
       "NGLWidget()"
      ]
     },
     "metadata": {},
     "output_type": "display_data"
    }
   ],
   "source": [
    "from IPython.display import display, HTML\n",
    "\n",
    "CSS = \"\"\"\n",
    ".output {\n",
    "    display: flex;\n",
    "    align-items: center;\n",
    "    text-align: center;\n",
    "}\n",
    "\"\"\"\n",
    "\n",
    "HTML('<style>{}</style>'.format(CSS))\n",
    "\n",
    "#Draw a color bar for the edge coloring,\n",
    "#(nglview does not seem to support this yet)\n",
    "drawEdgeColorBar(tempCmat,maskInds=nzInds,\n",
    "                 cmap=tempCmap,label='Betweenness',\n",
    "                 cNorm=cNorm,\n",
    "                 orientation='horizontal')\n",
    "\n",
    "#Render the filtered interaction network using nglview with\n",
    "#the edge width and colormaps generated above\n",
    "struc=strucDict[list(strucDict.keys())[0]]\n",
    "view=nv.show_pytraj(struc)\n",
    "view.clear_representations()\n",
    "for res in sourceSet:\n",
    "    view.add_representation('spacefill',selection=str(res+1)+\" and .CA\")\n",
    "for res in targetSet:\n",
    "    view.add_representation('spacefill',selection=str(res+1)+\" and .CA\")\n",
    "view.add_representation('line',selection=\"backbone\",alpha=.5)\n",
    "drawProtCorrMat(protStruc=struc,corrMat=plotMat,ngViewOb=view,\n",
    "                    frame=0,colorsArray=edgeColors,radiiMat=radiiMat,\n",
    "                    undirected=True)\n",
    "view"
   ]
  },
  {
   "cell_type": "code",
   "execution_count": 41,
   "metadata": {},
   "outputs": [],
   "source": [
    "tempStr=None\n",
    "if tempStr:\n",
    "    print(tempStr)"
   ]
  },
  {
   "cell_type": "code",
   "execution_count": 46,
   "metadata": {},
   "outputs": [],
   "source": [
    "def bokeh_dataTable_heatMap(plotData,Xcol,Ycol,dataCol,\n",
    "                            width=640,height=640,\n",
    "                            rectheight=1,rectwidth=1,\n",
    "                            colorMap=sns.color_palette(\"coolwarm\", n_colors=256).as_hex(),\n",
    "                            title=None,\n",
    "                            axisFontSize=\"14pt\",\n",
    "                            vmin=None,vmax=None):\n",
    "    \n",
    "    if vmin is None:\n",
    "        eMin=plotData[dataCol].min()\n",
    "    else:\n",
    "        eMin=vmin\n",
    "    if vmax is None:\n",
    "        eMax=plotData[dataCol].max()\n",
    "    else:\n",
    "        eMax=vmax\n",
    "        \n",
    "    plotData['ColorWeight']=plotData[dataCol] #.map(lambda x: cNorm(x)) #.map(np.log10)\n",
    "    \n",
    "    #tempCmat=sp.sparse.coo_matrix((\n",
    "    #    plotData['ColorWeight'],\n",
    "    #    (plotData.ResNum_1,plotData.ResNum_2)),shape=454,454)\n",
    "    #tempCmap=matplotlib.cm.get_cmap('Spectral',11)\n",
    "    \n",
    "    #drawEdgeColorBar(tempCmat,maskInds=nzInds,\n",
    "    #             cmap=tempCmap,label='E_Interaction.Mean (kcal/mol)',\n",
    "    #             cNorm=cNorm,\n",
    "    #             orientation='horizontal')\n",
    "    \n",
    "    p=bk.plotting.figure(\n",
    "        plot_width=width,plot_height=height,\n",
    "        #text_font_size='14pt',\n",
    "        title=\"{matName} Interaction Energy Heat Map\".format(\n",
    "            matName='.'.join([\n",
    "                system,variant])))\n",
    "    \n",
    "    if title:\n",
    "        p.add_layout(Title(text=title),'above')\n",
    "        \n",
    "    p.xaxis.major_label_text_font_size=axisFontSize\n",
    "    p.yaxis.major_label_text_font_size=axisFontSize\n",
    "    \n",
    "    src=ColumnDataSource(plotData)\n",
    "    mapper=linear_cmap(field_name='ColorWeight',\n",
    "                       palette=colorMap,\n",
    "                       low=eMin,\n",
    "                       high=eMax,\n",
    "                      )\n",
    "    \n",
    "    cbMapper=LinearColorMapper(palette=colorMap,\n",
    "                               low=eMin,\n",
    "                               high=eMax)\n",
    "    color_bar = ColorBar(color_mapper=cbMapper, ticker= BasicTicker(),\n",
    "                     location=(0,0))\n",
    "\n",
    "    p.add_layout(color_bar, 'right')\n",
    "\n",
    "    p.rect(source=src,width=rectwidth,height=rectheight, x=Xcol,y=Ycol,\n",
    "             fill_color=mapper,color=mapper)\n",
    "\n",
    "    \n",
    "    \n",
    "    hover=HoverTool()\n",
    "    hover.tooltips=[\n",
    "        (colName,\"@{\"+\"{colName}\".format(colName=colName)+\"}\")\n",
    "        for colName in src.data.keys()\n",
    "    ]\n",
    "    print(hover.tooltips)\n",
    "    p.add_tools(hover)\n",
    "\n",
    "    output_notebook()\n",
    "    show(p)"
   ]
  },
  {
   "cell_type": "code",
   "execution_count": 43,
   "metadata": {},
   "outputs": [
    {
     "data": {
      "text/html": [
       "<div>\n",
       "<style scoped>\n",
       "    .dataframe tbody tr th:only-of-type {\n",
       "        vertical-align: middle;\n",
       "    }\n",
       "\n",
       "    .dataframe tbody tr th {\n",
       "        vertical-align: top;\n",
       "    }\n",
       "\n",
       "    .dataframe thead th {\n",
       "        text-align: right;\n",
       "    }\n",
       "</style>\n",
       "<table border=\"1\" class=\"dataframe\">\n",
       "  <thead>\n",
       "    <tr style=\"text-align: right;\">\n",
       "      <th></th>\n",
       "      <th>System</th>\n",
       "      <th>Variant</th>\n",
       "      <th>ResNum_1</th>\n",
       "      <th>ResNum_2</th>\n",
       "      <th>ResName_1</th>\n",
       "      <th>ResName_2</th>\n",
       "      <th>E_Interact.Mean</th>\n",
       "      <th>E_Interact.Std_Err</th>\n",
       "    </tr>\n",
       "  </thead>\n",
       "  <tbody>\n",
       "    <tr>\n",
       "      <th>0</th>\n",
       "      <td>igps</td>\n",
       "      <td>apo</td>\n",
       "      <td>1</td>\n",
       "      <td>1</td>\n",
       "      <td>MET</td>\n",
       "      <td>MET</td>\n",
       "      <td>-32.826080</td>\n",
       "      <td>0.364449</td>\n",
       "    </tr>\n",
       "    <tr>\n",
       "      <th>1</th>\n",
       "      <td>igps</td>\n",
       "      <td>apo</td>\n",
       "      <td>1</td>\n",
       "      <td>2</td>\n",
       "      <td>MET</td>\n",
       "      <td>LEU</td>\n",
       "      <td>-27.286881</td>\n",
       "      <td>0.088237</td>\n",
       "    </tr>\n",
       "    <tr>\n",
       "      <th>2</th>\n",
       "      <td>igps</td>\n",
       "      <td>apo</td>\n",
       "      <td>1</td>\n",
       "      <td>3</td>\n",
       "      <td>MET</td>\n",
       "      <td>ALA</td>\n",
       "      <td>-0.529824</td>\n",
       "      <td>0.032005</td>\n",
       "    </tr>\n",
       "    <tr>\n",
       "      <th>3</th>\n",
       "      <td>igps</td>\n",
       "      <td>apo</td>\n",
       "      <td>1</td>\n",
       "      <td>4</td>\n",
       "      <td>MET</td>\n",
       "      <td>LYS</td>\n",
       "      <td>-0.196490</td>\n",
       "      <td>0.055238</td>\n",
       "    </tr>\n",
       "    <tr>\n",
       "      <th>4</th>\n",
       "      <td>igps</td>\n",
       "      <td>apo</td>\n",
       "      <td>1</td>\n",
       "      <td>247</td>\n",
       "      <td>MET</td>\n",
       "      <td>ASN</td>\n",
       "      <td>-1.124520</td>\n",
       "      <td>0.114242</td>\n",
       "    </tr>\n",
       "  </tbody>\n",
       "</table>\n",
       "</div>"
      ],
      "text/plain": [
       "  System Variant  ResNum_1  ResNum_2 ResName_1 ResName_2  E_Interact.Mean  \\\n",
       "0   igps     apo         1         1       MET       MET       -32.826080   \n",
       "1   igps     apo         1         2       MET       LEU       -27.286881   \n",
       "2   igps     apo         1         3       MET       ALA        -0.529824   \n",
       "3   igps     apo         1         4       MET       LYS        -0.196490   \n",
       "4   igps     apo         1       247       MET       ASN        -1.124520   \n",
       "\n",
       "   E_Interact.Std_Err  \n",
       "0            0.364449  \n",
       "1            0.088237  \n",
       "2            0.032005  \n",
       "3            0.055238  \n",
       "4            0.114242  "
      ]
     },
     "execution_count": 43,
     "metadata": {},
     "output_type": "execute_result"
    }
   ],
   "source": [
    "sigData.head()"
   ]
  },
  {
   "cell_type": "code",
   "execution_count": 47,
   "metadata": {},
   "outputs": [
    {
     "data": {
      "application/vnd.jupyter.widget-view+json": {
       "model_id": "fdc6e9ad0bba456988d107375409d667",
       "version_major": 2,
       "version_minor": 0
      },
      "text/plain": [
       "interactive(children=(Dropdown(description='system', options=('igps',), value='igps'), Dropdown(description='v…"
      ]
     },
     "metadata": {},
     "output_type": "display_data"
    }
   ],
   "source": [
    "@interact_manual\n",
    "def plot_mat(\n",
    "    system=sigData.System.unique(),\n",
    "    variant=sigData.Variant.unique(),\n",
    "    magCut=widgets.FloatSlider(min=.01,max=100.,step=.01,value=2.0,\n",
    "                               description='Energy_Cut')):\n",
    "    \n",
    "    colorMap=np.flip(sns.color_palette(\"plasma\", n_colors=256).as_hex())\n",
    "    \n",
    "    plotData=sigData[\n",
    "        (sigData.System==system) & \\\n",
    "        (sigData.Variant==variant) & \\\n",
    "        ((sigData.ResNum_1 - sigData.ResNum_2).abs() > 0) &\n",
    "        ((sigData['E_Interact.Mean'].abs()-sigData['E_Interact.Std_Err'])>magCut)]\n",
    "    bokeh_dataTable_heatMap(plotData,Xcol=\"ResNum_1\",Ycol=\"ResNum_2\",dataCol=\"E_Interact.Mean\",\n",
    "                            width=640,height=640,\n",
    "                            colorMap=np.flip(sns.color_palette(\"coolwarm\", n_colors=256).as_hex()),\n",
    "                            title=None,\n",
    "                            axisFontSize=\"14pt\",\n",
    "                            vmin=None,vmax=None)"
   ]
  },
  {
   "cell_type": "code",
   "execution_count": null,
   "metadata": {},
   "outputs": [],
   "source": []
  },
  {
   "cell_type": "code",
   "execution_count": 8,
   "metadata": {},
   "outputs": [
    {
     "data": {
      "text/html": [
       "<div>\n",
       "<style scoped>\n",
       "    .dataframe tbody tr th:only-of-type {\n",
       "        vertical-align: middle;\n",
       "    }\n",
       "\n",
       "    .dataframe tbody tr th {\n",
       "        vertical-align: top;\n",
       "    }\n",
       "\n",
       "    .dataframe thead th {\n",
       "        text-align: right;\n",
       "    }\n",
       "</style>\n",
       "<table border=\"1\" class=\"dataframe\">\n",
       "  <thead>\n",
       "    <tr style=\"text-align: right;\">\n",
       "      <th></th>\n",
       "      <th>System</th>\n",
       "      <th>Variant</th>\n",
       "      <th>ResNum_1</th>\n",
       "      <th>ResNum_2</th>\n",
       "      <th>ResName_1</th>\n",
       "      <th>ResName_2</th>\n",
       "      <th>E_Interact.Mean</th>\n",
       "      <th>E_Interact.Std_Err</th>\n",
       "    </tr>\n",
       "  </thead>\n",
       "  <tbody>\n",
       "    <tr>\n",
       "      <th>0</th>\n",
       "      <td>igps</td>\n",
       "      <td>apo</td>\n",
       "      <td>1</td>\n",
       "      <td>1</td>\n",
       "      <td>MET</td>\n",
       "      <td>MET</td>\n",
       "      <td>-32.826080</td>\n",
       "      <td>0.364449</td>\n",
       "    </tr>\n",
       "    <tr>\n",
       "      <th>1</th>\n",
       "      <td>igps</td>\n",
       "      <td>apo</td>\n",
       "      <td>1</td>\n",
       "      <td>2</td>\n",
       "      <td>MET</td>\n",
       "      <td>LEU</td>\n",
       "      <td>-27.286881</td>\n",
       "      <td>0.088237</td>\n",
       "    </tr>\n",
       "    <tr>\n",
       "      <th>2</th>\n",
       "      <td>igps</td>\n",
       "      <td>apo</td>\n",
       "      <td>1</td>\n",
       "      <td>3</td>\n",
       "      <td>MET</td>\n",
       "      <td>ALA</td>\n",
       "      <td>-0.529824</td>\n",
       "      <td>0.032005</td>\n",
       "    </tr>\n",
       "    <tr>\n",
       "      <th>3</th>\n",
       "      <td>igps</td>\n",
       "      <td>apo</td>\n",
       "      <td>1</td>\n",
       "      <td>4</td>\n",
       "      <td>MET</td>\n",
       "      <td>LYS</td>\n",
       "      <td>-0.196490</td>\n",
       "      <td>0.055238</td>\n",
       "    </tr>\n",
       "    <tr>\n",
       "      <th>4</th>\n",
       "      <td>igps</td>\n",
       "      <td>apo</td>\n",
       "      <td>1</td>\n",
       "      <td>247</td>\n",
       "      <td>MET</td>\n",
       "      <td>ASN</td>\n",
       "      <td>-1.124520</td>\n",
       "      <td>0.114242</td>\n",
       "    </tr>\n",
       "  </tbody>\n",
       "</table>\n",
       "</div>"
      ],
      "text/plain": [
       "  System Variant  ResNum_1  ResNum_2 ResName_1 ResName_2  E_Interact.Mean  \\\n",
       "0   igps     apo         1         1       MET       MET       -32.826080   \n",
       "1   igps     apo         1         2       MET       LEU       -27.286881   \n",
       "2   igps     apo         1         3       MET       ALA        -0.529824   \n",
       "3   igps     apo         1         4       MET       LYS        -0.196490   \n",
       "4   igps     apo         1       247       MET       ASN        -1.124520   \n",
       "\n",
       "   E_Interact.Std_Err  \n",
       "0            0.364449  \n",
       "1            0.088237  \n",
       "2            0.032005  \n",
       "3            0.055238  \n",
       "4            0.114242  "
      ]
     },
     "execution_count": 8,
     "metadata": {},
     "output_type": "execute_result"
    }
   ],
   "source": [
    "sigData.head()"
   ]
  },
  {
   "cell_type": "code",
   "execution_count": 10,
   "metadata": {},
   "outputs": [
    {
     "name": "stdout",
     "output_type": "stream",
     "text": [
      "working on  igps apo\n",
      "working on  igps holo\n"
     ]
    },
    {
     "data": {
      "text/html": [
       "<div>\n",
       "<style scoped>\n",
       "    .dataframe tbody tr th:only-of-type {\n",
       "        vertical-align: middle;\n",
       "    }\n",
       "\n",
       "    .dataframe tbody tr th {\n",
       "        vertical-align: top;\n",
       "    }\n",
       "\n",
       "    .dataframe thead th {\n",
       "        text-align: right;\n",
       "    }\n",
       "</style>\n",
       "<table border=\"1\" class=\"dataframe\">\n",
       "  <thead>\n",
       "    <tr style=\"text-align: right;\">\n",
       "      <th></th>\n",
       "      <th>System</th>\n",
       "      <th>Variant</th>\n",
       "      <th>ResNum_1</th>\n",
       "      <th>ResNum_2</th>\n",
       "      <th>ResName_1</th>\n",
       "      <th>ResName_2</th>\n",
       "      <th>E_Interact.Mean</th>\n",
       "      <th>E_Interact.Std_Err</th>\n",
       "      <th>Betweenness</th>\n",
       "    </tr>\n",
       "  </thead>\n",
       "  <tbody>\n",
       "    <tr>\n",
       "      <th>0</th>\n",
       "      <td>igps</td>\n",
       "      <td>apo</td>\n",
       "      <td>1</td>\n",
       "      <td>1</td>\n",
       "      <td>MET</td>\n",
       "      <td>MET</td>\n",
       "      <td>-32.826080</td>\n",
       "      <td>0.364449</td>\n",
       "      <td>0.000000</td>\n",
       "    </tr>\n",
       "    <tr>\n",
       "      <th>1</th>\n",
       "      <td>igps</td>\n",
       "      <td>apo</td>\n",
       "      <td>1</td>\n",
       "      <td>2</td>\n",
       "      <td>MET</td>\n",
       "      <td>LEU</td>\n",
       "      <td>-27.286881</td>\n",
       "      <td>0.088237</td>\n",
       "      <td>0.000149</td>\n",
       "    </tr>\n",
       "    <tr>\n",
       "      <th>2</th>\n",
       "      <td>igps</td>\n",
       "      <td>apo</td>\n",
       "      <td>1</td>\n",
       "      <td>3</td>\n",
       "      <td>MET</td>\n",
       "      <td>ALA</td>\n",
       "      <td>-0.529824</td>\n",
       "      <td>0.032005</td>\n",
       "      <td>0.002782</td>\n",
       "    </tr>\n",
       "    <tr>\n",
       "      <th>3</th>\n",
       "      <td>igps</td>\n",
       "      <td>apo</td>\n",
       "      <td>1</td>\n",
       "      <td>4</td>\n",
       "      <td>MET</td>\n",
       "      <td>LYS</td>\n",
       "      <td>-0.196490</td>\n",
       "      <td>0.055238</td>\n",
       "      <td>0.031170</td>\n",
       "    </tr>\n",
       "    <tr>\n",
       "      <th>4</th>\n",
       "      <td>igps</td>\n",
       "      <td>apo</td>\n",
       "      <td>1</td>\n",
       "      <td>247</td>\n",
       "      <td>MET</td>\n",
       "      <td>ASN</td>\n",
       "      <td>-1.124520</td>\n",
       "      <td>0.114242</td>\n",
       "      <td>0.000246</td>\n",
       "    </tr>\n",
       "  </tbody>\n",
       "</table>\n",
       "</div>"
      ],
      "text/plain": [
       "  System Variant  ResNum_1  ResNum_2 ResName_1 ResName_2  E_Interact.Mean  \\\n",
       "0   igps     apo         1         1       MET       MET       -32.826080   \n",
       "1   igps     apo         1         2       MET       LEU       -27.286881   \n",
       "2   igps     apo         1         3       MET       ALA        -0.529824   \n",
       "3   igps     apo         1         4       MET       LYS        -0.196490   \n",
       "4   igps     apo         1       247       MET       ASN        -1.124520   \n",
       "\n",
       "   E_Interact.Std_Err  Betweenness  \n",
       "0            0.364449     0.000000  \n",
       "1            0.088237     0.000149  \n",
       "2            0.032005     0.002782  \n",
       "3            0.055238     0.031170  \n",
       "4            0.114242     0.000246  "
      ]
     },
     "execution_count": 10,
     "metadata": {},
     "output_type": "execute_result"
    }
   ],
   "source": [
    "matGroups=sigData.groupby(['System','Variant'])\n",
    "\n",
    "sourceSet=[49]\n",
    "targetSet=[432]\n",
    "\n",
    "nRes=454\n",
    "minEVal=1E-10 #ensure edges never have exactly zero interaction energy (division error)\n",
    "netDataTables=[]\n",
    "for groupName,groupData in matGroups:\n",
    "    print(\"working on \",*groupName)\n",
    "    weightMat=sp.sparse.coo_matrix(\n",
    "                ((groupData['E_Interact.Mean'].abs()+minEVal)**-1,\n",
    "                 (groupData['ResNum_1']-1,groupData['ResNum_2']-1)),\n",
    "                shape=(nRes,nRes)).todense()\n",
    "    btwMat=correlation_data_utilities.getBtwMat(\n",
    "        mat=weightMat,sources=sourceSet,targets=targetSet,\n",
    "        verbose=False,verboseLevel=0,\n",
    "        useProgressBar=True,pbarFun=tqdm.tqdm_notebook)\n",
    "    if np.sum(btwMat-btwMat.T)>0:\n",
    "        btwMat=btwMat+btwMat.T\n",
    "    tempTable=groupData.copy()\n",
    "    tempTable['Betweenness']=tempTable[['ResNum_1','ResNum_2']].apply(\n",
    "        lambda x: btwMat[x[0]-1,x[1]-1],axis=1)\n",
    "    netDataTables.append(tempTable.copy())\n",
    "netDataTable=pd.concat(netDataTables)\n",
    "netDataTable.head()"
   ]
  },
  {
   "cell_type": "code",
   "execution_count": 31,
   "metadata": {},
   "outputs": [
    {
     "data": {
      "text/html": [
       "<div>\n",
       "<style scoped>\n",
       "    .dataframe tbody tr th:only-of-type {\n",
       "        vertical-align: middle;\n",
       "    }\n",
       "\n",
       "    .dataframe tbody tr th {\n",
       "        vertical-align: top;\n",
       "    }\n",
       "\n",
       "    .dataframe thead th {\n",
       "        text-align: right;\n",
       "    }\n",
       "</style>\n",
       "<table border=\"1\" class=\"dataframe\">\n",
       "  <thead>\n",
       "    <tr style=\"text-align: right;\">\n",
       "      <th></th>\n",
       "      <th>ResNum_1</th>\n",
       "      <th>igps.apo</th>\n",
       "      <th>igps.holo</th>\n",
       "    </tr>\n",
       "  </thead>\n",
       "  <tbody>\n",
       "    <tr>\n",
       "      <th>0</th>\n",
       "      <td>1</td>\n",
       "      <td>0.068127</td>\n",
       "      <td>0.057397</td>\n",
       "    </tr>\n",
       "    <tr>\n",
       "      <th>1</th>\n",
       "      <td>2</td>\n",
       "      <td>0.046353</td>\n",
       "      <td>0.041591</td>\n",
       "    </tr>\n",
       "    <tr>\n",
       "      <th>2</th>\n",
       "      <td>3</td>\n",
       "      <td>0.093960</td>\n",
       "      <td>0.103937</td>\n",
       "    </tr>\n",
       "    <tr>\n",
       "      <th>3</th>\n",
       "      <td>4</td>\n",
       "      <td>0.099892</td>\n",
       "      <td>0.082210</td>\n",
       "    </tr>\n",
       "    <tr>\n",
       "      <th>4</th>\n",
       "      <td>5</td>\n",
       "      <td>0.089281</td>\n",
       "      <td>0.085701</td>\n",
       "    </tr>\n",
       "  </tbody>\n",
       "</table>\n",
       "</div>"
      ],
      "text/plain": [
       "   ResNum_1  igps.apo  igps.holo\n",
       "0         1  0.068127   0.057397\n",
       "1         2  0.046353   0.041591\n",
       "2         3  0.093960   0.103937\n",
       "3         4  0.099892   0.082210\n",
       "4         5  0.089281   0.085701"
      ]
     },
     "execution_count": 31,
     "metadata": {},
     "output_type": "execute_result"
    }
   ],
   "source": [
    "nodeBtwDataTable=netDataTable.drop(\n",
    "        columns=[colName for colName in netDataTable.columns \\\n",
    "                 if 'E_Interact' in colName]\n",
    "    )[['System','Variant','ResNum_1','ResName_1','Betweenness']].groupby(\n",
    "        ['System','Variant','ResNum_1','ResName_1']\n",
    "    ).agg(sum).reset_index()\n",
    "nodeBtwDataTable['NetworkName']=nodeBtwDataTable[['System','Variant']].apply(\n",
    "    lambda x: '.'.join(x),axis=1)\n",
    "nodeBtwDataTable=nodeBtwDataTable.drop(columns=['System','Variant'])\n",
    "nodeBtwDataTable=nodeBtwDataTable.pivot(\n",
    "    index='ResNum_1',columns='NetworkName',values='Betweenness')\n",
    "netNames=nodeBtwDataTable.NetworkName.unique()\n",
    "nodeBtwDataTable.columns=np.array(nodeBtwDataTable.columns.map(str))\n",
    "nodeBtwDataTable=nodeBtwDataTable.reset_index()\n",
    "nodeBtwDataTable.head()"
   ]
  },
  {
   "cell_type": "code",
   "execution_count": 35,
   "metadata": {},
   "outputs": [
    {
     "data": {
      "text/html": [
       "<div>\n",
       "<style scoped>\n",
       "    .dataframe tbody tr th:only-of-type {\n",
       "        vertical-align: middle;\n",
       "    }\n",
       "\n",
       "    .dataframe tbody tr th {\n",
       "        vertical-align: top;\n",
       "    }\n",
       "\n",
       "    .dataframe thead th {\n",
       "        text-align: right;\n",
       "    }\n",
       "</style>\n",
       "<table border=\"1\" class=\"dataframe\">\n",
       "  <thead>\n",
       "    <tr style=\"text-align: right;\">\n",
       "      <th></th>\n",
       "      <th>ResNum_1</th>\n",
       "      <th>igps.apo</th>\n",
       "      <th>testNetworkName</th>\n",
       "      <th>testNetworkBetweenness</th>\n",
       "      <th>Delta</th>\n",
       "      <th>RelativeDelta</th>\n",
       "    </tr>\n",
       "  </thead>\n",
       "  <tbody>\n",
       "    <tr>\n",
       "      <th>0</th>\n",
       "      <td>1</td>\n",
       "      <td>0.068127</td>\n",
       "      <td>igps.holo</td>\n",
       "      <td>0.057397</td>\n",
       "      <td>-0.010730</td>\n",
       "      <td>-0.157498</td>\n",
       "    </tr>\n",
       "    <tr>\n",
       "      <th>1</th>\n",
       "      <td>2</td>\n",
       "      <td>0.046353</td>\n",
       "      <td>igps.holo</td>\n",
       "      <td>0.041591</td>\n",
       "      <td>-0.004762</td>\n",
       "      <td>-0.102741</td>\n",
       "    </tr>\n",
       "    <tr>\n",
       "      <th>2</th>\n",
       "      <td>3</td>\n",
       "      <td>0.093960</td>\n",
       "      <td>igps.holo</td>\n",
       "      <td>0.103937</td>\n",
       "      <td>0.009978</td>\n",
       "      <td>0.095998</td>\n",
       "    </tr>\n",
       "    <tr>\n",
       "      <th>3</th>\n",
       "      <td>4</td>\n",
       "      <td>0.099892</td>\n",
       "      <td>igps.holo</td>\n",
       "      <td>0.082210</td>\n",
       "      <td>-0.017682</td>\n",
       "      <td>-0.177009</td>\n",
       "    </tr>\n",
       "    <tr>\n",
       "      <th>4</th>\n",
       "      <td>5</td>\n",
       "      <td>0.089281</td>\n",
       "      <td>igps.holo</td>\n",
       "      <td>0.085701</td>\n",
       "      <td>-0.003580</td>\n",
       "      <td>-0.040102</td>\n",
       "    </tr>\n",
       "  </tbody>\n",
       "</table>\n",
       "</div>"
      ],
      "text/plain": [
       "   ResNum_1  igps.apo testNetworkName  testNetworkBetweenness     Delta  \\\n",
       "0         1  0.068127       igps.holo                0.057397 -0.010730   \n",
       "1         2  0.046353       igps.holo                0.041591 -0.004762   \n",
       "2         3  0.093960       igps.holo                0.103937  0.009978   \n",
       "3         4  0.099892       igps.holo                0.082210 -0.017682   \n",
       "4         5  0.089281       igps.holo                0.085701 -0.003580   \n",
       "\n",
       "   RelativeDelta  \n",
       "0      -0.157498  \n",
       "1      -0.102741  \n",
       "2       0.095998  \n",
       "3      -0.177009  \n",
       "4      -0.040102  "
      ]
     },
     "execution_count": 35,
     "metadata": {},
     "output_type": "execute_result"
    }
   ],
   "source": [
    "nodeDeltaTable=nodeBtwDataTable.melt(id_vars=['ResNum_1','igps.apo'],\n",
    "                                     var_name='testNetworkName',value_name='testNetworkBetweenness')\n",
    "nodeDeltaTable['Delta']=nodeDeltaTable[['igps.apo','testNetworkBetweenness']].apply(\n",
    "    lambda x: x[1]-x[0],axis=1)\n",
    "nodeDeltaTable['RelativeDelta']=nodeDeltaTable[['igps.apo','testNetworkBetweenness']].apply(\n",
    "    lambda x: (x[1]-x[0])/np.max(x),axis=1)\n",
    "nodeDeltaTable.head()"
   ]
  },
  {
   "cell_type": "code",
   "execution_count": 38,
   "metadata": {},
   "outputs": [],
   "source": [
    "import nglview as nv"
   ]
  },
  {
   "cell_type": "code",
   "execution_count": 40,
   "metadata": {},
   "outputs": [
    {
     "name": "stdout",
     "output_type": "stream",
     "text": [
      "loading igps.apo\n",
      "loading igps.holo\n",
      "{'igps.apo': pytraj.Trajectory, 1 frames: \n",
      "Size: 0.000161 (GB)\n",
      "<Topology: 7225 atoms, 456 residues, 4 mols, PBC with box type = ortho>\n",
      "           , 'igps.holo': pytraj.Trajectory, 1 frames: \n",
      "Size: 0.000163 (GB)\n",
      "<Topology: 7281 atoms, 455 residues, 3 mols, PBC with box type = ortho>\n",
      "           }\n"
     ]
    }
   ],
   "source": [
    "import pytraj as pt\n",
    "strucDataDir='energy_topology'\n",
    "systems=['igps']\n",
    "variants=['apo','holo']\n",
    "\n",
    "strucFileNameStr=\"{system}.prot_lig_{variant}.pdb\"\n",
    "\n",
    "subDirStr='{system}.{variant}'\n",
    "\n",
    "strucDict={}\n",
    "for system in systems:\n",
    "    for variant in variants:\n",
    "        subDir=subDirStr.format(system=system,variant=variant)\n",
    "        strucFileName=strucFileNameStr.format(system=system,variant=variant)\n",
    "        strucFilePath='/'.join([strucDataDir,subDir,strucFileName])\n",
    "        strucKey=subDir\n",
    "        print(\"loading\",strucKey)\n",
    "        strucDict[strucKey]=pt.load(strucFilePath)\n",
    "print(strucDict)"
   ]
  },
  {
   "cell_type": "code",
   "execution_count": 51,
   "metadata": {},
   "outputs": [],
   "source": [
    "refNet='igps.apo'\n",
    "struc=strucDict[refNet]\n",
    "sourceResids=np.array(sourceSet,dtype=int)\n",
    "targetResids=np.array(targetSet,dtype=int)"
   ]
  },
  {
   "cell_type": "code",
   "execution_count": null,
   "metadata": {},
   "outputs": [],
   "source": [
    "matplotlib.collections"
   ]
  },
  {
   "cell_type": "code",
   "execution_count": 65,
   "metadata": {},
   "outputs": [
    {
     "data": {
      "application/vnd.jupyter.widget-view+json": {
       "model_id": "3d597c0cd2b4491bb72a608c6d7f3df8",
       "version_major": 2,
       "version_minor": 0
      },
      "text/plain": [
       "interactive(children=(Dropdown(description='testSystem', options=('igps.holo',), value='igps.holo'), Dropdown(…"
      ]
     },
     "metadata": {},
     "output_type": "display_data"
    }
   ],
   "source": [
    "@interact\n",
    "def render_difference(testSystem=widgets.Dropdown(\n",
    "                        options=nodeDeltaTable.testNetworkName.unique()),\n",
    "                        colorMap=['viridis', 'plasma', 'inferno', 'magma', 'cividis',\n",
    "                                  'PiYG', 'PRGn', 'BrBG', 'PuOr', 'RdGy', 'RdBu',\n",
    "                                  'RdYlBu', 'RdYlGn', 'Spectral', 'coolwarm', 'bwr', 'seismic'],\n",
    "                        colorRange=widgets.FloatRangeSlider(min=-1,max=1,value=(-.01,.01)),\n",
    "                        valCol=[refNet,'testNetworkBetweenness',\n",
    "                                'Delta','RelativeDelta'],\n",
    "                        showRelativeDelta=False):\n",
    "    plotData=nodeDeltaTable.query('testNetworkName == \"%s\"'%testSystem)\n",
    "    \n",
    "    plotTitle={\n",
    "            refNet:\"Reference System (%s)\\nNode Betweenness\"%refNet,\n",
    "           'testNetworkBetweenness':\"Test System (%s)\\nNode Betweenness\"%testSystem,\n",
    "           'Delta':'Node Betweenness Delta\\n%s - %s'%(testSystem,refNet),\n",
    "           'RelativeDelta':'Node Betweenness Relative Delta\\n%s - %s'%(testSystem,refNet)\n",
    "        }[valCol]\n",
    "    colorVals=plotData[valCol].to_list()\n",
    "\n",
    "    cMap=matplotlib.cm.get_cmap(colorMap,256)\n",
    "    cNorm=matplotlib.colors.Normalize(colorRange[0],colorRange[1])\n",
    "    \n",
    "    colorList=[\n",
    "        x.replace('#','0x') for x in \\\n",
    "        map(matplotlib.colors.to_hex,\n",
    "            cMap(cNorm(\n",
    "                    colorVals\n",
    "                 )))]\n",
    "\n",
    "    correlation_data_utilities.drawEdgeColorBar(\n",
    "         np.array([colorVals]),maskInds=None,\n",
    "         cmap=cMap,\n",
    "         cNorm=cNorm,\n",
    "         ax=None,\n",
    "         label=plotTitle,\n",
    "         label_size=24,\n",
    "         barSize=[18,5],\n",
    "         orientation='horizontal',\n",
    "         verbose=False)\n",
    "    view=nv.show_pytraj(struc)\n",
    "    view.clear_representations()\n",
    "    view.add_cartoon('protein')\n",
    "    view._set_color_by_residue(colorList)\n",
    "    for resid in sourceResids+1:\n",
    "        view.add_representation('spacefill',selection='%g'%resid,alpha=.5)\n",
    "    for resid in targetResids+1:\n",
    "        view.add_representation('spacefill',selection='%g'%resid,alpha=.5)\n",
    "    display(view,width=800,height=800)"
   ]
  },
  {
   "cell_type": "code",
   "execution_count": null,
   "metadata": {},
   "outputs": [],
   "source": []
  }
 ],
 "metadata": {
  "kernelspec": {
   "display_name": "Python 3",
   "language": "python",
   "name": "python3"
  },
  "language_info": {
   "codemirror_mode": {
    "name": "ipython",
    "version": 3
   },
   "file_extension": ".py",
   "mimetype": "text/x-python",
   "name": "python",
   "nbconvert_exporter": "python",
   "pygments_lexer": "ipython3",
   "version": "3.7.3"
  }
 },
 "nbformat": 4,
 "nbformat_minor": 2
}
