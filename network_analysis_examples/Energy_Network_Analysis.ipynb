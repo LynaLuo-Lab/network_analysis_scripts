{
 "cells": [
  {
   "cell_type": "code",
   "execution_count": 15,
   "metadata": {},
   "outputs": [],
   "source": [
    "import numpy as np\n",
    "import scipy as sp\n",
    "import pandas as pd\n",
    "import sklearn as skl\n",
    "import matplotlib\n",
    "from matplotlib import pyplot as plt\n",
    "import seaborn as sns\n",
    "import ipywidgets as widgets\n",
    "from ipywidgets import interact, interact_manual\n",
    "import gc\n",
    "import sys\n",
    "import os\n",
    "import tqdm\n",
    "import collections\n",
    "import re\n",
    "import correlation_data_utilities\n",
    "import networkx as nx\n",
    "from itertools import islice\n",
    "import copy"
   ]
  },
  {
   "cell_type": "markdown",
   "metadata": {},
   "source": [
    "Warning: If you don't have pytraj installed, go to the command line and run\n",
    "\n",
    "-conda install pytraj -c ambermd\n",
    "\n",
    "google colab does not seem to support nglview. Attempting to use nglview in google colab will cause it to crash.\n",
    "\n",
    "some python 3 users may need to enable widgets and nglview before it will render.\n",
    "\n",
    "to do so, go to the command line and run\n",
    "\n",
    "jupyter-nbextension enable --py --user widgetsnbextension\n",
    "\n",
    "jupyter-nbextension enable --py --user nglview\n",
    "\n",
    "-conda install -c conda-forge nglview"
   ]
  },
  {
   "cell_type": "markdown",
   "metadata": {},
   "source": [
    "# Setup tracking variables and load raw energy data"
   ]
  },
  {
   "cell_type": "code",
   "execution_count": 16,
   "metadata": {},
   "outputs": [],
   "source": [
    "energyDataDir='energy_topology'\n",
    "systems=['igps']\n",
    "variants=['apo','holo']\n",
    "\n",
    "summaryDataSuffix='decomp_summary.csv'\n",
    "seriesDataSuffix='energy_series.csv'\n",
    "\n",
    "nSkip_Summary=6\n",
    "headerRows_Summary=[0,1]\n",
    "\n",
    "subDirStr='{system}.{variant}'\n",
    "\n",
    "dataPrefixStr='{system}.prot_lig_{variant}.mmpbsa.pairwise_decomp'"
   ]
  },
  {
   "cell_type": "code",
   "execution_count": 17,
   "metadata": {},
   "outputs": [],
   "source": [
    "#lets have a look at the header of one energy summary file"
   ]
  },
  {
   "cell_type": "code",
   "execution_count": 18,
   "metadata": {},
   "outputs": [
    {
     "name": "stdout",
     "output_type": "stream",
     "text": [
      "| Run on Mon Dec 16 10:19:27 2019\r",
      "\r\n",
      "| GB non-polar solvation energies calculated with gbsa=2\r",
      "\r\n",
      "idecomp = 3: Pairwise decomp adding 1-4 interactions to Internal.\r",
      "\r\n",
      "Energy Decomposition Analysis (All units kcal/mol): Generalized Born Solvent\r",
      "\r\n",
      "\r",
      "\r\n",
      "Total Energy Decomposition:\r",
      "\r\n",
      "Resid 1,Resid 2,Internal,,,van der Waals,,,Electrostatic,,,Polar Solvation,,,Non-Polar Solv.,,,TOTAL,,\r",
      "\r\n",
      ",,Avg.,Std. Dev.,Std. Err. of Mean,Avg.,Std. Dev.,Std. Err. of Mean,Avg.,Std. Dev.,Std. Err. of Mean,Avg.,Std. Dev.,Std. Err. of Mean,Avg.,Std. Dev.,Std. Err. of Mean,Avg.,Std. Dev.,Std. Err. of Mean\r",
      "\r\n",
      "MET   1,MET   1,0.0,0.0,0.0,-1.2933701400000002,0.9251342763120824,0.13083374405767653,-32.44012333999999,2.6682536155287417,0.37734804509317926,-5.2319797999999995,0.8123447031090008,0.11488288964586942,6.139393759872,0.33484129272512325,0.04735370974144089,-32.826079520128,2.577042075047322,0.36444878533380265\r",
      "\r\n",
      "MET   1,LEU   2,0.0,0.0,0.0,-1.0325687999999997,0.28216406413057,0.03990402463077638,-24.83167977999999,0.6037675558939426,0.08538562660660694,-0.10418019999999999,0.2596658150315516,0.036722291730228375,-1.3184525891519998,0.2261814665491989,0.03198688975513136,-27.286881369152002,0.6239287709720915,0.08823685298635085\r",
      "\r\n"
     ]
    }
   ],
   "source": [
    "!head 'energy_topology/igps.apo/igps.prot_lig_apo.mmpbsa.pairwise_decomp.decomp_summary.csv'"
   ]
  },
  {
   "cell_type": "code",
   "execution_count": 19,
   "metadata": {},
   "outputs": [],
   "source": [
    "#The header for the energy summary is rather messy and needs to\n",
    "#be reformatted to work properly.\n",
    "def parse_summary_header(headerColumns):\n",
    "    summaryHead=[]\n",
    "\n",
    "    head1=''\n",
    "    for headEntry in headerColumns: #summaryData.columns:\n",
    "        if not ('Unnamed' in headEntry[0]):\n",
    "            head1=headEntry[0].replace(' ','_').replace('-','_').replace('.','')\n",
    "        if 'Unnamed' in headEntry[1]:\n",
    "            head2=''\n",
    "        else:\n",
    "            head2=headEntry[1].replace(' ','_').replace('-','_').replace('.','')\n",
    "        if head2=='':\n",
    "            summaryHead.append(head1)\n",
    "        else:\n",
    "            summaryHead.append('.'.join([head1,head2]))\n",
    "    summaryHead=np.array(summaryHead)\n",
    "    return summaryHead"
   ]
  },
  {
   "cell_type": "code",
   "execution_count": 20,
   "metadata": {},
   "outputs": [
    {
     "data": {
      "text/plain": [
       "array(['Resid_1', 'Resid_2', 'Internal.Avg', ..., 'TOTAL.Avg',\n",
       "       'TOTAL.Std_Dev', 'TOTAL.Std_Err_of_Mean'], \n",
       "      dtype='<U31')"
      ]
     },
     "execution_count": 20,
     "metadata": {},
     "output_type": "execute_result"
    }
   ],
   "source": [
    "#lets test it and see if it worked.\n",
    "#this will also give us a list of columns so we can figure out which ones we need\n",
    "parse_summary_header(\n",
    "pd.read_csv(\n",
    "    'energy_topology/igps.apo/igps.prot_lig_apo.mmpbsa.pairwise_decomp.decomp_summary.csv',\n",
    "    skiprows=nSkip_Summary,\n",
    "    header=headerRows_Summary).columns\n",
    ")"
   ]
  },
  {
   "cell_type": "markdown",
   "metadata": {},
   "source": [
    "## load and parse energy data and save a joint file\n",
    "\n",
    "This only needs to be done once unless you add new data"
   ]
  },
  {
   "cell_type": "code",
   "execution_count": 21,
   "metadata": {},
   "outputs": [
    {
     "name": "stdout",
     "output_type": "stream",
     "text": [
      "--- --- ---\n",
      "- Loading, fileName: igps.prot_lig_apo.mmpbsa.pairwise_decomp.decomp_summary.csv\n",
      "filePath: energy_topology/igps.apo/igps.prot_lig_apo.mmpbsa.pairwise_decomp.decomp_summary.csv\n",
      "parsing column names, extracting interaction terms, formatting residue data columns -\n",
      "--- --- ---\n",
      "- Loading, fileName: igps.prot_lig_holo.mmpbsa.pairwise_decomp.decomp_summary.csv\n",
      "filePath: energy_topology/igps.holo/igps.prot_lig_holo.mmpbsa.pairwise_decomp.decomp_summary.csv\n",
      "parsing column names, extracting interaction terms, formatting residue data columns -\n",
      "--- --- ---\n",
      "Done\n"
     ]
    },
    {
     "data": {
      "text/html": [
       "<div>\n",
       "<style scoped>\n",
       "    .dataframe tbody tr th:only-of-type {\n",
       "        vertical-align: middle;\n",
       "    }\n",
       "\n",
       "    .dataframe tbody tr th {\n",
       "        vertical-align: top;\n",
       "    }\n",
       "\n",
       "    .dataframe thead th {\n",
       "        text-align: right;\n",
       "    }\n",
       "</style>\n",
       "<table border=\"1\" class=\"dataframe\">\n",
       "  <thead>\n",
       "    <tr style=\"text-align: right;\">\n",
       "      <th></th>\n",
       "      <th>System</th>\n",
       "      <th>Variant</th>\n",
       "      <th>ResNum_1</th>\n",
       "      <th>ResNum_2</th>\n",
       "      <th>ResName_1</th>\n",
       "      <th>ResName_2</th>\n",
       "      <th>E_Interact.Mean</th>\n",
       "      <th>E_Interact.Std_Err</th>\n",
       "    </tr>\n",
       "  </thead>\n",
       "  <tbody>\n",
       "    <tr>\n",
       "      <th>0</th>\n",
       "      <td>igps</td>\n",
       "      <td>apo</td>\n",
       "      <td>1</td>\n",
       "      <td>1</td>\n",
       "      <td>MET</td>\n",
       "      <td>MET</td>\n",
       "      <td>-32.826080</td>\n",
       "      <td>0.364449</td>\n",
       "    </tr>\n",
       "    <tr>\n",
       "      <th>1</th>\n",
       "      <td>igps</td>\n",
       "      <td>apo</td>\n",
       "      <td>1</td>\n",
       "      <td>2</td>\n",
       "      <td>MET</td>\n",
       "      <td>LEU</td>\n",
       "      <td>-27.286881</td>\n",
       "      <td>0.088237</td>\n",
       "    </tr>\n",
       "    <tr>\n",
       "      <th>2</th>\n",
       "      <td>igps</td>\n",
       "      <td>apo</td>\n",
       "      <td>1</td>\n",
       "      <td>3</td>\n",
       "      <td>MET</td>\n",
       "      <td>ALA</td>\n",
       "      <td>-0.529824</td>\n",
       "      <td>0.032005</td>\n",
       "    </tr>\n",
       "    <tr>\n",
       "      <th>3</th>\n",
       "      <td>igps</td>\n",
       "      <td>apo</td>\n",
       "      <td>1</td>\n",
       "      <td>4</td>\n",
       "      <td>MET</td>\n",
       "      <td>LYS</td>\n",
       "      <td>-0.196490</td>\n",
       "      <td>0.055238</td>\n",
       "    </tr>\n",
       "    <tr>\n",
       "      <th>4</th>\n",
       "      <td>igps</td>\n",
       "      <td>apo</td>\n",
       "      <td>1</td>\n",
       "      <td>5</td>\n",
       "      <td>MET</td>\n",
       "      <td>ARG</td>\n",
       "      <td>-0.019429</td>\n",
       "      <td>0.001980</td>\n",
       "    </tr>\n",
       "  </tbody>\n",
       "</table>\n",
       "</div>"
      ],
      "text/plain": [
       "  System Variant ResNum_1 ResNum_2 ResName_1 ResName_2  E_Interact.Mean  \\\n",
       "0   igps     apo        1        1       MET       MET       -32.826080   \n",
       "1   igps     apo        1        2       MET       LEU       -27.286881   \n",
       "2   igps     apo        1        3       MET       ALA        -0.529824   \n",
       "3   igps     apo        1        4       MET       LYS        -0.196490   \n",
       "4   igps     apo        1        5       MET       ARG        -0.019429   \n",
       "\n",
       "   E_Interact.Std_Err  \n",
       "0            0.364449  \n",
       "1            0.088237  \n",
       "2            0.032005  \n",
       "3            0.055238  \n",
       "4            0.001980  "
      ]
     },
     "execution_count": 21,
     "metadata": {},
     "output_type": "execute_result"
    }
   ],
   "source": [
    "outputFileName='joint_interaction_energy_summary.TOTAL.csv'\n",
    "outputFilePath='/'.join([energyDataDir,outputFileName])\n",
    "\n",
    "system=systems[0]\n",
    "variant=variants[0]\n",
    "summaryTables=[]\n",
    "for system in systems:\n",
    "    for variant in variants:\n",
    "        print('--- --- ---')\n",
    "        print('- Loading',end=', ')\n",
    "        strDict={\n",
    "            \"system\":system,\n",
    "            \"variant\":variant,}\n",
    "        inputPrefix=dataPrefixStr.format(**strDict)\n",
    "        summaryFileName='.'.join([inputPrefix,summaryDataSuffix])\n",
    "        print('fileName:',summaryFileName)\n",
    "        subDir=subDirStr.format(**strDict)\n",
    "        fileDir='/'.join([energyDataDir,subDir])\n",
    "        summaryFilePath='/'.join([fileDir,summaryFileName])\n",
    "        print('filePath:',summaryFilePath)\n",
    "        summaryData=pd.read_csv(summaryFilePath,skiprows=nSkip_Summary,header=headerRows_Summary)\n",
    "        print('parsing column names',end=', ')\n",
    "        summaryData.columns=parse_summary_header(summaryData.columns)\n",
    "        print('extracting interaction terms',end=', ')\n",
    "        summaryData['System']=system\n",
    "        summaryData['Variant']=variant\n",
    "        summaryData['E_Interact.Mean']=summaryData['TOTAL.Avg'] #(summaryData['van_der_Waals.Avg']+\\\n",
    "                                        # summaryData['Electrostatic.Avg'])\n",
    "        summaryData['E_Interact.Std_Err']=summaryData['TOTAL.Std_Err_of_Mean'] #(summaryData['van_der_Waals.Std_Err_of_Mean']+\\\n",
    "                                          # summaryData['Electrostatic.Std_Err_of_Mean']).abs()\n",
    "        summaryData=summaryData[np.concatenate([\n",
    "            ['System','Variant','Resid_1','Resid_2'],\n",
    "            [colName for colName in summaryData.columns if 'E_Interact' in colName]\n",
    "        ])]\n",
    "        print('formatting residue data columns',end=' -\\n')\n",
    "        summaryData['ResNum_1']=summaryData['Resid_1'].map(\n",
    "            lambda x: re.sub('[A-Za-z ]','',x))\n",
    "        summaryData['ResNum_2']=summaryData['Resid_2'].map(\n",
    "            lambda x: re.sub('[A-Za-z ]','',x))\n",
    "        summaryData['ResName_1']=summaryData['Resid_1'].map(\n",
    "            lambda x: re.sub('[0-9 ]','',x))\n",
    "        summaryData['ResName_2']=summaryData['Resid_2'].map(\n",
    "            lambda x: re.sub('[0-9 ]','',x))\n",
    "        summaryData=summaryData.drop(columns=['Resid_1','Resid_2'])\n",
    "        summaryData=summaryData[np.concatenate([\n",
    "            ['System','Variant'],\n",
    "            [colName for colName in summaryData.columns if 'Res' in colName],\n",
    "            [colName for colName in summaryData.columns if 'Interact' in colName]\n",
    "        ])]\n",
    "        summaryTables.append(summaryData.copy())\n",
    "print('--- --- ---')\n",
    "print('Done')\n",
    "summaryData=pd.concat(summaryTables)\n",
    "del(summaryTables)\n",
    "summaryData.to_csv(outputFilePath,index=False)\n",
    "summaryData.head()"
   ]
  },
  {
   "cell_type": "markdown",
   "metadata": {},
   "source": [
    "## Load joint energy data"
   ]
  },
  {
   "cell_type": "code",
   "execution_count": 22,
   "metadata": {},
   "outputs": [
    {
     "data": {
      "text/html": [
       "<div>\n",
       "<style scoped>\n",
       "    .dataframe tbody tr th:only-of-type {\n",
       "        vertical-align: middle;\n",
       "    }\n",
       "\n",
       "    .dataframe tbody tr th {\n",
       "        vertical-align: top;\n",
       "    }\n",
       "\n",
       "    .dataframe thead th {\n",
       "        text-align: right;\n",
       "    }\n",
       "</style>\n",
       "<table border=\"1\" class=\"dataframe\">\n",
       "  <thead>\n",
       "    <tr style=\"text-align: right;\">\n",
       "      <th></th>\n",
       "      <th>System</th>\n",
       "      <th>Variant</th>\n",
       "      <th>ResNum_1</th>\n",
       "      <th>ResNum_2</th>\n",
       "      <th>ResName_1</th>\n",
       "      <th>ResName_2</th>\n",
       "      <th>E_Interact.Mean</th>\n",
       "      <th>E_Interact.Std_Err</th>\n",
       "    </tr>\n",
       "  </thead>\n",
       "  <tbody>\n",
       "    <tr>\n",
       "      <th>0</th>\n",
       "      <td>igps</td>\n",
       "      <td>apo</td>\n",
       "      <td>1</td>\n",
       "      <td>1</td>\n",
       "      <td>MET</td>\n",
       "      <td>MET</td>\n",
       "      <td>-32.826080</td>\n",
       "      <td>0.364449</td>\n",
       "    </tr>\n",
       "    <tr>\n",
       "      <th>1</th>\n",
       "      <td>igps</td>\n",
       "      <td>apo</td>\n",
       "      <td>1</td>\n",
       "      <td>2</td>\n",
       "      <td>MET</td>\n",
       "      <td>LEU</td>\n",
       "      <td>-27.286881</td>\n",
       "      <td>0.088237</td>\n",
       "    </tr>\n",
       "    <tr>\n",
       "      <th>2</th>\n",
       "      <td>igps</td>\n",
       "      <td>apo</td>\n",
       "      <td>1</td>\n",
       "      <td>3</td>\n",
       "      <td>MET</td>\n",
       "      <td>ALA</td>\n",
       "      <td>-0.529824</td>\n",
       "      <td>0.032005</td>\n",
       "    </tr>\n",
       "    <tr>\n",
       "      <th>3</th>\n",
       "      <td>igps</td>\n",
       "      <td>apo</td>\n",
       "      <td>1</td>\n",
       "      <td>4</td>\n",
       "      <td>MET</td>\n",
       "      <td>LYS</td>\n",
       "      <td>-0.196490</td>\n",
       "      <td>0.055238</td>\n",
       "    </tr>\n",
       "    <tr>\n",
       "      <th>4</th>\n",
       "      <td>igps</td>\n",
       "      <td>apo</td>\n",
       "      <td>1</td>\n",
       "      <td>5</td>\n",
       "      <td>MET</td>\n",
       "      <td>ARG</td>\n",
       "      <td>-0.019429</td>\n",
       "      <td>0.001980</td>\n",
       "    </tr>\n",
       "  </tbody>\n",
       "</table>\n",
       "</div>"
      ],
      "text/plain": [
       "  System Variant  ResNum_1  ResNum_2 ResName_1 ResName_2  E_Interact.Mean  \\\n",
       "0   igps     apo         1         1       MET       MET       -32.826080   \n",
       "1   igps     apo         1         2       MET       LEU       -27.286881   \n",
       "2   igps     apo         1         3       MET       ALA        -0.529824   \n",
       "3   igps     apo         1         4       MET       LYS        -0.196490   \n",
       "4   igps     apo         1         5       MET       ARG        -0.019429   \n",
       "\n",
       "   E_Interact.Std_Err  \n",
       "0            0.364449  \n",
       "1            0.088237  \n",
       "2            0.032005  \n",
       "3            0.055238  \n",
       "4            0.001980  "
      ]
     },
     "execution_count": 22,
     "metadata": {},
     "output_type": "execute_result"
    }
   ],
   "source": [
    "energyDataDir='energy_topology'\n",
    "summaryFileName='joint_interaction_energy_summary.TOTAL.csv'\n",
    "summaryFilePath='/'.join([energyDataDir,summaryFileName])\n",
    "summaryData=pd.read_csv(summaryFilePath)\n",
    "summaryData.head()"
   ]
  },
  {
   "cell_type": "markdown",
   "metadata": {},
   "source": [
    "## Filter energy data using a cutoff (high pass filter)"
   ]
  },
  {
   "cell_type": "code",
   "execution_count": 23,
   "metadata": {},
   "outputs": [
    {
     "name": "stderr",
     "output_type": "stream",
     "text": [
      "  3%|▎         | 13222/412232 [00:00<00:06, 64761.60it/s]"
     ]
    },
    {
     "name": "stdout",
     "output_type": "stream",
     "text": [
      "Generating Grouping Column\n"
     ]
    },
    {
     "name": "stderr",
     "output_type": "stream",
     "text": [
      "100%|██████████| 412232/412232 [00:05<00:00, 69504.16it/s]\n"
     ]
    },
    {
     "name": "stdout",
     "output_type": "stream",
     "text": [
      "Computing Filter Values\n",
      "Significant Pairs: ['1_1' '1_2' '1_3' ..., '454_424' '454_449' '454_450']\n"
     ]
    },
    {
     "data": {
      "text/html": [
       "<div>\n",
       "<style scoped>\n",
       "    .dataframe tbody tr th:only-of-type {\n",
       "        vertical-align: middle;\n",
       "    }\n",
       "\n",
       "    .dataframe tbody tr th {\n",
       "        vertical-align: top;\n",
       "    }\n",
       "\n",
       "    .dataframe thead th {\n",
       "        text-align: right;\n",
       "    }\n",
       "</style>\n",
       "<table border=\"1\" class=\"dataframe\">\n",
       "  <thead>\n",
       "    <tr style=\"text-align: right;\">\n",
       "      <th></th>\n",
       "      <th>System</th>\n",
       "      <th>Variant</th>\n",
       "      <th>ResNum_1</th>\n",
       "      <th>ResNum_2</th>\n",
       "      <th>ResName_1</th>\n",
       "      <th>ResName_2</th>\n",
       "      <th>E_Interact.Mean</th>\n",
       "      <th>E_Interact.Std_Err</th>\n",
       "    </tr>\n",
       "  </thead>\n",
       "  <tbody>\n",
       "    <tr>\n",
       "      <th>0</th>\n",
       "      <td>igps</td>\n",
       "      <td>apo</td>\n",
       "      <td>1</td>\n",
       "      <td>1</td>\n",
       "      <td>MET</td>\n",
       "      <td>MET</td>\n",
       "      <td>-32.826080</td>\n",
       "      <td>0.364449</td>\n",
       "    </tr>\n",
       "    <tr>\n",
       "      <th>1</th>\n",
       "      <td>igps</td>\n",
       "      <td>apo</td>\n",
       "      <td>1</td>\n",
       "      <td>2</td>\n",
       "      <td>MET</td>\n",
       "      <td>LEU</td>\n",
       "      <td>-27.286881</td>\n",
       "      <td>0.088237</td>\n",
       "    </tr>\n",
       "    <tr>\n",
       "      <th>2</th>\n",
       "      <td>igps</td>\n",
       "      <td>apo</td>\n",
       "      <td>1</td>\n",
       "      <td>3</td>\n",
       "      <td>MET</td>\n",
       "      <td>ALA</td>\n",
       "      <td>-0.529824</td>\n",
       "      <td>0.032005</td>\n",
       "    </tr>\n",
       "    <tr>\n",
       "      <th>3</th>\n",
       "      <td>igps</td>\n",
       "      <td>apo</td>\n",
       "      <td>1</td>\n",
       "      <td>4</td>\n",
       "      <td>MET</td>\n",
       "      <td>LYS</td>\n",
       "      <td>-0.196490</td>\n",
       "      <td>0.055238</td>\n",
       "    </tr>\n",
       "    <tr>\n",
       "      <th>246</th>\n",
       "      <td>igps</td>\n",
       "      <td>apo</td>\n",
       "      <td>1</td>\n",
       "      <td>247</td>\n",
       "      <td>MET</td>\n",
       "      <td>ASN</td>\n",
       "      <td>-1.124520</td>\n",
       "      <td>0.114242</td>\n",
       "    </tr>\n",
       "  </tbody>\n",
       "</table>\n",
       "</div>"
      ],
      "text/plain": [
       "    System Variant  ResNum_1  ResNum_2 ResName_1 ResName_2  E_Interact.Mean  \\\n",
       "0     igps     apo         1         1       MET       MET       -32.826080   \n",
       "1     igps     apo         1         2       MET       LEU       -27.286881   \n",
       "2     igps     apo         1         3       MET       ALA        -0.529824   \n",
       "3     igps     apo         1         4       MET       LYS        -0.196490   \n",
       "246   igps     apo         1       247       MET       ASN        -1.124520   \n",
       "\n",
       "     E_Interact.Std_Err  \n",
       "0              0.364449  \n",
       "1              0.088237  \n",
       "2              0.032005  \n",
       "3              0.055238  \n",
       "246            0.114242  "
      ]
     },
     "execution_count": 23,
     "metadata": {},
     "output_type": "execute_result"
    }
   ],
   "source": [
    "#Use a cutoff of .5 kb*T energy (note, energies from mmpbsa.py are in kcal/mol)\n",
    "#This is a somewhat arbitrary choice\n",
    "T_sim=300.15 #room temperature in Kelvins\n",
    "kb=.0019872041 #Boltzmann's constant in kcal/(mol*K)\n",
    "\n",
    "thermalEnergy=kb*T_sim\n",
    "cutoffEnergy=.5*thermalEnergy\n",
    "\n",
    "#now we want to group by residue pair and filter out any pairs for which\n",
    "#the absolute value of the interaction mean is not at least 1 standard error\n",
    "#above the cutoff in any of the systems.\n",
    "#Conversely if this holds for either system we will keep the pair for ALL systems\n",
    "#This will allow us to see how much the energy shifted in cases where one system\n",
    "#has an interaction and the other normally would not.\n",
    "\n",
    "tqdm.tqdm.pandas(tqdm.tqdm_notebook) #progress bar\n",
    "#compute a filter value column to speed filtering\n",
    "print(\"Generating Grouping Column\")\n",
    "summaryData['ResNumPair']=summaryData[\n",
    "        ['ResNum_1','ResNum_2']\n",
    "    ].progress_apply(lambda x: '_'.join(map(str,x)),axis=1)\n",
    "print(\"Computing Filter Values\")\n",
    "sig_pairs=summaryData['ResNumPair'][\n",
    "        (summaryData['E_Interact.Mean'].abs() - \\\n",
    "         summaryData['E_Interact.Std_Err']) > cutoffEnergy\n",
    "    ].unique()\n",
    "print('Significant Pairs:',sig_pairs)\n",
    "sigData=summaryData[summaryData['ResNumPair'].isin(sig_pairs)].drop(columns=['ResNumPair'])\n",
    "sigData.head()"
   ]
  },
  {
   "cell_type": "code",
   "execution_count": 24,
   "metadata": {},
   "outputs": [
    {
     "data": {
      "text/html": [
       "<div>\n",
       "<style scoped>\n",
       "    .dataframe tbody tr th:only-of-type {\n",
       "        vertical-align: middle;\n",
       "    }\n",
       "\n",
       "    .dataframe tbody tr th {\n",
       "        vertical-align: top;\n",
       "    }\n",
       "\n",
       "    .dataframe thead th {\n",
       "        text-align: right;\n",
       "    }\n",
       "</style>\n",
       "<table border=\"1\" class=\"dataframe\">\n",
       "  <thead>\n",
       "    <tr style=\"text-align: right;\">\n",
       "      <th></th>\n",
       "      <th>ResNum_1</th>\n",
       "      <th>ResNum_2</th>\n",
       "      <th>E_Interact.Mean</th>\n",
       "      <th>E_Interact.Std_Err</th>\n",
       "    </tr>\n",
       "  </thead>\n",
       "  <tbody>\n",
       "    <tr>\n",
       "      <th>count</th>\n",
       "      <td>11020.000000</td>\n",
       "      <td>11020.000000</td>\n",
       "      <td>11020.000000</td>\n",
       "      <td>11020.000000</td>\n",
       "    </tr>\n",
       "    <tr>\n",
       "      <th>mean</th>\n",
       "      <td>229.004719</td>\n",
       "      <td>229.080581</td>\n",
       "      <td>-6.451256</td>\n",
       "      <td>0.100097</td>\n",
       "    </tr>\n",
       "    <tr>\n",
       "      <th>std</th>\n",
       "      <td>132.931016</td>\n",
       "      <td>132.934968</td>\n",
       "      <td>19.861023</td>\n",
       "      <td>0.147566</td>\n",
       "    </tr>\n",
       "    <tr>\n",
       "      <th>min</th>\n",
       "      <td>1.000000</td>\n",
       "      <td>1.000000</td>\n",
       "      <td>-132.750401</td>\n",
       "      <td>0.000349</td>\n",
       "    </tr>\n",
       "    <tr>\n",
       "      <th>25%</th>\n",
       "      <td>113.000000</td>\n",
       "      <td>113.000000</td>\n",
       "      <td>-3.949984</td>\n",
       "      <td>0.031126</td>\n",
       "    </tr>\n",
       "    <tr>\n",
       "      <th>50%</th>\n",
       "      <td>228.000000</td>\n",
       "      <td>228.000000</td>\n",
       "      <td>-1.527002</td>\n",
       "      <td>0.055080</td>\n",
       "    </tr>\n",
       "    <tr>\n",
       "      <th>75%</th>\n",
       "      <td>344.000000</td>\n",
       "      <td>344.000000</td>\n",
       "      <td>-0.728070</td>\n",
       "      <td>0.093913</td>\n",
       "    </tr>\n",
       "    <tr>\n",
       "      <th>max</th>\n",
       "      <td>454.000000</td>\n",
       "      <td>454.000000</td>\n",
       "      <td>177.104258</td>\n",
       "      <td>1.808657</td>\n",
       "    </tr>\n",
       "  </tbody>\n",
       "</table>\n",
       "</div>"
      ],
      "text/plain": [
       "           ResNum_1      ResNum_2  E_Interact.Mean  E_Interact.Std_Err\n",
       "count  11020.000000  11020.000000     11020.000000        11020.000000\n",
       "mean     229.004719    229.080581        -6.451256            0.100097\n",
       "std      132.931016    132.934968        19.861023            0.147566\n",
       "min        1.000000      1.000000      -132.750401            0.000349\n",
       "25%      113.000000    113.000000        -3.949984            0.031126\n",
       "50%      228.000000    228.000000        -1.527002            0.055080\n",
       "75%      344.000000    344.000000        -0.728070            0.093913\n",
       "max      454.000000    454.000000       177.104258            1.808657"
      ]
     },
     "execution_count": 24,
     "metadata": {},
     "output_type": "execute_result"
    }
   ],
   "source": [
    "sigData.describe()"
   ]
  },
  {
   "cell_type": "markdown",
   "metadata": {},
   "source": [
    "## Save filtered data to disk"
   ]
  },
  {
   "cell_type": "code",
   "execution_count": 25,
   "metadata": {},
   "outputs": [],
   "source": [
    "#Save list of significant residue pairs\n",
    "outSigPairName='significant_pairs.TOTAL.txt'\n",
    "outSigPairPath='/'.join([energyDataDir,outSigPairName])\n",
    "np.savetxt(fname=outSigPairPath,X=sig_pairs,fmt='%s')\n",
    "outSigDataName='significant_interactions_summary.TOTAL.csv'\n",
    "outSigDataPath='/'.join([energyDataDir,outSigDataName])\n",
    "sigData.to_csv(outSigDataPath,index=False)"
   ]
  },
  {
   "cell_type": "code",
   "execution_count": 26,
   "metadata": {},
   "outputs": [
    {
     "name": "stdout",
     "output_type": "stream",
     "text": [
      "saving igps.apo.energy_topology_matrix.TOTAL.txt to disk\n",
      "saving igps.apo.energy_value_matrix.TOTAL.txt to disk\n",
      "saving igps.holo.energy_topology_matrix.TOTAL.txt to disk\n",
      "saving igps.holo.energy_value_matrix.TOTAL.txt to disk\n",
      "done\n"
     ]
    }
   ],
   "source": [
    "#Save filtered energy data in matrix format for each system\n",
    "nRes=454\n",
    "outTopMatNameStr='{system}.{variant}.energy_topology_matrix.TOTAL.txt'\n",
    "outValMatNameStr='{system}.{variant}.energy_value_matrix.TOTAL.txt'\n",
    "headerComment='# cutoff energy = %.4e kcal/mol'%cutoffEnergy\n",
    "for groupName,groupData in sigData.groupby(['System','Variant']):\n",
    "    outMatName=outTopMatNameStr.format(\n",
    "        system=groupName[0],variant=groupName[1])\n",
    "    print('saving {matName} to disk'.format(matName=outMatName))\n",
    "    outMatPath='/'.join([energyDataDir,outMatName])\n",
    "    outMat=np.savetxt(\n",
    "        fname=outMatPath,\n",
    "        X=sp.sparse.coo_matrix(\n",
    "            (np.array(groupData['E_Interact.Mean'].abs()>0,dtype=float),\n",
    "             (np.array(groupData['ResNum_1'],dtype=int)-1,\n",
    "              np.array(groupData['ResNum_2'],dtype=int)-1)),\n",
    "            shape=(nRes,nRes)).todense())\n",
    "    \n",
    "    outMatName=outValMatNameStr.format(\n",
    "        system=groupName[0],variant=groupName[1])\n",
    "    print('saving {matName} to disk'.format(matName=outMatName))\n",
    "    outMatPath='/'.join([energyDataDir,outMatName])\n",
    "    outMat=np.savetxt(\n",
    "        fname=outMatPath,\n",
    "        X=sp.sparse.coo_matrix(\n",
    "            (np.array(groupData['E_Interact.Mean'].abs()>0,dtype=float),\n",
    "             (np.array(groupData['ResNum_1'],dtype=int)-1,\n",
    "              np.array(groupData['ResNum_2'],dtype=int)-1)),\n",
    "            shape=(nRes,nRes)).todense())\n",
    "print('done')"
   ]
  },
  {
   "cell_type": "markdown",
   "metadata": {},
   "source": [
    "# Visualize Interaction Energy Matrices"
   ]
  },
  {
   "cell_type": "code",
   "execution_count": 27,
   "metadata": {},
   "outputs": [
    {
     "name": "stdout",
     "output_type": "stream",
     "text": [
      "loading topology matrices: igps.holo.energy_topology_matrix.TOTAL.txt, igps.apo.energy_topology_matrix.TOTAL.txt, \n",
      "loading value matrices: igps.holo.energy_value_matrix.TOTAL.txt, igps.apo.energy_value_matrix.TOTAL.txt, \n"
     ]
    }
   ],
   "source": [
    "matNameSearchStr='energy_topology_matrix.TOTAL'\n",
    "\n",
    "matDir='energy_topology'\n",
    "\n",
    "matFiles=[fileName for fileName in \\\n",
    "          os.listdir(matDir) if \\\n",
    "          matNameSearchStr in fileName]\n",
    "\n",
    "topologyMatrixDict={}\n",
    "\n",
    "print('loading topology matrices:',end=' ')\n",
    "for matFileName in matFiles:\n",
    "    print(matFileName,end=', ')\n",
    "    entryKey='.'.join(list(np.array(matFileName.split('.'))[:2]))\n",
    "    matFilePath='/'.join([matDir,matFileName])\n",
    "    topologyMatrixDict[entryKey]=np.loadtxt(matFilePath)\n",
    "print('')\n",
    "\n",
    "matNameSearchStr='energy_value_matrix.TOTAL'\n",
    "matFiles=[fileName for fileName in \\\n",
    "          os.listdir(matDir) if \\\n",
    "          matNameSearchStr in fileName]\n",
    "valueMatrixDict={}\n",
    "print('loading value matrices:',end=' ')\n",
    "for matFileName in matFiles:\n",
    "    print(matFileName,end=', ')\n",
    "    entryKey='.'.join(list(np.array(matFileName.split('.'))[:2]))\n",
    "    matFilePath='/'.join([matDir,matFileName])\n",
    "    valueMatrixDict[entryKey]=np.loadtxt(matFilePath)\n",
    "print('')"
   ]
  },
  {
   "cell_type": "code",
   "execution_count": 28,
   "metadata": {},
   "outputs": [
    {
     "name": "stdout",
     "output_type": "stream",
     "text": [
      "sig. pairs: [    11     12     13 ..., 454424 454449 454450]\n",
      "Sig. Data:\n"
     ]
    },
    {
     "data": {
      "text/html": [
       "<div>\n",
       "<style scoped>\n",
       "    .dataframe tbody tr th:only-of-type {\n",
       "        vertical-align: middle;\n",
       "    }\n",
       "\n",
       "    .dataframe tbody tr th {\n",
       "        vertical-align: top;\n",
       "    }\n",
       "\n",
       "    .dataframe thead th {\n",
       "        text-align: right;\n",
       "    }\n",
       "</style>\n",
       "<table border=\"1\" class=\"dataframe\">\n",
       "  <thead>\n",
       "    <tr style=\"text-align: right;\">\n",
       "      <th></th>\n",
       "      <th>System</th>\n",
       "      <th>Variant</th>\n",
       "      <th>ResNum_1</th>\n",
       "      <th>ResNum_2</th>\n",
       "      <th>ResName_1</th>\n",
       "      <th>ResName_2</th>\n",
       "      <th>E_Interact.Mean</th>\n",
       "      <th>E_Interact.Std_Err</th>\n",
       "    </tr>\n",
       "  </thead>\n",
       "  <tbody>\n",
       "    <tr>\n",
       "      <th>0</th>\n",
       "      <td>igps</td>\n",
       "      <td>apo</td>\n",
       "      <td>1</td>\n",
       "      <td>1</td>\n",
       "      <td>MET</td>\n",
       "      <td>MET</td>\n",
       "      <td>-32.826080</td>\n",
       "      <td>0.364449</td>\n",
       "    </tr>\n",
       "    <tr>\n",
       "      <th>1</th>\n",
       "      <td>igps</td>\n",
       "      <td>apo</td>\n",
       "      <td>1</td>\n",
       "      <td>2</td>\n",
       "      <td>MET</td>\n",
       "      <td>LEU</td>\n",
       "      <td>-27.286881</td>\n",
       "      <td>0.088237</td>\n",
       "    </tr>\n",
       "    <tr>\n",
       "      <th>2</th>\n",
       "      <td>igps</td>\n",
       "      <td>apo</td>\n",
       "      <td>1</td>\n",
       "      <td>3</td>\n",
       "      <td>MET</td>\n",
       "      <td>ALA</td>\n",
       "      <td>-0.529824</td>\n",
       "      <td>0.032005</td>\n",
       "    </tr>\n",
       "    <tr>\n",
       "      <th>3</th>\n",
       "      <td>igps</td>\n",
       "      <td>apo</td>\n",
       "      <td>1</td>\n",
       "      <td>4</td>\n",
       "      <td>MET</td>\n",
       "      <td>LYS</td>\n",
       "      <td>-0.196490</td>\n",
       "      <td>0.055238</td>\n",
       "    </tr>\n",
       "    <tr>\n",
       "      <th>4</th>\n",
       "      <td>igps</td>\n",
       "      <td>apo</td>\n",
       "      <td>1</td>\n",
       "      <td>247</td>\n",
       "      <td>MET</td>\n",
       "      <td>ASN</td>\n",
       "      <td>-1.124520</td>\n",
       "      <td>0.114242</td>\n",
       "    </tr>\n",
       "  </tbody>\n",
       "</table>\n",
       "</div>"
      ],
      "text/plain": [
       "  System Variant  ResNum_1  ResNum_2 ResName_1 ResName_2  E_Interact.Mean  \\\n",
       "0   igps     apo         1         1       MET       MET       -32.826080   \n",
       "1   igps     apo         1         2       MET       LEU       -27.286881   \n",
       "2   igps     apo         1         3       MET       ALA        -0.529824   \n",
       "3   igps     apo         1         4       MET       LYS        -0.196490   \n",
       "4   igps     apo         1       247       MET       ASN        -1.124520   \n",
       "\n",
       "   E_Interact.Std_Err  \n",
       "0            0.364449  \n",
       "1            0.088237  \n",
       "2            0.032005  \n",
       "3            0.055238  \n",
       "4            0.114242  "
      ]
     },
     "execution_count": 28,
     "metadata": {},
     "output_type": "execute_result"
    }
   ],
   "source": [
    "sigPairName='significant_pairs.TOTAL.txt'\n",
    "sigPairPath='/'.join([energyDataDir,sigPairName])\n",
    "sigDataName='significant_interactions_summary.TOTAL.csv'\n",
    "sigDataPath='/'.join([energyDataDir,sigDataName])\n",
    "\n",
    "\n",
    "sig_pairs=np.loadtxt(sigPairPath,dtype=int)\n",
    "sigData=pd.read_csv(sigDataPath)\n",
    "\n",
    "print('sig. pairs:',sig_pairs)\n",
    "print('Sig. Data:')\n",
    "sigData.head()"
   ]
  },
  {
   "cell_type": "code",
   "execution_count": 29,
   "metadata": {},
   "outputs": [
    {
     "name": "stdout",
     "output_type": "stream",
     "text": [
      "igps.holo : (5510,) entries\n",
      "igps.apo : (5510,) entries\n"
     ]
    }
   ],
   "source": [
    "for matKey in valueMatrixDict:\n",
    "    print(matKey,\":\",\n",
    "          np.nonzero(valueMatrixDict[matKey])[0].shape,'entries')"
   ]
  },
  {
   "cell_type": "markdown",
   "metadata": {},
   "source": [
    "## Static (non-interactive) matrix visualization"
   ]
  },
  {
   "cell_type": "code",
   "execution_count": 30,
   "metadata": {},
   "outputs": [
    {
     "name": "stdout",
     "output_type": "stream",
     "text": [
      "Plotting igps.holo\n",
      "Plotting igps.apo\n"
     ]
    },
    {
     "data": {
      "image/png": "[encoded data removed]",
      "text/plain": [
       "<Figure size 864x792 with 8 Axes>"
      ]
     },
     "metadata": {
      "needs_background": "light"
     },
     "output_type": "display_data"
    }
   ],
   "source": [
    "nMats=len(topologyMatrixDict)\n",
    "fig,axs=plt.subplots(nMats,nMats)\n",
    "\n",
    "fig.set_figwidth(12)\n",
    "fig.set_figheight(11)\n",
    "\n",
    "for iMat,matName in enumerate(topologyMatrixDict.keys()):\n",
    "    print('Plotting {matName}'.format(matName=matName))\n",
    "    ax=axs[iMat,0]\n",
    "    sns.heatmap(topologyMatrixDict[matName],ax=ax)\n",
    "    ax.set_title(matName)\n",
    "    \n",
    "    ax=axs[iMat,1]\n",
    "    sns.heatmap(valueMatrixDict[matName],ax=ax)\n",
    "    ax.set_title(matName)\n",
    "    \n",
    "plt.tight_layout()"
   ]
  },
  {
   "cell_type": "markdown",
   "metadata": {},
   "source": [
    "## Interactive Matrix Visualization\n",
    "\n",
    "This section makes use of the Bokeh package to provide interactive visualization.\n",
    "This will enable you to zoom and pan at will and to query individual matrix elements by 'hovering' over them.\n",
    "\n",
    "Widgets are used here to allow you to select which matrix to visualize.\n",
    "\n",
    "Note: Google colab may have trouble with widget interaction. Specifically, it may not re-render properly when the widget is changed after being rendered the first time. If this occurs, simply re-run the cell and make the appropriate selection before clicking 'run interact'"
   ]
  },
  {
   "cell_type": "code",
   "execution_count": 31,
   "metadata": {},
   "outputs": [],
   "source": [
    "import bokeh as bk\n",
    "import bokeh.plotting\n",
    "import bokeh.io\n",
    "from bokeh.io import show, output_notebook\n",
    "from bokeh.models import ColumnDataSource, Title, BasicTicker, ColorBar\n",
    "from bokeh.models.tools import HoverTool\n",
    "from bokeh.transform import linear_cmap, factor_cmap, LinearColorMapper\n",
    "import bokeh.palettes\n",
    "from bokeh.palettes import Spectral11"
   ]
  },
  {
   "cell_type": "code",
   "execution_count": 32,
   "metadata": {},
   "outputs": [
    {
     "name": "stdout",
     "output_type": "stream",
     "text": [
      "('igps', 'apo') (5510, 8)\n",
      "('igps', 'holo') (5510, 8)\n"
     ]
    },
    {
     "data": {
      "text/html": [
       "<div>\n",
       "<style scoped>\n",
       "    .dataframe tbody tr th:only-of-type {\n",
       "        vertical-align: middle;\n",
       "    }\n",
       "\n",
       "    .dataframe tbody tr th {\n",
       "        vertical-align: top;\n",
       "    }\n",
       "\n",
       "    .dataframe thead th {\n",
       "        text-align: right;\n",
       "    }\n",
       "</style>\n",
       "<table border=\"1\" class=\"dataframe\">\n",
       "  <thead>\n",
       "    <tr style=\"text-align: right;\">\n",
       "      <th></th>\n",
       "      <th>System</th>\n",
       "      <th>Variant</th>\n",
       "      <th>ResNum_1</th>\n",
       "      <th>ResNum_2</th>\n",
       "      <th>ResName_1</th>\n",
       "      <th>ResName_2</th>\n",
       "      <th>E_Interact.Mean</th>\n",
       "      <th>E_Interact.Std_Err</th>\n",
       "    </tr>\n",
       "  </thead>\n",
       "  <tbody>\n",
       "    <tr>\n",
       "      <th>0</th>\n",
       "      <td>igps</td>\n",
       "      <td>apo</td>\n",
       "      <td>1</td>\n",
       "      <td>1</td>\n",
       "      <td>MET</td>\n",
       "      <td>MET</td>\n",
       "      <td>-32.826080</td>\n",
       "      <td>0.364449</td>\n",
       "    </tr>\n",
       "    <tr>\n",
       "      <th>1</th>\n",
       "      <td>igps</td>\n",
       "      <td>apo</td>\n",
       "      <td>1</td>\n",
       "      <td>2</td>\n",
       "      <td>MET</td>\n",
       "      <td>LEU</td>\n",
       "      <td>-27.286881</td>\n",
       "      <td>0.088237</td>\n",
       "    </tr>\n",
       "    <tr>\n",
       "      <th>2</th>\n",
       "      <td>igps</td>\n",
       "      <td>apo</td>\n",
       "      <td>1</td>\n",
       "      <td>3</td>\n",
       "      <td>MET</td>\n",
       "      <td>ALA</td>\n",
       "      <td>-0.529824</td>\n",
       "      <td>0.032005</td>\n",
       "    </tr>\n",
       "    <tr>\n",
       "      <th>3</th>\n",
       "      <td>igps</td>\n",
       "      <td>apo</td>\n",
       "      <td>1</td>\n",
       "      <td>4</td>\n",
       "      <td>MET</td>\n",
       "      <td>LYS</td>\n",
       "      <td>-0.196490</td>\n",
       "      <td>0.055238</td>\n",
       "    </tr>\n",
       "    <tr>\n",
       "      <th>4</th>\n",
       "      <td>igps</td>\n",
       "      <td>apo</td>\n",
       "      <td>1</td>\n",
       "      <td>247</td>\n",
       "      <td>MET</td>\n",
       "      <td>ASN</td>\n",
       "      <td>-1.124520</td>\n",
       "      <td>0.114242</td>\n",
       "    </tr>\n",
       "  </tbody>\n",
       "</table>\n",
       "</div>"
      ],
      "text/plain": [
       "  System Variant  ResNum_1  ResNum_2 ResName_1 ResName_2  E_Interact.Mean  \\\n",
       "0   igps     apo         1         1       MET       MET       -32.826080   \n",
       "1   igps     apo         1         2       MET       LEU       -27.286881   \n",
       "2   igps     apo         1         3       MET       ALA        -0.529824   \n",
       "3   igps     apo         1         4       MET       LYS        -0.196490   \n",
       "4   igps     apo         1       247       MET       ASN        -1.124520   \n",
       "\n",
       "   E_Interact.Std_Err  \n",
       "0            0.364449  \n",
       "1            0.088237  \n",
       "2            0.032005  \n",
       "3            0.055238  \n",
       "4            0.114242  "
      ]
     },
     "execution_count": 32,
     "metadata": {},
     "output_type": "execute_result"
    }
   ],
   "source": [
    "nRes=454\n",
    "for matGroup in sigData.groupby(['System','Variant']):\n",
    "    print(matGroup[0],matGroup[1].shape)\n",
    "    \n",
    "sigData.head()"
   ]
  },
  {
   "cell_type": "code",
   "execution_count": 33,
   "metadata": {},
   "outputs": [],
   "source": [
    "?np.flip"
   ]
  },
  {
   "cell_type": "code",
   "execution_count": 34,
   "metadata": {},
   "outputs": [
    {
     "data": {
      "application/vnd.jupyter.widget-view+json": {
       "model_id": "553b94af39494a3da53f229c37ee1221",
       "version_major": 2,
       "version_minor": 0
      },
      "text/plain": [
       "interactive(children=(Dropdown(description='system', options=('igps',), value='igps'), Dropdown(description='v…"
      ]
     },
     "metadata": {},
     "output_type": "display_data"
    }
   ],
   "source": [
    "@interact_manual\n",
    "def plot_mat(\n",
    "    system=sigData.System.unique(),\n",
    "    variant=sigData.Variant.unique(),\n",
    "    magCut=widgets.FloatSlider(min=.01,max=100.,step=.01,value=2.0,\n",
    "                               description='Energy_Cut')):\n",
    "    \n",
    "    colorMap=np.flip(sns.color_palette(\"plasma\", n_colors=256).as_hex(),axis=0)\n",
    "    \n",
    "    plotData=sigData[\n",
    "        (sigData.System==system) & \\\n",
    "        (sigData.Variant==variant) & \\\n",
    "        ((sigData.ResNum_1 - sigData.ResNum_2).abs() > 0) &\n",
    "        ((sigData['E_Interact.Mean'].abs()-sigData['E_Interact.Std_Err'])>magCut)]\n",
    "    \n",
    "    eMin=plotData['E_Interact.Mean'].min()\n",
    "    eMax=plotData['E_Interact.Mean'].max()\n",
    "    cNorm=matplotlib.colors.Normalize(eMin,eMax,clip=True)\n",
    "    \n",
    "    plotData['ColorWeight']=plotData['E_Interact.Mean'] #.map(lambda x: cNorm(x)) #.map(np.log10)\n",
    "    \n",
    "    #tempCmat=sp.sparse.coo_matrix((\n",
    "    #    plotData['ColorWeight'],\n",
    "    #    (plotData.ResNum_1,plotData.ResNum_2)),shape=454,454)\n",
    "    #tempCmap=matplotlib.cm.get_cmap('Spectral',11)\n",
    "    \n",
    "    #drawEdgeColorBar(tempCmat,maskInds=nzInds,\n",
    "    #             cmap=tempCmap,label='E_Interaction.Mean (kcal/mol)',\n",
    "    #             cNorm=cNorm,\n",
    "    #             orientation='horizontal')\n",
    "    \n",
    "    p=bk.plotting.figure(\n",
    "        plot_width=640,plot_height=640,\n",
    "        #text_font_size='14pt',\n",
    "        title=\"{matName} Interaction Energy Heat Map\".format(\n",
    "            matName='.'.join([\n",
    "                system,variant])))\n",
    "    \n",
    "    p.add_layout(Title(text=\"minimum energy magnitude:{cutVal:.2f} (kcal/mol)\".format(\n",
    "        cutVal=magCut)),'above')\n",
    "    \n",
    "    p.xaxis.major_label_text_font_size=\"14pt\"\n",
    "    p.yaxis.major_label_text_font_size=\"14pt\"\n",
    "    \n",
    "    print(\"Nedges=\",len(plotData))\n",
    "    src=ColumnDataSource(plotData)\n",
    "    print (src.data.keys())\n",
    "    print ('min energy: ',plotData['ColorWeight'].min())\n",
    "    print ('max energy: ',plotData['ColorWeight'].max())\n",
    "    mapper=linear_cmap(field_name='ColorWeight',\n",
    "                       palette=colorMap,\n",
    "                       low=plotData['ColorWeight'].min(),\n",
    "                       high=plotData['ColorWeight'].max(),\n",
    "                      )\n",
    "    \n",
    "    cbMapper=LinearColorMapper(palette=colorMap,\n",
    "                               low=plotData['ColorWeight'].min(),\n",
    "                               high=plotData['ColorWeight'].max(),)\n",
    "    color_bar = ColorBar(color_mapper=cbMapper, ticker= BasicTicker(),\n",
    "                     location=(0,0))\n",
    "\n",
    "    p.add_layout(color_bar, 'right')\n",
    "\n",
    "    p.rect(source=src,width=1,height=1, x='ResNum_1',y='ResNum_2',\n",
    "             fill_color=mapper,color=mapper)\n",
    "\n",
    "    \n",
    "    \n",
    "    hover=HoverTool()\n",
    "    hover.tooltips=[\n",
    "        (colName,\"@{\"+\"{colName}\".format(colName=colName)+\"}\")\n",
    "        for colName in src.data.keys()\n",
    "    ]\n",
    "    print(hover.tooltips)\n",
    "    p.add_tools(hover)\n",
    "\n",
    "    output_notebook()\n",
    "    show(p)"
   ]
  },
  {
   "cell_type": "markdown",
   "metadata": {},
   "source": [
    "## Visualize a histogram of the interaction energy distributions\n",
    "\n",
    "Widget descriptions:\n",
    "\n",
    "    * deltaResNum: Minimum sequence difference allowed (can be used to filter adjacent residues or helix backbone interactions)\n",
    "    * binWidth: The size of histogram bins to use\n",
    "    * density: Control whether or not to show a kernel density estimate\n",
    "    * eBound: bounds of histogram bins\n",
    "    * useEbound: whether or not to include bins going to +/- infinity"
   ]
  },
  {
   "cell_type": "code",
   "execution_count": 40,
   "metadata": {},
   "outputs": [
    {
     "data": {
      "application/vnd.jupyter.widget-view+json": {
       "model_id": "f4c8d7c8b2274129a78fdadf3812447c",
       "version_major": 2,
       "version_minor": 0
      },
      "text/plain": [
       "interactive(children=(IntSlider(value=1, description='deltaResNum', max=10), FloatSlider(value=1.0, descriptio…"
      ]
     },
     "metadata": {},
     "output_type": "display_data"
    }
   ],
   "source": [
    "@interact_manual\n",
    "def plot_mat(\n",
    "    #system=sigData.System.unique(),\n",
    "    #variant=sigData.Variant.unique(),\n",
    "    deltaResNum=widgets.IntSlider(min=0,max=10,step=1,value=1),\n",
    "    binWidth=widgets.FloatSlider(min=.1,max=10,step=.1,value=1),\n",
    "    density=[True,False],\n",
    "    useEbound=[True,False],eBound=widgets.FloatSlider(min=10,max=100,step=1.0,value=50)):\n",
    "    \n",
    "    p=bk.plotting.figure(\n",
    "        plot_width=480,plot_height=480,\n",
    "        #text_font_size='14pt',\n",
    "        title=\"Interaction Energy Histogram\")\n",
    "    \n",
    "    p.add_layout(Title(text=\"bin width = {bw:.1f} kT's\".format(\n",
    "        bw=binWidth)),'above')\n",
    "    \n",
    "    p.xaxis.major_label_text_font_size=\"14pt\"\n",
    "    p.yaxis.major_label_text_font_size=\"14pt\"\n",
    "    \n",
    "    plotFrames=[]\n",
    "    \n",
    "    for system in sigData['System'].unique():\n",
    "        for variant in sigData['Variant'].unique():\n",
    "            entryKey='.'.join([system,variant])\n",
    "            print('binning {Name}'.format(Name=entryKey))\n",
    "            tempData=sigData[\n",
    "                (sigData.System==system) & \\\n",
    "                (sigData.Variant==variant) & \\\n",
    "                ((sigData.ResNum_1-sigData.ResNum_2).abs()>=deltaResNum)]['E_Interact.Mean']\n",
    "            print(\"Nedges=\",len(tempData))\n",
    "            if useEbound:\n",
    "                binSet=np.concatenate([[-np.inf],\n",
    "                                       np.arange(-eBound,eBound,binWidth),\n",
    "                                       [np.inf]])\n",
    "            else:\n",
    "                binSet=np.arange(tempData.min(),tempData.max(),binWidth)\n",
    "            hist,edges=np.histogram(tempData,\n",
    "                                    bins=binSet,\n",
    "                                    density=density)\n",
    "\n",
    "            if useEbound:\n",
    "                edges=np.concatenate([\n",
    "                    [edges[1]-binWidth],\n",
    "                    edges[1:-1],\n",
    "                    [edges[-2]+binWidth]])\n",
    "\n",
    "            plotFrames.append(\n",
    "                pd.DataFrame({\n",
    "                    'leftEdge':edges[:-1],\n",
    "                    'rightEdge':edges[1:],\n",
    "                    'HistVal':hist,\n",
    "                    'Name':entryKey\n",
    "                }))\n",
    "            \n",
    "    \n",
    "    plotData=pd.concat(plotFrames)\n",
    "    \n",
    "    src=ColumnDataSource(plotData)\n",
    "\n",
    "    Names=plotData.Name.unique()\n",
    "    \n",
    "    p.quad(source=src,top='HistVal',bottom=0,left='leftEdge',right='rightEdge',\n",
    "           fill_color=factor_cmap('Name',palette=bk.palettes.Spectral11,factors=Names),\n",
    "           color=factor_cmap('Name',palette=bk.palettes.Spectral11,factors=Names),\n",
    "           alpha=.33)\n",
    "\n",
    "    hover=HoverTool()\n",
    "    toolTips=[\n",
    "        (colName,\"@{\"+\"{colName}\".format(colName=colName)+\"}\")\n",
    "        for colName in src.data.keys()\n",
    "    ]\n",
    "    toolTips.append(('(x,y)','($x,$y)'))\n",
    "    hover.tooltips=toolTips\n",
    "    print(hover.tooltips)\n",
    "    p.add_tools(hover)\n",
    "\n",
    "    output_notebook()\n",
    "    show(p)"
   ]
  },
  {
   "cell_type": "markdown",
   "metadata": {},
   "source": [
    "# Visualize Interaction Network as Structural Overlay\n",
    "\n",
    "This section will make use of NGLView to render the interaction network overlayed onto a rendering of the 3D protein structure\n",
    "\n",
    "WARNING: This is not compatible with google colab. Attempting to run nglview in colab will crash the kernel"
   ]
  },
  {
   "cell_type": "markdown",
   "metadata": {},
   "source": [
    "## Load protein structure files using pytraj"
   ]
  },
  {
   "cell_type": "code",
   "execution_count": 41,
   "metadata": {},
   "outputs": [
    {
     "name": "stdout",
     "output_type": "stream",
     "text": [
      "loading igps.apo\n",
      "loading igps.holo\n",
      "{'igps.apo': pytraj.Trajectory, 1 frames: \n",
      "Size: 0.000161 (GB)\n",
      "<Topology: 7225 atoms, 456 residues, 4 mols, PBC with box type = ortho>\n",
      "           , 'igps.holo': pytraj.Trajectory, 1 frames: \n",
      "Size: 0.000163 (GB)\n",
      "<Topology: 7281 atoms, 455 residues, 3 mols, PBC with box type = ortho>\n",
      "           }\n"
     ]
    }
   ],
   "source": [
    "import pytraj as pt\n",
    "strucDataDir='energy_topology'\n",
    "systems=['igps']\n",
    "variants=['apo','holo']\n",
    "\n",
    "strucFileNameStr=\"{system}.prot_lig_{variant}.pdb\"\n",
    "\n",
    "subDirStr='{system}.{variant}'\n",
    "\n",
    "strucDict={}\n",
    "for system in systems:\n",
    "    for variant in variants:\n",
    "        subDir=subDirStr.format(system=system,variant=variant)\n",
    "        strucFileName=strucFileNameStr.format(system=system,variant=variant)\n",
    "        strucFilePath='/'.join([strucDataDir,subDir,strucFileName])\n",
    "        strucKey=subDir\n",
    "        print(\"loading\",strucKey)\n",
    "        strucDict[strucKey]=pt.load(strucFilePath)\n",
    "print(strucDict)"
   ]
  },
  {
   "cell_type": "markdown",
   "metadata": {},
   "source": [
    "## Compute edge color maps and edge radii\n",
    "\n",
    "Color maps will be based on total interaction energy\n",
    "\n",
    "Edge radii are based on reciprocal interaction energy (same as weights to be used for path finding / current flow betweenness)"
   ]
  },
  {
   "cell_type": "code",
   "execution_count": null,
   "metadata": {},
   "outputs": [],
   "source": []
  },
  {
   "cell_type": "code",
   "execution_count": 58,
   "metadata": {},
   "outputs": [
    {
     "name": "stdout",
     "output_type": "stream",
     "text": [
      "Nedges= 1994\n"
     ]
    }
   ],
   "source": [
    "system='igps'\n",
    "variant='apo'\n",
    "nRes=454\n",
    "Tsim=310.15\n",
    "kb=0.0019872041\n",
    "magCut=kb*Tsim*1.0\n",
    "seqDelta=0\n",
    "#filter out desired interaction energy edges based\n",
    "#for the given system based upon energy and\n",
    "#sequence delta cutoffs\n",
    "matData=sigData[\n",
    "    (sigData['System']==system) & \\\n",
    "    (sigData['Variant']==variant) & \\\n",
    "    ((sigData['ResNum_1']-sigData['ResNum_2'])<seqDelta) &\n",
    "    ((sigData['E_Interact.Mean'].abs() - sigData['E_Interact.Std_Err']) > magCut)]\n",
    "tempMat=sp.sparse.coo_matrix(\n",
    "    (matData['E_Interact.Mean'],\n",
    "     (matData['ResNum_1']-1,matData['ResNum_2']-1)),\n",
    "    shape=(nRes,nRes))\n",
    "plotMat=np.abs(tempMat.todense())\n",
    "\n",
    "print(\"Nedges=\",len(np.nonzero(tempMat)[0]))\n",
    "\n",
    "nzInds=np.nonzero(plotMat)\n",
    "\n",
    "#Create a color map for edges based on log(abs(E_Interact.Mean))\n",
    "tempCmap=matplotlib.cm.get_cmap('Spectral',2048)\n",
    "tempCmat=np.array((tempMat.todense()))\n",
    "vMin=np.min(tempCmat)\n",
    "vCenter=0\n",
    "vMax=np.max(tempCmat)\n",
    "cNorm=matplotlib.colors.DivergingNorm(vmin=vMin,vcenter=vCenter,vmax=vMax)\n",
    "#tempCmat[nzInds]=np.log(tempCmat[nzInds])\n",
    "edgeColors=correlation_data_utilities.getCorrNetEdgeColors(tempCmat,maskInds=nzInds,cmap=tempCmap,\n",
    "                                cNorm=cNorm)\n",
    "\n",
    "#Compute widths for edges based on lob(abs(E_Interact.Mean))\n",
    "#rMin and rMax set minimum and maximum edgewidths\n",
    "#edgwidth will then interpolate linearly between those two\n",
    "#bounds.\n",
    "eMin=.125\n",
    "eMax=0.625\n",
    "radiiMat=correlation_data_utilities.getCorrNetEdgeRadii(plotMat,maskInds=nzInds,eMin=eMin,eMax=eMax)"
   ]
  },
  {
   "cell_type": "markdown",
   "metadata": {},
   "source": [
    "## Visualize colormap and radii maps\n",
    "This cell can be used to inspect the color and radii distributions to ensure that they provide a decent range of values.\n",
    "\n",
    "This can be skipped and is mainly useful if you need to trouble shoot poor color contrast or edges that are becoming to thick / thin"
   ]
  },
  {
   "cell_type": "code",
   "execution_count": 59,
   "metadata": {},
   "outputs": [
    {
     "data": {
      "image/png": "[encoded data removed]",
      "text/plain": [
       "<Figure size 432x288 with 1 Axes>"
      ]
     },
     "metadata": {
      "needs_background": "light"
     },
     "output_type": "display_data"
    },
    {
     "data": {
      "image/png": "[encoded data removed]",
      "text/plain": [
       "<Figure size 432x288 with 1 Axes>"
      ]
     },
     "metadata": {
      "needs_background": "light"
     },
     "output_type": "display_data"
    },
    {
     "data": {
      "image/png": "[encoded data removed]",
      "text/plain": [
       "<Figure size 432x288 with 1 Axes>"
      ]
     },
     "metadata": {
      "needs_background": "light"
     },
     "output_type": "display_data"
    },
    {
     "data": {
      "image/png": "[encoded data removed]",
      "text/plain": [
       "<Figure size 432x288 with 1 Axes>"
      ]
     },
     "metadata": {
      "needs_background": "light"
     },
     "output_type": "display_data"
    }
   ],
   "source": [
    "#Plot distribution histograms for edge widths and edge color rgb values\n",
    "sns.distplot(radiiMat[np.nonzero(radiiMat)].flatten(),\n",
    "             kde=False)\n",
    "plt.title('Edge Width distribution')\n",
    "plt.show()\n",
    "\n",
    "clist=['red','green','blue']\n",
    "for ii in np.arange(3):\n",
    "    sns.distplot(edgeColors[:,:,ii][np.nonzero(edgeColors[:,:,ii])].flatten(),\n",
    "                 kde=False,color=clist[ii])\n",
    "plt.title('Edge rgb color value distribution')\n",
    "plt.show()\n",
    "\n",
    "sortArr=np.argsort(tempCmat[np.nonzero(tempCmat)])\n",
    "sortedInds=np.array(list(zip(nzInds[0],nzInds[1])))[sortArr]\n",
    "sortedNzInds=(sortedInds[:,0],sortedInds[:,1])\n",
    "\n",
    "clist=['red','green','blue']\n",
    "for ii in np.arange(3):\n",
    "    plt.plot(edgeColors[:,:,ii][sortedNzInds],c=clist[ii])\n",
    "plt.title('Value Sorted Edge rgb color values')\n",
    "plt.show()\n",
    "\n",
    "plt.plot(tempCmat[sortedNzInds])\n",
    "plt.title('Sorted Interaction_Energy.Mean')\n",
    "plt.show()"
   ]
  },
  {
   "cell_type": "markdown",
   "metadata": {},
   "source": [
    "## Render the interaction network in NGLVIEW\n",
    "This cell will render the full interaction energy network. This may take a while and could be taxing on systems with low memory and / or video capabilities.\n",
    "\n",
    "Be sure to run the cell above that defined the edge color and radii maps\n",
    "\n",
    "WARNING: Trying to run NGLVIEW on google colab will cause the kernel to crash!"
   ]
  },
  {
   "cell_type": "code",
   "execution_count": 62,
   "metadata": {
    "scrolled": false
   },
   "outputs": [
    {
     "data": {
      "image/png": "[encoded data removed]",
      "text/plain": [
       "<Figure size 1152x288 with 1 Axes>"
      ]
     },
     "metadata": {
      "needs_background": "light"
     },
     "output_type": "display_data"
    },
    {
     "ename": "RuntimeError",
     "evalue": "file exist and you're in overwrite=False mode",
     "output_type": "error",
     "traceback": [
      "\u001b[0;31m---------------------------------------------------------------------------\u001b[0m",
      "\u001b[0;31mRuntimeError\u001b[0m                              Traceback (most recent call last)",
      "\u001b[0;32m<ipython-input-62-ce2427cc580a>\u001b[0m in \u001b[0;36m<module>\u001b[0;34m\u001b[0m\n\u001b[1;32m     22\u001b[0m \u001b[0;31m#the edge width and colormaps generated above\u001b[0m\u001b[0;34m\u001b[0m\u001b[0;34m\u001b[0m\u001b[0;34m\u001b[0m\u001b[0m\n\u001b[1;32m     23\u001b[0m \u001b[0mstruc\u001b[0m\u001b[0;34m=\u001b[0m\u001b[0mstrucDict\u001b[0m\u001b[0;34m[\u001b[0m\u001b[0mlist\u001b[0m\u001b[0;34m(\u001b[0m\u001b[0mstrucDict\u001b[0m\u001b[0;34m.\u001b[0m\u001b[0mkeys\u001b[0m\u001b[0;34m(\u001b[0m\u001b[0;34m)\u001b[0m\u001b[0;34m)\u001b[0m\u001b[0;34m[\u001b[0m\u001b[0;36m0\u001b[0m\u001b[0;34m]\u001b[0m\u001b[0;34m]\u001b[0m\u001b[0;34m\u001b[0m\u001b[0;34m\u001b[0m\u001b[0m\n\u001b[0;32m---> 24\u001b[0;31m \u001b[0mview\u001b[0m\u001b[0;34m=\u001b[0m\u001b[0mnv\u001b[0m\u001b[0;34m.\u001b[0m\u001b[0mshow_pytraj\u001b[0m\u001b[0;34m(\u001b[0m\u001b[0mstruc\u001b[0m\u001b[0;34m,\u001b[0m\u001b[0moverwrite\u001b[0m\u001b[0;34m=\u001b[0m\u001b[0;32mTrue\u001b[0m\u001b[0;34m)\u001b[0m\u001b[0;34m\u001b[0m\u001b[0;34m\u001b[0m\u001b[0m\n\u001b[0m\u001b[1;32m     25\u001b[0m \u001b[0mview\u001b[0m\u001b[0;34m.\u001b[0m\u001b[0mclear_representations\u001b[0m\u001b[0;34m(\u001b[0m\u001b[0;34m)\u001b[0m\u001b[0;34m\u001b[0m\u001b[0;34m\u001b[0m\u001b[0m\n\u001b[1;32m     26\u001b[0m \u001b[0mview\u001b[0m\u001b[0;34m.\u001b[0m\u001b[0madd_representation\u001b[0m\u001b[0;34m(\u001b[0m\u001b[0;34m'cartoon'\u001b[0m\u001b[0;34m,\u001b[0m\u001b[0malpha\u001b[0m\u001b[0;34m=\u001b[0m\u001b[0;36m.5\u001b[0m\u001b[0;34m)\u001b[0m\u001b[0;34m\u001b[0m\u001b[0;34m\u001b[0m\u001b[0m\n",
      "\u001b[0;32m/anaconda3/lib/python3.6/site-packages/nglview/show.py\u001b[0m in \u001b[0;36mshow_pytraj\u001b[0;34m(pytraj_trajectory, **kwargs)\u001b[0m\n\u001b[1;32m    314\u001b[0m \u001b[0;34m\u001b[0m\u001b[0m\n\u001b[1;32m    315\u001b[0m     \u001b[0mtrajlist\u001b[0m \u001b[0;34m=\u001b[0m \u001b[0;34m[\u001b[0m\u001b[0mPyTrajTrajectory\u001b[0m\u001b[0;34m(\u001b[0m\u001b[0mtraj\u001b[0m\u001b[0;34m)\u001b[0m \u001b[0;32mfor\u001b[0m \u001b[0mtraj\u001b[0m \u001b[0;32min\u001b[0m \u001b[0mtrajlist\u001b[0m\u001b[0;34m]\u001b[0m\u001b[0;34m\u001b[0m\u001b[0;34m\u001b[0m\u001b[0m\n\u001b[0;32m--> 316\u001b[0;31m     \u001b[0;32mreturn\u001b[0m \u001b[0mNGLWidget\u001b[0m\u001b[0;34m(\u001b[0m\u001b[0mtrajlist\u001b[0m\u001b[0;34m,\u001b[0m \u001b[0;34m**\u001b[0m\u001b[0mkwargs\u001b[0m\u001b[0;34m)\u001b[0m\u001b[0;34m\u001b[0m\u001b[0;34m\u001b[0m\u001b[0m\n\u001b[0m\u001b[1;32m    317\u001b[0m \u001b[0;34m\u001b[0m\u001b[0m\n\u001b[1;32m    318\u001b[0m \u001b[0;34m\u001b[0m\u001b[0m\n",
      "\u001b[0;32m/anaconda3/lib/python3.6/site-packages/nglview/widget.py\u001b[0m in \u001b[0;36m__init__\u001b[0;34m(self, structure, representations, parameters, **kwargs)\u001b[0m\n\u001b[1;32m    240\u001b[0m             \u001b[0;32mfor\u001b[0m \u001b[0mtrajectory\u001b[0m \u001b[0;32min\u001b[0m \u001b[0mtrajectories\u001b[0m\u001b[0;34m:\u001b[0m\u001b[0;34m\u001b[0m\u001b[0;34m\u001b[0m\u001b[0m\n\u001b[1;32m    241\u001b[0m                 \u001b[0mname\u001b[0m \u001b[0;34m=\u001b[0m \u001b[0mpy_utils\u001b[0m\u001b[0;34m.\u001b[0m\u001b[0mget_name\u001b[0m\u001b[0;34m(\u001b[0m\u001b[0mtrajectory\u001b[0m\u001b[0;34m,\u001b[0m \u001b[0mkwargs\u001b[0m\u001b[0;34m)\u001b[0m\u001b[0;34m\u001b[0m\u001b[0;34m\u001b[0m\u001b[0m\n\u001b[0;32m--> 242\u001b[0;31m                 \u001b[0mself\u001b[0m\u001b[0;34m.\u001b[0m\u001b[0madd_trajectory\u001b[0m\u001b[0;34m(\u001b[0m\u001b[0mtrajectory\u001b[0m\u001b[0;34m,\u001b[0m \u001b[0mname\u001b[0m\u001b[0;34m=\u001b[0m\u001b[0mname\u001b[0m\u001b[0;34m,\u001b[0m \u001b[0;34m**\u001b[0m\u001b[0mkwargs\u001b[0m\u001b[0;34m)\u001b[0m\u001b[0;34m\u001b[0m\u001b[0;34m\u001b[0m\u001b[0m\n\u001b[0m\u001b[1;32m    243\u001b[0m         \u001b[0;32melse\u001b[0m\u001b[0;34m:\u001b[0m\u001b[0;34m\u001b[0m\u001b[0;34m\u001b[0m\u001b[0m\n\u001b[1;32m    244\u001b[0m             \u001b[0;32mif\u001b[0m \u001b[0mstructure\u001b[0m \u001b[0;32mis\u001b[0m \u001b[0;32mnot\u001b[0m \u001b[0;32mNone\u001b[0m\u001b[0;34m:\u001b[0m\u001b[0;34m\u001b[0m\u001b[0;34m\u001b[0m\u001b[0m\n",
      "\u001b[0;32m/anaconda3/lib/python3.6/site-packages/nglview/widget.py\u001b[0m in \u001b[0;36madd_trajectory\u001b[0;34m(self, trajectory, **kwargs)\u001b[0m\n\u001b[1;32m   1140\u001b[0m             \u001b[0mtrajectory\u001b[0m \u001b[0;34m=\u001b[0m \u001b[0mtrajectory\u001b[0m\u001b[0;34m\u001b[0m\u001b[0;34m\u001b[0m\u001b[0m\n\u001b[1;32m   1141\u001b[0m \u001b[0;34m\u001b[0m\u001b[0m\n\u001b[0;32m-> 1142\u001b[0;31m         \u001b[0mself\u001b[0m\u001b[0;34m.\u001b[0m\u001b[0m_load_data\u001b[0m\u001b[0;34m(\u001b[0m\u001b[0mtrajectory\u001b[0m\u001b[0;34m,\u001b[0m \u001b[0;34m**\u001b[0m\u001b[0mkwargs\u001b[0m\u001b[0;34m)\u001b[0m\u001b[0;34m\u001b[0m\u001b[0;34m\u001b[0m\u001b[0m\n\u001b[0m\u001b[1;32m   1143\u001b[0m         \u001b[0msetattr\u001b[0m\u001b[0;34m(\u001b[0m\u001b[0mtrajectory\u001b[0m\u001b[0;34m,\u001b[0m \u001b[0;34m'shown'\u001b[0m\u001b[0;34m,\u001b[0m \u001b[0;32mTrue\u001b[0m\u001b[0;34m)\u001b[0m\u001b[0;34m\u001b[0m\u001b[0;34m\u001b[0m\u001b[0m\n\u001b[1;32m   1144\u001b[0m         \u001b[0mself\u001b[0m\u001b[0;34m.\u001b[0m\u001b[0m_trajlist\u001b[0m\u001b[0;34m.\u001b[0m\u001b[0mappend\u001b[0m\u001b[0;34m(\u001b[0m\u001b[0mtrajectory\u001b[0m\u001b[0;34m)\u001b[0m\u001b[0;34m\u001b[0m\u001b[0;34m\u001b[0m\u001b[0m\n",
      "\u001b[0;32m/anaconda3/lib/python3.6/site-packages/nglview/widget.py\u001b[0m in \u001b[0;36m_load_data\u001b[0;34m(self, obj, **kwargs)\u001b[0m\n\u001b[1;32m   1218\u001b[0m         \u001b[0;32mif\u001b[0m \u001b[0;32mnot\u001b[0m \u001b[0mis_url\u001b[0m\u001b[0;34m:\u001b[0m\u001b[0;34m\u001b[0m\u001b[0;34m\u001b[0m\u001b[0m\n\u001b[1;32m   1219\u001b[0m             \u001b[0;32mif\u001b[0m \u001b[0mhasattr\u001b[0m\u001b[0;34m(\u001b[0m\u001b[0mobj\u001b[0m\u001b[0;34m,\u001b[0m \u001b[0;34m'get_structure_string'\u001b[0m\u001b[0;34m)\u001b[0m\u001b[0;34m:\u001b[0m\u001b[0;34m\u001b[0m\u001b[0;34m\u001b[0m\u001b[0m\n\u001b[0;32m-> 1220\u001b[0;31m                 \u001b[0mblob\u001b[0m \u001b[0;34m=\u001b[0m \u001b[0mobj\u001b[0m\u001b[0;34m.\u001b[0m\u001b[0mget_structure_string\u001b[0m\u001b[0;34m(\u001b[0m\u001b[0;34m)\u001b[0m\u001b[0;34m\u001b[0m\u001b[0;34m\u001b[0m\u001b[0m\n\u001b[0m\u001b[1;32m   1221\u001b[0m                 \u001b[0mkwargs2\u001b[0m\u001b[0;34m[\u001b[0m\u001b[0;34m'ext'\u001b[0m\u001b[0;34m]\u001b[0m \u001b[0;34m=\u001b[0m \u001b[0mobj\u001b[0m\u001b[0;34m.\u001b[0m\u001b[0mext\u001b[0m\u001b[0;34m\u001b[0m\u001b[0;34m\u001b[0m\u001b[0m\n\u001b[1;32m   1222\u001b[0m                 \u001b[0mpassing_buffer\u001b[0m \u001b[0;34m=\u001b[0m \u001b[0;32mTrue\u001b[0m\u001b[0;34m\u001b[0m\u001b[0;34m\u001b[0m\u001b[0m\n",
      "\u001b[0;32m/anaconda3/lib/python3.6/site-packages/nglview/adaptor.py\u001b[0m in \u001b[0;36mget_structure_string\u001b[0;34m(self, index)\u001b[0m\n\u001b[1;32m    362\u001b[0m \u001b[0;34m\u001b[0m\u001b[0m\n\u001b[1;32m    363\u001b[0m     \u001b[0;32mdef\u001b[0m \u001b[0mget_structure_string\u001b[0m\u001b[0;34m(\u001b[0m\u001b[0mself\u001b[0m\u001b[0;34m,\u001b[0m \u001b[0mindex\u001b[0m\u001b[0;34m=\u001b[0m\u001b[0;36m0\u001b[0m\u001b[0;34m)\u001b[0m\u001b[0;34m:\u001b[0m\u001b[0;34m\u001b[0m\u001b[0;34m\u001b[0m\u001b[0m\n\u001b[0;32m--> 364\u001b[0;31m         \u001b[0;32mreturn\u001b[0m \u001b[0m_get_structure_string\u001b[0m\u001b[0;34m(\u001b[0m\u001b[0mself\u001b[0m\u001b[0;34m.\u001b[0m\u001b[0mtrajectory\u001b[0m\u001b[0;34m[\u001b[0m\u001b[0mindex\u001b[0m\u001b[0;34m:\u001b[0m\u001b[0mindex\u001b[0m \u001b[0;34m+\u001b[0m \u001b[0;36m1\u001b[0m\u001b[0;34m]\u001b[0m\u001b[0;34m.\u001b[0m\u001b[0msave\u001b[0m\u001b[0;34m)\u001b[0m\u001b[0;34m\u001b[0m\u001b[0;34m\u001b[0m\u001b[0m\n\u001b[0m\u001b[1;32m    365\u001b[0m \u001b[0;34m\u001b[0m\u001b[0m\n\u001b[1;32m    366\u001b[0m \u001b[0;34m\u001b[0m\u001b[0m\n",
      "\u001b[0;32m/anaconda3/lib/python3.6/site-packages/nglview/adaptor.py\u001b[0m in \u001b[0;36m_get_structure_string\u001b[0;34m(write_method, suffix)\u001b[0m\n\u001b[1;32m     57\u001b[0m \u001b[0;32mdef\u001b[0m \u001b[0m_get_structure_string\u001b[0m\u001b[0;34m(\u001b[0m\u001b[0mwrite_method\u001b[0m\u001b[0;34m,\u001b[0m \u001b[0msuffix\u001b[0m\u001b[0;34m=\u001b[0m\u001b[0;34m'.pdb'\u001b[0m\u001b[0;34m)\u001b[0m\u001b[0;34m:\u001b[0m\u001b[0;34m\u001b[0m\u001b[0;34m\u001b[0m\u001b[0m\n\u001b[1;32m     58\u001b[0m     \u001b[0;32mwith\u001b[0m \u001b[0mmkstemp_wrapper\u001b[0m\u001b[0;34m(\u001b[0m\u001b[0msuffix\u001b[0m\u001b[0;34m=\u001b[0m\u001b[0msuffix\u001b[0m\u001b[0;34m)\u001b[0m \u001b[0;32mas\u001b[0m \u001b[0mfname\u001b[0m\u001b[0;34m:\u001b[0m\u001b[0;34m\u001b[0m\u001b[0;34m\u001b[0m\u001b[0m\n\u001b[0;32m---> 59\u001b[0;31m         \u001b[0mwrite_method\u001b[0m\u001b[0;34m(\u001b[0m\u001b[0mfname\u001b[0m\u001b[0;34m)\u001b[0m\u001b[0;34m\u001b[0m\u001b[0;34m\u001b[0m\u001b[0m\n\u001b[0m\u001b[1;32m     60\u001b[0m         \u001b[0;32mwith\u001b[0m \u001b[0mopen\u001b[0m\u001b[0;34m(\u001b[0m\u001b[0mfname\u001b[0m\u001b[0;34m)\u001b[0m \u001b[0;32mas\u001b[0m \u001b[0mfh\u001b[0m\u001b[0;34m:\u001b[0m\u001b[0;34m\u001b[0m\u001b[0;34m\u001b[0m\u001b[0m\n\u001b[1;32m     61\u001b[0m             \u001b[0;32mreturn\u001b[0m \u001b[0mfh\u001b[0m\u001b[0;34m.\u001b[0m\u001b[0mread\u001b[0m\u001b[0;34m(\u001b[0m\u001b[0;34m)\u001b[0m\u001b[0;34m\u001b[0m\u001b[0;34m\u001b[0m\u001b[0m\n",
      "\u001b[0;32m/anaconda3/lib/python3.6/site-packages/pytraj/trajectory/shared_trajectory.py\u001b[0m in \u001b[0;36msave\u001b[0;34m(self, filename, overwrite, **kwd)\u001b[0m\n\u001b[1;32m     22\u001b[0m         with TrajectoryWriter(\n\u001b[1;32m     23\u001b[0m                 \u001b[0mfilename\u001b[0m\u001b[0;34m=\u001b[0m\u001b[0mfilename\u001b[0m\u001b[0;34m,\u001b[0m \u001b[0mtop\u001b[0m\u001b[0;34m=\u001b[0m\u001b[0mself\u001b[0m\u001b[0;34m.\u001b[0m\u001b[0mtop\u001b[0m\u001b[0;34m,\u001b[0m \u001b[0moverwrite\u001b[0m\u001b[0;34m=\u001b[0m\u001b[0moverwrite\u001b[0m\u001b[0;34m,\u001b[0m\u001b[0;34m\u001b[0m\u001b[0;34m\u001b[0m\u001b[0m\n\u001b[0;32m---> 24\u001b[0;31m                 **kwd) as trajout:\n\u001b[0m\u001b[1;32m     25\u001b[0m \u001b[0;34m\u001b[0m\u001b[0m\n\u001b[1;32m     26\u001b[0m             \u001b[0;32mfor\u001b[0m \u001b[0mframe\u001b[0m \u001b[0;32min\u001b[0m \u001b[0mself\u001b[0m\u001b[0;34m:\u001b[0m\u001b[0;34m\u001b[0m\u001b[0;34m\u001b[0m\u001b[0m\n",
      "\u001b[0;32mpytraj/trajectory/c_traj/c_trajout.pyx\u001b[0m in \u001b[0;36mpytraj.trajectory.c_traj.c_trajout.TrajectoryWriter.__cinit__ (pytraj/trajectory/c_traj/c_trajout.cpp:3276)\u001b[0;34m()\u001b[0m\n",
      "\u001b[0;32mpytraj/trajectory/c_traj/c_trajout.pyx\u001b[0m in \u001b[0;36mpytraj.trajectory.c_traj.c_trajout.TrajectoryWriter.open (pytraj/trajectory/c_traj/c_trajout.cpp:4210)\u001b[0;34m()\u001b[0m\n",
      "\u001b[0;31mRuntimeError\u001b[0m: file exist and you're in overwrite=False mode"
     ]
    }
   ],
   "source": [
    "import nglview as nv\n",
    "from IPython.display import display, HTML\n",
    "\n",
    "CSS = \"\"\"\n",
    ".output {\n",
    "    display: flex;\n",
    "    align-items: center;\n",
    "    text-align: center;\n",
    "}\n",
    "\"\"\"\n",
    "\n",
    "HTML('<style>{}</style>'.format(CSS))\n",
    "\n",
    "#Draw a color bar for the edge coloring,\n",
    "#(nglview does not seem to support this yet)\n",
    "correlation_data_utilities.drawEdgeColorBar(tempCmat,maskInds=nzInds,\n",
    "                 cmap=tempCmap,label='E_Interaction.Mean (kcal/mol)',\n",
    "                 cNorm=cNorm,\n",
    "                 orientation='horizontal')\n",
    "\n",
    "#Render the filtered interaction network using nglview with\n",
    "#the edge width and colormaps generated above\n",
    "struc=strucDict[list(strucDict.keys())[0]]\n",
    "view=nv.show_pytraj(struc,overwrite=True)\n",
    "view.clear_representations()\n",
    "view.add_representation('cartoon',alpha=.5)\n",
    "correlation_data_utilities.drawProtCorrMat(protStruc=struc,corrMat=plotMat,ngViewOb=view,\n",
    "                    frame=0,colorsArray=edgeColors,radiiMat=radiiMat,\n",
    "                    undirected=True)\n",
    "view"
   ]
  },
  {
   "cell_type": "markdown",
   "metadata": {},
   "source": [
    "# Compute paths between key allosteric binding site and active site residues (L50 and E180)"
   ]
  },
  {
   "cell_type": "code",
   "execution_count": 46,
   "metadata": {},
   "outputs": [
    {
     "name": "stdout",
     "output_type": "stream",
     "text": [
      "<LEU49, 19 atoms>\n",
      "<GLU432, 15 atoms>\n"
     ]
    }
   ],
   "source": [
    "#In order to apply current flow betweenness methods, we need one or more source\n",
    "#and target residues.\n",
    "#For IGPS, two well known interaction residues are LEU50 (Allosteric Ligand biniding pocket)\n",
    "#and GLU 180 (active site residue)\n",
    "#Our structure here has 2 chains, the first is the allosteric region and the\n",
    "#second contains the active site.\n",
    "#The allosteric region is 253 residues long... and numbering in python starts at 0\n",
    "#so our two residues of interest are 50-1 = 49\n",
    "#and 253+180-1=432\n",
    "#So residues 49 and 432 will serve as the source and target residues repsectively\n",
    "struc=strucDict[list(strucDict.keys())[0]]\n",
    "print (struc.topology.residue(50-1))\n",
    "print (struc.topology.residue(253+180-1))\n",
    "sourceSet=[49]\n",
    "targetSet=[432]"
   ]
  },
  {
   "cell_type": "code",
   "execution_count": 47,
   "metadata": {},
   "outputs": [],
   "source": [
    "def calculatePathLength(pathGraph,path,weight='weight'):\n",
    "    return(np.sum([pathGraph.edges()[(edge[0],edge[1])][weight] \\\n",
    "                   for edge in zip(path[:-1],path[1:])]))"
   ]
  },
  {
   "cell_type": "markdown",
   "metadata": {},
   "source": [
    "## compute paths using reciprocal energy directly"
   ]
  },
  {
   "cell_type": "code",
   "execution_count": 48,
   "metadata": {},
   "outputs": [],
   "source": [
    "system='igps'\n",
    "variant='apo'\n",
    "nRes=454\n",
    "Tsim=310.15\n",
    "kb=0.0019872041\n",
    "magCut=kb*Tsim*1.0\n",
    "seqDelta=0\n",
    "#filter out desired interaction energy edges based\n",
    "#for the given system based upon energy and\n",
    "#sequence delta cutoffs\n",
    "matData=sigData[\n",
    "    (sigData['System']==system) & \\\n",
    "    (sigData['Variant']==variant) & \\\n",
    "    ((sigData['ResNum_1']-sigData['ResNum_2'])<seqDelta) &\n",
    "    ((sigData['E_Interact.Mean'].abs() - sigData['E_Interact.Std_Err']) > magCut)]\n",
    "tempMat=sp.sparse.coo_matrix(\n",
    "    (matData['E_Interact.Mean'],\n",
    "     (matData['ResNum_1']-1,matData['ResNum_2']-1)),\n",
    "    shape=(454,454))\n",
    "wMat=tempMat.todense()\n",
    "nzInds=np.nonzero(tempMat)\n",
    "wMat[nzInds]=1./(np.abs(wMat[nzInds]))\n",
    "wMat=np.array(wMat)\n",
    "wMatGraph=nx.from_numpy_array(wMat)"
   ]
  },
  {
   "cell_type": "code",
   "execution_count": 49,
   "metadata": {},
   "outputs": [
    {
     "name": "stdout",
     "output_type": "stream",
     "text": [
      "1.000e+00, 2.750e-01, 1.111e-01, 6.250e-02, 4.615e-02, 3.333e-02, 2.068e-02, 1.190e-02, 1.587e-02, 1.091e-02, 1.091e-02, 5.013e-03, 4.364e-03, 3.835e-03, 7.186e-03, 3.862e-03, 2.226e-03, 2.025e-03, 3.338e-03, 2.982e-03, 2.680e-03, 2.422e-03, 1.380e-03, 1.894e-03, 1.877e-03, 1.080e-03, 1.496e-03, 1.276e-03, 1.189e-03, 1.305e-03, 1.125e-03, 9.683e-04, 1.070e-03, 1.004e-03, 9.427e-04, 6.876e-04, 9.676e-04, 7.327e-04, 9.178e-04, 7.592e-04, 5.684e-04, 7.806e-04, 5.127e-04, 6.632e-04, 5.070e-04, 4.453e-04, 6.529e-04, 5.848e-04, 3.519e-04, 4.054e-04, 3.896e-04, 3.746e-04, 3.900e-04, 2.898e-04, 4.170e-04, 4.004e-04, 3.344e-04, 3.952e-04, 2.158e-04, 2.782e-04, 2.470e-04, 2.822e-04, 1.900e-04, 2.454e-04, 1.988e-04, 2.123e-04, 2.615e-04, 3.591e-04, 2.607e-04, 2.524e-04, 2.445e-04, 1.274e-04, 3.221e-04, 1.348e-04, 1.172e-04, 2.134e-04, 1.800e-04, 1.753e-04, 1.317e-04, 1.668e-04, 1.749e-04, 1.101e-04, 1.668e-04, 1.396e-04, 9.129e-05, 1.006e-04, 1.419e-04, 1.175e-04, 2.073e-04, 2.309e-04, 8.862e-05, 1.061e-04, 2.242e-04, 1.098e-04, 1.164e-04, 1.052e-04, 7.751e-05, 1.013e-04, 6.640e-05, 1.137e-04, 9.558e-05, 1.246e-04, 1.068e-04, 6.750e-05, 8.102e-05, 1.295e-04, 9.875e-05, 7.624e-05, 7.492e-05, 8.027e-05, 5.927e-05, 5.191e-05, 8.283e-05, 8.753e-05, 1.041e-04, 7.224e-05, 8.275e-05, 5.242e-05, 9.705e-05, 8.961e-05, 4.419e-05, 8.137e-05, 7.464e-05, 9.924e-05, 8.205e-05, 9.053e-05, 1.034e-04, 8.219e-05, 5.714e-05, 3.762e-05, 6.018e-05, 3.658e-05, 7.191e-05, 7.507e-05, 6.947e-05, 5.561e-05, 5.060e-05, 5.402e-05, 4.916e-05, 3.642e-05, 3.996e-05, 3.160e-05, 4.675e-05, 4.612e-05, 4.926e-05, 6.339e-05, 4.415e-05, 4.717e-05, 4.298e-05, 3.186e-05, 6.271e-05, 3.100e-05, 5.430e-05, 5.350e-05, 2.976e-05, 3.594e-05, 3.551e-05, 4.459e-05, 6.887e-05, 3.403e-05, 3.364e-05, 3.325e-05, 4.474e-05, 6.742e-05, 3.476e-05, 3.436e-05, 3.958e-05, 3.353e-05, 1.938e-05, 3.285e-05, 6.459e-05, 2.928e-05, 2.897e-05, 3.384e-05, 2.320e-05, 3.565e-05, 2.772e-05, 1.998e-05, 2.226e-05, 2.205e-05, 3.149e-05, 4.776e-05, 2.129e-05, 1.876e-05, 3.935e-05, 1.607e-05, 3.854e-05, 2.469e-05, 2.444e-05, 1.762e-05, 3.050e-05, 2.588e-05, 3.833e-05, 2.530e-05, 3.334e-05, 2.270e-05, 3.264e-05, 2.223e-05, 2.601e-05, 1.785e-05, 2.748e-05, 1.945e-05, 1.928e-05, 2.292e-05, 2.834e-05, 2.804e-05, 3.142e-05, 2.379e-05, 2.536e-05, 2.689e-05, 2.132e-05, 2.987e-05, 1.916e-05, 2.586e-05, 1.880e-05, 1.695e-05, 2.349e-05, 2.822e-05, 2.629e-05, 1.954e-05, 1.615e-05, 2.240e-05, 1.587e-05, 1.732e-05, 1.873e-05, 2.472e-05, 2.599e-05, 1.819e-05, 1.953e-05, 1.788e-05, 2.507e-05, 1.755e-05, 2.462e-05, 2.152e-05, 1.566e-05, 1.975e-05, 2.096e-05, 1.663e-05, 3.151e-05, 1.766e-05, 2.688e-05, 1.600e-05, 1.324e-05, 1.576e-05, 1.563e-05, 2.707e-05, 1.407e-05, 1.776e-05, 1.510e-05, 1.499e-05, 2.472e-05, 1.472e-05, 1.218e-05, 2.052e-05, 1.199e-05, 2.019e-05, 2.118e-05, 2.446e-05, 2.306e-05, 1.145e-05, 1.251e-05, 1.916e-05, 2.011e-05, 1.662e-05, 1.648e-05, 1.526e-05, 1.515e-05, 1.717e-05, 1.384e-05, 1.585e-05, 1.049e-05, 1.147e-05, 1.139e-05, 1.438e-05, 1.833e-05, 1.214e-05, 1.705e-05, 1.394e-05, 1.973e-05, 1.469e-05, 1.940e-05, 1.827e-05, 8.604e-06, 1.234e-05, 1.601e-05, 1.216e-05, 1.115e-05, 1.933e-05, 1.006e-05, 1.090e-05, 1.173e-05, 1.165e-05, 1.157e-05, 7.966e-06, 9.675e-06, 1.049e-05, 1.388e-05, 1.206e-05, 1.453e-05, 1.526e-05, 1.347e-05, 1.420e-05, 7.476e-06, 1.155e-05, 1.066e-05, 1.383e-05, 1.212e-05, 1.123e-05, 1.116e-05, 1.109e-05, 1.258e-05, 7.037e-06, 1.474e-05, 1.002e-05, 1.072e-05, 1.065e-05, 1.359e-05, 1.573e-05, 7.450e-06, 7.409e-06, 1.031e-05, 1.388e-05, 8.715e-06, 9.383e-06, 1.504e-05, 6.411e-06, 1.554e-05, 8.430e-06, 9.077e-06, 9.023e-06, 8.969e-06, 1.028e-05, 6.819e-06, 9.488e-06, 7.414e-06, 9.378e-06, 8.657e-06, 8.606e-06, 8.556e-06, 1.046e-05, 1.104e-05, 1.097e-05, 1.026e-05, 1.273e-05, 6.963e-06, 8.182e-06, 6.887e-06, 1.429e-05, 1.172e-05, 1.042e-05, 1.156e-05, 1.329e-05, 7.809e-06, 8.956e-06, 1.422e-05, 1.118e-05, 9.357e-06, 1.335e-05, 6.352e-06, 8.038e-06, 6.854e-06, 6.251e-06, 6.784e-06, 1.179e-05, 1.171e-05, 6.101e-06, 7.722e-06, 7.679e-06, 9.811e-06, 5.425e-06, 1.024e-05, 5.900e-06, 7.468e-06, 1.165e-05, 6.324e-06, 6.815e-06, 9.378e-06, 6.738e-06, 9.272e-06, 9.726e-06, 7.128e-06, 4.056e-06, 6.558e-06, 7.025e-06, 8.977e-06, 7.935e-06, 1.084e-05, 6.860e-06, 4.878e-06, 4.371e-06, 7.247e-06, 1.008e-05, 6.685e-06, 6.650e-06, 6.616e-06, 7.520e-06, 5.613e-06, 7.907e-06, 1.063e-05, 5.976e-06, 3.663e-06, 8.195e-06, 6.342e-06, 3.159e-06, 3.147e-06, 8.937e-06, 6.225e-06, 4.427e-06, 5.288e-06, 7.451e-06, 8.279e-06, 6.503e-06, 4.317e-06, 1.114e-05, 8.947e-06, 8.892e-06, 6.740e-06, 7.123e-06, 7.500e-06, 4.978e-06, 4.543e-06, 6.574e-06, 4.909e-06, 7.323e-06, 5.669e-06, 4.435e-06, 4.817e-06, 5.593e-06, 1.071e-05, 7.890e-06, 3.537e-06, 7.036e-06, 6.611e-06, 6.577e-06, 4.622e-06, 7.661e-06, 5.338e-06, 6.827e-06, 7.919e-06, 4.880e-06, 5.977e-06, 5.948e-06, 5.181e-06, 3.318e-06, 6.236e-06, 5.841e-06, 4.725e-06, 5.066e-06, 5.761e-06, 7.876e-06, 4.634e-06, 7.798e-06, 3.883e-06, 6.673e-06, 4.197e-06, 3.484e-06, 6.931e-06, 4.831e-06, 4.809e-06, 8.196e-06, 4.760e-06, 4.064e-06, 4.384e-06, 6.040e-06, 2.007e-06, 4.330e-06, 5.305e-06, 4.293e-06, 3.947e-06, 4.585e-06, 6.840e-06, 4.541e-06, 3.232e-06, 4.184e-06, 6.085e-06, 5.737e-06, 7.921e-06, 6.304e-06, 5.647e-06, 6.553e-06, 3.730e-06, 6.802e-06, 2.773e-06, 3.377e-06, 4.890e-06, 3.958e-06, 3.942e-06, 3.323e-06, 5.112e-06, 5.089e-06, 3.579e-06, 3.565e-06, 3.552e-06, 4.127e-06, 5.282e-06, 5.257e-06, 4.943e-06, 5.210e-06, 3.460e-06, 3.447e-06, 3.149e-06, 3.707e-06, 3.693e-06, 3.961e-06, 5.350e-06, 4.486e-06, 3.910e-06, 3.061e-06, 4.434e-06, 4.691e-06, 4.945e-06, 3.558e-06, 3.000e-06, 4.345e-06, 3.787e-06, 4.041e-06, 3.757e-06, 5.342e-06, 4.256e-06, 2.651e-06, 3.434e-06, 3.421e-06, 4.455e-06, 3.394e-06, 3.382e-06, 7.500e-06, 2.578e-06, 3.595e-06, 3.071e-06, 4.332e-06, 5.073e-06, 4.294e-06, 3.774e-06, 3.259e-06, 2.998e-06, 4.726e-06, 5.200e-06, 2.468e-06, 3.688e-06, 3.429e-06, 7.306e-06, 3.881e-06, 2.901e-06, 2.410e-06, 3.122e-06, 3.588e-06, 3.337e-06, 2.851e-06, 3.077e-06, 2.595e-06, 3.291e-06, 2.344e-06, 2.570e-06, 5.811e-06, 4.397e-06, 2.998e-06, 2.299e-06, 4.579e-06, 2.738e-06, 4.544e-06, 3.169e-06, 4.283e-06, 3.145e-06, 5.588e-06, 3.785e-06, 3.328e-06, 3.757e-06, 2.643e-06, 5.698e-06, 2.840e-06, 4.350e-06, 3.251e-06, 2.376e-06, 2.369e-06, 4.503e-06, 4.271e-06, 4.253e-06, 3.390e-06, 4.430e-06, 3.782e-06, 3.350e-06, 3.546e-06, 2.495e-06, 3.108e-06, 3.715e-06, 2.879e-06, 2.460e-06, 2.657e-06, 3.258e-06, 2.841e-06, 2.226e-06, 2.420e-06, 3.416e-06, 3.004e-06, 3.591e-06, 2.585e-06, 3.170e-06, 2.568e-06, 3.542e-06, 2.941e-06, 3.321e-06, 4.086e-06, 3.295e-06, 1.740e-06, 2.505e-06, 2.306e-06, 1.916e-06, 2.864e-06, 3.614e-06, 2.465e-06, 3.400e-06, 2.636e-06, 4.125e-06, 1.683e-06, 2.610e-06, 2.230e-06, 2.963e-06, 2.953e-06, 2.759e-06, 2.750e-06, 3.288e-06, 2.186e-06, 1.816e-06, 2.354e-06, 3.968e-06, 3.414e-06, 3.580e-06, 2.676e-06, 2.490e-06, 3.013e-06, 3.355e-06, 2.991e-06, 2.105e-06, 2.798e-06, 2.962e-06, 2.085e-06, 1.906e-06, 2.246e-06, 2.067e-06, 2.575e-06, 2.567e-06, 1.877e-06, 2.891e-06, 2.374e-06, 3.884e-06, 2.525e-06, 2.182e-06, 1.674e-06, 2.003e-06, 2.662e-06, 2.488e-06, 2.645e-06, 1.484e-06, 2.137e-06, 2.786e-06, 1.471e-06, 3.420e-06, 2.759e-06, 2.911e-06, 2.258e-06, 2.090e-06, 2.724e-06, 2.556e-06, 2.707e-06, 2.381e-06, 2.689e-06, 2.208e-06, 2.045e-06, 2.352e-06, 2.501e-06, 1.715e-06, 2.021e-06, 2.789e-06, 2.779e-06, 1.540e-06, 2.610e-06, 2.296e-06, 2.746e-06, 1.977e-06, 1.669e-06, 2.118e-06, 3.466e-06, 2.554e-06, 1.349e-06, 2.688e-06, 1.936e-06, 3.117e-06, 3.548e-06, 1.769e-06, 1.911e-06, 2.199e-06, 2.338e-06, 1.749e-06, 1.454e-06, 2.753e-06, 2.023e-06, 2.305e-06, 3.015e-06, 1.575e-06, 2.142e-06, 9.973e-07, [[49, 48, 47, 46, 45, 98, 97, 433, 432], [49, 48, 47, 46, 45, 4, 166, 98, 97, 433, 432], [49, 48, 47, 46, 45, 4, 98, 97, 433, 432], [49, 48, 47, 46, 45, 166, 98, 97, 433, 432], [49, 48, 47, 46, 45, 44, 4, 166, 98, 97, 433, 432], [49, 48, 47, 46, 45, 44, 5, 4, 166, 98, 97, 433, 432], [49, 48, 47, 46, 45, 44, 4, 98, 97, 433, 432], [49, 48, 46, 45, 98, 97, 433, 432], [49, 50, 57, 58, 90, 91, 92, 93, 94, 95, 96, 97, 433, 432], [49, 48, 47, 46, 45, 44, 5, 4, 98, 97, 433, 432], [49, 50, 57, 58, 59, 63, 64, 65, 66, 94, 95, 96, 97, 433, 432], [49, 48, 47, 77, 98, 97, 433, 432], [49, 48, 47, 77, 76, 97, 433, 432], [49, 48, 47, 46, 76, 97, 433, 432], [49, 50, 57, 58, 59, 60, 61, 62, 63, 64, 65, 66, 94, 95, 96, 97, 433, 432], [49, 48, 47, 46, 45, 98, 77, 76, 97, 433, 432], [49, 48, 77, 98, 97, 433, 432], [49, 48, 77, 76, 97, 433, 432], [49, 10, 9, 8, 7, 6, 5, 4, 166, 98, 97, 433, 432], [49, 48, 9, 8, 7, 6, 5, 4, 166, 98, 97, 433, 432], [49, 10, 9, 8, 7, 6, 5, 4, 45, 98, 97, 433, 432], [49, 48, 9, 8, 7, 6, 5, 4, 45, 98, 97, 433, 432], [49, 48, 78, 77, 98, 97, 433, 432], [49, 48, 47, 77, 76, 75, 74, 73, 435, 434, 433, 432], [49, 48, 47, 77, 76, 75, 74, 73, 436, 435, 434, 433, 432], [49, 48, 78, 77, 76, 97, 433, 432], [49, 48, 47, 46, 76, 75, 74, 73, 435, 434, 433, 432], [49, 48, 47, 46, 45, 166, 4, 98, 97, 433, 432], [49, 50, 57, 80, 79, 78, 77, 98, 97, 433, 432], [49, 48, 47, 46, 76, 75, 74, 73, 436, 435, 434, 433, 432], [49, 48, 47, 46, 45, 75, 74, 73, 435, 434, 433, 432], [49, 50, 57, 80, 79, 78, 77, 76, 97, 433, 432], [49, 48, 47, 8, 7, 6, 5, 4, 166, 98, 97, 433, 432], [49, 48, 47, 46, 45, 75, 74, 73, 436, 435, 434, 433, 432], [49, 48, 47, 8, 7, 6, 5, 4, 45, 98, 97, 433, 432], [49, 48, 47, 46, 76, 77, 98, 97, 433, 432], [49, 48, 47, 46, 45, 98, 77, 76, 75, 74, 73, 435, 434, 433, 432], [49, 50, 57, 58, 59, 63, 94, 95, 96, 97, 433, 432], [49, 48, 47, 46, 45, 98, 77, 76, 75, 74, 73, 436, 435, 434, 433, 432], [49, 50, 57, 58, 59, 60, 61, 62, 94, 95, 96, 97, 433, 432], [49, 48, 77, 76, 75, 74, 73, 435, 434, 433, 432], [49, 48, 47, 46, 45, 44, 43, 42, 41, 40, 39, 73, 435, 434, 433, 432], [49, 48, 47, 46, 45, 98, 97, 433, 430, 431, 432], [49, 48, 47, 46, 45, 98, 97, 76, 75, 74, 73, 435, 434, 433, 432], [49, 48, 77, 76, 75, 74, 73, 436, 435, 434, 433, 432], [49, 48, 47, 46, 45, 98, 97, 433, 434, 431, 432], [49, 48, 47, 46, 45, 44, 43, 42, 41, 40, 39, 73, 436, 435, 434, 433, 432], [49, 48, 47, 46, 45, 98, 97, 76, 75, 74, 73, 436, 435, 434, 433, 432], [49, 48, 46, 45, 4, 166, 98, 97, 433, 432], [49, 48, 78, 77, 76, 75, 74, 73, 435, 434, 433, 432], [49, 10, 9, 8, 7, 6, 5, 4, 98, 97, 433, 432], [49, 48, 9, 8, 7, 6, 5, 4, 98, 97, 433, 432], [49, 48, 78, 77, 76, 75, 74, 73, 436, 435, 434, 433, 432], [49, 48, 47, 46, 45, 98, 97, 433, 430, 432], [49, 50, 57, 80, 79, 78, 77, 76, 75, 74, 73, 435, 434, 433, 432], [49, 50, 57, 58, 59, 60, 61, 62, 63, 94, 95, 96, 97, 433, 432], [49, 48, 47, 46, 45, 6, 5, 4, 166, 98, 97, 433, 432], [49, 50, 57, 80, 79, 78, 77, 76, 75, 74, 73, 436, 435, 434, 433, 432], [49, 48, 47, 46, 77, 98, 97, 433, 432], [49, 48, 47, 46, 45, 98, 97, 433, 434, 430, 431, 432], [49, 50, 57, 58, 90, 94, 95, 96, 97, 433, 432], [49, 50, 57, 58, 59, 63, 62, 94, 95, 96, 97, 433, 432], [49, 48, 47, 46, 77, 76, 97, 433, 432], [49, 48, 47, 8, 7, 6, 5, 4, 98, 97, 433, 432], [49, 48, 47, 46, 45, 75, 76, 97, 433, 432], [49, 48, 47, 46, 45, 98, 97, 433, 434, 430, 432], [49, 48, 47, 46, 45, 98, 97, 75, 74, 73, 435, 434, 433, 432], [49, 50, 57, 58, 59, 63, 64, 65, 66, 67, 68, 69, 70, 71, 72, 73, 435, 434, 433, 432], [49, 48, 47, 46, 45, 98, 97, 75, 74, 73, 436, 435, 434, 433, 432], [49, 50, 57, 61, 62, 63, 64, 65, 66, 94, 95, 96, 97, 433, 432], [49, 48, 47, 46, 45, 44, 248, 247, 3, 4, 166, 98, 97, 433, 432], [49, 79, 78, 77, 98, 97, 433, 432], [49, 50, 57, 58, 59, 63, 64, 65, 66, 67, 68, 69, 70, 71, 72, 73, 436, 435, 434, 433, 432], [49, 48, 46, 45, 4, 98, 97, 433, 432], [49, 79, 78, 77, 76, 97, 433, 432], [49, 50, 57, 56, 59, 63, 64, 65, 66, 94, 95, 96, 97, 433, 432], [49, 48, 47, 46, 77, 76, 75, 74, 73, 435, 434, 433, 432], [49, 10, 9, 8, 7, 6, 5, 44, 45, 98, 97, 433, 432], [49, 50, 57, 58, 90, 91, 96, 97, 433, 432], [49, 48, 9, 8, 7, 6, 5, 44, 45, 98, 97, 433, 432], [49, 48, 47, 46, 45, 44, 43, 5, 4, 166, 98, 97, 433, 432], [49, 48, 47, 77, 76, 75, 97, 433, 432], [49, 48, 47, 46, 77, 76, 75, 74, 73, 436, 435, 434, 433, 432], [49, 48, 47, 46, 45, 6, 5, 4, 98, 97, 433, 432], [49, 48, 78, 99, 98, 97, 433, 432], [49, 48, 47, 46, 76, 75, 97, 433, 432], [49, 48, 47, 46, 45, 4, 166, 98, 77, 76, 97, 433, 432], [49, 10, 9, 48, 47, 46, 45, 98, 97, 433, 432], [49, 50, 51, 52, 53, 54, 55, 56, 57, 58, 90, 91, 92, 93, 94, 95, 96, 97, 433, 432], [49, 50, 57, 58, 59, 60, 61, 62, 63, 64, 65, 66, 67, 68, 69, 70, 71, 72, 73, 435, 434, 433, 432], [49, 48, 47, 46, 45, 75, 97, 433, 432], [49, 50, 57, 80, 79, 78, 99, 98, 97, 433, 432], [49, 50, 57, 58, 59, 60, 61, 62, 63, 64, 65, 66, 67, 68, 69, 70, 71, 72, 73, 436, 435, 434, 433, 432], [49, 48, 47, 46, 45, 75, 76, 77, 98, 97, 433, 432], [49, 48, 47, 8, 7, 6, 5, 44, 45, 98, 97, 433, 432], [49, 48, 47, 7, 6, 5, 4, 166, 98, 97, 433, 432], [49, 48, 47, 77, 76, 75, 74, 433, 432], [49, 48, 47, 7, 6, 5, 4, 45, 98, 97, 433, 432], [49, 47, 46, 45, 98, 97, 433, 432], [49, 50, 57, 58, 59, 63, 67, 66, 94, 95, 96, 97, 433, 432], [49, 48, 47, 46, 45, 98, 77, 76, 75, 97, 433, 432], [49, 50, 57, 56, 59, 58, 90, 91, 92, 93, 94, 95, 96, 97, 433, 432], [49, 10, 9, 8, 7, 6, 5, 4, 44, 45, 98, 97, 433, 432], [49, 48, 47, 46, 76, 75, 74, 433, 432], [49, 10, 9, 8, 47, 46, 45, 98, 97, 433, 432], [49, 50, 57, 56, 59, 60, 61, 62, 63, 64, 65, 66, 94, 95, 96, 97, 433, 432], [49, 48, 9, 8, 7, 6, 5, 4, 44, 45, 98, 97, 433, 432], [49, 48, 9, 8, 47, 46, 45, 98, 97, 433, 432], [49, 50, 57, 61, 62, 94, 95, 96, 97, 433, 432], [49, 79, 78, 77, 76, 75, 74, 73, 435, 434, 433, 432], [49, 48, 47, 46, 45, 75, 74, 433, 432], [49, 48, 77, 76, 75, 97, 433, 432], [49, 79, 78, 77, 76, 75, 74, 73, 436, 435, 434, 433, 432], [49, 48, 47, 46, 45, 44, 248, 247, 3, 4, 98, 97, 433, 432], [49, 50, 57, 56, 60, 61, 62, 63, 64, 65, 66, 94, 95, 96, 97, 433, 432], [49, 48, 47, 46, 45, 98, 77, 76, 75, 74, 433, 432], [49, 48, 47, 8, 7, 6, 5, 4, 44, 45, 98, 97, 433, 432], [49, 48, 78, 77, 76, 75, 97, 433, 432], [49, 48, 47, 46, 45, 4, 166, 98, 77, 76, 75, 74, 73, 435, 434, 433, 432], [49, 48, 47, 46, 45, 44, 237, 42, 41, 40, 39, 73, 435, 434, 433, 432], [49, 48, 47, 77, 76, 75, 433, 432], [49, 50, 57, 58, 62, 63, 64, 65, 66, 94, 95, 96, 97, 433, 432], [49, 48, 47, 46, 45, 44, 248, 3, 4, 166, 98, 97, 433, 432], [49, 50, 52, 53, 54, 55, 56, 57, 58, 90, 91, 92, 93, 94, 95, 96, 97, 433, 432], [49, 50, 51, 11, 10, 9, 8, 7, 6, 5, 4, 166, 98, 97, 433, 432], [49, 48, 47, 46, 45, 4, 166, 98, 77, 76, 75, 74, 73, 436, 435, 434, 433, 432], [49, 50, 51, 52, 53, 54, 55, 56, 57, 58, 59, 63, 64, 65, 66, 94, 95, 96, 97, 433, 432], [49, 48, 47, 46, 45, 44, 237, 42, 41, 40, 39, 73, 436, 435, 434, 433, 432], [49, 48, 47, 46, 45, 98, 97, 433, 434, 431, 430, 432], [49, 48, 77, 76, 75, 74, 433, 432], [49, 48, 47, 46, 7, 6, 5, 4, 166, 98, 97, 433, 432], [49, 48, 47, 46, 76, 75, 433, 432], [49, 48, 47, 46, 45, 44, 248, 247, 246, 3, 4, 166, 98, 97, 433, 432], [49, 50, 57, 58, 59, 60, 61, 62, 63, 67, 66, 94, 95, 96, 97, 433, 432], [49, 50, 51, 11, 10, 9, 8, 7, 6, 5, 4, 45, 98, 97, 433, 432], [49, 48, 47, 46, 45, 44, 43, 5, 4, 98, 97, 433, 432], [49, 50, 57, 80, 79, 78, 77, 76, 75, 97, 433, 432], [49, 48, 47, 46, 7, 6, 5, 4, 45, 98, 97, 433, 432], [49, 48, 47, 46, 45, 98, 97, 76, 75, 74, 433, 432], [49, 48, 47, 77, 76, 96, 97, 433, 432], [49, 48, 47, 77, 78, 99, 98, 97, 433, 432], [49, 48, 47, 46, 45, 75, 433, 432], [49, 50, 57, 61, 62, 63, 94, 95, 96, 97, 433, 432], [49, 9, 8, 7, 6, 5, 4, 166, 98, 97, 433, 432], [49, 48, 47, 46, 45, 4, 166, 98, 97, 433, 430, 431, 432], [49, 48, 47, 46, 45, 4, 166, 98, 97, 76, 75, 74, 73, 435, 434, 433, 432], [49, 48, 47, 46, 45, 4, 98, 77, 76, 97, 433, 432], [49, 48, 47, 46, 45, 4, 166, 98, 97, 433, 434, 431, 432], [49, 9, 8, 7, 6, 5, 4, 45, 98, 97, 433, 432], [49, 48, 47, 46, 76, 96, 97, 433, 432], [49, 48, 47, 46, 45, 4, 166, 98, 97, 76, 75, 74, 73, 436, 435, 434, 433, 432], [49, 48, 46, 45, 166, 98, 97, 433, 432], [49, 50, 51, 52, 57, 58, 90, 91, 92, 93, 94, 95, 96, 97, 433, 432], [49, 50, 57, 56, 60, 59, 63, 64, 65, 66, 94, 95, 96, 97, 433, 432], [49, 48, 78, 77, 76, 75, 74, 433, 432], [49, 50, 57, 58, 90, 91, 92, 96, 97, 433, 432], [49, 48, 46, 45, 44, 4, 166, 98, 97, 433, 432], [49, 48, 47, 46, 45, 44, 43, 38, 39, 73, 435, 434, 433, 432], [49, 48, 47, 46, 45, 98, 97, 96, 95, 94, 66, 67, 68, 69, 70, 71, 72, 73, 435, 434, 433, 432], [49, 48, 47, 46, 45, 98, 77, 76, 75, 433, 432], [49, 48, 47, 77, 76, 46, 45, 98, 97, 433, 432], [49, 48, 47, 7, 6, 5, 4, 98, 97, 433, 432], [49, 48, 47, 46, 45, 44, 43, 38, 39, 73, 436, 435, 434, 433, 432], [49, 48, 47, 46, 45, 98, 97, 96, 95, 94, 66, 67, 68, 69, 70, 71, 72, 73, 436, 435, 434, 433, 432], [49, 50, 57, 80, 79, 78, 77, 76, 75, 74, 433, 432], [49, 50, 57, 56, 59, 63, 94, 95, 96, 97, 433, 432], [49, 50, 57, 56, 59, 60, 61, 62, 94, 95, 96, 97, 433, 432], [49, 48, 47, 46, 45, 4, 166, 98, 97, 433, 430, 432], [49, 48, 77, 76, 75, 433, 432], [49, 48, 47, 46, 45, 98, 77, 76, 96, 97, 433, 432], [49, 50, 51, 52, 53, 54, 55, 56, 57, 58, 59, 60, 61, 62, 63, 64, 65, 66, 94, 95, 96, 97, 433, 432], [49, 48, 47, 46, 45, 98, 97, 76, 75, 433, 432], [49, 10, 9, 8, 7, 6, 45, 98, 97, 433, 432], [49, 48, 47, 46, 45, 98, 99, 78, 77, 76, 97, 433, 432], [49, 50, 79, 78, 77, 98, 97, 433, 432], [49, 48, 47, 46, 45, 4, 166, 98, 97, 433, 434, 430, 431, 432], [49, 48, 9, 8, 7, 6, 45, 98, 97, 433, 432], [49, 48, 77, 76, 96, 97, 433, 432], [49, 48, 77, 78, 99, 98, 97, 433, 432], [49, 48, 78, 100, 99, 98, 97, 433, 432], [49, 50, 57, 56, 60, 61, 62, 94, 95, 96, 97, 433, 432], [49, 50, 52, 53, 54, 55, 56, 57, 58, 59, 63, 64, 65, 66, 94, 95, 96, 97, 433, 432], [49, 50, 79, 78, 77, 76, 97, 433, 432], [49, 48, 78, 77, 76, 75, 433, 432], [49, 50, 57, 56, 60, 59, 58, 90, 91, 92, 93, 94, 95, 96, 97, 433, 432], [49, 48, 78, 98, 97, 433, 432], [49, 50, 57, 58, 59, 63, 67, 68, 69, 70, 71, 72, 73, 435, 434, 433, 432], [49, 48, 47, 77, 76, 75, 45, 98, 97, 433, 432], [49, 50, 57, 58, 62, 94, 95, 96, 97, 433, 432], [49, 79, 78, 99, 98, 97, 433, 432], [49, 48, 47, 46, 45, 44, 5, 6, 4, 166, 98, 97, 433, 432], [49, 50, 57, 80, 79, 78, 100, 99, 98, 97, 433, 432], [49, 50, 57, 58, 59, 63, 67, 68, 69, 70, 71, 72, 73, 436, 435, 434, 433, 432], [49, 50, 57, 58, 90, 93, 94, 95, 96, 97, 433, 432], [49, 50, 57, 61, 60, 59, 63, 64, 65, 66, 94, 95, 96, 97, 433, 432], [49, 48, 47, 46, 76, 75, 45, 98, 97, 433, 432], [49, 48, 47, 46, 45, 4, 98, 77, 76, 75, 74, 73, 435, 434, 433, 432], [49, 50, 57, 80, 79, 78, 77, 76, 75, 433, 432], [49, 48, 47, 46, 45, 44, 248, 3, 4, 98, 97, 433, 432], [49, 48, 78, 77, 76, 96, 97, 433, 432], [49, 48, 47, 46, 45, 98, 97, 433, 434, 389, 390, 430, 431, 432], [49, 50, 57, 80, 79, 78, 98, 97, 433, 432], [49, 48, 77, 76, 46, 45, 98, 97, 433, 432], [49, 50, 57, 58, 90, 91, 94, 95, 96, 97, 433, 432], [49, 50, 51, 11, 10, 9, 8, 7, 6, 5, 4, 98, 97, 433, 432], [49, 50, 52, 57, 58, 90, 91, 92, 93, 94, 95, 96, 97, 433, 432], [49, 48, 47, 46, 45, 4, 98, 77, 76, 75, 74, 73, 436, 435, 434, 433, 432], [49, 48, 47, 46, 45, 4, 166, 98, 97, 433, 434, 430, 432], [49, 11, 10, 9, 8, 7, 6, 5, 4, 166, 98, 97, 433, 432], [49, 50, 57, 56, 59, 60, 61, 62, 63, 94, 95, 96, 97, 433, 432], [49, 48, 47, 46, 7, 6, 5, 4, 98, 97, 433, 432], [49, 50, 51, 52, 57, 58, 59, 63, 64, 65, 66, 94, 95, 96, 97, 433, 432], [49, 48, 47, 8, 7, 6, 45, 98, 97, 433, 432], [49, 48, 47, 46, 45, 44, 248, 247, 246, 3, 4, 98, 97, 433, 432], [49, 48, 47, 46, 45, 98, 97, 75, 74, 433, 432], [49, 48, 47, 46, 77, 76, 75, 97, 433, 432], [49, 11, 10, 9, 8, 7, 6, 5, 4, 45, 98, 97, 433, 432], [49, 50, 51, 52, 53, 54, 55, 56, 57, 80, 79, 78, 77, 98, 97, 433, 432], [49, 48, 47, 46, 45, 4, 166, 98, 97, 75, 74, 73, 435, 434, 433, 432], [49, 50, 57, 80, 79, 78, 77, 76, 96, 97, 433, 432], [49, 48, 77, 47, 46, 45, 98, 97, 433, 432], [49, 48, 47, 46, 45, 44, 237, 5, 4, 166, 98, 97, 433, 432], [49, 48, 47, 77, 46, 45, 98, 97, 433, 432], [49, 9, 8, 7, 6, 5, 4, 98, 97, 433, 432], [49, 48, 47, 46, 45, 4, 98, 97, 433, 430, 431, 432], [49, 48, 47, 46, 45, 4, 98, 97, 76, 75, 74, 73, 435, 434, 433, 432], [49, 48, 47, 46, 45, 4, 166, 98, 97, 75, 74, 73, 436, 435, 434, 433, 432], [49, 48, 47, 46, 45, 4, 98, 97, 433, 434, 431, 432], [49, 50, 57, 56, 59, 63, 62, 94, 95, 96, 97, 433, 432], [49, 48, 46, 45, 44, 5, 4, 166, 98, 97, 433, 432], [49, 50, 51, 52, 53, 54, 55, 56, 57, 80, 79, 78, 77, 76, 97, 433, 432], [49, 48, 47, 46, 45, 44, 248, 375, 390, 430, 431, 432], [49, 48, 47, 46, 45, 4, 98, 97, 76, 75, 74, 73, 436, 435, 434, 433, 432], [49, 48, 47, 46, 45, 44, 43, 42, 41, 40, 39, 73, 74, 433, 432], [49, 48, 78, 77, 76, 46, 45, 98, 97, 433, 432], [49, 50, 57, 56, 60, 61, 62, 63, 94, 95, 96, 97, 433, 432], [49, 48, 47, 46, 45, 98, 97, 433, 434, 435, 436, 437, 438, 431, 432], [49, 10, 9, 8, 7, 6, 4, 166, 98, 97, 433, 432], [49, 50, 52, 53, 54, 55, 56, 57, 58, 59, 60, 61, 62, 63, 64, 65, 66, 94, 95, 96, 97, 433, 432], [49, 48, 47, 46, 45, 98, 97, 433, 434, 389, 390, 430, 432], [49, 50, 57, 61, 62, 63, 64, 65, 66, 67, 68, 69, 70, 71, 72, 73, 435, 434, 433, 432], [49, 48, 9, 8, 7, 6, 4, 166, 98, 97, 433, 432], [49, 48, 46, 45, 44, 4, 98, 97, 433, 432], [49, 10, 9, 8, 7, 6, 4, 45, 98, 97, 433, 432], [49, 48, 47, 46, 76, 77, 78, 99, 98, 97, 433, 432], [49, 50, 57, 61, 62, 63, 64, 65, 66, 67, 68, 69, 70, 71, 72, 73, 436, 435, 434, 433, 432], [49, 48, 78, 77, 47, 46, 45, 98, 97, 433, 432], [49, 50, 57, 80, 79, 78, 77, 76, 46, 45, 98, 97, 433, 432], [49, 48, 9, 8, 7, 6, 4, 45, 98, 97, 433, 432], [49, 48, 47, 46, 45, 44, 248, 388, 389, 434, 433, 432], [49, 50, 57, 58, 59, 60, 61, 62, 63, 67, 68, 69, 70, 71, 72, 73, 435, 434, 433, 432], [49, 50, 57, 58, 62, 63, 94, 95, 96, 97, 433, 432], [49, 48, 47, 46, 77, 76, 75, 74, 433, 432], [49, 48, 47, 46, 45, 98, 99, 78, 77, 76, 75, 74, 73, 435, 434, 433, 432], [49, 48, 77, 76, 75, 45, 98, 97, 433, 432], [49, 50, 57, 61, 60, 59, 58, 90, 91, 92, 93, 94, 95, 96, 97, 433, 432], [49, 50, 51, 52, 53, 54, 55, 56, 57, 58, 59, 63, 94, 95, 96, 97, 433, 432], [49, 50, 57, 58, 59, 60, 61, 62, 63, 67, 68, 69, 70, 71, 72, 73, 436, 435, 434, 433, 432], [49, 50, 51, 52, 53, 54, 55, 56, 57, 58, 59, 60, 61, 62, 94, 95, 96, 97, 433, 432], [49, 48, 47, 46, 74, 73, 435, 434, 433, 432], [49, 48, 47, 46, 45, 4, 98, 97, 433, 430, 432], [49, 48, 47, 46, 45, 4, 44, 43, 42, 41, 40, 39, 73, 435, 434, 433, 432], [49, 48, 47, 46, 45, 98, 99, 78, 77, 76, 75, 74, 73, 436, 435, 434, 433, 432], [49, 10, 9, 8, 7, 6, 5, 44, 45, 4, 166, 98, 97, 433, 432], [49, 50, 57, 58, 59, 60, 61, 65, 66, 94, 95, 96, 97, 433, 432], [49, 10, 9, 8, 7, 6, 5, 4, 166, 45, 98, 97, 433, 432], [49, 50, 57, 80, 79, 78, 77, 47, 46, 45, 98, 97, 433, 432], [49, 48, 47, 46, 45, 98, 97, 96, 76, 75, 74, 73, 435, 434, 433, 432], [49, 50, 79, 78, 77, 76, 75, 74, 73, 435, 434, 433, 432], [49, 48, 9, 8, 7, 6, 5, 44, 45, 4, 166, 98, 97, 433, 432], [49, 48, 47, 46, 45, 98, 97, 75, 433, 432], [49, 48, 47, 46, 45, 44, 248, 375, 390, 430, 432], [49, 48, 47, 46, 74, 73, 436, 435, 434, 433, 432], [49, 48, 9, 8, 7, 6, 5, 4, 166, 45, 98, 97, 433, 432], [49, 48, 47, 46, 45, 4, 44, 43, 42, 41, 40, 39, 73, 436, 435, 434, 433, 432], [49, 48, 47, 7, 6, 5, 44, 45, 98, 97, 433, 432], [49, 48, 47, 46, 45, 98, 97, 96, 76, 75, 74, 73, 436, 435, 434, 433, 432], [49, 50, 79, 78, 77, 76, 75, 74, 73, 436, 435, 434, 433, 432], [49, 50, 51, 52, 57, 58, 59, 60, 61, 62, 63, 64, 65, 66, 94, 95, 96, 97, 433, 432], [49, 48, 47, 46, 45, 44, 43, 42, 41, 40, 436, 435, 434, 433, 432], [49, 50, 57, 56, 59, 63, 64, 65, 66, 67, 68, 69, 70, 71, 72, 73, 435, 434, 433, 432], [49, 50, 51, 52, 53, 54, 55, 56, 59, 63, 64, 65, 66, 94, 95, 96, 97, 433, 432], [49, 79, 78, 77, 76, 75, 97, 433, 432], [49, 48, 47, 46, 45, 4, 98, 97, 433, 434, 430, 431, 432], [49, 50, 57, 58, 87, 88, 89, 90, 91, 92, 93, 94, 95, 96, 97, 433, 432], [49, 10, 9, 48, 47, 46, 45, 4, 166, 98, 97, 433, 432], [49, 48, 47, 46, 45, 166, 98, 77, 76, 97, 433, 432], [49, 50, 57, 56, 59, 63, 64, 65, 66, 67, 68, 69, 70, 71, 72, 73, 436, 435, 434, 433, 432], [49, 48, 78, 77, 76, 75, 45, 98, 97, 433, 432], [49, 48, 47, 8, 7, 6, 4, 166, 98, 97, 433, 432], [49, 48, 47, 46, 45, 44, 248, 388, 389, 390, 430, 431, 432], [49, 50, 57, 58, 90, 89, 93, 94, 95, 96, 97, 433, 432], [49, 50, 57, 56, 60, 59, 63, 94, 95, 96, 97, 433, 432], [49, 48, 77, 46, 45, 98, 97, 433, 432], [49, 48, 47, 77, 78, 100, 99, 98, 97, 433, 432], [49, 48, 47, 8, 7, 6, 4, 45, 98, 97, 433, 432], [49, 50, 52, 57, 58, 59, 63, 64, 65, 66, 94, 95, 96, 97, 433, 432], [49, 48, 47, 46, 45, 44, 4, 166, 98, 77, 76, 97, 433, 432], [49, 50, 52, 51, 11, 10, 9, 8, 7, 6, 5, 4, 166, 98, 97, 433, 432], [49, 48, 47, 46, 45, 44, 43, 42, 41, 40, 39, 73, 74, 75, 76, 97, 433, 432], [49, 50, 52, 53, 54, 55, 56, 57, 80, 79, 78, 77, 98, 97, 433, 432], [49, 50, 52, 51, 11, 10, 9, 8, 7, 6, 5, 4, 45, 98, 97, 433, 432], [49, 48, 47, 77, 78, 98, 97, 433, 432], [49, 50, 57, 80, 79, 78, 77, 76, 75, 45, 98, 97, 433, 432], [49, 48, 47, 46, 45, 44, 5, 6, 4, 98, 97, 433, 432], [49, 48, 47, 46, 45, 44, 43, 42, 41, 37, 38, 39, 73, 435, 434, 433, 432], [49, 48, 47, 8, 7, 6, 5, 44, 45, 4, 166, 98, 97, 433, 432], [49, 48, 47, 9, 8, 7, 6, 5, 4, 166, 98, 97, 433, 432], [49, 48, 47, 8, 7, 6, 5, 4, 166, 45, 98, 97, 433, 432], [49, 10, 9, 8, 7, 6, 5, 4, 45, 166, 98, 97, 433, 432], [49, 50, 52, 53, 54, 55, 56, 57, 80, 79, 78, 77, 76, 97, 433, 432], [49, 48, 47, 46, 77, 76, 75, 433, 432], [49, 50, 51, 52, 13, 12, 11, 10, 9, 8, 7, 6, 5, 4, 166, 98, 97, 433, 432], [49, 48, 47, 46, 45, 98, 97, 433, 434, 390, 430, 431, 432], [49, 48, 9, 8, 7, 6, 5, 4, 45, 166, 98, 97, 433, 432], [49, 48, 47, 9, 8, 7, 6, 5, 4, 45, 98, 97, 433, 432], [49, 48, 47, 46, 45, 44, 43, 42, 41, 37, 38, 39, 73, 436, 435, 434, 433, 432], [49, 50, 51, 52, 53, 54, 55, 56, 57, 80, 79, 78, 77, 76, 75, 74, 73, 435, 434, 433, 432], [49, 47, 46, 45, 4, 166, 98, 97, 433, 432], [49, 48, 78, 77, 46, 45, 98, 97, 433, 432], [49, 48, 47, 46, 45, 4, 166, 98, 77, 76, 75, 97, 433, 432], [49, 50, 51, 52, 13, 12, 11, 10, 9, 8, 7, 6, 5, 4, 45, 98, 97, 433, 432], [49, 48, 47, 46, 45, 4, 98, 97, 433, 434, 430, 432], [49, 11, 10, 9, 8, 7, 6, 5, 4, 98, 97, 433, 432], [49, 50, 51, 52, 53, 54, 55, 56, 57, 58, 59, 60, 61, 62, 63, 94, 95, 96, 97, 433, 432], [49, 79, 78, 77, 76, 75, 74, 433, 432], [49, 50, 51, 52, 53, 54, 55, 56, 57, 80, 79, 78, 77, 76, 75, 74, 73, 436, 435, 434, 433, 432], [49, 48, 47, 46, 45, 44, 248, 388, 389, 390, 430, 432], [49, 10, 9, 8, 47, 46, 45, 4, 166, 98, 97, 433, 432], [49, 48, 47, 7, 6, 5, 4, 44, 45, 98, 97, 433, 432], [49, 48, 9, 8, 47, 46, 45, 4, 166, 98, 97, 433, 432], [49, 48, 47, 46, 45, 4, 98, 97, 75, 74, 73, 435, 434, 433, 432], [49, 48, 47, 46, 77, 76, 96, 97, 433, 432], [49, 50, 57, 61, 62, 63, 67, 66, 94, 95, 96, 97, 433, 432], [49, 48, 47, 46, 77, 78, 99, 98, 97, 433, 432], [49, 50, 57, 80, 79, 78, 48, 47, 46, 45, 98, 97, 433, 432], [49, 50, 51, 52, 57, 80, 79, 78, 77, 98, 97, 433, 432], [49, 48, 47, 46, 45, 44, 237, 5, 4, 98, 97, 433, 432], [49, 50, 57, 80, 79, 78, 77, 46, 45, 98, 97, 433, 432], [49, 50, 51, 11, 10, 9, 8, 7, 6, 5, 44, 45, 98, 97, 433, 432], [49, 50, 51, 52, 53, 54, 55, 56, 57, 58, 90, 94, 95, 96, 97, 433, 432], [49, 48, 47, 46, 45, 44, 248, 247, 246, 2, 3, 4, 166, 98, 97, 433, 432], [49, 48, 47, 46, 45, 4, 98, 97, 75, 74, 73, 436, 435, 434, 433, 432], [49, 50, 51, 52, 53, 54, 55, 56, 59, 58, 90, 91, 92, 93, 94, 95, 96, 97, 433, 432], [49, 48, 47, 46, 45, 75, 76, 96, 97, 433, 432], [49, 48, 47, 46, 7, 6, 5, 44, 45, 98, 97, 433, 432], [49, 48, 46, 45, 44, 5, 4, 98, 97, 433, 432], [49, 50, 57, 56, 59, 60, 61, 62, 63, 64, 65, 66, 67, 68, 69, 70, 71, 72, 73, 435, 434, 433, 432], [49, 50, 51, 52, 53, 54, 55, 56, 57, 58, 59, 63, 62, 94, 95, 96, 97, 433, 432], [49, 50, 52, 53, 54, 55, 56, 57, 58, 59, 63, 94, 95, 96, 97, 433, 432], [49, 50, 52, 53, 54, 55, 56, 57, 58, 59, 60, 61, 62, 94, 95, 96, 97, 433, 432], [49, 50, 51, 52, 53, 54, 55, 56, 59, 60, 61, 62, 63, 64, 65, 66, 94, 95, 96, 97, 433, 432], [49, 50, 51, 52, 57, 80, 79, 78, 77, 76, 97, 433, 432], [49, 50, 57, 58, 59, 60, 64, 65, 66, 94, 95, 96, 97, 433, 432], [49, 50, 57, 56, 59, 60, 61, 62, 63, 64, 65, 66, 67, 68, 69, 70, 71, 72, 73, 436, 435, 434, 433, 432], [49, 50, 57, 58, 59, 63, 64, 65, 66, 67, 68, 69, 70, 71, 72, 73, 74, 433, 432], [49, 50, 57, 58, 59, 60, 61, 64, 65, 66, 94, 95, 96, 97, 433, 432], [49, 50, 57, 80, 81, 82, 83, 84, 85, 86, 87, 88, 89, 90, 91, 92, 93, 94, 95, 96, 97, 433, 432], [49, 10, 9, 8, 7, 46, 45, 98, 97, 433, 432], [49, 48, 47, 46, 45, 98, 99, 100, 78, 77, 76, 97, 433, 432], [49, 48, 47, 46, 45, 98, 97, 433, 434, 390, 430, 432], [49, 10, 9, 8, 7, 6, 4, 98, 97, 433, 432], [49, 9, 8, 7, 6, 5, 44, 45, 98, 97, 433, 432], [49, 50, 57, 58, 90, 91, 92, 93, 94, 66, 67, 68, 69, 70, 71, 72, 73, 435, 434, 433, 432], [49, 50, 57, 80, 81, 82, 83, 84, 87, 88, 89, 90, 91, 92, 93, 94, 95, 96, 97, 433, 432], [49, 48, 9, 8, 7, 46, 45, 98, 97, 433, 432], [49, 48, 47, 8, 7, 6, 5, 4, 45, 166, 98, 97, 433, 432], [49, 50, 51, 11, 10, 9, 48, 47, 46, 45, 98, 97, 433, 432], [49, 48, 47, 46, 45, 4, 5, 44, 43, 42, 41, 40, 39, 73, 435, 434, 433, 432], [49, 48, 77, 78, 100, 99, 98, 97, 433, 432], [49, 50, 52, 57, 58, 59, 60, 61, 62, 63, 64, 65, 66, 94, 95, 96, 97, 433, 432], [49, 48, 9, 8, 7, 6, 4, 98, 97, 433, 432], [49, 48, 47, 46, 45, 4, 166, 98, 77, 76, 75, 74, 433, 432], [49, 50, 57, 58, 90, 91, 92, 93, 94, 66, 67, 68, 69, 70, 71, 72, 73, 436, 435, 434, 433, 432], [49, 48, 47, 46, 45, 98, 78, 77, 76, 97, 433, 432], [49, 50, 57, 61, 60, 59, 63, 94, 95, 96, 97, 433, 432], [49, 50, 52, 53, 54, 55, 56, 59, 63, 64, 65, 66, 94, 95, 96, 97, 433, 432], [49, 48, 47, 46, 45, 44, 248, 375, 390, 389, 434, 433, 432], [49, 50, 51, 52, 12, 11, 10, 9, 8, 7, 6, 5, 4, 166, 98, 97, 433, 432], [49, 48, 47, 46, 45, 4, 5, 44, 43, 42, 41, 40, 39, 73, 436, 435, 434, 433, 432], [49, 50, 57, 56, 59, 63, 67, 66, 94, 95, 96, 97, 433, 432], [49, 48, 77, 78, 98, 97, 433, 432], [49, 50, 57, 56, 59, 58, 90, 94, 95, 96, 97, 433, 432], [49, 48, 47, 46, 45, 44, 248, 249, 250, 436, 435, 434, 433, 432], [49, 50, 51, 52, 12, 11, 10, 9, 8, 7, 6, 5, 4, 45, 98, 97, 433, 432], [49, 48, 47, 46, 45, 166, 98, 77, 76, 75, 74, 73, 435, 434, 433, 432], [49, 50, 57, 56, 60, 61, 62, 63, 64, 65, 66, 67, 68, 69, 70, 71, 72, 73, 435, 434, 433, 432], [49, 50, 57, 56, 60, 59, 63, 62, 94, 95, 96, 97, 433, 432], [49, 9, 48, 47, 46, 45, 98, 97, 433, 432], [49, 79, 78, 100, 99, 98, 97, 433, 432], [49, 50, 57, 58, 59, 63, 64, 67, 66, 94, 95, 96, 97, 433, 432], [49, 50, 51, 52, 53, 54, 55, 56, 60, 61, 62, 63, 64, 65, 66, 94, 95, 96, 97, 433, 432], [49, 50, 51, 52, 57, 58, 59, 63, 94, 95, 96, 97, 433, 432], [49, 48, 47, 46, 45, 4, 166, 98, 97, 433, 434, 431, 430, 432], [49, 10, 9, 8, 7, 6, 5, 44, 45, 4, 98, 97, 433, 432], [49, 50, 51, 52, 57, 58, 59, 60, 61, 62, 94, 95, 96, 97, 433, 432], [49, 48, 47, 46, 45, 6, 4, 166, 98, 97, 433, 432], [49, 48, 47, 46, 45, 166, 98, 77, 76, 75, 74, 73, 436, 435, 434, 433, 432], [49, 50, 57, 56, 60, 61, 62, 63, 64, 65, 66, 67, 68, 69, 70, 71, 72, 73, 436, 435, 434, 433, 432], [49, 48, 47, 46, 45, 44, 248, 249, 388, 389, 434, 433, 432], [49, 79, 78, 77, 76, 75, 433, 432], [49, 48, 47, 46, 45, 44, 4, 166, 98, 77, 76, 75, 74, 73, 435, 434, 433, 432], [49, 48, 9, 8, 7, 6, 5, 44, 45, 4, 98, 97, 433, 432], [49, 79, 78, 98, 97, 433, 432], [49, 48, 46, 76, 97, 433, 432], [49, 50, 57, 58, 62, 63, 64, 65, 66, 67, 68, 69, 70, 71, 72, 73, 435, 434, 433, 432], [49, 48, 47, 46, 45, 4, 166, 98, 97, 76, 75, 74, 433, 432], [49, 10, 9, 47, 46, 45, 98, 97, 433, 432], [49, 48, 47, 46, 45, 44, 248, 375, 389, 434, 433, 432], [49, 50, 57, 58, 59, 63, 64, 65, 66, 67, 68, 72, 73, 435, 434, 433, 432], [49, 48, 47, 46, 45, 44, 4, 166, 98, 77, 76, 75, 74, 73, 436, 435, 434, 433, 432], [49, 48, 47, 46, 45, 44, 5, 4, 166, 98, 77, 76, 97, 433, 432], [49, 48, 9, 47, 46, 45, 98, 97, 433, 432], [49, 50, 51, 52, 53, 54, 55, 56, 57, 58, 59, 63, 64, 65, 66, 67, 68, 69, 70, 71, 72, 73, 435, 434, 433, 432], [49, 50, 57, 58, 62, 63, 64, 65, 66, 67, 68, 69, 70, 71, 72, 73, 436, 435, 434, 433, 432], [49, 50, 51, 52, 53, 54, 55, 56, 57, 61, 62, 63, 64, 65, 66, 94, 95, 96, 97, 433, 432], [49, 50, 57, 58, 59, 63, 64, 68, 67, 66, 94, 95, 96, 97, 433, 432], [49, 50, 51, 11, 10, 9, 8, 7, 6, 5, 4, 44, 45, 98, 97, 433, 432], [49, 50, 57, 58, 59, 63, 64, 65, 66, 67, 68, 72, 73, 436, 435, 434, 433, 432], [49, 48, 47, 46, 45, 166, 98, 97, 433, 430, 431, 432], [49, 48, 47, 8, 7, 46, 45, 98, 97, 433, 432], [49, 48, 47, 46, 45, 166, 98, 97, 76, 75, 74, 73, 435, 434, 433, 432], [49, 10, 9, 48, 47, 46, 45, 4, 98, 97, 433, 432], [49, 50, 52, 13, 12, 11, 10, 9, 8, 7, 6, 5, 4, 166, 98, 97, 433, 432], [49, 50, 51, 11, 10, 9, 8, 47, 46, 45, 98, 97, 433, 432], [49, 48, 47, 8, 7, 6, 4, 98, 97, 433, 432], [49, 48, 47, 46, 45, 166, 98, 97, 433, 434, 431, 432], [49, 48, 47, 46, 7, 6, 5, 4, 44, 45, 98, 97, 433, 432], [49, 50, 51, 52, 53, 54, 55, 56, 57, 58, 59, 63, 64, 65, 66, 67, 68, 69, 70, 71, 72, 73, 436, 435, 434, 433, 432], [49, 50, 52, 53, 54, 55, 56, 57, 80, 79, 78, 77, 76, 75, 74, 73, 435, 434, 433, 432], [49, 79, 78, 77, 76, 96, 97, 433, 432], [49, 50, 52, 13, 12, 11, 10, 9, 8, 7, 6, 5, 4, 45, 98, 97, 433, 432], [49, 48, 47, 46, 45, 166, 98, 97, 76, 75, 74, 73, 436, 435, 434, 433, 432], [49, 48, 47, 46, 45, 44, 43, 42, 41, 40, 39, 73, 74, 75, 97, 433, 432], [49, 48, 47, 46, 45, 44, 74, 73, 435, 434, 433, 432], [49, 50, 52, 53, 54, 55, 56, 57, 58, 59, 60, 61, 62, 63, 94, 95, 96, 97, 433, 432], [49, 48, 47, 46, 45, 44, 4, 166, 98, 97, 433, 430, 431, 432], [49, 48, 47, 46, 45, 44, 4, 166, 98, 97, 76, 75, 74, 73, 435, 434, 433, 432], [49, 50, 52, 53, 54, 55, 56, 57, 80, 79, 78, 77, 76, 75, 74, 73, 436, 435, 434, 433, 432], [49, 48, 47, 46, 45, 44, 4, 98, 77, 76, 97, 433, 432], [49, 50, 57, 58, 59, 62, 63, 64, 65, 66, 94, 95, 96, 97, 433, 432], [49, 50, 52, 51, 11, 10, 9, 8, 7, 6, 5, 4, 98, 97, 433, 432], [49, 48, 47, 46, 45, 44, 4, 166, 98, 97, 433, 434, 431, 432], [49, 50, 79, 78, 99, 98, 97, 433, 432], [49, 50, 57, 58, 59, 63, 64, 68, 69, 70, 71, 72, 73, 435, 434, 433, 432], [49, 50, 57, 58, 61, 62, 63, 64, 65, 66, 94, 95, 96, 97, 433, 432], [49, 9, 8, 7, 6, 5, 4, 44, 45, 98, 97, 433, 432], [49, 10, 9, 8, 7, 6, 5, 44, 4, 166, 98, 97, 433, 432], [49, 48, 47, 46, 45, 44, 237, 42, 43, 5, 4, 166, 98, 97, 433, 432], [49, 50, 57, 58, 59, 63, 64, 65, 66, 67, 68, 69, 70, 71, 72, 73, 74, 75, 76, 97, 433, 432], [49, 48, 47, 46, 45, 44, 74, 73, 436, 435, 434, 433, 432], [49, 50, 57, 58, 59, 60, 61, 62, 63, 64, 65, 66, 67, 68, 69, 70, 71, 72, 73, 74, 433, 432], [49, 48, 47, 46, 45, 74, 73, 435, 434, 433, 432], [49, 48, 47, 46, 45, 44, 4, 166, 98, 97, 76, 75, 74, 73, 436, 435, 434, 433, 432], [49, 48, 47, 46, 77, 76, 75, 45, 98, 97, 433, 432], [49, 9, 8, 47, 46, 45, 98, 97, 433, 432], [49, 48, 47, 46, 45, 44, 43, 42, 41, 40, 39, 73, 74, 75, 76, 77, 98, 97, 433, 432], [49, 48, 47, 46, 45, 44, 248, 249, 388, 389, 390, 430, 431, 432], [49, 48, 9, 8, 7, 6, 5, 44, 4, 166, 98, 97, 433, 432], [49, 48, 47, 46, 45, 4, 166, 98, 97, 96, 95, 94, 66, 67, 68, 69, 70, 71, 72, 73, 435, 434, 433, 432], [49, 10, 9, 8, 7, 6, 5, 44, 4, 45, 98, 97, 433, 432], [49, 50, 52, 57, 80, 79, 78, 77, 98, 97, 433, 432], [49, 48, 47, 46, 45, 4, 166, 98, 77, 76, 75, 433, 432], [49, 50, 57, 58, 59, 63, 64, 68, 69, 70, 71, 72, 73, 436, 435, 434, 433, 432], [49, 48, 76, 97, 433, 432], [49, 48, 47, 77, 76, 46, 45, 4, 166, 98, 97, 433, 432], [49, 50, 52, 53, 54, 55, 56, 57, 58, 90, 94, 95, 96, 97, 433, 432], [49, 48, 47, 46, 45, 44, 248, 375, 389, 390, 430, 431, 432], [49, 48, 47, 46, 45, 74, 73, 436, 435, 434, 433, 432], [49, 48, 47, 8, 7, 6, 5, 44, 45, 4, 98, 97, 433, 432], [49, 50, 57, 56, 60, 59, 63, 64, 65, 66, 67, 68, 69, 70, 71, 72, 73, 435, 434, 433, 432], [49, 48, 9, 8, 7, 6, 5, 44, 4, 45, 98, 97, 433, 432], [49, 48, 46, 45, 98, 77, 76, 97, 433, 432], [49, 48, 47, 9, 8, 7, 6, 5, 4, 98, 97, 433, 432], [49, 50, 52, 53, 54, 55, 56, 59, 58, 90, 91, 92, 93, 94, 95, 96, 97, 433, 432], [49, 50, 52, 53, 54, 55, 56, 57, 58, 59, 63, 62, 94, 95, 96, 97, 433, 432], [49, 48, 47, 46, 45, 4, 166, 98, 97, 96, 95, 94, 66, 67, 68, 69, 70, 71, 72, 73, 436, 435, 434, 433, 432], [49, 50, 51, 52, 53, 54, 55, 56, 60, 59, 63, 64, 65, 66, 94, 95, 96, 97, 433, 432], [49, 50, 51, 52, 13, 12, 11, 10, 9, 8, 7, 6, 5, 4, 98, 97, 433, 432], [49, 50, 52, 53, 54, 55, 56, 59, 60, 61, 62, 63, 64, 65, 66, 94, 95, 96, 97, 433, 432], [49, 50, 52, 57, 80, 79, 78, 77, 76, 97, 433, 432], [49, 50, 57, 56, 60, 59, 63, 64, 65, 66, 67, 68, 69, 70, 71, 72, 73, 436, 435, 434, 433, 432], [49, 47, 46, 45, 4, 98, 97, 433, 432], [49, 79, 78, 77, 76, 46, 45, 98, 97, 433, 432], [49, 50, 51, 52, 53, 54, 55, 56, 57, 58, 90, 91, 96, 97, 433, 432], [49, 48, 47, 46, 76, 77, 78, 100, 99, 98, 97, 433, 432], [49, 48, 47, 46, 45, 4, 98, 77, 76, 75, 97, 433, 432], [49, 48, 47, 46, 45, 166, 98, 97, 433, 430, 432], [49, 50, 57, 56, 59, 60, 61, 62, 63, 67, 66, 94, 95, 96, 97, 433, 432], [49, 50, 51, 52, 57, 80, 79, 78, 77, 76, 75, 74, 73, 435, 434, 433, 432], [49, 48, 47, 46, 45, 98, 97, 433, 390, 430, 431, 432], [49, 10, 9, 8, 7, 47, 46, 45, 98, 97, 433, 432], [49, 10, 9, 8, 47, 46, 45, 4, 98, 97, 433, 432], [49, 48, 47, 46, 45, 4, 166, 98, 77, 76, 96, 97, 433, 432], [49, 48, 47, 46, 45, 98, 99, 100, 78, 77, 76, 75, 74, 73, 435, 434, 433, 432], [49, 50, 57, 58, 59, 60, 61, 62, 63, 64, 67, 66, 94, 95, 96, 97, 433, 432], [49, 50, 51, 52, 57, 58, 59, 60, 61, 62, 63, 94, 95, 96, 97, 433, 432], [49, 50, 51, 52, 57, 80, 79, 78, 77, 76, 75, 74, 73, 436, 435, 434, 433, 432], [49, 48, 9, 8, 7, 47, 46, 45, 98, 97, 433, 432], [49, 48, 9, 8, 47, 46, 45, 4, 98, 97, 433, 432], [49, 48, 47, 46, 76, 77, 78, 98, 97, 433, 432], [49, 48, 47, 46, 45, 4, 166, 98, 97, 76, 75, 433, 432], [49, 48, 47, 46, 45, 44, 4, 166, 98, 97, 433, 430, 432], [49, 50, 57, 61, 60, 59, 63, 62, 94, 95, 96, 97, 433, 432], [49, 48, 47, 46, 45, 98, 99, 100, 78, 77, 76, 75, 74, 73, 436, 435, 434, 433, 432], [49, 50, 51, 52, 53, 54, 55, 56, 59, 63, 94, 95, 96, 97, 433, 432], [49, 10, 9, 8, 7, 6, 5, 43, 44, 45, 98, 97, 433, 432], [49, 79, 78, 77, 47, 46, 45, 98, 97, 433, 432], [49, 48, 47, 46, 45, 44, 248, 375, 2, 3, 4, 166, 98, 97, 433, 432], [49, 50, 52, 12, 11, 10, 9, 8, 7, 6, 5, 4, 166, 98, 97, 433, 432], [49, 50, 51, 52, 53, 54, 55, 56, 59, 60, 61, 62, 94, 95, 96, 97, 433, 432], [49, 10, 9, 8, 7, 6, 45, 4, 166, 98, 97, 433, 432], [49, 48, 47, 46, 75, 74, 73, 435, 434, 433, 432], [49, 48, 47, 46, 45, 98, 78, 77, 76, 75, 74, 73, 435, 434, 433, 432], [49, 48, 9, 8, 7, 6, 5, 43, 44, 45, 98, 97, 433, 432], [49, 48, 47, 46, 45, 4, 166, 98, 99, 78, 77, 76, 97, 433, 432], [49, 11, 10, 9, 8, 7, 6, 5, 44, 45, 98, 97, 433, 432], [49, 50, 57, 58, 59, 60, 61, 62, 63, 64, 65, 66, 67, 68, 72, 73, 435, 434, 433, 432], [49, 48, 47, 46, 45, 44, 248, 247, 246, 2, 3, 4, 98, 97, 433, 432], [49, 48, 47, 77, 76, 75, 74, 73, 433, 432], [49, 48, 47, 46, 45, 44, 248, 249, 388, 389, 390, 430, 432], [49, 48, 9, 8, 7, 6, 45, 4, 166, 98, 97, 433, 432], [49, 50, 52, 12, 11, 10, 9, 8, 7, 6, 5, 4, 45, 98, 97, 433, 432], [49, 48, 47, 46, 45, 166, 98, 97, 433, 434, 430, 431, 432], [49, 50, 51, 52, 57, 58, 90, 94, 95, 96, 97, 433, 432], [49, 50, 51, 52, 53, 54, 55, 56, 57, 58, 59, 60, 61, 62, 63, 64, 65, 66, 67, 68, 69, 70, 71, 72, 73, 435, 434, 433, 432], [49, 48, 47, 7, 6, 45, 98, 97, 433, 432], [49, 48, 47, 8, 7, 6, 5, 44, 4, 166, 98, 97, 433, 432], [49, 48, 47, 46, 75, 74, 73, 436, 435, 434, 433, 432], [49, 48, 47, 46, 45, 98, 78, 77, 76, 75, 74, 73, 436, 435, 434, 433, 432], [49, 50, 52, 53, 54, 55, 56, 60, 61, 62, 63, 64, 65, 66, 94, 95, 96, 97, 433, 432], [49, 50, 51, 52, 53, 54, 55, 56, 57, 80, 79, 78, 99, 98, 97, 433, 432], [49, 50, 51, 52, 57, 58, 59, 63, 62, 94, 95, 96, 97, 433, 432], [49, 50, 52, 57, 58, 59, 63, 94, 95, 96, 97, 433, 432], [49, 48, 47, 46, 45, 44, 248, 375, 389, 390, 430, 432], [49, 50, 57, 58, 59, 60, 61, 62, 63, 64, 68, 67, 66, 94, 95, 96, 97, 433, 432], [49, 50, 57, 58, 59, 60, 61, 62, 63, 64, 65, 66, 67, 68, 72, 73, 436, 435, 434, 433, 432], [49, 48, 47, 46, 45, 98, 390, 430, 431, 432], [49, 50, 52, 57, 58, 59, 60, 61, 62, 94, 95, 96, 97, 433, 432], [49, 48, 47, 8, 7, 6, 5, 44, 4, 45, 98, 97, 433, 432], [49, 50, 51, 52, 53, 54, 55, 56, 57, 58, 59, 60, 61, 62, 63, 64, 65, 66, 67, 68, 69, 70, 71, 72, 73, 436, 435, 434, 433, 432], [49, 50, 57, 56, 60, 61, 62, 63, 67, 66, 94, 95, 96, 97, 433, 432], [49, 50, 57, 56, 59, 58, 90, 91, 96, 97, 433, 432], [49, 48, 47, 46, 76, 75, 74, 73, 433, 432], [49, 48, 47, 46, 45, 44, 237, 4, 166, 98, 97, 433, 432], [49, 48, 47, 46, 45, 44, 4, 166, 98, 97, 433, 434, 430, 431, 432], [49, 50, 57, 58, 90, 89, 92, 93, 94, 95, 96, 97, 433, 432], [49, 11, 10, 9, 48, 47, 46, 45, 98, 97, 433, 432], [49, 48, 47, 77, 76, 75, 45, 4, 166, 98, 97, 433, 432], [49, 48, 46, 76, 75, 74, 73, 435, 434, 433, 432], [49, 48, 47, 46, 45, 75, 76, 77, 78, 99, 98, 97, 433, 432], [49, 48, 46, 45, 166, 4, 98, 97, 433, 432], [49, 48, 47, 46, 45, 98, 97, 433, 390, 430, 432], [49, 50, 52, 53, 54, 55, 56, 57, 58, 59, 63, 64, 65, 66, 67, 68, 69, 70, 71, 72, 73, 435, 434, 433, 432], [49, 48, 47, 46, 45, 98, 166, 4, 44, 43, 42, 41, 40, 39, 73, 435, 434, 433, 432], [49, 48, 47, 46, 45, 4, 98, 77, 76, 75, 74, 433, 432], [49, 48, 47, 46, 45, 75, 74, 73, 433, 432], [49, 50, 57, 58, 59, 60, 61, 62, 63, 64, 68, 69, 70, 71, 72, 73, 435, 434, 433, 432], [49, 48, 47, 46, 45, 44, 248, 375, 390, 434, 433, 432], [49, 50, 52, 53, 54, 55, 56, 57, 61, 62, 63, 64, 65, 66, 94, 95, 96, 97, 433, 432], [49, 48, 47, 46, 45, 44, 248, 375, 374, 391, 390, 430, 431, 432], [49, 48, 47, 46, 45, 44, 5, 4, 166, 98, 77, 76, 75, 74, 73, 435, 434, 433, 432], [49, 50, 57, 58, 62, 63, 67, 66, 94, 95, 96, 97, 433, 432], [49, 50, 57, 58, 59, 60, 61, 62, 63, 64, 65, 66, 67, 68, 69, 70, 71, 72, 73, 74, 75, 76, 97, 433, 432], [49, 50, 51, 52, 53, 54, 55, 56, 60, 61, 62, 94, 95, 96, 97, 433, 432], [49, 50, 57, 58, 59, 60, 61, 62, 66, 94, 95, 96, 97, 433, 432], [49, 50, 51, 52, 12, 11, 10, 9, 8, 7, 6, 5, 4, 98, 97, 433, 432], [49, 48, 46, 76, 75, 74, 73, 436, 435, 434, 433, 432], [49, 50, 52, 53, 54, 55, 56, 57, 58, 59, 63, 64, 65, 66, 67, 68, 69, 70, 71, 72, 73, 436, 435, 434, 433, 432], [49, 48, 47, 46, 76, 75, 45, 4, 166, 98, 97, 433, 432], [49, 48, 47, 46, 45, 98, 166, 4, 44, 43, 42, 41, 40, 39, 73, 436, 435, 434, 433, 432], [49, 50, 11, 10, 9, 8, 7, 6, 5, 4, 166, 98, 97, 433, 432], [49, 79, 78, 77, 76, 75, 45, 98, 97, 433, 432], [49, 48, 46, 45, 75, 74, 73, 435, 434, 433, 432], [49, 50, 57, 58, 59, 60, 61, 62, 63, 64, 68, 69, 70, 71, 72, 73, 436, 435, 434, 433, 432], [49, 50, 51, 52, 53, 54, 55, 56, 57, 58, 59, 63, 67, 66, 94, 95, 96, 97, 433, 432], [49, 48, 47, 46, 45, 44, 5, 4, 166, 98, 77, 76, 75, 74, 73, 436, 435, 434, 433, 432], [49, 48, 47, 46, 45, 44, 43, 42, 41, 38, 39, 73, 435, 434, 433, 432], [49, 50, 51, 52, 53, 54, 55, 56, 60, 59, 58, 90, 91, 92, 93, 94, 95, 96, 97, 433, 432], [49, 50, 57, 61, 62, 63, 59, 58, 90, 91, 92, 93, 94, 95, 96, 97, 433, 432], [49, 48, 47, 46, 45, 4, 166, 98, 97, 433, 434, 389, 390, 430, 431, 432], [49, 50, 57, 61, 62, 63, 67, 68, 69, 70, 71, 72, 73, 435, 434, 433, 432], [49, 48, 77, 76, 46, 45, 4, 166, 98, 97, 433, 432], [49, 50, 11, 10, 9, 8, 7, 6, 5, 4, 45, 98, 97, 433, 432], [49, 50, 57, 58, 62, 61, 60, 59, 63, 64, 65, 66, 94, 95, 96, 97, 433, 432], [49, 48, 47, 46, 45, 98, 99, 78, 77, 76, 75, 97, 433, 432], [49, 48, 46, 45, 75, 74, 73, 436, 435, 434, 433, 432], [49, 48, 47, 46, 45, 4, 98, 97, 433, 434, 431, 430, 432], [49, 48, 47, 46, 45, 98, 97, 433, 434, 435, 73, 436, 437, 438, 431, 432], [49, 48, 47, 8, 7, 6, 5, 43, 44, 45, 98, 97, 433, 432], [49, 48, 47, 46, 45, 6, 4, 98, 97, 433, 432], [49, 48, 47, 46, 45, 166, 98, 97, 433, 434, 430, 432], [49, 48, 47, 46, 45, 44, 43, 42, 41, 38, 39, 73, 436, 435, 434, 433, 432], [49, 48, 47, 46, 45, 44, 237, 42, 41, 40, 39, 73, 74, 433, 432], [49, 50, 57, 58, 59, 63, 64, 65, 66, 67, 68, 69, 70, 270, 269, 268, 267, 432], [49, 48, 47, 8, 7, 6, 45, 4, 166, 98, 97, 433, 432], [49, 50, 57, 58, 59, 63, 62, 61, 65, 66, 94, 95, 96, 97, 433, 432], [49, 48, 47, 46, 45, 4, 166, 98, 97, 75, 74, 433, 432], [49, 50, 57, 61, 62, 63, 67, 68, 69, 70, 71, 72, 73, 436, 435, 434, 433, 432], [49, 50, 57, 58, 90, 89, 88, 92, 93, 94, 95, 96, 97, 433, 432], [49, 48, 47, 46, 45, 44, 4, 98, 77, 76, 75, 74, 73, 435, 434, 433, 432], [49, 50, 57, 61, 60, 59, 63, 64, 65, 66, 67, 68, 69, 70, 71, 72, 73, 435, 434, 433, 432], [49, 50, 51, 52, 53, 54, 55, 56, 57, 61, 62, 94, 95, 96, 97, 433, 432], [49, 48, 47, 46, 45, 98, 390, 430, 432], [49, 48, 47, 46, 45, 4, 98, 97, 76, 75, 74, 433, 432], [49, 50, 57, 61, 65, 66, 94, 95, 96, 97, 433, 432], [49, 50, 79, 78, 77, 76, 75, 97, 433, 432], [49, 48, 47, 46, 45, 44, 5, 4, 166, 98, 97, 433, 430, 431, 432], [49, 48, 47, 46, 45, 44, 5, 4, 166, 98, 97, 76, 75, 74, 73, 435, 434, 433, 432], [49, 48, 47, 46, 45, 98, 77, 76, 75, 74, 73, 433, 432], [49, 48, 47, 46, 45, 44, 4, 98, 77, 76, 75, 74, 73, 436, 435, 434, 433, 432], [49, 48, 47, 46, 45, 44, 4, 166, 98, 97, 433, 434, 430, 432], [49, 50, 57, 61, 60, 59, 63, 64, 65, 66, 67, 68, 69, 70, 71, 72, 73, 436, 435, 434, 433, 432], [49, 48, 46, 76, 77, 98, 97, 433, 432], [49, 48, 47, 46, 45, 44, 5, 4, 98, 77, 76, 97, 433, 432], [49, 48, 77, 47, 46, 45, 4, 166, 98, 97, 433, 432], [49, 48, 47, 46, 45, 44, 43, 42, 41, 40, 39, 73, 74, 75, 433, 432], [49, 48, 47, 46, 45, 98, 97, 433, 434, 435, 436, 437, 438, 431, 430, 432], [49, 48, 47, 46, 45, 166, 98, 97, 75, 74, 73, 435, 434, 433, 432], [49, 48, 47, 46, 45, 44, 5, 4, 166, 98, 97, 433, 434, 431, 432], [49, 48, 47, 46, 45, 44, 248, 375, 374, 373, 372, 393, 392, 391, 390, 430, 431, 432], [49, 48, 47, 77, 46, 45, 4, 166, 98, 97, 433, 432], [49, 48, 76, 75, 74, 73, 435, 434, 433, 432], [49, 48, 47, 46, 45, 44, 248, 375, 376, 389, 434, 433, 432], [49, 50, 51, 52, 57, 58, 59, 63, 64, 65, 66, 67, 68, 69, 70, 71, 72, 73, 435, 434, 433, 432], [49, 50, 52, 53, 54, 55, 56, 60, 59, 63, 64, 65, 66, 94, 95, 96, 97, 433, 432], [49, 48, 47, 46, 45, 44, 5, 4, 166, 98, 97, 76, 75, 74, 73, 436, 435, 434, 433, 432], [49, 11, 10, 9, 8, 7, 6, 5, 4, 44, 45, 98, 97, 433, 432], [49, 48, 46, 45, 98, 77, 76, 75, 74, 73, 435, 434, 433, 432], [49, 50, 51, 52, 57, 61, 62, 63, 64, 65, 66, 94, 95, 96, 97, 433, 432], [49, 50, 51, 52, 53, 54, 55, 56, 59, 60, 61, 62, 63, 94, 95, 96, 97, 433, 432], [49, 50, 52, 13, 12, 11, 10, 9, 8, 7, 6, 5, 4, 98, 97, 433, 432], [49, 50, 57, 58, 59, 62, 94, 95, 96, 97, 433, 432], [49, 48, 47, 46, 45, 166, 98, 97, 75, 74, 73, 436, 435, 434, 433, 432], [49, 50, 57, 58, 59, 63, 64, 65, 66, 94, 93, 92, 91, 96, 97, 433, 432], [49, 11, 10, 9, 8, 47, 46, 45, 98, 97, 433, 432], [49, 48, 76, 75, 74, 73, 436, 435, 434, 433, 432], [49, 48, 47, 46, 45, 44, 248, 375, 374, 391, 390, 430, 432], [49, 50, 57, 58, 61, 62, 94, 95, 96, 97, 433, 432], [49, 50, 52, 53, 54, 55, 56, 57, 58, 90, 91, 96, 97, 433, 432], [49, 50, 57, 56, 60, 59, 63, 67, 66, 94, 95, 96, 97, 433, 432], [49, 79, 78, 48, 47, 46, 45, 98, 97, 433, 432], [49, 48, 47, 46, 45, 44, 4, 166, 98, 97, 75, 74, 73, 435, 434, 433, 432], [49, 50, 57, 56, 60, 59, 58, 90, 94, 95, 96, 97, 433, 432], [49, 50, 51, 52, 57, 58, 59, 63, 64, 65, 66, 67, 68, 69, 70, 71, 72, 73, 436, 435, 434, 433, 432], [49, 50, 57, 80, 79, 78, 77, 48, 47, 46, 45, 98, 97, 433, 432], [49, 48, 78, 77, 76, 46, 45, 4, 166, 98, 97, 433, 432], [49, 79, 78, 77, 46, 45, 98, 97, 433, 432], [49, 48, 47, 46, 77, 78, 100, 99, 98, 97, 433, 432], [49, 50, 52, 57, 80, 79, 78, 77, 76, 75, 74, 73, 435, 434, 433, 432], [49, 48, 46, 45, 98, 77, 76, 75, 74, 73, 436, 435, 434, 433, 432], [49, 50, 57, 58, 59, 63, 64, 65, 66, 94, 93, 92, 96, 97, 433, 432], [49, 48, 46, 47, 77, 98, 97, 433, 432], [49, 48, 47, 46, 45, 44, 4, 98, 97, 433, 430, 431, 432], [49, 48, 47, 46, 45, 44, 4, 98, 97, 76, 75, 74, 73, 435, 434, 433, 432], [49, 48, 77, 76, 75, 74, 73, 433, 432], [49, 50, 57, 58, 59, 63, 64, 65, 66, 67, 68, 69, 70, 71, 72, 73, 74, 75, 97, 433, 432], [49, 50, 57, 56, 59, 63, 67, 68, 69, 70, 71, 72, 73, 435, 434, 433, 432], [49, 48, 47, 46, 45, 44, 4, 166, 98, 97, 75, 74, 73, 436, 435, 434, 433, 432], [49, 50, 51, 11, 10, 9, 8, 7, 6, 45, 98, 97, 433, 432], [49, 48, 47, 46, 45, 44, 4, 98, 97, 433, 434, 431, 432], [49, 48, 47, 46, 45, 4, 166, 98, 97, 433, 434, 435, 436, 437, 438, 431, 432], [49, 50, 52, 57, 58, 59, 60, 61, 62, 63, 94, 95, 96, 97, 433, 432], [49, 48, 47, 46, 45, 4, 44, 237, 42, 41, 40, 39, 73, 435, 434, 433, 432], [49, 48, 47, 46, 45, 4, 166, 98, 97, 433, 434, 389, 390, 430, 432], [49, 50, 52, 57, 80, 79, 78, 77, 76, 75, 74, 73, 436, 435, 434, 433, 432], [49, 48, 47, 46, 45, 44, 43, 42, 41, 40, 39, 73, 433, 432], [49, 10, 9, 8, 7, 6, 5, 44, 4, 98, 97, 433, 432], [49, 48, 47, 46, 45, 44, 237, 42, 43, 5, 4, 98, 97, 433, 432], [49, 48, 47, 46, 45, 44, 43, 42, 41, 40, 436, 73, 435, 434, 433, 432], [49, 48, 47, 46, 7, 6, 45, 98, 97, 433, 432], [49, 48, 47, 46, 45, 98, 97, 76, 75, 74, 73, 433, 432], [49, 50, 57, 58, 59, 63, 64, 67, 68, 69, 70, 71, 72, 73, 435, 434, 433, 432], [49, 48, 47, 46, 45, 44, 4, 98, 97, 76, 75, 74, 73, 436, 435, 434, 433, 432], [49, 48, 47, 46, 77, 78, 98, 97, 433, 432], [49, 50, 51, 52, 53, 54, 55, 56, 59, 63, 62, 94, 95, 96, 97, 433, 432], [49, 50, 52, 53, 54, 55, 56, 59, 63, 94, 95, 96, 97, 433, 432], [49, 50, 57, 56, 59, 63, 67, 68, 69, 70, 71, 72, 73, 436, 435, 434, 433, 432], [49, 48, 9, 8, 7, 6, 5, 44, 4, 98, 97, 433, 432], [49, 48, 47, 7, 6, 4, 166, 98, 97, 433, 432], [49, 48, 47, 46, 45, 98, 99, 78, 77, 76, 75, 74, 433, 432], [49, 48, 47, 46, 45, 4, 98, 97, 96, 95, 94, 66, 67, 68, 69, 70, 71, 72, 73, 435, 434, 433, 432], [49, 50, 52, 53, 54, 55, 56, 59, 60, 61, 62, 94, 95, 96, 97, 433, 432], [49, 48, 46, 47, 77, 76, 97, 433, 432], [49, 48, 47, 46, 45, 4, 44, 237, 42, 41, 40, 39, 73, 436, 435, 434, 433, 432], [49, 48, 47, 46, 45, 44, 248, 388, 389, 390, 434, 433, 432], [49, 48, 47, 77, 76, 75, 74, 73, 72, 71, 70, 69, 68, 67, 66, 94, 95, 96, 97, 433, 432], [49, 50, 57, 58, 59, 63, 64, 65, 66, 67, 68, 69, 70, 71, 72, 73, 74, 75, 76, 77, 98, 97, 433, 432], [49, 48, 47, 46, 45, 4, 98, 77, 76, 75, 433, 432], [49, 48, 78, 77, 47, 46, 45, 4, 166, 98, 97, 433, 432], [49, 48, 46, 45, 44, 43, 42, 41, 40, 39, 73, 435, 434, 433, 432], [49, 50, 57, 80, 79, 78, 77, 76, 46, 45, 4, 166, 98, 97, 433, 432], [49, 48, 47, 77, 76, 46, 45, 4, 98, 97, 433, 432], [49, 48, 46, 45, 98, 97, 433, 430, 431, 432], [49, 50, 57, 58, 59, 63, 64, 67, 68, 69, 70, 71, 72, 73, 436, 435, 434, 433, 432], [49, 48, 46, 45, 98, 97, 76, 75, 74, 73, 435, 434, 433, 432], [49, 50, 57, 58, 59, 60, 61, 91, 92, 93, 94, 95, 96, 97, 433, 432], [49, 50, 51, 52, 53, 54, 55, 56, 57, 58, 62, 63, 64, 65, 66, 94, 95, 96, 97, 433, 432], [49, 48, 47, 7, 6, 4, 45, 98, 97, 433, 432], [49, 48, 47, 46, 45, 44, 237, 42, 41, 40, 436, 435, 434, 433, 432], [49, 48, 47, 46, 74, 433, 432]]\n",
      "[0.33518512681562507, 0.47201648064084689, 0.5269147662488527, 0.6099228756677556, 0.61514225537988754, 0.66121802199182145, 0.67004054098789334, 0.67729930485398815, 0.6792102525157141, 0.71611630759982725, 0.72128804629041809, 0.72655272814308958, 0.73216960811617571, 0.7373009361537437, 0.75242960519757918, 0.75583629583028111, 0.75915358435719393, 0.76477046433028006, 0.76604663608931123, 0.76816249069269649, 0.76904212210801159, 0.77115797671139685, 0.77316473723482637, 0.77430849235158128, 0.77795705270892734, 0.7787816172079125, 0.77943982038914927, 0.77972933521229182, 0.78144882339617017, 0.78308838074649534, 0.78472060215877315, 0.78706570336925641, 0.78760895221428806, 0.78836916251611933, 0.79060443823298843, 0.79462638234166039, 0.79797518006568668, 0.80126801484866272, 0.80162374042303275, 0.80213084290571568, 0.80690934856568564, 0.80892484528549002, 0.80978391885409029, 0.8099460606490998, 0.8105579089230317, 0.81134776224622884, 0.8125734056428362, 0.81359462100644586, 0.81413065867920997, 0.82092050144331807, 0.82094492169731714, 0.8230607763007024, 0.82456906180066414, 0.82813853292682638, 0.82920458760466209, 0.8324095737558237, 0.83261436158911661, 0.83285314796200816, 0.83589557508698054, 0.83821819660775687, 0.83949097764759006, 0.84131363816697202, 0.84151245506006678, 0.84250723782229398, 0.8453575401916732, 0.85657281068049296, 0.86228344384577205, 0.86534843631851455, 0.86593200420311822, 0.86615435729514967, 0.86754120475714624, 0.86876632351997685, 0.86899699667586072, 0.86902894428721578, 0.87438320349306298, 0.88314048105825405, 0.88365133929547235, 0.88414503088086904, 0.88479390153841175, 0.8862608854842543, 0.88649184235392575, 0.88728281358115357, 0.88729989965281841, 0.88751264719712253, 0.88979241468084247, 0.89241414161872157, 0.89266764965550305, 0.89333048612586463, 0.89638022441833609, 0.89648999522567552, 0.89769492338834556, 0.89807650084218626, 0.90013855558302169, 0.90268298637958988, 0.90570734700584588, 0.9061620401416558, 0.9074217387433694, 0.90915752616035617, 0.90964849834883033, 0.90992475472335455, 0.91094950129525887, 0.91198676763122644, 0.91216789684705224, 0.91255306678093739, 0.91347886215807561, 0.91428203996541502, 0.9142837514504375, 0.91559471676146087, 0.91585559500328628, 0.91652208772846855, 0.91783384855056127, 0.91988366979525793, 0.92017064808581461, 0.92243949036515205, 0.92867337807874717, 0.93108842645747469, 0.93373021297202907, 0.93389482267289037, 0.9348065338909084, 0.93513365085289002, 0.93523677068034616, 0.93546710040006842, 0.93547063367912375, 0.93653922335614626, 0.93829000283962483, 0.93845509424825446, 0.93845801819304009, 0.93878221121023619, 0.93883592846497288, 0.94002259495747376, 0.94003444439103823, 0.94036809871791427, 0.94045983050324666, 0.94106631363051574, 0.94128548885832519, 0.94139012796193156, 0.94217890883423427, 0.94302993040973859, 0.94305930704088781, 0.94485191895515153, 0.94546394837632308, 0.94564888048753815, 0.9461343258533943, 0.94644068045442309, 0.94661527267931211, 0.94677741447432151, 0.94756593526350863, 0.94817911607145067, 0.94943616647312346, 0.94998324699271952, 0.95042597483166769, 0.95203705370611869, 0.95317093170464773, 0.95349275535939781, 0.95403374783510619, 0.95484949167941346, 0.95725643341825062, 0.95765886407074885, 0.95830138823411826, 0.95890345839445146, 0.95967099047303828, 0.96106032574966171, 0.96130742442809491, 0.96194994859146443, 0.9623178339964501, 0.96312044961649868, 0.96398327767355163, 0.9649698867520482, 0.96783762689445052, 0.96851860666925682, 0.96959957710020095, 0.97087433897786457, 0.97379359320508629, 0.97474751606351484, 0.97496789500260239, 0.97504955043297858, 0.97590944780847155, 0.97745277516925588, 0.97806480459042744, 0.97825695186103312, 0.97837461578688356, 0.97861701713085036, 0.98058477497568863, 0.98184877977208307, 0.98233904193237054, 0.98358973664745231, 0.98376723704039659, 0.9844203224345931, 0.98516833810820503, 0.98539400096599294, 0.98651722785273888, 0.98654103802237714, 0.98741579739774266, 0.9877421237934545, 0.9888361852977664, 0.98955165047216109, 0.9897048194989142, 0.99013286593342686, 0.99036891928712956, 0.99146392804688832, 0.9915230483360179, 0.99187382280879621, 0.99227184668714263, 0.99241547863622226, 0.99318828844763063, 0.993329930642458, 0.99335337985626049, 0.99340416450571467, 0.99369571398742462, 0.99426200852365954, 0.99493272999904414, 0.99524872547935184, 0.99535590933006313, 0.99535811611125247, 0.99539669023756006, 0.99662566052504453, 0.99669120000612499, 0.99861879529879216, 0.99911479767099398, 0.99974801420823212, 0.99999908545159066, 1.0006191132119853, 1.0009401832183584, 1.001338966062429, 1.001513558287318, 1.0016757000823275, 1.0027633580283402, 1.0030774016794566, 1.003166072934808, 1.0033322000301848, 1.0042356752718784, 1.0048684728552857, 1.0053242604396737, 1.0055903434840729, 1.0062829995647751, 1.0086533466369916, 1.0094150933356314, 1.0095980646771507, 1.0097585760380114, 1.009877662408754, 1.0102147473232461, 1.011713919280536, 1.0121547190262565, 1.012593550695851, 1.0135376025748941, 1.0138633076805923, 1.0140102383292231, 1.0145670857261191, 1.0147094052992363, 1.0147852421147834, 1.0149087959475578, 1.015447068958313, 1.0167645856872605, 1.0168864002989202, 1.0170211786486976, 1.0176824718707391, 1.0184379867512847, 1.0185573563049037, 1.0193008148083376, 1.0196256123191587, 1.019868172360054, 1.0203419819248394, 1.0205349606562664, 1.0209763847060909, 1.0215408364708867, 1.0218566910714508, 1.0222943244905671, 1.0226283714880755, 1.0227236592110942, 1.0230922393094761, 1.0232117221745369, 1.0232230869280217, 1.0232741726765047, 1.0239725456748361, 1.0239905422821856, 1.0242604349332136, 1.0262769318454217, 1.0263722195684404, 1.0263902843865129, 1.0265230775007395, 1.0272008710863505, 1.0290623353255657, 1.0294964089580407, 1.0299478360409844, 1.0299985415595678, 1.0301618399510866, 1.0305740446824116, 1.0308494314436967, 1.0310323315263299, 1.0311603808021277, 1.0316706008339922, 1.0317012541887591, 1.0334727239176424, 1.0335410394324629, 1.0339284855565141, 1.0341558668208279, 1.035407724417162, 1.0357934243945437, 1.0361539624495106, 1.0365899707111623, 1.0387777942366025, 1.0391494484682109, 1.0392612703429331, 1.0393164176876739, 1.0414155134607448, 1.0425102695354562, 1.0425387008310678, 1.0430565594148735, 1.0434190071964276, 1.043779870960142, 1.0443946742096888, 1.0445796176242372, 1.0451355029834402, 1.0454934915685463, 1.0458957255635273, 1.046052045433574, 1.0461588298928024, 1.0463745595072842, 1.0464798521740521, 1.0475521923100954, 1.0477808551204808, 1.0481309890021404, 1.0483024501137204, 1.0485939995954305, 1.0495795456584456, 1.0496353341202567, 1.0500231198646302, 1.0500252149067282, 1.0503102159832973, 1.0522833008993968, 1.0524260705866828, 1.054013083279, 1.0541947658990427, 1.0547910657280861, 1.0548067953202143, 1.054822695845812, 1.0554095025851038, 1.0555173988199911, 1.0558362784714392, 1.0563883976311825, 1.0566609495502119, 1.0571573888375505, 1.057661643636346, 1.0579086218985383, 1.058039851030649, 1.0581328391825962, 1.0582304856381903, 1.0583424299935116, 1.058483610069594, 1.0585969856890949, 1.0594598137461479, 1.0602038942327268, 1.06102638255819, 1.0616584750246845, 1.0619909903508578, 1.0620139345170974, 1.0624777070148546, 1.0625857136436621, 1.0630391181140588, 1.0632120532437055, 1.0638481056412823, 1.0644963502851565, 1.0645390752459809, 1.0648407424689521, 1.065006854682732, 1.0651549727174441, 1.065342187085119, 1.0655738528761785, 1.0664177485367732, 1.0665293417706183, 1.0665492833243233, 1.0666122048885418, 1.0679197802826967, 1.0684893028262983, 1.0685448380301246, 1.068816153856011, 1.0692213342633761, 1.0694386656490502, 1.0696806872669731, 1.0700663088941194, 1.0717771894911905, 1.0718621265570376, 1.0722674927631024, 1.0726760067592338, 1.0726761732856733, 1.0727129289178172, 1.0727337681068434, 1.073518347235952, 1.0737245304909766, 1.0738585381461836, 1.0744805817907843, 1.0745952323460588, 1.0752286940375964, 1.0756672822901947, 1.0758746703140967, 1.0760915220946492, 1.0761657901769563, 1.0763614892751634, 1.0763823284641896, 1.0774282170095517, 1.0774503660572337, 1.0779323086299493, 1.0779905249174819, 1.0791913229326029, 1.0794151141921067, 1.0795274904281649, 1.0798906608661096, 1.0800246497973165, 1.0801835532918724, 1.0808717280166897, 1.0815808689872952, 1.0818691910064775, 1.0821405044007018, 1.0825184082211365, 1.083176050785511, 1.0833243291977717, 1.0843601747506311, 1.0844112635973657, 1.0845202883740361, 1.0845216677062208, 1.0846014342390358, 1.0846838095012303, 1.0850601255590924, 1.0852945019212505, 1.0857222289083892, 1.0860586664101335, 1.0860855110983594, 1.0861557051487791, 1.0861669685784827, 1.0865335584450941, 1.0870655143320387, 1.0882899879399508, 1.0883323698585765, 1.0889273539078344, 1.0894739407129905, 1.089738544596256, 1.0897410474183529, 1.0899031892133624, 1.0901821188024403, 1.0906917100025495, 1.0908927190909639, 1.0910522480575164, 1.0913048908104912, 1.0915955724486184, 1.0921846380107234, 1.0923459296064828, 1.0925619412121641, 1.0925666815015178, 1.0925735559693017, 1.0930135617441865, 1.0931225010703367, 1.0931554934242584, 1.0935266436756272, 1.0935517495707083, 1.0937631693784842, 1.0938729065231876, 1.0939154168990786, 1.0943135757287605, 1.0946825361049031, 1.0951327420593402, 1.0955621675202183, 1.0955685015229142, 1.0957348122196735, 1.0958331983680694, 1.0961277248659202, 1.09650234429826, 1.0968199484880221, 1.0970689120110815, 1.0971752040329732, 1.0974369864390734, 1.0975531453874943, 1.0976780221236035, 1.0979504738686443, 1.0979548450228793, 1.0980676208363482, 1.0986426090074044, 1.0987813024166864, 1.0994146096267097, 1.100033788591446, 1.1003628931705371, 1.1011853814960002, 1.1012017057448404, 1.101378137782058, 1.1018845858499255, 1.1019638734410337, 1.1020021397550848, 1.1026791407284866, 1.1028762817789568, 1.1029187483983516, 1.1031652667935958, 1.1038790207896643, 1.1049676068276952, 1.1052085015913031, 1.1053499604944788, 1.1053509374791113, 1.1056221406979456, 1.1063702529447572, 1.1068138271509418, 1.1070834614310805, 1.1073243561946886, 1.1073349245415038, 1.1077056928030866, 1.1080956614910888, 1.1088617771743203, 1.1089994978364572, 1.1090423038838102, 1.109418851242973, 1.1096118246143736, 1.1096321662498099, 1.1098396862047832, 1.1099051319408635, 1.110624947030308, 1.1106716481105714, 1.1106837222655301, 1.1115347058463583, 1.1115788698887366, 1.1117941087789822, 1.1120132869238508, 1.1120556744455563, 1.1124917258508535, 1.1126681898014965, 1.1127408016336933, 1.1128351722234835, 1.1129559454598874, 1.1134516568365236, 1.1136599671282974, 1.113908997257431, 1.1141289976264948, 1.1143202084679174, 1.1143322826228763, 1.114754231283869, 1.1152464727448081, 1.1152743173559057, 1.1153876929754067, 1.1154235260838175, 1.1155017336577921, 1.115661847281197, 1.116181969086623, 1.1162505210324596, 1.117124483645195, 1.1173085274856436, 1.1173100865116836, 1.1175704166539242, 1.1176230538884215, 1.1179474131217912, 1.1181753251720192, 1.1206888998862672, 1.1209795640239779, 1.1212516762598148, 1.1215539984275125, 1.1215942066128235, 1.121843513250655, 1.1222336348624002, 1.1226774071589467, 1.1227505196752476, 1.1228180658907023, 1.1229038356580454, 1.1233261969178843, 1.1234091088815785, 1.1234833281355818, 1.1235832762488405, 1.1240080752418833, 1.1241038088330049, 1.1241551206513476, 1.1242964700541953, 1.1244534043756291, 1.1245789728749789, 1.1252025587848584, 1.1263259675162929, 1.1263830042973828, 1.1263990800325936, 1.1265387781152982, 1.1266339178114804, 1.1268347801971363, 1.1269747572752304, 1.1270947266259765, 1.127656635599229, 1.1278841713123322, 1.1282608961996821, 1.1283351832759565, 1.1283544021612399, 1.1286335480451282, 1.1291032005123645, 1.1295342641339985, 1.1296188445466462, 1.1298607215284926, 1.1304833405544823, 1.1305655678982005, 1.130571284778523, 1.1309811673679497, 1.1310640757849619, 1.1313105595326234, 1.1315327316696782, 1.1317991490514729, 1.1318724919001475, 1.132187263155285, 1.1321935478761038, 1.1322280440627821, 1.1322821084024743, 1.1324705441367835, 1.1328305942379548, 1.1328965753258629, 1.1330255669059082, 1.1345365831593592, 1.1347889464741157, 1.1352655885684573, 1.1356979804406664, 1.1358168140302867, 1.1359789558252964, 1.1361584135649587, 1.1364791545953012, 1.1365299392447552, 1.136545135683209, 1.1367405603800234, 1.1367674766144833, 1.1368304392768125, 1.1368813110070271, 1.1369032595543753, 1.1370211926979028, 1.1373806574224252, 1.1374198963135085, 1.1377715370435801, 1.1382666091013258, 1.1382826987222474, 1.1393091155074482, 1.1395736085645198, 1.1396275161826424, 1.1398169747451654, 1.1400893581040497, 1.1401150364840833, 1.1401838627909713, 1.1401927875292561, 1.1405939567991006, 1.140669753055249, 1.1407218441138314, 1.1411279400561889, 1.141915169458672, 1.1419378903215764, 1.1420471673146195, 1.1421228723788439, 1.1421294637923345, 1.1421401959696185, 1.1422405724100346, 1.1426197670642462, 1.1429576758647944, 1.1430950857553968, 1.1431143533899968, 1.1431537785952459, 1.1432713325004049, 1.1433242657314058, 1.1437379184613958, 1.1443822530445815, 1.1444677991444716, 1.1446393330263587, 1.144801474821368, 1.1450925820649578, 1.1453509449408588, 1.1456196718082325, 1.1458891327673808, 1.1460369599553997, 1.146203176418497, 1.1462464471608533, 1.1465292518825676, 1.1465507874922394, 1.1467090162339759, 1.146972826088752, 1.1471080787847621, 1.1474649671095236, 1.1474718415773075, 1.147679268943631, 1.1477814015068133, 1.1481292941483718, 1.1483230641078266, 1.1484500351787141, 1.1486041172868244, 1.1490879272021195, 1.1492013028216204, 1.1492682321655787, 1.1495808217129089, 1.1497134687294952, 1.1499996466907085, 1.150031027667346, 1.1500641308786737, 1.1500846791175579, 1.1501993478495856, 1.1502112368602853, 1.1503289453622718, 1.1503390079321032, 1.1506330978276793, 1.150841592154445, 1.151039023323853, 1.1513984395513408, 1.1514006299062658, 1.1518980968924533, 1.1519716244651725, 1.1520602386874628, 1.1523608066735567, 1.1526370723026904, 1.1527089547481955, 1.1527318830681395, 1.1527388587109466]\n"
     ]
    }
   ],
   "source": [
    "pathList,alphas=correlation_data_utilities.converge_subopt_paths_betweenness(\n",
    "    wMatGraph,source=49,target=432,maxPaths=10000,verbose=True,giveAlphas=True)\n",
    "print(pathList)\n",
    "pathLengths=[calculatePathLength(wMatGraph,path) for path in pathList]\n",
    "print(pathLengths)"
   ]
  },
  {
   "cell_type": "code",
   "execution_count": 50,
   "metadata": {},
   "outputs": [
    {
     "data": {
      "image/png": "[encoded data removed]",
      "text/plain": [
       "<Figure size 432x288 with 1 Axes>"
      ]
     },
     "metadata": {
      "needs_background": "light"
     },
     "output_type": "display_data"
    },
    {
     "data": {
      "image/png": "[encoded data removed]",
      "text/plain": [
       "<Figure size 432x288 with 1 Axes>"
      ]
     },
     "metadata": {
      "needs_background": "light"
     },
     "output_type": "display_data"
    }
   ],
   "source": [
    "plt.plot(alphas)\n",
    "plt.loglog()\n",
    "plt.show()\n",
    "plt.plot(pathLengths)\n",
    "plt.show()"
   ]
  },
  {
   "cell_type": "markdown",
   "metadata": {},
   "source": [
    "## Compute Current Flow Betweenness for L50 - E180 based on reciprocal energy weights"
   ]
  },
  {
   "cell_type": "code",
   "execution_count": 51,
   "metadata": {},
   "outputs": [
    {
     "data": {
      "text/plain": [
       "array([[  0.00000000e+00,   7.97155396e-02,   0.00000000e+00, ...,\n",
       "          0.00000000e+00,   0.00000000e+00,   0.00000000e+00],\n",
       "       [  0.00000000e+00,   0.00000000e+00,   8.15182756e-02, ...,\n",
       "          0.00000000e+00,   0.00000000e+00,   0.00000000e+00],\n",
       "       [  0.00000000e+00,   0.00000000e+00,   0.00000000e+00, ...,\n",
       "          0.00000000e+00,   0.00000000e+00,   0.00000000e+00],\n",
       "       ..., \n",
       "       [  0.00000000e+00,   0.00000000e+00,   0.00000000e+00, ...,\n",
       "          0.00000000e+00,   2.83009508e-17,   2.51824000e-17],\n",
       "       [  0.00000000e+00,   0.00000000e+00,   0.00000000e+00, ...,\n",
       "          0.00000000e+00,   0.00000000e+00,   2.72959761e-16],\n",
       "       [  0.00000000e+00,   0.00000000e+00,   0.00000000e+00, ...,\n",
       "          0.00000000e+00,   0.00000000e+00,   0.00000000e+00]])"
      ]
     },
     "execution_count": 51,
     "metadata": {},
     "output_type": "execute_result"
    }
   ],
   "source": [
    "system='igps'\n",
    "variant='apo'\n",
    "nRes=454\n",
    "Tsim=310.15\n",
    "kb=0.0019872041\n",
    "magCut=kb*Tsim*1.0\n",
    "seqDelta=0\n",
    "#filter out desired interaction energy edges based\n",
    "#for the given system based upon energy and\n",
    "#sequence delta cutoffs\n",
    "matData=sigData[\n",
    "    (sigData['System']==system) & \\\n",
    "    (sigData['Variant']==variant) & \\\n",
    "    ((sigData['ResNum_1']-sigData['ResNum_2'])<seqDelta) &\n",
    "    ((sigData['E_Interact.Mean'].abs() - sigData['E_Interact.Std_Err']) > magCut)]\n",
    "tempMat=sp.sparse.coo_matrix(\n",
    "    (matData['E_Interact.Mean'],\n",
    "     (matData['ResNum_1']-1,matData['ResNum_2']-1)),\n",
    "    shape=(454,454))\n",
    "datMat=np.abs(tempMat.todense())\n",
    "nzInds=np.nonzero(datMat)\n",
    "\n",
    "btwMat=np.array(correlation_data_utilities.getBtwMat(\n",
    "    datMat,sources=sourceSet,targets=targetSet,verbose=False,verboseLevel=0,\n",
    "    useProgressBar=True,pbarFun=tqdm.tqdm_notebook))\n",
    "btwMat"
   ]
  },
  {
   "cell_type": "code",
   "execution_count": 52,
   "metadata": {},
   "outputs": [],
   "source": [
    "btwWeightMat=copy.deepcopy(btwMat+btwMat.T)\n",
    "btwWeightMat=np.array(btwWeightMat)\n",
    "nzInds=np.nonzero(btwWeightMat)\n",
    "btwWeightMat[nzInds]=-np.log(btwWeightMat[nzInds])\n",
    "btwWeightGraph=nx.from_numpy_array(btwWeightMat)"
   ]
  },
  {
   "cell_type": "markdown",
   "metadata": {},
   "source": [
    "## Visualize Distributions of Current Flow Betweenness 'weights' (reciprocal of current flow betweenness)"
   ]
  },
  {
   "cell_type": "code",
   "execution_count": 53,
   "metadata": {},
   "outputs": [
    {
     "data": {
      "image/png": "[encoded data removed]",
      "text/plain": [
       "<Figure size 432x288 with 1 Axes>"
      ]
     },
     "metadata": {
      "needs_background": "light"
     },
     "output_type": "display_data"
    },
    {
     "name": "stdout",
     "output_type": "stream",
     "text": [
      "4.4408920985e-16 9.45853552205 43.1713221359\n"
     ]
    }
   ],
   "source": [
    "btwWeights=[btwWeightGraph.edges()[edge]['weight'] for edge in btwWeightGraph.edges()]\n",
    "sns.distplot(btwWeights)\n",
    "plt.show()\n",
    "print(np.min(btwWeights),np.mean(btwWeights),np.max(btwWeights))"
   ]
  },
  {
   "cell_type": "markdown",
   "metadata": {},
   "source": [
    "## Compute paths between L50 - E180 using reciprocal of current flow betweenness as weights"
   ]
  },
  {
   "cell_type": "code",
   "execution_count": 54,
   "metadata": {},
   "outputs": [
    {
     "name": "stdout",
     "output_type": "stream",
     "text": [
      "1.000e+00, 2.727e-01, 1.176e-01, 6.522e-02, 4.138e-02, 2.857e-02, 2.091e-02, 1.596e-02, 1.258e-02, 1.017e-02, 9.642e-03, 7.991e-03, 7.597e-03, 4.926e-03, 4.965e-03, 4.902e-03, 3.268e-03, 2.924e-03, 3.851e-03, 2.692e-03, 2.433e-03, 2.210e-03, 1.739e-03, 1.603e-03, 1.481e-03, 1.593e-03, 1.270e-03, 1.374e-03, 1.277e-03, 1.190e-03, 1.112e-03, 1.042e-03, 1.112e-03, 1.041e-03, 8.584e-04, 8.102e-04, 6.592e-04, 7.281e-04, 6.903e-04, 5.639e-04, 6.254e-04, 5.952e-04, 5.672e-04, 6.910e-04, 5.134e-04, 4.221e-04, 5.369e-04, 4.501e-04, 4.316e-04, 4.720e-04, 3.410e-04, 4.889e-04, 3.659e-04, 3.523e-04, 3.394e-04, 2.812e-04, 3.165e-04, 3.483e-04, 3.766e-04, 2.832e-04, 2.739e-04, 2.650e-04, 2.926e-04, 2.480e-04, 2.404e-04, 2.331e-04, 2.261e-04, 1.885e-04, 2.136e-04, 2.075e-04, 2.300e-04, 1.680e-04, 2.174e-04, 1.851e-04, 2.055e-04, 1.751e-04, 1.946e-04, 1.892e-04, 1.386e-04, 2.020e-04, 1.532e-04, 1.495e-04, 1.665e-04, 1.422e-04, 1.389e-04, 1.165e-04, 1.328e-04, 1.481e-04, 1.087e-04, 1.240e-04, 1.213e-04, 1.187e-04, 1.162e-04, 1.137e-04, 9.555e-05, 1.246e-04, 1.218e-04, 8.964e-05, 1.025e-04, 1.146e-04, 9.831e-05, 9.639e-05, 1.079e-04, 9.258e-05, 9.083e-05, 8.912e-05, 9.982e-05, 1.220e-04, 1.075e-04, 8.211e-05, 1.034e-04, 9.019e-05, 7.753e-05, 1.084e-04, 8.515e-05, 6.285e-05, 8.228e-05, 7.079e-05, 5.974e-05, 6.855e-05, 7.697e-05, 5.686e-05, 6.526e-05, 6.422e-05, 7.215e-05, 6.214e-05, 6.117e-05, 6.023e-05, 7.608e-05, 5.828e-05, 5.740e-05, 6.454e-05, 6.352e-05, 6.251e-05, 5.390e-05, 5.312e-05, 5.235e-05, 5.160e-05, 5.087e-05, 5.726e-05, 4.940e-05, 5.562e-05, 5.479e-05, 4.729e-05, 4.664e-05, 4.601e-05, 5.825e-05, 5.737e-05, 4.403e-05, 4.961e-05, 4.284e-05, 4.829e-05, 4.762e-05, 4.697e-05, 4.058e-05, 4.006e-05, 3.956e-05, 3.907e-05, 3.858e-05, 3.811e-05, 4.298e-05, 4.243e-05, 3.667e-05, 3.623e-05, 4.595e-05, 4.033e-05, 3.982e-05, 3.444e-05, 3.886e-05, 3.361e-05, 3.323e-05, 3.751e-05, 3.705e-05, 3.206e-05, 3.620e-05, 4.020e-05, 3.969e-05, 3.053e-05, 2.590e-05, 2.989e-05, 2.957e-05, 2.925e-05, 3.304e-05, 2.860e-05, 3.232e-05, 2.798e-05, 3.162e-05, 2.738e-05, 3.478e-05, 2.677e-05, 3.026e-05, 2.621e-05, 2.963e-05, 2.931e-05, 2.539e-05, 2.513e-05, 2.488e-05, 2.814e-05, 2.784e-05, 2.755e-05, 2.726e-05, 2.698e-05, 3.333e-05, 2.639e-05, 1.962e-05, 2.911e-05, 2.242e-05, 2.537e-05, 2.512e-05, 2.796e-05, 2.460e-05, 2.436e-05, 2.112e-05, 2.390e-05, 2.072e-05, 2.054e-05, 2.324e-05, 2.016e-05, 1.998e-05, 1.980e-05, 2.520e-05, 1.943e-05, 1.926e-05, 2.180e-05, 1.891e-05, 2.141e-05, 2.122e-05, 1.841e-05, 2.084e-05, 2.579e-05, 2.044e-05, 2.026e-05, 1.758e-05, 1.991e-05, 2.464e-05, 1.711e-05, 1.696e-05, 1.683e-05, 1.669e-05, 1.655e-05, 2.109e-05, 2.089e-05, 1.612e-05, 1.599e-05, 1.812e-05, 1.573e-05, 1.783e-05, 2.207e-05, 1.751e-05, 1.736e-05, 1.722e-05, 1.495e-05, 1.905e-05, 1.680e-05, 1.873e-05, 1.857e-05, 1.434e-05, 1.625e-05, 1.210e-05, 1.999e-05, 1.587e-05, 1.378e-05, 1.173e-05, 1.358e-05, 1.348e-05, 1.529e-05, 1.517e-05, 1.693e-05, 1.493e-05, 1.481e-05, 1.470e-05, 1.277e-05, 1.629e-05, 1.258e-05, 1.249e-05, 1.417e-05, 1.581e-05, 1.569e-05, 1.384e-05, 1.374e-05, 1.363e-05, 1.185e-05, 1.344e-05, 1.168e-05, 1.325e-05, 1.152e-05, 1.469e-05, 1.297e-05, 1.448e-05, 1.278e-05, 1.111e-05, 1.417e-05, 1.251e-05, 1.087e-05, 1.234e-05, 1.225e-05, 1.065e-05, 1.359e-05, 1.349e-05, 1.487e-05, 1.035e-05, 1.466e-05, 1.020e-05, 1.158e-05, 1.007e-05, 1.143e-05, 9.935e-06, 9.873e-06, 1.121e-05, 1.390e-05, 1.243e-05, 1.370e-05, 1.089e-05, 1.082e-05, 1.209e-05, 1.067e-05, 1.060e-05, 1.053e-05, 1.177e-05, 9.099e-06, 9.045e-06, 1.027e-05, 1.021e-05, 1.266e-05, 8.813e-06, 1.001e-05, 8.705e-06, 7.421e-06, 9.833e-06, 8.553e-06, 9.714e-06, 8.451e-06, 8.402e-06, 9.543e-06, 9.484e-06, 9.426e-06, 9.368e-06, 9.311e-06, 8.101e-06, 9.202e-06, 9.146e-06, 7.958e-06, 7.913e-06, 1.011e-05, 1.005e-05, 8.876e-06, 8.823e-06, 8.771e-06, 8.719e-06, 7.587e-06, 9.694e-06, 7.499e-06, 8.520e-06, 7.414e-06, 9.474e-06, 7.329e-06, 8.327e-06, 8.279e-06, 8.232e-06, 9.205e-06, 8.135e-06, 8.089e-06, 7.040e-06, 7.003e-06, 7.959e-06, 8.900e-06, 7.867e-06, 6.847e-06, 8.751e-06, 6.771e-06, 6.736e-06, 7.656e-06, 8.562e-06, 7.569e-06, 7.528e-06, 7.486e-06, 8.373e-06, 9.247e-06, 7.357e-06, 8.229e-06, 6.368e-06, 8.141e-06, 8.095e-06, 7.157e-06, 6.231e-06, 6.200e-06, 7.048e-06, 6.136e-06, 6.976e-06, 6.939e-06, 6.903e-06, 6.867e-06, 6.831e-06, 5.948e-06, 6.762e-06, 6.727e-06, 7.527e-06, 6.656e-06, 6.622e-06, 6.588e-06, 8.187e-06, 5.704e-06, 7.293e-06, 5.646e-06, 7.220e-06, 5.589e-06, 7.147e-06, 7.109e-06, 6.287e-06, 5.476e-06, 5.450e-06, 6.198e-06, 6.167e-06, 6.136e-06, 6.106e-06, 6.076e-06, 6.046e-06, 6.017e-06, 6.733e-06, 5.213e-06, 5.929e-06, 5.900e-06, 5.139e-06, 5.845e-06, 5.817e-06, 5.789e-06, 5.761e-06, 5.734e-06, 6.418e-06, 5.677e-06, 7.059e-06, 6.321e-06, 6.289e-06, 5.564e-06, 5.538e-06, 5.512e-06, 6.853e-06, 5.457e-06, 5.432e-06, 5.406e-06, 5.381e-06, 6.024e-06, 4.665e-06, 5.307e-06, 5.941e-06, 5.913e-06, 5.232e-06, 5.857e-06, 5.829e-06, 5.800e-06, 4.492e-06, 5.111e-06, 5.088e-06, 5.065e-06, 5.671e-06, 5.018e-06, 4.996e-06, 4.353e-06, 5.570e-06, 5.544e-06, 4.906e-06, 4.885e-06, 4.256e-06, 5.447e-06, 4.219e-06, 4.801e-06, 4.183e-06, 4.760e-06, 4.148e-06, 5.309e-06, 4.112e-06, 4.680e-06, 4.659e-06, 4.060e-06, 4.621e-06, 4.027e-06, 4.582e-06, 5.132e-06, 5.109e-06, 4.522e-06, 4.502e-06, 5.042e-06, 4.463e-06, 4.999e-06, 3.873e-06, 4.407e-06, 5.483e-06, 4.913e-06, 4.349e-06, 4.871e-06, 4.849e-06, 4.293e-06, 4.275e-06, 3.726e-06, 4.770e-06, 4.222e-06, 4.205e-06, 4.710e-06, 5.209e-06, 4.668e-06, 4.133e-06, 5.655e-06, 4.096e-06, 4.079e-06, 4.063e-06, 3.542e-06, 4.031e-06, 3.514e-06, 4.000e-06, 4.978e-06, 3.472e-06, 4.445e-06, 3.935e-06, 3.919e-06, 3.417e-06, 3.890e-06, 3.874e-06, 3.859e-06, 3.844e-06, 3.829e-06, 3.814e-06, 3.799e-06, 3.784e-06, 3.770e-06, 3.287e-06, 3.741e-06, 4.192e-06, 4.175e-06, 3.697e-06, 4.601e-06, 3.667e-06, 3.653e-06, 3.639e-06, 3.625e-06, 3.611e-06, 3.597e-06, 4.031e-06, 3.124e-06, 3.557e-06, 3.101e-06, 3.531e-06, 3.518e-06, 3.505e-06, 3.056e-06, 3.045e-06, 3.467e-06, 3.885e-06, 3.870e-06, 3.427e-06, 3.414e-06, 3.402e-06, 4.235e-06, 3.796e-06, 2.943e-06, 3.351e-06, 2.922e-06, 2.912e-06, 3.316e-06, 2.891e-06, 4.114e-06, 2.870e-06, 3.676e-06, 2.849e-06, 3.649e-06, 3.232e-06, 3.220e-06, 3.209e-06, 3.596e-06, 3.185e-06, 2.778e-06, 3.558e-06, 3.151e-06, 3.140e-06, 3.129e-06, 3.118e-06, 3.495e-06, 3.096e-06, 3.085e-06, 3.074e-06, 3.063e-06, 3.433e-06, 3.041e-06, 2.652e-06, 3.021e-06, 3.010e-06, 3.748e-06, 2.988e-06, 2.978e-06, 3.338e-06, 2.957e-06, 2.579e-06, 2.937e-06, 2.927e-06, 3.645e-06, 2.906e-06, 2.896e-06, 2.886e-06, 3.594e-06, 2.865e-06, 2.143e-06, 2.847e-06, 2.484e-06, 2.829e-06, 2.467e-06, 2.810e-06, 2.801e-06, 3.488e-06, 3.128e-06, 2.771e-06, 3.107e-06, 3.096e-06, 2.743e-06, 2.734e-06, 2.725e-06, 3.055e-06, 3.044e-06, 2.697e-06, 2.352e-06, 3.014e-06, 2.670e-06, 2.994e-06, 2.983e-06, 2.313e-06, 2.635e-06, 3.282e-06, 2.617e-06, 2.609e-06, 2.600e-06, 2.915e-06, 2.583e-06, 2.575e-06, 2.887e-06, 3.196e-06, 2.867e-06, 2.223e-06, 2.216e-06, 2.840e-06, 2.516e-06, 2.508e-06, 2.812e-06, 2.492e-06, 3.104e-06, 2.475e-06, 2.468e-06, 2.460e-06, 2.452e-06, 2.750e-06, 2.436e-06, 2.429e-06, 2.421e-06, 2.414e-06, 2.707e-06, 2.698e-06, 2.689e-06, 2.680e-06, 2.375e-06, 2.368e-06, 2.655e-06, 2.353e-06, 2.053e-06, 2.339e-06, 2.332e-06, 2.615e-06, 2.317e-06, 2.310e-06, 2.303e-06, 2.296e-06, 2.289e-06, 2.567e-06, 1.991e-06, 2.551e-06, 1.979e-06, 2.817e-06, 2.528e-06, 2.240e-06, 2.233e-06, 2.505e-06, 2.773e-06, 1.936e-06, 2.206e-06, 2.474e-06, 2.740e-06, 2.458e-06, 2.450e-06, 1.900e-06, 2.436e-06, 2.159e-06, 2.421e-06, 2.681e-06, 2.139e-06, 2.665e-06, 1.860e-06, 2.120e-06, 2.114e-06, 2.107e-06, 2.364e-06, 2.095e-06, 2.089e-06, 2.083e-06, 2.077e-06, 2.071e-06, 2.065e-06, 2.059e-06, 2.309e-06, 2.302e-06, 2.041e-06, 2.035e-06, 2.029e-06, 2.528e-06, 2.017e-06, 2.262e-06, 1.504e-06, 2.000e-06, 1.994e-06, 2.485e-06, 1.982e-06, 1.730e-06, 1.972e-06, 1.966e-06, 1.961e-06, 1.955e-06, 2.193e-06, 2.187e-06, 1.696e-06, 2.416e-06, 1.927e-06, 1.922e-06, 1.916e-06, 1.911e-06, 2.382e-06, 1.900e-06, 1.658e-06, 1.654e-06, 1.885e-06, 1.880e-06, 2.109e-06, 1.869e-06, 1.864e-06, 2.091e-06, 1.854e-06, 2.079e-06, 1.843e-06, 2.068e-06, 2.062e-06, 1.828e-06, 2.050e-06, 1.818e-06, 2.039e-06, 1.808e-06, 1.803e-06, 2.022e-06, 1.793e-06, 2.234e-06, 1.560e-06, 1.778e-06, 1.773e-06, 1.769e-06, 1.764e-06, 1.759e-06, 1.755e-06, 1.750e-06, 1.963e-06, 1.523e-06, 1.519e-06, 1.948e-06, 1.727e-06, 1.938e-06, 1.718e-06"
     ]
    },
    {
     "name": "stdout",
     "output_type": "stream",
     "text": [
      ", 1.499e-06, 1.496e-06, 2.130e-06, 2.124e-06, 1.906e-06, 2.112e-06, 1.685e-06, 1.891e-06, 1.676e-06, 1.672e-06, 1.459e-06, 1.664e-06, 1.866e-06, 1.655e-06, 1.651e-06, 1.646e-06, 1.642e-06, 2.047e-06, 1.429e-06, 1.629e-06, 1.828e-06, 1.621e-06, 1.818e-06, 1.612e-06, 1.809e-06, 1.804e-06, 1.799e-06, 1.197e-06, 1.790e-06, 1.786e-06, 1.583e-06, 1.579e-06, 1.969e-06, 1.571e-06, 1.763e-06, 1.563e-06, 1.753e-06, 1.555e-06, 1.551e-06, 1.547e-06, 1.928e-06, 1.731e-06, 1.535e-06, 1.340e-06, 1.527e-06, 1.714e-06, 1.520e-06, 1.705e-06, 1.701e-06, 1.508e-06, 2.068e-06, 1.500e-06, 1.496e-06, 1.493e-06, 1.489e-06, 1.671e-06, 1.482e-06, 1.478e-06, 1.290e-06, 1.287e-06, 1.468e-06, 1.647e-06, 1.278e-06, 1.275e-06, 1.635e-06, 1.450e-06, 1.627e-06, 1.443e-06, 1.439e-06, 1.436e-06, 1.433e-06, 1.429e-06, 1.604e-06, 1.600e-06, 1.419e-06, 1.415e-06, 1.764e-06, 1.232e-06, 1.580e-06, 1.401e-06, 1.398e-06, 1.395e-06, 1.565e-06, 1.561e-06, 1.557e-06, 1.209e-06, 1.550e-06, 1.203e-06, 1.372e-06, 1.710e-06, 1.365e-06, 1.362e-06, 1.019e-06, 1.356e-06, 1.352e-06, 1.518e-06, 1.346e-06, 1.511e-06, 1.674e-06, 1.169e-06, 1.500e-06, 1.330e-06, 1.493e-06, 1.324e-06, 1.321e-06, 1.482e-06, 1.314e-06, 1.148e-06, 1.145e-06, 1.306e-06, 1.303e-06, 1.624e-06, 1.458e-06, 1.293e-06, 1.290e-06, 1.287e-06, 1.445e-06, 1.281e-06, 1.279e-06, 1.435e-06, 1.273e-06, 1.270e-06, 1.583e-06, 1.421e-06, 1.418e-06, 1.258e-06, 1.412e-06, 1.252e-06, 1.561e-06, 1.557e-06, 1.398e-06, 1.395e-06, 1.237e-06, 1.234e-06, 1.385e-06, 1.229e-06, 1.226e-06, 1.223e-06, 1.220e-06, 1.218e-06, 1.367e-06, 1.364e-06, 1.360e-06, 1.056e-06, 1.354e-06, 1.351e-06, 1.498e-06, 1.345e-06, 1.342e-06, 1.339e-06, 1.187e-06, 1.628e-06, 1.182e-06, 1.473e-06, 1.176e-06, 1.174e-06, 1.171e-06, 1.023e-06, 1.021e-06, 1.454e-06, 1.451e-06, 1.158e-06, 1.156e-06, 1.153e-06, 1.294e-06, 1.292e-06, 1.146e-06, 1.286e-06, 1.141e-06, 9.960e-07, [[49, 48, 76, 433, 432], [49, 48, 76, 97, 433, 432], [49, 50, 48, 76, 433, 432], [49, 48, 46, 74, 433, 432], [49, 48, 76, 75, 433, 432], [49, 48, 46, 75, 433, 432], [49, 48, 46, 76, 433, 432], [49, 47, 46, 74, 433, 432], [49, 48, 77, 76, 433, 432], [49, 47, 46, 75, 433, 432], [49, 48, 47, 46, 74, 433, 432], [49, 48, 47, 46, 75, 433, 432], [49, 48, 46, 45, 98, 97, 433, 432], [49, 47, 46, 76, 433, 432], [49, 48, 47, 46, 76, 433, 432], [49, 47, 46, 45, 98, 97, 433, 432], [49, 79, 48, 76, 433, 432], [49, 9, 48, 76, 433, 432], [49, 48, 47, 46, 45, 98, 97, 433, 432], [49, 48, 46, 45, 75, 433, 432], [49, 48, 77, 98, 97, 433, 432], [49, 48, 77, 46, 74, 433, 432], [49, 11, 48, 76, 433, 432], [49, 48, 46, 74, 73, 432], [49, 47, 48, 76, 433, 432], [49, 48, 77, 46, 75, 433, 432], [49, 48, 76, 433, 430, 432], [49, 47, 46, 45, 75, 433, 432], [49, 48, 77, 46, 76, 433, 432], [49, 48, 46, 45, 74, 433, 432], [49, 48, 78, 98, 97, 433, 432], [49, 50, 48, 76, 97, 433, 432], [49, 48, 46, 45, 98, 390, 433, 432], [49, 48, 47, 46, 45, 75, 433, 432], [49, 48, 76, 46, 74, 433, 432], [49, 48, 76, 75, 390, 433, 432], [49, 48, 76, 433, 431, 432], [49, 48, 76, 46, 75, 433, 432], [49, 48, 46, 75, 390, 433, 432], [49, 47, 46, 74, 73, 432], [49, 48, 47, 46, 74, 73, 432], [49, 50, 48, 46, 74, 433, 432], [49, 50, 48, 76, 75, 433, 432], [49, 48, 77, 46, 45, 98, 97, 433, 432], [49, 47, 46, 45, 74, 433, 432], [49, 48, 68, 76, 433, 432], [49, 47, 46, 45, 98, 390, 433, 432], [49, 50, 48, 46, 75, 433, 432], [49, 48, 46, 76, 97, 433, 432], [49, 48, 47, 46, 45, 74, 433, 432], [49, 47, 77, 76, 433, 432], [49, 48, 47, 46, 45, 98, 390, 433, 432], [49, 50, 48, 46, 76, 433, 432], [49, 47, 46, 75, 390, 433, 432], [49, 48, 47, 77, 76, 433, 432], [49, 48, 68, 69, 267, 432], [49, 48, 77, 76, 97, 433, 432], [49, 48, 47, 46, 75, 390, 433, 432], [49, 48, 76, 46, 45, 98, 97, 433, 432], [49, 10, 9, 48, 76, 433, 432], [49, 48, 77, 98, 390, 433, 432], [49, 48, 76, 75, 97, 433, 432], [49, 48, 77, 47, 46, 74, 433, 432], [49, 48, 46, 76, 75, 433, 432], [49, 48, 76, 98, 97, 433, 432], [49, 9, 47, 46, 74, 433, 432], [49, 50, 48, 77, 76, 433, 432], [49, 48, 76, 96, 433, 432], [49, 48, 46, 75, 97, 433, 432], [49, 47, 46, 76, 97, 433, 432], [49, 50, 48, 47, 46, 74, 433, 432], [49, 48, 46, 72, 267, 432], [49, 48, 77, 47, 46, 75, 433, 432], [49, 9, 47, 46, 75, 433, 432], [49, 48, 77, 46, 45, 75, 433, 432], [49, 48, 46, 74, 73, 433, 432], [49, 50, 48, 47, 46, 75, 433, 432], [49, 48, 47, 46, 76, 97, 433, 432], [49, 48, 78, 96, 433, 432], [49, 50, 48, 46, 45, 98, 97, 433, 432], [49, 8, 47, 46, 74, 433, 432], [49, 48, 77, 76, 75, 433, 432], [49, 48, 77, 47, 46, 76, 433, 432], [49, 9, 47, 46, 76, 433, 432], [49, 48, 78, 98, 390, 433, 432], [49, 48, 76, 74, 433, 432], [49, 8, 47, 46, 75, 433, 432], [49, 50, 48, 47, 46, 76, 433, 432], [49, 48, 46, 72, 73, 432], [49, 47, 46, 76, 75, 433, 432], [49, 48, 77, 46, 74, 73, 432], [49, 8, 47, 46, 76, 433, 432], [49, 47, 46, 75, 97, 433, 432], [49, 79, 48, 76, 97, 433, 432], [49, 47, 46, 72, 267, 432], [49, 48, 76, 46, 45, 75, 433, 432], [49, 48, 46, 45, 75, 390, 433, 432], [49, 48, 68, 72, 267, 432], [49, 9, 48, 76, 97, 433, 432], [49, 48, 47, 46, 76, 75, 433, 432], [49, 10, 11, 48, 76, 433, 432], [49, 47, 46, 74, 73, 433, 432], [49, 48, 47, 46, 75, 97, 433, 432], [49, 48, 47, 46, 72, 267, 432], [49, 47, 77, 98, 97, 433, 432], [49, 50, 11, 48, 76, 433, 432], [49, 48, 77, 46, 45, 74, 433, 432], [49, 48, 77, 47, 46, 45, 98, 97, 433, 432], [49, 48, 77, 46, 45, 98, 390, 433, 432], [49, 47, 77, 46, 74, 433, 432], [49, 9, 47, 46, 45, 98, 97, 433, 432], [49, 48, 47, 46, 74, 73, 433, 432], [49, 48, 46, 45, 74, 73, 432], [49, 50, 48, 47, 46, 45, 98, 97, 433, 432], [49, 48, 47, 77, 98, 97, 433, 432], [49, 47, 46, 72, 73, 432], [49, 50, 48, 46, 45, 75, 433, 432], [49, 48, 76, 46, 74, 73, 432], [49, 48, 68, 72, 73, 432], [49, 47, 77, 46, 75, 433, 432], [49, 48, 47, 77, 46, 74, 433, 432], [49, 48, 78, 76, 433, 432], [49, 79, 48, 46, 74, 433, 432], [49, 79, 48, 76, 75, 433, 432], [49, 48, 77, 46, 75, 390, 433, 432], [49, 48, 76, 75, 74, 433, 432], [49, 9, 48, 46, 74, 433, 432], [49, 9, 48, 76, 75, 433, 432], [49, 8, 47, 46, 45, 98, 97, 433, 432], [49, 48, 47, 46, 72, 73, 432], [49, 11, 48, 76, 97, 433, 432], [49, 48, 47, 77, 46, 75, 433, 432], [49, 50, 48, 77, 98, 97, 433, 432], [49, 47, 46, 45, 75, 390, 433, 432], [49, 79, 48, 46, 75, 433, 432], [49, 47, 48, 76, 97, 433, 432], [49, 48, 46, 75, 74, 433, 432], [49, 47, 77, 46, 76, 433, 432], [49, 9, 48, 46, 75, 433, 432], [49, 48, 9, 47, 46, 74, 433, 432], [49, 48, 76, 433, 430, 431, 432], [49, 48, 76, 46, 45, 74, 433, 432], [49, 50, 48, 77, 46, 74, 433, 432], [49, 47, 77, 48, 76, 433, 432], [49, 48, 46, 74, 75, 433, 432], [49, 48, 76, 97, 433, 430, 432], [49, 48, 76, 46, 45, 98, 390, 433, 432], [49, 48, 47, 46, 45, 75, 390, 433, 432], [49, 50, 48, 46, 74, 73, 432], [49, 48, 47, 77, 46, 76, 433, 432], [49, 79, 48, 46, 76, 433, 432], [49, 48, 9, 47, 46, 75, 433, 432], [49, 50, 48, 77, 46, 75, 433, 432], [49, 48, 77, 46, 76, 97, 433, 432], [49, 9, 48, 46, 76, 433, 432], [49, 48, 46, 77, 76, 433, 432], [49, 48, 76, 98, 390, 433, 432], [49, 47, 46, 45, 74, 73, 432], [49, 50, 48, 76, 433, 430, 432], [49, 9, 47, 48, 76, 433, 432], [49, 48, 76, 46, 75, 390, 433, 432], [49, 48, 46, 45, 75, 97, 433, 432], [49, 11, 48, 46, 74, 433, 432], [49, 48, 46, 75, 76, 433, 432], [49, 48, 77, 47, 46, 45, 75, 433, 432], [49, 48, 9, 47, 46, 76, 433, 432], [49, 48, 47, 46, 45, 74, 73, 432], [49, 11, 48, 76, 75, 433, 432], [49, 50, 48, 77, 46, 76, 433, 432], [49, 47, 48, 46, 74, 433, 432], [49, 48, 76, 97, 433, 431, 432], [49, 9, 47, 46, 45, 75, 433, 432], [49, 50, 48, 46, 45, 74, 433, 432], [49, 47, 48, 76, 75, 433, 432], [49, 50, 48, 78, 98, 97, 433, 432], [49, 50, 48, 46, 45, 98, 390, 433, 432], [49, 50, 48, 47, 46, 45, 75, 433, 432], [49, 79, 48, 77, 76, 433, 432], [49, 48, 76, 69, 267, 432], [49, 47, 46, 48, 76, 433, 432], [49, 8, 47, 48, 76, 433, 432], [49, 48, 46, 74, 433, 430, 432], [49, 48, 46, 45, 44, 74, 433, 432], [49, 11, 48, 46, 75, 433, 432], [49, 50, 48, 76, 46, 74, 433, 432], [49, 48, 76, 75, 433, 430, 432], [49, 79, 48, 47, 46, 74, 433, 432], [49, 47, 46, 75, 74, 433, 432], [49, 47, 77, 46, 45, 98, 97, 433, 432], [49, 9, 48, 77, 76, 433, 432], [49, 50, 48, 76, 75, 390, 433, 432], [49, 47, 48, 46, 75, 433, 432], [49, 10, 9, 47, 46, 74, 433, 432], [49, 9, 48, 47, 46, 74, 433, 432], [49, 50, 48, 76, 433, 431, 432], [49, 47, 46, 74, 75, 433, 432], [49, 48, 46, 75, 433, 430, 432], [49, 48, 77, 46, 76, 75, 433, 432], [49, 8, 47, 46, 45, 75, 433, 432], [49, 50, 48, 76, 46, 75, 433, 432], [49, 79, 48, 47, 46, 75, 433, 432], [49, 48, 47, 46, 75, 74, 433, 432], [49, 48, 47, 77, 46, 45, 98, 97, 433, 432], [49, 50, 48, 46, 75, 390, 433, 432], [49, 48, 76, 433, 73, 432], [49, 79, 48, 46, 45, 98, 97, 433, 432], [49, 11, 48, 46, 76, 433, 432], [49, 10, 9, 47, 46, 75, 433, 432], [49, 9, 48, 47, 46, 75, 433, 432], [49, 9, 48, 46, 45, 98, 97, 433, 432], [49, 48, 77, 46, 75, 97, 433, 432], [49, 48, 77, 47, 46, 74, 73, 432], [49, 47, 48, 46, 76, 433, 432], [49, 48, 46, 45, 98, 390, 430, 432], [49, 47, 46, 77, 76, 433, 432], [49, 48, 77, 46, 72, 267, 432], [49, 48, 47, 46, 74, 75, 433, 432], [49, 48, 46, 72, 73, 433, 432], [49, 9, 47, 46, 74, 73, 432], [49, 48, 68, 76, 97, 433, 432], [49, 48, 46, 45, 4, 98, 97, 433, 432], [49, 48, 46, 76, 433, 430, 432], [49, 48, 76, 75, 390, 430, 432], [49, 50, 48, 47, 46, 74, 73, 432], [49, 48, 46, 74, 433, 431, 432], [49, 47, 46, 45, 75, 97, 433, 432], [49, 79, 48, 47, 46, 76, 433, 432], [49, 48, 76, 75, 433, 431, 432], [49, 48, 77, 46, 74, 73, 433, 432], [49, 48, 9, 47, 46, 45, 98, 97, 433, 432], [49, 10, 9, 47, 46, 76, 433, 432], [49, 9, 48, 47, 46, 76, 433, 432], [49, 47, 46, 75, 76, 433, 432], [49, 48, 47, 46, 77, 76, 433, 432], [49, 50, 48, 77, 46, 45, 98, 97, 433, 432], [49, 47, 77, 76, 97, 433, 432], [49, 48, 46, 75, 390, 430, 432], [49, 50, 48, 68, 76, 433, 432], [49, 48, 46, 75, 433, 431, 432], [49, 47, 77, 98, 390, 433, 432], [49, 48, 47, 46, 45, 75, 97, 433, 432], [49, 48, 77, 47, 46, 45, 74, 433, 432], [49, 11, 48, 77, 76, 433, 432], [49, 8, 47, 46, 74, 73, 432], [49, 50, 48, 46, 76, 97, 433, 432], [49, 47, 46, 74, 433, 430, 432], [49, 47, 46, 45, 44, 74, 433, 432], [49, 48, 77, 47, 46, 45, 98, 390, 433, 432], [49, 11, 48, 47, 46, 74, 433, 432], [49, 48, 47, 46, 75, 76, 433, 432], [49, 9, 47, 46, 45, 74, 433, 432], [49, 47, 48, 77, 76, 433, 432], [49, 9, 47, 46, 45, 98, 390, 433, 432], [49, 48, 47, 77, 76, 97, 433, 432], [49, 48, 46, 45, 98, 390, 430, 433, 432], [49, 50, 48, 47, 46, 45, 74, 433, 432], [49, 48, 77, 46, 72, 73, 432], [49, 48, 46, 76, 75, 390, 433, 432], [49, 48, 76, 74, 73, 432], [49, 50, 48, 47, 46, 45, 98, 390, 433, 432], [49, 48, 47, 77, 98, 390, 433, 432], [49, 48, 77, 76, 433, 430, 432], [49, 48, 76, 72, 267, 432], [49, 48, 46, 76, 433, 431, 432], [49, 47, 46, 75, 433, 430, 432], [49, 48, 76, 46, 75, 97, 433, 432], [49, 48, 47, 46, 74, 433, 430, 432], [49, 48, 47, 46, 45, 44, 74, 433, 432], [49, 48, 76, 75, 390, 430, 433, 432], [49, 10, 9, 48, 76, 97, 433, 432], [49, 11, 48, 47, 46, 75, 433, 432], [49, 48, 76, 46, 72, 267, 432], [49, 11, 48, 46, 45, 98, 97, 433, 432], [49, 48, 68, 76, 75, 433, 432], [49, 9, 47, 77, 76, 433, 432], [49, 48, 46, 45, 74, 73, 433, 432], [49, 48, 77, 47, 46, 75, 390, 433, 432], [49, 47, 48, 46, 45, 98, 97, 433, 432], [49, 47, 77, 46, 45, 75, 433, 432], [49, 50, 48, 47, 77, 76, 433, 432], [49, 8, 47, 46, 45, 74, 433, 432], [49, 50, 48, 68, 69, 267, 432], [49, 47, 46, 45, 98, 390, 430, 432], [49, 48, 78, 77, 76, 433, 432], [49, 9, 47, 46, 75, 390, 433, 432], [49, 47, 46, 72, 73, 433, 432], [49, 48, 77, 46, 45, 75, 390, 433, 432], [49, 48, 46, 75, 390, 430, 433, 432], [49, 8, 47, 46, 45, 98, 390, 433, 432], [49, 48, 76, 46, 74, 73, 433, 432], [49, 47, 9, 48, 76, 433, 432], [49, 47, 46, 45, 4, 98, 97, 433, 432], [49, 48, 47, 46, 75, 433, 430, 432], [49, 48, 68, 72, 73, 433, 432], [49, 50, 48, 77, 76, 97, 433, 432], [49, 48, 46, 77, 98, 97, 433, 432], [49, 11, 9, 48, 76, 433, 432], [49, 48, 46, 45, 98, 97, 433, 430, 432], [49, 50, 48, 47, 46, 75, 390, 433, 432], [49, 50, 48, 76, 46, 45, 98, 97, 433, 432], [49, 47, 46, 76, 433, 430, 432], [49, 79, 48, 47, 46, 45, 98, 97, 433, 432], [49, 47, 46, 74, 433, 431, 432], [49, 11, 48, 47, 46, 76, 433, 432], [49, 9, 38, 46, 74, 433, 432], [49, 50, 48, 77, 98, 390, 433, 432], [49, 48, 76, 97, 75, 433, 432], [49, 47, 77, 76, 75, 433, 432], [49, 48, 77, 76, 46, 74, 433, 432], [49, 10, 9, 47, 46, 45, 98, 97, 433, 432], [49, 48, 47, 77, 46, 45, 75, 433, 432], [49, 9, 48, 47, 46, 45, 98, 97, 433, 432], [49, 50, 48, 76, 75, 97, 433, 432], [49, 79, 48, 46, 45, 75, 433, 432], [49, 48, 47, 46, 45, 98, 390, 430, 432], [49, 48, 46, 45, 75, 74, 433, 432], [49, 48, 77, 76, 75, 390, 433, 432], [49, 48, 47, 46, 72, 73, 433, 432], [49, 50, 48, 77, 47, 46, 74, 433, 432], [49, 79, 78, 48, 76, 433, 432], [49, 8, 47, 77, 76, 433, 432], [49, 50, 48, 46, 76, 75, 433, 432], [49, 9, 48, 46, 45, 75, 433, 432], [49, 48, 47, 46, 45, 4, 98, 97, 433, 432], [49, 48, 77, 76, 433, 431, 432], [49, 50, 48, 76, 98, 97, 433, 432], [49, 47, 46, 75, 390, 430, 432], [49, 48, 76, 72, 73, 432], [49, 48, 47, 46, 76, 433, 430, 432], [49, 47, 46, 75, 433, 431, 432], [49, 48, 47, 46, 74, 433, 431, 432], [49, 50, 48, 76, 96, 433, 432], [49, 9, 38, 46, 75, 433, 432], [49, 48, 77, 98, 45, 75, 433, 432], [49, 8, 47, 46, 75, 390, 433, 432], [49, 48, 47, 77, 76, 75, 433, 432], [49, 50, 48, 46, 75, 97, 433, 432], [49, 48, 77, 76, 46, 75, 433, 432], [49, 48, 76, 46, 72, 73, 432], [49, 11, 10, 9, 48, 76, 433, 432], [49, 48, 77, 46, 45, 74, 73, 432], [49, 48, 76, 433, 390, 430, 432], [49, 50, 48, 46, 72, 267, 432], [49, 50, 48, 77, 47, 46, 75, 433, 432], [49, 48, 77, 47, 46, 76, 97, 433, 432], [49, 48, 76, 97, 98, 390, 433, 432], [49, 48, 46, 47, 77, 76, 433, 432], [49, 79, 48, 77, 98, 97, 433, 432], [49, 10, 9, 48, 46, 74, 433, 432], [49, 79, 78, 98, 97, 433, 432], [49, 48, 9, 47, 46, 45, 75, 433, 432], [49, 47, 77, 46, 74, 73, 432], [49, 10, 9, 48, 76, 75, 433, 432], [49, 48, 46, 43, 74, 433, 432], [49, 47, 46, 45, 98, 390, 430, 433, 432], [49, 48, 46, 72, 74, 433, 432], [49, 48, 47, 46, 75, 390, 430, 432], [49, 9, 47, 46, 76, 97, 433, 432], [49, 47, 46, 76, 75, 390, 433, 432], [49, 50, 48, 77, 46, 45, 75, 433, 432], [49, 9, 48, 77, 98, 97, 433, 432], [49, 48, 47, 46, 75, 433, 431, 432], [49, 47, 7, 46, 74, 433, 432], [49, 48, 77, 98, 390, 430, 432], [49, 50, 48, 46, 74, 73, 433, 432], [49, 48, 46, 45, 98, 97, 433, 431, 432], [49, 79, 48, 77, 46, 74, 433, 432], [49, 47, 46, 76, 433, 431, 432], [49, 50, 48, 47, 46, 76, 97, 433, 432], [49, 9, 38, 46, 76, 433, 432], [49, 50, 48, 78, 96, 433, 432], [49, 9, 48, 77, 46, 74, 433, 432], [49, 48, 76, 46, 45, 75, 390, 433, 432], [49, 10, 9, 48, 46, 75, 433, 432], [49, 47, 46, 45, 74, 73, 433, 432], [49, 48, 47, 77, 46, 74, 73, 432], [49, 48, 76, 75, 45, 98, 97, 433, 432], [49, 48, 47, 46, 45, 98, 390, 430, 433, 432], [49, 50, 48, 77, 76, 75, 433, 432], [49, 50, 48, 77, 47, 46, 76, 433, 432], [49, 79, 48, 46, 74, 73, 432], [49, 48, 46, 45, 98, 390, 434, 431, 432], [49, 48, 47, 46, 76, 75, 390, 433, 432], [49, 48, 46, 45, 75, 76, 433, 432], [49, 47, 7, 46, 75, 433, 432], [49, 48, 76, 75, 74, 73, 432], [49, 48, 47, 7, 46, 74, 433, 432], [49, 9, 48, 46, 74, 73, 432], [49, 79, 48, 77, 46, 75, 433, 432], [49, 47, 46, 75, 390, 430, 433, 432], [49, 48, 47, 46, 76, 433, 431, 432], [49, 48, 77, 46, 75, 74, 433, 432], [49, 50, 48, 78, 98, 390, 433, 432], [49, 50, 48, 76, 74, 433, 432], [49, 47, 46, 77, 98, 97, 433, 432], [49, 48, 76, 75, 390, 434, 431, 432], [49, 47, 46, 45, 98, 97, 433, 430, 432], [49, 8, 47, 46, 76, 97, 433, 432], [49, 9, 48, 77, 46, 75, 433, 432], [49, 47, 77, 46, 45, 74, 433, 432], [49, 11, 48, 47, 46, 45, 98, 97, 433, 432], [49, 79, 48, 76, 433, 430, 432], [49, 48, 46, 75, 45, 98, 97, 433, 432], [49, 48, 76, 433, 431, 430, 432], [49, 48, 47, 46, 45, 74, 73, 433, 432], [49, 50, 48, 46, 72, 73, 432], [49, 48, 46, 45, 166, 98, 97, 433, 432], [49, 47, 77, 46, 45, 98, 390, 433, 432], [49, 48, 77, 46, 74, 75, 433, 432], [49, 48, 46, 75, 74, 73, 432], [49, 9, 48, 76, 433, 430, 432], [49, 10, 9, 48, 46, 76, 433, 432], [49, 11, 48, 46, 45, 75, 433, 432], [49, 48, 47, 7, 46, 75, 433, 432], [49, 47, 46, 45, 75, 74, 433, 432], [49, 48, 46, 76, 75, 97, 433, 432], [49, 48, 9, 47, 46, 74, 73, 432], [49, 10, 9, 47, 48, 76, 433, 432], [49, 48, 47, 46, 75, 390, 430, 433, 432], [49, 51, 11, 48, 76, 433, 432], [49, 10, 11, 48, 76, 97, 433, 432], [49, 47, 48, 46, 45, 75, 433, 432], [49, 47, 7, 46, 76, 433, 432], [49, 48, 78, 98, 45, 75, 433, 432], [49, 48, 46, 75, 390, 434, 431, 432], [49, 48, 76, 46, 45, 74, 73, 432], [49, 50, 48, 77, 46, 74, 73, 432], [49, 48, 77, 98, 390, 430, 433, 432], [49, 48, 47, 46, 77, 98, 97, 433, 432], [49, 79, 48, 77, 46, 76, 433, 432], [49, 48, 47, 46, 45, 98, 97, 433, 430, 432], [49, 48, 47, 77, 46, 45, 74, 433, 432], [49, 48, 77, 47, 46, 76, 75, 433, 432], [49, 79, 48, 46, 45, 74, 433, 432], [49, 48, 46, 76, 98, 97, 433, 432], [49, 9, 48, 77, 46, 76, 433, 432], [49, 48, 47, 77, 46, 45, 98, 390, 433, 432], [49, 79, 48, 78, 98, 97, 433, 432], [49, 48, 46, 45, 75, 433, 430, 432], [49, 50, 11, 48, 76, 97, 433, 432], [49, 9, 47, 46, 76, 75, 433, 432], [49, 79, 48, 46, 45, 98, 390, 433, 432], [49, 48, 46, 76, 96, 433, 432], [49, 9, 48, 46, 45, 74, 433, 432], [49, 50, 48, 76, 46, 45, 75, 433, 432], [49, 79, 48, 47, 46, 45, 75, 433, 432], [49, 48, 76, 77, 98, 97, 433, 432], [49, 48, 47, 46, 45, 75, 74, 433, 432], [49, 50, 48, 46, 45, 75, 390, 433, 432], [49, 48, 77, 47, 46, 75, 97, 433, 432], [49, 50, 48, 68, 72, 267, 432], [49, 9, 48, 78, 98, 97, 433, 432], [49, 48, 76, 433, 430, 434, 431, 432], [49, 11, 48, 77, 98, 97, 433, 432], [49, 9, 48, 46, 45, 98, 390, 433, 432], [49, 48, 77, 47, 46, 72, 267, 432], [49, 47, 77, 46, 75, 390, 433, 432], [49, 48, 78, 98, 390, 430, 432], [49, 10, 9, 47, 46, 45, 75, 433, 432], [49, 50, 48, 47, 46, 76, 75, 433, 432], [49, 48, 47, 7, 46, 76, 433, 432], [49, 79, 48, 76, 46, 74, 433, 432], [49, 11, 64, 48, 76, 433, 432], [49, 9, 48, 47, 46, 45, 75, 433, 432], [49, 11, 50, 48, 76, 433, 432], [49, 48, 77, 98, 45, 74, 433, 432], [49, 47, 46, 43, 74, 433, 432], [49, 9, 47, 46, 75, 97, 433, 432], [49, 47, 46, 72, 74, 433, 432], [49, 48, 77, 46, 45, 75, 97, 433, 432], [49, 48, 68, 69, 267, 268, 432], [49, 79, 48, 76, 75, 390, 433, 432], [49, 47, 48, 77, 98, 97, 433, 432], [49, 9, 47, 46, 72, 267, 432], [49, 9, 48, 76, 46, 74, 433, 432], [49, 48, 68, 72, 74, 433, 432], [49, 48, 76, 77, 46, 74, 433, 432], [49, 48, 46, 45, 4, 98, 390, 433, 432], [49, 47, 46, 45, 98, 97, 433, 431, 432], [49, 11, 48, 77, 46, 74, 433, 432], [49, 48, 77, 46, 75, 76, 433, 432], [49, 50, 48, 47, 46, 75, 97, 433, 432], [49, 9, 48, 76, 75, 390, 433, 432], [49, 9, 38, 46, 45, 98, 97, 433, 432], [49, 79, 48, 76, 433, 431, 432], [49, 50, 48, 47, 46, 72, 267, 432], [49, 48, 77, 76, 46, 45, 98, 97, 433, 432], [49, 48, 9, 47, 46, 45, 74, 433, 432], [49, 10, 9, 48, 77, 76, 433, 432], [49, 48, 77, 47, 46, 74, 73, 433, 432], [49, 48, 46, 45, 98, 390, 75, 433, 432], [49, 47, 48, 77, 46, 74, 433, 432], [49, 48, 77, 98, 97, 433, 430, 432], [49, 9, 48, 76, 433, 431, 432], [49, 50, 48, 77, 46, 45, 74, 433, 432], [49, 48, 46, 45, 74, 75, 433, 432], [49, 79, 48, 76, 46, 75, 433, 432], [49, 48, 47, 77, 46, 75, 390, 433, 432], [49, 48, 9, 47, 46, 45, 98, 390, 433, 432], [49, 10, 9, 48, 47, 46, 74, 433, 432], [49, 48, 76, 46, 75, 74, 433, 432], [49, 50, 48, 77, 47, 46, 45, 98, 97, 433, 432], [49, 48, 77, 76, 75, 97, 433, 432], [49, 79, 48, 46, 75, 390, 433, 432], [49, 9, 47, 46, 74, 73, 433, 432], [49, 11, 48, 46, 74, 73, 432], [49, 48, 47, 46, 43, 74, 433, 432], [49, 9, 11, 48, 76, 433, 432], [49, 48, 47, 46, 72, 74, 433, 432], [49, 50, 48, 77, 46, 45, 98, 390, 433, 432], [49, 48, 78, 76, 97, 433, 432], [49, 47, 46, 45, 98, 390, 434, 431, 432], [49, 8, 47, 46, 76, 75, 433, 432], [49, 47, 7, 45, 98, 97, 433, 432], [49, 8, 7, 46, 74, 433, 432], [49, 48, 46, 45, 98, 76, 433, 432], [49, 9, 48, 76, 46, 75, 433, 432], [49, 48, 76, 77, 46, 75, 433, 432], [49, 47, 46, 45, 75, 76, 433, 432], [49, 48, 76, 75, 46, 74, 433, 432], [49, 9, 48, 46, 75, 390, 433, 432], [49, 9, 47, 77, 98, 97, 433, 432], [49, 48, 78, 99, 98, 97, 433, 432], [49, 47, 46, 77, 48, 76, 433, 432], [49, 47, 48, 46, 74, 73, 432], [49, 48, 77, 46, 74, 433, 430, 432], [49, 48, 77, 46, 45, 44, 74, 433, 432], [49, 50, 48, 47, 46, 74, 73, 433, 432], [49, 11, 48, 77, 46, 75, 433, 432], [49, 48, 47, 46, 45, 98, 97, 433, 431, 432], [49, 50, 48, 46, 45, 74, 73, 432], [49, 48, 77, 76, 98, 97, 433, 432], [49, 48, 76, 46, 74, 75, 433, 432], [49, 48, 46, 74, 75, 390, 433, 432], [49, 48, 46, 45, 75, 390, 430, 432], [49, 8, 47, 46, 75, 97, 433, 432], [49, 50, 48, 47, 77, 98, 97, 433, 432], [49, 48, 77, 76, 96, 433, 432], [49, 47, 48, 77, 46, 75, 433, 432], [49, 11, 48, 76, 433, 430, 432], [49, 10, 11, 48, 46, 74, 433, 432], [49, 48, 46, 45, 75, 433, 431, 432], [49, 48, 78, 77, 98, 97, 433, 432], [49, 8, 47, 46, 72, 267, 432], [49, 48, 46, 76, 74, 433, 432], [49, 48, 9, 47, 77, 76, 433, 432], [49, 47, 46, 75, 45, 98, 97, 433, 432], [49, 10, 9, 48, 47, 46, 75, 433, 432], [49, 10, 11, 48, 76, 75, 433, 432], [49, 9, 47, 77, 46, 74, 433, 432], [49, 48, 46, 45, 44, 74, 73, 432], [49, 10, 9, 48, 46, 45, 98, 97, 433, 432], [49, 47, 46, 45, 166, 98, 97, 433, 432], [49, 48, 46, 72, 267, 268, 432], [49, 50, 48, 76, 46, 74, 73, 432], [49, 47, 48, 76, 433, 430, 432], [49, 50, 48, 68, 72, 73, 432], [49, 79, 48, 47, 46, 74, 73, 432], [49, 47, 46, 75, 74, 73, 432], [49, 48, 47, 46, 45, 98, 390, 434, 431, 432], [49, 8, 7, 46, 75, 433, 432], [49, 48, 47, 7, 45, 98, 97, 433, 432], [49, 48, 76, 433, 74, 73, 432], [49, 48, 47, 46, 45, 75, 76, 433, 432], [49, 48, 77, 47, 46, 72, 73, 432], [49, 47, 77, 46, 76, 97, 433, 432], [49, 48, 78, 98, 390, 430, 433, 432], [49, 50, 48, 47, 77, 46, 74, 433, 432], [49, 48, 77, 46, 75, 433, 430, 432], [49, 50, 48, 78, 76, 433, 432], [49, 48, 9, 47, 46, 75, 390, 433, 432], [49, 10, 9, 47, 46, 74, 73, 432], [49, 48, 78, 77, 46, 74, 433, 432], [49, 50, 11, 48, 46, 74, 433, 432], [49, 9, 48, 47, 46, 74, 73, 432], [49, 47, 7, 46, 45, 98, 97, 433, 432], [49, 47, 46, 76, 75, 97, 433, 432], [49, 9, 10, 11, 48, 76, 433, 432], [49, 50, 11, 48, 76, 75, 433, 432], [49, 48, 76, 97, 433, 430, 431, 432], [49, 50, 48, 77, 46, 75, 390, 433, 432], [49, 50, 48, 76, 75, 74, 433, 432], [49, 9, 47, 46, 72, 73, 432], [49, 47, 46, 75, 390, 434, 431, 432], [49, 8, 47, 46, 74, 73, 433, 432], [49, 79, 48, 77, 46, 45, 98, 97, 433, 432], [49, 11, 48, 77, 46, 76, 433, 432], [49, 47, 77, 48, 76, 97, 433, 432], [49, 48, 46, 45, 98, 390, 434, 430, 432], [49, 10, 11, 48, 46, 75, 433, 432], [49, 50, 79, 48, 76, 433, 432], [49, 48, 46, 72, 73, 74, 433, 432], [49, 11, 48, 46, 45, 74, 433, 432], [49, 48, 47, 46, 75, 45, 98, 97, 433, 432], [49, 9, 47, 77, 46, 75, 433, 432], [49, 8, 47, 77, 98, 97, 433, 432], [49, 48, 9, 38, 46, 74, 433, 432], [49, 9, 48, 77, 46, 45, 98, 97, 433, 432], [49, 50, 48, 47, 46, 72, 73, 432], [49, 79, 77, 76, 433, 432], [49, 47, 46, 76, 98, 97, 433, 432], [49, 79, 48, 68, 76, 433, 432], [49, 47, 48, 77, 46, 76, 433, 432], [49, 8, 9, 48, 76, 433, 432], [49, 11, 48, 78, 98, 97, 433, 432], [49, 48, 76, 433, 390, 434, 431, 432], [49, 48, 47, 46, 45, 166, 98, 97, 433, 432], [49, 48, 77, 46, 45, 98, 390, 430, 432], [49, 48, 77, 98, 97, 433, 431, 432], [49, 48, 46, 74, 45, 98, 97, 433, 432], [49, 11, 48, 46, 45, 98, 390, 433, 432], [49, 48, 47, 46, 75, 74, 73, 432], [49, 47, 46, 45, 75, 433, 430, 432], [49, 47, 48, 46, 45, 74, 433, 432], [49, 48, 76, 46, 45, 75, 97, 433, 432], [49, 10, 9, 48, 47, 46, 76, 433, 432], [49, 48, 78, 98, 45, 74, 433, 432], [49, 47, 46, 76, 96, 433, 432], [49, 11, 48, 47, 46, 45, 75, 433, 432], [49, 48, 77, 46, 72, 73, 433, 432], [49, 50, 48, 47, 77, 46, 75, 433, 432], [49, 48, 47, 77, 46, 76, 97, 433, 432], [49, 9, 48, 68, 76, 433, 432], [49, 48, 76, 75, 390, 434, 430, 432], [49, 48, 77, 46, 45, 4, 98, 97, 433, 432], [49, 79, 48, 46, 76, 97, 433, 432], [49, 48, 78, 77, 46, 75, 433, 432], [49, 47, 48, 78, 98, 97, 433, 432], [49, 48, 46, 45, 44, 375, 390, 433, 432], [49, 50, 11, 48, 46, 75, 433, 432], [49, 50, 48, 46, 75, 74, 433, 432], [49, 48, 46, 45, 98, 97, 75, 433, 432], [49, 48, 47, 7, 46, 45, 98, 97, 433, 432], [49, 47, 48, 46, 45, 98, 390, 433, 432], [49, 8, 7, 46, 76, 433, 432], [49, 48, 76, 74, 73, 433, 432], [49, 48, 47, 46, 76, 75, 97, 433, 432], [49, 11, 48, 76, 46, 74, 433, 432], [49, 8, 47, 77, 46, 74, 433, 432], [49, 48, 47, 46, 75, 390, 434, 431, 432], [49, 48, 77, 46, 76, 433, 430, 432], [49, 48, 77, 47, 46, 45, 75, 390, 433, 432], [49, 48, 77, 46, 74, 433, 431, 432], [49, 9, 48, 46, 76, 97, 433, 432], [49, 48, 46, 77, 76, 97, 433, 432], [49, 11, 48, 76, 75, 390, 433, 432], [49, 50, 48, 9, 47, 46, 74, 433, 432], [49, 48, 46, 45, 74, 433, 430, 432], [49, 48, 77, 98, 390, 434, 431, 432], [49, 50, 48, 76, 433, 430, 431, 432], [49, 47, 48, 76, 46, 74, 433, 432], [49, 50, 48, 76, 46, 45, 74, 433, 432], [49, 47, 46, 45, 4, 98, 390, 433, 432], [49, 48, 46, 47, 77, 98, 97, 433, 432], [49, 79, 48, 47, 46, 45, 74, 433, 432], [49, 48, 9, 38, 46, 75, 433, 432], [49, 48, 46, 74, 375, 390, 433, 432], [49, 9, 47, 46, 45, 75, 390, 433, 432], [49, 48, 46, 45, 98, 96, 433, 432], [49, 48, 77, 76, 74, 433, 432], [49, 50, 48, 46, 74, 75, 433, 432], [49, 48, 78, 98, 97, 433, 430, 432], [49, 48, 47, 46, 76, 98, 97, 433, 432], [49, 50, 48, 76, 97, 433, 430, 432], [49, 48, 46, 77, 98, 390, 433, 432], [49, 9, 47, 48, 76, 97, 433, 432], [49, 10, 11, 48, 46, 76, 433, 432], [49, 47, 48, 76, 75, 390, 433, 432], [49, 48, 46, 45, 75, 390, 430, 433, 432], [49, 11, 48, 76, 433, 431, 432], [49, 48, 46, 45, 98, 390, 433, 430, 432], [49, 48, 78, 76, 75, 433, 432], [49, 50, 48, 76, 46, 45, 98, 390, 433, 432], [49, 48, 47, 46, 45, 75, 433, 430, 432], [49, 9, 47, 77, 46, 76, 433, 432], [49, 48, 46, 75, 390, 434, 430, 432], [49, 10, 9, 47, 46, 45, 74, 433, 432], [49, 79, 48, 47, 46, 45, 98, 390, 433, 432], [49, 8, 47, 46, 72, 73, 432], [49, 48, 47, 46, 76, 96, 433, 432], [49, 9, 48, 47, 46, 45, 74, 433, 432], [49, 50, 48, 47, 46, 45, 75, 390, 433, 432], [49, 48, 77, 98, 45, 46, 74, 433, 432], [49, 47, 46, 45, 98, 390, 75, 433, 432], [49, 47, 48, 76, 433, 431, 432], [49, 48, 46, 45, 4, 375, 390, 433, 432], [49, 48, 76, 46, 74, 433, 430, 432], [49, 48, 76, 46, 45, 44, 74, 433, 432], [49, 10, 9, 47, 46, 45, 98, 390, 433, 432], [49, 11, 48, 76, 46, 75, 433, 432], [49, 9, 48, 47, 46, 45, 98, 390, 433, 432], [49, 48, 68, 69, 76, 433, 432], [49, 8, 47, 77, 46, 75, 433, 432], [49, 47, 46, 45, 74, 75, 433, 432], [49, 48, 77, 46, 75, 390, 430, 432], [49, 50, 48, 47, 77, 46, 76, 433, 432], [49, 11, 48, 46, 75, 390, 433, 432], [49, 9, 47, 77, 48, 76, 433, 432], [49, 48, 77, 46, 75, 433, 431, 432], [49, 48, 78, 77, 46, 76, 433, 432], [49, 48, 76, 75, 390, 433, 430, 432], [49, 50, 11, 48, 46, 76, 433, 432], [49, 48, 46, 75, 76, 97, 433, 432], [49, 50, 48, 9, 47, 46, 75, 433, 432], [49, 48, 9, 47, 46, 76, 97, 433, 432], [49, 47, 48, 76, 46, 75, 433, 432], [49, 47, 46, 45, 98, 76, 433, 432], [49, 48, 76, 75, 375, 390, 433, 432], [49, 48, 47, 46, 45, 4, 98, 390, 433, 432], [49, 47, 48, 46, 75, 390, 433, 432], [49, 50, 48, 77, 46, 76, 97, 433, 432], [49, 79, 78, 96, 433, 432], [49, 50, 48, 46, 77, 76, 433, 432], [49, 50, 48, 76, 98, 390, 433, 432], [49, 48, 46, 45, 98, 390, 434, 430, 433, 432], [49, 79, 48, 47, 77, 76, 433, 432], [49, 79, 48, 68, 69, 267, 432], [49, 48, 9, 38, 46, 76, 433, 432], [49, 47, 46, 74, 75, 390, 433, 432], [49, 47, 77, 46, 76, 75, 433, 432], [49, 47, 46, 45, 75, 390, 430, 432], [49, 48, 77, 98, 45, 46, 75, 433, 432], [49, 48, 77, 47, 46, 45, 74, 73, 432], [49, 48, 46, 74, 435, 73, 432], [49, 48, 47, 46, 45, 98, 390, 75, 433, 432], [49, 10, 9, 47, 77, 76, 433, 432], [49, 48, 76, 46, 75, 433, 430, 432], [49, 47, 46, 45, 75, 433, 431, 432], [49, 48, 46, 74, 433, 430, 431, 432], [49, 48, 77, 46, 45, 98, 390, 430, 433, 432], [49, 9, 48, 47, 77, 76, 433, 432], [49, 9, 48, 68, 69, 267, 432], [49, 47, 46, 76, 74, 433, 432], [49, 9, 38, 46, 45, 75, 433, 432], [49, 48, 46, 75, 390, 433, 430, 432], [49, 48, 47, 46, 45, 74, 75, 433, 432], [49, 79, 48, 77, 76, 97, 433, 432], [49, 48, 76, 75, 433, 430, 431, 432], [49, 48, 77, 46, 76, 75, 390, 433, 432], [49, 47, 77, 48, 46, 74, 433, 432], [49, 8, 47, 46, 45, 75, 390, 433, 432], [49, 47, 46, 48, 76, 97, 433, 432], [49, 50, 48, 76, 46, 75, 390, 433, 432], [49, 50, 48, 46, 45, 75, 97, 433, 432], [49, 47, 46, 45, 44, 74, 73, 432], [49, 48, 77, 76, 46, 45, 75, 433, 432], [49, 8, 47, 48, 76, 97, 433, 432], [49, 79, 48, 47, 46, 75, 390, 433, 432], [49, 11, 48, 47, 46, 74, 73, 432], [49, 9, 47, 46, 45, 74, 73, 432], [49, 48, 76, 75, 390, 434, 430, 433, 432], [49, 47, 77, 48, 76, 75, 433, 432], [49, 79, 48, 76, 46, 45, 98, 97, 433, 432], [49, 47, 46, 72, 267, 268, 432], [49, 48, 46, 75, 375, 390, 433, 432], [49, 8, 7, 45, 98, 97, 433, 432], [49, 8, 47, 77, 46, 76, 433, 432], [49, 10, 8, 47, 46, 74, 433, 432], [49, 47, 77, 46, 75, 97, 433, 432], [49, 9, 48, 77, 76, 97, 433, 432], [49, 79, 48, 77, 98, 390, 433, 432], [49, 48, 47, 46, 45, 98, 76, 433, 432], [49, 48, 68, 72, 267, 268, 432], [49, 79, 78, 98, 390, 433, 432], [49, 10, 9, 47, 46, 75, 390, 433, 432], [49, 48, 77, 46, 76, 433, 431, 432], [49, 9, 48, 47, 46, 75, 390, 433, 432], [49, 50, 48, 46, 75, 76, 433, 432], [49, 48, 76, 72, 73, 433, 432], [49, 47, 77, 46, 72, 267, 432], [49, 50, 48, 77, 47, 46, 45, 75, 433, 432], [49, 9, 48, 76, 46, 45, 98, 97, 433, 432], [49, 50, 48, 9, 47, 46, 76, 433, 432], [49, 48, 76, 77, 46, 45, 98, 97, 433, 432], [49, 48, 76, 98, 45, 75, 433, 432], [49, 50, 48, 47, 46, 45, 74, 73, 432], [49, 48, 46, 45, 74, 433, 431, 432], [49, 79, 48, 76, 75, 97, 433, 432], [49, 48, 68, 71, 70, 267, 432], [49, 48, 46, 45, 98, 75, 433, 432], [49, 48, 76, 46, 45, 98, 390, 430, 432], [49, 9, 48, 77, 98, 390, 433, 432], [49, 48, 77, 78, 98, 97, 433, 432], [49, 10, 11, 48, 77, 76, 433, 432], [49, 8, 47, 77, 48, 76, 433, 432], [49, 11, 48, 77, 46, 45, 98, 97, 433, 432], [49, 47, 7, 45, 75, 433, 432], [49, 48, 76, 46, 72, 73, 433, 432], [49, 48, 47, 46, 74, 75, 390, 433, 432], [49, 48, 78, 98, 97, 433, 431, 432], [49, 48, 47, 77, 46, 76, 75, 433, 432], [49, 50, 48, 76, 97, 433, 431, 432], [49, 48, 77, 46, 45, 74, 73, 433, 432], [49, 48, 47, 46, 45, 75, 390, 430, 432], [49, 79, 48, 77, 47, 46, 74, 433, 432], [49, 9, 38, 39, 73, 432], [49, 48, 46, 45, 98, 390, 433, 431, 432], [49, 47, 46, 45, 98, 390, 434, 430, 432], [49, 9, 48, 76, 75, 97, 433, 432], [49, 79, 48, 46, 76, 75, 433, 432], [49, 48, 76, 46, 45, 4, 98, 97, 433, 432], [49, 48, 46, 75, 433, 430, 431, 432], [49, 10, 11, 48, 47, 46, 74, 433, 432], [49, 48, 46, 76, 75, 74, 433, 432], [49, 48, 47, 46, 45, 75, 433, 431, 432], [49, 47, 46, 72, 73, 74, 433, 432], [49, 10, 9, 38, 46, 74, 433, 432], [49, 48, 47, 46, 76, 74, 433, 432], [49, 47, 48, 77, 46, 45, 98, 97, 433, 432], [49, 48, 46, 75, 390, 434, 430, 433, 432], [49, 47, 77, 48, 46, 75, 433, 432], [49, 11, 48, 68, 76, 433, 432], [49, 79, 48, 76, 98, 97, 433, 432], [49, 48, 77, 98, 45, 46, 76, 433, 432], [49, 48, 68, 72, 73, 74, 433, 432], [49, 9, 48, 77, 47, 46, 74, 433, 432], [49, 48, 47, 46, 45, 44, 74, 73, 432], [49, 48, 76, 75, 45, 74, 433, 432], [49, 10, 9, 48, 47, 46, 45, 98, 97, 433, 432], [49, 9, 48, 46, 76, 75, 433, 432], [49, 48, 46, 77, 76, 75, 433, 432], [49, 48, 47, 46, 72, 267, 268, 432], [49, 48, 76, 46, 74, 433, 431, 432], [49, 47, 46, 74, 45, 98, 97, 433, 432], [49, 47, 77, 46, 74, 73, 433, 432], [49, 10, 8, 47, 46, 75, 433, 432], [49, 50, 48, 76, 69, 267, 432], [49, 79, 48, 76, 96, 433, 432], [49, 50, 11, 48, 77, 76, 433, 432], [49, 48, 47, 77, 46, 75, 97, 433, 432], [49, 48, 76, 97, 433, 73, 432], [49, 47, 48, 68, 76, 433, 432], [49, 48, 77, 46, 75, 390, 430, 433, 432], [49, 50, 48, 46, 74, 433, 430, 432], [49, 50, 48, 46, 45, 44, 74, 433, 432], [49, 9, 48, 76, 98, 97, 433, 432], [49, 9, 47, 48, 46, 74, 433, 432], [49, 79, 48, 46, 75, 97, 433, 432], [49, 11, 48, 46, 76, 97, 433, 432], [49, 48, 76, 75, 390, 433, 431, 432], [49, 48, 76, 75, 45, 98, 390, 433, 432], [49, 8, 7, 46, 45, 98, 97, 433, 432], [49, 48, 47, 77, 46, 72, 267, 432], [49, 48, 78, 98, 390, 434, 431, 432], [49, 48, 76, 75, 46, 45, 98, 97, 433, 432], [49, 48, 76, 98, 390, 430, 432], [49, 47, 46, 45, 44, 375, 390, 433, 432], [49, 50, 48, 76, 75, 433, 430, 432], [49, 9, 47, 48, 76, 75, 433, 432], [49, 48, 77, 98, 390, 75, 433, 432], [49, 50, 11, 48, 47, 46, 74, 433, 432], [49, 47, 46, 45, 98, 97, 75, 433, 432], [49, 10, 9, 48, 46, 45, 75, 433, 432], [49, 79, 48, 46, 72, 267, 432], [49, 48, 46, 45, 98, 390, 430, 431, 432], [49, 9, 48, 76, 96, 433, 432], [49, 11, 9, 47, 46, 74, 433, 432], [49, 48, 77, 46, 45, 98, 97, 433, 430, 432], [49, 48, 47, 7, 45, 75, 433, 432], [49, 9, 48, 46, 75, 97, 433, 432], [49, 48, 68, 70, 267, 432], [49, 47, 48, 46, 76, 97, 433, 432], [49, 8, 47, 46, 45, 74, 73, 432], [49, 79, 48, 77, 47, 46, 75, 433, 432], [49, 47, 46, 77, 76, 97, 433, 432], [49, 48, 77, 47, 46, 75, 74, 433, 432], [49, 48, 47, 46, 45, 98, 390, 434, 430, 432], [49, 9, 48, 46, 72, 267, 432], [49, 10, 11, 48, 47, 46, 75, 433, 432], [49, 47, 46, 45, 74, 433, 430, 432], [49, 48, 47, 46, 72, 73, 74, 433, 432], [49, 10, 9, 38, 46, 75, 433, 432], [49, 47, 7, 46, 45, 75, 433, 432], [49, 11, 48, 47, 46, 45, 74, 433, 432], [49, 9, 47, 46, 48, 76, 433, 432], [49, 48, 77, 98, 76, 433, 432], [49, 48, 68, 76, 433, 430, 432], [49, 48, 46, 75, 45, 74, 433, 432], [49, 48, 46, 74, 75, 97, 433, 432], [49, 10, 11, 48, 46, 45, 98, 97, 433, 432], [49, 48, 78, 98, 45, 46, 74, 433, 432], [49, 48, 76, 46, 75, 390, 430, 432], [49, 9, 8, 47, 46, 74, 433, 432], [49, 47, 46, 74, 375, 390, 433, 432], [49, 9, 48, 77, 47, 46, 75, 433, 432], [49, 47, 46, 45, 98, 96, 433, 432], [49, 47, 46, 77, 98, 390, 433, 432], [49, 79, 48, 77, 46, 45, 75, 433, 432], [49, 9, 47, 46, 75, 74, 433, 432], [49, 48, 46, 76, 433, 430, 431, 432], [49, 9, 47, 77, 46, 45, 98, 97, 433, 432], [49, 47, 46, 45, 75, 390, 430, 433, 432], [49, 47, 46, 45, 98, 390, 433, 430, 432], [49, 48, 76, 46, 75, 433, 431, 432], [49, 48, 77, 46, 45, 75, 74, 433, 432], [49, 48, 76, 75, 390, 430, 431, 432], [49, 48, 47, 46, 74, 45, 98, 97, 433, 432], [49, 11, 48, 47, 46, 45, 98, 390, 433, 432], [49, 48, 9, 47, 46, 76, 75, 433, 432], [49, 48, 47, 77, 46, 74, 73, 433, 432], [49, 48, 46, 75, 390, 433, 431, 432], [49, 47, 46, 75, 390, 434, 430, 432], [49, 48, 46, 75, 45, 98, 390, 433, 432], [49, 47, 77, 48, 46, 76, 433, 432], [49, 50, 48, 46, 75, 433, 430, 432], [49, 9, 47, 48, 46, 75, 433, 432], [49, 79, 48, 46, 74, 73, 433, 432], [49, 48, 46, 76, 97, 433, 430, 432], [49, 48, 77, 47, 46, 74, 75, 433, 432], [49, 50, 48, 77, 46, 76, 75, 433, 432], [49, 9, 48, 77, 46, 45, 75, 433, 432], [49, 9, 38, 46, 74, 73, 432], [49, 48, 46, 45, 166, 98, 390, 433, 432], [49, 79, 48, 47, 46, 76, 97, 433, 432], [49, 48, 47, 46, 45, 44, 375, 390, 433, 432], [49, 50, 11, 48, 47, 46, 75, 433, 432], [49, 47, 46, 45, 4, 375, 390, 433, 432], [49, 50, 48, 47, 46, 75, 74, 433, 432], [49, 48, 76, 75, 74, 73, 433, 432], [49, 50, 48, 47, 77, 46, 45, 98, 97, 433, 432], [49, 10, 8, 47, 46, 76, 433, 432], [49, 48, 47, 46, 45, 98, 97, 75, 433, 432], [49, 11, 9, 47, 46, 75, 433, 432], [49, 48, 77, 76, 46, 74, 73, 432], [49, 48, 46, 74, 45, 75, 433, 432], [49, 50, 48, 76, 433, 73, 432], [49, 79, 48, 78, 96, 433, 432], [49, 48, 78, 77, 46, 45, 98, 97, 433, 432], [49, 50, 11, 48, 46, 45, 98, 97, 433, 432], [49, 9, 48, 46, 74, 73, 433, 432], [49, 9, 47, 46, 74, 75, 433, 432], [49, 48, 76, 433, 390, 434, 430, 432], [49, 10, 9, 47, 46, 76, 97, 433, 432], [49, 48, 9, 47, 46, 75, 97, 433, 432], [49, 48, 46, 45, 75, 74, 73, 432], [49, 9, 48, 47, 46, 76, 97, 433, 432], [49, 47, 46, 75, 76, 97, 433, 432], [49, 47, 77, 46, 72, 73, 432]]\n",
      "[10.049365499251039, 12.721980288555027, 12.921474573909261, 13.178458878130183, 13.197956990644325, 13.332776629766812, 13.533868238532961, 13.752790210947257, 13.873222258085034, 13.907107962583886, 13.911466050013132, 14.065783801649761, 14.090209340068832, 14.108199571350035, 14.266875410415912, 14.664540672885906, 14.677776767487146, 14.726000516446087, 14.823216511951784, 14.883700864465975, 15.084309795802582, 15.178884497997103, 15.240192863188938, 15.27464516645658, 15.292582958027728, 15.333202249633732, 15.389992835290702, 15.45803219728305, 15.534293858399883, 15.557692423727392, 15.592369702877228, 15.594089363213254, 15.601498119767911, 15.616708036348928, 15.661602018392973, 15.696882708333147, 15.751035702656029, 15.815919770029602, 15.831702347455634, 15.848976499273654, 16.007652338339533, 16.050567952788406, 16.070066065302552, 16.090634959935755, 16.132023756544466, 16.14718457540171, 16.175829452584985, 16.204885704425035, 16.206483027836953, 16.290699595610345, 16.327091355823086, 16.334505291650864, 16.405977313191187, 16.406033680272706, 16.485767194888965, 16.486297459050629, 16.545837047389025, 16.564709519338582, 16.573352480331625, 16.583891435981492, 16.595598575501658, 16.632141128028398, 16.671882065193046, 16.682459729926247, 16.715621127771538, 16.723548438689424, 16.745331332743255, 16.748518996679401, 16.766960767150884, 16.780814360654027, 16.783575124671355, 16.79191403491, 16.826199816829675, 16.877866190326053, 16.884126484332899, 16.918635150834, 16.937892876307984, 16.939490199719902, 16.955128189604913, 16.962318414727058, 16.978643559661595, 17.021813749478323, 17.027291425595827, 17.078957799092201, 17.103658482576304, 17.108462372351593, 17.132961311298224, 17.138984485074133, 17.163392191811333, 17.256791062743321, 17.275070786323504, 17.334052920064373, 17.341292099967959, 17.350391556791138, 17.366245367727075, 17.366844004728765, 17.382626582154799, 17.392314466264473, 17.398615305750077, 17.4154669018092, 17.454138868128013, 17.492966483651074, 17.499967939033834, 17.524921206792953, 17.538178893540636, 17.55328177602, 17.558118043594316, 17.583632527131698, 17.601923739634834, 17.63275359573516, 17.635298900628079, 17.651642322716953, 17.653878712053793, 17.695325586610007, 17.696854732606514, 17.737723524628407, 17.755809939124202, 17.75778830671937, 17.763792623165806, 17.787071347371789, 17.791429434801035, 17.803300055978902, 17.80687014636629, 17.826368258880432, 17.832127967322556, 17.833546899602155, 17.855093895325229, 17.874592007839375, 17.890394021600251, 17.896399363694282, 17.91280765249293, 17.945747186437664, 17.956418870460805, 17.956957914971873, 17.961187898002919, 17.965197747331718, 17.968366538724641, 17.988162956137941, 18.009411646961858, 18.022887396484069, 18.030670720934513, 18.040835563990182, 18.050993572655329, 18.052998973207643, 18.060240048073741, 18.06260762459469, 18.0846412600307, 18.115633754037752, 18.146754241114806, 18.146838795203813, 18.162279506769067, 18.177205148120699, 18.205311324291959, 18.206908647703873, 18.210503255728007, 18.212455764308281, 18.226909907470613, 18.228210044870867, 18.262101909948925, 18.263341185769896, 18.314845487718422, 18.317885001850051, 18.369286242068082, 18.369505241126923, 18.377124051528842, 18.378296756886847, 18.386885883936746, 18.388784354582224, 18.406402933058111, 18.42167633690687, 18.423650491960018, 18.42879042502522, 18.429801498385618, 18.441174449421016, 18.464478777535454, 18.473607194426137, 18.488817111007151, 18.501633526321143, 18.504283233370717, 18.512269094642981, 18.518436306742068, 18.51908621416985, 18.519697730949947, 18.523603993704711, 18.533711093051195, 18.538584326683992, 18.539877318249239, 18.542697871541716, 18.544504057673812, 18.549857275280083, 18.568991782991372, 18.575994088543499, 18.581439358224827, 18.588101067208182, 18.623144777314252, 18.634571380890815, 18.673403965806475, 18.682885349793171, 18.683885545997391, 18.688028844687825, 18.694195069885868, 18.701373710607591, 18.703179896739687, 18.703811422113858, 18.710783239984419, 18.718620608304942, 18.72469560247086, 18.735757109861456, 18.742418818844811, 18.766844357263881, 18.767386387017808, 18.768068353519443, 18.777085697309651, 18.784305582323569, 18.786787097125355, 18.792339654776924, 18.793247219956694, 18.807382176188753, 18.819734727015824, 18.819799364705702, 18.830167155958186, 18.874495574572624, 18.879690170888807, 18.879761412997755, 18.880129081535173, 18.892216334667125, 18.89528667865202, 18.899627194049316, 18.919060770700924, 18.934637858422722, 18.936848718627608, 18.94351042761096, 18.943836573943997, 18.945462936191234, 18.962744034593982, 18.999706145127078, 19.014509810011294, 19.019293650059936, 19.034446833171803, 19.049467673239711, 19.050892173733004, 19.051115610790262, 19.064049622022935, 19.074829847987996, 19.078592102495175, 19.093417546986924, 19.094029063767021, 19.094921306830777, 19.102293413951031, 19.102512413009876, 19.102781984286636, 19.11643971686172, 19.146587680327155, 19.158381984192957, 19.160340056973482, 19.162808670268568, 19.163817811678253, 19.181385447615071, 19.204648660677993, 19.206614366309086, 19.20814351230559, 19.213849594124699, 19.226792690132822, 19.235538441937951, 19.247735298623549, 19.250103907413674, 19.252093386052795, 19.2527049028329, 19.25572464553872, 19.256506225285481, 19.25661116558766, 19.275057175172794, 19.281036704006734, 19.295776066795, 19.297849583565259, 19.297868696431209, 19.325125534518499, 19.333426798845522, 19.337995582070953, 19.357876269547191, 19.357877105258808, 19.358406533708855, 19.358636915140643, 19.375270921047957, 19.376791908014876, 19.381713509005827, 19.383052202021723, 19.390544284661203, 19.401682801299327, 19.40177829109679, 19.404004304498663, 19.404498488775261, 19.406411137689428, 19.407782607543226, 19.417946122047248, 19.423543302025827, 19.427637020713327, 19.430836676108498, 19.436818593996808, 19.445461554989848, 19.448826907389698, 19.451627780187891, 19.454460414352248, 19.457702774353812, 19.466362158112712, 19.46770765015988, 19.474866946564724, 19.475682847216376, 19.485458777226967, 19.493189820163479, 19.496671421136831, 19.499851529146831, 19.504250202686627, 19.512112132702082, 19.517312754206518, 19.519290773423805, 19.520739467167143, 19.540389348071699, 19.543991139851272, 19.544071257049183, 19.552944704537431, 19.554568804584473, 19.560335881661025, 19.563174327841139, 19.574892461490023, 19.587730202429761, 19.588841142828368, 19.598270847034154, 19.607502746455577, 19.608778165988877, 19.613136253418123, 19.620628071337624, 19.620679909749342, 19.622521559215574, 19.631887028987048, 19.634358686282255, 19.639069841809111, 19.639776528863596, 19.646535332074123, 19.653881734569453, 19.654304331920716, 19.662668388082157, 19.664023109568227, 19.698308891487901, 19.699906214899819, 19.704076062111753, 19.705453331504224, 19.712721064038689, 19.712984814860633, 19.720302800813275, 19.728129382819866, 19.728939884061557, 19.732482927374779, 19.732733501359146, 19.734671389790556, 19.738535364508536, 19.747516981894243, 19.751572588396193, 19.755716780432145, 19.756235558991122, 19.760944812997632, 19.767454005054752, 19.773943217659244, 19.778406038057319, 19.790744225492226, 19.791879543473826, 19.807295766233214, 19.809869774755025, 19.811599274378125, 19.82177151851549, 19.827237264263136, 19.855519515192153, 19.865769722417593, 19.867302566497262, 19.872200029248283, 19.887615723127436, 19.888273227289346, 19.893347228856431, 19.893922824136546, 19.89940050025405, 19.903056434692687, 19.906027965144837, 19.914392619498024, 19.92042947582609, 19.928260969295874, 19.929733187928555, 19.93261905672512, 19.95128018365163, 19.961613517869843, 19.964875617478278, 19.968545613820901, 19.968792158591562, 19.97576755723453, 19.980571447009819, 19.997874634842901, 20.001412553710075, 20.005168008925573, 20.006667709368365, 20.009837266828782, 20.011987141332369, 20.014043875889683, 20.018404103526809, 20.023092866411833, 20.028943955801392, 20.030875868314162, 20.035501266469556, 20.051700346412233, 20.055792837372891, 20.060665667940665, 20.064552827051042, 20.066627852485752, 20.068394175263414, 20.074528228403874, 20.086936808361749, 20.093622106240879, 20.116643867310323, 20.11907368481047, 20.121232105305303, 20.123551456544156, 20.124653543858706, 20.126753657432001, 20.126918323242666, 20.129352578062026, 20.13058146629022, 20.136232192832562, 20.137021852316582, 20.147179860981726, 20.154440512707232, 20.15655047390878, 20.162705126635991, 20.163843847991448, 20.170662980398248, 20.175882916989114, 20.186103691963499, 20.20012386705346, 20.210928875594931, 20.214468676438766, 20.220780971113339, 20.224328200505642, 20.225896565323993, 20.227549290485491, 20.229909388004018, 20.233021735961323, 20.234327440922442, 20.238953079386992, 20.245119304585035, 20.245614841973769, 20.252297945306758, 20.254735656813025, 20.260383954213751, 20.264423540922699, 20.269004720072278, 20.273759470600389, 20.275137159740481, 20.278133136962957, 20.285337221972867, 20.285997065060609, 20.286465945131965, 20.286681344560623, 20.287575976467423, 20.288028417127897, 20.29001328662908, 20.291725652946887, 20.293343053543978, 20.294779707440398, 20.296513118476991, 20.30706483417622, 20.312050327710129, 20.31286669732561, 20.318310621716975, 20.322444469167447, 20.325293976569256, 20.32752725457927, 20.337003595469245, 20.338237035588019, 20.338935795863009, 20.34018954416829, 20.341455935657265, 20.3662108762909, 20.369711861935006, 20.369930860993847, 20.37207701369206, 20.373517725528195, 20.378112620051368, 20.379446970892136, 20.397030281451176, 20.397209239165619, 20.402120942081282, 20.40774819481549, 20.412058337896866, 20.419518925769722, 20.422101956773794, 20.424937131842245, 20.427670719851079, 20.430227118252542, 20.439473593670954, 20.444331038265709, 20.444672904126488, 20.445926638121801, 20.445991986743586, 20.451509678987431, 20.455741601789924, 20.455997886862399, 20.460113615691739, 20.46372471139324, 20.465472530394479, 20.465740673242099, 20.47034163105333, 20.471542536391485, 20.474032814293061, 20.475914845282894, 20.480359297961911, 20.482644411457663, 20.48858508786725, 20.490803457610205, 20.492497615324126, 20.492554787224648, 20.494507295804922, 20.494760808643164, 20.497239020986935, 20.508337364650682, 20.508937121282806, 20.509954469080316, 20.512694714509905, 20.517862625233271, 20.519511834036766, 20.520123350816871, 20.523751397375175, 20.524029613571635, 20.524886715356775, 20.525987786712019, 20.539477886605535, 20.543383188336531, 20.559165765762561, 20.565434044710457, 20.5671454486823, 20.56896380726474, 20.572375755513399, 20.576419708410423, 20.580820199228601, 20.583232247007153, 20.585371067870966, 20.586358458765506, 20.592098716441416, 20.592965111633514, 20.597188541359905, 20.597424199228907, 20.600309738380219, 20.602730359521299, 20.60351182347733, 20.615884019276347, 20.624735276799285, 20.626031679229307, 20.628061045026818, 20.629897381377596, 20.633210294067393, 20.635901697824028, 20.63606360657564, 20.638884159868116, 20.63903513702779, 20.645121209246838, 20.647260926933129, 20.648951041180155, 20.653436647709043, 20.656815378874196, 20.66077774544193, 20.662500419781878, 20.663538509459265, 20.673829585673399, 20.675409130637128, 20.676130865809522, 20.677625646551228, 20.680933160960027, 20.682375154899145, 20.684287355534579, 20.685693679597897, 20.690975200127397, 20.696586344909456, 20.701873267413291, 20.703285510238501, 20.704237041980782, 20.705655974260381, 20.708481752370574, 20.710563525649636, 20.718819832365412, 20.719046228171862, 20.725121222337783, 20.725613762511632, 20.729383550959234, 20.737549998643786, 20.744666004136647, 20.745549977384485, 20.748519787665291, 20.756100038294782, 20.757829575113959, 20.764032242254977, 20.765701115907358, 20.767269977130805, 20.768508438352505, 20.769350684961374, 20.774455199870534, 20.77559584363782, 20.777511317176575, 20.782831028598217, 20.783197066815131, 20.784390770903428, 20.784707518295185, 20.784731202190489, 20.785979999207573, 20.788957935022349, 20.79232548370581, 20.797559998933991, 20.798659533322716, 20.800909882504083, 20.801028142112841, 20.801401347146367, 20.804573025551637, 20.807353068778397, 20.807535400286827, 20.80780779605567, 20.817856261095891, 20.819453584507805, 20.823819592596763, 20.824768139524473, 20.83059277582511, 20.83489429607306, 20.835250912596656, 20.835587161653919, 20.835695799708297, 20.836692906535774, 20.840475613382864, 20.843095998078528, 20.844369518663772, 20.844715578544601, 20.846212818012987, 20.848638645055409, 20.849651039193276, 20.852429382330872, 20.858606944449502, 20.869239364715511, 20.874921194439548, 20.876049769217666, 20.880554701402094, 20.883118045031999, 20.88507055361227, 20.887710072271048, 20.894996471142296, 20.898319759767059, 20.900128420878588, 20.902779795592735, 20.90481947716966, 20.912944638648412, 20.91578726847434, 20.91654086922177, 20.919110863846456, 20.920018867543988, 20.927316656141723, 20.927716142714047, 20.932249288416685, 20.93231913118559, 20.932349122731967, 20.932997038916891, 20.933131038936409, 20.93471669925292, 20.934832081724903, 20.935955975073888, 20.938641607409934, 20.940100167109836, 20.94146851936037, 20.941863066593928, 20.942125455807574, 20.951891547372192, 20.956750334688927, 20.957335372388592, 20.958921183880108, 20.959587778646959, 20.960672903822044, 20.96291655988697, 20.963576873342745, 20.966028907844276, 20.967334612805395, 20.987742828695975, 20.988920063215186, 20.993850258586797, 20.994253161432717, 20.995870153363352, 21.002229354432639, 21.00284087121274, 21.004478599862558, 21.006747133967501, 21.01114030884591, 21.011658957899904, 21.012924696086131, 21.013804926488028, 21.014935429878214, 21.018947869862043, 21.022529711393531, 21.023757200949809, 21.034872453038723, 21.036342521362805, 21.037510044372812, 21.037784515301922, 21.042120030430915, 21.049314222778925, 21.050911546190839, 21.059137228806293, 21.0668289481412, 21.067875259673016, 21.074463107540218, 21.074919806232323, 21.079017722362099, 21.083061287540957, 21.084564838966507, 21.099018982128836, 21.105418025609147, 21.114178463125072, 21.114708727286736, 21.121110476310136, 21.133497098579635, 21.136754447531228, 21.139765377527532, 21.143237814851815, 21.147301899116655, 21.148080542487712, 21.152526097652672, 21.15574050310066, 21.156547106069265, 21.15970240068804, 21.159764099813657, 21.160765676840402, 21.162402212084018, 21.162932476245675, 21.167296444450589, 21.171604144448509, 21.172329683495299, 21.172480765553907, 21.174248315625132, 21.179262212327799, 21.181811067481995, 21.182092352086784, 21.182811263686219, 21.184883883946974, 21.186954562376648, 21.189994076508277, 21.190215352093421, 21.190700763562763, 21.19105109604606, 21.193120787574692, 21.198479702277432, 21.198968272613037, 21.200802614174385, 21.20159046460093, 21.201763748567732, 21.202392377843893, 21.202694898795507, 21.205445327818214, 21.214016304852279, 21.220236250546602, 21.221255484755865, 21.222472064584075, 21.224009843737765, 21.225504787207079, 21.228461476381291, 21.231591580512351, 21.23468282755028, 21.235964061804872, 21.241344536533632, 21.241614315785149, 21.242260831411571, 21.246208752514981, 21.249233126187065, 21.249987497526671, 21.250405831545073, 21.251940006106942, 21.25383289118453, 21.258994958594968, 21.259362627132383, 21.260552396264508, 21.262015632285976, 21.265563137768076, 21.267448722586359, 21.272233592696708, 21.277410082196607, 21.27799562696201, 21.278852321921981, 21.281462323873654, 21.282076612264394, 21.290525316451543, 21.292172937645518, 21.294039906282219, 21.295430286597103, 21.295759566618244, 21.298294316298133, 21.29844121659341, 21.300293333429156, 21.302371982192501, 21.303168323172901, 21.303714883776308, 21.308776145223447, 21.310870998162358, 21.313310296220983, 21.314081851450283, 21.316239418890106, 21.318049638884077, 21.318378239753919, 21.319881310201559, 21.324253077648116, 21.325972283516467, 21.333852418712446, 21.335622253296869, 21.336410103723416, 21.338011939339616, 21.344032396007645, 21.344329423617964, 21.345950408738958, 21.348517082388099, 21.348891191159296, 21.355756310947907, 21.357742448682238, 21.359094747121297, 21.361047255701568, 21.361068216909771, 21.363272221797963, 21.363289267839424, 21.372929868438973, 21.374554002183231, 21.376392308028944, 21.376930264915508, 21.377138534853998, 21.37993132382174, 21.383398029288411, 21.3904020341784, 21.390969904528127, 21.391195288828069, 21.391806805608173, 21.392256144966588, 21.39243456464904, 21.395372035386991, 21.397310391774852, 21.398552911738136, 21.399562006988425, 21.402553919548858, 21.404884591580856, 21.408188327953233, 21.408989482925588, 21.409717370026275, 21.410027132525371, 21.410693401342218, 21.411932677163186, 21.413619381503469, 21.415382326782101, 21.417427330895602, 21.418226801196429, 21.420325303146111, 21.42498346796738, 21.425154013874447, 21.425184942956662, 21.431262295975419, 21.440752451330273, 21.443595784345934, 21.448986446564071, 21.44970048661364, 21.454063393585209, 21.454611085065785, 21.459401886429344, 21.461789725787504, 21.462390722842187, 21.46854905210505, 21.470557170526739, 21.472651092584133, 21.478557149267438, 21.478570829284749, 21.479185203995041, 21.481526959548248, 21.483027322385148, 21.486598071057877, 21.487811911441373, 21.490575950070394, 21.494424185457817, 21.494982708945805, 21.496979970289836, 21.497652950274084, 21.500542680557796, 21.501647988958798, 21.502834834024725, 21.506580621233759, 21.509163414541977, 21.512537752569006, 21.513456099283882, 21.515173460216431, 21.515262285415979, 21.515799852177445, 21.516456788624648, 21.517589973434593, 21.519716393290729, 21.520368056532618, 21.521965106905302, 21.525332655588763, 21.526888248280137, 21.531605707504855, 21.533372550860626, 21.533919111464034, 21.534381646110909, 21.537501712489565, 21.545513040464702, 21.546752316285669, 21.547046419070107, 21.547110363876616, 21.553663235136607, 21.554994424451394, 21.560761501527949, 21.562548446439113, 21.562989126111312, 21.567901467956013, 21.56870297159125, 21.569700078418727, 21.570201486180427, 21.573482785265817, 21.573723172305975, 21.575288971397914, 21.57564561094938, 21.576103169961478, 21.579502694593295, 21.581645065553367, 21.582449459419493, 21.582892314642645, 21.58353945784102, 21.592683622898683, 21.594125616837797, 21.595270168029046, 21.605329608632985, 21.607746356717826, 21.609463507931601, 21.611389285504774, 21.615477061750205, 21.616125216914952, 21.61645136324799, 21.61768690941631]\n"
     ]
    }
   ],
   "source": [
    "btwPathList,btwAlphas=correlation_data_utilities.converge_subopt_paths_betweenness(\n",
    "    btwWeightGraph,source=49,target=432,maxPaths=10000,verbose=True,giveAlphas=True)\n",
    "print(btwPathList)\n",
    "btwPathLengths=[calculatePathLength(btwWeightGraph,path) for path in btwPathList]\n",
    "print(btwPathLengths)"
   ]
  },
  {
   "cell_type": "markdown",
   "metadata": {},
   "source": [
    "## Compare convergence and path length scaling for direct energy vs current flow betweenness weights"
   ]
  },
  {
   "cell_type": "code",
   "execution_count": 55,
   "metadata": {
    "scrolled": false
   },
   "outputs": [
    {
     "data": {
      "image/png": "[encoded data removed]",
      "text/plain": [
       "<Figure size 460.8x345.6 with 1 Axes>"
      ]
     },
     "metadata": {
      "needs_background": "light"
     },
     "output_type": "display_data"
    },
    {
     "data": {
      "image/png": "[encoded data removed]",
      "text/plain": [
       "<Figure size 460.8x345.6 with 1 Axes>"
      ]
     },
     "metadata": {
      "needs_background": "light"
     },
     "output_type": "display_data"
    }
   ],
   "source": [
    "plt.figure(figsize=(6.4,4.8))\n",
    "plt.plot(alphas,label='weight=1/abs(E)')\n",
    "plt.plot(btwAlphas,label='weight=CurrentFlow(1/abs(E))')\n",
    "plt.axvline(100,color='teal',label='top 100 paths')\n",
    "plt.axhline(alphas[99],color='teal')\n",
    "plt.axhline(btwAlphas[99],color='teal')\n",
    "plt.loglog()\n",
    "plt.legend(loc=\"lower left\")\n",
    "plt.xlabel('Number of Paths')\n",
    "plt.ylabel('Suboptimal Path Betweennes Convergence')\n",
    "plt.title(\"Converge of Suboptimal Path Usage\")\n",
    "plt.grid()\n",
    "plt.show()\n",
    "\n",
    "plt.figure(figsize=(6.4,4.8))\n",
    "plt.plot(np.arange(len(pathLengths))+1,\n",
    "         pathLengths/np.min(pathLengths),\n",
    "         label='weight=1/abs(E)')\n",
    "plt.plot(np.arange(len(btwPathLengths))+1,\n",
    "         btwPathLengths/np.min(btwPathLengths),\n",
    "         label='weight=CurrentFlow(1/abs(E))')\n",
    "plt.axvline(100,color='teal',label='top 100 paths')\n",
    "plt.axhline(pathLengths[99]/pathLengths[0],color='teal')\n",
    "plt.axhline(btwPathLengths[99]/btwPathLengths[0],color='teal')\n",
    "plt.loglog()\n",
    "plt.legend(loc=\"upper left\")\n",
    "plt.xlabel('Number of Paths')\n",
    "plt.ylabel('Relative Path Length')\n",
    "plt.title(\"Scaling of Relative Path Length\")\n",
    "plt.grid()\n",
    "plt.show()"
   ]
  },
  {
   "cell_type": "markdown",
   "metadata": {},
   "source": [
    "# Vizualize top 100 L50 - E180 paths"
   ]
  },
  {
   "cell_type": "markdown",
   "metadata": {},
   "source": [
    "## Visualize reciprocal energy weighted paths\n",
    "\n",
    "### Compute shortest path"
   ]
  },
  {
   "cell_type": "code",
   "execution_count": 64,
   "metadata": {},
   "outputs": [
    {
     "name": "stdout",
     "output_type": "stream",
     "text": [
      "Shortest path length (LEU_50 - GLU180): 10.0493654993\n",
      "Path (edge list): [(49, 48), (48, 76), (76, 433), (433, 432)]\n",
      "Path (Node Sequence Residue Names): ['GLU_B_180', 'LYS_B_181', 'PHE_A_77', 'PHE_A_49', 'LEU_A_50']\n"
     ]
    }
   ],
   "source": [
    "path=btwPathList[0]\n",
    "pathNz=(path[1:],path[:-1])\n",
    "\n",
    "resNumMap=lambda x: x-253*(x>=253)+1\n",
    "resChainMap=lambda x: ['A','B'][int(x>=253)]\n",
    "print(\"Shortest path length (LEU_50 - GLU180):\",btwPathLengths[0])\n",
    "print('Path (edge list):',[tuple(np.flip(edge,axis=0)) for edge in zip(*pathNz)])\n",
    "print('Path (Node Sequence Residue Names):',\n",
    "      [struc.topology.residue(iRes).name + \"_\" + \\\n",
    "       resChainMap(struc.topology.residue(iRes).index) + \"_\" + \\\n",
    "       str(resNumMap(struc.topology.residue(iRes).index)) \\\n",
    "       for iRes in np.flip(np.array(path),axis=0)])"
   ]
  },
  {
   "cell_type": "markdown",
   "metadata": {},
   "source": [
    "## Visualize L50 - E180 rcurrent flow betweenness network"
   ]
  },
  {
   "cell_type": "markdown",
   "metadata": {},
   "source": [
    "### Compute edge color and radii maps"
   ]
  },
  {
   "cell_type": "code",
   "execution_count": 65,
   "metadata": {},
   "outputs": [
    {
     "name": "stdout",
     "output_type": "stream",
     "text": [
      "Nedges= 3988\n"
     ]
    }
   ],
   "source": [
    "plotMat=np.array(np.abs(btwMat+btwMat.T))\n",
    "#plotMat=plotMat*((plotMat)>btwCut)\n",
    "\n",
    "print(\"Nedges=\",len(np.nonzero(plotMat)[0]))\n",
    "\n",
    "nzInds=np.nonzero(plotMat)\n",
    "\n",
    "#Create a color map for edges based on log(abs(E_Interact.Mean))\n",
    "tempCmap=matplotlib.cm.get_cmap('plasma',2048)\n",
    "tempCmat=np.array(plotMat)\n",
    "vMin=np.min(tempCmat)\n",
    "vCenter=np.median(tempCmat[nzInds])\n",
    "vMax=np.max(tempCmat)\n",
    "cNorm=matplotlib.colors.DivergingNorm(vmin=vMin,vcenter=vCenter,vmax=vMax)\n",
    "#tempCmat[nzInds]=np.log(tempCmat[nzInds])\n",
    "edgeColors=correlation_data_utilities.getCorrNetEdgeColors(\n",
    "    tempCmat,maskInds=nzInds,cmap=tempCmap,cNorm=cNorm)\n",
    "\n",
    "#Compute widths for edges based on lob(abs(E_Interact.Mean))\n",
    "#rMin and rMax set minimum and maximum edgewidths\n",
    "#edgwidth will then interpolate linearly between those two\n",
    "#bounds.\n",
    "eMin=.0625\n",
    "eMax=0.375\n",
    "radiiMat=correlation_data_utilities.getCorrNetEdgeRadii(plotMat,maskInds=nzInds,eMin=eMin,eMax=eMax)"
   ]
  },
  {
   "cell_type": "markdown",
   "metadata": {},
   "source": [
    "### Inspect color and edge radii distributions"
   ]
  },
  {
   "cell_type": "code",
   "execution_count": 66,
   "metadata": {},
   "outputs": [
    {
     "data": {
      "image/png": "[encoded data removed]",
      "text/plain": [
       "<Figure size 432x288 with 1 Axes>"
      ]
     },
     "metadata": {
      "needs_background": "light"
     },
     "output_type": "display_data"
    },
    {
     "data": {
      "image/png": "[encoded data removed]",
      "text/plain": [
       "<Figure size 432x288 with 1 Axes>"
      ]
     },
     "metadata": {
      "needs_background": "light"
     },
     "output_type": "display_data"
    },
    {
     "data": {
      "image/png": "[encoded data removed]",
      "text/plain": [
       "<Figure size 432x288 with 1 Axes>"
      ]
     },
     "metadata": {
      "needs_background": "light"
     },
     "output_type": "display_data"
    },
    {
     "data": {
      "image/png": "[encoded data removed]",
      "text/plain": [
       "<Figure size 432x288 with 1 Axes>"
      ]
     },
     "metadata": {
      "needs_background": "light"
     },
     "output_type": "display_data"
    }
   ],
   "source": [
    "#Plot distribution histograms for edge widths and edge color rgb values\n",
    "sns.distplot(radiiMat[np.nonzero(radiiMat)].flatten(),\n",
    "             kde=False)\n",
    "plt.title('Edge Width distribution')\n",
    "plt.show()\n",
    "\n",
    "clist=['red','green','blue']\n",
    "for ii in np.arange(3):\n",
    "    sns.distplot(edgeColors[:,:,ii][np.nonzero(edgeColors[:,:,ii])].flatten(),\n",
    "                 kde=False,color=clist[ii])\n",
    "plt.title('Edge rgb color value distribution')\n",
    "plt.show()\n",
    "\n",
    "sortArr=np.argsort(tempCmat[np.nonzero(tempCmat)])\n",
    "sortedInds=np.array(list(zip(nzInds[0],nzInds[1])))[sortArr]\n",
    "sortedNzInds=(sortedInds[:,0],sortedInds[:,1])\n",
    "\n",
    "clist=['red','green','blue']\n",
    "for ii in np.arange(3):\n",
    "    plt.plot(edgeColors[:,:,ii][sortedNzInds],c=clist[ii])\n",
    "plt.title('Value Sorted Edge rgb color values')\n",
    "plt.show()\n",
    "\n",
    "plt.plot(tempCmat[sortedNzInds])\n",
    "plt.title('Sorted Interaction_Energy.Mean')\n",
    "plt.show()"
   ]
  },
  {
   "cell_type": "markdown",
   "metadata": {},
   "source": [
    "### Visualize top 100 L50 - E180 current flow betweenness weighted paths using NGLView\n",
    "\n",
    "WARNING: Running the cell below in google colab will cause the kernel to crash"
   ]
  },
  {
   "cell_type": "code",
   "execution_count": 67,
   "metadata": {},
   "outputs": [
    {
     "data": {
      "image/png": "[encoded data removed]",
      "text/plain": [
       "<Figure size 1152x288 with 1 Axes>"
      ]
     },
     "metadata": {
      "needs_background": "light"
     },
     "output_type": "display_data"
    },
    {
     "ename": "RuntimeError",
     "evalue": "file exist and you're in overwrite=False mode",
     "output_type": "error",
     "traceback": [
      "\u001b[0;31m---------------------------------------------------------------------------\u001b[0m",
      "\u001b[0;31mRuntimeError\u001b[0m                              Traceback (most recent call last)",
      "\u001b[0;32m<ipython-input-67-6747dbfbf441>\u001b[0m in \u001b[0;36m<module>\u001b[0;34m\u001b[0m\n\u001b[1;32m     21\u001b[0m \u001b[0;31m#the edge width and colormaps generated above\u001b[0m\u001b[0;34m\u001b[0m\u001b[0;34m\u001b[0m\u001b[0;34m\u001b[0m\u001b[0m\n\u001b[1;32m     22\u001b[0m \u001b[0mstruc\u001b[0m\u001b[0;34m=\u001b[0m\u001b[0mstrucDict\u001b[0m\u001b[0;34m[\u001b[0m\u001b[0mlist\u001b[0m\u001b[0;34m(\u001b[0m\u001b[0mstrucDict\u001b[0m\u001b[0;34m.\u001b[0m\u001b[0mkeys\u001b[0m\u001b[0;34m(\u001b[0m\u001b[0;34m)\u001b[0m\u001b[0;34m)\u001b[0m\u001b[0;34m[\u001b[0m\u001b[0;36m0\u001b[0m\u001b[0;34m]\u001b[0m\u001b[0;34m]\u001b[0m\u001b[0;34m\u001b[0m\u001b[0;34m\u001b[0m\u001b[0m\n\u001b[0;32m---> 23\u001b[0;31m \u001b[0mview\u001b[0m\u001b[0;34m=\u001b[0m\u001b[0mnv\u001b[0m\u001b[0;34m.\u001b[0m\u001b[0mshow_pytraj\u001b[0m\u001b[0;34m(\u001b[0m\u001b[0mstruc\u001b[0m\u001b[0;34m)\u001b[0m\u001b[0;34m\u001b[0m\u001b[0;34m\u001b[0m\u001b[0m\n\u001b[0m\u001b[1;32m     24\u001b[0m \u001b[0mview\u001b[0m\u001b[0;34m.\u001b[0m\u001b[0mclear_representations\u001b[0m\u001b[0;34m(\u001b[0m\u001b[0;34m)\u001b[0m\u001b[0;34m\u001b[0m\u001b[0;34m\u001b[0m\u001b[0m\n\u001b[1;32m     25\u001b[0m \u001b[0;32mfor\u001b[0m \u001b[0mres\u001b[0m \u001b[0;32min\u001b[0m \u001b[0msourceSet\u001b[0m\u001b[0;34m:\u001b[0m\u001b[0;34m\u001b[0m\u001b[0;34m\u001b[0m\u001b[0m\n",
      "\u001b[0;32m/anaconda3/lib/python3.6/site-packages/nglview/show.py\u001b[0m in \u001b[0;36mshow_pytraj\u001b[0;34m(pytraj_trajectory, **kwargs)\u001b[0m\n\u001b[1;32m    314\u001b[0m \u001b[0;34m\u001b[0m\u001b[0m\n\u001b[1;32m    315\u001b[0m     \u001b[0mtrajlist\u001b[0m \u001b[0;34m=\u001b[0m \u001b[0;34m[\u001b[0m\u001b[0mPyTrajTrajectory\u001b[0m\u001b[0;34m(\u001b[0m\u001b[0mtraj\u001b[0m\u001b[0;34m)\u001b[0m \u001b[0;32mfor\u001b[0m \u001b[0mtraj\u001b[0m \u001b[0;32min\u001b[0m \u001b[0mtrajlist\u001b[0m\u001b[0;34m]\u001b[0m\u001b[0;34m\u001b[0m\u001b[0;34m\u001b[0m\u001b[0m\n\u001b[0;32m--> 316\u001b[0;31m     \u001b[0;32mreturn\u001b[0m \u001b[0mNGLWidget\u001b[0m\u001b[0;34m(\u001b[0m\u001b[0mtrajlist\u001b[0m\u001b[0;34m,\u001b[0m \u001b[0;34m**\u001b[0m\u001b[0mkwargs\u001b[0m\u001b[0;34m)\u001b[0m\u001b[0;34m\u001b[0m\u001b[0;34m\u001b[0m\u001b[0m\n\u001b[0m\u001b[1;32m    317\u001b[0m \u001b[0;34m\u001b[0m\u001b[0m\n\u001b[1;32m    318\u001b[0m \u001b[0;34m\u001b[0m\u001b[0m\n",
      "\u001b[0;32m/anaconda3/lib/python3.6/site-packages/nglview/widget.py\u001b[0m in \u001b[0;36m__init__\u001b[0;34m(self, structure, representations, parameters, **kwargs)\u001b[0m\n\u001b[1;32m    240\u001b[0m             \u001b[0;32mfor\u001b[0m \u001b[0mtrajectory\u001b[0m \u001b[0;32min\u001b[0m \u001b[0mtrajectories\u001b[0m\u001b[0;34m:\u001b[0m\u001b[0;34m\u001b[0m\u001b[0;34m\u001b[0m\u001b[0m\n\u001b[1;32m    241\u001b[0m                 \u001b[0mname\u001b[0m \u001b[0;34m=\u001b[0m \u001b[0mpy_utils\u001b[0m\u001b[0;34m.\u001b[0m\u001b[0mget_name\u001b[0m\u001b[0;34m(\u001b[0m\u001b[0mtrajectory\u001b[0m\u001b[0;34m,\u001b[0m \u001b[0mkwargs\u001b[0m\u001b[0;34m)\u001b[0m\u001b[0;34m\u001b[0m\u001b[0;34m\u001b[0m\u001b[0m\n\u001b[0;32m--> 242\u001b[0;31m                 \u001b[0mself\u001b[0m\u001b[0;34m.\u001b[0m\u001b[0madd_trajectory\u001b[0m\u001b[0;34m(\u001b[0m\u001b[0mtrajectory\u001b[0m\u001b[0;34m,\u001b[0m \u001b[0mname\u001b[0m\u001b[0;34m=\u001b[0m\u001b[0mname\u001b[0m\u001b[0;34m,\u001b[0m \u001b[0;34m**\u001b[0m\u001b[0mkwargs\u001b[0m\u001b[0;34m)\u001b[0m\u001b[0;34m\u001b[0m\u001b[0;34m\u001b[0m\u001b[0m\n\u001b[0m\u001b[1;32m    243\u001b[0m         \u001b[0;32melse\u001b[0m\u001b[0;34m:\u001b[0m\u001b[0;34m\u001b[0m\u001b[0;34m\u001b[0m\u001b[0m\n\u001b[1;32m    244\u001b[0m             \u001b[0;32mif\u001b[0m \u001b[0mstructure\u001b[0m \u001b[0;32mis\u001b[0m \u001b[0;32mnot\u001b[0m \u001b[0;32mNone\u001b[0m\u001b[0;34m:\u001b[0m\u001b[0;34m\u001b[0m\u001b[0;34m\u001b[0m\u001b[0m\n",
      "\u001b[0;32m/anaconda3/lib/python3.6/site-packages/nglview/widget.py\u001b[0m in \u001b[0;36madd_trajectory\u001b[0;34m(self, trajectory, **kwargs)\u001b[0m\n\u001b[1;32m   1140\u001b[0m             \u001b[0mtrajectory\u001b[0m \u001b[0;34m=\u001b[0m \u001b[0mtrajectory\u001b[0m\u001b[0;34m\u001b[0m\u001b[0;34m\u001b[0m\u001b[0m\n\u001b[1;32m   1141\u001b[0m \u001b[0;34m\u001b[0m\u001b[0m\n\u001b[0;32m-> 1142\u001b[0;31m         \u001b[0mself\u001b[0m\u001b[0;34m.\u001b[0m\u001b[0m_load_data\u001b[0m\u001b[0;34m(\u001b[0m\u001b[0mtrajectory\u001b[0m\u001b[0;34m,\u001b[0m \u001b[0;34m**\u001b[0m\u001b[0mkwargs\u001b[0m\u001b[0;34m)\u001b[0m\u001b[0;34m\u001b[0m\u001b[0;34m\u001b[0m\u001b[0m\n\u001b[0m\u001b[1;32m   1143\u001b[0m         \u001b[0msetattr\u001b[0m\u001b[0;34m(\u001b[0m\u001b[0mtrajectory\u001b[0m\u001b[0;34m,\u001b[0m \u001b[0;34m'shown'\u001b[0m\u001b[0;34m,\u001b[0m \u001b[0;32mTrue\u001b[0m\u001b[0;34m)\u001b[0m\u001b[0;34m\u001b[0m\u001b[0;34m\u001b[0m\u001b[0m\n\u001b[1;32m   1144\u001b[0m         \u001b[0mself\u001b[0m\u001b[0;34m.\u001b[0m\u001b[0m_trajlist\u001b[0m\u001b[0;34m.\u001b[0m\u001b[0mappend\u001b[0m\u001b[0;34m(\u001b[0m\u001b[0mtrajectory\u001b[0m\u001b[0;34m)\u001b[0m\u001b[0;34m\u001b[0m\u001b[0;34m\u001b[0m\u001b[0m\n",
      "\u001b[0;32m/anaconda3/lib/python3.6/site-packages/nglview/widget.py\u001b[0m in \u001b[0;36m_load_data\u001b[0;34m(self, obj, **kwargs)\u001b[0m\n\u001b[1;32m   1218\u001b[0m         \u001b[0;32mif\u001b[0m \u001b[0;32mnot\u001b[0m \u001b[0mis_url\u001b[0m\u001b[0;34m:\u001b[0m\u001b[0;34m\u001b[0m\u001b[0;34m\u001b[0m\u001b[0m\n\u001b[1;32m   1219\u001b[0m             \u001b[0;32mif\u001b[0m \u001b[0mhasattr\u001b[0m\u001b[0;34m(\u001b[0m\u001b[0mobj\u001b[0m\u001b[0;34m,\u001b[0m \u001b[0;34m'get_structure_string'\u001b[0m\u001b[0;34m)\u001b[0m\u001b[0;34m:\u001b[0m\u001b[0;34m\u001b[0m\u001b[0;34m\u001b[0m\u001b[0m\n\u001b[0;32m-> 1220\u001b[0;31m                 \u001b[0mblob\u001b[0m \u001b[0;34m=\u001b[0m \u001b[0mobj\u001b[0m\u001b[0;34m.\u001b[0m\u001b[0mget_structure_string\u001b[0m\u001b[0;34m(\u001b[0m\u001b[0;34m)\u001b[0m\u001b[0;34m\u001b[0m\u001b[0;34m\u001b[0m\u001b[0m\n\u001b[0m\u001b[1;32m   1221\u001b[0m                 \u001b[0mkwargs2\u001b[0m\u001b[0;34m[\u001b[0m\u001b[0;34m'ext'\u001b[0m\u001b[0;34m]\u001b[0m \u001b[0;34m=\u001b[0m \u001b[0mobj\u001b[0m\u001b[0;34m.\u001b[0m\u001b[0mext\u001b[0m\u001b[0;34m\u001b[0m\u001b[0;34m\u001b[0m\u001b[0m\n\u001b[1;32m   1222\u001b[0m                 \u001b[0mpassing_buffer\u001b[0m \u001b[0;34m=\u001b[0m \u001b[0;32mTrue\u001b[0m\u001b[0;34m\u001b[0m\u001b[0;34m\u001b[0m\u001b[0m\n",
      "\u001b[0;32m/anaconda3/lib/python3.6/site-packages/nglview/adaptor.py\u001b[0m in \u001b[0;36mget_structure_string\u001b[0;34m(self, index)\u001b[0m\n\u001b[1;32m    362\u001b[0m \u001b[0;34m\u001b[0m\u001b[0m\n\u001b[1;32m    363\u001b[0m     \u001b[0;32mdef\u001b[0m \u001b[0mget_structure_string\u001b[0m\u001b[0;34m(\u001b[0m\u001b[0mself\u001b[0m\u001b[0;34m,\u001b[0m \u001b[0mindex\u001b[0m\u001b[0;34m=\u001b[0m\u001b[0;36m0\u001b[0m\u001b[0;34m)\u001b[0m\u001b[0;34m:\u001b[0m\u001b[0;34m\u001b[0m\u001b[0;34m\u001b[0m\u001b[0m\n\u001b[0;32m--> 364\u001b[0;31m         \u001b[0;32mreturn\u001b[0m \u001b[0m_get_structure_string\u001b[0m\u001b[0;34m(\u001b[0m\u001b[0mself\u001b[0m\u001b[0;34m.\u001b[0m\u001b[0mtrajectory\u001b[0m\u001b[0;34m[\u001b[0m\u001b[0mindex\u001b[0m\u001b[0;34m:\u001b[0m\u001b[0mindex\u001b[0m \u001b[0;34m+\u001b[0m \u001b[0;36m1\u001b[0m\u001b[0;34m]\u001b[0m\u001b[0;34m.\u001b[0m\u001b[0msave\u001b[0m\u001b[0;34m)\u001b[0m\u001b[0;34m\u001b[0m\u001b[0;34m\u001b[0m\u001b[0m\n\u001b[0m\u001b[1;32m    365\u001b[0m \u001b[0;34m\u001b[0m\u001b[0m\n\u001b[1;32m    366\u001b[0m \u001b[0;34m\u001b[0m\u001b[0m\n",
      "\u001b[0;32m/anaconda3/lib/python3.6/site-packages/nglview/adaptor.py\u001b[0m in \u001b[0;36m_get_structure_string\u001b[0;34m(write_method, suffix)\u001b[0m\n\u001b[1;32m     57\u001b[0m \u001b[0;32mdef\u001b[0m \u001b[0m_get_structure_string\u001b[0m\u001b[0;34m(\u001b[0m\u001b[0mwrite_method\u001b[0m\u001b[0;34m,\u001b[0m \u001b[0msuffix\u001b[0m\u001b[0;34m=\u001b[0m\u001b[0;34m'.pdb'\u001b[0m\u001b[0;34m)\u001b[0m\u001b[0;34m:\u001b[0m\u001b[0;34m\u001b[0m\u001b[0;34m\u001b[0m\u001b[0m\n\u001b[1;32m     58\u001b[0m     \u001b[0;32mwith\u001b[0m \u001b[0mmkstemp_wrapper\u001b[0m\u001b[0;34m(\u001b[0m\u001b[0msuffix\u001b[0m\u001b[0;34m=\u001b[0m\u001b[0msuffix\u001b[0m\u001b[0;34m)\u001b[0m \u001b[0;32mas\u001b[0m \u001b[0mfname\u001b[0m\u001b[0;34m:\u001b[0m\u001b[0;34m\u001b[0m\u001b[0;34m\u001b[0m\u001b[0m\n\u001b[0;32m---> 59\u001b[0;31m         \u001b[0mwrite_method\u001b[0m\u001b[0;34m(\u001b[0m\u001b[0mfname\u001b[0m\u001b[0;34m)\u001b[0m\u001b[0;34m\u001b[0m\u001b[0;34m\u001b[0m\u001b[0m\n\u001b[0m\u001b[1;32m     60\u001b[0m         \u001b[0;32mwith\u001b[0m \u001b[0mopen\u001b[0m\u001b[0;34m(\u001b[0m\u001b[0mfname\u001b[0m\u001b[0;34m)\u001b[0m \u001b[0;32mas\u001b[0m \u001b[0mfh\u001b[0m\u001b[0;34m:\u001b[0m\u001b[0;34m\u001b[0m\u001b[0;34m\u001b[0m\u001b[0m\n\u001b[1;32m     61\u001b[0m             \u001b[0;32mreturn\u001b[0m \u001b[0mfh\u001b[0m\u001b[0;34m.\u001b[0m\u001b[0mread\u001b[0m\u001b[0;34m(\u001b[0m\u001b[0;34m)\u001b[0m\u001b[0;34m\u001b[0m\u001b[0;34m\u001b[0m\u001b[0m\n",
      "\u001b[0;32m/anaconda3/lib/python3.6/site-packages/pytraj/trajectory/shared_trajectory.py\u001b[0m in \u001b[0;36msave\u001b[0;34m(self, filename, overwrite, **kwd)\u001b[0m\n\u001b[1;32m     22\u001b[0m         with TrajectoryWriter(\n\u001b[1;32m     23\u001b[0m                 \u001b[0mfilename\u001b[0m\u001b[0;34m=\u001b[0m\u001b[0mfilename\u001b[0m\u001b[0;34m,\u001b[0m \u001b[0mtop\u001b[0m\u001b[0;34m=\u001b[0m\u001b[0mself\u001b[0m\u001b[0;34m.\u001b[0m\u001b[0mtop\u001b[0m\u001b[0;34m,\u001b[0m \u001b[0moverwrite\u001b[0m\u001b[0;34m=\u001b[0m\u001b[0moverwrite\u001b[0m\u001b[0;34m,\u001b[0m\u001b[0;34m\u001b[0m\u001b[0;34m\u001b[0m\u001b[0m\n\u001b[0;32m---> 24\u001b[0;31m                 **kwd) as trajout:\n\u001b[0m\u001b[1;32m     25\u001b[0m \u001b[0;34m\u001b[0m\u001b[0m\n\u001b[1;32m     26\u001b[0m             \u001b[0;32mfor\u001b[0m \u001b[0mframe\u001b[0m \u001b[0;32min\u001b[0m \u001b[0mself\u001b[0m\u001b[0;34m:\u001b[0m\u001b[0;34m\u001b[0m\u001b[0;34m\u001b[0m\u001b[0m\n",
      "\u001b[0;32mpytraj/trajectory/c_traj/c_trajout.pyx\u001b[0m in \u001b[0;36mpytraj.trajectory.c_traj.c_trajout.TrajectoryWriter.__cinit__ (pytraj/trajectory/c_traj/c_trajout.cpp:3276)\u001b[0;34m()\u001b[0m\n",
      "\u001b[0;32mpytraj/trajectory/c_traj/c_trajout.pyx\u001b[0m in \u001b[0;36mpytraj.trajectory.c_traj.c_trajout.TrajectoryWriter.open (pytraj/trajectory/c_traj/c_trajout.cpp:4210)\u001b[0;34m()\u001b[0m\n",
      "\u001b[0;31mRuntimeError\u001b[0m: file exist and you're in overwrite=False mode"
     ]
    }
   ],
   "source": [
    "from IPython.display import display, HTML\n",
    "\n",
    "CSS = \"\"\"\n",
    ".output {\n",
    "    display: flex;\n",
    "    align-items: center;\n",
    "    text-align: center;\n",
    "}\n",
    "\"\"\"\n",
    "\n",
    "HTML('<style>{}</style>'.format(CSS))\n",
    "\n",
    "#Draw a color bar for the edge coloring,\n",
    "#(nglview does not seem to support this yet)\n",
    "correlation_data_utilities.drawEdgeColorBar(tempCmat,maskInds=nzInds,\n",
    "                 cmap=tempCmap,label='Betweenness',\n",
    "                 cNorm=cNorm,\n",
    "                 orientation='horizontal')\n",
    "\n",
    "#Render the filtered interaction network using nglview with\n",
    "#the edge width and colormaps generated above\n",
    "struc=strucDict[list(strucDict.keys())[0]]\n",
    "view=nv.show_pytraj(struc)\n",
    "view.clear_representations()\n",
    "for res in sourceSet:\n",
    "    view.add_representation('spacefill',selection=str(res+1)+' and .CA')\n",
    "for res in targetSet:\n",
    "    view.add_representation('spacefill',selection=str(res+1)+' and .CA')\n",
    "view.add_representation('cartoon',selection='backbone',alpha=.5)\n",
    "correlation_data_utilities.drawProtCorrMat(protStruc=struc,corrMat=plotMat,ngViewOb=view,\n",
    "                    frame=0,colorsArray=edgeColors,radiiMat=radiiMat,\n",
    "                    undirected=True)\n",
    "view"
   ]
  },
  {
   "cell_type": "markdown",
   "metadata": {},
   "source": [
    "## Compute top 100 paths"
   ]
  },
  {
   "cell_type": "code",
   "execution_count": 68,
   "metadata": {},
   "outputs": [
    {
     "name": "stdout",
     "output_type": "stream",
     "text": [
      "top 100 energy weighted paths convergence: 1.137e-04\n",
      "top 100 energy betweenness paths convergence: 1.146e-04\n"
     ]
    }
   ],
   "source": [
    "print(\"top 100 energy weighted paths convergence: %.3e\"%alphas[99])\n",
    "print(\"top 100 energy betweenness paths convergence: %.3e\"%btwAlphas[99])"
   ]
  },
  {
   "cell_type": "code",
   "execution_count": 69,
   "metadata": {},
   "outputs": [],
   "source": [
    "def pathList_to_edgeSetInds(pathList,undirected=True,sep='_'):\n",
    "    edgeList=[]\n",
    "    for path in pathList:\n",
    "        edgeList=np.unique(np.concatenate([\n",
    "            edgeList,\n",
    "            [sep.join(list(map(str,edgeInds))) \\\n",
    "             for edgeInds in zip(path[:-1],path[1:])]\n",
    "        ]))\n",
    "        if undirected:\n",
    "            edgeList=np.unique(np.concatenate([\n",
    "            edgeList,\n",
    "            [sep.join(list(map(str,edgeInds))) \\\n",
    "             for edgeInds in zip(path[1:],path[:-1])]\n",
    "        ]))\n",
    "    eInds=np.array(list(map(lambda x: x.split(sep),edgeList)),dtype=int)\n",
    "    return((eInds[:,0],eInds[:,1]))"
   ]
  },
  {
   "cell_type": "markdown",
   "metadata": {},
   "source": [
    "### Compte edge color and radii for Reciprocal Interaction Energy Weighted Paths"
   ]
  },
  {
   "cell_type": "code",
   "execution_count": 70,
   "metadata": {},
   "outputs": [],
   "source": [
    "topPaths=pathList[:100]\n",
    "topPathEdges=pathList_to_edgeSetInds(topPaths)\n",
    "\n",
    "system='igps'\n",
    "variant='apo'\n",
    "nRes=454\n",
    "Tsim=310.15\n",
    "kb=0.0019872041\n",
    "magCut=kb*Tsim*1.0\n",
    "seqDelta=0\n",
    "#filter out desired interaction energy edges based\n",
    "#for the given system based upon energy and\n",
    "#sequence delta cutoffs\n",
    "matData=sigData[\n",
    "    (sigData['System']==system) & \\\n",
    "    (sigData['Variant']==variant) & \\\n",
    "    #((sigData['ResNum_1']-sigData['ResNum_2'])<seqDelta) &\n",
    "    ((sigData['E_Interact.Mean'].abs() - sigData['E_Interact.Std_Err']) > magCut)]\n",
    "tempMat=sp.sparse.coo_matrix(\n",
    "    (matData['E_Interact.Mean'],\n",
    "     (matData['ResNum_1']-1,matData['ResNum_2']-1)))\n",
    "\n",
    "plotMat=np.zeros(tempMat.shape)\n",
    "plotMat[topPathEdges]=tempMat.todense()[topPathEdges]\n",
    "\n",
    "nzInds=np.nonzero(plotMat)\n",
    "\n",
    "#Create a color map for edges based on log(abs(E_Interact.Mean))\n",
    "tempCmap=matplotlib.cm.get_cmap('Spectral',2048)\n",
    "tempCmat=np.array(plotMat)\n",
    "vMin=np.min(tempCmat)\n",
    "vCenter=0\n",
    "vMax=np.max(tempCmat)\n",
    "cNorm=matplotlib.colors.DivergingNorm(vmin=vMin,vcenter=vCenter,vmax=vMax)\n",
    "#tempCmat[nzInds]=np.log(tempCmat[nzInds])\n",
    "edgeColors=correlation_data_utilities.getCorrNetEdgeColors(tempCmat,maskInds=nzInds,cmap=tempCmap,\n",
    "                                cNorm=cNorm)\n",
    "\n",
    "#Compute widths for edges based on lob(abs(E_Interact.Mean))\n",
    "#rMin and rMax set minimum and maximum edgewidths\n",
    "#edgwidth will then interpolate linearly between those two\n",
    "#bounds.\n",
    "eMin=.0625\n",
    "eMax=0.5\n",
    "radiiMat=correlation_data_utilities.getCorrNetEdgeRadii(plotMat,maskInds=nzInds,eMin=eMin,eMax=eMax)"
   ]
  },
  {
   "cell_type": "markdown",
   "metadata": {},
   "source": [
    "### Inspect color and radii distribtuions"
   ]
  },
  {
   "cell_type": "code",
   "execution_count": 71,
   "metadata": {},
   "outputs": [
    {
     "data": {
      "image/png": "[encoded data removed]",
      "text/plain": [
       "<Figure size 432x288 with 1 Axes>"
      ]
     },
     "metadata": {
      "needs_background": "light"
     },
     "output_type": "display_data"
    },
    {
     "data": {
      "image/png": "[encoded data removed]",
      "text/plain": [
       "<Figure size 432x288 with 1 Axes>"
      ]
     },
     "metadata": {
      "needs_background": "light"
     },
     "output_type": "display_data"
    },
    {
     "data": {
      "image/png": "[encoded data removed]",
      "text/plain": [
       "<Figure size 432x288 with 1 Axes>"
      ]
     },
     "metadata": {
      "needs_background": "light"
     },
     "output_type": "display_data"
    },
    {
     "data": {
      "image/png": "[encoded data removed]",
      "text/plain": [
       "<Figure size 432x288 with 1 Axes>"
      ]
     },
     "metadata": {
      "needs_background": "light"
     },
     "output_type": "display_data"
    }
   ],
   "source": [
    "#Plot distribution histograms for edge widths and edge color rgb values\n",
    "sns.distplot(radiiMat[np.nonzero(radiiMat)].flatten(),\n",
    "             kde=False)\n",
    "plt.title('Edge Width distribution')\n",
    "plt.show()\n",
    "\n",
    "clist=['red','green','blue']\n",
    "for ii in np.arange(3):\n",
    "    sns.distplot(edgeColors[:,:,ii][np.nonzero(edgeColors[:,:,ii])].flatten(),\n",
    "                 kde=False,color=clist[ii])\n",
    "plt.title('Edge rgb color value distribution')\n",
    "plt.show()\n",
    "\n",
    "sortArr=np.argsort(tempCmat[np.nonzero(tempCmat)])\n",
    "sortedInds=np.array(list(zip(nzInds[0],nzInds[1])))[sortArr]\n",
    "sortedNzInds=(sortedInds[:,0],sortedInds[:,1])\n",
    "\n",
    "clist=['red','green','blue']\n",
    "for ii in np.arange(3):\n",
    "    plt.plot(edgeColors[:,:,ii][sortedNzInds],c=clist[ii])\n",
    "plt.title('Value Sorted Edge rgb color values')\n",
    "plt.show()\n",
    "\n",
    "plt.plot(tempCmat[sortedNzInds])\n",
    "plt.title('Sorted Edge Values')\n",
    "plt.show()"
   ]
  },
  {
   "cell_type": "markdown",
   "metadata": {},
   "source": [
    "### Visualize top 100 reciprocal energy weighted paths"
   ]
  },
  {
   "cell_type": "code",
   "execution_count": 72,
   "metadata": {},
   "outputs": [
    {
     "name": "stdout",
     "output_type": "stream",
     "text": [
      "sources:  [49]\n",
      "targets:  [432]\n"
     ]
    },
    {
     "data": {
      "image/png": "[encoded data removed]",
      "text/plain": [
       "<Figure size 1152x288 with 1 Axes>"
      ]
     },
     "metadata": {
      "needs_background": "light"
     },
     "output_type": "display_data"
    },
    {
     "ename": "RuntimeError",
     "evalue": "file exist and you're in overwrite=False mode",
     "output_type": "error",
     "traceback": [
      "\u001b[0;31m---------------------------------------------------------------------------\u001b[0m",
      "\u001b[0;31mRuntimeError\u001b[0m                              Traceback (most recent call last)",
      "\u001b[0;32m<ipython-input-72-779daebe24a8>\u001b[0m in \u001b[0;36m<module>\u001b[0;34m\u001b[0m\n\u001b[1;32m     23\u001b[0m \u001b[0;31m#the edge width and colormaps generated above\u001b[0m\u001b[0;34m\u001b[0m\u001b[0;34m\u001b[0m\u001b[0;34m\u001b[0m\u001b[0m\n\u001b[1;32m     24\u001b[0m \u001b[0mstruc\u001b[0m\u001b[0;34m=\u001b[0m\u001b[0mstrucDict\u001b[0m\u001b[0;34m[\u001b[0m\u001b[0mlist\u001b[0m\u001b[0;34m(\u001b[0m\u001b[0mstrucDict\u001b[0m\u001b[0;34m.\u001b[0m\u001b[0mkeys\u001b[0m\u001b[0;34m(\u001b[0m\u001b[0;34m)\u001b[0m\u001b[0;34m)\u001b[0m\u001b[0;34m[\u001b[0m\u001b[0;36m0\u001b[0m\u001b[0;34m]\u001b[0m\u001b[0;34m]\u001b[0m\u001b[0;34m\u001b[0m\u001b[0;34m\u001b[0m\u001b[0m\n\u001b[0;32m---> 25\u001b[0;31m \u001b[0mview\u001b[0m\u001b[0;34m=\u001b[0m\u001b[0mnv\u001b[0m\u001b[0;34m.\u001b[0m\u001b[0mshow_pytraj\u001b[0m\u001b[0;34m(\u001b[0m\u001b[0mstruc\u001b[0m\u001b[0;34m)\u001b[0m\u001b[0;34m\u001b[0m\u001b[0;34m\u001b[0m\u001b[0m\n\u001b[0m\u001b[1;32m     26\u001b[0m \u001b[0mview\u001b[0m\u001b[0;34m.\u001b[0m\u001b[0mclear_representations\u001b[0m\u001b[0;34m(\u001b[0m\u001b[0;34m)\u001b[0m\u001b[0;34m\u001b[0m\u001b[0;34m\u001b[0m\u001b[0m\n\u001b[1;32m     27\u001b[0m \u001b[0;32mfor\u001b[0m \u001b[0mres\u001b[0m \u001b[0;32min\u001b[0m \u001b[0msourceSet\u001b[0m\u001b[0;34m:\u001b[0m\u001b[0;34m\u001b[0m\u001b[0;34m\u001b[0m\u001b[0m\n",
      "\u001b[0;32m/anaconda3/lib/python3.6/site-packages/nglview/show.py\u001b[0m in \u001b[0;36mshow_pytraj\u001b[0;34m(pytraj_trajectory, **kwargs)\u001b[0m\n\u001b[1;32m    314\u001b[0m \u001b[0;34m\u001b[0m\u001b[0m\n\u001b[1;32m    315\u001b[0m     \u001b[0mtrajlist\u001b[0m \u001b[0;34m=\u001b[0m \u001b[0;34m[\u001b[0m\u001b[0mPyTrajTrajectory\u001b[0m\u001b[0;34m(\u001b[0m\u001b[0mtraj\u001b[0m\u001b[0;34m)\u001b[0m \u001b[0;32mfor\u001b[0m \u001b[0mtraj\u001b[0m \u001b[0;32min\u001b[0m \u001b[0mtrajlist\u001b[0m\u001b[0;34m]\u001b[0m\u001b[0;34m\u001b[0m\u001b[0;34m\u001b[0m\u001b[0m\n\u001b[0;32m--> 316\u001b[0;31m     \u001b[0;32mreturn\u001b[0m \u001b[0mNGLWidget\u001b[0m\u001b[0;34m(\u001b[0m\u001b[0mtrajlist\u001b[0m\u001b[0;34m,\u001b[0m \u001b[0;34m**\u001b[0m\u001b[0mkwargs\u001b[0m\u001b[0;34m)\u001b[0m\u001b[0;34m\u001b[0m\u001b[0;34m\u001b[0m\u001b[0m\n\u001b[0m\u001b[1;32m    317\u001b[0m \u001b[0;34m\u001b[0m\u001b[0m\n\u001b[1;32m    318\u001b[0m \u001b[0;34m\u001b[0m\u001b[0m\n",
      "\u001b[0;32m/anaconda3/lib/python3.6/site-packages/nglview/widget.py\u001b[0m in \u001b[0;36m__init__\u001b[0;34m(self, structure, representations, parameters, **kwargs)\u001b[0m\n\u001b[1;32m    240\u001b[0m             \u001b[0;32mfor\u001b[0m \u001b[0mtrajectory\u001b[0m \u001b[0;32min\u001b[0m \u001b[0mtrajectories\u001b[0m\u001b[0;34m:\u001b[0m\u001b[0;34m\u001b[0m\u001b[0;34m\u001b[0m\u001b[0m\n\u001b[1;32m    241\u001b[0m                 \u001b[0mname\u001b[0m \u001b[0;34m=\u001b[0m \u001b[0mpy_utils\u001b[0m\u001b[0;34m.\u001b[0m\u001b[0mget_name\u001b[0m\u001b[0;34m(\u001b[0m\u001b[0mtrajectory\u001b[0m\u001b[0;34m,\u001b[0m \u001b[0mkwargs\u001b[0m\u001b[0;34m)\u001b[0m\u001b[0;34m\u001b[0m\u001b[0;34m\u001b[0m\u001b[0m\n\u001b[0;32m--> 242\u001b[0;31m                 \u001b[0mself\u001b[0m\u001b[0;34m.\u001b[0m\u001b[0madd_trajectory\u001b[0m\u001b[0;34m(\u001b[0m\u001b[0mtrajectory\u001b[0m\u001b[0;34m,\u001b[0m \u001b[0mname\u001b[0m\u001b[0;34m=\u001b[0m\u001b[0mname\u001b[0m\u001b[0;34m,\u001b[0m \u001b[0;34m**\u001b[0m\u001b[0mkwargs\u001b[0m\u001b[0;34m)\u001b[0m\u001b[0;34m\u001b[0m\u001b[0;34m\u001b[0m\u001b[0m\n\u001b[0m\u001b[1;32m    243\u001b[0m         \u001b[0;32melse\u001b[0m\u001b[0;34m:\u001b[0m\u001b[0;34m\u001b[0m\u001b[0;34m\u001b[0m\u001b[0m\n\u001b[1;32m    244\u001b[0m             \u001b[0;32mif\u001b[0m \u001b[0mstructure\u001b[0m \u001b[0;32mis\u001b[0m \u001b[0;32mnot\u001b[0m \u001b[0;32mNone\u001b[0m\u001b[0;34m:\u001b[0m\u001b[0;34m\u001b[0m\u001b[0;34m\u001b[0m\u001b[0m\n",
      "\u001b[0;32m/anaconda3/lib/python3.6/site-packages/nglview/widget.py\u001b[0m in \u001b[0;36madd_trajectory\u001b[0;34m(self, trajectory, **kwargs)\u001b[0m\n\u001b[1;32m   1140\u001b[0m             \u001b[0mtrajectory\u001b[0m \u001b[0;34m=\u001b[0m \u001b[0mtrajectory\u001b[0m\u001b[0;34m\u001b[0m\u001b[0;34m\u001b[0m\u001b[0m\n\u001b[1;32m   1141\u001b[0m \u001b[0;34m\u001b[0m\u001b[0m\n\u001b[0;32m-> 1142\u001b[0;31m         \u001b[0mself\u001b[0m\u001b[0;34m.\u001b[0m\u001b[0m_load_data\u001b[0m\u001b[0;34m(\u001b[0m\u001b[0mtrajectory\u001b[0m\u001b[0;34m,\u001b[0m \u001b[0;34m**\u001b[0m\u001b[0mkwargs\u001b[0m\u001b[0;34m)\u001b[0m\u001b[0;34m\u001b[0m\u001b[0;34m\u001b[0m\u001b[0m\n\u001b[0m\u001b[1;32m   1143\u001b[0m         \u001b[0msetattr\u001b[0m\u001b[0;34m(\u001b[0m\u001b[0mtrajectory\u001b[0m\u001b[0;34m,\u001b[0m \u001b[0;34m'shown'\u001b[0m\u001b[0;34m,\u001b[0m \u001b[0;32mTrue\u001b[0m\u001b[0;34m)\u001b[0m\u001b[0;34m\u001b[0m\u001b[0;34m\u001b[0m\u001b[0m\n\u001b[1;32m   1144\u001b[0m         \u001b[0mself\u001b[0m\u001b[0;34m.\u001b[0m\u001b[0m_trajlist\u001b[0m\u001b[0;34m.\u001b[0m\u001b[0mappend\u001b[0m\u001b[0;34m(\u001b[0m\u001b[0mtrajectory\u001b[0m\u001b[0;34m)\u001b[0m\u001b[0;34m\u001b[0m\u001b[0;34m\u001b[0m\u001b[0m\n",
      "\u001b[0;32m/anaconda3/lib/python3.6/site-packages/nglview/widget.py\u001b[0m in \u001b[0;36m_load_data\u001b[0;34m(self, obj, **kwargs)\u001b[0m\n\u001b[1;32m   1218\u001b[0m         \u001b[0;32mif\u001b[0m \u001b[0;32mnot\u001b[0m \u001b[0mis_url\u001b[0m\u001b[0;34m:\u001b[0m\u001b[0;34m\u001b[0m\u001b[0;34m\u001b[0m\u001b[0m\n\u001b[1;32m   1219\u001b[0m             \u001b[0;32mif\u001b[0m \u001b[0mhasattr\u001b[0m\u001b[0;34m(\u001b[0m\u001b[0mobj\u001b[0m\u001b[0;34m,\u001b[0m \u001b[0;34m'get_structure_string'\u001b[0m\u001b[0;34m)\u001b[0m\u001b[0;34m:\u001b[0m\u001b[0;34m\u001b[0m\u001b[0;34m\u001b[0m\u001b[0m\n\u001b[0;32m-> 1220\u001b[0;31m                 \u001b[0mblob\u001b[0m \u001b[0;34m=\u001b[0m \u001b[0mobj\u001b[0m\u001b[0;34m.\u001b[0m\u001b[0mget_structure_string\u001b[0m\u001b[0;34m(\u001b[0m\u001b[0;34m)\u001b[0m\u001b[0;34m\u001b[0m\u001b[0;34m\u001b[0m\u001b[0m\n\u001b[0m\u001b[1;32m   1221\u001b[0m                 \u001b[0mkwargs2\u001b[0m\u001b[0;34m[\u001b[0m\u001b[0;34m'ext'\u001b[0m\u001b[0;34m]\u001b[0m \u001b[0;34m=\u001b[0m \u001b[0mobj\u001b[0m\u001b[0;34m.\u001b[0m\u001b[0mext\u001b[0m\u001b[0;34m\u001b[0m\u001b[0;34m\u001b[0m\u001b[0m\n\u001b[1;32m   1222\u001b[0m                 \u001b[0mpassing_buffer\u001b[0m \u001b[0;34m=\u001b[0m \u001b[0;32mTrue\u001b[0m\u001b[0;34m\u001b[0m\u001b[0;34m\u001b[0m\u001b[0m\n",
      "\u001b[0;32m/anaconda3/lib/python3.6/site-packages/nglview/adaptor.py\u001b[0m in \u001b[0;36mget_structure_string\u001b[0;34m(self, index)\u001b[0m\n\u001b[1;32m    362\u001b[0m \u001b[0;34m\u001b[0m\u001b[0m\n\u001b[1;32m    363\u001b[0m     \u001b[0;32mdef\u001b[0m \u001b[0mget_structure_string\u001b[0m\u001b[0;34m(\u001b[0m\u001b[0mself\u001b[0m\u001b[0;34m,\u001b[0m \u001b[0mindex\u001b[0m\u001b[0;34m=\u001b[0m\u001b[0;36m0\u001b[0m\u001b[0;34m)\u001b[0m\u001b[0;34m:\u001b[0m\u001b[0;34m\u001b[0m\u001b[0;34m\u001b[0m\u001b[0m\n\u001b[0;32m--> 364\u001b[0;31m         \u001b[0;32mreturn\u001b[0m \u001b[0m_get_structure_string\u001b[0m\u001b[0;34m(\u001b[0m\u001b[0mself\u001b[0m\u001b[0;34m.\u001b[0m\u001b[0mtrajectory\u001b[0m\u001b[0;34m[\u001b[0m\u001b[0mindex\u001b[0m\u001b[0;34m:\u001b[0m\u001b[0mindex\u001b[0m \u001b[0;34m+\u001b[0m \u001b[0;36m1\u001b[0m\u001b[0;34m]\u001b[0m\u001b[0;34m.\u001b[0m\u001b[0msave\u001b[0m\u001b[0;34m)\u001b[0m\u001b[0;34m\u001b[0m\u001b[0;34m\u001b[0m\u001b[0m\n\u001b[0m\u001b[1;32m    365\u001b[0m \u001b[0;34m\u001b[0m\u001b[0m\n\u001b[1;32m    366\u001b[0m \u001b[0;34m\u001b[0m\u001b[0m\n",
      "\u001b[0;32m/anaconda3/lib/python3.6/site-packages/nglview/adaptor.py\u001b[0m in \u001b[0;36m_get_structure_string\u001b[0;34m(write_method, suffix)\u001b[0m\n\u001b[1;32m     57\u001b[0m \u001b[0;32mdef\u001b[0m \u001b[0m_get_structure_string\u001b[0m\u001b[0;34m(\u001b[0m\u001b[0mwrite_method\u001b[0m\u001b[0;34m,\u001b[0m \u001b[0msuffix\u001b[0m\u001b[0;34m=\u001b[0m\u001b[0;34m'.pdb'\u001b[0m\u001b[0;34m)\u001b[0m\u001b[0;34m:\u001b[0m\u001b[0;34m\u001b[0m\u001b[0;34m\u001b[0m\u001b[0m\n\u001b[1;32m     58\u001b[0m     \u001b[0;32mwith\u001b[0m \u001b[0mmkstemp_wrapper\u001b[0m\u001b[0;34m(\u001b[0m\u001b[0msuffix\u001b[0m\u001b[0;34m=\u001b[0m\u001b[0msuffix\u001b[0m\u001b[0;34m)\u001b[0m \u001b[0;32mas\u001b[0m \u001b[0mfname\u001b[0m\u001b[0;34m:\u001b[0m\u001b[0;34m\u001b[0m\u001b[0;34m\u001b[0m\u001b[0m\n\u001b[0;32m---> 59\u001b[0;31m         \u001b[0mwrite_method\u001b[0m\u001b[0;34m(\u001b[0m\u001b[0mfname\u001b[0m\u001b[0;34m)\u001b[0m\u001b[0;34m\u001b[0m\u001b[0;34m\u001b[0m\u001b[0m\n\u001b[0m\u001b[1;32m     60\u001b[0m         \u001b[0;32mwith\u001b[0m \u001b[0mopen\u001b[0m\u001b[0;34m(\u001b[0m\u001b[0mfname\u001b[0m\u001b[0;34m)\u001b[0m \u001b[0;32mas\u001b[0m \u001b[0mfh\u001b[0m\u001b[0;34m:\u001b[0m\u001b[0;34m\u001b[0m\u001b[0;34m\u001b[0m\u001b[0m\n\u001b[1;32m     61\u001b[0m             \u001b[0;32mreturn\u001b[0m \u001b[0mfh\u001b[0m\u001b[0;34m.\u001b[0m\u001b[0mread\u001b[0m\u001b[0;34m(\u001b[0m\u001b[0;34m)\u001b[0m\u001b[0;34m\u001b[0m\u001b[0;34m\u001b[0m\u001b[0m\n",
      "\u001b[0;32m/anaconda3/lib/python3.6/site-packages/pytraj/trajectory/shared_trajectory.py\u001b[0m in \u001b[0;36msave\u001b[0;34m(self, filename, overwrite, **kwd)\u001b[0m\n\u001b[1;32m     22\u001b[0m         with TrajectoryWriter(\n\u001b[1;32m     23\u001b[0m                 \u001b[0mfilename\u001b[0m\u001b[0;34m=\u001b[0m\u001b[0mfilename\u001b[0m\u001b[0;34m,\u001b[0m \u001b[0mtop\u001b[0m\u001b[0;34m=\u001b[0m\u001b[0mself\u001b[0m\u001b[0;34m.\u001b[0m\u001b[0mtop\u001b[0m\u001b[0;34m,\u001b[0m \u001b[0moverwrite\u001b[0m\u001b[0;34m=\u001b[0m\u001b[0moverwrite\u001b[0m\u001b[0;34m,\u001b[0m\u001b[0;34m\u001b[0m\u001b[0;34m\u001b[0m\u001b[0m\n\u001b[0;32m---> 24\u001b[0;31m                 **kwd) as trajout:\n\u001b[0m\u001b[1;32m     25\u001b[0m \u001b[0;34m\u001b[0m\u001b[0m\n\u001b[1;32m     26\u001b[0m             \u001b[0;32mfor\u001b[0m \u001b[0mframe\u001b[0m \u001b[0;32min\u001b[0m \u001b[0mself\u001b[0m\u001b[0;34m:\u001b[0m\u001b[0;34m\u001b[0m\u001b[0;34m\u001b[0m\u001b[0m\n",
      "\u001b[0;32mpytraj/trajectory/c_traj/c_trajout.pyx\u001b[0m in \u001b[0;36mpytraj.trajectory.c_traj.c_trajout.TrajectoryWriter.__cinit__ (pytraj/trajectory/c_traj/c_trajout.cpp:3276)\u001b[0;34m()\u001b[0m\n",
      "\u001b[0;32mpytraj/trajectory/c_traj/c_trajout.pyx\u001b[0m in \u001b[0;36mpytraj.trajectory.c_traj.c_trajout.TrajectoryWriter.open (pytraj/trajectory/c_traj/c_trajout.cpp:4210)\u001b[0;34m()\u001b[0m\n",
      "\u001b[0;31mRuntimeError\u001b[0m: file exist and you're in overwrite=False mode"
     ]
    }
   ],
   "source": [
    "from IPython.display import display, HTML\n",
    "\n",
    "CSS = \"\"\"\n",
    ".output {\n",
    "    display: flex;\n",
    "    align-items: center;\n",
    "    text-align: center;\n",
    "}\n",
    "\"\"\"\n",
    "\n",
    "HTML('<style>{}</style>'.format(CSS))\n",
    "\n",
    "print(\"sources: \",sourceSet)\n",
    "print(\"targets: \",targetSet)\n",
    "#Draw a color bar for the edge coloring,\n",
    "#(nglview does not seem to support this yet)\n",
    "correlation_data_utilities.drawEdgeColorBar(tempCmat,maskInds=nzInds,\n",
    "                 cmap=tempCmap,label='E_Interaction',\n",
    "                 cNorm=cNorm,\n",
    "                 orientation='horizontal')\n",
    "\n",
    "#Render the filtered interaction network using nglview with\n",
    "#the edge width and colormaps generated above\n",
    "struc=strucDict[list(strucDict.keys())[0]]\n",
    "view=nv.show_pytraj(struc)\n",
    "view.clear_representations()\n",
    "for res in sourceSet:\n",
    "    view.add_representation('spacefill',selection=str(res+1)+\" and .CA\")\n",
    "for res in targetSet:\n",
    "    view.add_representation('spacefill',selection=str(res+1)+\" and .CA\")\n",
    "view.add_representation('line',selection=\"backbone\",alpha=.5)\n",
    "correlation_data_utilities.drawProtCorrMat(protStruc=struc,corrMat=plotMat,ngViewOb=view,\n",
    "                    frame=0,colorsArray=edgeColors,radiiMat=radiiMat,\n",
    "                    undirected=True)\n",
    "view"
   ]
  },
  {
   "cell_type": "markdown",
   "metadata": {},
   "source": [
    "### Compute edge color and radii for top 100 reciprocal current flow betweenness paths"
   ]
  },
  {
   "cell_type": "code",
   "execution_count": 73,
   "metadata": {},
   "outputs": [],
   "source": [
    "topPaths=btwPathList[:100]\n",
    "topPathEdges=pathList_to_edgeSetInds(topPaths)\n",
    "tempMat=copy.copy(btwMat)\n",
    "tempMat=tempMat+tempMat.T\n",
    "plotMat=np.zeros(tempMat.shape)\n",
    "plotMat[topPathEdges]=tempMat[topPathEdges]\n",
    "\n",
    "nzInds=np.nonzero(plotMat)\n",
    "\n",
    "#Create a color map for edges based on log(abs(E_Interact.Mean))\n",
    "tempCmap=matplotlib.cm.get_cmap('plasma',2048)\n",
    "tempCmat=np.zeros(tempMat.shape)\n",
    "tempCmat[nzInds]=np.array(tempMat[nzInds]) #plotMat)\n",
    "vMin=np.min(tempCmat[nzInds])\n",
    "vCenter=np.median(tempCmat[nzInds])\n",
    "vMax=np.max(tempCmat[nzInds])\n",
    "cNorm=matplotlib.colors.DivergingNorm(vmin=vMin,vcenter=vCenter,vmax=vMax)\n",
    "#tempCmat[nzInds]=np.log(tempCmat[nzInds])\n",
    "edgeColors=correlation_data_utilities.getCorrNetEdgeColors(tempCmat,maskInds=nzInds,cmap=tempCmap,\n",
    "                                cNorm=cNorm)\n",
    "\n",
    "#Compute widths for edges based on lob(abs(E_Interact.Mean))\n",
    "#rMin and rMax set minimum and maximum edgewidths\n",
    "#edgwidth will then interpolate linearly between those two\n",
    "#bounds.\n",
    "eMin=.0625\n",
    "eMax=0.5\n",
    "radiiMat=correlation_data_utilities.getCorrNetEdgeRadii(plotMat,maskInds=nzInds,eMin=eMin,eMax=eMax)"
   ]
  },
  {
   "cell_type": "markdown",
   "metadata": {},
   "source": [
    "### Inspect edge color and radii distributions"
   ]
  },
  {
   "cell_type": "code",
   "execution_count": 74,
   "metadata": {},
   "outputs": [
    {
     "data": {
      "image/png": "[encoded data removed]",
      "text/plain": [
       "<Figure size 432x288 with 1 Axes>"
      ]
     },
     "metadata": {
      "needs_background": "light"
     },
     "output_type": "display_data"
    },
    {
     "data": {
      "image/png": "[encoded data removed]",
      "text/plain": [
       "<Figure size 432x288 with 1 Axes>"
      ]
     },
     "metadata": {
      "needs_background": "light"
     },
     "output_type": "display_data"
    },
    {
     "data": {
      "image/png": "[encoded data removed]",
      "text/plain": [
       "<Figure size 432x288 with 1 Axes>"
      ]
     },
     "metadata": {
      "needs_background": "light"
     },
     "output_type": "display_data"
    },
    {
     "data": {
      "image/png": "[encoded data removed]",
      "text/plain": [
       "<Figure size 432x288 with 1 Axes>"
      ]
     },
     "metadata": {
      "needs_background": "light"
     },
     "output_type": "display_data"
    }
   ],
   "source": [
    "#Plot distribution histograms for edge widths and edge color rgb values\n",
    "sns.distplot(radiiMat[np.nonzero(radiiMat)].flatten(),\n",
    "             kde=False)\n",
    "plt.title('Edge Width distribution')\n",
    "plt.show()\n",
    "\n",
    "clist=['red','green','blue']\n",
    "for ii in np.arange(3):\n",
    "    sns.distplot(edgeColors[:,:,ii][np.nonzero(edgeColors[:,:,ii])].flatten(),\n",
    "                 kde=False,color=clist[ii])\n",
    "plt.title('Edge rgb color value distribution')\n",
    "plt.show()\n",
    "\n",
    "sortArr=np.argsort(tempCmat[np.nonzero(tempCmat)])\n",
    "sortedInds=np.array(list(zip(nzInds[0],nzInds[1])))[sortArr]\n",
    "sortedNzInds=(sortedInds[:,0],sortedInds[:,1])\n",
    "\n",
    "clist=['red','green','blue']\n",
    "for ii in np.arange(3):\n",
    "    plt.plot(edgeColors[:,:,ii][sortedNzInds],c=clist[ii])\n",
    "plt.title('Value Sorted Edge rgb color values')\n",
    "plt.show()\n",
    "\n",
    "plt.plot(tempCmat[sortedNzInds])\n",
    "plt.title('Sorted Edge Values')\n",
    "plt.show()"
   ]
  },
  {
   "cell_type": "markdown",
   "metadata": {},
   "source": [
    "### Render top 100 reciprocal current flow betweenness weighted paths"
   ]
  },
  {
   "cell_type": "code",
   "execution_count": 75,
   "metadata": {},
   "outputs": [
    {
     "data": {
      "image/png": "[encoded data removed]",
      "text/plain": [
       "<Figure size 1152x288 with 1 Axes>"
      ]
     },
     "metadata": {
      "needs_background": "light"
     },
     "output_type": "display_data"
    },
    {
     "ename": "RuntimeError",
     "evalue": "file exist and you're in overwrite=False mode",
     "output_type": "error",
     "traceback": [
      "\u001b[0;31m---------------------------------------------------------------------------\u001b[0m",
      "\u001b[0;31mRuntimeError\u001b[0m                              Traceback (most recent call last)",
      "\u001b[0;32m<ipython-input-75-95646491758d>\u001b[0m in \u001b[0;36m<module>\u001b[0;34m\u001b[0m\n\u001b[1;32m     21\u001b[0m \u001b[0;31m#the edge width and colormaps generated above\u001b[0m\u001b[0;34m\u001b[0m\u001b[0;34m\u001b[0m\u001b[0;34m\u001b[0m\u001b[0m\n\u001b[1;32m     22\u001b[0m \u001b[0mstruc\u001b[0m\u001b[0;34m=\u001b[0m\u001b[0mstrucDict\u001b[0m\u001b[0;34m[\u001b[0m\u001b[0mlist\u001b[0m\u001b[0;34m(\u001b[0m\u001b[0mstrucDict\u001b[0m\u001b[0;34m.\u001b[0m\u001b[0mkeys\u001b[0m\u001b[0;34m(\u001b[0m\u001b[0;34m)\u001b[0m\u001b[0;34m)\u001b[0m\u001b[0;34m[\u001b[0m\u001b[0;36m0\u001b[0m\u001b[0;34m]\u001b[0m\u001b[0;34m]\u001b[0m\u001b[0;34m\u001b[0m\u001b[0;34m\u001b[0m\u001b[0m\n\u001b[0;32m---> 23\u001b[0;31m \u001b[0mview\u001b[0m\u001b[0;34m=\u001b[0m\u001b[0mnv\u001b[0m\u001b[0;34m.\u001b[0m\u001b[0mshow_pytraj\u001b[0m\u001b[0;34m(\u001b[0m\u001b[0mstruc\u001b[0m\u001b[0;34m)\u001b[0m\u001b[0;34m\u001b[0m\u001b[0;34m\u001b[0m\u001b[0m\n\u001b[0m\u001b[1;32m     24\u001b[0m \u001b[0mview\u001b[0m\u001b[0;34m.\u001b[0m\u001b[0mclear_representations\u001b[0m\u001b[0;34m(\u001b[0m\u001b[0;34m)\u001b[0m\u001b[0;34m\u001b[0m\u001b[0;34m\u001b[0m\u001b[0m\n\u001b[1;32m     25\u001b[0m \u001b[0;32mfor\u001b[0m \u001b[0mres\u001b[0m \u001b[0;32min\u001b[0m \u001b[0msourceSet\u001b[0m\u001b[0;34m:\u001b[0m\u001b[0;34m\u001b[0m\u001b[0;34m\u001b[0m\u001b[0m\n",
      "\u001b[0;32m/anaconda3/lib/python3.6/site-packages/nglview/show.py\u001b[0m in \u001b[0;36mshow_pytraj\u001b[0;34m(pytraj_trajectory, **kwargs)\u001b[0m\n\u001b[1;32m    314\u001b[0m \u001b[0;34m\u001b[0m\u001b[0m\n\u001b[1;32m    315\u001b[0m     \u001b[0mtrajlist\u001b[0m \u001b[0;34m=\u001b[0m \u001b[0;34m[\u001b[0m\u001b[0mPyTrajTrajectory\u001b[0m\u001b[0;34m(\u001b[0m\u001b[0mtraj\u001b[0m\u001b[0;34m)\u001b[0m \u001b[0;32mfor\u001b[0m \u001b[0mtraj\u001b[0m \u001b[0;32min\u001b[0m \u001b[0mtrajlist\u001b[0m\u001b[0;34m]\u001b[0m\u001b[0;34m\u001b[0m\u001b[0;34m\u001b[0m\u001b[0m\n\u001b[0;32m--> 316\u001b[0;31m     \u001b[0;32mreturn\u001b[0m \u001b[0mNGLWidget\u001b[0m\u001b[0;34m(\u001b[0m\u001b[0mtrajlist\u001b[0m\u001b[0;34m,\u001b[0m \u001b[0;34m**\u001b[0m\u001b[0mkwargs\u001b[0m\u001b[0;34m)\u001b[0m\u001b[0;34m\u001b[0m\u001b[0;34m\u001b[0m\u001b[0m\n\u001b[0m\u001b[1;32m    317\u001b[0m \u001b[0;34m\u001b[0m\u001b[0m\n\u001b[1;32m    318\u001b[0m \u001b[0;34m\u001b[0m\u001b[0m\n",
      "\u001b[0;32m/anaconda3/lib/python3.6/site-packages/nglview/widget.py\u001b[0m in \u001b[0;36m__init__\u001b[0;34m(self, structure, representations, parameters, **kwargs)\u001b[0m\n\u001b[1;32m    240\u001b[0m             \u001b[0;32mfor\u001b[0m \u001b[0mtrajectory\u001b[0m \u001b[0;32min\u001b[0m \u001b[0mtrajectories\u001b[0m\u001b[0;34m:\u001b[0m\u001b[0;34m\u001b[0m\u001b[0;34m\u001b[0m\u001b[0m\n\u001b[1;32m    241\u001b[0m                 \u001b[0mname\u001b[0m \u001b[0;34m=\u001b[0m \u001b[0mpy_utils\u001b[0m\u001b[0;34m.\u001b[0m\u001b[0mget_name\u001b[0m\u001b[0;34m(\u001b[0m\u001b[0mtrajectory\u001b[0m\u001b[0;34m,\u001b[0m \u001b[0mkwargs\u001b[0m\u001b[0;34m)\u001b[0m\u001b[0;34m\u001b[0m\u001b[0;34m\u001b[0m\u001b[0m\n\u001b[0;32m--> 242\u001b[0;31m                 \u001b[0mself\u001b[0m\u001b[0;34m.\u001b[0m\u001b[0madd_trajectory\u001b[0m\u001b[0;34m(\u001b[0m\u001b[0mtrajectory\u001b[0m\u001b[0;34m,\u001b[0m \u001b[0mname\u001b[0m\u001b[0;34m=\u001b[0m\u001b[0mname\u001b[0m\u001b[0;34m,\u001b[0m \u001b[0;34m**\u001b[0m\u001b[0mkwargs\u001b[0m\u001b[0;34m)\u001b[0m\u001b[0;34m\u001b[0m\u001b[0;34m\u001b[0m\u001b[0m\n\u001b[0m\u001b[1;32m    243\u001b[0m         \u001b[0;32melse\u001b[0m\u001b[0;34m:\u001b[0m\u001b[0;34m\u001b[0m\u001b[0;34m\u001b[0m\u001b[0m\n\u001b[1;32m    244\u001b[0m             \u001b[0;32mif\u001b[0m \u001b[0mstructure\u001b[0m \u001b[0;32mis\u001b[0m \u001b[0;32mnot\u001b[0m \u001b[0;32mNone\u001b[0m\u001b[0;34m:\u001b[0m\u001b[0;34m\u001b[0m\u001b[0;34m\u001b[0m\u001b[0m\n",
      "\u001b[0;32m/anaconda3/lib/python3.6/site-packages/nglview/widget.py\u001b[0m in \u001b[0;36madd_trajectory\u001b[0;34m(self, trajectory, **kwargs)\u001b[0m\n\u001b[1;32m   1140\u001b[0m             \u001b[0mtrajectory\u001b[0m \u001b[0;34m=\u001b[0m \u001b[0mtrajectory\u001b[0m\u001b[0;34m\u001b[0m\u001b[0;34m\u001b[0m\u001b[0m\n\u001b[1;32m   1141\u001b[0m \u001b[0;34m\u001b[0m\u001b[0m\n\u001b[0;32m-> 1142\u001b[0;31m         \u001b[0mself\u001b[0m\u001b[0;34m.\u001b[0m\u001b[0m_load_data\u001b[0m\u001b[0;34m(\u001b[0m\u001b[0mtrajectory\u001b[0m\u001b[0;34m,\u001b[0m \u001b[0;34m**\u001b[0m\u001b[0mkwargs\u001b[0m\u001b[0;34m)\u001b[0m\u001b[0;34m\u001b[0m\u001b[0;34m\u001b[0m\u001b[0m\n\u001b[0m\u001b[1;32m   1143\u001b[0m         \u001b[0msetattr\u001b[0m\u001b[0;34m(\u001b[0m\u001b[0mtrajectory\u001b[0m\u001b[0;34m,\u001b[0m \u001b[0;34m'shown'\u001b[0m\u001b[0;34m,\u001b[0m \u001b[0;32mTrue\u001b[0m\u001b[0;34m)\u001b[0m\u001b[0;34m\u001b[0m\u001b[0;34m\u001b[0m\u001b[0m\n\u001b[1;32m   1144\u001b[0m         \u001b[0mself\u001b[0m\u001b[0;34m.\u001b[0m\u001b[0m_trajlist\u001b[0m\u001b[0;34m.\u001b[0m\u001b[0mappend\u001b[0m\u001b[0;34m(\u001b[0m\u001b[0mtrajectory\u001b[0m\u001b[0;34m)\u001b[0m\u001b[0;34m\u001b[0m\u001b[0;34m\u001b[0m\u001b[0m\n",
      "\u001b[0;32m/anaconda3/lib/python3.6/site-packages/nglview/widget.py\u001b[0m in \u001b[0;36m_load_data\u001b[0;34m(self, obj, **kwargs)\u001b[0m\n\u001b[1;32m   1218\u001b[0m         \u001b[0;32mif\u001b[0m \u001b[0;32mnot\u001b[0m \u001b[0mis_url\u001b[0m\u001b[0;34m:\u001b[0m\u001b[0;34m\u001b[0m\u001b[0;34m\u001b[0m\u001b[0m\n\u001b[1;32m   1219\u001b[0m             \u001b[0;32mif\u001b[0m \u001b[0mhasattr\u001b[0m\u001b[0;34m(\u001b[0m\u001b[0mobj\u001b[0m\u001b[0;34m,\u001b[0m \u001b[0;34m'get_structure_string'\u001b[0m\u001b[0;34m)\u001b[0m\u001b[0;34m:\u001b[0m\u001b[0;34m\u001b[0m\u001b[0;34m\u001b[0m\u001b[0m\n\u001b[0;32m-> 1220\u001b[0;31m                 \u001b[0mblob\u001b[0m \u001b[0;34m=\u001b[0m \u001b[0mobj\u001b[0m\u001b[0;34m.\u001b[0m\u001b[0mget_structure_string\u001b[0m\u001b[0;34m(\u001b[0m\u001b[0;34m)\u001b[0m\u001b[0;34m\u001b[0m\u001b[0;34m\u001b[0m\u001b[0m\n\u001b[0m\u001b[1;32m   1221\u001b[0m                 \u001b[0mkwargs2\u001b[0m\u001b[0;34m[\u001b[0m\u001b[0;34m'ext'\u001b[0m\u001b[0;34m]\u001b[0m \u001b[0;34m=\u001b[0m \u001b[0mobj\u001b[0m\u001b[0;34m.\u001b[0m\u001b[0mext\u001b[0m\u001b[0;34m\u001b[0m\u001b[0;34m\u001b[0m\u001b[0m\n\u001b[1;32m   1222\u001b[0m                 \u001b[0mpassing_buffer\u001b[0m \u001b[0;34m=\u001b[0m \u001b[0;32mTrue\u001b[0m\u001b[0;34m\u001b[0m\u001b[0;34m\u001b[0m\u001b[0m\n",
      "\u001b[0;32m/anaconda3/lib/python3.6/site-packages/nglview/adaptor.py\u001b[0m in \u001b[0;36mget_structure_string\u001b[0;34m(self, index)\u001b[0m\n\u001b[1;32m    362\u001b[0m \u001b[0;34m\u001b[0m\u001b[0m\n\u001b[1;32m    363\u001b[0m     \u001b[0;32mdef\u001b[0m \u001b[0mget_structure_string\u001b[0m\u001b[0;34m(\u001b[0m\u001b[0mself\u001b[0m\u001b[0;34m,\u001b[0m \u001b[0mindex\u001b[0m\u001b[0;34m=\u001b[0m\u001b[0;36m0\u001b[0m\u001b[0;34m)\u001b[0m\u001b[0;34m:\u001b[0m\u001b[0;34m\u001b[0m\u001b[0;34m\u001b[0m\u001b[0m\n\u001b[0;32m--> 364\u001b[0;31m         \u001b[0;32mreturn\u001b[0m \u001b[0m_get_structure_string\u001b[0m\u001b[0;34m(\u001b[0m\u001b[0mself\u001b[0m\u001b[0;34m.\u001b[0m\u001b[0mtrajectory\u001b[0m\u001b[0;34m[\u001b[0m\u001b[0mindex\u001b[0m\u001b[0;34m:\u001b[0m\u001b[0mindex\u001b[0m \u001b[0;34m+\u001b[0m \u001b[0;36m1\u001b[0m\u001b[0;34m]\u001b[0m\u001b[0;34m.\u001b[0m\u001b[0msave\u001b[0m\u001b[0;34m)\u001b[0m\u001b[0;34m\u001b[0m\u001b[0;34m\u001b[0m\u001b[0m\n\u001b[0m\u001b[1;32m    365\u001b[0m \u001b[0;34m\u001b[0m\u001b[0m\n\u001b[1;32m    366\u001b[0m \u001b[0;34m\u001b[0m\u001b[0m\n",
      "\u001b[0;32m/anaconda3/lib/python3.6/site-packages/nglview/adaptor.py\u001b[0m in \u001b[0;36m_get_structure_string\u001b[0;34m(write_method, suffix)\u001b[0m\n\u001b[1;32m     57\u001b[0m \u001b[0;32mdef\u001b[0m \u001b[0m_get_structure_string\u001b[0m\u001b[0;34m(\u001b[0m\u001b[0mwrite_method\u001b[0m\u001b[0;34m,\u001b[0m \u001b[0msuffix\u001b[0m\u001b[0;34m=\u001b[0m\u001b[0;34m'.pdb'\u001b[0m\u001b[0;34m)\u001b[0m\u001b[0;34m:\u001b[0m\u001b[0;34m\u001b[0m\u001b[0;34m\u001b[0m\u001b[0m\n\u001b[1;32m     58\u001b[0m     \u001b[0;32mwith\u001b[0m \u001b[0mmkstemp_wrapper\u001b[0m\u001b[0;34m(\u001b[0m\u001b[0msuffix\u001b[0m\u001b[0;34m=\u001b[0m\u001b[0msuffix\u001b[0m\u001b[0;34m)\u001b[0m \u001b[0;32mas\u001b[0m \u001b[0mfname\u001b[0m\u001b[0;34m:\u001b[0m\u001b[0;34m\u001b[0m\u001b[0;34m\u001b[0m\u001b[0m\n\u001b[0;32m---> 59\u001b[0;31m         \u001b[0mwrite_method\u001b[0m\u001b[0;34m(\u001b[0m\u001b[0mfname\u001b[0m\u001b[0;34m)\u001b[0m\u001b[0;34m\u001b[0m\u001b[0;34m\u001b[0m\u001b[0m\n\u001b[0m\u001b[1;32m     60\u001b[0m         \u001b[0;32mwith\u001b[0m \u001b[0mopen\u001b[0m\u001b[0;34m(\u001b[0m\u001b[0mfname\u001b[0m\u001b[0;34m)\u001b[0m \u001b[0;32mas\u001b[0m \u001b[0mfh\u001b[0m\u001b[0;34m:\u001b[0m\u001b[0;34m\u001b[0m\u001b[0;34m\u001b[0m\u001b[0m\n\u001b[1;32m     61\u001b[0m             \u001b[0;32mreturn\u001b[0m \u001b[0mfh\u001b[0m\u001b[0;34m.\u001b[0m\u001b[0mread\u001b[0m\u001b[0;34m(\u001b[0m\u001b[0;34m)\u001b[0m\u001b[0;34m\u001b[0m\u001b[0;34m\u001b[0m\u001b[0m\n",
      "\u001b[0;32m/anaconda3/lib/python3.6/site-packages/pytraj/trajectory/shared_trajectory.py\u001b[0m in \u001b[0;36msave\u001b[0;34m(self, filename, overwrite, **kwd)\u001b[0m\n\u001b[1;32m     22\u001b[0m         with TrajectoryWriter(\n\u001b[1;32m     23\u001b[0m                 \u001b[0mfilename\u001b[0m\u001b[0;34m=\u001b[0m\u001b[0mfilename\u001b[0m\u001b[0;34m,\u001b[0m \u001b[0mtop\u001b[0m\u001b[0;34m=\u001b[0m\u001b[0mself\u001b[0m\u001b[0;34m.\u001b[0m\u001b[0mtop\u001b[0m\u001b[0;34m,\u001b[0m \u001b[0moverwrite\u001b[0m\u001b[0;34m=\u001b[0m\u001b[0moverwrite\u001b[0m\u001b[0;34m,\u001b[0m\u001b[0;34m\u001b[0m\u001b[0;34m\u001b[0m\u001b[0m\n\u001b[0;32m---> 24\u001b[0;31m                 **kwd) as trajout:\n\u001b[0m\u001b[1;32m     25\u001b[0m \u001b[0;34m\u001b[0m\u001b[0m\n\u001b[1;32m     26\u001b[0m             \u001b[0;32mfor\u001b[0m \u001b[0mframe\u001b[0m \u001b[0;32min\u001b[0m \u001b[0mself\u001b[0m\u001b[0;34m:\u001b[0m\u001b[0;34m\u001b[0m\u001b[0;34m\u001b[0m\u001b[0m\n",
      "\u001b[0;32mpytraj/trajectory/c_traj/c_trajout.pyx\u001b[0m in \u001b[0;36mpytraj.trajectory.c_traj.c_trajout.TrajectoryWriter.__cinit__ (pytraj/trajectory/c_traj/c_trajout.cpp:3276)\u001b[0;34m()\u001b[0m\n",
      "\u001b[0;32mpytraj/trajectory/c_traj/c_trajout.pyx\u001b[0m in \u001b[0;36mpytraj.trajectory.c_traj.c_trajout.TrajectoryWriter.open (pytraj/trajectory/c_traj/c_trajout.cpp:4210)\u001b[0;34m()\u001b[0m\n",
      "\u001b[0;31mRuntimeError\u001b[0m: file exist and you're in overwrite=False mode"
     ]
    }
   ],
   "source": [
    "from IPython.display import display, HTML\n",
    "\n",
    "CSS = \"\"\"\n",
    ".output {\n",
    "    display: flex;\n",
    "    align-items: center;\n",
    "    text-align: center;\n",
    "}\n",
    "\"\"\"\n",
    "\n",
    "HTML('<style>{}</style>'.format(CSS))\n",
    "\n",
    "#Draw a color bar for the edge coloring,\n",
    "#(nglview does not seem to support this yet)\n",
    "correlation_data_utilities.drawEdgeColorBar(tempCmat,maskInds=nzInds,\n",
    "                 cmap=tempCmap,label='Betweenness',\n",
    "                 cNorm=cNorm,\n",
    "                 orientation='horizontal')\n",
    "\n",
    "#Render the filtered interaction network using nglview with\n",
    "#the edge width and colormaps generated above\n",
    "struc=strucDict[list(strucDict.keys())[0]]\n",
    "view=nv.show_pytraj(struc)\n",
    "view.clear_representations()\n",
    "for res in sourceSet:\n",
    "    view.add_representation('spacefill',selection=str(res+1)+\" and .CA\")\n",
    "for res in targetSet:\n",
    "    view.add_representation('spacefill',selection=str(res+1)+\" and .CA\")\n",
    "view.add_representation('line',selection=\"backbone\",alpha=.5)\n",
    "correlation_data_utilities.drawProtCorrMat(protStruc=struc,corrMat=plotMat,ngViewOb=view,\n",
    "                    frame=0,colorsArray=edgeColors,radiiMat=radiiMat,\n",
    "                    undirected=True)\n",
    "view"
   ]
  },
  {
   "cell_type": "markdown",
   "metadata": {},
   "source": [
    "# Visualize apo vs holo interaction energy differences (matrix view)"
   ]
  },
  {
   "cell_type": "code",
   "execution_count": 76,
   "metadata": {},
   "outputs": [
    {
     "data": {
      "text/html": [
       "<div>\n",
       "<style scoped>\n",
       "    .dataframe tbody tr th:only-of-type {\n",
       "        vertical-align: middle;\n",
       "    }\n",
       "\n",
       "    .dataframe tbody tr th {\n",
       "        vertical-align: top;\n",
       "    }\n",
       "\n",
       "    .dataframe thead th {\n",
       "        text-align: right;\n",
       "    }\n",
       "</style>\n",
       "<table border=\"1\" class=\"dataframe\">\n",
       "  <thead>\n",
       "    <tr style=\"text-align: right;\">\n",
       "      <th></th>\n",
       "      <th>System</th>\n",
       "      <th>Variant</th>\n",
       "      <th>ResNum_1</th>\n",
       "      <th>ResNum_2</th>\n",
       "      <th>ResName_1</th>\n",
       "      <th>ResName_2</th>\n",
       "      <th>E_Interact.Mean</th>\n",
       "      <th>E_Interact.Std_Err</th>\n",
       "    </tr>\n",
       "  </thead>\n",
       "  <tbody>\n",
       "    <tr>\n",
       "      <th>0</th>\n",
       "      <td>igps</td>\n",
       "      <td>apo</td>\n",
       "      <td>1</td>\n",
       "      <td>1</td>\n",
       "      <td>MET</td>\n",
       "      <td>MET</td>\n",
       "      <td>-32.826080</td>\n",
       "      <td>0.364449</td>\n",
       "    </tr>\n",
       "    <tr>\n",
       "      <th>1</th>\n",
       "      <td>igps</td>\n",
       "      <td>apo</td>\n",
       "      <td>1</td>\n",
       "      <td>2</td>\n",
       "      <td>MET</td>\n",
       "      <td>LEU</td>\n",
       "      <td>-27.286881</td>\n",
       "      <td>0.088237</td>\n",
       "    </tr>\n",
       "    <tr>\n",
       "      <th>2</th>\n",
       "      <td>igps</td>\n",
       "      <td>apo</td>\n",
       "      <td>1</td>\n",
       "      <td>3</td>\n",
       "      <td>MET</td>\n",
       "      <td>ALA</td>\n",
       "      <td>-0.529824</td>\n",
       "      <td>0.032005</td>\n",
       "    </tr>\n",
       "    <tr>\n",
       "      <th>3</th>\n",
       "      <td>igps</td>\n",
       "      <td>apo</td>\n",
       "      <td>1</td>\n",
       "      <td>4</td>\n",
       "      <td>MET</td>\n",
       "      <td>LYS</td>\n",
       "      <td>-0.196490</td>\n",
       "      <td>0.055238</td>\n",
       "    </tr>\n",
       "    <tr>\n",
       "      <th>4</th>\n",
       "      <td>igps</td>\n",
       "      <td>apo</td>\n",
       "      <td>1</td>\n",
       "      <td>247</td>\n",
       "      <td>MET</td>\n",
       "      <td>ASN</td>\n",
       "      <td>-1.124520</td>\n",
       "      <td>0.114242</td>\n",
       "    </tr>\n",
       "  </tbody>\n",
       "</table>\n",
       "</div>"
      ],
      "text/plain": [
       "  System Variant  ResNum_1  ResNum_2 ResName_1 ResName_2  E_Interact.Mean  \\\n",
       "0   igps     apo         1         1       MET       MET       -32.826080   \n",
       "1   igps     apo         1         2       MET       LEU       -27.286881   \n",
       "2   igps     apo         1         3       MET       ALA        -0.529824   \n",
       "3   igps     apo         1         4       MET       LYS        -0.196490   \n",
       "4   igps     apo         1       247       MET       ASN        -1.124520   \n",
       "\n",
       "   E_Interact.Std_Err  \n",
       "0            0.364449  \n",
       "1            0.088237  \n",
       "2            0.032005  \n",
       "3            0.055238  \n",
       "4            0.114242  "
      ]
     },
     "execution_count": 76,
     "metadata": {},
     "output_type": "execute_result"
    }
   ],
   "source": [
    "sigData.head()"
   ]
  },
  {
   "cell_type": "code",
   "execution_count": 79,
   "metadata": {},
   "outputs": [
    {
     "data": {
      "application/vnd.jupyter.widget-view+json": {
       "model_id": "029975c88467496ea1360a95446da571",
       "version_major": 2,
       "version_minor": 0
      },
      "text/plain": [
       "interactive(children=(Dropdown(description='system', options=('igps',), value='igps'), Dropdown(description='v…"
      ]
     },
     "metadata": {},
     "output_type": "display_data"
    }
   ],
   "source": [
    "@interact_manual\n",
    "def plot_mat(\n",
    "    system=sigData.System.unique(),\n",
    "    variant=sigData.Variant.unique(),\n",
    "    magCut=widgets.FloatSlider(min=.01,max=100.,step=.01,value=2.0,\n",
    "                               description='Energy_Cut')):\n",
    "    \n",
    "    colorMap=np.flip(sns.color_palette(\"plasma\", n_colors=256).as_hex(),axis=0)\n",
    "    \n",
    "    plotData=sigData[\n",
    "        (sigData.System==system) & \\\n",
    "        (sigData.Variant==variant) & \\\n",
    "        ((sigData.ResNum_1 - sigData.ResNum_2).abs() > 0) &\n",
    "        ((sigData['E_Interact.Mean'].abs()-sigData['E_Interact.Std_Err'])>magCut)]\n",
    "    correlation_data_utilities.bokeh_dataTable_heatMap(\n",
    "        plotData,Xcol=\"ResNum_1\",Ycol=\"ResNum_2\",dataCol=\"E_Interact.Mean\",\n",
    "        width=640,height=640,\n",
    "        colorMap=np.flip(sns.color_palette(\"coolwarm\", n_colors=256).as_hex(),axis=0),\n",
    "        title=None,\n",
    "        axisFontSize=\"14pt\",\n",
    "        vmin=None,vmax=None)"
   ]
  },
  {
   "cell_type": "markdown",
   "metadata": {},
   "source": [
    "# Visualize Node Betweenness\n",
    "\n",
    "## compute current flow betweenness scores for nodes"
   ]
  },
  {
   "cell_type": "code",
   "execution_count": 80,
   "metadata": {},
   "outputs": [
    {
     "name": "stdout",
     "output_type": "stream",
     "text": [
      "loading topology matrices: igps.holo.energy_topology_matrix.TOTAL.txt, igps.apo.energy_topology_matrix.TOTAL.txt, \n",
      "loading value matrices: igps.holo.energy_value_matrix.TOTAL.txt, igps.apo.energy_value_matrix.TOTAL.txt, \n"
     ]
    }
   ],
   "source": [
    "matNameSearchStr='energy_topology_matrix.TOTAL'\n",
    "\n",
    "matDir='energy_topology'\n",
    "\n",
    "matFiles=[fileName for fileName in \\\n",
    "          os.listdir(matDir) if \\\n",
    "          matNameSearchStr in fileName]\n",
    "\n",
    "topologyMatrixDict={}\n",
    "\n",
    "print('loading topology matrices:',end=' ')\n",
    "for matFileName in matFiles:\n",
    "    print(matFileName,end=', ')\n",
    "    entryKey='.'.join(list(np.array(matFileName.split('.'))[:2]))\n",
    "    matFilePath='/'.join([matDir,matFileName])\n",
    "    topologyMatrixDict[entryKey]=np.loadtxt(matFilePath)\n",
    "print('')\n",
    "\n",
    "matNameSearchStr='energy_value_matrix.TOTAL'\n",
    "matFiles=[fileName for fileName in \\\n",
    "          os.listdir(matDir) if \\\n",
    "          matNameSearchStr in fileName]\n",
    "valueMatrixDict={}\n",
    "print('loading value matrices:',end=' ')\n",
    "for matFileName in matFiles:\n",
    "    print(matFileName,end=', ')\n",
    "    entryKey='.'.join(list(np.array(matFileName.split('.'))[:2]))\n",
    "    matFilePath='/'.join([matDir,matFileName])\n",
    "    valueMatrixDict[entryKey]=np.loadtxt(matFilePath)\n",
    "print('')"
   ]
  },
  {
   "cell_type": "code",
   "execution_count": 81,
   "metadata": {},
   "outputs": [
    {
     "name": "stdout",
     "output_type": "stream",
     "text": [
      "sig. pairs: [    11     12     13 ..., 454424 454449 454450]\n",
      "Sig. Data:\n"
     ]
    },
    {
     "data": {
      "text/html": [
       "<div>\n",
       "<style scoped>\n",
       "    .dataframe tbody tr th:only-of-type {\n",
       "        vertical-align: middle;\n",
       "    }\n",
       "\n",
       "    .dataframe tbody tr th {\n",
       "        vertical-align: top;\n",
       "    }\n",
       "\n",
       "    .dataframe thead th {\n",
       "        text-align: right;\n",
       "    }\n",
       "</style>\n",
       "<table border=\"1\" class=\"dataframe\">\n",
       "  <thead>\n",
       "    <tr style=\"text-align: right;\">\n",
       "      <th></th>\n",
       "      <th>System</th>\n",
       "      <th>Variant</th>\n",
       "      <th>ResNum_1</th>\n",
       "      <th>ResNum_2</th>\n",
       "      <th>ResName_1</th>\n",
       "      <th>ResName_2</th>\n",
       "      <th>E_Interact.Mean</th>\n",
       "      <th>E_Interact.Std_Err</th>\n",
       "    </tr>\n",
       "  </thead>\n",
       "  <tbody>\n",
       "    <tr>\n",
       "      <th>0</th>\n",
       "      <td>igps</td>\n",
       "      <td>apo</td>\n",
       "      <td>1</td>\n",
       "      <td>1</td>\n",
       "      <td>MET</td>\n",
       "      <td>MET</td>\n",
       "      <td>-32.826080</td>\n",
       "      <td>0.364449</td>\n",
       "    </tr>\n",
       "    <tr>\n",
       "      <th>1</th>\n",
       "      <td>igps</td>\n",
       "      <td>apo</td>\n",
       "      <td>1</td>\n",
       "      <td>2</td>\n",
       "      <td>MET</td>\n",
       "      <td>LEU</td>\n",
       "      <td>-27.286881</td>\n",
       "      <td>0.088237</td>\n",
       "    </tr>\n",
       "    <tr>\n",
       "      <th>2</th>\n",
       "      <td>igps</td>\n",
       "      <td>apo</td>\n",
       "      <td>1</td>\n",
       "      <td>3</td>\n",
       "      <td>MET</td>\n",
       "      <td>ALA</td>\n",
       "      <td>-0.529824</td>\n",
       "      <td>0.032005</td>\n",
       "    </tr>\n",
       "    <tr>\n",
       "      <th>3</th>\n",
       "      <td>igps</td>\n",
       "      <td>apo</td>\n",
       "      <td>1</td>\n",
       "      <td>4</td>\n",
       "      <td>MET</td>\n",
       "      <td>LYS</td>\n",
       "      <td>-0.196490</td>\n",
       "      <td>0.055238</td>\n",
       "    </tr>\n",
       "    <tr>\n",
       "      <th>4</th>\n",
       "      <td>igps</td>\n",
       "      <td>apo</td>\n",
       "      <td>1</td>\n",
       "      <td>247</td>\n",
       "      <td>MET</td>\n",
       "      <td>ASN</td>\n",
       "      <td>-1.124520</td>\n",
       "      <td>0.114242</td>\n",
       "    </tr>\n",
       "  </tbody>\n",
       "</table>\n",
       "</div>"
      ],
      "text/plain": [
       "  System Variant  ResNum_1  ResNum_2 ResName_1 ResName_2  E_Interact.Mean  \\\n",
       "0   igps     apo         1         1       MET       MET       -32.826080   \n",
       "1   igps     apo         1         2       MET       LEU       -27.286881   \n",
       "2   igps     apo         1         3       MET       ALA        -0.529824   \n",
       "3   igps     apo         1         4       MET       LYS        -0.196490   \n",
       "4   igps     apo         1       247       MET       ASN        -1.124520   \n",
       "\n",
       "   E_Interact.Std_Err  \n",
       "0            0.364449  \n",
       "1            0.088237  \n",
       "2            0.032005  \n",
       "3            0.055238  \n",
       "4            0.114242  "
      ]
     },
     "execution_count": 81,
     "metadata": {},
     "output_type": "execute_result"
    }
   ],
   "source": [
    "sigPairName='significant_pairs.TOTAL.txt'\n",
    "sigPairPath='/'.join([energyDataDir,sigPairName])\n",
    "sigDataName='significant_interactions_summary.TOTAL.csv'\n",
    "sigDataPath='/'.join([energyDataDir,sigDataName])\n",
    "\n",
    "\n",
    "sig_pairs=np.loadtxt(sigPairPath,dtype=int)\n",
    "sigData=pd.read_csv(sigDataPath)\n",
    "\n",
    "print('sig. pairs:',sig_pairs)\n",
    "print('Sig. Data:')\n",
    "sigData.head()"
   ]
  },
  {
   "cell_type": "code",
   "execution_count": 82,
   "metadata": {},
   "outputs": [
    {
     "data": {
      "text/html": [
       "<div>\n",
       "<style scoped>\n",
       "    .dataframe tbody tr th:only-of-type {\n",
       "        vertical-align: middle;\n",
       "    }\n",
       "\n",
       "    .dataframe tbody tr th {\n",
       "        vertical-align: top;\n",
       "    }\n",
       "\n",
       "    .dataframe thead th {\n",
       "        text-align: right;\n",
       "    }\n",
       "</style>\n",
       "<table border=\"1\" class=\"dataframe\">\n",
       "  <thead>\n",
       "    <tr style=\"text-align: right;\">\n",
       "      <th></th>\n",
       "      <th>System</th>\n",
       "      <th>Variant</th>\n",
       "      <th>ResNum_1</th>\n",
       "      <th>ResNum_2</th>\n",
       "      <th>ResName_1</th>\n",
       "      <th>ResName_2</th>\n",
       "      <th>E_Interact.Mean</th>\n",
       "      <th>E_Interact.Std_Err</th>\n",
       "    </tr>\n",
       "  </thead>\n",
       "  <tbody>\n",
       "    <tr>\n",
       "      <th>0</th>\n",
       "      <td>igps</td>\n",
       "      <td>apo</td>\n",
       "      <td>1</td>\n",
       "      <td>1</td>\n",
       "      <td>MET</td>\n",
       "      <td>MET</td>\n",
       "      <td>-32.826080</td>\n",
       "      <td>0.364449</td>\n",
       "    </tr>\n",
       "    <tr>\n",
       "      <th>1</th>\n",
       "      <td>igps</td>\n",
       "      <td>apo</td>\n",
       "      <td>1</td>\n",
       "      <td>2</td>\n",
       "      <td>MET</td>\n",
       "      <td>LEU</td>\n",
       "      <td>-27.286881</td>\n",
       "      <td>0.088237</td>\n",
       "    </tr>\n",
       "    <tr>\n",
       "      <th>2</th>\n",
       "      <td>igps</td>\n",
       "      <td>apo</td>\n",
       "      <td>1</td>\n",
       "      <td>3</td>\n",
       "      <td>MET</td>\n",
       "      <td>ALA</td>\n",
       "      <td>-0.529824</td>\n",
       "      <td>0.032005</td>\n",
       "    </tr>\n",
       "    <tr>\n",
       "      <th>3</th>\n",
       "      <td>igps</td>\n",
       "      <td>apo</td>\n",
       "      <td>1</td>\n",
       "      <td>4</td>\n",
       "      <td>MET</td>\n",
       "      <td>LYS</td>\n",
       "      <td>-0.196490</td>\n",
       "      <td>0.055238</td>\n",
       "    </tr>\n",
       "    <tr>\n",
       "      <th>4</th>\n",
       "      <td>igps</td>\n",
       "      <td>apo</td>\n",
       "      <td>1</td>\n",
       "      <td>247</td>\n",
       "      <td>MET</td>\n",
       "      <td>ASN</td>\n",
       "      <td>-1.124520</td>\n",
       "      <td>0.114242</td>\n",
       "    </tr>\n",
       "  </tbody>\n",
       "</table>\n",
       "</div>"
      ],
      "text/plain": [
       "  System Variant  ResNum_1  ResNum_2 ResName_1 ResName_2  E_Interact.Mean  \\\n",
       "0   igps     apo         1         1       MET       MET       -32.826080   \n",
       "1   igps     apo         1         2       MET       LEU       -27.286881   \n",
       "2   igps     apo         1         3       MET       ALA        -0.529824   \n",
       "3   igps     apo         1         4       MET       LYS        -0.196490   \n",
       "4   igps     apo         1       247       MET       ASN        -1.124520   \n",
       "\n",
       "   E_Interact.Std_Err  \n",
       "0            0.364449  \n",
       "1            0.088237  \n",
       "2            0.032005  \n",
       "3            0.055238  \n",
       "4            0.114242  "
      ]
     },
     "execution_count": 82,
     "metadata": {},
     "output_type": "execute_result"
    }
   ],
   "source": [
    "sigData.head()"
   ]
  },
  {
   "cell_type": "code",
   "execution_count": 83,
   "metadata": {},
   "outputs": [
    {
     "name": "stdout",
     "output_type": "stream",
     "text": [
      "working on  igps apo\n",
      "working on  igps holo\n"
     ]
    },
    {
     "data": {
      "text/html": [
       "<div>\n",
       "<style scoped>\n",
       "    .dataframe tbody tr th:only-of-type {\n",
       "        vertical-align: middle;\n",
       "    }\n",
       "\n",
       "    .dataframe tbody tr th {\n",
       "        vertical-align: top;\n",
       "    }\n",
       "\n",
       "    .dataframe thead th {\n",
       "        text-align: right;\n",
       "    }\n",
       "</style>\n",
       "<table border=\"1\" class=\"dataframe\">\n",
       "  <thead>\n",
       "    <tr style=\"text-align: right;\">\n",
       "      <th></th>\n",
       "      <th>System</th>\n",
       "      <th>Variant</th>\n",
       "      <th>ResNum_1</th>\n",
       "      <th>ResNum_2</th>\n",
       "      <th>ResName_1</th>\n",
       "      <th>ResName_2</th>\n",
       "      <th>E_Interact.Mean</th>\n",
       "      <th>E_Interact.Std_Err</th>\n",
       "      <th>Betweenness</th>\n",
       "    </tr>\n",
       "  </thead>\n",
       "  <tbody>\n",
       "    <tr>\n",
       "      <th>0</th>\n",
       "      <td>igps</td>\n",
       "      <td>apo</td>\n",
       "      <td>1</td>\n",
       "      <td>1</td>\n",
       "      <td>MET</td>\n",
       "      <td>MET</td>\n",
       "      <td>-32.826080</td>\n",
       "      <td>0.364449</td>\n",
       "      <td>0.000000</td>\n",
       "    </tr>\n",
       "    <tr>\n",
       "      <th>1</th>\n",
       "      <td>igps</td>\n",
       "      <td>apo</td>\n",
       "      <td>1</td>\n",
       "      <td>2</td>\n",
       "      <td>MET</td>\n",
       "      <td>LEU</td>\n",
       "      <td>-27.286881</td>\n",
       "      <td>0.088237</td>\n",
       "      <td>0.000074</td>\n",
       "    </tr>\n",
       "    <tr>\n",
       "      <th>2</th>\n",
       "      <td>igps</td>\n",
       "      <td>apo</td>\n",
       "      <td>1</td>\n",
       "      <td>3</td>\n",
       "      <td>MET</td>\n",
       "      <td>ALA</td>\n",
       "      <td>-0.529824</td>\n",
       "      <td>0.032005</td>\n",
       "      <td>0.001414</td>\n",
       "    </tr>\n",
       "    <tr>\n",
       "      <th>3</th>\n",
       "      <td>igps</td>\n",
       "      <td>apo</td>\n",
       "      <td>1</td>\n",
       "      <td>4</td>\n",
       "      <td>MET</td>\n",
       "      <td>LYS</td>\n",
       "      <td>-0.196490</td>\n",
       "      <td>0.055238</td>\n",
       "      <td>0.015687</td>\n",
       "    </tr>\n",
       "    <tr>\n",
       "      <th>4</th>\n",
       "      <td>igps</td>\n",
       "      <td>apo</td>\n",
       "      <td>1</td>\n",
       "      <td>247</td>\n",
       "      <td>MET</td>\n",
       "      <td>ASN</td>\n",
       "      <td>-1.124520</td>\n",
       "      <td>0.114242</td>\n",
       "      <td>0.000124</td>\n",
       "    </tr>\n",
       "  </tbody>\n",
       "</table>\n",
       "</div>"
      ],
      "text/plain": [
       "  System Variant  ResNum_1  ResNum_2 ResName_1 ResName_2  E_Interact.Mean  \\\n",
       "0   igps     apo         1         1       MET       MET       -32.826080   \n",
       "1   igps     apo         1         2       MET       LEU       -27.286881   \n",
       "2   igps     apo         1         3       MET       ALA        -0.529824   \n",
       "3   igps     apo         1         4       MET       LYS        -0.196490   \n",
       "4   igps     apo         1       247       MET       ASN        -1.124520   \n",
       "\n",
       "   E_Interact.Std_Err  Betweenness  \n",
       "0            0.364449     0.000000  \n",
       "1            0.088237     0.000074  \n",
       "2            0.032005     0.001414  \n",
       "3            0.055238     0.015687  \n",
       "4            0.114242     0.000124  "
      ]
     },
     "execution_count": 83,
     "metadata": {},
     "output_type": "execute_result"
    }
   ],
   "source": [
    "matGroups=sigData.groupby(['System','Variant'])\n",
    "\n",
    "sourceSet=[49]\n",
    "targetSet=[432]\n",
    "\n",
    "nRes=454\n",
    "minEVal=1E-10 #ensure edges never have exactly zero interaction energy (division error)\n",
    "netDataTables=[]\n",
    "for groupName,groupData in matGroups:\n",
    "    print(\"working on \",*groupName)\n",
    "    weightMat=sp.sparse.coo_matrix(\n",
    "                ((groupData['E_Interact.Mean'].abs()+minEVal)**-1,\n",
    "                 (groupData['ResNum_1']-1,groupData['ResNum_2']-1)),\n",
    "                shape=(nRes,nRes)).todense()\n",
    "    btwMat=correlation_data_utilities.getBtwMat(\n",
    "        mat=weightMat,sources=sourceSet,targets=targetSet,\n",
    "        verbose=False,verboseLevel=0,\n",
    "        useProgressBar=True,pbarFun=tqdm.tqdm_notebook)\n",
    "    if np.sum(btwMat-btwMat.T)>0:\n",
    "        btwMat=btwMat+btwMat.T\n",
    "    tempTable=groupData.copy()\n",
    "    tempTable['Betweenness']=tempTable[['ResNum_1','ResNum_2']].apply(\n",
    "        lambda x: btwMat[x[0]-1,x[1]-1],axis=1)\n",
    "    netDataTables.append(tempTable.copy())\n",
    "netDataTable=pd.concat(netDataTables)\n",
    "netDataTable.head()"
   ]
  },
  {
   "cell_type": "markdown",
   "metadata": {},
   "source": [
    "## Compute differences in node current flow betweenness scores"
   ]
  },
  {
   "cell_type": "code",
   "execution_count": 84,
   "metadata": {},
   "outputs": [
    {
     "data": {
      "text/html": [
       "<div>\n",
       "<style scoped>\n",
       "    .dataframe tbody tr th:only-of-type {\n",
       "        vertical-align: middle;\n",
       "    }\n",
       "\n",
       "    .dataframe tbody tr th {\n",
       "        vertical-align: top;\n",
       "    }\n",
       "\n",
       "    .dataframe thead th {\n",
       "        text-align: right;\n",
       "    }\n",
       "</style>\n",
       "<table border=\"1\" class=\"dataframe\">\n",
       "  <thead>\n",
       "    <tr style=\"text-align: right;\">\n",
       "      <th></th>\n",
       "      <th>ResNum_1</th>\n",
       "      <th>igps.apo</th>\n",
       "      <th>igps.holo</th>\n",
       "    </tr>\n",
       "  </thead>\n",
       "  <tbody>\n",
       "    <tr>\n",
       "      <th>0</th>\n",
       "      <td>1</td>\n",
       "      <td>0.034191</td>\n",
       "      <td>0.028873</td>\n",
       "    </tr>\n",
       "    <tr>\n",
       "      <th>1</th>\n",
       "      <td>2</td>\n",
       "      <td>0.023101</td>\n",
       "      <td>0.020728</td>\n",
       "    </tr>\n",
       "    <tr>\n",
       "      <th>2</th>\n",
       "      <td>3</td>\n",
       "      <td>0.046976</td>\n",
       "      <td>0.051937</td>\n",
       "    </tr>\n",
       "    <tr>\n",
       "      <th>3</th>\n",
       "      <td>4</td>\n",
       "      <td>0.049740</td>\n",
       "      <td>0.040940</td>\n",
       "    </tr>\n",
       "    <tr>\n",
       "      <th>4</th>\n",
       "      <td>5</td>\n",
       "      <td>0.044439</td>\n",
       "      <td>0.042639</td>\n",
       "    </tr>\n",
       "  </tbody>\n",
       "</table>\n",
       "</div>"
      ],
      "text/plain": [
       "   ResNum_1  igps.apo  igps.holo\n",
       "0         1  0.034191   0.028873\n",
       "1         2  0.023101   0.020728\n",
       "2         3  0.046976   0.051937\n",
       "3         4  0.049740   0.040940\n",
       "4         5  0.044439   0.042639"
      ]
     },
     "execution_count": 84,
     "metadata": {},
     "output_type": "execute_result"
    }
   ],
   "source": [
    "nodeBtwDataTable=netDataTable.drop(\n",
    "        columns=[colName for colName in netDataTable.columns \\\n",
    "                 if 'E_Interact' in colName]\n",
    "    )[['System','Variant','ResNum_1','ResName_1','Betweenness']].groupby(\n",
    "        ['System','Variant','ResNum_1','ResName_1']\n",
    "    ).agg(sum).reset_index()\n",
    "nodeBtwDataTable['NetworkName']=nodeBtwDataTable[['System','Variant']].apply(\n",
    "    lambda x: '.'.join(x),axis=1)\n",
    "nodeBtwDataTable=nodeBtwDataTable.drop(columns=['System','Variant'])\n",
    "netNames=nodeBtwDataTable.NetworkName.unique()\n",
    "nodeBtwDataTable=nodeBtwDataTable.pivot(\n",
    "    index='ResNum_1',columns='NetworkName',values='Betweenness')\n",
    "nodeBtwDataTable.columns=np.array(nodeBtwDataTable.columns.map(str))\n",
    "nodeBtwDataTable=nodeBtwDataTable.reset_index()\n",
    "nodeBtwDataTable.head()"
   ]
  },
  {
   "cell_type": "code",
   "execution_count": 85,
   "metadata": {},
   "outputs": [
    {
     "data": {
      "text/html": [
       "<div>\n",
       "<style scoped>\n",
       "    .dataframe tbody tr th:only-of-type {\n",
       "        vertical-align: middle;\n",
       "    }\n",
       "\n",
       "    .dataframe tbody tr th {\n",
       "        vertical-align: top;\n",
       "    }\n",
       "\n",
       "    .dataframe thead th {\n",
       "        text-align: right;\n",
       "    }\n",
       "</style>\n",
       "<table border=\"1\" class=\"dataframe\">\n",
       "  <thead>\n",
       "    <tr style=\"text-align: right;\">\n",
       "      <th></th>\n",
       "      <th>ResNum_1</th>\n",
       "      <th>igps.apo</th>\n",
       "      <th>testNetworkName</th>\n",
       "      <th>testNetworkBetweenness</th>\n",
       "      <th>Delta</th>\n",
       "      <th>RelativeDelta</th>\n",
       "    </tr>\n",
       "  </thead>\n",
       "  <tbody>\n",
       "    <tr>\n",
       "      <th>0</th>\n",
       "      <td>1</td>\n",
       "      <td>0.034191</td>\n",
       "      <td>igps.holo</td>\n",
       "      <td>0.028873</td>\n",
       "      <td>-0.005318</td>\n",
       "      <td>-0.155545</td>\n",
       "    </tr>\n",
       "    <tr>\n",
       "      <th>1</th>\n",
       "      <td>2</td>\n",
       "      <td>0.023101</td>\n",
       "      <td>igps.holo</td>\n",
       "      <td>0.020728</td>\n",
       "      <td>-0.002373</td>\n",
       "      <td>-0.102725</td>\n",
       "    </tr>\n",
       "    <tr>\n",
       "      <th>2</th>\n",
       "      <td>3</td>\n",
       "      <td>0.046976</td>\n",
       "      <td>igps.holo</td>\n",
       "      <td>0.051937</td>\n",
       "      <td>0.004961</td>\n",
       "      <td>0.095521</td>\n",
       "    </tr>\n",
       "    <tr>\n",
       "      <th>3</th>\n",
       "      <td>4</td>\n",
       "      <td>0.049740</td>\n",
       "      <td>igps.holo</td>\n",
       "      <td>0.040940</td>\n",
       "      <td>-0.008800</td>\n",
       "      <td>-0.176917</td>\n",
       "    </tr>\n",
       "    <tr>\n",
       "      <th>4</th>\n",
       "      <td>5</td>\n",
       "      <td>0.044439</td>\n",
       "      <td>igps.holo</td>\n",
       "      <td>0.042639</td>\n",
       "      <td>-0.001800</td>\n",
       "      <td>-0.040502</td>\n",
       "    </tr>\n",
       "  </tbody>\n",
       "</table>\n",
       "</div>"
      ],
      "text/plain": [
       "   ResNum_1  igps.apo testNetworkName  testNetworkBetweenness     Delta  \\\n",
       "0         1  0.034191       igps.holo                0.028873 -0.005318   \n",
       "1         2  0.023101       igps.holo                0.020728 -0.002373   \n",
       "2         3  0.046976       igps.holo                0.051937  0.004961   \n",
       "3         4  0.049740       igps.holo                0.040940 -0.008800   \n",
       "4         5  0.044439       igps.holo                0.042639 -0.001800   \n",
       "\n",
       "   RelativeDelta  \n",
       "0      -0.155545  \n",
       "1      -0.102725  \n",
       "2       0.095521  \n",
       "3      -0.176917  \n",
       "4      -0.040502  "
      ]
     },
     "execution_count": 85,
     "metadata": {},
     "output_type": "execute_result"
    }
   ],
   "source": [
    "nodeDeltaTable=nodeBtwDataTable.melt(id_vars=['ResNum_1','igps.apo'],\n",
    "                                     var_name='testNetworkName',value_name='testNetworkBetweenness')\n",
    "nodeDeltaTable['Delta']=nodeDeltaTable[['igps.apo','testNetworkBetweenness']].apply(\n",
    "    lambda x: x[1]-x[0],axis=1)\n",
    "nodeDeltaTable['RelativeDelta']=nodeDeltaTable[['igps.apo','testNetworkBetweenness']].apply(\n",
    "    lambda x: (x[1]-x[0])/np.max(x),axis=1)\n",
    "nodeDeltaTable.head()"
   ]
  },
  {
   "cell_type": "markdown",
   "metadata": {},
   "source": [
    "# Render node current flow betweenness scores and deltas\n",
    "3D structure rendering using nglview (not colab friendly)"
   ]
  },
  {
   "cell_type": "code",
   "execution_count": 86,
   "metadata": {},
   "outputs": [],
   "source": [
    "import nglview as nv"
   ]
  },
  {
   "cell_type": "code",
   "execution_count": 87,
   "metadata": {},
   "outputs": [
    {
     "name": "stdout",
     "output_type": "stream",
     "text": [
      "loading igps.apo\n",
      "loading igps.holo\n",
      "{'igps.apo': pytraj.Trajectory, 1 frames: \n",
      "Size: 0.000161 (GB)\n",
      "<Topology: 7225 atoms, 456 residues, 4 mols, PBC with box type = ortho>\n",
      "           , 'igps.holo': pytraj.Trajectory, 1 frames: \n",
      "Size: 0.000163 (GB)\n",
      "<Topology: 7281 atoms, 455 residues, 3 mols, PBC with box type = ortho>\n",
      "           }\n"
     ]
    }
   ],
   "source": [
    "import pytraj as pt\n",
    "strucDataDir='energy_topology'\n",
    "systems=['igps']\n",
    "variants=['apo','holo']\n",
    "\n",
    "strucFileNameStr=\"{system}.prot_lig_{variant}.pdb\"\n",
    "\n",
    "subDirStr='{system}.{variant}'\n",
    "\n",
    "strucDict={}\n",
    "for system in systems:\n",
    "    for variant in variants:\n",
    "        subDir=subDirStr.format(system=system,variant=variant)\n",
    "        strucFileName=strucFileNameStr.format(system=system,variant=variant)\n",
    "        strucFilePath='/'.join([strucDataDir,subDir,strucFileName])\n",
    "        strucKey=subDir\n",
    "        print(\"loading\",strucKey)\n",
    "        strucDict[strucKey]=pt.load(strucFilePath)\n",
    "print(strucDict)"
   ]
  },
  {
   "cell_type": "code",
   "execution_count": 88,
   "metadata": {},
   "outputs": [],
   "source": [
    "refNet='igps.apo'\n",
    "struc=strucDict[refNet]\n",
    "sourceResids=np.array(sourceSet,dtype=int)\n",
    "targetResids=np.array(targetSet,dtype=int)"
   ]
  },
  {
   "cell_type": "code",
   "execution_count": 89,
   "metadata": {},
   "outputs": [
    {
     "data": {
      "application/vnd.jupyter.widget-view+json": {
       "model_id": "9b457fe9cadc4d3fa1ecc8c27e5eb538",
       "version_major": 2,
       "version_minor": 0
      },
      "text/plain": [
       "interactive(children=(Dropdown(description='testSystem', options=('igps.holo',), value='igps.holo'), Dropdown(…"
      ]
     },
     "metadata": {},
     "output_type": "display_data"
    }
   ],
   "source": [
    "@interact\n",
    "def render_difference(testSystem=widgets.Dropdown(\n",
    "                        options=nodeDeltaTable.testNetworkName.unique()),\n",
    "                        colorMap=['viridis', 'plasma', 'inferno', 'magma', 'cividis',\n",
    "                                  'PiYG', 'PRGn', 'BrBG', 'PuOr', 'RdGy', 'RdBu',\n",
    "                                  'RdYlBu', 'RdYlGn', 'Spectral', 'coolwarm', 'bwr', 'seismic'],\n",
    "                        colorRange=widgets.FloatRangeSlider(min=-1,max=1,value=(-.01,.01)),\n",
    "                        valCol=[refNet,'testNetworkBetweenness',\n",
    "                                'Delta','RelativeDelta'],\n",
    "                        showRelativeDelta=False):\n",
    "    plotData=nodeDeltaTable.query('testNetworkName == \"%s\"'%testSystem)\n",
    "    \n",
    "    plotTitle={\n",
    "            refNet:\"Reference System (%s)\\nNode Betweenness\"%refNet,\n",
    "           'testNetworkBetweenness':\"Test System (%s)\\nNode Betweenness\"%testSystem,\n",
    "           'Delta':'Node Betweenness Delta\\n%s - %s'%(testSystem,refNet),\n",
    "           'RelativeDelta':'Node Betweenness Relative Delta\\n%s - %s'%(testSystem,refNet)\n",
    "        }[valCol]\n",
    "    colorVals=plotData[valCol].to_list()\n",
    "\n",
    "    cMap=matplotlib.cm.get_cmap(colorMap,256)\n",
    "    cNorm=matplotlib.colors.Normalize(colorRange[0],colorRange[1])\n",
    "    \n",
    "    colorList=[\n",
    "        x.replace('#','0x') for x in \\\n",
    "        map(matplotlib.colors.to_hex,\n",
    "            cMap(cNorm(\n",
    "                    colorVals\n",
    "                 )))]\n",
    "\n",
    "    correlation_data_utilities.drawEdgeColorBar(\n",
    "         np.array([colorVals]),maskInds=None,\n",
    "         cmap=cMap,\n",
    "         cNorm=cNorm,\n",
    "         ax=None,\n",
    "         label=plotTitle,\n",
    "         label_size=24,\n",
    "         barSize=[18,5],\n",
    "         orientation='horizontal',\n",
    "         verbose=False)\n",
    "    view=nv.show_pytraj(struc)\n",
    "    view.clear_representations()\n",
    "    view.add_cartoon('protein')\n",
    "    view._set_color_by_residue(colorList)\n",
    "    for resid in sourceResids+1:\n",
    "        view.add_representation('spacefill',selection='%g'%resid,alpha=.5)\n",
    "    for resid in targetResids+1:\n",
    "        view.add_representation('spacefill',selection='%g'%resid,alpha=.5)\n",
    "    display(view,width=800,height=800)"
   ]
  },
  {
   "cell_type": "code",
   "execution_count": null,
   "metadata": {},
   "outputs": [],
   "source": []
  }
 ],
 "metadata": {
  "kernelspec": {
   "display_name": "Python 3",
   "language": "python",
   "name": "python3"
  },
  "language_info": {
   "codemirror_mode": {
    "name": "ipython",
    "version": 3
   },
   "file_extension": ".py",
   "mimetype": "text/x-python",
   "name": "python",
   "nbconvert_exporter": "python",
   "pygments_lexer": "ipython3",
   "version": "3.6.10"
  }
 },
 "nbformat": 4,
 "nbformat_minor": 2
}
