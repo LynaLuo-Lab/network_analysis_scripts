{
 "cells": [
  {
   "cell_type": "code",
   "execution_count": 1,
   "metadata": {
    "collapsed": false
   },
   "outputs": [
    {
     "name": "stderr",
     "output_type": "stream",
     "text": [
      "Loading required package: Matrix\n",
      "Loading required package: tibble\n",
      "Loading required package: mgcv\n",
      "Loading required package: nlme\n",
      "This is mgcv 1.8-16. For overview type 'help(\"mgcv-package\")'.\n",
      "Loading required package: MASS\n",
      "Loading required package: ggplot2\n",
      "Loading required package: dplyr\n",
      "\n",
      "Attaching package: ‘dplyr’\n",
      "\n",
      "The following object is masked from ‘package:MASS’:\n",
      "\n",
      "    select\n",
      "\n",
      "The following object is masked from ‘package:nlme’:\n",
      "\n",
      "    collapse\n",
      "\n",
      "The following objects are masked from ‘package:stats’:\n",
      "\n",
      "    filter, lag\n",
      "\n",
      "The following objects are masked from ‘package:base’:\n",
      "\n",
      "    intersect, setdiff, setequal, union\n",
      "\n",
      "Loading required package: reshape2\n",
      "Loading required package: RColorBrewer\n",
      "Loading required package: colorRamps\n",
      "Loading required package: tidyr\n",
      "\n",
      "Attaching package: ‘tidyr’\n",
      "\n",
      "The following object is masked from ‘package:reshape2’:\n",
      "\n",
      "    smiths\n",
      "\n",
      "The following object is masked from ‘package:Matrix’:\n",
      "\n",
      "    expand\n",
      "\n",
      "Loading required package: colorspace\n",
      "Loading required package: igraph\n",
      "\n",
      "Attaching package: ‘igraph’\n",
      "\n",
      "The following objects are masked from ‘package:tidyr’:\n",
      "\n",
      "    %>%, crossing\n",
      "\n",
      "The following objects are masked from ‘package:dplyr’:\n",
      "\n",
      "    %>%, as_data_frame, groups, union\n",
      "\n",
      "The following object is masked from ‘package:tibble’:\n",
      "\n",
      "    as_data_frame\n",
      "\n",
      "The following objects are masked from ‘package:stats’:\n",
      "\n",
      "    decompose, spectrum\n",
      "\n",
      "The following object is masked from ‘package:base’:\n",
      "\n",
      "    union\n",
      "\n",
      "Loading required package: SDMTools\n"
     ]
    }
   ],
   "source": [
    "require(Matrix)\n",
    "require(tibble)\n",
    "utilities_path=\"../correlation_network_analysis_functions.r\"\n",
    "source(utilities_path)"
   ]
  },
  {
   "cell_type": "code",
   "execution_count": 7,
   "metadata": {
    "collapsed": true
   },
   "outputs": [],
   "source": [
    "basepath=\"./\"\n",
    "baseinfodir=\"./\"\n",
    "analysisDir=paste(basepath,\"analysis\",sep=\"/\")\n",
    "datafilename=\"contact.corr\"\n",
    "contactmapname=\"contact.contact\"\n",
    "coordfilename=\"carma.average.pdb\"\n",
    "resinfofilename=\"resinfo.cpptraj.dat\"\n",
    "atominfofilename=\"atominfo.cpptraj.dat\"\n",
    "system_list=c(\"wt\",\"R206H\",\"Q207E\",\"Q207D\")\n",
    "window_list=c(0:4)"
   ]
  },
  {
   "cell_type": "code",
   "execution_count": 3,
   "metadata": {
    "collapsed": false
   },
   "outputs": [
    {
     "name": "stdout",
     "output_type": "stream",
     "text": [
      "[1] \"loading data for wt\"\n",
      "[1] \"-loading system structure data\"\n",
      "[1] \"-loading windowed correlation and contact data:\"\n",
      "-     0  1  2  3  4\n",
      "[1] \"loading data for R206H\"\n",
      "[1] \"-loading system structure data\"\n",
      "[1] \"-loading windowed correlation and contact data:\"\n",
      "-     0  1  2  3  4\n",
      "[1] \"loading data for Q207E\"\n",
      "[1] \"-loading system structure data\"\n",
      "[1] \"-loading windowed correlation and contact data:\"\n",
      "-     0  1  2  3  4\n",
      "[1] \"loading data for Q207D\"\n",
      "[1] \"-loading system structure data\"\n",
      "[1] \"-loading windowed correlation and contact data:\"\n",
      "-     0  1  2  3  4\n",
      "[1] \"Done!\"\n",
      "[1] \"melting windowed_corr_data\"\n",
      "[1] \"melting windowed_contact_data\"\n",
      "[1] \"joining melted data\"\n",
      "[1] \"re-spreading melted data\"\n",
      "[1] \"computing windowed_data summary\"\n"
     ]
    },
    {
     "data": {
      "text/html": [
       "<table>\n",
       "<thead><tr><th scope=col>SYSTEM</th><th scope=col>X</th><th scope=col>Y</th><th scope=col>X_RES</th><th scope=col>Y_RES</th><th scope=col>X_RESNAME</th><th scope=col>Y_RESNAME</th><th scope=col>X_Residue</th><th scope=col>Y_Residue</th><th scope=col>CONTACT</th><th scope=col>CORR</th><th scope=col>CONTACT_stdev</th></tr></thead>\n",
       "<tbody>\n",
       "\t<tr><td>Q207D     </td><td>1         </td><td>3         </td><td>172       </td><td>174       </td><td>THR       </td><td>ASN       </td><td>THR_172   </td><td>ASN_174   </td><td>0.349506  </td><td>0.8737799 </td><td>0.47858759</td></tr>\n",
       "\t<tr><td>Q207D     </td><td>2         </td><td>4         </td><td>173       </td><td>175       </td><td>THR       </td><td>VAL       </td><td>THR_173   </td><td>VAL_175   </td><td>0.608728  </td><td>0.7641681 </td><td>0.34391265</td></tr>\n",
       "\t<tr><td>Q207D     </td><td>3         </td><td>1         </td><td>174       </td><td>172       </td><td>ASN       </td><td>THR       </td><td>ASN_174   </td><td>THR_172   </td><td>0.349506  </td><td>0.8737799 </td><td>0.47858759</td></tr>\n",
       "\t<tr><td>Q207D     </td><td>3         </td><td>5         </td><td>174       </td><td>176       </td><td>ASN       </td><td>GLY       </td><td>ASN_174   </td><td>GLY_176   </td><td>0.655322  </td><td>0.6626401 </td><td>0.07742486</td></tr>\n",
       "\t<tr><td>Q207D     </td><td>4         </td><td>2         </td><td>175       </td><td>173       </td><td>VAL       </td><td>THR       </td><td>VAL_175   </td><td>THR_173   </td><td>0.608728  </td><td>0.7641681 </td><td>0.34391265</td></tr>\n",
       "\t<tr><td>Q207D     </td><td>4         </td><td>6         </td><td>175       </td><td>177       </td><td>VAL       </td><td>ASP       </td><td>VAL_175   </td><td>ASP_177   </td><td>0.336552  </td><td>0.5694814 </td><td>0.31303522</td></tr>\n",
       "</tbody>\n",
       "</table>\n"
      ],
      "text/latex": [
       "\\begin{tabular}{r|llllllllllll}\n",
       " SYSTEM & X & Y & X\\_RES & Y\\_RES & X\\_RESNAME & Y\\_RESNAME & X\\_Residue & Y\\_Residue & CONTACT & CORR & CONTACT\\_stdev\\\\\n",
       "\\hline\n",
       "\t Q207D      & 1          & 3          & 172        & 174        & THR        & ASN        & THR\\_172  & ASN\\_174  & 0.349506   & 0.8737799  & 0.47858759\\\\\n",
       "\t Q207D      & 2          & 4          & 173        & 175        & THR        & VAL        & THR\\_173  & VAL\\_175  & 0.608728   & 0.7641681  & 0.34391265\\\\\n",
       "\t Q207D      & 3          & 1          & 174        & 172        & ASN        & THR        & ASN\\_174  & THR\\_172  & 0.349506   & 0.8737799  & 0.47858759\\\\\n",
       "\t Q207D      & 3          & 5          & 174        & 176        & ASN        & GLY        & ASN\\_174  & GLY\\_176  & 0.655322   & 0.6626401  & 0.07742486\\\\\n",
       "\t Q207D      & 4          & 2          & 175        & 173        & VAL        & THR        & VAL\\_175  & THR\\_173  & 0.608728   & 0.7641681  & 0.34391265\\\\\n",
       "\t Q207D      & 4          & 6          & 175        & 177        & VAL        & ASP        & VAL\\_175  & ASP\\_177  & 0.336552   & 0.5694814  & 0.31303522\\\\\n",
       "\\end{tabular}\n"
      ],
      "text/markdown": [
       "\n",
       "SYSTEM | X | Y | X_RES | Y_RES | X_RESNAME | Y_RESNAME | X_Residue | Y_Residue | CONTACT | CORR | CONTACT_stdev | \n",
       "|---|---|---|---|---|---|\n",
       "| Q207D      | 1          | 3          | 172        | 174        | THR        | ASN        | THR_172    | ASN_174    | 0.349506   | 0.8737799  | 0.47858759 | \n",
       "| Q207D      | 2          | 4          | 173        | 175        | THR        | VAL        | THR_173    | VAL_175    | 0.608728   | 0.7641681  | 0.34391265 | \n",
       "| Q207D      | 3          | 1          | 174        | 172        | ASN        | THR        | ASN_174    | THR_172    | 0.349506   | 0.8737799  | 0.47858759 | \n",
       "| Q207D      | 3          | 5          | 174        | 176        | ASN        | GLY        | ASN_174    | GLY_176    | 0.655322   | 0.6626401  | 0.07742486 | \n",
       "| Q207D      | 4          | 2          | 175        | 173        | VAL        | THR        | VAL_175    | THR_173    | 0.608728   | 0.7641681  | 0.34391265 | \n",
       "| Q207D      | 4          | 6          | 175        | 177        | VAL        | ASP        | VAL_175    | ASP_177    | 0.336552   | 0.5694814  | 0.31303522 | \n",
       "\n",
       "\n"
      ],
      "text/plain": [
       "  SYSTEM X Y X_RES Y_RES X_RESNAME Y_RESNAME X_Residue Y_Residue CONTACT \n",
       "1 Q207D  1 3 172   174   THR       ASN       THR_172   ASN_174   0.349506\n",
       "2 Q207D  2 4 173   175   THR       VAL       THR_173   VAL_175   0.608728\n",
       "3 Q207D  3 1 174   172   ASN       THR       ASN_174   THR_172   0.349506\n",
       "4 Q207D  3 5 174   176   ASN       GLY       ASN_174   GLY_176   0.655322\n",
       "5 Q207D  4 2 175   173   VAL       THR       VAL_175   THR_173   0.608728\n",
       "6 Q207D  4 6 175   177   VAL       ASP       VAL_175   ASP_177   0.336552\n",
       "  CORR      CONTACT_stdev\n",
       "1 0.8737799 0.47858759   \n",
       "2 0.7641681 0.34391265   \n",
       "3 0.8737799 0.47858759   \n",
       "4 0.6626401 0.07742486   \n",
       "5 0.7641681 0.34391265   \n",
       "6 0.5694814 0.31303522   "
      ]
     },
     "metadata": {},
     "output_type": "display_data"
    },
    {
     "name": "stdout",
     "output_type": "stream",
     "text": [
      "List of 3\n",
      " $ windowed_corr_data   :'data.frame':\t3767120 obs. of  11 variables:\n",
      "  ..$ SYSTEM   : chr [1:3767120] \"wt\" \"wt\" \"wt\" \"wt\" ...\n",
      "  ..$ WINDOW   : int [1:3767120] 0 0 0 0 0 0 0 0 0 0 ...\n",
      "  ..$ X        : int [1:3767120] 1 2 3 4 5 6 7 8 9 10 ...\n",
      "  ..$ Y        : int [1:3767120] 1 1 1 1 1 1 1 1 1 1 ...\n",
      "  ..$ X_RES    : int [1:3767120] 172 173 174 175 176 177 178 179 180 181 ...\n",
      "  ..$ Y_RES    : int [1:3767120] 172 172 172 172 172 172 172 172 172 172 ...\n",
      "  ..$ X_RESNAME: Factor w/ 20 levels \"ALA\",\"ARG\",\"ASN\",..: 17 17 3 20 8 4 16 17 11 1 ...\n",
      "  ..$ Y_RESNAME: Factor w/ 20 levels \"ALA\",\"ARG\",\"ASN\",..: 17 17 17 17 17 17 17 17 17 17 ...\n",
      "  ..$ X_Residue: chr [1:3767120] \"THR_172\" \"THR_173\" \"ASN_174\" \"VAL_175\" ...\n",
      "  ..$ Y_Residue: chr [1:3767120] \"THR_172\" \"THR_172\" \"THR_172\" \"THR_172\" ...\n",
      "  ..$ CORR     : num [1:3767120] 0 0 0.719 0 0 ...\n",
      " $ windowed_contact_data:'data.frame':\t3784500 obs. of  11 variables:\n",
      "  ..$ SYSTEM   : chr [1:3784500] \"wt\" \"wt\" \"wt\" \"wt\" ...\n",
      "  ..$ WINDOW   : int [1:3784500] 0 0 0 0 0 0 0 0 0 0 ...\n",
      "  ..$ X        : int [1:3784500] 1 2 3 4 5 6 7 8 9 10 ...\n",
      "  ..$ Y        : int [1:3784500] 1 1 1 1 1 1 1 1 1 1 ...\n",
      "  ..$ X_RES    : int [1:3784500] 172 173 174 175 176 177 178 179 180 181 ...\n",
      "  ..$ Y_RES    : int [1:3784500] 172 172 172 172 172 172 172 172 172 172 ...\n",
      "  ..$ X_RESNAME: Factor w/ 20 levels \"ALA\",\"ARG\",\"ASN\",..: 17 17 3 20 8 4 16 17 11 1 ...\n",
      "  ..$ Y_RESNAME: Factor w/ 20 levels \"ALA\",\"ARG\",\"ASN\",..: 17 17 17 17 17 17 17 17 17 17 ...\n",
      "  ..$ X_Residue: chr [1:3784500] \"THR_172\" \"THR_173\" \"ASN_174\" \"VAL_175\" ...\n",
      "  ..$ Y_Residue: chr [1:3784500] \"THR_172\" \"THR_172\" \"THR_172\" \"THR_172\" ...\n",
      "  ..$ CONTACT  : num [1:3784500] 0 0 0.719 0 0 ...\n",
      " $ res_data             :'data.frame':\t1740 obs. of  8 variables:\n",
      "  ..$ SYSTEM : chr [1:1740] \"wt\" \"wt\" \"wt\" \"wt\" ...\n",
      "  ..$ ResNum : int [1:1740] 1 2 3 4 5 6 7 8 9 10 ...\n",
      "  ..$ RESID  : int [1:1740] 172 173 174 175 176 177 178 179 180 181 ...\n",
      "  ..$ RESNAME: Factor w/ 20 levels \"ALA\",\"ARG\",\"ASN\",..: 17 17 3 20 8 4 16 17 11 1 ...\n",
      "  ..$ Residue: chr [1:1740] \"THR_172\" \"THR_173\" \"ASN_174\" \"VAL_175\" ...\n",
      "  ..$ rX     : num [1:1740] 30.8 32.1 31.5 32.1 32.8 ...\n",
      "  ..$ rY     : num [1:1740] 82.5 80.4 77.8 75.2 72.2 ...\n",
      "  ..$ rZ     : num [1:1740] 60.3 60.9 60.6 62.1 62.8 ...\n"
     ]
    }
   ],
   "source": [
    "#load the contact - correlation maps generated by carma into a single data frame\n",
    "#and apply some residue naming information\n",
    "data_list <- load_windowed_correlation_data(basepath=basepath,baseinfodir=baseinfodir,\n",
    "                                            datafilename=datafilename,\n",
    "                                            contactmapname=contactmapname,\n",
    "                                            resinfofilename=resinfofilename,\n",
    "                                            atominfofilename=atominfofilename,\n",
    "                                            coordfilename=coordfilename,\n",
    "                                            system_list=system_list,window_list=window_list,\n",
    "                                            skip_corr_header_rows=1,\n",
    "                                            datafiles_as_arrays=TRUE,\n",
    "                                            contactfiles_as_arrays=TRUE)\n",
    "windowed_corr_data <- data_list[[\"windowed_corr_data\"]]\n",
    "windowed_contact_map <- data_list[[\"windowed_contact_data\"]]\n",
    "resData <- data_list[[\"res_data\"]]\n",
    "contact_corr <- gen_contact_corr_summary(windowed_corr_data,windowed_contact_map,\n",
    "                                             verbose=TRUE)\n",
    "contact_corr %>% head\n",
    "data_list %>% glimpse"
   ]
  },
  {
   "cell_type": "code",
   "execution_count": 8,
   "metadata": {
    "collapsed": false
   },
   "outputs": [],
   "source": [
    "write.table(x=data_list$windowed_corr_data,\n",
    "            file=paste(analysisDir,\"/joint_windowed_correlation_data_table.dat\",sep=\"\"),\n",
    "            quote=FALSE,row.names=FALSE)\n",
    "write.table(x=contact_corr,\n",
    "            file=paste(analysisDir,\"/joint_contact_averaged_correlation_data_table.dat\",sep=\"\"),\n",
    "            quote=FALSE,row.names=FALSE)\n",
    "write.table(x=data_list$res_data,\n",
    "            file=paste(analysisDir,\"/joint_res_data_table.dat\",sep=\"\"),\n",
    "            quote=FALSE,row.names=FALSE)"
   ]
  },
  {
   "cell_type": "code",
   "execution_count": 12,
   "metadata": {
    "collapsed": false
   },
   "outputs": [
    {
     "data": {
      "text/html": [
       "<table>\n",
       "<thead><tr><th scope=col>SYSTEM</th><th scope=col>WINDOW</th><th scope=col>X</th><th scope=col>Y</th><th scope=col>X_RES</th><th scope=col>Y_RES</th><th scope=col>X_RESNAME</th><th scope=col>Y_RESNAME</th><th scope=col>X_Residue</th><th scope=col>Y_Residue</th><th scope=col>CORR</th><th scope=col>CONTACT</th></tr></thead>\n",
       "<tbody>\n",
       "\t<tr><td>wt     </td><td>1      </td><td>1      </td><td>1      </td><td>172    </td><td>172    </td><td>THR    </td><td>THR    </td><td>THR_172</td><td>THR_172</td><td>0.00000</td><td>0      </td></tr>\n",
       "\t<tr><td>wt     </td><td>1      </td><td>2      </td><td>1      </td><td>173    </td><td>172    </td><td>THR    </td><td>THR    </td><td>THR_173</td><td>THR_172</td><td>0.00000</td><td>0      </td></tr>\n",
       "\t<tr><td>wt     </td><td>1      </td><td>3      </td><td>1      </td><td>174    </td><td>172    </td><td>ASN    </td><td>THR    </td><td>ASN_174</td><td>THR_172</td><td>0.86239</td><td>1      </td></tr>\n",
       "\t<tr><td>wt     </td><td>1      </td><td>4      </td><td>1      </td><td>175    </td><td>172    </td><td>VAL    </td><td>THR    </td><td>VAL_175</td><td>THR_172</td><td>0.00000</td><td>0      </td></tr>\n",
       "\t<tr><td>wt     </td><td>1      </td><td>5      </td><td>1      </td><td>176    </td><td>172    </td><td>GLY    </td><td>THR    </td><td>GLY_176</td><td>THR_172</td><td>0.00000</td><td>0      </td></tr>\n",
       "\t<tr><td>wt     </td><td>1      </td><td>6      </td><td>1      </td><td>177    </td><td>172    </td><td>ASP    </td><td>THR    </td><td>ASP_177</td><td>THR_172</td><td>0.00000</td><td>0      </td></tr>\n",
       "</tbody>\n",
       "</table>\n"
      ],
      "text/latex": [
       "\\begin{tabular}{r|llllllllllll}\n",
       " SYSTEM & WINDOW & X & Y & X\\_RES & Y\\_RES & X\\_RESNAME & Y\\_RESNAME & X\\_Residue & Y\\_Residue & CORR & CONTACT\\\\\n",
       "\\hline\n",
       "\t wt        & 1         & 1         & 1         & 172       & 172       & THR       & THR       & THR\\_172 & THR\\_172 & 0.00000   & 0        \\\\\n",
       "\t wt        & 1         & 2         & 1         & 173       & 172       & THR       & THR       & THR\\_173 & THR\\_172 & 0.00000   & 0        \\\\\n",
       "\t wt        & 1         & 3         & 1         & 174       & 172       & ASN       & THR       & ASN\\_174 & THR\\_172 & 0.86239   & 1        \\\\\n",
       "\t wt        & 1         & 4         & 1         & 175       & 172       & VAL       & THR       & VAL\\_175 & THR\\_172 & 0.00000   & 0        \\\\\n",
       "\t wt        & 1         & 5         & 1         & 176       & 172       & GLY       & THR       & GLY\\_176 & THR\\_172 & 0.00000   & 0        \\\\\n",
       "\t wt        & 1         & 6         & 1         & 177       & 172       & ASP       & THR       & ASP\\_177 & THR\\_172 & 0.00000   & 0        \\\\\n",
       "\\end{tabular}\n"
      ],
      "text/markdown": [
       "\n",
       "SYSTEM | WINDOW | X | Y | X_RES | Y_RES | X_RESNAME | Y_RESNAME | X_Residue | Y_Residue | CORR | CONTACT | \n",
       "|---|---|---|---|---|---|\n",
       "| wt      | 1       | 1       | 1       | 172     | 172     | THR     | THR     | THR_172 | THR_172 | 0.00000 | 0       | \n",
       "| wt      | 1       | 2       | 1       | 173     | 172     | THR     | THR     | THR_173 | THR_172 | 0.00000 | 0       | \n",
       "| wt      | 1       | 3       | 1       | 174     | 172     | ASN     | THR     | ASN_174 | THR_172 | 0.86239 | 1       | \n",
       "| wt      | 1       | 4       | 1       | 175     | 172     | VAL     | THR     | VAL_175 | THR_172 | 0.00000 | 0       | \n",
       "| wt      | 1       | 5       | 1       | 176     | 172     | GLY     | THR     | GLY_176 | THR_172 | 0.00000 | 0       | \n",
       "| wt      | 1       | 6       | 1       | 177     | 172     | ASP     | THR     | ASP_177 | THR_172 | 0.00000 | 0       | \n",
       "\n",
       "\n"
      ],
      "text/plain": [
       "  SYSTEM WINDOW X Y X_RES Y_RES X_RESNAME Y_RESNAME X_Residue Y_Residue CORR   \n",
       "1 wt     1      1 1 172   172   THR       THR       THR_172   THR_172   0.00000\n",
       "2 wt     1      2 1 173   172   THR       THR       THR_173   THR_172   0.00000\n",
       "3 wt     1      3 1 174   172   ASN       THR       ASN_174   THR_172   0.86239\n",
       "4 wt     1      4 1 175   172   VAL       THR       VAL_175   THR_172   0.00000\n",
       "5 wt     1      5 1 176   172   GLY       THR       GLY_176   THR_172   0.00000\n",
       "6 wt     1      6 1 177   172   ASP       THR       ASP_177   THR_172   0.00000\n",
       "  CONTACT\n",
       "1 0      \n",
       "2 0      \n",
       "3 1      \n",
       "4 0      \n",
       "5 0      \n",
       "6 0      "
      ]
     },
     "metadata": {},
     "output_type": "display_data"
    }
   ],
   "source": [
    "equil_windowed_corr_data=read.table(\n",
    "    paste(analysisDir,\"/joint_windowed_correlation_data_table.dat\",sep=\"\"),header=TRUE) %>%\n",
    "    filter(WINDOW>0) %>%\n",
    "    mutate(CONTACT=1.0*(abs(CORR)>0))\n",
    "equil_windowed_corr_data %>% head"
   ]
  },
  {
   "cell_type": "code",
   "execution_count": 11,
   "metadata": {
    "collapsed": true
   },
   "outputs": [],
   "source": []
  },
  {
   "cell_type": "code",
   "execution_count": null,
   "metadata": {
    "collapsed": true
   },
   "outputs": [],
   "source": []
  }
 ],
 "metadata": {
  "anaconda-cloud": {},
  "kernelspec": {
   "display_name": "R",
   "language": "R",
   "name": "ir"
  },
  "language_info": {
   "codemirror_mode": "r",
   "file_extension": ".r",
   "mimetype": "text/x-r-source",
   "name": "R",
   "pygments_lexer": "r",
   "version": "3.3.2"
  }
 },
 "nbformat": 4,
 "nbformat_minor": 2
}
