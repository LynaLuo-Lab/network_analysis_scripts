{
 "cells": [
  {
   "cell_type": "code",
   "execution_count": 1,
   "metadata": {},
   "outputs": [],
   "source": [
    "#numerical / data packages\n",
    "import numpy as np\n",
    "import pandas as pd\n",
    "import pytraj as pt\n",
    "import scipy as sp\n",
    "\n",
    "#utilities\n",
    "import os\n",
    "import sys\n",
    "import gc\n",
    "import copy\n",
    "import tqdm\n",
    "import time\n",
    "#from tqdm import notebook\n",
    "\n",
    "#interactive widgets\n",
    "#import ipywidgets as widgets\n",
    "#from ipywidgets import interact, interact_manual\n",
    "\n",
    "#matplotlib plotting\n",
    "import matplotlib\n",
    "from matplotlib import pyplot as plt\n",
    "import seaborn as sns\n",
    "\n",
    "#plotly plotting\n",
    "import plotly as ply\n",
    "from plotly import graph_objs as go\n",
    "ply.io.renderers.default=\"notebook\"\n",
    "\n",
    "#%cd /data/lyna\n",
    "#import correlation_data_utilities as corr_utils\n",
    "\n",
    "#tqbar=tqdm.notebook.tqdm\n",
    "tqbar=tqdm.tqdm_notebook"
   ]
  },
  {
   "cell_type": "code",
   "execution_count": 5,
   "metadata": {},
   "outputs": [
    {
     "name": "stdout",
     "output_type": "stream",
     "text": [
      "[[0.   0.25 0.33 ... 0.   0.   0.  ]\n",
      " [0.25 0.   0.   ... 0.   0.   0.  ]\n",
      " [0.33 0.   0.   ... 0.   0.   0.  ]\n",
      " ...\n",
      " [0.   0.   0.   ... 0.   0.   0.5 ]\n",
      " [0.   0.   0.   ... 0.   0.   1.  ]\n",
      " [0.   0.   0.   ... 0.5  1.   0.  ]]\n"
     ]
    }
   ],
   "source": [
    "# Example adjacency network on Botello-Smith and Luo, JCTC2019, Figure 2\n",
    "Adj=sp.sparse.coo_matrix(\n",
    "    (\n",
    "        np.array(\n",
    "            [.25,.33,.5,1,.25,.25,.33,.33,.5,.5,1,\n",
    "             1,.25,.25,.33,.33,.5,.5,1,1,.25,.33,.5,1]),\n",
    "        ([0,0,0,0,1,1,2,2,3,3,4,4,5,5,6,6,7,7,8,8,9,9,9,9],\n",
    "         [1,2,3,4,0,5,0,6,0,7,0,8,1,9,2,9,3,9,4,9,5,6,7,8]\n",
    "        )\n",
    "    )\n",
    ")\n",
    "\n",
    "AdjDense=Adj.todense()\n",
    "print(AdjDense)"
   ]
  },
  {
   "cell_type": "code",
   "execution_count": 6,
   "metadata": {},
   "outputs": [
    {
     "name": "stdout",
     "output_type": "stream",
     "text": [
      "[[ 2.08 -0.25 -0.33 ... -0.   -0.   -0.  ]\n",
      " [-0.25  0.5  -0.   ... -0.   -0.   -0.  ]\n",
      " [-0.33 -0.    0.66 ... -0.   -0.   -0.  ]\n",
      " ...\n",
      " [-0.   -0.   -0.   ...  1.   -0.   -0.5 ]\n",
      " [-0.   -0.   -0.   ... -0.    2.   -1.  ]\n",
      " [-0.   -0.   -0.   ... -0.5  -1.    2.08]]\n"
     ]
    }
   ],
   "source": [
    "# Convert adjacency matrix to Laplacian matrix\n",
    "LapDense=-copy.deepcopy(AdjDense)\n",
    "for ii, irow in enumerate(LapDense):\n",
    "    LapDense[ii,ii]=-np.sum(irow)\n",
    "print(LapDense)"
   ]
  },
  {
   "cell_type": "code",
   "execution_count": 7,
   "metadata": {},
   "outputs": [
    {
     "data": {
      "text/plain": [
       "matrix([[ 0.56118298, -0.07920163,  0.01776807, ..., -0.11958625,\n",
       "         -0.01958625, -0.15997086],\n",
       "        [-0.07920163,  2.10733683, -0.46236014, ..., -0.43945804,\n",
       "         -0.33945804, -0.31958625],\n",
       "        [ 0.01776807, -0.46236014,  1.65481158, ..., -0.34248834,\n",
       "         -0.24248834, -0.22261655],\n",
       "        ...,\n",
       "        [-0.11958625, -0.43945804, -0.34248834, ...,  1.1740035 ,\n",
       "         -0.05932984,  0.12079837],\n",
       "        [-0.01958625, -0.33945804, -0.24248834, ..., -0.05932984,\n",
       "          0.70733683,  0.22079837],\n",
       "        [-0.15997086, -0.31958625, -0.22261655, ...,  0.12079837,\n",
       "          0.22079837,  0.56118298]])"
      ]
     },
     "execution_count": 7,
     "metadata": {},
     "output_type": "execute_result"
    }
   ],
   "source": [
    "# Compute Moore-Penrose pseudoinverse of Laplacian matrix (results will depend on numpy version)\n",
    "LapInv=np.linalg.pinv(LapDense)\n",
    "LapInv"
   ]
  },
  {
   "cell_type": "code",
   "execution_count": 8,
   "metadata": {},
   "outputs": [
    {
     "name": "stdout",
     "output_type": "stream",
     "text": [
      "0.24038461538461636 -0.240384615384615 0.2403846153846157\n"
     ]
    }
   ],
   "source": [
    "# Compute betweenness for edge 4-8 when source and sink nodes are 1 and 10 using eqs in Fig2\n",
    "# results should agree with Kirchhoff's law in Fig1\n",
    "v_1_10_4=LapInv[3,0]-LapInv[3,9]\n",
    "v_1_10_8=LapInv[7,0]-LapInv[7,9]\n",
    "b_4_8=AdjDense[3,7]*(v_1_10_4 - v_1_10_8)\n",
    "\n",
    "print(v_1_10_4,v_1_10_8,b_4_8)"
   ]
  },
  {
   "cell_type": "code",
   "execution_count": 40,
   "metadata": {},
   "outputs": [
    {
     "name": "stdout",
     "output_type": "stream",
     "text": [
      "[[ 0  0  0  1  0  0  0 -1  0  0]] [[ 1]\n",
      " [ 0]\n",
      " [ 0]\n",
      " [ 0]\n",
      " [ 0]\n",
      " [ 0]\n",
      " [ 0]\n",
      " [ 0]\n",
      " [ 0]\n",
      " [-1]] [[0.24038462]]\n"
     ]
    }
   ],
   "source": [
    "# (v_1_10_4 - v_1_10_8) can also be obtained by \n",
    "# multiple LapInv by column vector ColVec and row vector RowVec \n",
    "\n",
    "ColVec=np.matrix(np.atleast_2d(np.array([0,0,0,1,0,0,0,-1,0,0])))\n",
    "RowVec=np.matrix(np.atleast_2d(np.array([1,0,0,0,0,0,0,0,0,-1])).T)\n",
    "Btw_4_8=AdjDense[3,7]*ColVec*LapInv*RowVec\n",
    "print(ColVec, RowVec, Btw_4_8)"
   ]
  },
  {
   "cell_type": "code",
   "execution_count": 58,
   "metadata": {},
   "outputs": [
    {
     "name": "stdout",
     "output_type": "stream",
     "text": [
      "0 source node: 0\n",
      "0 sink node 9\n",
      "[[ 1.]\n",
      " [ 0.]\n",
      " [ 0.]\n",
      " [ 0.]\n",
      " [ 0.]\n",
      " [ 0.]\n",
      " [ 0.]\n",
      " [ 0.]\n",
      " [ 0.]\n",
      " [-1.]]\n"
     ]
    }
   ],
   "source": [
    "# For large matrix, conjugated gradient can be used instead of pseudo-inverse to compute betweeness\n",
    "sources=[0] # can have multiple source and sink nodes\n",
    "sinks=[9]\n",
    "loadMat=np.zeros((len(LapInv),len(sources)*len(sinks)))\n",
    "\n",
    "ii=0\n",
    "for isource, source in enumerate(sources):\n",
    "    for isink, sink in enumerate(sinks):\n",
    "        print(isource, \"source node:\", source)\n",
    "        print(isink, \"sink node\", sink)\n",
    "        loadMat[source, ii]=1\n",
    "        loadMat[sink,ii]=-1\n",
    "        ii+=1\n",
    "with np.printoptions(threshold=np.inf):\n",
    "        print(loadMat)"
   ]
  },
  {
   "cell_type": "code",
   "execution_count": 60,
   "metadata": {},
   "outputs": [
    {
     "name": "stdout",
     "output_type": "stream",
     "text": [
      "[[ 2.08 -0.25 -0.33 ... -0.   -0.   -0.  ]\n",
      " [-0.25  0.5  -0.   ... -0.   -0.   -0.  ]\n",
      " [-0.33 -0.    0.66 ... -0.   -0.   -0.  ]\n",
      " ...\n",
      " [-0.   -0.   -0.   ...  1.   -0.   -0.5 ]\n",
      " [-0.   -0.   -0.   ... -0.    2.   -1.  ]\n",
      " [-0.   -0.   -0.   ... -0.5  -1.    2.08]]\n",
      "  (0, 0)\t2.08\n",
      "  (0, 1)\t-0.25\n",
      "  (0, 2)\t-0.33\n",
      "  (0, 3)\t-0.5\n",
      "  (0, 4)\t-1.0\n",
      "  (1, 0)\t-0.25\n",
      "  (1, 1)\t0.5\n",
      "  (1, 5)\t-0.25\n",
      "  (2, 0)\t-0.33\n",
      "  (2, 2)\t0.66\n",
      "  (2, 6)\t-0.33\n",
      "  (3, 0)\t-0.5\n",
      "  (3, 3)\t1.0\n",
      "  (3, 7)\t-0.5\n",
      "  (4, 0)\t-1.0\n",
      "  (4, 4)\t2.0\n",
      "  (4, 8)\t-1.0\n",
      "  (5, 1)\t-0.25\n",
      "  (5, 5)\t0.5\n",
      "  (5, 9)\t-0.25\n",
      "  (6, 2)\t-0.33\n",
      "  (6, 6)\t0.66\n",
      "  (6, 9)\t-0.33\n",
      "  (7, 3)\t-0.5\n",
      "  (7, 7)\t1.0\n",
      "  (7, 9)\t-0.5\n",
      "  (8, 4)\t-1.0\n",
      "  (8, 8)\t2.0\n",
      "  (8, 9)\t-1.0\n",
      "  (9, 5)\t-0.25\n",
      "  (9, 6)\t-0.33\n",
      "  (9, 7)\t-0.5\n",
      "  (9, 8)\t-1.0\n",
      "  (9, 9)\t2.08\n"
     ]
    }
   ],
   "source": [
    "LapSparse=sp.sparse.coo_matrix(LapDense)\n",
    "print(LapDense)\n",
    "print(LapSparse)"
   ]
  },
  {
   "cell_type": "code",
   "execution_count": 65,
   "metadata": {},
   "outputs": [
    {
     "name": "stdout",
     "output_type": "stream",
     "text": [
      "initial potVec [0. 0. 0. 0. 0. 0. 0. 0. 0. 0.]\n",
      "loadVec [ 1.  0.  0.  0.  0.  0.  0.  0.  0. -1.]\n",
      "potVec [ 0.72115385  0.24038462  0.24038462  0.24038462  0.24038462 -0.24038462\n",
      " -0.24038462 -0.24038462 -0.24038462 -0.72115385] 1\n",
      "btw_4_8 0.24038461538461536\n"
     ]
    }
   ],
   "source": [
    "# conjugated gradient solver takes in a sparse matrix and a vector as input\n",
    "\n",
    "potVec=np.zeros(Adj.shape[0])\n",
    "print(\"initial potVec\", potVec)\n",
    "for loadVec in loadMat.T:\n",
    "    print(\"loadVec\",loadVec) # loadMat = RowVec\n",
    "    \n",
    "    # equation below is equal to potVec=np.sum(LapInv*loadMat)\n",
    "    potVec=potVec+sp.sparse.linalg.cg(LapSparse,loadVec)[0]\n",
    "    \n",
    "    potVec=potVec/len(loadMat.T)\n",
    "    print(\"potVec\", potVec, len(loadMat.T))\n",
    "\n",
    "btw_4_8=np.abs(Adj.tocsr()[3,7]*(potVec[7]-potVec[3]))\n",
    "print('btw_4_8',btw_4_8)"
   ]
  },
  {
   "cell_type": "markdown",
   "metadata": {},
   "source": [
    "# Test case ends here"
   ]
  },
  {
   "cell_type": "markdown",
   "metadata": {},
   "source": [
    "# Below is using test case to check the corr_utils functions"
   ]
  },
  {
   "cell_type": "code",
   "execution_count": 15,
   "metadata": {},
   "outputs": [
    {
     "name": "stdout",
     "output_type": "stream",
     "text": [
      "[0.5]\n",
      "computing matrix Laplacian\n",
      "[[ 2.08 -0.25 -0.33 ... -0.   -0.   -0.  ]\n",
      " [-0.25  0.5  -0.   ... -0.   -0.   -0.  ]\n",
      " [-0.33 -0.    0.66 ... -0.   -0.   -0.  ]\n",
      " ...\n",
      " [-0.   -0.   -0.   ...  1.   -0.   -0.5 ]\n",
      " [-0.   -0.   -0.   ... -0.    2.   -1.  ]\n",
      " [-0.   -0.   -0.   ... -0.5  -1.    2.08]]\n",
      "extracting weighted adjacency matrix\n",
      "[[0.   0.25 0.33 ... 0.   0.   0.  ]\n",
      " [0.25 0.   0.   ... 0.   0.   0.  ]\n",
      " [0.33 0.   0.   ... 0.   0.   0.  ]\n",
      " ...\n",
      " [0.   0.   0.   ... 0.   0.   0.5 ]\n",
      " [0.   0.   0.   ... 0.   0.   1.  ]\n",
      " [0.   0.   0.   ... 0.5  1.   0.  ]]\n",
      "computing moore-penrose inverse of matrix Laplacian\n",
      "[[ 0.56118298 -0.07920163  0.01776807 ... -0.11958625 -0.01958625\n",
      "  -0.15997086]\n",
      " [-0.07920163  2.10733683 -0.46236014 ... -0.43945804 -0.33945804\n",
      "  -0.31958625]\n",
      " [ 0.01776807 -0.46236014  1.65481158 ... -0.34248834 -0.24248834\n",
      "  -0.22261655]\n",
      " ...\n",
      " [-0.11958625 -0.43945804 -0.34248834 ...  1.1740035  -0.05932984\n",
      "   0.12079837]\n",
      " [-0.01958625 -0.33945804 -0.24248834 ... -0.05932984  0.70733683\n",
      "   0.22079837]\n",
      " [-0.15997086 -0.31958625 -0.22261655 ...  0.12079837  0.22079837\n",
      "   0.56118298]]\n",
      "generating flow betweenness scores\n",
      "~btw1~\n",
      "[[0.         0.0400641  0.05288462 0.25320513 0.16025641 0.\n",
      "  0.         0.         0.         0.        ]\n",
      " [0.0400641  0.         0.         0.         0.         0.0400641\n",
      "  0.         0.         0.         0.        ]\n",
      " [0.05288462 0.         0.         0.         0.         0.\n",
      "  0.05288462 0.         0.         0.        ]\n",
      " [0.25320513 0.         0.         0.         0.         0.\n",
      "  0.         0.74679487 0.         0.        ]\n",
      " [0.16025641 0.         0.         0.         0.         0.\n",
      "  0.         0.         0.16025641 0.        ]\n",
      " [0.         0.0400641  0.         0.         0.         0.\n",
      "  0.         0.         0.         0.0400641 ]\n",
      " [0.         0.         0.05288462 0.         0.         0.\n",
      "  0.         0.         0.         0.05288462]\n",
      " [0.         0.         0.         0.74679487 0.         0.\n",
      "  0.         0.         0.         0.25320513]\n",
      " [0.         0.         0.         0.         0.16025641 0.\n",
      "  0.         0.         0.         0.16025641]\n",
      " [0.         0.         0.         0.         0.         0.0400641\n",
      "  0.05288462 0.25320513 0.16025641 0.        ]]\n",
      "~~~~~~~~~~~~~~~~~~~~~~~~~~~\n",
      "new method\n",
      "~netLap~\n",
      "[[ 2.08 -0.25 -0.33 -0.5  -1.   -0.   -0.   -0.   -0.   -0.  ]\n",
      " [-0.25  0.5  -0.   -0.   -0.   -0.25 -0.   -0.   -0.   -0.  ]\n",
      " [-0.33 -0.    0.66 -0.   -0.   -0.   -0.33 -0.   -0.   -0.  ]\n",
      " [-0.5  -0.   -0.    1.   -0.   -0.   -0.   -0.5  -0.   -0.  ]\n",
      " [-1.   -0.   -0.   -0.    2.   -0.   -0.   -0.   -1.   -0.  ]\n",
      " [-0.   -0.25 -0.   -0.   -0.    0.5  -0.   -0.   -0.   -0.25]\n",
      " [-0.   -0.   -0.33 -0.   -0.   -0.    0.66 -0.   -0.   -0.33]\n",
      " [-0.   -0.   -0.   -0.5  -0.   -0.   -0.    1.   -0.   -0.5 ]\n",
      " [-0.   -0.   -0.   -0.   -1.   -0.   -0.   -0.    2.   -1.  ]\n",
      " [-0.   -0.   -0.   -0.   -0.   -0.25 -0.33 -0.5  -1.    2.08]]\n",
      "~lapInv~\n",
      "[[ 0.56118298 -0.07920163  0.01776807  0.12079837  0.22079837 -0.31958625\n",
      "  -0.22261655 -0.11958625 -0.01958625 -0.15997086]\n",
      " [-0.07920163  2.10733683 -0.46236014 -0.35932984 -0.25932984  0.69387529\n",
      "  -0.54248834 -0.43945804 -0.33945804 -0.31958625]\n",
      " [ 0.01776807 -0.46236014  1.65481158 -0.26236014 -0.16236014 -0.54248834\n",
      "   0.56458236 -0.34248834 -0.24248834 -0.22261655]\n",
      " [ 0.12079837 -0.35932984 -0.26236014  1.1740035  -0.05932984 -0.43945804\n",
      "  -0.34248834  0.42720862 -0.13945804 -0.11958625]\n",
      " [ 0.22079837 -0.25932984 -0.16236014 -0.05932984  0.70733683 -0.33945804\n",
      "  -0.24248834 -0.13945804  0.29387529 -0.01958625]\n",
      " [-0.31958625  0.69387529 -0.54248834 -0.43945804 -0.33945804  2.10733683\n",
      "  -0.46236014 -0.35932984 -0.25932984 -0.07920163]\n",
      " [-0.22261655 -0.54248834  0.56458236 -0.34248834 -0.24248834 -0.46236014\n",
      "   1.65481158 -0.26236014 -0.16236014  0.01776807]\n",
      " [-0.11958625 -0.43945804 -0.34248834  0.42720862 -0.13945804 -0.35932984\n",
      "  -0.26236014  1.1740035  -0.05932984  0.12079837]\n",
      " [-0.01958625 -0.33945804 -0.24248834 -0.13945804  0.29387529 -0.25932984\n",
      "  -0.16236014 -0.05932984  0.70733683  0.22079837]\n",
      " [-0.15997086 -0.31958625 -0.22261655 -0.11958625 -0.01958625 -0.07920163\n",
      "   0.01776807  0.12079837  0.22079837  0.56118298]]\n"
     ]
    }
   ],
   "source": [
    "sourceInds=[3]\n",
    "targetInds=[7]\n",
    "print(networkAdj[sourceInds,targetInds])\n",
    "\n",
    "btw1=np.array(corr_utils.getBtwMat(\n",
    "    mat=copy.deepcopy(networkAdj),\n",
    "    sources=sourceInds,targets=targetInds,\n",
    "    pbarFun=tqbar, verbose=True, verboseLevel=15,useLegacyAlgorithm=True))\n",
    "\n",
    "with np.printoptions(threshold=np.inf):\n",
    "    print(\"~btw1~\")\n",
    "    print(btw1)\n",
    "    \n",
    "\n",
    "\n",
    "print('~~~~~~~~~~~~~~~~~~~~~~~~~~~')\n",
    "print('new method')\n",
    "netLap=corr_utils.matLap(corr_utils.matAdj(copy.deepcopy(networkAdj)))\n",
    "with np.printoptions(threshold=np.inf):\n",
    "    print(\"~netLap~\")\n",
    "    print(netLap)\n",
    "\n",
    "lapInv=np.linalg.pinv(netLap, hermitian=True)\n",
    "with np.printoptions(threshold=np.inf):\n",
    "    print(\"~lapInv~\")\n",
    "    print(lapInv)\n"
   ]
  },
  {
   "cell_type": "code",
   "execution_count": null,
   "metadata": {},
   "outputs": [],
   "source": []
  },
  {
   "cell_type": "code",
   "execution_count": null,
   "metadata": {},
   "outputs": [],
   "source": []
  }
 ],
 "metadata": {
  "kernelspec": {
   "display_name": "Python 3",
   "language": "python",
   "name": "python3"
  },
  "language_info": {
   "codemirror_mode": {
    "name": "ipython",
    "version": 3
   },
   "file_extension": ".py",
   "mimetype": "text/x-python",
   "name": "python",
   "nbconvert_exporter": "python",
   "pygments_lexer": "ipython3",
   "version": "3.7.5"
  }
 },
 "nbformat": 4,
 "nbformat_minor": 4
}
