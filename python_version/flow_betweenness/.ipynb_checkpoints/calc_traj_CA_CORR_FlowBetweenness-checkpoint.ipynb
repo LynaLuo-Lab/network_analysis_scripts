{
 "cells": [
  {
   "cell_type": "code",
   "execution_count": 3,
   "metadata": {
    "collapsed": false,
    "scrolled": false
   },
   "outputs": [
    {
     "data": {
      "text/plain": [
       "<module 'correlation_data_utilities' from 'correlation_data_utilities.pyc'>"
      ]
     },
     "execution_count": 3,
     "metadata": {},
     "output_type": "execute_result"
    }
   ],
   "source": [
    "#import pytraj as pt\n",
    "import numpy as np\n",
    "import gc\n",
    "import os\n",
    "import sys\n",
    "import subprocess\n",
    "import itertools\n",
    "import copy\n",
    "import collections\n",
    "import re\n",
    "import glob\n",
    "import pandas as pd\n",
    "\n",
    "import correlation_data_utilities\n",
    "reload(correlation_data_utilities)"
   ]
  },
  {
   "cell_type": "code",
   "execution_count": 15,
   "metadata": {
    "collapsed": false
   },
   "outputs": [
    {
     "name": "stdout",
     "output_type": "stream",
     "text": [
      "computing matrix Laplacian\n",
      "extracting weighted adjacency matrix\n",
      "computing moore-penrose inverse of matrix Laplacian\n",
      "generating flow betweenness scores\n",
      "computing betweenness for 3978 edges\n",
      "Writting carma matrix format file: ./contact.CORR_BTW\n",
      "Writting header\n",
      "Writting 454 rows:  0.0%   9.9%  19.8%  29.7%  39.6%  49.5%  59.4%  69.3%  79.2%  89.2%  99.1%  \n",
      "done\n",
      "done\n"
     ]
    }
   ],
   "source": [
    "baseDir='.'\n",
    "inputMatrixFileName='contact.absCorr'\n",
    "inputMatrixFilePath='/'.join([baseDir,inputMatrixFileName])\n",
    "\n",
    "outputDir=baseDir\n",
    "outputMatrixFileName='contact.CORR_BTW'\n",
    "outputMatrixFilePath='/'.join([baseDir,outputMatrixFileName])\n",
    "\n",
    "print \"loading matrix data from %s\"%(inputMatrixFilePath)\n",
    "#Load the contact-correlation matrix in 2 steps\n",
    "#the first step reads the contact.absCorr matrix file and returns\n",
    "#a data dictionary\n",
    "#the second step parses the dictionary and yields the corresponding np.matrix\n",
    "inputMatrixData=correlation_data_utilities.read_carma_matrix(\n",
    "                        inputMatrixFilePath,has_header=True,returnHeader=True,verbose=False)\n",
    "inputMatrix=correlation_data_utilities.corrDataDictToMat(inputMatrixData)\n",
    "#The source and target nodes define the source and target regions for\n",
    "#the flow-betweenness calculation. They should be lists of network node indices\n",
    "#The current flow-betweenness calculation only supports the case where\n",
    "#the set of source nodes is disjoint from the target nodes\n",
    "sources=[49]\n",
    "targets=[432]\n",
    "nResidues=inputMatrix.shape[0] #this should be a square matrix... if not we have problems\n",
    "\n",
    "#construct the flow-betweenness matrix\n",
    "#if you want to suppress informative output text leave out the verbose flag\n",
    "flowBtwMat=np.abs(correlation_data_utilities.getBtwMat(np.abs(inputMatrix),\n",
    "                                                sources=sources,targets=targets,verbose=True))\n",
    "#write the flow betweenness matrix to a corresponding data file.\n",
    "#again, output messages can be turned on / off with the verbose flag\n",
    "correlation_data_utilities.write_mat_to_carma_matrix(\n",
    "                        outputMatrixFilePath,flowBtwMat,verbose=True)\n",
    "\n",
    "print 'done'"
   ]
  },
  {
   "cell_type": "code",
   "execution_count": 19,
   "metadata": {
    "collapsed": false
   },
   "outputs": [
    {
     "name": "stdout",
     "output_type": "stream",
     "text": [
      "41\n",
      "38\n"
     ]
    }
   ],
   "source": [
    "# (ps simulated)/(wallclock minutes)*(hr/min)*(hr/day)/(ps/ns)\n",
    "print (20400-8400)/(22*60+7 -(15*60+26))*60*24/1000\n",
    "print (32400-20400)/(24*60-23*60-7 + 6*60+21)*60*24/1000"
   ]
  },
  {
   "cell_type": "code",
   "execution_count": 20,
   "metadata": {
    "collapsed": false
   },
   "outputs": [
    {
     "name": "stdout",
     "output_type": "stream",
     "text": [
      "447.218181818\n"
     ]
    }
   ],
   "source": [
    "# (ps simulated)/(wallclock minutes)*(hr/min)*(hr/day)/(ps/ns)\n",
    "print (7888200.0-7778880.0)/(24*60-22*60-41 + 4*60+33)*60*24/1000"
   ]
  },
  {
   "cell_type": "code",
   "execution_count": null,
   "metadata": {
    "collapsed": true
   },
   "outputs": [],
   "source": []
  }
 ],
 "metadata": {
  "anaconda-cloud": {},
  "kernelspec": {
   "display_name": "Python [default]",
   "language": "python",
   "name": "python2"
  },
  "language_info": {
   "codemirror_mode": {
    "name": "ipython",
    "version": 2
   },
   "file_extension": ".py",
   "mimetype": "text/x-python",
   "name": "python",
   "nbconvert_exporter": "python",
   "pygments_lexer": "ipython2",
   "version": "2.7.12"
  }
 },
 "nbformat": 4,
 "nbformat_minor": 2
}
