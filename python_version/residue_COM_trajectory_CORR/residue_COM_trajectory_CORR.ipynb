{
 "cells": [
  {
   "cell_type": "code",
   "execution_count": 1,
   "metadata": {
    "collapsed": false,
    "scrolled": false
   },
   "outputs": [
    {
     "data": {
      "text/plain": [
       "<module 'correlation_data_utilities' from 'correlation_data_utilities.pyc'>"
      ]
     },
     "execution_count": 1,
     "metadata": {},
     "output_type": "execute_result"
    }
   ],
   "source": [
    "#import pytraj as pt\n",
    "import numpy as np\n",
    "import gc\n",
    "import os\n",
    "import sys\n",
    "import subprocess\n",
    "import itertools\n",
    "import copy\n",
    "import collections\n",
    "import re\n",
    "import glob\n",
    "import pandas as pd\n",
    "\n",
    "import correlation_data_utilities\n",
    "reload(correlation_data_utilities)"
   ]
  },
  {
   "cell_type": "code",
   "execution_count": 4,
   "metadata": {
    "collapsed": false,
    "scrolled": true
   },
   "outputs": [
    {
     "name": "stdout",
     "output_type": "stream",
     "text": [
      "-trajFilePath=./short_production.aligned.dcd\n",
      "-topFilePath=./step3_charmm2amber.psf\n",
      "-Computing COM trajectory\n",
      "loading input trajectory\n",
      "pytraj.TrajectoryIterator, 51 frames: \n",
      "Size: 0.000000 (GB)\n",
      "<Topology: 100144 atoms, 31555 residues, 31103 mols, non-PBC>\n",
      "           \n",
      "first 10 mapped commands:  ['vector center :1', 'vector center :2', 'vector center :3', 'vector center :4', 'vector center :5', 'vector center :6', 'vector center :7', 'vector center :8', 'vector center :9', 'vector center :10']\n",
      "running mapped commands\n",
      "extracting residue selection subtrajectory\n",
      "subtrajectory info:\n",
      "pytraj.Trajectory, 51 frames: \n",
      "Size: 0.000000 (GB)\n",
      "<Topology: 454 atoms, 454 residues, 454 mols, non-PBC>\n",
      "           \n",
      "updating trajectory coordinates\n",
      "done\n",
      "-Saving trajectory to:./carma.COM.dcd\n",
      "running carma:\n",
      "  cd .\n",
      "  carma -cov -norm -write -dot -v carma.COM.dcd carma.psf\n",
      "DONE!\n"
     ]
    }
   ],
   "source": [
    "#Use pytraj to generate COM trajectory, then run carma to generate correlation matrices\n",
    "basePath='.'\n",
    "topFileName='step3_charmm2amber.psf'\n",
    "trajFileName='short_production.aligned.dcd'\n",
    "repIDs=np.arange(4)+1\n",
    "trajIDs=np.arange(5)\n",
    "resNumList=np.arange(454)+1\n",
    "\n",
    "outputTrajName='carma.COM.dcd'\n",
    "carma_COM_Command=\"carma -cov -norm -write -dot -v carma.COM.dcd carma.psf\"\n",
    "\n",
    "topFilePath='/'.join([basePath,topFileName])\n",
    "trajFilePath='/'.join([basePath,trajFileName])\n",
    "outputTrajPath='/'.join([basePath,outputTrajName])\n",
    "print '-trajFilePath='+trajFilePath\n",
    "print '-topFilePath='+topFilePath\n",
    "print '-Computing COM trajectory'\n",
    "tempTraj=correlation_data_utilities.gen_perResCOM_traj(\n",
    "    inputTrajPath=trajFilePath,inputTopPath=topFilePath,\n",
    "    residList=resNumList,verbose=True)\n",
    "print \"-Saving trajectory to:\"+outputTrajPath\n",
    "tempTraj.save(outputTrajPath,overwrite=True)\n",
    "print \"running carma:\"\n",
    "print \"  cd \"+basePath\n",
    "print \"  \"+carma_COM_Command\n",
    "os.system(\"cd \"+basePath+\"; \"+carma_COM_Command)\n",
    "gc.collect()\n",
    "\n",
    "print 'DONE!'"
   ]
  },
  {
   "cell_type": "code",
   "execution_count": null,
   "metadata": {
    "collapsed": true
   },
   "outputs": [],
   "source": []
  }
 ],
 "metadata": {
  "anaconda-cloud": {},
  "kernelspec": {
   "display_name": "Python [default]",
   "language": "python",
   "name": "python2"
  },
  "language_info": {
   "codemirror_mode": {
    "name": "ipython",
    "version": 2
   },
   "file_extension": ".py",
   "mimetype": "text/x-python",
   "name": "python",
   "nbconvert_exporter": "python",
   "pygments_lexer": "ipython2",
   "version": "2.7.12"
  }
 },
 "nbformat": 4,
 "nbformat_minor": 2
}
