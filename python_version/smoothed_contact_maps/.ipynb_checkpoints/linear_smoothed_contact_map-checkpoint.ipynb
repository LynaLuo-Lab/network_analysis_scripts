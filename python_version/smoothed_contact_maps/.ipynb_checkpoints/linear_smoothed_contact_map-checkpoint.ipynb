{
 "cells": [
  {
   "cell_type": "code",
   "execution_count": 8,
   "metadata": {
    "collapsed": false,
    "scrolled": false
   },
   "outputs": [
    {
     "data": {
      "text/plain": [
       "<module 'correlation_data_utilities' from 'correlation_data_utilities.py'>"
      ]
     },
     "execution_count": 8,
     "metadata": {},
     "output_type": "execute_result"
    }
   ],
   "source": [
    "import pytraj as pt\n",
    "import numpy as np\n",
    "import gc\n",
    "import os\n",
    "import sys\n",
    "import subprocess\n",
    "import itertools\n",
    "import copy\n",
    "import collections\n",
    "import re\n",
    "import glob\n",
    "import pandas as pd\n",
    "\n",
    "import correlation_data_utilities\n",
    "reload(correlation_data_utilities)"
   ]
  },
  {
   "cell_type": "code",
   "execution_count": 9,
   "metadata": {
    "collapsed": false,
    "scrolled": true
   },
   "outputs": [
    {
     "name": "stdout",
     "output_type": "stream",
     "text": [
      "loading trajectory: ./short_production.aligned.dcd\n",
      "- - - - - lsmooth_contact.contact - - - - - \n",
      "Computing contact matrix:  0.0%   0.8%   1.7%   2.6%   3.5%   4.4%   5.2%   6.1%   7.0%   7.9%   8.8%  \n",
      "                           9.6%  10.5%  11.4%  12.3%  13.2%  14.0%  14.9%  15.8%  16.7%  17.6%  18.5%  \n",
      "                          19.3%  20.2%  21.1%  22.0%  22.9%  23.7%  24.6%  25.5%  26.4%  27.3%  28.1%  \n",
      "                          29.0%  29.9%  30.8%  31.7%  32.5%  33.4%  34.3%  35.2%  36.1%  37.0%  37.8%  \n",
      "                          38.7%  39.6%  40.5%  41.4%  42.2%  43.1%  44.0%  44.9%  45.8%  46.6%  47.5%  \n",
      "                          48.4%  49.3%  50.2%  51.1%  51.9%  52.8%  53.7%  54.6%  55.5%  56.3%  57.2%  \n",
      "                          58.1%  59.0%  59.9%  60.7%  61.6%  62.5%  63.4%  64.3%  65.1%  66.0%  66.9%  \n",
      "                          67.8%  68.7%  69.6%  70.4%  71.3%  72.2%  73.1%  74.0%  74.8%  75.7%  76.6%  \n",
      "                          77.5%  78.4%  79.2%  80.1%  81.0%  81.9%  82.8%  83.7%  84.5%  85.4%  86.3%  \n",
      "                          87.2%  88.1%  88.9%  89.8%  90.7%  91.6%  92.5%  93.3%  94.2%  95.1%  96.0%  \n",
      "                          96.9%  97.7%  98.6%  99.5%  99.7%  \n",
      "Writting carma matrix format file: ./lsmooth_contact.contact\n",
      "Writting header\n",
      "Writting 454 rows:  0.0%   9.9%  19.8%  29.7%  39.6%  49.5%  59.4%  69.3%  79.2%  89.2%  99.1%  \n",
      "done\n",
      "- - - - - gsmooth_contact.contact - - - - - \n",
      "Computing contact matrix:  0.0%   0.8%   1.7%   2.6%   3.5%   4.4%   5.2%   6.1%   7.0%   7.9%   8.8%  \n",
      "                           9.6%  10.5%  11.4%  12.3%  13.2%  14.0%  14.9%  15.8%  16.7%  17.6%  18.5%  \n",
      "                          19.3%  20.2%  21.1%  22.0%  22.9%  23.7%  24.6%  25.5%  26.4%  27.3%  28.1%  \n",
      "                          29.0%  29.9%  30.8%  31.7%  32.5%  33.4%  34.3%  35.2%  36.1%  37.0%  37.8%  \n",
      "                          38.7%  39.6%  40.5%  41.4%  42.2%  43.1%  44.0%  44.9%  45.8%  46.6%  47.5%  \n",
      "                          48.4%  49.3%  50.2%  51.1%  51.9%  52.8%  53.7%  54.6%  55.5%  56.3%  57.2%  \n",
      "                          58.1%  59.0%  59.9%  60.7%  61.6%  62.5%  63.4%  64.3%  65.1%  66.0%  66.9%  \n",
      "                          67.8%  68.7%  69.6%  70.4%  71.3%  72.2%  73.1%  74.0%  74.8%  75.7%  76.6%  \n",
      "                          77.5%  78.4%  79.2%  80.1%  81.0%  81.9%  82.8%  83.7%  84.5%  85.4%  86.3%  \n",
      "                          87.2%  88.1%  88.9%  89.8%  90.7%  91.6%  92.5%  93.3%  94.2%  95.1%  96.0%  \n",
      "                          96.9%  97.7%  98.6%  99.5%  99.7%  \n",
      "Writting carma matrix format file: ./gsmooth_contact.contact\n",
      "Writting header\n",
      "Writting 454 rows:  0.0%   9.9%  19.8%  29.7%  39.6%  49.5%  59.4%  69.3%  79.2%  89.2%  99.1%  \n",
      "done\n",
      "DONE!\n"
     ]
    }
   ],
   "source": [
    "#The smoothing process requires running a rather computationally intensive pytraj command\n",
    "#and so is quite slow at the moment. This is important to keep in mind if applying to a\n",
    "#very long trajectory or very large systems.\n",
    "contactDir=\".\"\n",
    "topFileName='step3_charmm2amber.psf'\n",
    "trajFileName='short_production.aligned.dcd'\n",
    "\n",
    "resNumList=np.arange(454)+1\n",
    "resids=resNumList\n",
    "\n",
    "contactCut1=3.0\n",
    "contactCut0=6.0\n",
    "contactTypes=[\"lsmooth_contact\",\"gsmooth_contact\"]\n",
    "contactDistSmoothFuns=collections.OrderedDict({\n",
    "        \"lsmooth_contact\":lambda distArray: (\n",
    "            contactCut0-np.clip(distArray,contactCut1,contactCut0))/(contactCut0-contactCut1),\n",
    "        \"gsmooth_contact\":lambda distArray: np.exp(\n",
    "            -np.power((contactCut0-np.clip(distArray,a_max=np.inf,a_min=contactCut0))/\\\n",
    "                      ((contactCut0-contactCut1)/3.0),2.0))\n",
    "    })\n",
    "contactTimeAggFuns=collections.OrderedDict({\n",
    "        \"lsmooth_contact\":lambda timeSeries: 1.0*(np.mean(timeSeries)>.75),\n",
    "        \"gsmooth_contact\":lambda timeSeries: 1.0*(np.mean(timeSeries)>.75)\n",
    "    })\n",
    "trajFilePath='/'.join([contactDir,trajFileName])\n",
    "topPath='/'.join([contactDir,topFileName])\n",
    "print \"loading trajectory: \"+trajFilePath\n",
    "iterTraj=pt.iterload(trajFilePath,top=topPath)\n",
    "for contactType in contactTypes:\n",
    "    contactDistSmoothFun=contactDistSmoothFuns[contactType]\n",
    "    contactTimeAggFun=contactTimeAggFuns[contactType]\n",
    "    outputContactMatName='.'.join([contactType,\"contact\"])\n",
    "    for ii in np.arange(5):\n",
    "        print '-',\n",
    "    print outputContactMatName,\n",
    "    for ii in np.arange(5):\n",
    "        print '-',\n",
    "    print ''\n",
    "    outputContactMatPath='/'.join([contactDir,outputContactMatName])\n",
    "    outputContactMat=correlation_data_utilities.gen_smoothed_contact_map(\n",
    "        iterTraj,resids,\n",
    "        timeAggFun=contactTimeAggFun,\n",
    "        distSmoothFun=contactDistSmoothFun,\n",
    "        verbose=True)\n",
    "    correlation_data_utilities.write_mat_to_carma_matrix(outputContactMatPath,\n",
    "                                                         outputContactMat,verbose=True)\n",
    "    gc.collect()\n",
    "print \"DONE!\""
   ]
  },
  {
   "cell_type": "code",
   "execution_count": null,
   "metadata": {
    "collapsed": true
   },
   "outputs": [],
   "source": []
  }
 ],
 "metadata": {
  "anaconda-cloud": {},
  "kernelspec": {
   "display_name": "Python [default]",
   "language": "python",
   "name": "python2"
  },
  "language_info": {
   "codemirror_mode": {
    "name": "ipython",
    "version": 2
   },
   "file_extension": ".py",
   "mimetype": "text/x-python",
   "name": "python",
   "nbconvert_exporter": "python",
   "pygments_lexer": "ipython2",
   "version": "2.7.12"
  }
 },
 "nbformat": 4,
 "nbformat_minor": 2
}
